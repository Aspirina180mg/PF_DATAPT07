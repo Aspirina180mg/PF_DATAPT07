{
 "cells": [
  {
   "cell_type": "markdown",
   "metadata": {},
   "source": [
    "# Importaciones"
   ]
  },
  {
   "cell_type": "code",
   "execution_count": null,
   "metadata": {},
   "outputs": [],
   "source": [
    "import pandas as pd\n",
    "import os\n",
    "from textblob import TextBlob"
   ]
  },
  {
   "cell_type": "markdown",
   "metadata": {},
   "source": [
    "Creación de directorios si no existen"
   ]
  },
  {
   "cell_type": "code",
   "execution_count": null,
   "metadata": {},
   "outputs": [],
   "source": [
    "os.mkdir(\"Datawarehouse\") if not os.path.exists(\"Datawarehouse\") else None"
   ]
  },
  {
   "cell_type": "markdown",
   "metadata": {},
   "source": [
    "# Carga de dataframes"
   ]
  },
  {
   "cell_type": "markdown",
   "metadata": {},
   "source": [
    "Se realiza una carga de los dataframes exportados previamente, para acelerar el proceso de testeo, ya que los pasos anteriores requieren de un alto consumo de tiempo."
   ]
  },
  {
   "cell_type": "code",
   "execution_count": null,
   "metadata": {},
   "outputs": [],
   "source": [
    "df_restaurantes = pd.read_parquet(r'Datalake\\restaurantes.parquet')\n",
    "df_reviews = pd.read_parquet(r'Datalake\\reviews.parquet')\n",
    "df_estados = pd.read_parquet(r'Datalake\\estados.parquet')"
   ]
  },
  {
   "cell_type": "markdown",
   "metadata": {},
   "source": [
    "## Eliminación de datos duplicados según ID y restaurantes sin id_estado"
   ]
  },
  {
   "cell_type": "code",
   "execution_count": null,
   "metadata": {},
   "outputs": [],
   "source": [
    "df_restaurantes = df_restaurantes.drop_duplicates(subset=[\"id_restaurante\"], keep='last')\n",
    "df_reviews = df_reviews.drop_duplicates(subset=[\"id_resena\"], keep='last')\n",
    "df_restaurantes = df_restaurantes.dropna(subset=['id_estado'])"
   ]
  },
  {
   "cell_type": "markdown",
   "metadata": {},
   "source": [
    "# Conversión de datos por columna"
   ]
  },
  {
   "cell_type": "code",
   "execution_count": null,
   "metadata": {},
   "outputs": [],
   "source": [
    "df_restaurantes.loc[:, 'cantidad_resenas'] = df_restaurantes['cantidad_resenas'].astype('uint32')\n",
    "df_restaurantes.loc[:, 'calificacion'] = df_restaurantes['calificacion'].astype('float16')\n",
    "df_restaurantes.loc[:, 'id_estado'] = df_restaurantes['id_estado'].astype('uint8')\n",
    "df_reviews.loc[:, 'calificacion'] = df_reviews['calificacion'].astype('float16')\n",
    "df_reviews.loc[:, 'anio'] = df_reviews['anio'].astype('float16')\n",
    "df_reviews.loc[:, 'puntaje_de_sentimiento'] = df_reviews['puntaje_de_sentimiento'].astype('float16')\n",
    "df_estados.loc[:, 'id_estado'] = df_estados['id_estado'].astype('uint8')\n",
    "df_estados.loc[:, 'Population'] = df_estados['Population'].astype('uint32')"
   ]
  },
  {
   "cell_type": "markdown",
   "metadata": {},
   "source": [
    "# Ejecución de análisis de sentimiento"
   ]
  },
  {
   "cell_type": "markdown",
   "metadata": {},
   "source": [
    "Los elementos sin procesar tienen un puntaje de sentimiento = 100, los que serán almacenados temporalmente en df_analisis para ser procesados y luego se reemplazarán los valores correspondientes en df_reviews"
   ]
  },
  {
   "cell_type": "code",
   "execution_count": null,
   "metadata": {},
   "outputs": [],
   "source": [
    "#extracción de líneas a analizar\n",
    "df_analisis = df_reviews[df_reviews['puntaje_de_sentimiento'] == 100].copy()"
   ]
  },
  {
   "cell_type": "markdown",
   "metadata": {},
   "source": [
    "## Análisis de sentimiento"
   ]
  },
  {
   "cell_type": "code",
   "execution_count": null,
   "metadata": {},
   "outputs": [],
   "source": [
    "def assign_sentiment_score(text):\n",
    "    # Calcular el sentimiento usando TextBlob\n",
    "    blob = TextBlob(text)\n",
    "    sentiment_score = blob.sentiment.polarity\n",
    "    \n",
    "    # Mapear el sentimiento a una escala de 0 a 10\n",
    "    # -1 <= sentiment_score <= 1\n",
    "    # 0 <= mapped_score <= 10\n",
    "    mapped_score = (sentiment_score + 1) * 5\n",
    "    \n",
    "    # Redondear el valor del sentimiento\n",
    "    rounded_score = round(mapped_score, 1)\n",
    "    \n",
    "    return rounded_score\n",
    "\n",
    "# Aplicar la función a la columna 'texto' y crear una nueva columna 'puntaje_de_sentimiento'\n",
    "df_analisis['puntaje_de_sentimiento'] = df_analisis['texto'].apply(assign_sentiment_score)\n",
    "\n",
    "# Verificar los resultados\n",
    "print(df_analisis[['texto', 'puntaje_de_sentimiento']].head())"
   ]
  },
  {
   "cell_type": "markdown",
   "metadata": {},
   "source": [
    "## Actualización de datos post-análisis"
   ]
  },
  {
   "cell_type": "code",
   "execution_count": null,
   "metadata": {},
   "outputs": [],
   "source": [
    "df_reviews.loc[df_reviews['id_resena'].isin(df_analisis['id_resena']), 'puntaje_de_sentimiento'] = df_analisis['puntaje_de_sentimiento']"
   ]
  },
  {
   "cell_type": "code",
   "execution_count": null,
   "metadata": {},
   "outputs": [],
   "source": [
    "df_reviews.head()"
   ]
  },
  {
   "cell_type": "code",
   "execution_count": null,
   "metadata": {},
   "outputs": [],
   "source": [
    "# Debug\n",
    "df_reviews['puntaje_de_sentimiento'] = 100"
   ]
  },
  {
   "cell_type": "code",
   "execution_count": null,
   "metadata": {},
   "outputs": [],
   "source": [
    "df_reviews.head()"
   ]
  },
  {
   "cell_type": "code",
   "execution_count": null,
   "metadata": {},
   "outputs": [],
   "source": [
    "df_restaurantes.to_parquet(r\"Datawarehouse\\restaurantes.parquet\")\n",
    "df_reviews.to_parquet(r\"Datawarehouse\\reviews.parquet\")\n",
    "df_estados.to_parquet(r\"Datawarehouse\\estados.parquet\")"
   ]
  }
 ],
 "metadata": {
  "kernelspec": {
   "display_name": "Python 3",
   "language": "python",
   "name": "python3"
  },
  "language_info": {
   "codemirror_mode": {
    "name": "ipython",
    "version": 3
   },
   "file_extension": ".py",
   "mimetype": "text/x-python",
   "name": "python",
   "nbconvert_exporter": "python",
   "pygments_lexer": "ipython3",
   "version": "3.11.9"
  }
 },
 "nbformat": 4,
 "nbformat_minor": 2
}

{
 "cells": [
  {
   "cell_type": "markdown",
   "metadata": {},
   "source": [
    "# Importaciones"
   ]
  },
  {
   "cell_type": "code",
   "execution_count": 157,
   "metadata": {},
   "outputs": [],
   "source": [
    "import pandas as pd\n",
    "import os"
   ]
  },
  {
   "cell_type": "markdown",
   "metadata": {},
   "source": [
    "Creación de directorios si no existen"
   ]
  },
  {
   "cell_type": "code",
   "execution_count": 158,
   "metadata": {},
   "outputs": [],
   "source": [
    "os.mkdir(\"Datawarehouse\") if not os.path.exists(\"Datawarehouse\") else None"
   ]
  },
  {
   "cell_type": "markdown",
   "metadata": {},
   "source": [
    "# Carga de dataframes"
   ]
  },
  {
   "cell_type": "markdown",
   "metadata": {},
   "source": [
    "Se realiza una carga de los dataframes exportados previamente, para acelerar el proceso de testeo, ya que los pasos anteriores requieren de un alto consumo de tiempo."
   ]
  },
  {
   "cell_type": "code",
   "execution_count": 159,
   "metadata": {},
   "outputs": [],
   "source": [
    "df_restaurantes = pd.read_parquet(r'Datalake\\restaurantes.parquet')\n",
    "df_reviews = pd.read_parquet(r'Datalake\\reviews.parquet')\n",
    "df_estados = pd.read_parquet(r'Datalake\\estados.parquet')"
   ]
  },
  {
   "cell_type": "markdown",
   "metadata": {},
   "source": [
    "## Eliminación de datos duplicados según ID y restaurantes sin id_estado"
   ]
  },
  {
   "cell_type": "code",
   "execution_count": 160,
   "metadata": {},
   "outputs": [],
   "source": [
    "df_restaurantes = df_restaurantes.drop_duplicates(subset=[\"id_restaurante\"], keep='last')\n",
    "df_reviews = df_reviews.drop_duplicates(subset=[\"id_resena\"], keep='last')\n",
    "df_restaurantes = df_restaurantes.dropna(subset=['id_estado'])"
   ]
  },
  {
   "cell_type": "markdown",
   "metadata": {},
   "source": [
    "# Conversión de datos por columna"
   ]
  },
  {
   "cell_type": "code",
   "execution_count": 161,
   "metadata": {},
   "outputs": [],
   "source": [
    "df_restaurantes.loc[:, 'cantidad_resenas'] = df_restaurantes['cantidad_resenas'].astype('uint32')\n",
    "df_restaurantes.loc[:, 'calificacion'] = df_restaurantes['calificacion'].astype('float16')\n",
    "df_restaurantes.loc[:, 'id_estado'] = df_restaurantes['id_estado'].astype('uint8')\n",
    "df_reviews.loc[:, 'calificacion'] = df_reviews['calificacion'].astype('float16')\n",
    "df_reviews.loc[:, 'anio'] = df_reviews['anio'].astype('float16')\n",
    "df_reviews.loc[:, 'puntaje_de_sentimiento'] = df_reviews['puntaje_de_sentimiento'].astype('float16')\n",
    "df_estados.loc[:, 'id_estado'] = df_estados['id_estado'].astype('uint8')\n",
    "df_estados.loc[:, 'Population'] = df_estados['Population'].astype('uint32')"
   ]
  },
  {
   "cell_type": "markdown",
   "metadata": {},
   "source": [
    "# Ejecución de análisis de sentimiento"
   ]
  },
  {
   "cell_type": "markdown",
   "metadata": {},
   "source": [
    "Los elementos sin procesar tienen un puntaje de sentimiento = 100, los que serán almacenados temporalmente en df_analisis para ser procesados y luego se reemplazarán los valores correspondientes en df_reviews"
   ]
  },
  {
   "cell_type": "code",
   "execution_count": 162,
   "metadata": {},
   "outputs": [
    {
     "data": {
      "text/html": [
       "<div>\n",
       "<style scoped>\n",
       "    .dataframe tbody tr th:only-of-type {\n",
       "        vertical-align: middle;\n",
       "    }\n",
       "\n",
       "    .dataframe tbody tr th {\n",
       "        vertical-align: top;\n",
       "    }\n",
       "\n",
       "    .dataframe thead th {\n",
       "        text-align: right;\n",
       "    }\n",
       "</style>\n",
       "<table border=\"1\" class=\"dataframe\">\n",
       "  <thead>\n",
       "    <tr style=\"text-align: right;\">\n",
       "      <th></th>\n",
       "      <th>id_usuario</th>\n",
       "      <th>id_restaurante</th>\n",
       "      <th>id_resena</th>\n",
       "      <th>calificacion</th>\n",
       "      <th>anio</th>\n",
       "      <th>puntaje_de_sentimiento</th>\n",
       "      <th>texto</th>\n",
       "    </tr>\n",
       "  </thead>\n",
       "  <tbody>\n",
       "    <tr>\n",
       "      <th>0</th>\n",
       "      <td>RreNy--tOmXMl1en0wiBOg</td>\n",
       "      <td>cPepkJeRMtHapc_b2Oe_dw</td>\n",
       "      <td>lUUhg8ltDsUZ9h0xnwY4Dg</td>\n",
       "      <td>4</td>\n",
       "      <td>2018</td>\n",
       "      <td>0</td>\n",
       "      <td>None</td>\n",
       "    </tr>\n",
       "    <tr>\n",
       "      <th>1</th>\n",
       "      <td>OuatwND396ZQxm2zK8WlUQ</td>\n",
       "      <td>jNL5KUPz2-tHUJM__ysSaw</td>\n",
       "      <td>TcCcHzc3L6Aboq3DteEfZA</td>\n",
       "      <td>1</td>\n",
       "      <td>2014</td>\n",
       "      <td>0</td>\n",
       "      <td>None</td>\n",
       "    </tr>\n",
       "    <tr>\n",
       "      <th>5</th>\n",
       "      <td>07aVWNhBhpwqW3MdqoKDKQ</td>\n",
       "      <td>jLerIZFpe25jOUf722qzBA</td>\n",
       "      <td>zRIH5eDA2GbynjZPrk8dDg</td>\n",
       "      <td>3</td>\n",
       "      <td>2011</td>\n",
       "      <td>0</td>\n",
       "      <td>None</td>\n",
       "    </tr>\n",
       "    <tr>\n",
       "      <th>9</th>\n",
       "      <td>Nsm9V1s8JQyuYsShtiwplg</td>\n",
       "      <td>eUO4QA6nL2XdCeWuD7tkww</td>\n",
       "      <td>UrGHZY5-pDs4uOP8SFPg-w</td>\n",
       "      <td>5</td>\n",
       "      <td>2017</td>\n",
       "      <td>0</td>\n",
       "      <td>None</td>\n",
       "    </tr>\n",
       "    <tr>\n",
       "      <th>16</th>\n",
       "      <td>5C_C7bd6rZYgiP4puQxESQ</td>\n",
       "      <td>0Kn5W22UmxOqPj2cjouFNA</td>\n",
       "      <td>Zb_27vX8weaYyDn-_2ZhVA</td>\n",
       "      <td>1</td>\n",
       "      <td>2015</td>\n",
       "      <td>0</td>\n",
       "      <td>None</td>\n",
       "    </tr>\n",
       "  </tbody>\n",
       "</table>\n",
       "</div>"
      ],
      "text/plain": [
       "                id_usuario          id_restaurante               id_resena  \\\n",
       "0   RreNy--tOmXMl1en0wiBOg  cPepkJeRMtHapc_b2Oe_dw  lUUhg8ltDsUZ9h0xnwY4Dg   \n",
       "1   OuatwND396ZQxm2zK8WlUQ  jNL5KUPz2-tHUJM__ysSaw  TcCcHzc3L6Aboq3DteEfZA   \n",
       "5   07aVWNhBhpwqW3MdqoKDKQ  jLerIZFpe25jOUf722qzBA  zRIH5eDA2GbynjZPrk8dDg   \n",
       "9   Nsm9V1s8JQyuYsShtiwplg  eUO4QA6nL2XdCeWuD7tkww  UrGHZY5-pDs4uOP8SFPg-w   \n",
       "16  5C_C7bd6rZYgiP4puQxESQ  0Kn5W22UmxOqPj2cjouFNA  Zb_27vX8weaYyDn-_2ZhVA   \n",
       "\n",
       "    calificacion  anio  puntaje_de_sentimiento texto  \n",
       "0              4  2018                       0  None  \n",
       "1              1  2014                       0  None  \n",
       "5              3  2011                       0  None  \n",
       "9              5  2017                       0  None  \n",
       "16             1  2015                       0  None  "
      ]
     },
     "execution_count": 162,
     "metadata": {},
     "output_type": "execute_result"
    }
   ],
   "source": [
    "df_reviews.head()"
   ]
  },
  {
   "cell_type": "code",
   "execution_count": 163,
   "metadata": {},
   "outputs": [],
   "source": [
    "#extracción de líneas a analizar\n",
    "df_analisis = df_reviews[df_reviews['puntaje_de_sentimiento'] == 100].copy()"
   ]
  },
  {
   "cell_type": "markdown",
   "metadata": {},
   "source": [
    "## Análisis de sentimiento"
   ]
  },
  {
   "cell_type": "code",
   "execution_count": 164,
   "metadata": {},
   "outputs": [
    {
     "data": {
      "text/html": [
       "<div>\n",
       "<style scoped>\n",
       "    .dataframe tbody tr th:only-of-type {\n",
       "        vertical-align: middle;\n",
       "    }\n",
       "\n",
       "    .dataframe tbody tr th {\n",
       "        vertical-align: top;\n",
       "    }\n",
       "\n",
       "    .dataframe thead th {\n",
       "        text-align: right;\n",
       "    }\n",
       "</style>\n",
       "<table border=\"1\" class=\"dataframe\">\n",
       "  <thead>\n",
       "    <tr style=\"text-align: right;\">\n",
       "      <th></th>\n",
       "      <th>id_usuario</th>\n",
       "      <th>id_restaurante</th>\n",
       "      <th>id_resena</th>\n",
       "      <th>calificacion</th>\n",
       "      <th>anio</th>\n",
       "      <th>puntaje_de_sentimiento</th>\n",
       "      <th>texto</th>\n",
       "    </tr>\n",
       "  </thead>\n",
       "  <tbody>\n",
       "    <tr>\n",
       "      <th>0</th>\n",
       "      <td>RreNy--tOmXMl1en0wiBOg</td>\n",
       "      <td>cPepkJeRMtHapc_b2Oe_dw</td>\n",
       "      <td>lUUhg8ltDsUZ9h0xnwY4Dg</td>\n",
       "      <td>4</td>\n",
       "      <td>2018</td>\n",
       "      <td>100</td>\n",
       "      <td>None</td>\n",
       "    </tr>\n",
       "  </tbody>\n",
       "</table>\n",
       "</div>"
      ],
      "text/plain": [
       "               id_usuario          id_restaurante               id_resena  \\\n",
       "0  RreNy--tOmXMl1en0wiBOg  cPepkJeRMtHapc_b2Oe_dw  lUUhg8ltDsUZ9h0xnwY4Dg   \n",
       "\n",
       "   calificacion  anio  puntaje_de_sentimiento texto  \n",
       "0             4  2018                     100  None  "
      ]
     },
     "execution_count": 164,
     "metadata": {},
     "output_type": "execute_result"
    }
   ],
   "source": [
    "# acá tiene que ir e análisis de sentimiento, elimina éste código inútil de prueba\n",
    "df_analisis['puntaje_de_sentimiento'] = 100\n",
    "df_analisis.head(1)"
   ]
  },
  {
   "cell_type": "markdown",
   "metadata": {},
   "source": [
    "## Actualización de datos post-análisis"
   ]
  },
  {
   "cell_type": "code",
   "execution_count": 165,
   "metadata": {},
   "outputs": [],
   "source": [
    "df_reviews.loc[df_reviews['id_resena'].isin(df_analisis['id_resena']), 'puntaje_de_sentimiento'] = df_analisis['puntaje_de_sentimiento']"
   ]
  },
  {
   "cell_type": "code",
   "execution_count": 166,
   "metadata": {},
   "outputs": [],
   "source": [
    "df_restaurantes.to_parquet(r\"Datawarehouse\\restaurantes.parquet\")\n",
    "df_reviews.to_parquet(r\"Datawarehouse\\reviews.parquet\")\n",
    "df_estados.to_parquet(r\"Datawarehouse\\estados.parquet\")"
   ]
  }
 ],
 "metadata": {
  "kernelspec": {
   "display_name": "Python 3",
   "language": "python",
   "name": "python3"
  },
  "language_info": {
   "codemirror_mode": {
    "name": "ipython",
    "version": 3
   },
   "file_extension": ".py",
   "mimetype": "text/x-python",
   "name": "python",
   "nbconvert_exporter": "python",
   "pygments_lexer": "ipython3",
   "version": "3.11.9"
  }
 },
 "nbformat": 4,
 "nbformat_minor": 2
}

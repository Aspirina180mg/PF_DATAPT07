{
    "cells": [
        {
            "cell_type": "markdown",
            "metadata": {},
            "source": [
                "# Extracción de datos Datasets Google Maps y YELP\n"
            ]
        },
        {
            "cell_type": "markdown",
            "metadata": {},
            "source": [
                "### Importaciones\n"
            ]
        },
        {
            "cell_type": "code",
            "execution_count": 1,
            "metadata": {},
            "outputs": [],
            "source": [
                "import pandas as pd\n",
                "import numpy as np\n",
                "import json\n",
                "import datetime\n",
                "import os\n",
                "import pyarrow.parquet as pq\n",
                "from datetime import datetime"
            ]
        },
        {
            "cell_type": "markdown",
            "metadata": {},
            "source": [
                "### Utiles\n"
            ]
        },
        {
            "cell_type": "code",
            "execution_count": 2,
            "metadata": {},
            "outputs": [],
            "source": [
                "state_abreviations = [\n",
                "    \"AL\",\"AK\",\"AZ\",\"AR\",\"CA\",\"CO\",\"CT\",\"DE\",\"FL\",\"GA\",\"HI\",\"ID\",\"IL\",\"IN\",\"IA\",\n",
                "    \"KS\",\"KY\",\"LA\",\"ME\",\"MD\",\"MA\",\"MI\",\"MN\",\"MS\",\"MO\",\"MT\",\"NE\",\"NV\",\"NH\",\"NJ\",\n",
                "    \"NM\",\"NY\",\"NC\",\"ND\",\"OH\",\"OK\",\"OR\",\"PA\",\"RI\",\"SC\",\"SD\",\"TN\",\"TX\",\"UT\",\"VT\",\n",
                "    \"VA\",\"WA\",\"WV\",\"WI\",\"WY\",\n",
                "]\n",
                "\n",
                "state_dictionary = {\n",
                "    \"AL\": \"Alabama\",\"AK\": \"Alaska\",\"AZ\": \"Arizona\",\"AR\": \"Arkansas\",\n",
                "    \"CA\": \"California\",\"CO\": \"Colorado\",\"CT\": \"Connecticut\",\"DE\": \"Delaware\",\n",
                "    \"FL\": \"Florida\",\"GA\": \"Georgia\",\"HI\": \"Hawaii\",\"ID\": \"Idaho\",\n",
                "    \"IL\": \"Illinois\",\"IN\": \"Indiana\",\"IA\": \"Iowa\",\"KS\": \"Kansas\",\n",
                "    \"KY\": \"Kentucky\",\"LA\": \"Louisiana\",\"ME\": \"Maine\",\"MD\": \"Maryland\",\n",
                "    \"MA\": \"Massachusetts\",\"MI\": \"Michigan\",\"MN\": \"Minnesota\",\n",
                "    \"MS\": \"Mississippi\",\"MO\": \"Missouri\",\"MT\": \"Montana\",\"NE\": \"Nebraska\",\n",
                "    \"NV\": \"Nevada\",\"NH\": \"New Hampshire\",\"NJ\": \"New Jersey\",\"NM\": \"New Mexico\",\n",
                "    \"NY\": \"New York\",\"NC\": \"North Carolina\",\"ND\": \"North Dakota\",\"OH\": \"Ohio\",\n",
                "    \"OK\": \"Oklahoma\",\"OR\": \"Oregon\",\"PA\": \"Pennsylvania\",\"RI\": \"Rhode Island\",\n",
                "    \"SC\": \"South Carolina\",\"SD\": \"South Dakota\",\"TN\": \"Tennessee\",\n",
                "    \"TX\": \"Texas\",\"UT\": \"Utah\",\"VT\": \"Vermont\",\"VA\": \"Virginia\",\n",
                "    \"WA\": \"Washington\",\"WV\": \"West Virginia\",\"WI\": \"Wisconsin\",\"WY\": \"Wyoming\",\n",
                "}"
            ]
        },
        {
            "cell_type": "code",
            "execution_count": null,
            "metadata": {},
            "outputs": [],
            "source": [
                "import os\n",
                "\n",
                "generated_dir = \"Generated\"\n",
                "\n",
                "os.mkdir(generated_dir)\n",
                "os.chdir(generated_dir)\n",
                "os.mkdir(\"Google\")\n",
                "os.mkdir(\"Yelp\")\n",
                "os.chdir(\"../\")\n",
                "\n",
                "os.getcwd()"
            ]
        },
        {
            "cell_type": "markdown",
            "metadata": {},
            "source": [
                "# 1. Extracción con los datasets de Google Maps\n"
            ]
        },
        {
            "cell_type": "markdown",
            "metadata": {},
            "source": [
                "## 1.1 Metada de Sitios\n"
            ]
        },
        {
            "cell_type": "markdown",
            "metadata": {},
            "source": [
                "Recorremos todo el directorio, lo hacemos archivo por archivo y línea por línea ya que no se puede abrir directamente los archivos por su dimensión y porque no están en formato de array, sino están constituidos en un registro por lìnea.\n",
                "Durante la lectura filtramos los que incluyan <code>Restaurant</code> en el campo de categoría, para alivianar el dataset final.\n"
            ]
        },
        {
            "cell_type": "code",
            "execution_count": null,
            "metadata": {},
            "outputs": [],
            "source": [
                "# Tiempo de Demora Medio: 51 segundos.\n",
                "lineas_json = []\n",
                "\n",
                "# Son 11 archivos con un ordinal, del 1 al 11\n",
                "for i in range(1, 12):\n",
                "    path = f\"Datasets/Google Maps/metadata-sitios/{i}.json\"\n",
                "    with open(path, \"r\") as file:\n",
                "        for l in file:\n",
                "            try:\n",
                "                linea_j = json.loads(l)\n",
                "                if \"restaurant\" in \" \".join(linea_j[\"category\"]).lower():\n",
                "                    lineas_json.append(linea_j)\n",
                "            except:\n",
                "                pass\n",
                "\n",
                "df = pd.DataFrame(lineas_json)\n",
                "\n",
                "df.head(3)"
            ]
        },
        {
            "cell_type": "code",
            "execution_count": null,
            "metadata": {},
            "outputs": [],
            "source": [
                "df.loc[5, 'address']"
            ]
        },
        {
            "cell_type": "markdown",
            "metadata": {},
            "source": [
                "Exportamos a formato Parquet\n"
            ]
        },
        {
            "cell_type": "code",
            "execution_count": null,
            "metadata": {},
            "outputs": [],
            "source": [
                "df.to_parquet(r\"Generated\\Google\\metada_sitios.parquet\")"
            ]
        },
        {
            "cell_type": "markdown",
            "metadata": {},
            "source": [
                "Tamaño Directorio <code>metadata-sitios</code>: 2.76 Gb\n",
                "\n",
                "Tamaño Archivo <code>metada_sitios.parquet</code>: 60.43 Mb\n"
            ]
        },
        {
            "cell_type": "code",
            "execution_count": null,
            "metadata": {},
            "outputs": [],
            "source": [
                "df.info()"
            ]
        },
        {
            "cell_type": "markdown",
            "metadata": {},
            "source": [
                "Dimensiones: 212.014 filas x 15 Columnas\n"
            ]
        },
        {
            "cell_type": "markdown",
            "metadata": {},
            "source": [
                "## 1.1.1 Obtención de información de Estados\n"
            ]
        },
        {
            "cell_type": "markdown",
            "metadata": {},
            "source": [
                "En base al campo <code>Address</code> obtenemos el estado donde se encuentra el negocio. Nos servirá para luego seleccionar los estados con más restaurantes.\n"
            ]
        },
        {
            "cell_type": "code",
            "execution_count": null,
            "metadata": {},
            "outputs": [],
            "source": [
                "def get_state_ab(st):\n",
                "    try:\n",
                "        state = st.split(\", \")[-1].split(\" \")[0]\n",
                "        if state in state_abreviations:\n",
                "            return state\n",
                "        else:\n",
                "            return np.nan\n",
                "    except:\n",
                "        return np.nan\n",
                "\n",
                "\n",
                "df[\"state_ab\"] = df[\"address\"].apply(get_state_ab)"
            ]
        },
        {
            "cell_type": "markdown",
            "metadata": {},
            "source": [
                "De esta manera conseguimos el top 5 de los estados con más restaurantes\n"
            ]
        },
        {
            "cell_type": "code",
            "execution_count": null,
            "metadata": {},
            "outputs": [],
            "source": [
                "top_5 = df[\"state_ab\"].value_counts().head(5).index.to_list()"
            ]
        },
        {
            "cell_type": "code",
            "execution_count": null,
            "metadata": {},
            "outputs": [],
            "source": [
                "top_5"
            ]
        },
        {
            "cell_type": "markdown",
            "metadata": {},
            "source": [
                "Completamos el campo estado que es más descriptivo\n"
            ]
        },
        {
            "cell_type": "code",
            "execution_count": null,
            "metadata": {},
            "outputs": [],
            "source": [
                "df[\"us_state\"] = df[\"state_ab\"].map(state_dictionary)"
            ]
        },
        {
            "cell_type": "code",
            "execution_count": null,
            "metadata": {},
            "outputs": [],
            "source": [
                "df['us_state'].head(5)"
            ]
        },
        {
            "cell_type": "markdown",
            "metadata": {},
            "source": [
                "Obtenemos un arreglo de URLs de los archivos correspondientes para cada estado del top 5, con el fin de extraer los datos en un bucle.\n"
            ]
        },
        {
            "cell_type": "code",
            "execution_count": null,
            "metadata": {},
            "outputs": [],
            "source": [
                "top_5_url = [f\"Datasets/Google Maps/reviews-estados/review-{state_dictionary[i].replace(' ', '_')}/\" for i in top_5]\n",
                "\n",
                "top_5_url\n"
            ]
        },
        {
            "cell_type": "markdown",
            "metadata": {},
            "source": [
                "Creamos un diccionario con la cantidad de archivos por cada directorio de estados, con el fin de utilizarlo en un bucle en la extracción de datos.\n"
            ]
        },
        {
            "cell_type": "code",
            "execution_count": null,
            "metadata": {},
            "outputs": [],
            "source": [
                "cantidad_archivos = {}\n",
                "\n",
                "for i in top_5_url:\n",
                "    for j in os.walk(i):\n",
                "        cantidad_archivos[i] = len(j[2])\n",
                "\n",
                "cantidad_archivos"
            ]
        },
        {
            "cell_type": "markdown",
            "metadata": {},
            "source": [
                "Comprobación\n"
            ]
        },
        {
            "cell_type": "code",
            "execution_count": null,
            "metadata": {},
            "outputs": [],
            "source": [
                "for i in os.walk('Datasets/Google Maps/reviews-estados/review-Pennsylvania'):\n",
                "    print(len(i[2]))"
            ]
        },
        {
            "cell_type": "code",
            "execution_count": null,
            "metadata": {},
            "outputs": [],
            "source": [
                "cantidad_archivos['Datasets/Google Maps/reviews-estados/review-Pennsylvania/']"
            ]
        },
        {
            "cell_type": "markdown",
            "metadata": {},
            "source": [
                "## 1.2 Reviews Estados\n"
            ]
        },
        {
            "cell_type": "markdown",
            "metadata": {},
            "source": [
                "Ya con los estados elegidos estamos en condiciones de ingestar los datos de las carpetas correspondientes dentro del directorio <code>reviews-estados</code>.\n",
                "Es información masiva lo que genera un archivo de grandes dimensiones, sin embargo previamente filtramos por el parámetro de año <code>2017-2019</code> valiéndonos del campo <code>time</code>, que tiene es un <code>timestamp</code>, pero con 3 digitos más que el usado por <code>datetime</code> de Python. Le agregamos el campo <code>Estado</code> que es más descriptivo.\n"
            ]
        },
        {
            "cell_type": "code",
            "execution_count": null,
            "metadata": {},
            "outputs": [],
            "source": [
                "### Demora 7 minutos y 40 segundos, 11 minutos, varía\n",
                "\n",
                "lineas_json_revs_google = []\n",
                "\n",
                "for i in top_5_url:\n",
                "    count = 0\n",
                "    for c in range(1, cantidad_archivos[i] + 1):\n",
                "        with open(str(i) + str(c) + \".json\", \"r\", encoding=\"utf-8\") as f:\n",
                "            for s in f:\n",
                "                linea = json.loads(s)\n",
                "                linea[\"anio\"] = datetime.datetime.fromtimestamp(\n",
                "                    linea[\"time\"] / 1000\n",
                "                ).year\n",
                "                linea[\"estado\"] = i.split(\"-\")[-1][:-1]\n",
                "\n",
                "                if linea[\"anio\"] in [2017, 2018, 2019]:\n",
                "                    lineas_json_revs_google.append(linea)\n",
                "\n",
                "df_revs_google = pd.DataFrame(lineas_json_revs_google)\n",
                "\n",
                "df_revs_google.head(3)"
            ]
        },
        {
            "cell_type": "code",
            "execution_count": null,
            "metadata": {},
            "outputs": [],
            "source": [
                "merge_site_reviews = pd.merge(df_revs_google, df, left_on=\"gmap_id\", right_on=\"gmap_id\")"
            ]
        },
        {
            "cell_type": "code",
            "execution_count": null,
            "metadata": {},
            "outputs": [],
            "source": [
                "merge_site_reviews"
            ]
        },
        {
            "cell_type": "code",
            "execution_count": null,
            "metadata": {},
            "outputs": [],
            "source": [
                "merge_site_reviews.to_parquet(r\"Generated\\Google\\merge_site_reviews.parquet\")"
            ]
        },
        {
            "cell_type": "code",
            "execution_count": null,
            "metadata": {},
            "outputs": [],
            "source": [
                "df_revs_google.to_parquet(r\"Generated\\Google\\reviews-estados.parquet\")"
            ]
        },
        {
            "cell_type": "markdown",
            "metadata": {},
            "source": [
                "Tamaño archivo: 760 Mb\n",
                "\n",
                "Tamaño dataset: 24.3 Gb\n"
            ]
        },
        {
            "cell_type": "code",
            "execution_count": null,
            "metadata": {},
            "outputs": [],
            "source": [
                "df_revs_google.info()"
            ]
        },
        {
            "cell_type": "markdown",
            "metadata": {},
            "source": [
                "Tamaño 8.339.179 filas x 10 Columnas.\n"
            ]
        },
        {
            "cell_type": "markdown",
            "metadata": {},
            "source": [
                "# 2. Extracción de los Dataset de YELP\n"
            ]
        },
        {
            "cell_type": "markdown",
            "metadata": {},
            "source": [
                "### 2.1 Business\n"
            ]
        },
        {
            "cell_type": "markdown",
            "metadata": {},
            "source": [
                "Contiene los datos de las entidades negocios de Yelp, a un primer vistazo tiene las columnas duplicadas, por lo que hay que hacer un recorte, ya que la segunda mitad tiene datos vacíos en su inmensa mayoría.\n"
            ]
        },
        {
            "cell_type": "code",
            "execution_count": null,
            "metadata": {},
            "outputs": [],
            "source": [
                "url_business = r\"Datasets\\Yelp\\business.pkl\"\n",
                "\n",
                "df_business = pd.read_pickle(url_business)\n",
                "\n",
                "df_business = df_business.iloc[:, :-14]"
            ]
        },
        {
            "cell_type": "code",
            "execution_count": null,
            "metadata": {},
            "outputs": [],
            "source": [
                "df_business.sample(3)"
            ]
        },
        {
            "cell_type": "code",
            "execution_count": null,
            "metadata": {},
            "outputs": [],
            "source": [
                "df_business.shape"
            ]
        },
        {
            "cell_type": "markdown",
            "metadata": {},
            "source": [
                "Luego con la ayuda del campo <code>state</code> filtramos los negocios que se encuentran en los estados seleccionados en nuestro análisis.\n"
            ]
        },
        {
            "cell_type": "code",
            "execution_count": null,
            "metadata": {},
            "outputs": [],
            "source": [
                "df_business = df_business[df_business.state.isin(top_5)]"
            ]
        },
        {
            "cell_type": "code",
            "execution_count": null,
            "metadata": {},
            "outputs": [],
            "source": [
                "df_business.info()"
            ]
        },
        {
            "cell_type": "markdown",
            "metadata": {},
            "source": [
                "Seguimos filtrando a través del campo <code>categories</code>, para obtener los negocios que son restaurantes.\n"
            ]
        },
        {
            "cell_type": "code",
            "execution_count": null,
            "metadata": {},
            "outputs": [],
            "source": [
                "def is_restaurant(st):\n",
                "    try:\n",
                "        test = \"\".join(st).lower()\n",
                "        return \"restaurant\" in test\n",
                "    except:\n",
                "        return False\n",
                "\n",
                "\n",
                "df_business = df_business[df_business[\"categories\"].apply(is_restaurant)]"
            ]
        },
        {
            "cell_type": "code",
            "execution_count": null,
            "metadata": {},
            "outputs": [],
            "source": [
                "df_business.info()"
            ]
        },
        {
            "cell_type": "code",
            "execution_count": null,
            "metadata": {},
            "outputs": [],
            "source": [
                "df_business.to_parquet(r\"Generated\\Yelp\\bussines.parquet\")"
            ]
        },
        {
            "cell_type": "markdown",
            "metadata": {},
            "source": [
                "### 2.2 Checkin\n"
            ]
        },
        {
            "cell_type": "code",
            "execution_count": null,
            "metadata": {},
            "outputs": [],
            "source": [
                "lineas_json = []\n",
                "path_checkin = r\"Datasets\\Yelp\\checkin.json\"\n",
                "with open(path_checkin, \"r\", encoding=\"utf-8\") as file:\n",
                "    for l in file:\n",
                "        try:\n",
                "            linea_j = json.loads(l)\n",
                "            anio = linea_j[\"date\"][:4]\n",
                "            # if 'restaurant' in \" \".join(linea_j['category']).lower():\n",
                "            if anio in [\"2017\", \"2018\", \"2019\"]:\n",
                "                lineas_json.append(linea_j)\n",
                "        except:\n",
                "            pass\n",
                "\n",
                "df_checkin = pd.DataFrame(lineas_json)"
            ]
        },
        {
            "cell_type": "code",
            "execution_count": null,
            "metadata": {},
            "outputs": [],
            "source": [
                "df_checkin"
            ]
        },
        {
            "cell_type": "code",
            "execution_count": null,
            "metadata": {},
            "outputs": [],
            "source": [
                "merge_business_checkin = pd.merge(\n",
                "    df_business, df_checkin, left_on=\"business_id\", right_on=\"business_id\"\n",
                ")"
            ]
        },
        {
            "cell_type": "code",
            "execution_count": null,
            "metadata": {},
            "outputs": [],
            "source": [
                "merge_business_checkin.info()"
            ]
        },
        {
            "cell_type": "code",
            "execution_count": null,
            "metadata": {},
            "outputs": [],
            "source": [
                "df_checkin.to_parquet(r\"Generated\\Yelp\\checkin.parquet\")\n",
                "merge_business_checkin.to_parquet(r\"Generated\\YELP\\business_checkin.parquet\")"
            ]
        },
        {
            "cell_type": "markdown",
            "metadata": {},
            "source": [
                "### 2.3 Tips\n"
            ]
        },
        {
            "cell_type": "markdown",
            "metadata": {},
            "source": [
                "Realizamos la extracción de los datos y filtramos por año según nuestro análisis.\n"
            ]
        },
        {
            "cell_type": "code",
            "execution_count": null,
            "metadata": {},
            "outputs": [],
            "source": [
                "lineas_json = []\n",
                "path_tip = r\"Datasets\\Yelp\\tip.json\"\n",
                "with open(path_tip, \"r\", encoding=\"utf-8\") as file:\n",
                "    for l in file:\n",
                "        try:\n",
                "            linea_j = json.loads(l)\n",
                "            anio = linea_j[\"date\"][:4]\n",
                "            if anio in [\"2017\", \"2018\", \"2019\"]:\n",
                "                lineas_json.append(linea_j)\n",
                "        except:\n",
                "            pass\n",
                "\n",
                "df_tip = pd.DataFrame(lineas_json)"
            ]
        },
        {
            "cell_type": "code",
            "execution_count": null,
            "metadata": {},
            "outputs": [],
            "source": [
                "df_tip.sample(5)"
            ]
        },
        {
            "cell_type": "code",
            "execution_count": null,
            "metadata": {},
            "outputs": [],
            "source": [
                "df_tip.to_parquet(r\"Generated\\Yelp\\tip.parquet\")"
            ]
        },
        {
            "cell_type": "markdown",
            "metadata": {},
            "source": [
                "Unimos el el dataframe de tips con el de negocios\n"
            ]
        },
        {
            "cell_type": "code",
            "execution_count": null,
            "metadata": {},
            "outputs": [],
            "source": [
                "tips_merged = pd.merge(\n",
                "    df_tip, df_business, left_on=\"business_id\", right_on=\"business_id\"\n",
                ")"
            ]
        },
        {
            "cell_type": "code",
            "execution_count": null,
            "metadata": {},
            "outputs": [],
            "source": [
                "tips_merged.sort_values(\"business_id\").head(3)"
            ]
        },
        {
            "cell_type": "code",
            "execution_count": null,
            "metadata": {},
            "outputs": [],
            "source": [
                "tips_merged.to_parquet(r\"Generated\\Yelp\\business_tip.parquet\")"
            ]
        },
        {
            "cell_type": "markdown",
            "metadata": {},
            "source": [
                "### 2.4 Review\n"
            ]
        },
        {
            "cell_type": "code",
            "execution_count": null,
            "metadata": {},
            "outputs": [],
            "source": [
                "df_reviews_url = r\"Datasets\\Yelp\\review.json\""
            ]
        },
        {
            "cell_type": "markdown",
            "metadata": {},
            "source": [
                "Usamos el mismo método de linea por linea, y en el proceso filtramos por año y por las reseñas que han sido votadas como útiles.\n"
            ]
        },
        {
            "cell_type": "code",
            "execution_count": null,
            "metadata": {},
            "outputs": [],
            "source": [
                "# 44 segundos\n",
                "\n",
                "lineas_json_review = []\n",
                "\n",
                "with open(df_reviews_url, \"r\", encoding=\"utf-8\") as f:\n",
                "    count = 0\n",
                "    for i in f:\n",
                "        linea = json.loads(i)\n",
                "        anio = linea[\"date\"][:4]\n",
                "        if anio in [\"2017\", \"2018\", \"2019\"] and linea[\"useful\"] == 1:\n",
                "            lineas_json_review.append(linea)\n",
                "\n",
                "\n",
                "df_reviews = pd.DataFrame(lineas_json_review)"
            ]
        },
        {
            "cell_type": "code",
            "execution_count": null,
            "metadata": {},
            "outputs": [],
            "source": [
                "df_reviews.sample(10)"
            ]
        },
        {
            "cell_type": "code",
            "execution_count": null,
            "metadata": {},
            "outputs": [],
            "source": [
                "df_reviews.info()"
            ]
        },
        {
            "cell_type": "markdown",
            "metadata": {},
            "source": [
                "Aligeramos el dataset con unos downgrades de tipo de variables.\n"
            ]
        },
        {
            "cell_type": "code",
            "execution_count": null,
            "metadata": {},
            "outputs": [],
            "source": [
                "df_reviews[\"funny\"] = df_reviews[\"funny\"].astype(\"int8\")\n",
                "df_reviews[\"stars\"] = df_reviews[\"stars\"].astype(\"int8\")\n",
                "df_reviews[\"cool\"] = df_reviews[\"cool\"].astype(\"int8\")\n",
                "\n",
                "df_reviews.drop(\"useful\", axis=1, inplace=True, errors=\"ignore\")"
            ]
        },
        {
            "cell_type": "code",
            "execution_count": null,
            "metadata": {},
            "outputs": [],
            "source": [
                "df_reviews.to_parquet(r\"Generated\\Yelp\\review.parquet\")"
            ]
        },
        {
            "cell_type": "markdown",
            "metadata": {},
            "source": [
                "### 2.4 Users Yelp\n"
            ]
        },
        {
            "cell_type": "code",
            "execution_count": null,
            "metadata": {},
            "outputs": [],
            "source": [
                "parquet_file = pq.ParquetFile(r\"Datasets\\Yelp\\user.parquet\")\n",
                "\n",
                "arr_df = []\n",
                "\n",
                "for batch in parquet_file.iter_batches():\n",
                "    # count = count +1\n",
                "    batch_df = batch.to_pandas()\n",
                "    batch_df[\"elite\"] = batch_df[\"elite\"].apply(lambda x: x.split(\",\"))\n",
                "    batch_df[\"elite_len\"] = batch_df[\"elite\"].apply(lambda x: len(x))\n",
                "    batch_df = batch_df.query(\"elite_len > 1\")\n",
                "    arr_df.append(batch_df)\n",
                "\n",
                "df_users = pd.concat(arr_df)"
            ]
        },
        {
            "cell_type": "code",
            "execution_count": null,
            "metadata": {},
            "outputs": [],
            "source": [
                "df_users.sample(5)"
            ]
        },
        {
            "cell_type": "code",
            "execution_count": null,
            "metadata": {},
            "outputs": [],
            "source": [
                "df_users.info()"
            ]
        },
        {
            "cell_type": "code",
            "execution_count": null,
            "metadata": {},
            "outputs": [],
            "source": [
                "df_users.reset_index(inplace=True)\n",
                "df_users.drop(\"index\", axis=1, inplace=True, errors=\"ignore\")"
            ]
        },
        {
            "cell_type": "code",
            "execution_count": null,
            "metadata": {},
            "outputs": [],
            "source": [
                "df_users.to_parquet(r\"Generated\\Yelp\\users_extracted.parquet\")"
            ]
        },
        {
            "cell_type": "markdown",
            "metadata": {},
            "source": [
                "# NORMALIZACIÓN DE DATOS\n"
            ]
        },
        {
            "cell_type": "markdown",
            "metadata": {},
            "source": [
                "### **GOOGLE**\n",
                "\n",
                "#### _1. MERGE_SITE_REVIEWS_\n"
            ]
        },
        {
            "cell_type": "code",
            "execution_count": 3,
            "metadata": {},
            "outputs": [],
            "source": [
                "df_maps_restaurantes = pd.read_parquet(r'Generated\\Google\\metada_sitios.parquet')\n",
                "df_maps_reviews = pd.read_parquet(r'Generated\\Google\\merge_site_reviews.parquet')\n",
                "df_yelp_restaurantes = pd.read_parquet(r'Generated\\Yelp\\bussines.parquet')\n",
                "df_yelp_checkin = pd.read_parquet(r'Generated\\YELP\\business_checkin.parquet')\n",
                "df_yelp_tips = pd.read_parquet(r'Generated\\Yelp\\business_tip.parquet')\n",
                "df_yelp_reviews = pd.read_parquet(r'Generated\\Yelp\\review.parquet')\n",
                "df_yelp_users = pd.read_parquet(r'Generated\\Yelp\\users_extracted.parquet')"
            ]
        },
        {
            "cell_type": "code",
            "execution_count": 4,
            "metadata": {},
            "outputs": [
                {
                    "data": {
                        "text/html": [
                            "<div>\n",
                            "<style scoped>\n",
                            "    .dataframe tbody tr th:only-of-type {\n",
                            "        vertical-align: middle;\n",
                            "    }\n",
                            "\n",
                            "    .dataframe tbody tr th {\n",
                            "        vertical-align: top;\n",
                            "    }\n",
                            "\n",
                            "    .dataframe thead th {\n",
                            "        text-align: right;\n",
                            "    }\n",
                            "</style>\n",
                            "<table border=\"1\" class=\"dataframe\">\n",
                            "  <thead>\n",
                            "    <tr style=\"text-align: right;\">\n",
                            "      <th></th>\n",
                            "      <th>user_id</th>\n",
                            "      <th>name_x</th>\n",
                            "      <th>time</th>\n",
                            "      <th>rating</th>\n",
                            "      <th>text</th>\n",
                            "      <th>pics</th>\n",
                            "      <th>resp</th>\n",
                            "      <th>gmap_id</th>\n",
                            "      <th>anio</th>\n",
                            "      <th>estado</th>\n",
                            "      <th>...</th>\n",
                            "      <th>MISC</th>\n",
                            "      <th>state</th>\n",
                            "      <th>relative_results</th>\n",
                            "      <th>url</th>\n",
                            "      <th>state_ab</th>\n",
                            "      <th>us_state</th>\n",
                            "      <th>dtfmt</th>\n",
                            "      <th>mes</th>\n",
                            "      <th>dia</th>\n",
                            "      <th>hora</th>\n",
                            "    </tr>\n",
                            "  </thead>\n",
                            "  <tbody>\n",
                            "    <tr>\n",
                            "      <th>2303530</th>\n",
                            "      <td>114592116133289829069</td>\n",
                            "      <td>Nate Earl</td>\n",
                            "      <td>1511918945962</td>\n",
                            "      <td>5</td>\n",
                            "      <td>None</td>\n",
                            "      <td>None</td>\n",
                            "      <td>{'text': 'Thanks, Nate!', 'time': 151192058477...</td>\n",
                            "      <td>0x8834f7718ad6ff41:0xe8c41e761dd0c4aa</td>\n",
                            "      <td>2017</td>\n",
                            "      <td>Pennsylvania</td>\n",
                            "      <td>...</td>\n",
                            "      <td>{'Accessibility': ['Wheelchair accessible elev...</td>\n",
                            "      <td>Open ⋅ Closes 5PM</td>\n",
                            "      <td>[0x8834f771a2efd823:0xe24b134f654ede44, 0x8834...</td>\n",
                            "      <td>https://www.google.com/maps/place//data=!4m2!3...</td>\n",
                            "      <td>PA</td>\n",
                            "      <td>Pennsylvania</td>\n",
                            "      <td>2017-11-29 01:29:05.962</td>\n",
                            "      <td>11</td>\n",
                            "      <td>29</td>\n",
                            "      <td>1</td>\n",
                            "    </tr>\n",
                            "    <tr>\n",
                            "      <th>2077859</th>\n",
                            "      <td>110593725643464150685</td>\n",
                            "      <td>Robin Ratliff</td>\n",
                            "      <td>1562084395295</td>\n",
                            "      <td>5</td>\n",
                            "      <td>very good selection of breakfast foods and tas...</td>\n",
                            "      <td>None</td>\n",
                            "      <td>None</td>\n",
                            "      <td>0x88c340eb126a0623:0x6e9fa508520e57fb</td>\n",
                            "      <td>2019</td>\n",
                            "      <td>Florida</td>\n",
                            "      <td>...</td>\n",
                            "      <td>{'Accessibility': ['Wheelchair-accessible car ...</td>\n",
                            "      <td>Closed ⋅ Opens 7AM</td>\n",
                            "      <td>[0x88c346e05d3930c1:0xf7613a9a0daaab7d, 0x88c3...</td>\n",
                            "      <td>https://www.google.com/maps/place//data=!4m2!3...</td>\n",
                            "      <td>None</td>\n",
                            "      <td>None</td>\n",
                            "      <td>2019-07-02 16:19:55.295</td>\n",
                            "      <td>7</td>\n",
                            "      <td>2</td>\n",
                            "      <td>16</td>\n",
                            "    </tr>\n",
                            "    <tr>\n",
                            "      <th>1718265</th>\n",
                            "      <td>113152039422680250267</td>\n",
                            "      <td>Gail Carpenter</td>\n",
                            "      <td>1541650038967</td>\n",
                            "      <td>5</td>\n",
                            "      <td>yummy great service</td>\n",
                            "      <td>None</td>\n",
                            "      <td>None</td>\n",
                            "      <td>0x88e7129b2a6ad2f9:0xf0ef364f7795d1e1</td>\n",
                            "      <td>2018</td>\n",
                            "      <td>Florida</td>\n",
                            "      <td>...</td>\n",
                            "      <td>{'Accessibility': ['Wheelchair-accessible car ...</td>\n",
                            "      <td>Closed ⋅ Opens 11AM</td>\n",
                            "      <td>[0x88e7136d4b63a717:0xd52785100ae044a4, 0x88e7...</td>\n",
                            "      <td>https://www.google.com/maps/place//data=!4m2!3...</td>\n",
                            "      <td>None</td>\n",
                            "      <td>None</td>\n",
                            "      <td>2018-11-08 04:07:18.967</td>\n",
                            "      <td>11</td>\n",
                            "      <td>8</td>\n",
                            "      <td>4</td>\n",
                            "    </tr>\n",
                            "  </tbody>\n",
                            "</table>\n",
                            "<p>3 rows × 30 columns</p>\n",
                            "</div>"
                        ],
                        "text/plain": [
                            "                       user_id          name_x           time  rating  \\\n",
                            "2303530  114592116133289829069       Nate Earl  1511918945962       5   \n",
                            "2077859  110593725643464150685   Robin Ratliff  1562084395295       5   \n",
                            "1718265  113152039422680250267  Gail Carpenter  1541650038967       5   \n",
                            "\n",
                            "                                                      text  pics  \\\n",
                            "2303530                                               None  None   \n",
                            "2077859  very good selection of breakfast foods and tas...  None   \n",
                            "1718265                                yummy great service  None   \n",
                            "\n",
                            "                                                      resp  \\\n",
                            "2303530  {'text': 'Thanks, Nate!', 'time': 151192058477...   \n",
                            "2077859                                               None   \n",
                            "1718265                                               None   \n",
                            "\n",
                            "                                       gmap_id  anio        estado  ...  \\\n",
                            "2303530  0x8834f7718ad6ff41:0xe8c41e761dd0c4aa  2017  Pennsylvania  ...   \n",
                            "2077859  0x88c340eb126a0623:0x6e9fa508520e57fb  2019       Florida  ...   \n",
                            "1718265  0x88e7129b2a6ad2f9:0xf0ef364f7795d1e1  2018       Florida  ...   \n",
                            "\n",
                            "                                                      MISC  \\\n",
                            "2303530  {'Accessibility': ['Wheelchair accessible elev...   \n",
                            "2077859  {'Accessibility': ['Wheelchair-accessible car ...   \n",
                            "1718265  {'Accessibility': ['Wheelchair-accessible car ...   \n",
                            "\n",
                            "                       state  \\\n",
                            "2303530    Open ⋅ Closes 5PM   \n",
                            "2077859   Closed ⋅ Opens 7AM   \n",
                            "1718265  Closed ⋅ Opens 11AM   \n",
                            "\n",
                            "                                          relative_results  \\\n",
                            "2303530  [0x8834f771a2efd823:0xe24b134f654ede44, 0x8834...   \n",
                            "2077859  [0x88c346e05d3930c1:0xf7613a9a0daaab7d, 0x88c3...   \n",
                            "1718265  [0x88e7136d4b63a717:0xd52785100ae044a4, 0x88e7...   \n",
                            "\n",
                            "                                                       url  state_ab  \\\n",
                            "2303530  https://www.google.com/maps/place//data=!4m2!3...        PA   \n",
                            "2077859  https://www.google.com/maps/place//data=!4m2!3...      None   \n",
                            "1718265  https://www.google.com/maps/place//data=!4m2!3...      None   \n",
                            "\n",
                            "             us_state                   dtfmt  mes dia hora  \n",
                            "2303530  Pennsylvania 2017-11-29 01:29:05.962   11  29    1  \n",
                            "2077859          None 2019-07-02 16:19:55.295    7   2   16  \n",
                            "1718265          None 2018-11-08 04:07:18.967   11   8    4  \n",
                            "\n",
                            "[3 rows x 30 columns]"
                        ]
                    },
                    "execution_count": 4,
                    "metadata": {},
                    "output_type": "execute_result"
                }
            ],
            "source": [
                "df_maps_reviews.sample(3)"
            ]
        },
        {
            "cell_type": "code",
            "execution_count": 5,
            "metadata": {},
            "outputs": [
                {
                    "data": {
                        "text/plain": [
                            "array(['user_id', 'name_x', 'time', 'rating', 'text', 'pics', 'resp',\n",
                            "       'gmap_id', 'anio', 'estado', 'name_y', 'address', 'description',\n",
                            "       'latitude', 'longitude', 'category', 'avg_rating',\n",
                            "       'num_of_reviews', 'price', 'hours', 'MISC', 'state',\n",
                            "       'relative_results', 'url', 'state_ab', 'us_state', 'dtfmt', 'mes',\n",
                            "       'dia', 'hora'], dtype=object)"
                        ]
                    },
                    "execution_count": 5,
                    "metadata": {},
                    "output_type": "execute_result"
                }
            ],
            "source": [
                "df_maps_reviews.columns.values"
            ]
        },
        {
            "cell_type": "code",
            "execution_count": 6,
            "metadata": {},
            "outputs": [
                {
                    "data": {
                        "text/plain": [
                            "0                                        [Korean restaurant]\n",
                            "1                                        [Korean restaurant]\n",
                            "2                                        [Korean restaurant]\n",
                            "3                                        [Korean restaurant]\n",
                            "4                                        [Korean restaurant]\n",
                            "                                 ...                        \n",
                            "2393447    [Coffee shop, Bagel shop, Bakery, Breakfast re...\n",
                            "2393448    [Coffee shop, Bagel shop, Bakery, Breakfast re...\n",
                            "2393449    [Coffee shop, Bagel shop, Bakery, Breakfast re...\n",
                            "2393450    [Coffee shop, Bagel shop, Bakery, Breakfast re...\n",
                            "2393451    [Coffee shop, Bagel shop, Bakery, Breakfast re...\n",
                            "Name: category, Length: 2393452, dtype: object"
                        ]
                    },
                    "execution_count": 6,
                    "metadata": {},
                    "output_type": "execute_result"
                }
            ],
            "source": [
                "df_maps_reviews.category"
            ]
        },
        {
            "cell_type": "code",
            "execution_count": 7,
            "metadata": {},
            "outputs": [
                {
                    "name": "stdout",
                    "output_type": "stream",
                    "text": [
                        "<class 'pandas.core.frame.DataFrame'>\n",
                        "RangeIndex: 2393452 entries, 0 to 2393451\n",
                        "Data columns (total 30 columns):\n",
                        " #   Column            Dtype         \n",
                        "---  ------            -----         \n",
                        " 0   user_id           object        \n",
                        " 1   name_x            object        \n",
                        " 2   time              int64         \n",
                        " 3   rating            int64         \n",
                        " 4   text              object        \n",
                        " 5   pics              object        \n",
                        " 6   resp              object        \n",
                        " 7   gmap_id           object        \n",
                        " 8   anio              int64         \n",
                        " 9   estado            object        \n",
                        " 10  name_y            object        \n",
                        " 11  address           object        \n",
                        " 12  description       object        \n",
                        " 13  latitude          float64       \n",
                        " 14  longitude         float64       \n",
                        " 15  category          object        \n",
                        " 16  avg_rating        float64       \n",
                        " 17  num_of_reviews    int64         \n",
                        " 18  price             object        \n",
                        " 19  hours             object        \n",
                        " 20  MISC              object        \n",
                        " 21  state             object        \n",
                        " 22  relative_results  object        \n",
                        " 23  url               object        \n",
                        " 24  state_ab          object        \n",
                        " 25  us_state          object        \n",
                        " 26  dtfmt             datetime64[ns]\n",
                        " 27  mes               int32         \n",
                        " 28  dia               int32         \n",
                        " 29  hora              int32         \n",
                        "dtypes: datetime64[ns](1), float64(3), int32(3), int64(4), object(19)\n",
                        "memory usage: 520.4+ MB\n"
                    ]
                }
            ],
            "source": [
                "df_maps_reviews.info()"
            ]
        },
        {
            "cell_type": "code",
            "execution_count": 8,
            "metadata": {},
            "outputs": [
                {
                    "data": {
                        "text/html": [
                            "<div>\n",
                            "<style scoped>\n",
                            "    .dataframe tbody tr th:only-of-type {\n",
                            "        vertical-align: middle;\n",
                            "    }\n",
                            "\n",
                            "    .dataframe tbody tr th {\n",
                            "        vertical-align: top;\n",
                            "    }\n",
                            "\n",
                            "    .dataframe thead th {\n",
                            "        text-align: right;\n",
                            "    }\n",
                            "</style>\n",
                            "<table border=\"1\" class=\"dataframe\">\n",
                            "  <thead>\n",
                            "    <tr style=\"text-align: right;\">\n",
                            "      <th></th>\n",
                            "      <th>user_id</th>\n",
                            "      <th>name_x</th>\n",
                            "      <th>time</th>\n",
                            "      <th>rating</th>\n",
                            "      <th>text</th>\n",
                            "      <th>pics</th>\n",
                            "      <th>resp</th>\n",
                            "      <th>gmap_id</th>\n",
                            "      <th>anio</th>\n",
                            "      <th>estado</th>\n",
                            "      <th>...</th>\n",
                            "      <th>MISC</th>\n",
                            "      <th>state</th>\n",
                            "      <th>relative_results</th>\n",
                            "      <th>url</th>\n",
                            "      <th>state_ab</th>\n",
                            "      <th>us_state</th>\n",
                            "      <th>dtfmt</th>\n",
                            "      <th>mes</th>\n",
                            "      <th>dia</th>\n",
                            "      <th>hora</th>\n",
                            "    </tr>\n",
                            "  </thead>\n",
                            "  <tbody>\n",
                            "    <tr>\n",
                            "      <th>77098</th>\n",
                            "      <td>105189635890877887768</td>\n",
                            "      <td>Chris Vournakis</td>\n",
                            "      <td>1573540385357</td>\n",
                            "      <td>5</td>\n",
                            "      <td>this place has everything for everyone: excell...</td>\n",
                            "      <td>[{'url': ['https://lh5.googleusercontent.com/p...</td>\n",
                            "      <td>None</td>\n",
                            "      <td>0x80dcd6301201bef5:0xc8ea7c1816d43831</td>\n",
                            "      <td>2019</td>\n",
                            "      <td>California</td>\n",
                            "      <td>...</td>\n",
                            "      <td>{'Accessibility': ['Wheelchair accessible entr...</td>\n",
                            "      <td>Closed ⋅ Opens 3PM</td>\n",
                            "      <td>[0x80dcd3e3e6cbcf3b:0x7ffc9a34fb1a1cca, 0x80dc...</td>\n",
                            "      <td>https://www.google.com/maps/place//data=!4m2!3...</td>\n",
                            "      <td>CA</td>\n",
                            "      <td>California</td>\n",
                            "      <td>2019-11-12 06:33:05.357</td>\n",
                            "      <td>11</td>\n",
                            "      <td>12</td>\n",
                            "      <td>6</td>\n",
                            "    </tr>\n",
                            "    <tr>\n",
                            "      <th>377860</th>\n",
                            "      <td>109628210636166404302</td>\n",
                            "      <td>Alex Diaz</td>\n",
                            "      <td>1564062936937</td>\n",
                            "      <td>5</td>\n",
                            "      <td>best shrimp &amp; fish tacos with fully loaded coc...</td>\n",
                            "      <td>[{'url': ['https://lh5.googleusercontent.com/p...</td>\n",
                            "      <td>None</td>\n",
                            "      <td>0x80c2c8b107ba534f:0x26139bf0de9bcfec</td>\n",
                            "      <td>2019</td>\n",
                            "      <td>California</td>\n",
                            "      <td>...</td>\n",
                            "      <td>{'Accessibility': ['Wheelchair-accessible entr...</td>\n",
                            "      <td>Closed ⋅ Opens 9AM</td>\n",
                            "      <td>[0x80c2c8b16c055ecb:0xbe1bda5a509624c9, 0x80c2...</td>\n",
                            "      <td>https://www.google.com/maps/place//data=!4m2!3...</td>\n",
                            "      <td>None</td>\n",
                            "      <td>None</td>\n",
                            "      <td>2019-07-25 13:55:36.937</td>\n",
                            "      <td>7</td>\n",
                            "      <td>25</td>\n",
                            "      <td>13</td>\n",
                            "    </tr>\n",
                            "    <tr>\n",
                            "      <th>665741</th>\n",
                            "      <td>114136097777946918738</td>\n",
                            "      <td>Joann Hernandez</td>\n",
                            "      <td>1573611944822</td>\n",
                            "      <td>4</td>\n",
                            "      <td>None</td>\n",
                            "      <td>[{'url': ['https://lh5.googleusercontent.com/p...</td>\n",
                            "      <td>None</td>\n",
                            "      <td>0x8635dfda084afed5:0x60ef3c69b592b667</td>\n",
                            "      <td>2019</td>\n",
                            "      <td>Texas</td>\n",
                            "      <td>...</td>\n",
                            "      <td>{'Accessibility': ['Wheelchair accessible entr...</td>\n",
                            "      <td>Open ⋅ Closes 9PM</td>\n",
                            "      <td>[0x8635dfdcffefa4cf:0x6cbe3e1536fa2394, 0x8635...</td>\n",
                            "      <td>https://www.google.com/maps/place//data=!4m2!3...</td>\n",
                            "      <td>TX</td>\n",
                            "      <td>Texas</td>\n",
                            "      <td>2019-11-13 02:25:44.822</td>\n",
                            "      <td>11</td>\n",
                            "      <td>13</td>\n",
                            "      <td>2</td>\n",
                            "    </tr>\n",
                            "  </tbody>\n",
                            "</table>\n",
                            "<p>3 rows × 30 columns</p>\n",
                            "</div>"
                        ],
                        "text/plain": [
                            "                      user_id           name_x           time  rating  \\\n",
                            "77098   105189635890877887768  Chris Vournakis  1573540385357       5   \n",
                            "377860  109628210636166404302        Alex Diaz  1564062936937       5   \n",
                            "665741  114136097777946918738  Joann Hernandez  1573611944822       4   \n",
                            "\n",
                            "                                                     text  \\\n",
                            "77098   this place has everything for everyone: excell...   \n",
                            "377860  best shrimp & fish tacos with fully loaded coc...   \n",
                            "665741                                               None   \n",
                            "\n",
                            "                                                     pics  resp  \\\n",
                            "77098   [{'url': ['https://lh5.googleusercontent.com/p...  None   \n",
                            "377860  [{'url': ['https://lh5.googleusercontent.com/p...  None   \n",
                            "665741  [{'url': ['https://lh5.googleusercontent.com/p...  None   \n",
                            "\n",
                            "                                      gmap_id  anio      estado  ...  \\\n",
                            "77098   0x80dcd6301201bef5:0xc8ea7c1816d43831  2019  California  ...   \n",
                            "377860  0x80c2c8b107ba534f:0x26139bf0de9bcfec  2019  California  ...   \n",
                            "665741  0x8635dfda084afed5:0x60ef3c69b592b667  2019       Texas  ...   \n",
                            "\n",
                            "                                                     MISC               state  \\\n",
                            "77098   {'Accessibility': ['Wheelchair accessible entr...  Closed ⋅ Opens 3PM   \n",
                            "377860  {'Accessibility': ['Wheelchair-accessible entr...  Closed ⋅ Opens 9AM   \n",
                            "665741  {'Accessibility': ['Wheelchair accessible entr...   Open ⋅ Closes 9PM   \n",
                            "\n",
                            "                                         relative_results  \\\n",
                            "77098   [0x80dcd3e3e6cbcf3b:0x7ffc9a34fb1a1cca, 0x80dc...   \n",
                            "377860  [0x80c2c8b16c055ecb:0xbe1bda5a509624c9, 0x80c2...   \n",
                            "665741  [0x8635dfdcffefa4cf:0x6cbe3e1536fa2394, 0x8635...   \n",
                            "\n",
                            "                                                      url  state_ab  \\\n",
                            "77098   https://www.google.com/maps/place//data=!4m2!3...        CA   \n",
                            "377860  https://www.google.com/maps/place//data=!4m2!3...      None   \n",
                            "665741  https://www.google.com/maps/place//data=!4m2!3...        TX   \n",
                            "\n",
                            "          us_state                   dtfmt  mes dia hora  \n",
                            "77098   California 2019-11-12 06:33:05.357   11  12    6  \n",
                            "377860        None 2019-07-25 13:55:36.937    7  25   13  \n",
                            "665741       Texas 2019-11-13 02:25:44.822   11  13    2  \n",
                            "\n",
                            "[3 rows x 30 columns]"
                        ]
                    },
                    "execution_count": 8,
                    "metadata": {},
                    "output_type": "execute_result"
                }
            ],
            "source": [
                "df_maps_reviews[~df_maps_reviews.pics.isnull()].sample(3)"
            ]
        },
        {
            "cell_type": "code",
            "execution_count": 9,
            "metadata": {},
            "outputs": [
                {
                    "data": {
                        "text/plain": [
                            "2307136"
                        ]
                    },
                    "execution_count": 9,
                    "metadata": {},
                    "output_type": "execute_result"
                }
            ],
            "source": [
                "num_nulls_pics = df_maps_reviews.pics.isnull().sum()\n",
                "num_nulls_pics"
            ]
        },
        {
            "cell_type": "code",
            "execution_count": 10,
            "metadata": {},
            "outputs": [
                {
                    "data": {
                        "text/plain": [
                            "2178044"
                        ]
                    },
                    "execution_count": 10,
                    "metadata": {},
                    "output_type": "execute_result"
                }
            ],
            "source": [
                "num_nulls_resp = df_maps_reviews.resp.isnull().sum()\n",
                "num_nulls_resp"
            ]
        },
        {
            "cell_type": "code",
            "execution_count": 11,
            "metadata": {},
            "outputs": [
                {
                    "data": {
                        "text/html": [
                            "<div>\n",
                            "<style scoped>\n",
                            "    .dataframe tbody tr th:only-of-type {\n",
                            "        vertical-align: middle;\n",
                            "    }\n",
                            "\n",
                            "    .dataframe tbody tr th {\n",
                            "        vertical-align: top;\n",
                            "    }\n",
                            "\n",
                            "    .dataframe thead th {\n",
                            "        text-align: right;\n",
                            "    }\n",
                            "</style>\n",
                            "<table border=\"1\" class=\"dataframe\">\n",
                            "  <thead>\n",
                            "    <tr style=\"text-align: right;\">\n",
                            "      <th></th>\n",
                            "      <th>user_id</th>\n",
                            "      <th>name_x</th>\n",
                            "      <th>time</th>\n",
                            "      <th>rating</th>\n",
                            "      <th>text</th>\n",
                            "      <th>pics</th>\n",
                            "      <th>resp</th>\n",
                            "      <th>gmap_id</th>\n",
                            "      <th>anio</th>\n",
                            "      <th>estado</th>\n",
                            "      <th>...</th>\n",
                            "      <th>MISC</th>\n",
                            "      <th>state</th>\n",
                            "      <th>relative_results</th>\n",
                            "      <th>url</th>\n",
                            "      <th>state_ab</th>\n",
                            "      <th>us_state</th>\n",
                            "      <th>dtfmt</th>\n",
                            "      <th>mes</th>\n",
                            "      <th>dia</th>\n",
                            "      <th>hora</th>\n",
                            "    </tr>\n",
                            "  </thead>\n",
                            "  <tbody>\n",
                            "    <tr>\n",
                            "      <th>105315</th>\n",
                            "      <td>102320133698908723760</td>\n",
                            "      <td>Ali Titiz</td>\n",
                            "      <td>1531266705551</td>\n",
                            "      <td>5</td>\n",
                            "      <td>None</td>\n",
                            "      <td>None</td>\n",
                            "      <td>None</td>\n",
                            "      <td>0x80c288f346ae8f73:0x18f96e91a643110b</td>\n",
                            "      <td>2018</td>\n",
                            "      <td>California</td>\n",
                            "      <td>...</td>\n",
                            "      <td>{'Accessibility': ['Wheelchair-accessible entr...</td>\n",
                            "      <td>Open ⋅ Closes 9:30PM</td>\n",
                            "      <td>[0x80c288f16ee2d4a7:0x7345108ecf71f03b, 0x80c2...</td>\n",
                            "      <td>https://www.google.com/maps/place//data=!4m2!3...</td>\n",
                            "      <td>None</td>\n",
                            "      <td>None</td>\n",
                            "      <td>2018-07-10 23:51:45.551</td>\n",
                            "      <td>7</td>\n",
                            "      <td>10</td>\n",
                            "      <td>23</td>\n",
                            "    </tr>\n",
                            "    <tr>\n",
                            "      <th>1164390</th>\n",
                            "      <td>108477783124937539243</td>\n",
                            "      <td>Lareina Bellecour</td>\n",
                            "      <td>1528732630751</td>\n",
                            "      <td>2</td>\n",
                            "      <td>the layout of the rooftop is clumsy and strang...</td>\n",
                            "      <td>None</td>\n",
                            "      <td>None</td>\n",
                            "      <td>0x89c25983e53065b1:0x2c5d3d48cf428dd7</td>\n",
                            "      <td>2018</td>\n",
                            "      <td>New_York</td>\n",
                            "      <td>...</td>\n",
                            "      <td>{'Accessibility': ['Wheelchair-accessible entr...</td>\n",
                            "      <td>Closed ⋅ Opens 4PM</td>\n",
                            "      <td>[0x89c259aa43a4a41b:0x5787bbbd4f6d3a25, 0x89c2...</td>\n",
                            "      <td>https://www.google.com/maps/place//data=!4m2!3...</td>\n",
                            "      <td>None</td>\n",
                            "      <td>None</td>\n",
                            "      <td>2018-06-11 15:57:10.751</td>\n",
                            "      <td>6</td>\n",
                            "      <td>11</td>\n",
                            "      <td>15</td>\n",
                            "    </tr>\n",
                            "    <tr>\n",
                            "      <th>274007</th>\n",
                            "      <td>113344289845625766742</td>\n",
                            "      <td>Tori Hawkins</td>\n",
                            "      <td>1528826822091</td>\n",
                            "      <td>4</td>\n",
                            "      <td>great sushi and 50% off most rolls.</td>\n",
                            "      <td>None</td>\n",
                            "      <td>None</td>\n",
                            "      <td>0x809adfba39276747:0xb65a01443520a073</td>\n",
                            "      <td>2018</td>\n",
                            "      <td>California</td>\n",
                            "      <td>...</td>\n",
                            "      <td>{'Accessibility': ['Wheelchair accessible entr...</td>\n",
                            "      <td>Closes soon ⋅ 9PM ⋅ Opens 11:30AM Fri</td>\n",
                            "      <td>[0x809ade270f0b0cc1:0x14890cb92ecce51b, 0x809a...</td>\n",
                            "      <td>https://www.google.com/maps/place//data=!4m2!3...</td>\n",
                            "      <td>CA</td>\n",
                            "      <td>California</td>\n",
                            "      <td>2018-06-12 18:07:02.091</td>\n",
                            "      <td>6</td>\n",
                            "      <td>12</td>\n",
                            "      <td>18</td>\n",
                            "    </tr>\n",
                            "  </tbody>\n",
                            "</table>\n",
                            "<p>3 rows × 30 columns</p>\n",
                            "</div>"
                        ],
                        "text/plain": [
                            "                       user_id             name_x           time  rating  \\\n",
                            "105315   102320133698908723760          Ali Titiz  1531266705551       5   \n",
                            "1164390  108477783124937539243  Lareina Bellecour  1528732630751       2   \n",
                            "274007   113344289845625766742       Tori Hawkins  1528826822091       4   \n",
                            "\n",
                            "                                                      text  pics  resp  \\\n",
                            "105315                                                None  None  None   \n",
                            "1164390  the layout of the rooftop is clumsy and strang...  None  None   \n",
                            "274007                 great sushi and 50% off most rolls.  None  None   \n",
                            "\n",
                            "                                       gmap_id  anio      estado  ...  \\\n",
                            "105315   0x80c288f346ae8f73:0x18f96e91a643110b  2018  California  ...   \n",
                            "1164390  0x89c25983e53065b1:0x2c5d3d48cf428dd7  2018    New_York  ...   \n",
                            "274007   0x809adfba39276747:0xb65a01443520a073  2018  California  ...   \n",
                            "\n",
                            "                                                      MISC  \\\n",
                            "105315   {'Accessibility': ['Wheelchair-accessible entr...   \n",
                            "1164390  {'Accessibility': ['Wheelchair-accessible entr...   \n",
                            "274007   {'Accessibility': ['Wheelchair accessible entr...   \n",
                            "\n",
                            "                                         state  \\\n",
                            "105315                    Open ⋅ Closes 9:30PM   \n",
                            "1164390                     Closed ⋅ Opens 4PM   \n",
                            "274007   Closes soon ⋅ 9PM ⋅ Opens 11:30AM Fri   \n",
                            "\n",
                            "                                          relative_results  \\\n",
                            "105315   [0x80c288f16ee2d4a7:0x7345108ecf71f03b, 0x80c2...   \n",
                            "1164390  [0x89c259aa43a4a41b:0x5787bbbd4f6d3a25, 0x89c2...   \n",
                            "274007   [0x809ade270f0b0cc1:0x14890cb92ecce51b, 0x809a...   \n",
                            "\n",
                            "                                                       url  state_ab  \\\n",
                            "105315   https://www.google.com/maps/place//data=!4m2!3...      None   \n",
                            "1164390  https://www.google.com/maps/place//data=!4m2!3...      None   \n",
                            "274007   https://www.google.com/maps/place//data=!4m2!3...        CA   \n",
                            "\n",
                            "           us_state                   dtfmt  mes dia hora  \n",
                            "105315         None 2018-07-10 23:51:45.551    7  10   23  \n",
                            "1164390        None 2018-06-11 15:57:10.751    6  11   15  \n",
                            "274007   California 2018-06-12 18:07:02.091    6  12   18  \n",
                            "\n",
                            "[3 rows x 30 columns]"
                        ]
                    },
                    "execution_count": 11,
                    "metadata": {},
                    "output_type": "execute_result"
                }
            ],
            "source": [
                "df_maps_reviews[\"dtfmt\"] = df_maps_reviews.time.apply(\n",
                "    lambda x: datetime.utcfromtimestamp(x / 1000)\n",
                ")\n",
                "\n",
                "df_maps_reviews[\"mes\"] = df_maps_reviews.dtfmt.dt.month\n",
                "\n",
                "df_maps_reviews[\"dia\"] = df_maps_reviews.dtfmt.dt.day\n",
                "\n",
                "df_maps_reviews[\"hora\"] = df_maps_reviews.dtfmt.dt.hour\n",
                "\n",
                "df_maps_reviews.name_x = df_maps_reviews.name_x.str.title()\n",
                "\n",
                "df_maps_reviews.text = df_maps_reviews.text.str.lower()\n",
                "\n",
                "df_maps_reviews.sample(3)"
            ]
        },
        {
            "cell_type": "markdown",
            "metadata": {},
            "source": [
                "#### **_<u>COMENTARIO</u>_**\n",
                "\n",
                "Las columnas **pics** y **resp** deberían eliminarse porque la cantidades de datos nulos sobrepasa los 90%.\n",
                "\n",
                "_Obtenemos las columnas de año, mes, día y hora para posteriores análisis_\n"
            ]
        },
        {
            "cell_type": "markdown",
            "metadata": {},
            "source": [
                "# Salida Final ETL"
            ]
        },
        {
            "cell_type": "code",
            "execution_count": 12,
            "metadata": {},
            "outputs": [],
            "source": [
                "df_maps_restaurantes.to_parquet(r'Generated\\Google\\metada_sitios.parquet')\n",
                "df_maps_reviews.to_parquet(r'Generated\\Google\\merge_site_reviews.parquet')\n",
                "df_yelp_restaurantes.to_parquet(r'Generated\\Yelp\\bussines.parquet')\n",
                "df_yelp_checkin.to_parquet(r'Generated\\YELP\\business_checkin.parquet')\n",
                "df_yelp_tips.to_parquet(r'Generated\\Yelp\\business_tip.parquet')\n",
                "df_yelp_reviews.to_parquet(r'Generated\\Yelp\\review.parquet')\n",
                "df_yelp_users.to_parquet(r'Generated\\Yelp\\users_extracted.parquet')"
            ]
        }
    ],
    "metadata": {
        "kernelspec": {
            "display_name": ".venv10",
            "language": "python",
            "name": "python3"
        },
        "language_info": {
            "codemirror_mode": {
                "name": "ipython",
                "version": 3
            },
            "file_extension": ".py",
            "mimetype": "text/x-python",
            "name": "python",
            "nbconvert_exporter": "python",
            "pygments_lexer": "ipython3",
            "version": "3.11.9"
        }
    },
    "nbformat": 4,
    "nbformat_minor": 2
}

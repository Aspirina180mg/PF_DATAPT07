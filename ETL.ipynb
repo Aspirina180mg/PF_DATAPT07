"cells": [
  {
   "cell_type": "markdown",
   "metadata": {},
   "source": [
    "# Extracción de datos Datasets Google Maps y YELP"
   ]
  },
  {
   "cell_type": "markdown",
   "metadata": {},
   "source": [
    "### Importaciones"
   ]
  },
  {
   "cell_type": "code",
   "execution_count": 1,
   "metadata": {},
   "outputs": [],
   "source": [
    "import pandas as pd\n",
    "import numpy as np\n",
    "import json\n",
    "import datetime\n",
    "import os"
   ]
  },
  {
   "cell_type": "markdown",
   "metadata": {},
   "source": [
    "### Utiles"
   ]
  },
  {
   "cell_type": "code",
   "execution_count": 2,
   "metadata": {},
   "outputs": [],
   "source": [
    "\n",
    "state_abreviations = [\n",
    "    \"AL\", \"AK\", \"AZ\", \"AR\", \"CA\", \"CO\", \"CT\", \"DE\", \"FL\", \"GA\", \"HI\", \"ID\", \n",
    "    \"IL\", \"IN\", \"IA\", \"KS\", \"KY\", \"LA\", \"ME\", \"MD\", \"MA\", \"MI\", \"MN\", \"MS\", \n",
    "    \"MO\", \"MT\", \"NE\", \"NV\", \"NH\", \"NJ\", \"NM\", \"NY\", \"NC\", \"ND\", \"OH\", \"OK\", \n",
    "    \"OR\", \"PA\", \"RI\", \"SC\", \"SD\", \"TN\", \"TX\", \"UT\", \"VT\", \"VA\", \"WA\", \"WV\", \n",
    "    \"WI\", \"WY\"\n",
    "]\n",
    "\n",
    "state_dictionary = {\n",
    "    \"AL\": \"Alabama\", \"AK\": \"Alaska\", \"AZ\": \"Arizona\", \"AR\": \"Arkansas\", \n",
    "    \"CA\": \"California\", \"CO\": \"Colorado\", \"CT\": \"Connecticut\", \"DE\": \"Delaware\", \n",
    "    \"FL\": \"Florida\", \"GA\": \"Georgia\", \"HI\": \"Hawaii\", \"ID\": \"Idaho\", \"IL\": \"Illinois\", \n",
    "    \"IN\": \"Indiana\", \"IA\": \"Iowa\", \"KS\": \"Kansas\", \"KY\": \"Kentucky\", \"LA\": \"Louisiana\", \n",
    "    \"ME\": \"Maine\", \"MD\": \"Maryland\", \"MA\": \"Massachusetts\", \"MI\": \"Michigan\", \n",
    "    \"MN\": \"Minnesota\", \"MS\": \"Mississippi\", \"MO\": \"Missouri\", \"MT\": \"Montana\", \n",
    "    \"NE\": \"Nebraska\", \"NV\": \"Nevada\", \"NH\": \"New Hampshire\", \"NJ\": \"New Jersey\", \n",
    "    \"NM\": \"New Mexico\", \"NY\": \"New York\", \"NC\": \"North Carolina\", \"ND\": \"North Dakota\", \n",
    "    \"OH\": \"Ohio\", \"OK\": \"Oklahoma\", \"OR\": \"Oregon\", \"PA\": \"Pennsylvania\", \n",
    "    \"RI\": \"Rhode Island\", \"SC\": \"South Carolina\", \"SD\": \"South Dakota\", \"TN\": \"Tennessee\", \n",
    "    \"TX\": \"Texas\", \"UT\": \"Utah\", \"VT\": \"Vermont\", \"VA\": \"Virginia\", \"WA\": \"Washington\", \n",
    "    \"WV\": \"West Virginia\", \"WI\": \"Wisconsin\", \"WY\": \"Wyoming\"\n",
    "}"
   ]
  },
  {
   "cell_type": "code",
   "execution_count": 3,
   "metadata": {},
   "outputs": [
    {
     "data": {
      "text/plain": [
       "'c:\\\\Users\\\\OS\\\\Desktop\\\\Tp grupal\\\\PF_DATAPT07'"
      ]
     },
     "execution_count": 3,
     "metadata": {},
     "output_type": "execute_result"
    }
   ],
   "source": [
    "import os\n",
    "\n",
    "generated_dir = \"Generated\"\n",
    "\n",
    "os.mkdir(generated_dir)\n",
    "os.chdir(generated_dir)\n",
    "os.mkdir('Google')\n",
    "os.mkdir('Yelp')\n",
    "os.chdir('../')\n",
    "\n",
    "os.getcwd()"
   ]
  },
  {
   "cell_type": "markdown",
   "metadata": {},
   "source": [
    "# 1. Extracción  con los datasets de Google Maps"
   ]
  },
  {
   "cell_type": "markdown",
   "metadata": {},
   "source": [
    "## 1.1 Metada de Sitios"
   ]
  },
  {
   "cell_type": "markdown",
   "metadata": {},
   "source": [
    "Recorremos todo el directorio, lo hacemos archivo por archivo y línea por línea ya que no se puede abrir directamente los archivos por su dimensión y porque no están en formato de array, sino están constituidos en un registro por lìnea.\n",
    "Durante la lectura filtramos los que incluyan <code>Restaurant</code> en el campo de categoría, para alivianar el dataset final."
   ]
  },
  {
   "cell_type": "code",
   "execution_count": 4,
   "metadata": {},
   "outputs": [
    {
     "data": {
      "text/html": [
       "<div>\n",
       "<style scoped>\n",
       "    .dataframe tbody tr th:only-of-type {\n",
       "        vertical-align: middle;\n",
       "    }\n",
       "\n",
       "    .dataframe tbody tr th {\n",
       "        vertical-align: top;\n",
       "    }\n",
       "\n",
       "    .dataframe thead th {\n",
       "        text-align: right;\n",
       "    }\n",
       "</style>\n",
       "<table border=\"1\" class=\"dataframe\">\n",
       "  <thead>\n",
       "    <tr style=\"text-align: right;\">\n",
       "      <th></th>\n",
       "      <th>name</th>\n",
       "      <th>address</th>\n",
       "      <th>gmap_id</th>\n",
       "      <th>description</th>\n",
       "      <th>latitude</th>\n",
       "      <th>longitude</th>\n",
       "      <th>category</th>\n",
       "      <th>avg_rating</th>\n",
       "      <th>num_of_reviews</th>\n",
       "      <th>price</th>\n",
       "      <th>hours</th>\n",
       "      <th>MISC</th>\n",
       "      <th>state</th>\n",
       "      <th>relative_results</th>\n",
       "      <th>url</th>\n",
       "    </tr>\n",
       "  </thead>\n",
       "  <tbody>\n",
       "    <tr>\n",
       "      <th>0</th>\n",
       "      <td>San Soo Dang</td>\n",
       "      <td>San Soo Dang, 761 S Vermont Ave, Los Angeles, ...</td>\n",
       "      <td>0x80c2c778e3b73d33:0xbdc58662a4a97d49</td>\n",
       "      <td>None</td>\n",
       "      <td>34.058092</td>\n",
       "      <td>-118.292130</td>\n",
       "      <td>[Korean restaurant]</td>\n",
       "      <td>4.4</td>\n",
       "      <td>18</td>\n",
       "      <td>None</td>\n",
       "      <td>[[Thursday, 6:30AM–6PM], [Friday, 6:30AM–6PM],...</td>\n",
       "      <td>{'Service options': ['Takeout', 'Dine-in', 'De...</td>\n",
       "      <td>Open ⋅ Closes 6PM</td>\n",
       "      <td>[0x80c2c78249aba68f:0x35bf16ce61be751d, 0x80c2...</td>\n",
       "      <td>https://www.google.com/maps/place//data=!4m2!3...</td>\n",
       "    </tr>\n",
       "    <tr>\n",
       "      <th>1</th>\n",
       "      <td>Vons Chicken</td>\n",
       "      <td>Vons Chicken, 12740 La Mirada Blvd, La Mirada,...</td>\n",
       "      <td>0x80dd2b4c8555edb7:0xfc33d65c4bdbef42</td>\n",
       "      <td>None</td>\n",
       "      <td>33.916402</td>\n",
       "      <td>-118.010855</td>\n",
       "      <td>[Restaurant]</td>\n",
       "      <td>4.5</td>\n",
       "      <td>18</td>\n",
       "      <td>None</td>\n",
       "      <td>[[Thursday, 11AM–9:30PM], [Friday, 11AM–9:30PM...</td>\n",
       "      <td>{'Service options': ['Outdoor seating', 'Curbs...</td>\n",
       "      <td>Open ⋅ Closes 9:30PM</td>\n",
       "      <td>None</td>\n",
       "      <td>https://www.google.com/maps/place//data=!4m2!3...</td>\n",
       "    </tr>\n",
       "    <tr>\n",
       "      <th>2</th>\n",
       "      <td>Sweet Rewards Gluten Free Bakery, LLC</td>\n",
       "      <td>Sweet Rewards Gluten Free Bakery, LLC, 85 NE D...</td>\n",
       "      <td>0x87ec235c54d25b31:0x3b75fb5facc602f</td>\n",
       "      <td>None</td>\n",
       "      <td>41.616079</td>\n",
       "      <td>-93.865487</td>\n",
       "      <td>[Bakery, Health food restaurant]</td>\n",
       "      <td>4.7</td>\n",
       "      <td>21</td>\n",
       "      <td>None</td>\n",
       "      <td>[[Thursday, 10AM–5:30PM], [Friday, 10AM–5:30PM...</td>\n",
       "      <td>{'Service options': ['Delivery']}</td>\n",
       "      <td>Permanently closed</td>\n",
       "      <td>[0x87ee974869295555:0x95f310d065882c9b, 0x87ec...</td>\n",
       "      <td>https://www.google.com/maps/place//data=!4m2!3...</td>\n",
       "    </tr>\n",
       "  </tbody>\n",
       "</table>\n",
       "</div>"
      ],
      "text/plain": [
       "                                    name  \\\n",
       "0                           San Soo Dang   \n",
       "1                           Vons Chicken   \n",
       "2  Sweet Rewards Gluten Free Bakery, LLC   \n",
       "\n",
       "                                             address  \\\n",
       "0  San Soo Dang, 761 S Vermont Ave, Los Angeles, ...   \n",
       "1  Vons Chicken, 12740 La Mirada Blvd, La Mirada,...   \n",
       "2  Sweet Rewards Gluten Free Bakery, LLC, 85 NE D...   \n",
       "\n",
       "                                 gmap_id description   latitude   longitude  \\\n",
       "0  0x80c2c778e3b73d33:0xbdc58662a4a97d49        None  34.058092 -118.292130   \n",
       "1  0x80dd2b4c8555edb7:0xfc33d65c4bdbef42        None  33.916402 -118.010855   \n",
       "2   0x87ec235c54d25b31:0x3b75fb5facc602f        None  41.616079  -93.865487   \n",
       "\n",
       "                           category  avg_rating  num_of_reviews price  \\\n",
       "0               [Korean restaurant]         4.4              18  None   \n",
       "1                      [Restaurant]         4.5              18  None   \n",
       "2  [Bakery, Health food restaurant]         4.7              21  None   \n",
       "\n",
       "                                               hours  \\\n",
       "0  [[Thursday, 6:30AM–6PM], [Friday, 6:30AM–6PM],...   \n",
       "1  [[Thursday, 11AM–9:30PM], [Friday, 11AM–9:30PM...   \n",
       "2  [[Thursday, 10AM–5:30PM], [Friday, 10AM–5:30PM...   \n",
       "\n",
       "                                                MISC                 state  \\\n",
       "0  {'Service options': ['Takeout', 'Dine-in', 'De...     Open ⋅ Closes 6PM   \n",
       "1  {'Service options': ['Outdoor seating', 'Curbs...  Open ⋅ Closes 9:30PM   \n",
       "2                  {'Service options': ['Delivery']}    Permanently closed   \n",
       "\n",
       "                                    relative_results  \\\n",
       "0  [0x80c2c78249aba68f:0x35bf16ce61be751d, 0x80c2...   \n",
       "1                                               None   \n",
       "2  [0x87ee974869295555:0x95f310d065882c9b, 0x87ec...   \n",
       "\n",
       "                                                 url  \n",
       "0  https://www.google.com/maps/place//data=!4m2!3...  \n",
       "1  https://www.google.com/maps/place//data=!4m2!3...  \n",
       "2  https://www.google.com/maps/place//data=!4m2!3...  "
      ]
     },
     "execution_count": 4,
     "metadata": {},
     "output_type": "execute_result"
    }
   ],
   "source": [
    "# Tiempo de Demora Medio: 51 segundos.\n",
    "lineas_json = []\n",
    "\n",
    "# Son 11 archivos con un ordinal, del 1 al 11\n",
    "for i in range(1, 12):\n",
    "    path = f'Datasets/Google Maps/metadata-sitios/{i}.json'\n",
    "    with open(path, 'r') as file:\n",
    "        for l in file:\n",
    "            try:\n",
    "                linea_j = json.loads(l)\n",
    "                if 'restaurant' in \" \".join(linea_j['category']).lower():\n",
    "                    lineas_json.append(linea_j)\n",
    "            except:\n",
    "                pass\n",
    "\n",
    "df = pd.DataFrame(lineas_json)\n",
    "\n",
    "df.head(3)"
   ]
  },
  {
   "cell_type": "code",
   "execution_count": 5,
   "metadata": {},
   "outputs": [
    {
     "data": {
      "text/plain": [
       "'Cape Seafood Shack, 603 Del Prado Blvd S, Cape Coral, FL 33990'"
      ]
     },
     "execution_count": 5,
     "metadata": {},
     "output_type": "execute_result"
    }
   ],
   "source": [
    "df.loc[5, 'address']"
   ]
  },
  {
   "cell_type": "markdown",
   "metadata": {},
   "source": [
    "Exportamos a formato Parquet"
   ]
  },
  {
   "cell_type": "code",
   "execution_count": 6,
   "metadata": {},
   "outputs": [],
   "source": [
    "df.to_parquet(r'Generated\\Google\\metada_sitios.parquet')"
   ]
  },
  {
   "cell_type": "markdown",
   "metadata": {},
   "source": [
    "Tamaño Directorio <code>metadata-sitios</code>: 2.76 Gb\n",
    "\n",
    "Tamaño Archivo <code>metada_sitios.parquet</code>: 60.43 Mb\n"
   ]
  },
  {
   "cell_type": "code",
   "execution_count": 7,
   "metadata": {},
   "outputs": [
    {
     "name": "stdout",
     "output_type": "stream",
     "text": [
      "<class 'pandas.core.frame.DataFrame'>\n",
      "RangeIndex: 212014 entries, 0 to 212013\n",
      "Data columns (total 15 columns):\n",
      " #   Column            Non-Null Count   Dtype  \n",
      "---  ------            --------------   -----  \n",
      " 0   name              212014 non-null  object \n",
      " 1   address           210956 non-null  object \n",
      " 2   gmap_id           212014 non-null  object \n",
      " 3   description       72392 non-null   object \n",
      " 4   latitude          212014 non-null  float64\n",
      " 5   longitude         212014 non-null  float64\n",
      " 6   category          212014 non-null  object \n",
      " 7   avg_rating        212014 non-null  float64\n",
      " 8   num_of_reviews    212014 non-null  int64  \n",
      " 9   price             100000 non-null  object \n",
      " 10  hours             189913 non-null  object \n",
      " 11  MISC              210599 non-null  object \n",
      " 12  state             190751 non-null  object \n",
      " 13  relative_results  170957 non-null  object \n",
      " 14  url               212014 non-null  object \n",
      "dtypes: float64(3), int64(1), object(11)\n",
      "memory usage: 24.3+ MB\n"
     ]
    }
   ],
   "source": [
    "df.info()"
   ]
  },
  {
   "cell_type": "markdown",
   "metadata": {},
   "source": [
    "Dimensiones: 212.014 filas x 15 Columnas"
   ]
  },
  {
   "cell_type": "markdown",
   "metadata": {},
   "source": [
    "## 1.1.1 Obtención de información de Estados"
   ]
  },
  {
   "cell_type": "markdown",
   "metadata": {},
   "source": [
    "En base al campo <code>Address</code> obtenemos el estado donde se encuentra el negocio. Nos servirá para luego seleccionar los estados con más restaurantes."
   ]
  },
  {
   "cell_type": "code",
   "execution_count": 8,
   "metadata": {},
   "outputs": [],
   "source": [
    "def get_state_ab(st):\n",
    "    try:\n",
    "        state = st.split(', ')[-1].split(' ')[0]\n",
    "        if state in state_abreviations:\n",
    "            return state\n",
    "        else:\n",
    "            return np.nan\n",
    "    except:\n",
    "        return np.nan\n",
    "    \n",
    "df['state_ab'] = df['address'].apply(get_state_ab)"
   ]
  },
  {
   "cell_type": "markdown",
   "metadata": {},
   "source": [
    "De esta manera conseguimos el top 5 de los estados con más restaurantes"
   ]
  },
  {
   "cell_type": "code",
   "execution_count": 9,
   "metadata": {},
   "outputs": [],
   "source": [
    "top_5 = df['state_ab'].value_counts().head(5).index.to_list()"
   ]
  },
  {
   "cell_type": "code",
   "execution_count": 10,
   "metadata": {},
   "outputs": [
    {
     "data": {
      "text/plain": [
       "['CA', 'TX', 'NY', 'FL', 'PA']"
      ]
     },
     "execution_count": 10,
     "metadata": {},
     "output_type": "execute_result"
    }
   ],
   "source": [
    "top_5"
   ]
  },
  {
   "cell_type": "markdown",
   "metadata": {},
   "source": [
    "Completamos el campo estado que es más descriptivo"
   ]
  },
  {
   "cell_type": "code",
   "execution_count": 11,
   "metadata": {},
   "outputs": [],
   "source": [
    "df['us_state'] = df['state_ab'].map(state_dictionary)"
   ]
  },
  {
   "cell_type": "code",
   "execution_count": 12,
   "metadata": {},
   "outputs": [
    {
     "data": {
      "text/plain": [
       "0      California\n",
       "1      California\n",
       "2            Iowa\n",
       "3    Pennsylvania\n",
       "4          Hawaii\n",
       "Name: us_state, dtype: object"
      ]
     },
     "execution_count": 12,
     "metadata": {},
     "output_type": "execute_result"
    }
   ],
   "source": [
    "df['us_state'].head(5)"
   ]
  },
  {
   "cell_type": "markdown",
   "metadata": {},
   "source": [
    "Obtenemos un arreglo de URLs de los archivos correspondientes para cada estado del top 5, con el fin de extraer los datos en un bucle."
   ]
  },
  {
   "cell_type": "code",
   "execution_count": 13,
   "metadata": {},
   "outputs": [
    {
     "data": {
      "text/plain": [
       "['Datasets/Google Maps/reviews-estados/review-California/',\n",
       " 'Datasets/Google Maps/reviews-estados/review-Texas/',\n",
       " 'Datasets/Google Maps/reviews-estados/review-New_York/',\n",
       " 'Datasets/Google Maps/reviews-estados/review-Florida/',\n",
       " 'Datasets/Google Maps/reviews-estados/review-Pennsylvania/']"
      ]
     },
     "execution_count": 13,
     "metadata": {},
     "output_type": "execute_result"
    }
   ],
   "source": [
    "top_5_url = [f\"Datasets/Google Maps/reviews-estados/review-{state_dictionary[i].replace(' ', '_')}/\" for i in top_5]\n",
    "\n",
    "top_5_url\n"
   ]
  },
  {
   "cell_type": "markdown",
   "metadata": {},
   "source": [
    "Creamos un diccionario con la cantidad de archivos por cada directorio de estados, con el fin de utilizarlo en un bucle en la extracción de datos."
   ]
  },
  {
   "cell_type": "code",
   "execution_count": 14,
   "metadata": {},
   "outputs": [
    {
     "data": {
      "text/plain": [
       "{'Datasets/Google Maps/reviews-estados/review-California/': 1,\n",
       " 'Datasets/Google Maps/reviews-estados/review-Texas/': 16,\n",
       " 'Datasets/Google Maps/reviews-estados/review-New_York/': 18,\n",
       " 'Datasets/Google Maps/reviews-estados/review-Florida/': 19,\n",
       " 'Datasets/Google Maps/reviews-estados/review-Pennsylvania/': 16}"
      ]
     },
     "execution_count": 14,
     "metadata": {},
     "output_type": "execute_result"
    }
   ],
   "source": [
    "cantidad_archivos = {}\n",
    "\n",
    "for i in top_5_url:\n",
    "    for j in os.walk(i):\n",
    "        cantidad_archivos[i] = len(j[2])\n",
    "\n",
    "cantidad_archivos"
   ]
  },
  {
   "cell_type": "markdown",
   "metadata": {},
   "source": [
    "Comprobación"
   ]
  },
  {
   "cell_type": "code",
   "execution_count": 15,
   "metadata": {},
   "outputs": [
    {
     "name": "stdout",
     "output_type": "stream",
     "text": [
      "16\n"
     ]
    }
   ],
   "source": [
    "for i in os.walk('Datasets/Google Maps/reviews-estados/review-Pennsylvania'):\n",
    "    print(len(i[2]))"
   ]
  },
  {
   "cell_type": "code",
   "execution_count": 18,
   "metadata": {},
   "outputs": [
    {
     "data": {
      "text/plain": [
       "16"
      ]
     },
     "execution_count": 18,
     "metadata": {},
     "output_type": "execute_result"
    }
   ],
   "source": [
    "cantidad_archivos['Datasets/Google Maps/reviews-estados/review-Pennsylvania/']"
   ]
  },
  {
   "cell_type": "markdown",
   "metadata": {},
   "source": [
    "## 1.2 Reviews Estados"
   ]
  },
  {
   "cell_type": "markdown",
   "metadata": {},
   "source": [
    "Ya con los estados elegidos estamos en condiciones de ingestar los datos de las carpetas correspondientes dentro del directorio <code>reviews-estados</code>.\n",
    "Es información masiva lo que genera un archivo de grandes dimensiones, sin embargo previamente filtramos por el parámetro de año <code>2017-2019</code> valiéndonos del campo <code>time</code>, que tiene es un <code>timestamp</code>, pero con 3 digitos más que el usado por <code>datetime</code> de Python. Le agregamos el campo <code>Estado</code> que es más descriptivo."
   ]
  },
  {
   "cell_type": "code",
   "execution_count": 19,
   "metadata": {},
   "outputs": [
    {
     "data": {
      "text/html": [
       "<div>\n",
       "<style scoped>\n",
       "    .dataframe tbody tr th:only-of-type {\n",
       "        vertical-align: middle;\n",
       "    }\n",
       "\n",
       "    .dataframe tbody tr th {\n",
       "        vertical-align: top;\n",
       "    }\n",
       "\n",
       "    .dataframe thead th {\n",
       "        text-align: right;\n",
       "    }\n",
       "</style>\n",
       "<table border=\"1\" class=\"dataframe\">\n",
       "  <thead>\n",
       "    <tr style=\"text-align: right;\">\n",
       "      <th></th>\n",
       "      <th>user_id</th>\n",
       "      <th>name</th>\n",
       "      <th>time</th>\n",
       "      <th>rating</th>\n",
       "      <th>text</th>\n",
       "      <th>pics</th>\n",
       "      <th>resp</th>\n",
       "      <th>gmap_id</th>\n",
       "      <th>anio</th>\n",
       "      <th>estado</th>\n",
       "    </tr>\n",
       "  </thead>\n",
       "  <tbody>\n",
       "    <tr>\n",
       "      <th>0</th>\n",
       "      <td>117440349723823658676</td>\n",
       "      <td>Anthony Kim</td>\n",
       "      <td>1551938216355</td>\n",
       "      <td>5</td>\n",
       "      <td>Short ribs are very delicious.</td>\n",
       "      <td>None</td>\n",
       "      <td>None</td>\n",
       "      <td>0x80c2c778e3b73d33:0xbdc58662a4a97d49</td>\n",
       "      <td>2019</td>\n",
       "      <td>California</td>\n",
       "    </tr>\n",
       "    <tr>\n",
       "      <th>1</th>\n",
       "      <td>100580770836123539210</td>\n",
       "      <td>Mario Marzouk</td>\n",
       "      <td>1494910901933</td>\n",
       "      <td>5</td>\n",
       "      <td>Great food and prices the portions are large</td>\n",
       "      <td>None</td>\n",
       "      <td>None</td>\n",
       "      <td>0x80c2c778e3b73d33:0xbdc58662a4a97d49</td>\n",
       "      <td>2017</td>\n",
       "      <td>California</td>\n",
       "    </tr>\n",
       "    <tr>\n",
       "      <th>2</th>\n",
       "      <td>100185732664454906803</td>\n",
       "      <td>Ana Salazar</td>\n",
       "      <td>1547799582640</td>\n",
       "      <td>5</td>\n",
       "      <td>This food is delicious 😁</td>\n",
       "      <td>None</td>\n",
       "      <td>None</td>\n",
       "      <td>0x80c2c778e3b73d33:0xbdc58662a4a97d49</td>\n",
       "      <td>2019</td>\n",
       "      <td>California</td>\n",
       "    </tr>\n",
       "  </tbody>\n",
       "</table>\n",
       "</div>"
      ],
      "text/plain": [
       "                 user_id           name           time  rating  \\\n",
       "0  117440349723823658676    Anthony Kim  1551938216355       5   \n",
       "1  100580770836123539210  Mario Marzouk  1494910901933       5   \n",
       "2  100185732664454906803    Ana Salazar  1547799582640       5   \n",
       "\n",
       "                                           text  pics  resp  \\\n",
       "0                Short ribs are very delicious.  None  None   \n",
       "1  Great food and prices the portions are large  None  None   \n",
       "2                      This food is delicious 😁  None  None   \n",
       "\n",
       "                                 gmap_id  anio      estado  \n",
       "0  0x80c2c778e3b73d33:0xbdc58662a4a97d49  2019  California  \n",
       "1  0x80c2c778e3b73d33:0xbdc58662a4a97d49  2017  California  \n",
       "2  0x80c2c778e3b73d33:0xbdc58662a4a97d49  2019  California  "
      ]
     },
     "execution_count": 19,
     "metadata": {},
     "output_type": "execute_result"
    }
   ],
   "source": [
    "### Demora 7 minutos y 40 segundos, 11 minutos, varía\n",
    "\n",
    "lineas_json_revs_google = []\n",
    "\n",
    "for i in top_5_url:\n",
    "    count = 0\n",
    "    for c in range(1,cantidad_archivos[i]+1):\n",
    "        with open(str(i)+str(c)+\".json\", 'r', encoding='utf-8') as f:        \n",
    "            for s in f:\n",
    "                linea = json.loads(s)\n",
    "                linea['anio'] = datetime.datetime.fromtimestamp(linea['time']/1000).year\n",
    "                linea['estado'] = i.split('-')[-1][:-1]\n",
    "                \n",
    "                if linea['anio'] in [2017,2018,2019]:\n",
    "                    lineas_json_revs_google.append(linea)\n",
    "\n",
    "df_revs_google = pd.DataFrame(lineas_json_revs_google)\n",
    "\n",
    "df_revs_google.head(3)"
   ]
  },
  {
   "cell_type": "code",
   "execution_count": 20,
   "metadata": {},
   "outputs": [],
   "source": [
    "merge_site_reviews = pd.merge(df_revs_google, df, left_on='gmap_id', right_on='gmap_id')"
   ]
  },
  {
   "cell_type": "code",
   "execution_count": 21,
   "metadata": {},
   "outputs": [
    {
     "data": {
      "text/html": [
       "<div>\n",
       "<style scoped>\n",
       "    .dataframe tbody tr th:only-of-type {\n",
       "        vertical-align: middle;\n",
       "    }\n",
       "\n",
       "    .dataframe tbody tr th {\n",
       "        vertical-align: top;\n",
       "    }\n",
       "\n",
       "    .dataframe thead th {\n",
       "        text-align: right;\n",
       "    }\n",
       "</style>\n",
       "<table border=\"1\" class=\"dataframe\">\n",
       "  <thead>\n",
       "    <tr style=\"text-align: right;\">\n",
       "      <th></th>\n",
       "      <th>user_id</th>\n",
       "      <th>name_x</th>\n",
       "      <th>time</th>\n",
       "      <th>rating</th>\n",
       "      <th>text</th>\n",
       "      <th>pics</th>\n",
       "      <th>resp</th>\n",
       "      <th>gmap_id</th>\n",
       "      <th>anio</th>\n",
       "      <th>estado</th>\n",
       "      <th>...</th>\n",
       "      <th>avg_rating</th>\n",
       "      <th>num_of_reviews</th>\n",
       "      <th>price</th>\n",
       "      <th>hours</th>\n",
       "      <th>MISC</th>\n",
       "      <th>state</th>\n",
       "      <th>relative_results</th>\n",
       "      <th>url</th>\n",
       "      <th>state_ab</th>\n",
       "      <th>us_state</th>\n",
       "    </tr>\n",
       "  </thead>\n",
       "  <tbody>\n",
       "    <tr>\n",
       "      <th>0</th>\n",
       "      <td>117440349723823658676</td>\n",
       "      <td>Anthony Kim</td>\n",
       "      <td>1551938216355</td>\n",
       "      <td>5</td>\n",
       "      <td>Short ribs are very delicious.</td>\n",
       "      <td>None</td>\n",
       "      <td>None</td>\n",
       "      <td>0x80c2c778e3b73d33:0xbdc58662a4a97d49</td>\n",
       "      <td>2019</td>\n",
       "      <td>California</td>\n",
       "      <td>...</td>\n",
       "      <td>4.4</td>\n",
       "      <td>18</td>\n",
       "      <td>None</td>\n",
       "      <td>[[Thursday, 6:30AM–6PM], [Friday, 6:30AM–6PM],...</td>\n",
       "      <td>{'Service options': ['Takeout', 'Dine-in', 'De...</td>\n",
       "      <td>Open ⋅ Closes 6PM</td>\n",
       "      <td>[0x80c2c78249aba68f:0x35bf16ce61be751d, 0x80c2...</td>\n",
       "      <td>https://www.google.com/maps/place//data=!4m2!3...</td>\n",
       "      <td>CA</td>\n",
       "      <td>California</td>\n",
       "    </tr>\n",
       "    <tr>\n",
       "      <th>1</th>\n",
       "      <td>117440349723823658676</td>\n",
       "      <td>Anthony Kim</td>\n",
       "      <td>1551938216355</td>\n",
       "      <td>5</td>\n",
       "      <td>Short ribs are very delicious.</td>\n",
       "      <td>None</td>\n",
       "      <td>None</td>\n",
       "      <td>0x80c2c778e3b73d33:0xbdc58662a4a97d49</td>\n",
       "      <td>2019</td>\n",
       "      <td>California</td>\n",
       "      <td>...</td>\n",
       "      <td>4.4</td>\n",
       "      <td>18</td>\n",
       "      <td>None</td>\n",
       "      <td>[[Thursday, 6:30AM–6PM], [Friday, 6:30AM–6PM],...</td>\n",
       "      <td>{'Service options': ['Takeout', 'Dine-in', 'De...</td>\n",
       "      <td>Open ⋅ Closes 6PM</td>\n",
       "      <td>[0x80c2c78249aba68f:0x35bf16ce61be751d, 0x80c2...</td>\n",
       "      <td>https://www.google.com/maps/place//data=!4m2!3...</td>\n",
       "      <td>CA</td>\n",
       "      <td>California</td>\n",
       "    </tr>\n",
       "    <tr>\n",
       "      <th>2</th>\n",
       "      <td>100580770836123539210</td>\n",
       "      <td>Mario Marzouk</td>\n",
       "      <td>1494910901933</td>\n",
       "      <td>5</td>\n",
       "      <td>Great food and prices the portions are large</td>\n",
       "      <td>None</td>\n",
       "      <td>None</td>\n",
       "      <td>0x80c2c778e3b73d33:0xbdc58662a4a97d49</td>\n",
       "      <td>2017</td>\n",
       "      <td>California</td>\n",
       "      <td>...</td>\n",
       "      <td>4.4</td>\n",
       "      <td>18</td>\n",
       "      <td>None</td>\n",
       "      <td>[[Thursday, 6:30AM–6PM], [Friday, 6:30AM–6PM],...</td>\n",
       "      <td>{'Service options': ['Takeout', 'Dine-in', 'De...</td>\n",
       "      <td>Open ⋅ Closes 6PM</td>\n",
       "      <td>[0x80c2c78249aba68f:0x35bf16ce61be751d, 0x80c2...</td>\n",
       "      <td>https://www.google.com/maps/place//data=!4m2!3...</td>\n",
       "      <td>CA</td>\n",
       "      <td>California</td>\n",
       "    </tr>\n",
       "    <tr>\n",
       "      <th>3</th>\n",
       "      <td>100580770836123539210</td>\n",
       "      <td>Mario Marzouk</td>\n",
       "      <td>1494910901933</td>\n",
       "      <td>5</td>\n",
       "      <td>Great food and prices the portions are large</td>\n",
       "      <td>None</td>\n",
       "      <td>None</td>\n",
       "      <td>0x80c2c778e3b73d33:0xbdc58662a4a97d49</td>\n",
       "      <td>2017</td>\n",
       "      <td>California</td>\n",
       "      <td>...</td>\n",
       "      <td>4.4</td>\n",
       "      <td>18</td>\n",
       "      <td>None</td>\n",
       "      <td>[[Thursday, 6:30AM–6PM], [Friday, 6:30AM–6PM],...</td>\n",
       "      <td>{'Service options': ['Takeout', 'Dine-in', 'De...</td>\n",
       "      <td>Open ⋅ Closes 6PM</td>\n",
       "      <td>[0x80c2c78249aba68f:0x35bf16ce61be751d, 0x80c2...</td>\n",
       "      <td>https://www.google.com/maps/place//data=!4m2!3...</td>\n",
       "      <td>CA</td>\n",
       "      <td>California</td>\n",
       "    </tr>\n",
       "    <tr>\n",
       "      <th>4</th>\n",
       "      <td>100185732664454906803</td>\n",
       "      <td>Ana Salazar</td>\n",
       "      <td>1547799582640</td>\n",
       "      <td>5</td>\n",
       "      <td>This food is delicious 😁</td>\n",
       "      <td>None</td>\n",
       "      <td>None</td>\n",
       "      <td>0x80c2c778e3b73d33:0xbdc58662a4a97d49</td>\n",
       "      <td>2019</td>\n",
       "      <td>California</td>\n",
       "      <td>...</td>\n",
       "      <td>4.4</td>\n",
       "      <td>18</td>\n",
       "      <td>None</td>\n",
       "      <td>[[Thursday, 6:30AM–6PM], [Friday, 6:30AM–6PM],...</td>\n",
       "      <td>{'Service options': ['Takeout', 'Dine-in', 'De...</td>\n",
       "      <td>Open ⋅ Closes 6PM</td>\n",
       "      <td>[0x80c2c78249aba68f:0x35bf16ce61be751d, 0x80c2...</td>\n",
       "      <td>https://www.google.com/maps/place//data=!4m2!3...</td>\n",
       "      <td>CA</td>\n",
       "      <td>California</td>\n",
       "    </tr>\n",
       "    <tr>\n",
       "      <th>...</th>\n",
       "      <td>...</td>\n",
       "      <td>...</td>\n",
       "      <td>...</td>\n",
       "      <td>...</td>\n",
       "      <td>...</td>\n",
       "      <td>...</td>\n",
       "      <td>...</td>\n",
       "      <td>...</td>\n",
       "      <td>...</td>\n",
       "      <td>...</td>\n",
       "      <td>...</td>\n",
       "      <td>...</td>\n",
       "      <td>...</td>\n",
       "      <td>...</td>\n",
       "      <td>...</td>\n",
       "      <td>...</td>\n",
       "      <td>...</td>\n",
       "      <td>...</td>\n",
       "      <td>...</td>\n",
       "      <td>...</td>\n",
       "      <td>...</td>\n",
       "    </tr>\n",
       "    <tr>\n",
       "      <th>1877469</th>\n",
       "      <td>107717065264565707751</td>\n",
       "      <td>Dent forem</td>\n",
       "      <td>1540928892138</td>\n",
       "      <td>4</td>\n",
       "      <td>None</td>\n",
       "      <td>None</td>\n",
       "      <td>None</td>\n",
       "      <td>0x89c6c4072624d2a9:0x4437b2d55e9a5811</td>\n",
       "      <td>2018</td>\n",
       "      <td>Pennsylvania</td>\n",
       "      <td>...</td>\n",
       "      <td>4.0</td>\n",
       "      <td>348</td>\n",
       "      <td>$</td>\n",
       "      <td>[[Monday, 5:30AM–7:30PM], [Tuesday, 5:30AM–7:3...</td>\n",
       "      <td>{'Service options': ['Delivery', 'Drive-throug...</td>\n",
       "      <td>Open ⋅ Closes 7:30PM</td>\n",
       "      <td>[0x89c6c6d16baf5e31:0x85b50cbaee46e6fb, 0x89c6...</td>\n",
       "      <td>https://www.google.com/maps/place//data=!4m2!3...</td>\n",
       "      <td>PA</td>\n",
       "      <td>Pennsylvania</td>\n",
       "    </tr>\n",
       "    <tr>\n",
       "      <th>1877470</th>\n",
       "      <td>101396365263865239292</td>\n",
       "      <td>raage hassan</td>\n",
       "      <td>1532100711211</td>\n",
       "      <td>5</td>\n",
       "      <td>None</td>\n",
       "      <td>None</td>\n",
       "      <td>None</td>\n",
       "      <td>0x89c6c4072624d2a9:0x4437b2d55e9a5811</td>\n",
       "      <td>2018</td>\n",
       "      <td>Pennsylvania</td>\n",
       "      <td>...</td>\n",
       "      <td>4.0</td>\n",
       "      <td>348</td>\n",
       "      <td>$</td>\n",
       "      <td>[[Monday, 5:30AM–7:30PM], [Tuesday, 5:30AM–7:3...</td>\n",
       "      <td>{'Service options': ['Delivery', 'Drive-throug...</td>\n",
       "      <td>Open ⋅ Closes 7:30PM</td>\n",
       "      <td>[0x89c6c6d16baf5e31:0x85b50cbaee46e6fb, 0x89c6...</td>\n",
       "      <td>https://www.google.com/maps/place//data=!4m2!3...</td>\n",
       "      <td>PA</td>\n",
       "      <td>Pennsylvania</td>\n",
       "    </tr>\n",
       "    <tr>\n",
       "      <th>1877471</th>\n",
       "      <td>101151161541936616847</td>\n",
       "      <td>Dwight Lee</td>\n",
       "      <td>1556141493132</td>\n",
       "      <td>5</td>\n",
       "      <td>None</td>\n",
       "      <td>None</td>\n",
       "      <td>None</td>\n",
       "      <td>0x89c6c4072624d2a9:0x4437b2d55e9a5811</td>\n",
       "      <td>2019</td>\n",
       "      <td>Pennsylvania</td>\n",
       "      <td>...</td>\n",
       "      <td>4.0</td>\n",
       "      <td>348</td>\n",
       "      <td>$</td>\n",
       "      <td>[[Monday, 5:30AM–7:30PM], [Tuesday, 5:30AM–7:3...</td>\n",
       "      <td>{'Service options': ['Delivery', 'Drive-throug...</td>\n",
       "      <td>Open ⋅ Closes 7:30PM</td>\n",
       "      <td>[0x89c6c6d16baf5e31:0x85b50cbaee46e6fb, 0x89c6...</td>\n",
       "      <td>https://www.google.com/maps/place//data=!4m2!3...</td>\n",
       "      <td>PA</td>\n",
       "      <td>Pennsylvania</td>\n",
       "    </tr>\n",
       "    <tr>\n",
       "      <th>1877472</th>\n",
       "      <td>102266399501370637195</td>\n",
       "      <td>Benjamin Mullins-Spann</td>\n",
       "      <td>1527394310797</td>\n",
       "      <td>5</td>\n",
       "      <td>None</td>\n",
       "      <td>None</td>\n",
       "      <td>None</td>\n",
       "      <td>0x89c6c4072624d2a9:0x4437b2d55e9a5811</td>\n",
       "      <td>2018</td>\n",
       "      <td>Pennsylvania</td>\n",
       "      <td>...</td>\n",
       "      <td>4.0</td>\n",
       "      <td>348</td>\n",
       "      <td>$</td>\n",
       "      <td>[[Monday, 5:30AM–7:30PM], [Tuesday, 5:30AM–7:3...</td>\n",
       "      <td>{'Service options': ['Delivery', 'Drive-throug...</td>\n",
       "      <td>Open ⋅ Closes 7:30PM</td>\n",
       "      <td>[0x89c6c6d16baf5e31:0x85b50cbaee46e6fb, 0x89c6...</td>\n",
       "      <td>https://www.google.com/maps/place//data=!4m2!3...</td>\n",
       "      <td>PA</td>\n",
       "      <td>Pennsylvania</td>\n",
       "    </tr>\n",
       "    <tr>\n",
       "      <th>1877473</th>\n",
       "      <td>108075755581228611786</td>\n",
       "      <td>tmax teah</td>\n",
       "      <td>1523054804032</td>\n",
       "      <td>4</td>\n",
       "      <td>None</td>\n",
       "      <td>None</td>\n",
       "      <td>None</td>\n",
       "      <td>0x89c6c4072624d2a9:0x4437b2d55e9a5811</td>\n",
       "      <td>2018</td>\n",
       "      <td>Pennsylvania</td>\n",
       "      <td>...</td>\n",
       "      <td>4.0</td>\n",
       "      <td>348</td>\n",
       "      <td>$</td>\n",
       "      <td>[[Monday, 5:30AM–7:30PM], [Tuesday, 5:30AM–7:3...</td>\n",
       "      <td>{'Service options': ['Delivery', 'Drive-throug...</td>\n",
       "      <td>Open ⋅ Closes 7:30PM</td>\n",
       "      <td>[0x89c6c6d16baf5e31:0x85b50cbaee46e6fb, 0x89c6...</td>\n",
       "      <td>https://www.google.com/maps/place//data=!4m2!3...</td>\n",
       "      <td>PA</td>\n",
       "      <td>Pennsylvania</td>\n",
       "    </tr>\n",
       "  </tbody>\n",
       "</table>\n",
       "<p>1877474 rows × 26 columns</p>\n",
       "</div>"
      ],
      "text/plain": [
       "                       user_id                  name_x           time  rating  \\\n",
       "0        117440349723823658676             Anthony Kim  1551938216355       5   \n",
       "1        117440349723823658676             Anthony Kim  1551938216355       5   \n",
       "2        100580770836123539210           Mario Marzouk  1494910901933       5   \n",
       "3        100580770836123539210           Mario Marzouk  1494910901933       5   \n",
       "4        100185732664454906803             Ana Salazar  1547799582640       5   \n",
       "...                        ...                     ...            ...     ...   \n",
       "1877469  107717065264565707751              Dent forem  1540928892138       4   \n",
       "1877470  101396365263865239292            raage hassan  1532100711211       5   \n",
       "1877471  101151161541936616847              Dwight Lee  1556141493132       5   \n",
       "1877472  102266399501370637195  Benjamin Mullins-Spann  1527394310797       5   \n",
       "1877473  108075755581228611786               tmax teah  1523054804032       4   \n",
       "\n",
       "                                                 text  pics  resp  \\\n",
       "0                      Short ribs are very delicious.  None  None   \n",
       "1                      Short ribs are very delicious.  None  None   \n",
       "2        Great food and prices the portions are large  None  None   \n",
       "3        Great food and prices the portions are large  None  None   \n",
       "4                            This food is delicious 😁  None  None   \n",
       "...                                               ...   ...   ...   \n",
       "1877469                                          None  None  None   \n",
       "1877470                                          None  None  None   \n",
       "1877471                                          None  None  None   \n",
       "1877472                                          None  None  None   \n",
       "1877473                                          None  None  None   \n",
       "\n",
       "                                       gmap_id  anio        estado  ...  \\\n",
       "0        0x80c2c778e3b73d33:0xbdc58662a4a97d49  2019    California  ...   \n",
       "1        0x80c2c778e3b73d33:0xbdc58662a4a97d49  2019    California  ...   \n",
       "2        0x80c2c778e3b73d33:0xbdc58662a4a97d49  2017    California  ...   \n",
       "3        0x80c2c778e3b73d33:0xbdc58662a4a97d49  2017    California  ...   \n",
       "4        0x80c2c778e3b73d33:0xbdc58662a4a97d49  2019    California  ...   \n",
       "...                                        ...   ...           ...  ...   \n",
       "1877469  0x89c6c4072624d2a9:0x4437b2d55e9a5811  2018  Pennsylvania  ...   \n",
       "1877470  0x89c6c4072624d2a9:0x4437b2d55e9a5811  2018  Pennsylvania  ...   \n",
       "1877471  0x89c6c4072624d2a9:0x4437b2d55e9a5811  2019  Pennsylvania  ...   \n",
       "1877472  0x89c6c4072624d2a9:0x4437b2d55e9a5811  2018  Pennsylvania  ...   \n",
       "1877473  0x89c6c4072624d2a9:0x4437b2d55e9a5811  2018  Pennsylvania  ...   \n",
       "\n",
       "        avg_rating num_of_reviews price  \\\n",
       "0              4.4             18  None   \n",
       "1              4.4             18  None   \n",
       "2              4.4             18  None   \n",
       "3              4.4             18  None   \n",
       "4              4.4             18  None   \n",
       "...            ...            ...   ...   \n",
       "1877469        4.0            348     $   \n",
       "1877470        4.0            348     $   \n",
       "1877471        4.0            348     $   \n",
       "1877472        4.0            348     $   \n",
       "1877473        4.0            348     $   \n",
       "\n",
       "                                                     hours  \\\n",
       "0        [[Thursday, 6:30AM–6PM], [Friday, 6:30AM–6PM],...   \n",
       "1        [[Thursday, 6:30AM–6PM], [Friday, 6:30AM–6PM],...   \n",
       "2        [[Thursday, 6:30AM–6PM], [Friday, 6:30AM–6PM],...   \n",
       "3        [[Thursday, 6:30AM–6PM], [Friday, 6:30AM–6PM],...   \n",
       "4        [[Thursday, 6:30AM–6PM], [Friday, 6:30AM–6PM],...   \n",
       "...                                                    ...   \n",
       "1877469  [[Monday, 5:30AM–7:30PM], [Tuesday, 5:30AM–7:3...   \n",
       "1877470  [[Monday, 5:30AM–7:30PM], [Tuesday, 5:30AM–7:3...   \n",
       "1877471  [[Monday, 5:30AM–7:30PM], [Tuesday, 5:30AM–7:3...   \n",
       "1877472  [[Monday, 5:30AM–7:30PM], [Tuesday, 5:30AM–7:3...   \n",
       "1877473  [[Monday, 5:30AM–7:30PM], [Tuesday, 5:30AM–7:3...   \n",
       "\n",
       "                                                      MISC  \\\n",
       "0        {'Service options': ['Takeout', 'Dine-in', 'De...   \n",
       "1        {'Service options': ['Takeout', 'Dine-in', 'De...   \n",
       "2        {'Service options': ['Takeout', 'Dine-in', 'De...   \n",
       "3        {'Service options': ['Takeout', 'Dine-in', 'De...   \n",
       "4        {'Service options': ['Takeout', 'Dine-in', 'De...   \n",
       "...                                                    ...   \n",
       "1877469  {'Service options': ['Delivery', 'Drive-throug...   \n",
       "1877470  {'Service options': ['Delivery', 'Drive-throug...   \n",
       "1877471  {'Service options': ['Delivery', 'Drive-throug...   \n",
       "1877472  {'Service options': ['Delivery', 'Drive-throug...   \n",
       "1877473  {'Service options': ['Delivery', 'Drive-throug...   \n",
       "\n",
       "                        state  \\\n",
       "0           Open ⋅ Closes 6PM   \n",
       "1           Open ⋅ Closes 6PM   \n",
       "2           Open ⋅ Closes 6PM   \n",
       "3           Open ⋅ Closes 6PM   \n",
       "4           Open ⋅ Closes 6PM   \n",
       "...                       ...   \n",
       "1877469  Open ⋅ Closes 7:30PM   \n",
       "1877470  Open ⋅ Closes 7:30PM   \n",
       "1877471  Open ⋅ Closes 7:30PM   \n",
       "1877472  Open ⋅ Closes 7:30PM   \n",
       "1877473  Open ⋅ Closes 7:30PM   \n",
       "\n",
       "                                          relative_results  \\\n",
       "0        [0x80c2c78249aba68f:0x35bf16ce61be751d, 0x80c2...   \n",
       "1        [0x80c2c78249aba68f:0x35bf16ce61be751d, 0x80c2...   \n",
       "2        [0x80c2c78249aba68f:0x35bf16ce61be751d, 0x80c2...   \n",
       "3        [0x80c2c78249aba68f:0x35bf16ce61be751d, 0x80c2...   \n",
       "4        [0x80c2c78249aba68f:0x35bf16ce61be751d, 0x80c2...   \n",
       "...                                                    ...   \n",
       "1877469  [0x89c6c6d16baf5e31:0x85b50cbaee46e6fb, 0x89c6...   \n",
       "1877470  [0x89c6c6d16baf5e31:0x85b50cbaee46e6fb, 0x89c6...   \n",
       "1877471  [0x89c6c6d16baf5e31:0x85b50cbaee46e6fb, 0x89c6...   \n",
       "1877472  [0x89c6c6d16baf5e31:0x85b50cbaee46e6fb, 0x89c6...   \n",
       "1877473  [0x89c6c6d16baf5e31:0x85b50cbaee46e6fb, 0x89c6...   \n",
       "\n",
       "                                                       url state_ab  \\\n",
       "0        https://www.google.com/maps/place//data=!4m2!3...       CA   \n",
       "1        https://www.google.com/maps/place//data=!4m2!3...       CA   \n",
       "2        https://www.google.com/maps/place//data=!4m2!3...       CA   \n",
       "3        https://www.google.com/maps/place//data=!4m2!3...       CA   \n",
       "4        https://www.google.com/maps/place//data=!4m2!3...       CA   \n",
       "...                                                    ...      ...   \n",
       "1877469  https://www.google.com/maps/place//data=!4m2!3...       PA   \n",
       "1877470  https://www.google.com/maps/place//data=!4m2!3...       PA   \n",
       "1877471  https://www.google.com/maps/place//data=!4m2!3...       PA   \n",
       "1877472  https://www.google.com/maps/place//data=!4m2!3...       PA   \n",
       "1877473  https://www.google.com/maps/place//data=!4m2!3...       PA   \n",
       "\n",
       "             us_state  \n",
       "0          California  \n",
       "1          California  \n",
       "2          California  \n",
       "3          California  \n",
       "4          California  \n",
       "...               ...  \n",
       "1877469  Pennsylvania  \n",
       "1877470  Pennsylvania  \n",
       "1877471  Pennsylvania  \n",
       "1877472  Pennsylvania  \n",
       "1877473  Pennsylvania  \n",
       "\n",
       "[1877474 rows x 26 columns]"
      ]
     },
     "execution_count": 21,
     "metadata": {},
     "output_type": "execute_result"
    }
   ],
   "source": [
    "merge_site_reviews"
   ]
  },
  {
   "cell_type": "code",
   "execution_count": 22,
   "metadata": {},
   "outputs": [],
   "source": [
    "merge_site_reviews.to_parquet(r'Generated\\Google\\merge_site_reviews.parquet')"
   ]
  },
  {
   "cell_type": "code",
   "execution_count": 23,
   "metadata": {},
   "outputs": [],
   "source": [
    "df_revs_google.to_parquet(r'Generated\\Google\\reviews-estados.parquet')"
   ]
  },
  {
   "cell_type": "markdown",
   "metadata": {},
   "source": [
    "Tamaño archivo: 760 Mb\n",
    "\n",
    "Tamaño dataset: 24.3 Gb"
   ]
  },
  {
   "cell_type": "code",
   "execution_count": 24,
   "metadata": {},
   "outputs": [
    {
     "name": "stdout",
     "output_type": "stream",
     "text": [
      "<class 'pandas.core.frame.DataFrame'>\n",
      "RangeIndex: 6690278 entries, 0 to 6690277\n",
      "Data columns (total 10 columns):\n",
      " #   Column   Dtype \n",
      "---  ------   ----- \n",
      " 0   user_id  object\n",
      " 1   name     object\n",
      " 2   time     int64 \n",
      " 3   rating   int64 \n",
      " 4   text     object\n",
      " 5   pics     object\n",
      " 6   resp     object\n",
      " 7   gmap_id  object\n",
      " 8   anio     int64 \n",
      " 9   estado   object\n",
      "dtypes: int64(3), object(7)\n",
      "memory usage: 510.4+ MB\n"
     ]
    }
   ],
   "source": [
    "df_revs_google.info()"
   ]
  },
  {
   "cell_type": "markdown",
   "metadata": {},
   "source": [
    "Tamaño 8.339.179 filas x 10 Columnas."
   ]
  },
  {
   "cell_type": "markdown",
   "metadata": {},
   "source": [
    "# 2. Extracción de los Dataset de YELP"
   ]
  },
  {
   "cell_type": "markdown",
   "metadata": {},
   "source": [
    "### 2.1 Business"
   ]
  },
  {
   "cell_type": "markdown",
   "metadata": {},
   "source": [
    "Contiene los datos de las entidades negocios de Yelp, a un primer vistazo tiene las columnas duplicadas, por lo que hay que hacer un recorte, ya que la segunda mitad tiene datos vacíos en su inmensa mayoría."
   ]
  },
  {
   "cell_type": "code",
   "execution_count": 25,
   "metadata": {},
   "outputs": [],
   "source": [
    "url_business = r'Datasets\\Yelp\\business.pkl'\n",
    "\n",
    "df_business = pd.read_pickle(url_business)\n",
    "\n",
    "df_business = df_business.iloc[:,:-14]"
   ]
  },
  {
   "cell_type": "code",
   "execution_count": 26,
   "metadata": {},
   "outputs": [
    {
     "data": {
      "text/html": [
       "<div>\n",
       "<style scoped>\n",
       "    .dataframe tbody tr th:only-of-type {\n",
       "        vertical-align: middle;\n",
       "    }\n",
       "\n",
       "    .dataframe tbody tr th {\n",
       "        vertical-align: top;\n",
       "    }\n",
       "\n",
       "    .dataframe thead th {\n",
       "        text-align: right;\n",
       "    }\n",
       "</style>\n",
       "<table border=\"1\" class=\"dataframe\">\n",
       "  <thead>\n",
       "    <tr style=\"text-align: right;\">\n",
       "      <th></th>\n",
       "      <th>business_id</th>\n",
       "      <th>name</th>\n",
       "      <th>address</th>\n",
       "      <th>city</th>\n",
       "      <th>state</th>\n",
       "      <th>postal_code</th>\n",
       "      <th>latitude</th>\n",
       "      <th>longitude</th>\n",
       "      <th>stars</th>\n",
       "      <th>review_count</th>\n",
       "      <th>is_open</th>\n",
       "      <th>attributes</th>\n",
       "      <th>categories</th>\n",
       "      <th>hours</th>\n",
       "    </tr>\n",
       "  </thead>\n",
       "  <tbody>\n",
       "    <tr>\n",
       "      <th>3039</th>\n",
       "      <td>r0a85uiYdzndVNcsYQfxHw</td>\n",
       "      <td>Swig - Event Staffing &amp; Coordination</td>\n",
       "      <td></td>\n",
       "      <td>King of Prussia</td>\n",
       "      <td>FL</td>\n",
       "      <td>19406</td>\n",
       "      <td>40.097222</td>\n",
       "      <td>-75.376195</td>\n",
       "      <td>4.5</td>\n",
       "      <td>41</td>\n",
       "      <td>1</td>\n",
       "      <td>{'ByAppointmentOnly': 'True', 'BusinessAccepts...</td>\n",
       "      <td>Event Planning &amp; Services, Party &amp; Event Plann...</td>\n",
       "      <td>{'Monday': '0:0-0:0', 'Tuesday': '0:0-0:0', 'W...</td>\n",
       "    </tr>\n",
       "    <tr>\n",
       "      <th>68414</th>\n",
       "      <td>MFy3OwuMFdUhr29IIy_TdA</td>\n",
       "      <td>Cabela's</td>\n",
       "      <td>1100 Christiana Mall, Ste 1410</td>\n",
       "      <td>Newark</td>\n",
       "      <td>NV</td>\n",
       "      <td>19702</td>\n",
       "      <td>39.677327</td>\n",
       "      <td>-75.652238</td>\n",
       "      <td>3.0</td>\n",
       "      <td>70</td>\n",
       "      <td>1</td>\n",
       "      <td>{'BikeParking': 'True', 'BusinessParking': '{'...</td>\n",
       "      <td>Shopping, Hunting &amp; Fishing Supplies, Luggage,...</td>\n",
       "      <td>{'Monday': '9:0-21:0', 'Tuesday': '9:0-21:0', ...</td>\n",
       "    </tr>\n",
       "    <tr>\n",
       "      <th>58012</th>\n",
       "      <td>QFodscbX3HVqza1W68NbwQ</td>\n",
       "      <td>Pet Supplies Plus - New Port Richey</td>\n",
       "      <td>9143 Little Rd</td>\n",
       "      <td>New Port Richey</td>\n",
       "      <td>NV</td>\n",
       "      <td>34654</td>\n",
       "      <td>28.290703</td>\n",
       "      <td>-82.677266</td>\n",
       "      <td>4.5</td>\n",
       "      <td>14</td>\n",
       "      <td>1</td>\n",
       "      <td>{'RestaurantsDelivery': 'True'}</td>\n",
       "      <td>Pets, Pet Stores, Pet Services, Pet Groomers</td>\n",
       "      <td>{'Monday': '9:0-21:0', 'Tuesday': '9:0-21:0', ...</td>\n",
       "    </tr>\n",
       "  </tbody>\n",
       "</table>\n",
       "</div>"
      ],
      "text/plain": [
       "                  business_id                                  name  \\\n",
       "3039   r0a85uiYdzndVNcsYQfxHw  Swig - Event Staffing & Coordination   \n",
       "68414  MFy3OwuMFdUhr29IIy_TdA                              Cabela's   \n",
       "58012  QFodscbX3HVqza1W68NbwQ   Pet Supplies Plus - New Port Richey   \n",
       "\n",
       "                              address             city state postal_code  \\\n",
       "3039                                   King of Prussia    FL       19406   \n",
       "68414  1100 Christiana Mall, Ste 1410           Newark    NV       19702   \n",
       "58012                  9143 Little Rd  New Port Richey    NV       34654   \n",
       "\n",
       "        latitude  longitude stars review_count is_open  \\\n",
       "3039   40.097222 -75.376195   4.5           41       1   \n",
       "68414  39.677327 -75.652238   3.0           70       1   \n",
       "58012  28.290703 -82.677266   4.5           14       1   \n",
       "\n",
       "                                              attributes  \\\n",
       "3039   {'ByAppointmentOnly': 'True', 'BusinessAccepts...   \n",
       "68414  {'BikeParking': 'True', 'BusinessParking': '{'...   \n",
       "58012                    {'RestaurantsDelivery': 'True'}   \n",
       "\n",
       "                                              categories  \\\n",
       "3039   Event Planning & Services, Party & Event Plann...   \n",
       "68414  Shopping, Hunting & Fishing Supplies, Luggage,...   \n",
       "58012       Pets, Pet Stores, Pet Services, Pet Groomers   \n",
       "\n",
       "                                                   hours  \n",
       "3039   {'Monday': '0:0-0:0', 'Tuesday': '0:0-0:0', 'W...  \n",
       "68414  {'Monday': '9:0-21:0', 'Tuesday': '9:0-21:0', ...  \n",
       "58012  {'Monday': '9:0-21:0', 'Tuesday': '9:0-21:0', ...  "
      ]
     },
     "execution_count": 26,
     "metadata": {},
     "output_type": "execute_result"
    }
   ],
   "source": [
    "df_business.sample(3)"
   ]
  },
  {
   "cell_type": "code",
   "execution_count": 27,
   "metadata": {},
   "outputs": [
    {
     "data": {
      "text/plain": [
       "(150346, 14)"
      ]
     },
     "execution_count": 27,
     "metadata": {},
     "output_type": "execute_result"
    }
   ],
   "source": [
    "df_business.shape"
   ]
  },
  {
   "cell_type": "markdown",
   "metadata": {},
   "source": [
    "Luego con la ayuda del campo <code>state</code> filtramos los negocios que se encuentran en los estados seleccionados en nuestro análisis."
   ]
  },
  {
   "cell_type": "code",
   "execution_count": 28,
   "metadata": {},
   "outputs": [],
   "source": [
    "df_business = df_business[df_business.state.isin(top_5)]"
   ]
  },
  {
   "cell_type": "code",
   "execution_count": 29,
   "metadata": {},
   "outputs": [
    {
     "name": "stdout",
     "output_type": "stream",
     "text": [
      "<class 'pandas.core.frame.DataFrame'>\n",
      "Index: 65575 entries, 3 to 150339\n",
      "Data columns (total 14 columns):\n",
      " #   Column        Non-Null Count  Dtype \n",
      "---  ------        --------------  ----- \n",
      " 0   business_id   65575 non-null  object\n",
      " 1   name          65575 non-null  object\n",
      " 2   address       65575 non-null  object\n",
      " 3   city          65575 non-null  object\n",
      " 4   state         65575 non-null  object\n",
      " 5   postal_code   65575 non-null  object\n",
      " 6   latitude      65575 non-null  object\n",
      " 7   longitude     65575 non-null  object\n",
      " 8   stars         65575 non-null  object\n",
      " 9   review_count  65575 non-null  object\n",
      " 10  is_open       65575 non-null  object\n",
      " 11  attributes    59534 non-null  object\n",
      " 12  categories    65529 non-null  object\n",
      " 13  hours         55337 non-null  object\n",
      "dtypes: object(14)\n",
      "memory usage: 7.5+ MB\n"
     ]
    }
   ],
   "source": [
    "df_business.info()"
   ]
  },
  {
   "cell_type": "markdown",
   "metadata": {},
   "source": [
    "Seguimos filtrando a través del campo <code>categories</code>, para obtener los negocios que son restaurantes."
   ]
  },
  {
   "cell_type": "code",
   "execution_count": 30,
   "metadata": {},
   "outputs": [],
   "source": [
    "def is_restaurant(st):\n",
    "    try: \n",
    "        test = \"\".join(st).lower()\n",
    "        return 'restaurant' in test\n",
    "    except:\n",
    "        return False\n",
    "\n",
    "df_business = df_business[df_business['categories'].apply(is_restaurant)]"
   ]
  },
  {
   "cell_type": "code",
   "execution_count": 31,
   "metadata": {},
   "outputs": [
    {
     "name": "stdout",
     "output_type": "stream",
     "text": [
      "<class 'pandas.core.frame.DataFrame'>\n",
      "Index: 22685 entries, 3 to 150339\n",
      "Data columns (total 14 columns):\n",
      " #   Column        Non-Null Count  Dtype \n",
      "---  ------        --------------  ----- \n",
      " 0   business_id   22685 non-null  object\n",
      " 1   name          22685 non-null  object\n",
      " 2   address       22685 non-null  object\n",
      " 3   city          22685 non-null  object\n",
      " 4   state         22685 non-null  object\n",
      " 5   postal_code   22685 non-null  object\n",
      " 6   latitude      22685 non-null  object\n",
      " 7   longitude     22685 non-null  object\n",
      " 8   stars         22685 non-null  object\n",
      " 9   review_count  22685 non-null  object\n",
      " 10  is_open       22685 non-null  object\n",
      " 11  attributes    22429 non-null  object\n",
      " 12  categories    22685 non-null  object\n",
      " 13  hours         19504 non-null  object\n",
      "dtypes: object(14)\n",
      "memory usage: 2.6+ MB\n"
     ]
    }
   ],
   "source": [
    "df_business.info()"
   ]
  },
  {
   "cell_type": "code",
   "execution_count": 32,
   "metadata": {},
   "outputs": [],
   "source": [
    "df_business.to_parquet(r'Generated\\Yelp\\bussines.parquet')"
   ]
  },
  {
   "cell_type": "markdown",
   "metadata": {},
   "source": [
    "### 2.2 Checkin"
   ]
  },
  {
   "cell_type": "code",
   "execution_count": 33,
   "metadata": {},
   "outputs": [],
   "source": [
    "lineas_json = []\n",
    "path_checkin = r'Datasets\\Yelp\\checkin.json'\n",
    "with open(path_checkin, 'r', encoding='utf-8') as file:\n",
    "    for l in file:\n",
    "        try:\n",
    "            linea_j = json.loads(l)\n",
    "            anio = linea_j['date'][:4]\n",
    "            # if 'restaurant' in \" \".join(linea_j['category']).lower():\n",
    "            if anio in ['2017', '2018', '2019']:\n",
    "                lineas_json.append(linea_j)\n",
    "        except:\n",
    "            pass\n",
    "\n",
    "df_checkin = pd.DataFrame(lineas_json)"
   ]
  },
  {
   "cell_type": "code",
   "execution_count": 34,
   "metadata": {},
   "outputs": [
    {
     "data": {
      "text/html": [
       "<div>\n",
       "<style scoped>\n",
       "    .dataframe tbody tr th:only-of-type {\n",
       "        vertical-align: middle;\n",
       "    }\n",
       "\n",
       "    .dataframe tbody tr th {\n",
       "        vertical-align: top;\n",
       "    }\n",
       "\n",
       "    .dataframe thead th {\n",
       "        text-align: right;\n",
       "    }\n",
       "</style>\n",
       "<table border=\"1\" class=\"dataframe\">\n",
       "  <thead>\n",
       "    <tr style=\"text-align: right;\">\n",
       "      <th></th>\n",
       "      <th>business_id</th>\n",
       "      <th>date</th>\n",
       "    </tr>\n",
       "  </thead>\n",
       "  <tbody>\n",
       "    <tr>\n",
       "      <th>0</th>\n",
       "      <td>--FcbSxK1AoEtEAxOgBaCw</td>\n",
       "      <td>2017-08-18 19:43:50, 2017-10-07 22:38:38, 2017...</td>\n",
       "    </tr>\n",
       "    <tr>\n",
       "      <th>1</th>\n",
       "      <td>--LC8cIrALInl2vyo701tg</td>\n",
       "      <td>2017-01-12 19:10:02, 2017-05-11 23:21:03, 2018...</td>\n",
       "    </tr>\n",
       "    <tr>\n",
       "      <th>2</th>\n",
       "      <td>--OS_I7dnABrXvRCCuWOGQ</td>\n",
       "      <td>2018-05-11 18:23:36</td>\n",
       "    </tr>\n",
       "    <tr>\n",
       "      <th>3</th>\n",
       "      <td>--gJkxbsiSIwsQKbiwm_Ng</td>\n",
       "      <td>2018-12-15 17:03:44, 2019-01-19 17:59:27, 2019...</td>\n",
       "    </tr>\n",
       "    <tr>\n",
       "      <th>4</th>\n",
       "      <td>--qLiYw2ErSmvVwumb2kdw</td>\n",
       "      <td>2018-03-30 22:52:21, 2018-04-13 23:37:09, 2018...</td>\n",
       "    </tr>\n",
       "    <tr>\n",
       "      <th>...</th>\n",
       "      <td>...</td>\n",
       "      <td>...</td>\n",
       "    </tr>\n",
       "    <tr>\n",
       "      <th>19282</th>\n",
       "      <td>zymvTQ12tRy3bzmP4tPgOg</td>\n",
       "      <td>2019-04-20 17:50:43, 2019-04-22 22:20:51, 2019...</td>\n",
       "    </tr>\n",
       "    <tr>\n",
       "      <th>19283</th>\n",
       "      <td>zynDyrQvFZfbf5m4_Usl5g</td>\n",
       "      <td>2019-12-14 16:31:44, 2020-01-24 14:02:24, 2020...</td>\n",
       "    </tr>\n",
       "    <tr>\n",
       "      <th>19284</th>\n",
       "      <td>zzHtFjfM7NvuVM1HTsCLGA</td>\n",
       "      <td>2019-11-09 02:16:59, 2019-11-19 18:04:37, 2019...</td>\n",
       "    </tr>\n",
       "    <tr>\n",
       "      <th>19285</th>\n",
       "      <td>zzQWjZ_1Dr7kkDYlk17qRw</td>\n",
       "      <td>2018-08-12 04:20:39, 2018-09-24 08:05:08, 2018...</td>\n",
       "    </tr>\n",
       "    <tr>\n",
       "      <th>19286</th>\n",
       "      <td>zzXRdzrVhfNWPHD2MeyWeA</td>\n",
       "      <td>2019-06-28 23:00:57, 2019-07-12 23:55:18, 2019...</td>\n",
       "    </tr>\n",
       "  </tbody>\n",
       "</table>\n",
       "<p>19287 rows × 2 columns</p>\n",
       "</div>"
      ],
      "text/plain": [
       "                  business_id  \\\n",
       "0      --FcbSxK1AoEtEAxOgBaCw   \n",
       "1      --LC8cIrALInl2vyo701tg   \n",
       "2      --OS_I7dnABrXvRCCuWOGQ   \n",
       "3      --gJkxbsiSIwsQKbiwm_Ng   \n",
       "4      --qLiYw2ErSmvVwumb2kdw   \n",
       "...                       ...   \n",
       "19282  zymvTQ12tRy3bzmP4tPgOg   \n",
       "19283  zynDyrQvFZfbf5m4_Usl5g   \n",
       "19284  zzHtFjfM7NvuVM1HTsCLGA   \n",
       "19285  zzQWjZ_1Dr7kkDYlk17qRw   \n",
       "19286  zzXRdzrVhfNWPHD2MeyWeA   \n",
       "\n",
       "                                                    date  \n",
       "0      2017-08-18 19:43:50, 2017-10-07 22:38:38, 2017...  \n",
       "1      2017-01-12 19:10:02, 2017-05-11 23:21:03, 2018...  \n",
       "2                                    2018-05-11 18:23:36  \n",
       "3      2018-12-15 17:03:44, 2019-01-19 17:59:27, 2019...  \n",
       "4      2018-03-30 22:52:21, 2018-04-13 23:37:09, 2018...  \n",
       "...                                                  ...  \n",
       "19282  2019-04-20 17:50:43, 2019-04-22 22:20:51, 2019...  \n",
       "19283  2019-12-14 16:31:44, 2020-01-24 14:02:24, 2020...  \n",
       "19284  2019-11-09 02:16:59, 2019-11-19 18:04:37, 2019...  \n",
       "19285  2018-08-12 04:20:39, 2018-09-24 08:05:08, 2018...  \n",
       "19286  2019-06-28 23:00:57, 2019-07-12 23:55:18, 2019...  \n",
       "\n",
       "[19287 rows x 2 columns]"
      ]
     },
     "execution_count": 34,
     "metadata": {},
     "output_type": "execute_result"
    }
   ],
   "source": [
    "df_checkin"
   ]
  },
  {
   "cell_type": "code",
   "execution_count": 35,
   "metadata": {},
   "outputs": [],
   "source": [
    "merge_business_checkin = pd.merge(df_business, df_checkin, left_on='business_id', right_on='business_id')"
   ]
  },
  {
   "cell_type": "code",
   "execution_count": 36,
   "metadata": {},
   "outputs": [
    {
     "name": "stdout",
     "output_type": "stream",
     "text": [
      "<class 'pandas.core.frame.DataFrame'>\n",
      "RangeIndex: 3330 entries, 0 to 3329\n",
      "Data columns (total 15 columns):\n",
      " #   Column        Non-Null Count  Dtype \n",
      "---  ------        --------------  ----- \n",
      " 0   business_id   3330 non-null   object\n",
      " 1   name          3330 non-null   object\n",
      " 2   address       3330 non-null   object\n",
      " 3   city          3330 non-null   object\n",
      " 4   state         3330 non-null   object\n",
      " 5   postal_code   3330 non-null   object\n",
      " 6   latitude      3330 non-null   object\n",
      " 7   longitude     3330 non-null   object\n",
      " 8   stars         3330 non-null   object\n",
      " 9   review_count  3330 non-null   object\n",
      " 10  is_open       3330 non-null   object\n",
      " 11  attributes    3296 non-null   object\n",
      " 12  categories    3330 non-null   object\n",
      " 13  hours         3082 non-null   object\n",
      " 14  date          3330 non-null   object\n",
      "dtypes: object(15)\n",
      "memory usage: 390.4+ KB\n"
     ]
    }
   ],
   "source": [
    "merge_business_checkin.info()"
   ]
  },
  {
   "cell_type": "code",
   "execution_count": 37,
   "metadata": {},
   "outputs": [],
   "source": [
    "df_checkin.to_parquet(r'Generated\\Yelp\\checkin.parquet')\n",
    "merge_business_checkin.to_parquet(r'Generated\\YELP\\business_checkin.parquet')"
   ]
  },
  {
   "cell_type": "markdown",
   "metadata": {},
   "source": [
    "### 2.3 Tips "
   ]
  },
  {
   "cell_type": "markdown",
   "metadata": {},
   "source": [
    "Realizamos la extracción de los datos y filtramos por año según nuestro análisis."
   ]
  },
  {
   "cell_type": "code",
   "execution_count": 38,
   "metadata": {},
   "outputs": [],
   "source": [
    "lineas_json = []\n",
    "path_tip = r'Datasets\\Yelp\\tip.json'\n",
    "with open(path_tip, 'r', encoding='utf-8') as file:\n",
    "    for l in file:\n",
    "        try:\n",
    "            linea_j = json.loads(l)\n",
    "            anio = linea_j['date'][:4]\n",
    "            if anio in ['2017', '2018', '2019']:\n",
    "                lineas_json.append(linea_j)\n",
    "        except:\n",
    "            pass\n",
    "\n",
    "df_tip = pd.DataFrame(lineas_json)\n"
   ]
  },
  {
   "cell_type": "code",
   "execution_count": 39,
   "metadata": {},
   "outputs": [
    {
     "data": {
      "text/html": [
       "<div>\n",
       "<style scoped>\n",
       "    .dataframe tbody tr th:only-of-type {\n",
       "        vertical-align: middle;\n",
       "    }\n",
       "\n",
       "    .dataframe tbody tr th {\n",
       "        vertical-align: top;\n",
       "    }\n",
       "\n",
       "    .dataframe thead th {\n",
       "        text-align: right;\n",
       "    }\n",
       "</style>\n",
       "<table border=\"1\" class=\"dataframe\">\n",
       "  <thead>\n",
       "    <tr style=\"text-align: right;\">\n",
       "      <th></th>\n",
       "      <th>user_id</th>\n",
       "      <th>business_id</th>\n",
       "      <th>text</th>\n",
       "      <th>date</th>\n",
       "      <th>compliment_count</th>\n",
       "    </tr>\n",
       "  </thead>\n",
       "  <tbody>\n",
       "    <tr>\n",
       "      <th>157869</th>\n",
       "      <td>pspttNtxTx2MnvglDXDw_w</td>\n",
       "      <td>BdzIB65Qe1qbpkm-RlUH2w</td>\n",
       "      <td>Awesome place and great food too!!</td>\n",
       "      <td>2017-03-28 02:26:08</td>\n",
       "      <td>0</td>\n",
       "    </tr>\n",
       "    <tr>\n",
       "      <th>93442</th>\n",
       "      <td>0hPHyaoEh78MfGcxy_0WwA</td>\n",
       "      <td>AlH5V97JSAu7AL_xdibMIg</td>\n",
       "      <td>Get there before 600pm for a good table.</td>\n",
       "      <td>2018-05-30 21:12:24</td>\n",
       "      <td>0</td>\n",
       "    </tr>\n",
       "    <tr>\n",
       "      <th>92477</th>\n",
       "      <td>4EhCUFul6tj8ppWlaxJsTw</td>\n",
       "      <td>PrVDvV4QcA-ymZv7pJR5YQ</td>\n",
       "      <td>Great service fresh food wonderful serving sizes</td>\n",
       "      <td>2017-02-18 22:55:00</td>\n",
       "      <td>0</td>\n",
       "    </tr>\n",
       "    <tr>\n",
       "      <th>174414</th>\n",
       "      <td>Ov_IaTOd7yvtctSntxnMFg</td>\n",
       "      <td>gsyyVQmvT9A2nAgUi7VUag</td>\n",
       "      <td>Great clean modern fast casual ramen restaurant</td>\n",
       "      <td>2017-08-08 21:21:44</td>\n",
       "      <td>0</td>\n",
       "    </tr>\n",
       "    <tr>\n",
       "      <th>151079</th>\n",
       "      <td>65QH6Zb5QgE0LHyIxHly4g</td>\n",
       "      <td>H-Spoc6Xb4k0ZefuSd6nSg</td>\n",
       "      <td>Very good tacos, average price, quick service.</td>\n",
       "      <td>2018-12-22 01:24:15</td>\n",
       "      <td>0</td>\n",
       "    </tr>\n",
       "  </tbody>\n",
       "</table>\n",
       "</div>"
      ],
      "text/plain": [
       "                       user_id             business_id  \\\n",
       "157869  pspttNtxTx2MnvglDXDw_w  BdzIB65Qe1qbpkm-RlUH2w   \n",
       "93442   0hPHyaoEh78MfGcxy_0WwA  AlH5V97JSAu7AL_xdibMIg   \n",
       "92477   4EhCUFul6tj8ppWlaxJsTw  PrVDvV4QcA-ymZv7pJR5YQ   \n",
       "174414  Ov_IaTOd7yvtctSntxnMFg  gsyyVQmvT9A2nAgUi7VUag   \n",
       "151079  65QH6Zb5QgE0LHyIxHly4g  H-Spoc6Xb4k0ZefuSd6nSg   \n",
       "\n",
       "                                                    text                 date  \\\n",
       "157869                Awesome place and great food too!!  2017-03-28 02:26:08   \n",
       "93442           Get there before 600pm for a good table.  2018-05-30 21:12:24   \n",
       "92477   Great service fresh food wonderful serving sizes  2017-02-18 22:55:00   \n",
       "174414   Great clean modern fast casual ramen restaurant  2017-08-08 21:21:44   \n",
       "151079    Very good tacos, average price, quick service.  2018-12-22 01:24:15   \n",
       "\n",
       "        compliment_count  \n",
       "157869                 0  \n",
       "93442                  0  \n",
       "92477                  0  \n",
       "174414                 0  \n",
       "151079                 0  "
      ]
     },
     "execution_count": 39,
     "metadata": {},
     "output_type": "execute_result"
    }
   ],
   "source": [
    "df_tip.sample(5)"
   ]
  },
  {
   "cell_type": "code",
   "execution_count": 40,
   "metadata": {},
   "outputs": [],
   "source": [
    "df_tip.to_parquet(r'Generated\\Yelp\\tip.parquet')"
   ]
  },
  {
   "cell_type": "markdown",
   "metadata": {},
   "source": [
    "Unimos el el dataframe de tips con el de negocios"
   ]
  },
  {
   "cell_type": "code",
   "execution_count": 41,
   "metadata": {},
   "outputs": [],
   "source": [
    "tips_merged = pd.merge(df_tip, df_business, left_on='business_id', right_on='business_id')"
   ]
  },
  {
   "cell_type": "code",
   "execution_count": 42,
   "metadata": {},
   "outputs": [
    {
     "data": {
      "text/html": [
       "<div>\n",
       "<style scoped>\n",
       "    .dataframe tbody tr th:only-of-type {\n",
       "        vertical-align: middle;\n",
       "    }\n",
       "\n",
       "    .dataframe tbody tr th {\n",
       "        vertical-align: top;\n",
       "    }\n",
       "\n",
       "    .dataframe thead th {\n",
       "        text-align: right;\n",
       "    }\n",
       "</style>\n",
       "<table border=\"1\" class=\"dataframe\">\n",
       "  <thead>\n",
       "    <tr style=\"text-align: right;\">\n",
       "      <th></th>\n",
       "      <th>user_id</th>\n",
       "      <th>business_id</th>\n",
       "      <th>text</th>\n",
       "      <th>date</th>\n",
       "      <th>compliment_count</th>\n",
       "      <th>name</th>\n",
       "      <th>address</th>\n",
       "      <th>city</th>\n",
       "      <th>state</th>\n",
       "      <th>postal_code</th>\n",
       "      <th>latitude</th>\n",
       "      <th>longitude</th>\n",
       "      <th>stars</th>\n",
       "      <th>review_count</th>\n",
       "      <th>is_open</th>\n",
       "      <th>attributes</th>\n",
       "      <th>categories</th>\n",
       "      <th>hours</th>\n",
       "    </tr>\n",
       "  </thead>\n",
       "  <tbody>\n",
       "    <tr>\n",
       "      <th>16974</th>\n",
       "      <td>SPuzzZ0VZ1yyD3s9ObLnaw</td>\n",
       "      <td>--epgcb7xHGuJ-4PUeSLAw</td>\n",
       "      <td>Hours 530am - 6pm</td>\n",
       "      <td>2018-01-05 16:49:20</td>\n",
       "      <td>0</td>\n",
       "      <td>Manhattan Bagel</td>\n",
       "      <td>200 York Road</td>\n",
       "      <td>Willow Grove</td>\n",
       "      <td>FL</td>\n",
       "      <td>19090</td>\n",
       "      <td>40.145054</td>\n",
       "      <td>-75.116293</td>\n",
       "      <td>3.0</td>\n",
       "      <td>34</td>\n",
       "      <td>1</td>\n",
       "      <td>{'BikeParking': 'True', 'RestaurantsPriceRange...</td>\n",
       "      <td>Restaurants, Food, Bagels, Sandwiches, Breakfa...</td>\n",
       "      <td>{'Monday': '7:0-14:0', 'Tuesday': '7:0-14:0', ...</td>\n",
       "    </tr>\n",
       "    <tr>\n",
       "      <th>56858</th>\n",
       "      <td>s4aoNqJ7IPzMQ4DuwU1yHw</td>\n",
       "      <td>-0FX23yAacC4bbLaGPvyxw</td>\n",
       "      <td>First time here and will definitely go back. L...</td>\n",
       "      <td>2019-11-24 02:53:54</td>\n",
       "      <td>0</td>\n",
       "      <td>The Grey Stone Fine Food and Spirits</td>\n",
       "      <td>552 Washington Crossing Rd</td>\n",
       "      <td>Newtown</td>\n",
       "      <td>FL</td>\n",
       "      <td>18940</td>\n",
       "      <td>40.256082</td>\n",
       "      <td>-74.916976</td>\n",
       "      <td>3.5</td>\n",
       "      <td>155</td>\n",
       "      <td>1</td>\n",
       "      <td>{'Alcohol': 'u'full_bar'', 'WheelchairAccessib...</td>\n",
       "      <td>American (Traditional), Restaurants</td>\n",
       "      <td>{'Tuesday': '12:0-20:0', 'Wednesday': '12:0-20...</td>\n",
       "    </tr>\n",
       "    <tr>\n",
       "      <th>57473</th>\n",
       "      <td>yuGzF-6h2tKzg5p89Ld_qA</td>\n",
       "      <td>-0FX23yAacC4bbLaGPvyxw</td>\n",
       "      <td>Great Food and excellent atmosphere! Highly re...</td>\n",
       "      <td>2018-07-29 02:00:13</td>\n",
       "      <td>0</td>\n",
       "      <td>The Grey Stone Fine Food and Spirits</td>\n",
       "      <td>552 Washington Crossing Rd</td>\n",
       "      <td>Newtown</td>\n",
       "      <td>FL</td>\n",
       "      <td>18940</td>\n",
       "      <td>40.256082</td>\n",
       "      <td>-74.916976</td>\n",
       "      <td>3.5</td>\n",
       "      <td>155</td>\n",
       "      <td>1</td>\n",
       "      <td>{'Alcohol': 'u'full_bar'', 'WheelchairAccessib...</td>\n",
       "      <td>American (Traditional), Restaurants</td>\n",
       "      <td>{'Tuesday': '12:0-20:0', 'Wednesday': '12:0-20...</td>\n",
       "    </tr>\n",
       "  </tbody>\n",
       "</table>\n",
       "</div>"
      ],
      "text/plain": [
       "                      user_id             business_id  \\\n",
       "16974  SPuzzZ0VZ1yyD3s9ObLnaw  --epgcb7xHGuJ-4PUeSLAw   \n",
       "56858  s4aoNqJ7IPzMQ4DuwU1yHw  -0FX23yAacC4bbLaGPvyxw   \n",
       "57473  yuGzF-6h2tKzg5p89Ld_qA  -0FX23yAacC4bbLaGPvyxw   \n",
       "\n",
       "                                                    text                 date  \\\n",
       "16974                                  Hours 530am - 6pm  2018-01-05 16:49:20   \n",
       "56858  First time here and will definitely go back. L...  2019-11-24 02:53:54   \n",
       "57473  Great Food and excellent atmosphere! Highly re...  2018-07-29 02:00:13   \n",
       "\n",
       "       compliment_count                                  name  \\\n",
       "16974                 0                       Manhattan Bagel   \n",
       "56858                 0  The Grey Stone Fine Food and Spirits   \n",
       "57473                 0  The Grey Stone Fine Food and Spirits   \n",
       "\n",
       "                          address          city state postal_code   latitude  \\\n",
       "16974               200 York Road  Willow Grove    FL       19090  40.145054   \n",
       "56858  552 Washington Crossing Rd       Newtown    FL       18940  40.256082   \n",
       "57473  552 Washington Crossing Rd       Newtown    FL       18940  40.256082   \n",
       "\n",
       "       longitude stars review_count is_open  \\\n",
       "16974 -75.116293   3.0           34       1   \n",
       "56858 -74.916976   3.5          155       1   \n",
       "57473 -74.916976   3.5          155       1   \n",
       "\n",
       "                                              attributes  \\\n",
       "16974  {'BikeParking': 'True', 'RestaurantsPriceRange...   \n",
       "56858  {'Alcohol': 'u'full_bar'', 'WheelchairAccessib...   \n",
       "57473  {'Alcohol': 'u'full_bar'', 'WheelchairAccessib...   \n",
       "\n",
       "                                              categories  \\\n",
       "16974  Restaurants, Food, Bagels, Sandwiches, Breakfa...   \n",
       "56858                American (Traditional), Restaurants   \n",
       "57473                American (Traditional), Restaurants   \n",
       "\n",
       "                                                   hours  \n",
       "16974  {'Monday': '7:0-14:0', 'Tuesday': '7:0-14:0', ...  \n",
       "56858  {'Tuesday': '12:0-20:0', 'Wednesday': '12:0-20...  \n",
       "57473  {'Tuesday': '12:0-20:0', 'Wednesday': '12:0-20...  "
      ]
     },
     "execution_count": 42,
     "metadata": {},
     "output_type": "execute_result"
    }
   ],
   "source": [
    "tips_merged.sort_values('business_id').head(3)"
   ]
  },
  {
   "cell_type": "code",
   "execution_count": 43,
   "metadata": {},
   "outputs": [],
   "source": [
    "tips_merged.to_parquet(r'Generated\\Yelp\\business_tip.parquet')"
   ]
  },
  {
   "cell_type": "markdown",
   "metadata": {},
   "source": [
    "### 2.4 Review"
   ]
  },
  {
   "cell_type": "code",
   "execution_count": 46,
   "metadata": {},
   "outputs": [],
   "source": [
    "df_reviews_url =  r'Datasets\\Yelp\\review.json'"
   ]
  },
  {
   "cell_type": "markdown",
   "metadata": {},
   "source": [
    "Usamos el mismo método de linea por linea, y en el proceso filtramos por año y por las reseñas que han sido votadas como útiles."
   ]
  },
  {
   "cell_type": "code",
   "execution_count": 47,
   "metadata": {},
   "outputs": [],
   "source": [
    "# 44 segundos\n",
    "\n",
    "lineas_json_review = []\n",
    "\n",
    "with open(df_reviews_url, 'r', encoding='utf-8') as f:\n",
    "    count = 0\n",
    "    for i in f:\n",
    "        linea = json.loads(i)\n",
    "        anio = linea['date'][:4]\n",
    "        if anio in ['2017', '2018', '2019'] and linea['useful'] == 1:    \n",
    "            lineas_json_review.append(linea)\n",
    "\n",
    "\n",
    "df_reviews = pd.DataFrame(lineas_json_review)"
   ]
  },
  {
   "cell_type": "code",
   "execution_count": 48,
   "metadata": {},
   "outputs": [
    {
     "data": {
      "text/html": [
       "<div>\n",
       "<style scoped>\n",
       "    .dataframe tbody tr th:only-of-type {\n",
       "        vertical-align: middle;\n",
       "    }\n",
       "\n",
       "    .dataframe tbody tr th {\n",
       "        vertical-align: top;\n",
       "    }\n",
       "\n",
       "    .dataframe thead th {\n",
       "        text-align: right;\n",
       "    }\n",
       "</style>\n",
       "<table border=\"1\" class=\"dataframe\">\n",
       "  <thead>\n",
       "    <tr style=\"text-align: right;\">\n",
       "      <th></th>\n",
       "      <th>review_id</th>\n",
       "      <th>user_id</th>\n",
       "      <th>business_id</th>\n",
       "      <th>stars</th>\n",
       "      <th>useful</th>\n",
       "      <th>funny</th>\n",
       "      <th>cool</th>\n",
       "      <th>text</th>\n",
       "      <th>date</th>\n",
       "    </tr>\n",
       "  </thead>\n",
       "  <tbody>\n",
       "    <tr>\n",
       "      <th>526546</th>\n",
       "      <td>8AVlQkOgXqfqN_u0MdFELw</td>\n",
       "      <td>2S8ftSCf7zdgpvjTi_lCBA</td>\n",
       "      <td>WsyILs2drnGrOHsuzczAjQ</td>\n",
       "      <td>5.0</td>\n",
       "      <td>1</td>\n",
       "      <td>0</td>\n",
       "      <td>0</td>\n",
       "      <td>I have been taking my shih tzu, Samara, here f...</td>\n",
       "      <td>2018-10-14 12:28:09</td>\n",
       "    </tr>\n",
       "    <tr>\n",
       "      <th>196960</th>\n",
       "      <td>AwpMsyvuRggPOr2ajGTxgQ</td>\n",
       "      <td>A2BfLrRJRSIjEa274Qls3Q</td>\n",
       "      <td>Sw53KWMB8cYjF7EZX7O9PA</td>\n",
       "      <td>4.0</td>\n",
       "      <td>1</td>\n",
       "      <td>1</td>\n",
       "      <td>1</td>\n",
       "      <td>We wanted to love this place because we are bi...</td>\n",
       "      <td>2018-12-30 19:09:11</td>\n",
       "    </tr>\n",
       "    <tr>\n",
       "      <th>318245</th>\n",
       "      <td>pHIiNOOzVGd78KJF2aONKQ</td>\n",
       "      <td>XEohFzjpNoaDSioQO9pApw</td>\n",
       "      <td>EUKat7qVmzw6F1_XueJl3g</td>\n",
       "      <td>1.0</td>\n",
       "      <td>1</td>\n",
       "      <td>0</td>\n",
       "      <td>0</td>\n",
       "      <td>Well we only went in to look at a matress..end...</td>\n",
       "      <td>2017-01-22 04:08:22</td>\n",
       "    </tr>\n",
       "    <tr>\n",
       "      <th>395813</th>\n",
       "      <td>EjdH6VLQQyyZJnRERdFvbA</td>\n",
       "      <td>3sNl9ZQJar5VH5KOi93lHg</td>\n",
       "      <td>FXsu9JqnLl2D0wqeQP4QKw</td>\n",
       "      <td>3.0</td>\n",
       "      <td>1</td>\n",
       "      <td>0</td>\n",
       "      <td>0</td>\n",
       "      <td>My favorite thing is the dry rub wings!!! Thes...</td>\n",
       "      <td>2017-08-01 21:05:47</td>\n",
       "    </tr>\n",
       "    <tr>\n",
       "      <th>488771</th>\n",
       "      <td>u0_eO3tqzdnmgcQ90ZSkvg</td>\n",
       "      <td>uWGjGDyncVsU1uFFEKQLXw</td>\n",
       "      <td>f5AmcUBSs3-qR_8bz-_XSg</td>\n",
       "      <td>5.0</td>\n",
       "      <td>1</td>\n",
       "      <td>0</td>\n",
       "      <td>0</td>\n",
       "      <td>I've been going to Salvage and Company for a f...</td>\n",
       "      <td>2019-06-30 03:16:06</td>\n",
       "    </tr>\n",
       "    <tr>\n",
       "      <th>354405</th>\n",
       "      <td>nDThxM6EH_bfMsLwVl6T8Q</td>\n",
       "      <td>7F2WX8Pvm5lXEBrEVZiKKg</td>\n",
       "      <td>nIlmZLuMs0JuBRvAHSIf8Q</td>\n",
       "      <td>5.0</td>\n",
       "      <td>1</td>\n",
       "      <td>0</td>\n",
       "      <td>0</td>\n",
       "      <td>I really enjoyed the butter cake and the raspb...</td>\n",
       "      <td>2019-02-10 03:07:02</td>\n",
       "    </tr>\n",
       "    <tr>\n",
       "      <th>389444</th>\n",
       "      <td>wkFXlBZ1DKQ4JwWjVMDG0A</td>\n",
       "      <td>AfFLa9S23jbx4lXKinj89A</td>\n",
       "      <td>ZEd_RWWRVGqLlM5DUiXCeA</td>\n",
       "      <td>3.0</td>\n",
       "      <td>1</td>\n",
       "      <td>0</td>\n",
       "      <td>0</td>\n",
       "      <td>Let me start by saying I like this little plac...</td>\n",
       "      <td>2019-09-06 23:52:09</td>\n",
       "    </tr>\n",
       "    <tr>\n",
       "      <th>143025</th>\n",
       "      <td>IaNQVNOWtoa1SauOWhAqYA</td>\n",
       "      <td>EPtqAxsNOrNho1_zPIbb9Q</td>\n",
       "      <td>3NNRlx0GS0mzrTYCx8m8FQ</td>\n",
       "      <td>5.0</td>\n",
       "      <td>1</td>\n",
       "      <td>0</td>\n",
       "      <td>0</td>\n",
       "      <td>We have followed Chef Wilcomb's career and wer...</td>\n",
       "      <td>2019-07-15 03:40:00</td>\n",
       "    </tr>\n",
       "    <tr>\n",
       "      <th>486391</th>\n",
       "      <td>dWfy_JBGEs4jOIKdJ7krgw</td>\n",
       "      <td>z2UYFVvqMiExPphM8ks2Fg</td>\n",
       "      <td>E4OS_VH-ru2oER7W1Gk8rg</td>\n",
       "      <td>5.0</td>\n",
       "      <td>1</td>\n",
       "      <td>0</td>\n",
       "      <td>0</td>\n",
       "      <td>We've been to Autograph twice: once for dinner...</td>\n",
       "      <td>2019-02-18 02:53:29</td>\n",
       "    </tr>\n",
       "    <tr>\n",
       "      <th>424717</th>\n",
       "      <td>oyce_S0N80TK-PS2eh19OQ</td>\n",
       "      <td>f62D2OZofCk7vNTfxjx1CQ</td>\n",
       "      <td>eJUjeWndPCCqTjj0Jva-ug</td>\n",
       "      <td>5.0</td>\n",
       "      <td>1</td>\n",
       "      <td>0</td>\n",
       "      <td>2</td>\n",
       "      <td>After searching around for some quotes, these ...</td>\n",
       "      <td>2018-04-14 19:41:36</td>\n",
       "    </tr>\n",
       "  </tbody>\n",
       "</table>\n",
       "</div>"
      ],
      "text/plain": [
       "                     review_id                 user_id  \\\n",
       "526546  8AVlQkOgXqfqN_u0MdFELw  2S8ftSCf7zdgpvjTi_lCBA   \n",
       "196960  AwpMsyvuRggPOr2ajGTxgQ  A2BfLrRJRSIjEa274Qls3Q   \n",
       "318245  pHIiNOOzVGd78KJF2aONKQ  XEohFzjpNoaDSioQO9pApw   \n",
       "395813  EjdH6VLQQyyZJnRERdFvbA  3sNl9ZQJar5VH5KOi93lHg   \n",
       "488771  u0_eO3tqzdnmgcQ90ZSkvg  uWGjGDyncVsU1uFFEKQLXw   \n",
       "354405  nDThxM6EH_bfMsLwVl6T8Q  7F2WX8Pvm5lXEBrEVZiKKg   \n",
       "389444  wkFXlBZ1DKQ4JwWjVMDG0A  AfFLa9S23jbx4lXKinj89A   \n",
       "143025  IaNQVNOWtoa1SauOWhAqYA  EPtqAxsNOrNho1_zPIbb9Q   \n",
       "486391  dWfy_JBGEs4jOIKdJ7krgw  z2UYFVvqMiExPphM8ks2Fg   \n",
       "424717  oyce_S0N80TK-PS2eh19OQ  f62D2OZofCk7vNTfxjx1CQ   \n",
       "\n",
       "                   business_id  stars  useful  funny  cool  \\\n",
       "526546  WsyILs2drnGrOHsuzczAjQ    5.0       1      0     0   \n",
       "196960  Sw53KWMB8cYjF7EZX7O9PA    4.0       1      1     1   \n",
       "318245  EUKat7qVmzw6F1_XueJl3g    1.0       1      0     0   \n",
       "395813  FXsu9JqnLl2D0wqeQP4QKw    3.0       1      0     0   \n",
       "488771  f5AmcUBSs3-qR_8bz-_XSg    5.0       1      0     0   \n",
       "354405  nIlmZLuMs0JuBRvAHSIf8Q    5.0       1      0     0   \n",
       "389444  ZEd_RWWRVGqLlM5DUiXCeA    3.0       1      0     0   \n",
       "143025  3NNRlx0GS0mzrTYCx8m8FQ    5.0       1      0     0   \n",
       "486391  E4OS_VH-ru2oER7W1Gk8rg    5.0       1      0     0   \n",
       "424717  eJUjeWndPCCqTjj0Jva-ug    5.0       1      0     2   \n",
       "\n",
       "                                                     text                 date  \n",
       "526546  I have been taking my shih tzu, Samara, here f...  2018-10-14 12:28:09  \n",
       "196960  We wanted to love this place because we are bi...  2018-12-30 19:09:11  \n",
       "318245  Well we only went in to look at a matress..end...  2017-01-22 04:08:22  \n",
       "395813  My favorite thing is the dry rub wings!!! Thes...  2017-08-01 21:05:47  \n",
       "488771  I've been going to Salvage and Company for a f...  2019-06-30 03:16:06  \n",
       "354405  I really enjoyed the butter cake and the raspb...  2019-02-10 03:07:02  \n",
       "389444  Let me start by saying I like this little plac...  2019-09-06 23:52:09  \n",
       "143025  We have followed Chef Wilcomb's career and wer...  2019-07-15 03:40:00  \n",
       "486391  We've been to Autograph twice: once for dinner...  2019-02-18 02:53:29  \n",
       "424717  After searching around for some quotes, these ...  2018-04-14 19:41:36  "
      ]
     },
     "execution_count": 48,
     "metadata": {},
     "output_type": "execute_result"
    }
   ],
   "source": [
    "df_reviews.sample(10)"
   ]
  },
  {
   "cell_type": "code",
   "execution_count": 49,
   "metadata": {},
   "outputs": [
    {
     "name": "stdout",
     "output_type": "stream",
     "text": [
      "<class 'pandas.core.frame.DataFrame'>\n",
      "RangeIndex: 558655 entries, 0 to 558654\n",
      "Data columns (total 9 columns):\n",
      " #   Column       Non-Null Count   Dtype  \n",
      "---  ------       --------------   -----  \n",
      " 0   review_id    558655 non-null  object \n",
      " 1   user_id      558655 non-null  object \n",
      " 2   business_id  558655 non-null  object \n",
      " 3   stars        558655 non-null  float64\n",
      " 4   useful       558655 non-null  int64  \n",
      " 5   funny        558655 non-null  int64  \n",
      " 6   cool         558655 non-null  int64  \n",
      " 7   text         558655 non-null  object \n",
      " 8   date         558655 non-null  object \n",
      "dtypes: float64(1), int64(3), object(5)\n",
      "memory usage: 38.4+ MB\n"
     ]
    }
   ],
   "source": [
    "df_reviews.info()"
   ]
  },
  {
   "cell_type": "markdown",
   "metadata": {},
   "source": [
    "Aligeramos el dataset con unos downgrades de tipo de variables."
   ]
  },
  {
   "cell_type": "code",
   "execution_count": 50,
   "metadata": {},
   "outputs": [],
   "source": [
    "df_reviews['funny'] = df_reviews['funny'].astype('int8')\n",
    "df_reviews['stars'] = df_reviews['stars'].astype('int8')\n",
    "df_reviews['cool'] = df_reviews['cool'].astype('int8')\n",
    "\n",
    "df_reviews.drop('useful', axis=1, inplace=True, errors='ignore')\n"
   ]
  },
  {
   "cell_type": "code",
   "execution_count": 51,
   "metadata": {},
   "outputs": [],
   "source": [
    "df_reviews.to_parquet(r'Generated\\Yelp\\review.parquet')"
   ]
  },
  {
   "cell_type": "markdown",
   "metadata": {},
   "source": [
    "### 2.4 Users Yelp"
   ]
  },
  {
   "cell_type": "code",
   "execution_count": 53,
   "metadata": {},
   "outputs": [],
   "source": [
    "import pyarrow.parquet as pq\n",
    "\n",
    "\n",
    "parquet_file = pq.ParquetFile(r'Datasets\\Yelp\\user.parquet')\n",
    "\n",
    "arr_df = []\n",
    "\n",
    "for batch in parquet_file.iter_batches():\n",
    "    # count = count +1\n",
    "    batch_df = batch.to_pandas()\n",
    "    batch_df['elite'] = batch_df['elite'].apply(lambda x: x.split(','))\n",
    "    batch_df['elite_len'] = batch_df['elite'].apply(lambda x: len(x))\n",
    "    batch_df = batch_df.query(\"elite_len > 1\")\n",
    "    arr_df.append(batch_df)\n",
    "\n",
    "df_users = pd.concat(arr_df)"
   ]
  },
  {
   "cell_type": "code",
   "execution_count": 54,
   "metadata": {},
   "outputs": [
    {
     "data": {
      "text/html": [
       "<div>\n",
       "<style scoped>\n",
       "    .dataframe tbody tr th:only-of-type {\n",
       "        vertical-align: middle;\n",
       "    }\n",
       "\n",
       "    .dataframe tbody tr th {\n",
       "        vertical-align: top;\n",
       "    }\n",
       "\n",
       "    .dataframe thead th {\n",
       "        text-align: right;\n",
       "    }\n",
       "</style>\n",
       "<table border=\"1\" class=\"dataframe\">\n",
       "  <thead>\n",
       "    <tr style=\"text-align: right;\">\n",
       "      <th></th>\n",
       "      <th>user_id</th>\n",
       "      <th>name</th>\n",
       "      <th>review_count</th>\n",
       "      <th>yelping_since</th>\n",
       "      <th>useful</th>\n",
       "      <th>funny</th>\n",
       "      <th>cool</th>\n",
       "      <th>elite</th>\n",
       "      <th>friends</th>\n",
       "      <th>fans</th>\n",
       "      <th>...</th>\n",
       "      <th>compliment_profile</th>\n",
       "      <th>compliment_cute</th>\n",
       "      <th>compliment_list</th>\n",
       "      <th>compliment_note</th>\n",
       "      <th>compliment_plain</th>\n",
       "      <th>compliment_cool</th>\n",
       "      <th>compliment_funny</th>\n",
       "      <th>compliment_writer</th>\n",
       "      <th>compliment_photos</th>\n",
       "      <th>elite_len</th>\n",
       "    </tr>\n",
       "  </thead>\n",
       "  <tbody>\n",
       "    <tr>\n",
       "      <th>35766</th>\n",
       "      <td>lrtGPAmDqCFnbfAKiB4NmA</td>\n",
       "      <td>Charles</td>\n",
       "      <td>360</td>\n",
       "      <td>2012-01-08 01:16:46</td>\n",
       "      <td>200</td>\n",
       "      <td>44</td>\n",
       "      <td>102</td>\n",
       "      <td>[2015, 2016, 2017, 2018, 2019, 20, 20, 2021]</td>\n",
       "      <td>MRrN6DH3QGCFcDv5RENYVg, XhlDuX91F1ofznx1QkaSNQ...</td>\n",
       "      <td>8</td>\n",
       "      <td>...</td>\n",
       "      <td>0</td>\n",
       "      <td>0</td>\n",
       "      <td>0</td>\n",
       "      <td>13</td>\n",
       "      <td>6</td>\n",
       "      <td>2</td>\n",
       "      <td>2</td>\n",
       "      <td>5</td>\n",
       "      <td>1</td>\n",
       "      <td>8</td>\n",
       "    </tr>\n",
       "    <tr>\n",
       "      <th>11211</th>\n",
       "      <td>cDcakQinxKO8szOx4rtP3g</td>\n",
       "      <td>Ramon</td>\n",
       "      <td>197</td>\n",
       "      <td>2010-11-30 20:15:37</td>\n",
       "      <td>235</td>\n",
       "      <td>50</td>\n",
       "      <td>92</td>\n",
       "      <td>[2015, 2016, 2017, 2018, 2019]</td>\n",
       "      <td>wheOfYPsyoi_I2vt3PnEuw, Lpex_9YDw2xT1AWEPq89dw...</td>\n",
       "      <td>14</td>\n",
       "      <td>...</td>\n",
       "      <td>0</td>\n",
       "      <td>0</td>\n",
       "      <td>0</td>\n",
       "      <td>6</td>\n",
       "      <td>10</td>\n",
       "      <td>4</td>\n",
       "      <td>4</td>\n",
       "      <td>3</td>\n",
       "      <td>3</td>\n",
       "      <td>5</td>\n",
       "    </tr>\n",
       "    <tr>\n",
       "      <th>40362</th>\n",
       "      <td>Ppy3_a44YggnckypQi2BuA</td>\n",
       "      <td>Craig</td>\n",
       "      <td>234</td>\n",
       "      <td>2013-08-28 03:26:39</td>\n",
       "      <td>661</td>\n",
       "      <td>249</td>\n",
       "      <td>376</td>\n",
       "      <td>[2016, 2017, 2018]</td>\n",
       "      <td>YiPEVvFt3FBfppokf3t4Mg, MVyxYSpOP5RI6DnsJQox9Q...</td>\n",
       "      <td>36</td>\n",
       "      <td>...</td>\n",
       "      <td>2</td>\n",
       "      <td>0</td>\n",
       "      <td>0</td>\n",
       "      <td>69</td>\n",
       "      <td>107</td>\n",
       "      <td>111</td>\n",
       "      <td>111</td>\n",
       "      <td>43</td>\n",
       "      <td>13</td>\n",
       "      <td>3</td>\n",
       "    </tr>\n",
       "    <tr>\n",
       "      <th>24061</th>\n",
       "      <td>FvuREyQJqxnTS3Oy731AIA</td>\n",
       "      <td>Jean-Charles</td>\n",
       "      <td>407</td>\n",
       "      <td>2018-01-14 00:51:40</td>\n",
       "      <td>1601</td>\n",
       "      <td>300</td>\n",
       "      <td>1388</td>\n",
       "      <td>[2019, 20, 20, 2021]</td>\n",
       "      <td>RTZkjxg0Hjg1pBUB1w6EpQ, DT5JuPKzBEyJCN3EwZV9KQ...</td>\n",
       "      <td>44</td>\n",
       "      <td>...</td>\n",
       "      <td>2</td>\n",
       "      <td>1</td>\n",
       "      <td>0</td>\n",
       "      <td>14</td>\n",
       "      <td>18</td>\n",
       "      <td>38</td>\n",
       "      <td>38</td>\n",
       "      <td>10</td>\n",
       "      <td>29</td>\n",
       "      <td>4</td>\n",
       "    </tr>\n",
       "    <tr>\n",
       "      <th>13889</th>\n",
       "      <td>rfIST1CoRLBilrtvWBbZAQ</td>\n",
       "      <td>Gisele</td>\n",
       "      <td>372</td>\n",
       "      <td>2008-07-20 18:11:53</td>\n",
       "      <td>1202</td>\n",
       "      <td>639</td>\n",
       "      <td>877</td>\n",
       "      <td>[2016, 2017, 2019]</td>\n",
       "      <td>3PVplI-mhVc4uLGRd8xgwA, 3vhtFBNTaZiUSpWcGJ7MKQ...</td>\n",
       "      <td>37</td>\n",
       "      <td>...</td>\n",
       "      <td>6</td>\n",
       "      <td>2</td>\n",
       "      <td>1</td>\n",
       "      <td>75</td>\n",
       "      <td>130</td>\n",
       "      <td>84</td>\n",
       "      <td>84</td>\n",
       "      <td>56</td>\n",
       "      <td>68</td>\n",
       "      <td>3</td>\n",
       "    </tr>\n",
       "  </tbody>\n",
       "</table>\n",
       "<p>5 rows × 23 columns</p>\n",
       "</div>"
      ],
      "text/plain": [
       "                      user_id          name  review_count  \\\n",
       "35766  lrtGPAmDqCFnbfAKiB4NmA       Charles           360   \n",
       "11211  cDcakQinxKO8szOx4rtP3g         Ramon           197   \n",
       "40362  Ppy3_a44YggnckypQi2BuA         Craig           234   \n",
       "24061  FvuREyQJqxnTS3Oy731AIA  Jean-Charles           407   \n",
       "13889  rfIST1CoRLBilrtvWBbZAQ        Gisele           372   \n",
       "\n",
       "             yelping_since  useful  funny  cool  \\\n",
       "35766  2012-01-08 01:16:46     200     44   102   \n",
       "11211  2010-11-30 20:15:37     235     50    92   \n",
       "40362  2013-08-28 03:26:39     661    249   376   \n",
       "24061  2018-01-14 00:51:40    1601    300  1388   \n",
       "13889  2008-07-20 18:11:53    1202    639   877   \n",
       "\n",
       "                                              elite  \\\n",
       "35766  [2015, 2016, 2017, 2018, 2019, 20, 20, 2021]   \n",
       "11211                [2015, 2016, 2017, 2018, 2019]   \n",
       "40362                            [2016, 2017, 2018]   \n",
       "24061                          [2019, 20, 20, 2021]   \n",
       "13889                            [2016, 2017, 2019]   \n",
       "\n",
       "                                                 friends  fans  ...  \\\n",
       "35766  MRrN6DH3QGCFcDv5RENYVg, XhlDuX91F1ofznx1QkaSNQ...     8  ...   \n",
       "11211  wheOfYPsyoi_I2vt3PnEuw, Lpex_9YDw2xT1AWEPq89dw...    14  ...   \n",
       "40362  YiPEVvFt3FBfppokf3t4Mg, MVyxYSpOP5RI6DnsJQox9Q...    36  ...   \n",
       "24061  RTZkjxg0Hjg1pBUB1w6EpQ, DT5JuPKzBEyJCN3EwZV9KQ...    44  ...   \n",
       "13889  3PVplI-mhVc4uLGRd8xgwA, 3vhtFBNTaZiUSpWcGJ7MKQ...    37  ...   \n",
       "\n",
       "       compliment_profile  compliment_cute  compliment_list  compliment_note  \\\n",
       "35766                   0                0                0               13   \n",
       "11211                   0                0                0                6   \n",
       "40362                   2                0                0               69   \n",
       "24061                   2                1                0               14   \n",
       "13889                   6                2                1               75   \n",
       "\n",
       "       compliment_plain  compliment_cool  compliment_funny  compliment_writer  \\\n",
       "35766                 6                2                 2                  5   \n",
       "11211                10                4                 4                  3   \n",
       "40362               107              111               111                 43   \n",
       "24061                18               38                38                 10   \n",
       "13889               130               84                84                 56   \n",
       "\n",
       "       compliment_photos  elite_len  \n",
       "35766                  1          8  \n",
       "11211                  3          5  \n",
       "40362                 13          3  \n",
       "24061                 29          4  \n",
       "13889                 68          3  \n",
       "\n",
       "[5 rows x 23 columns]"
      ]
     },
     "execution_count": 54,
     "metadata": {},
     "output_type": "execute_result"
    }
   ],
   "source": [
    "df_users.sample(5)"
   ]
  },
  {
   "cell_type": "code",
   "execution_count": 55,
   "metadata": {},
   "outputs": [
    {
     "name": "stdout",
     "output_type": "stream",
     "text": [
      "<class 'pandas.core.frame.DataFrame'>\n",
      "Index: 99015 entries, 1 to 8439\n",
      "Data columns (total 23 columns):\n",
      " #   Column              Non-Null Count  Dtype  \n",
      "---  ------              --------------  -----  \n",
      " 0   user_id             99015 non-null  object \n",
      " 1   name                99015 non-null  object \n",
      " 2   review_count        99015 non-null  int64  \n",
      " 3   yelping_since       99015 non-null  object \n",
      " 4   useful              99015 non-null  int64  \n",
      " 5   funny               99015 non-null  int64  \n",
      " 6   cool                99015 non-null  int64  \n",
      " 7   elite               99015 non-null  object \n",
      " 8   friends             99015 non-null  object \n",
      " 9   fans                99015 non-null  int64  \n",
      " 10  average_stars       99015 non-null  float64\n",
      " 11  compliment_hot      99015 non-null  int64  \n",
      " 12  compliment_more     99015 non-null  int64  \n",
      " 13  compliment_profile  99015 non-null  int64  \n",
      " 14  compliment_cute     99015 non-null  int64  \n",
      " 15  compliment_list     99015 non-null  int64  \n",
      " 16  compliment_note     99015 non-null  int64  \n",
      " 17  compliment_plain    99015 non-null  int64  \n",
      " 18  compliment_cool     99015 non-null  int64  \n",
      " 19  compliment_funny    99015 non-null  int64  \n",
      " 20  compliment_writer   99015 non-null  int64  \n",
      " 21  compliment_photos   99015 non-null  int64  \n",
      " 22  elite_len           99015 non-null  int64  \n",
      "dtypes: float64(1), int64(17), object(5)\n",
      "memory usage: 18.1+ MB\n"
     ]
    }
   ],
   "source": [
    "df_users.info()"
   ]
  },
  {
   "cell_type": "code",
   "execution_count": 56,
   "metadata": {},
   "outputs": [],
   "source": [
    "df_users.reset_index(inplace=True)\n",
    "df_users.drop('index', axis=1, inplace=True, errors=\"ignore\")"
   ]
  },
  {
   "cell_type": "code",
   "execution_count": 57,
   "metadata": {},
   "outputs": [],
   "source": [
    "df_users.to_parquet(r\"Generated\\Yelp\\users_extracted.parquet\")"
   ]
  }
 ],
 "metadata": {
  "kernelspec": {
   "display_name": ".venv10",
   "language": "python",
   "name": "python3"
  },
  "language_info": {
   "codemirror_mode": {
    "name": "ipython",
    "version": 3
   },
   "file_extension": ".py",
   "mimetype": "text/x-python",
   "name": "python",
   "nbconvert_exporter": "python",
   "pygments_lexer": "ipython3",
   "version": "3.11.9"
  }
 },
 "nbformat": 4,
 "nbformat_minor": 2
    "cells": [
        {
            "cell_type": "markdown",
            "metadata": {},
            "source": [
                "# Extracción de datos Datasets Google Maps y YELP\n"
            ]
        },
        {
            "cell_type": "markdown",
            "metadata": {},
            "source": [
                "### Importaciones\n"
            ]
        },
        {
            "cell_type": "code",
            "execution_count": 1,
            "metadata": {},
            "outputs": [],
            "source": [
                "import pandas as pd\n",
                "import numpy as np\n",
                "import json\n",
                "import datetime\n",
                "import os\n",
                "import pyarrow.parquet as pq\n",
                "from datetime import datetime"
            ]
        },
        {
            "cell_type": "markdown",
            "metadata": {},
            "source": [
                "### Utiles\n"
            ]
        },
        {
            "cell_type": "code",
            "execution_count": 2,
            "metadata": {},
            "outputs": [],
            "source": [
                "state_abreviations = [\n",
                "    \"AL\",\"AK\",\"AZ\",\"AR\",\"CA\",\"CO\",\"CT\",\"DE\",\"FL\",\"GA\",\"HI\",\"ID\",\"IL\",\"IN\",\"IA\",\n",
                "    \"KS\",\"KY\",\"LA\",\"ME\",\"MD\",\"MA\",\"MI\",\"MN\",\"MS\",\"MO\",\"MT\",\"NE\",\"NV\",\"NH\",\"NJ\",\n",
                "    \"NM\",\"NY\",\"NC\",\"ND\",\"OH\",\"OK\",\"OR\",\"PA\",\"RI\",\"SC\",\"SD\",\"TN\",\"TX\",\"UT\",\"VT\",\n",
                "    \"VA\",\"WA\",\"WV\",\"WI\",\"WY\",\n",
                "]\n",
                "\n",
                "state_dictionary = {\n",
                "    \"AL\": \"Alabama\",\"AK\": \"Alaska\",\"AZ\": \"Arizona\",\"AR\": \"Arkansas\",\n",
                "    \"CA\": \"California\",\"CO\": \"Colorado\",\"CT\": \"Connecticut\",\"DE\": \"Delaware\",\n",
                "    \"FL\": \"Florida\",\"GA\": \"Georgia\",\"HI\": \"Hawaii\",\"ID\": \"Idaho\",\n",
                "    \"IL\": \"Illinois\",\"IN\": \"Indiana\",\"IA\": \"Iowa\",\"KS\": \"Kansas\",\n",
                "    \"KY\": \"Kentucky\",\"LA\": \"Louisiana\",\"ME\": \"Maine\",\"MD\": \"Maryland\",\n",
                "    \"MA\": \"Massachusetts\",\"MI\": \"Michigan\",\"MN\": \"Minnesota\",\n",
                "    \"MS\": \"Mississippi\",\"MO\": \"Missouri\",\"MT\": \"Montana\",\"NE\": \"Nebraska\",\n",
                "    \"NV\": \"Nevada\",\"NH\": \"New Hampshire\",\"NJ\": \"New Jersey\",\"NM\": \"New Mexico\",\n",
                "    \"NY\": \"New York\",\"NC\": \"North Carolina\",\"ND\": \"North Dakota\",\"OH\": \"Ohio\",\n",
                "    \"OK\": \"Oklahoma\",\"OR\": \"Oregon\",\"PA\": \"Pennsylvania\",\"RI\": \"Rhode Island\",\n",
                "    \"SC\": \"South Carolina\",\"SD\": \"South Dakota\",\"TN\": \"Tennessee\",\n",
                "    \"TX\": \"Texas\",\"UT\": \"Utah\",\"VT\": \"Vermont\",\"VA\": \"Virginia\",\n",
                "    \"WA\": \"Washington\",\"WV\": \"West Virginia\",\"WI\": \"Wisconsin\",\"WY\": \"Wyoming\",\n",
                "}"
            ]
        },
        {
            "cell_type": "code",
            "execution_count": null,
            "metadata": {},
            "outputs": [],
            "source": [
                "import os\n",
                "\n",
                "generated_dir = \"Generated\"\n",
                "\n",
                "os.mkdir(generated_dir)\n",
                "os.chdir(generated_dir)\n",
                "os.mkdir(\"Google\")\n",
                "os.mkdir(\"Yelp\")\n",
                "os.chdir(\"../\")\n",
                "\n",
                "os.getcwd()"
            ]
        },
        {
            "cell_type": "markdown",
            "metadata": {},
            "source": [
                "# 1. Extracción con los datasets de Google Maps\n"
            ]
        },
        {
            "cell_type": "markdown",
            "metadata": {},
            "source": [
                "## 1.1 Metada de Sitios\n"
            ]
        },
        {
            "cell_type": "markdown",
            "metadata": {},
            "source": [
                "Recorremos todo el directorio, lo hacemos archivo por archivo y línea por línea ya que no se puede abrir directamente los archivos por su dimensión y porque no están en formato de array, sino están constituidos en un registro por lìnea.\n",
                "Durante la lectura filtramos los que incluyan <code>Restaurant</code> en el campo de categoría, para alivianar el dataset final.\n"
            ]
        },
        {
            "cell_type": "code",
            "execution_count": null,
            "metadata": {},
            "outputs": [],
            "source": [
                "# Tiempo de Demora Medio: 51 segundos.\n",
                "lineas_json = []\n",
                "\n",
                "# Son 11 archivos con un ordinal, del 1 al 11\n",
                "for i in range(1, 12):\n",
                "    path = f\"Datasets/Google Maps/metadata-sitios/{i}.json\"\n",
                "    with open(path, \"r\") as file:\n",
                "        for l in file:\n",
                "            try:\n",
                "                linea_j = json.loads(l)\n",
                "                if \"restaurant\" in \" \".join(linea_j[\"category\"]).lower():\n",
                "                    lineas_json.append(linea_j)\n",
                "            except:\n",
                "                pass\n",
                "\n",
                "df = pd.DataFrame(lineas_json)\n",
                "\n",
                "df.head(3)"
            ]
        },
        {
            "cell_type": "code",
            "execution_count": null,
            "metadata": {},
            "outputs": [],
            "source": [
                "df.loc[5, 'address']"
            ]
        },
        {
            "cell_type": "markdown",
            "metadata": {},
            "source": [
                "Exportamos a formato Parquet\n"
            ]
        },
        {
            "cell_type": "code",
            "execution_count": null,
            "metadata": {},
            "outputs": [],
            "source": [
                "df.to_parquet(r\"Generated\\Google\\metada_sitios.parquet\")"
            ]
        },
        {
            "cell_type": "markdown",
            "metadata": {},
            "source": [
                "Tamaño Directorio <code>metadata-sitios</code>: 2.76 Gb\n",
                "\n",
                "Tamaño Archivo <code>metada_sitios.parquet</code>: 60.43 Mb\n"
            ]
        },
        {
            "cell_type": "code",
            "execution_count": null,
            "metadata": {},
            "outputs": [],
            "source": [
                "df.info()"
            ]
        },
        {
            "cell_type": "markdown",
            "metadata": {},
            "source": [
                "Dimensiones: 212.014 filas x 15 Columnas\n"
            ]
        },
        {
            "cell_type": "markdown",
            "metadata": {},
            "source": [
                "## 1.1.1 Obtención de información de Estados\n"
            ]
        },
        {
            "cell_type": "markdown",
            "metadata": {},
            "source": [
                "En base al campo <code>Address</code> obtenemos el estado donde se encuentra el negocio. Nos servirá para luego seleccionar los estados con más restaurantes.\n"
            ]
        },
        {
            "cell_type": "code",
            "execution_count": null,
            "metadata": {},
            "outputs": [],
            "source": [
                "def get_state_ab(st):\n",
                "    try:\n",
                "        state = st.split(\", \")[-1].split(\" \")[0]\n",
                "        if state in state_abreviations:\n",
                "            return state\n",
                "        else:\n",
                "            return np.nan\n",
                "    except:\n",
                "        return np.nan\n",
                "\n",
                "\n",
                "df[\"state_ab\"] = df[\"address\"].apply(get_state_ab)"
            ]
        },
        {
            "cell_type": "markdown",
            "metadata": {},
            "source": [
                "De esta manera conseguimos el top 5 de los estados con más restaurantes\n"
            ]
        },
        {
            "cell_type": "code",
            "execution_count": null,
            "metadata": {},
            "outputs": [],
            "source": [
                "top_5 = df[\"state_ab\"].value_counts().head(5).index.to_list()"
            ]
        },
        {
            "cell_type": "code",
            "execution_count": null,
            "metadata": {},
            "outputs": [],
            "source": [
                "top_5"
            ]
        },
        {
            "cell_type": "markdown",
            "metadata": {},
            "source": [
                "Completamos el campo estado que es más descriptivo\n"
            ]
        },
        {
            "cell_type": "code",
            "execution_count": null,
            "metadata": {},
            "outputs": [],
            "source": [
                "df[\"us_state\"] = df[\"state_ab\"].map(state_dictionary)"
            ]
        },
        {
            "cell_type": "code",
            "execution_count": null,
            "metadata": {},
            "outputs": [],
            "source": [
                "df['us_state'].head(5)"
            ]
        },
        {
            "cell_type": "markdown",
            "metadata": {},
            "source": [
                "Obtenemos un arreglo de URLs de los archivos correspondientes para cada estado del top 5, con el fin de extraer los datos en un bucle.\n"
            ]
        },
        {
            "cell_type": "code",
            "execution_count": null,
            "metadata": {},
            "outputs": [],
            "source": [
                "top_5_url = [f\"Datasets/Google Maps/reviews-estados/review-{state_dictionary[i].replace(' ', '_')}/\" for i in top_5]\n",
                "\n",
                "top_5_url\n"
            ]
        },
        {
            "cell_type": "markdown",
            "metadata": {},
            "source": [
                "Creamos un diccionario con la cantidad de archivos por cada directorio de estados, con el fin de utilizarlo en un bucle en la extracción de datos.\n"
            ]
        },
        {
            "cell_type": "code",
            "execution_count": null,
            "metadata": {},
            "outputs": [],
            "source": [
                "cantidad_archivos = {}\n",
                "\n",
                "for i in top_5_url:\n",
                "    for j in os.walk(i):\n",
                "        cantidad_archivos[i] = len(j[2])\n",
                "\n",
                "cantidad_archivos"
            ]
        },
        {
            "cell_type": "markdown",
            "metadata": {},
            "source": [
                "Comprobación\n"
            ]
        },
        {
            "cell_type": "code",
            "execution_count": null,
            "metadata": {},
            "outputs": [],
            "source": [
                "for i in os.walk('Datasets/Google Maps/reviews-estados/review-Pennsylvania'):\n",
                "    print(len(i[2]))"
            ]
        },
        {
            "cell_type": "code",
            "execution_count": null,
            "metadata": {},
            "outputs": [],
            "source": [
                "cantidad_archivos['Datasets/Google Maps/reviews-estados/review-Pennsylvania/']"
            ]
        },
        {
            "cell_type": "markdown",
            "metadata": {},
            "source": [
                "## 1.2 Reviews Estados\n"
            ]
        },
        {
            "cell_type": "markdown",
            "metadata": {},
            "source": [
                "Ya con los estados elegidos estamos en condiciones de ingestar los datos de las carpetas correspondientes dentro del directorio <code>reviews-estados</code>.\n",
                "Es información masiva lo que genera un archivo de grandes dimensiones, sin embargo previamente filtramos por el parámetro de año <code>2017-2019</code> valiéndonos del campo <code>time</code>, que tiene es un <code>timestamp</code>, pero con 3 digitos más que el usado por <code>datetime</code> de Python. Le agregamos el campo <code>Estado</code> que es más descriptivo.\n"
            ]
        },
        {
            "cell_type": "code",
            "execution_count": null,
            "metadata": {},
            "outputs": [],
            "source": [
                "### Demora 7 minutos y 40 segundos, 11 minutos, varía\n",
                "\n",
                "lineas_json_revs_google = []\n",
                "\n",
                "for i in top_5_url:\n",
                "    count = 0\n",
                "    for c in range(1, cantidad_archivos[i] + 1):\n",
                "        with open(str(i) + str(c) + \".json\", \"r\", encoding=\"utf-8\") as f:\n",
                "            for s in f:\n",
                "                linea = json.loads(s)\n",
                "                linea[\"anio\"] = datetime.datetime.fromtimestamp(\n",
                "                    linea[\"time\"] / 1000\n",
                "                ).year\n",
                "                linea[\"estado\"] = i.split(\"-\")[-1][:-1]\n",
                "\n",
                "                if linea[\"anio\"] in [2017, 2018, 2019]:\n",
                "                    lineas_json_revs_google.append(linea)\n",
                "\n",
                "df_revs_google = pd.DataFrame(lineas_json_revs_google)\n",
                "\n",
                "df_revs_google.head(3)"
            ]
        },
        {
            "cell_type": "code",
            "execution_count": null,
            "metadata": {},
            "outputs": [],
            "source": [
                "merge_site_reviews = pd.merge(df_revs_google, df, left_on=\"gmap_id\", right_on=\"gmap_id\")"
            ]
        },
        {
            "cell_type": "code",
            "execution_count": null,
            "metadata": {},
            "outputs": [],
            "source": [
                "merge_site_reviews"
            ]
        },
        {
            "cell_type": "code",
            "execution_count": null,
            "metadata": {},
            "outputs": [],
            "source": [
                "merge_site_reviews.to_parquet(r\"Generated\\Google\\merge_site_reviews.parquet\")"
            ]
        },
        {
            "cell_type": "code",
            "execution_count": null,
            "metadata": {},
            "outputs": [],
            "source": [
                "df_revs_google.to_parquet(r\"Generated\\Google\\reviews-estados.parquet\")"
            ]
        },
        {
            "cell_type": "markdown",
            "metadata": {},
            "source": [
                "Tamaño archivo: 760 Mb\n",
                "\n",
                "Tamaño dataset: 24.3 Gb\n"
            ]
        },
        {
            "cell_type": "code",
            "execution_count": null,
            "metadata": {},
            "outputs": [],
            "source": [
                "df_revs_google.info()"
            ]
        },
        {
            "cell_type": "markdown",
            "metadata": {},
            "source": [
                "Tamaño 8.339.179 filas x 10 Columnas.\n"
            ]
        },
        {
            "cell_type": "markdown",
            "metadata": {},
            "source": [
                "# 2. Extracción de los Dataset de YELP\n"
            ]
        },
        {
            "cell_type": "markdown",
            "metadata": {},
            "source": [
                "### 2.1 Business\n"
            ]
        },
        {
            "cell_type": "markdown",
            "metadata": {},
            "source": [
                "Contiene los datos de las entidades negocios de Yelp, a un primer vistazo tiene las columnas duplicadas, por lo que hay que hacer un recorte, ya que la segunda mitad tiene datos vacíos en su inmensa mayoría.\n"
            ]
        },
        {
            "cell_type": "code",
            "execution_count": null,
            "metadata": {},
            "outputs": [],
            "source": [
                "url_business = r\"Datasets\\Yelp\\business.pkl\"\n",
                "\n",
                "df_business = pd.read_pickle(url_business)\n",
                "\n",
                "df_business = df_business.iloc[:, :-14]"
            ]
        },
        {
            "cell_type": "code",
            "execution_count": null,
            "metadata": {},
            "outputs": [],
            "source": [
                "df_business.sample(3)"
            ]
        },
        {
            "cell_type": "code",
            "execution_count": null,
            "metadata": {},
            "outputs": [],
            "source": [
                "df_business.shape"
            ]
        },
        {
            "cell_type": "markdown",
            "metadata": {},
            "source": [
                "Luego con la ayuda del campo <code>state</code> filtramos los negocios que se encuentran en los estados seleccionados en nuestro análisis.\n"
            ]
        },
        {
            "cell_type": "code",
            "execution_count": null,
            "metadata": {},
            "outputs": [],
            "source": [
                "df_business = df_business[df_business.state.isin(top_5)]"
            ]
        },
        {
            "cell_type": "code",
            "execution_count": null,
            "metadata": {},
            "outputs": [],
            "source": [
                "df_business.info()"
            ]
        },
        {
            "cell_type": "markdown",
            "metadata": {},
            "source": [
                "Seguimos filtrando a través del campo <code>categories</code>, para obtener los negocios que son restaurantes.\n"
            ]
        },
        {
            "cell_type": "code",
            "execution_count": null,
            "metadata": {},
            "outputs": [],
            "source": [
                "def is_restaurant(st):\n",
                "    try:\n",
                "        test = \"\".join(st).lower()\n",
                "        return \"restaurant\" in test\n",
                "    except:\n",
                "        return False\n",
                "\n",
                "\n",
                "df_business = df_business[df_business[\"categories\"].apply(is_restaurant)]"
            ]
        },
        {
            "cell_type": "code",
            "execution_count": null,
            "metadata": {},
            "outputs": [],
            "source": [
                "df_business.info()"
            ]
        },
        {
            "cell_type": "code",
            "execution_count": null,
            "metadata": {},
            "outputs": [],
            "source": [
                "df_business.to_parquet(r\"Generated\\Yelp\\bussines.parquet\")"
            ]
        },
        {
            "cell_type": "markdown",
            "metadata": {},
            "source": [
                "### 2.2 Checkin\n"
            ]
        },
        {
            "cell_type": "code",
            "execution_count": null,
            "metadata": {},
            "outputs": [],
            "source": [
                "lineas_json = []\n",
                "path_checkin = r\"Datasets\\Yelp\\checkin.json\"\n",
                "with open(path_checkin, \"r\", encoding=\"utf-8\") as file:\n",
                "    for l in file:\n",
                "        try:\n",
                "            linea_j = json.loads(l)\n",
                "            anio = linea_j[\"date\"][:4]\n",
                "            # if 'restaurant' in \" \".join(linea_j['category']).lower():\n",
                "            if anio in [\"2017\", \"2018\", \"2019\"]:\n",
                "                lineas_json.append(linea_j)\n",
                "        except:\n",
                "            pass\n",
                "\n",
                "df_checkin = pd.DataFrame(lineas_json)"
            ]
        },
        {
            "cell_type": "code",
            "execution_count": null,
            "metadata": {},
            "outputs": [],
            "source": [
                "df_checkin"
            ]
        },
        {
            "cell_type": "code",
            "execution_count": null,
            "metadata": {},
            "outputs": [],
            "source": [
                "merge_business_checkin = pd.merge(\n",
                "    df_business, df_checkin, left_on=\"business_id\", right_on=\"business_id\"\n",
                ")"
            ]
        },
        {
            "cell_type": "code",
            "execution_count": null,
            "metadata": {},
            "outputs": [],
            "source": [
                "merge_business_checkin.info()"
            ]
        },
        {
            "cell_type": "code",
            "execution_count": null,
            "metadata": {},
            "outputs": [],
            "source": [
                "df_checkin.to_parquet(r\"Generated\\Yelp\\checkin.parquet\")\n",
                "merge_business_checkin.to_parquet(r\"Generated\\YELP\\business_checkin.parquet\")"
            ]
        },
        {
            "cell_type": "markdown",
            "metadata": {},
            "source": [
                "### 2.3 Tips\n"
            ]
        },
        {
            "cell_type": "markdown",
            "metadata": {},
            "source": [
                "Realizamos la extracción de los datos y filtramos por año según nuestro análisis.\n"
            ]
        },
        {
            "cell_type": "code",
            "execution_count": null,
            "metadata": {},
            "outputs": [],
            "source": [
                "lineas_json = []\n",
                "path_tip = r\"Datasets\\Yelp\\tip.json\"\n",
                "with open(path_tip, \"r\", encoding=\"utf-8\") as file:\n",
                "    for l in file:\n",
                "        try:\n",
                "            linea_j = json.loads(l)\n",
                "            anio = linea_j[\"date\"][:4]\n",
                "            if anio in [\"2017\", \"2018\", \"2019\"]:\n",
                "                lineas_json.append(linea_j)\n",
                "        except:\n",
                "            pass\n",
                "\n",
                "df_tip = pd.DataFrame(lineas_json)"
            ]
        },
        {
            "cell_type": "code",
            "execution_count": null,
            "metadata": {},
            "outputs": [],
            "source": [
                "df_tip.sample(5)"
            ]
        },
        {
            "cell_type": "code",
            "execution_count": null,
            "metadata": {},
            "outputs": [],
            "source": [
                "df_tip.to_parquet(r\"Generated\\Yelp\\tip.parquet\")"
            ]
        },
        {
            "cell_type": "markdown",
            "metadata": {},
            "source": [
                "Unimos el el dataframe de tips con el de negocios\n"
            ]
        },
        {
            "cell_type": "code",
            "execution_count": null,
            "metadata": {},
            "outputs": [],
            "source": [
                "tips_merged = pd.merge(\n",
                "    df_tip, df_business, left_on=\"business_id\", right_on=\"business_id\"\n",
                ")"
            ]
        },
        {
            "cell_type": "code",
            "execution_count": null,
            "metadata": {},
            "outputs": [],
            "source": [
                "tips_merged.sort_values(\"business_id\").head(3)"
            ]
        },
        {
            "cell_type": "code",
            "execution_count": null,
            "metadata": {},
            "outputs": [],
            "source": [
                "tips_merged.to_parquet(r\"Generated\\Yelp\\business_tip.parquet\")"
            ]
        },
        {
            "cell_type": "markdown",
            "metadata": {},
            "source": [
                "### 2.4 Review\n"
            ]
        },
        {
            "cell_type": "code",
            "execution_count": null,
            "metadata": {},
            "outputs": [],
            "source": [
                "df_reviews_url = r\"Datasets\\Yelp\\review.json\""
            ]
        },
        {
            "cell_type": "markdown",
            "metadata": {},
            "source": [
                "Usamos el mismo método de linea por linea, y en el proceso filtramos por año y por las reseñas que han sido votadas como útiles.\n"
            ]
        },
        {
            "cell_type": "code",
            "execution_count": null,
            "metadata": {},
            "outputs": [],
            "source": [
                "# 44 segundos\n",
                "\n",
                "lineas_json_review = []\n",
                "\n",
                "with open(df_reviews_url, \"r\", encoding=\"utf-8\") as f:\n",
                "    count = 0\n",
                "    for i in f:\n",
                "        linea = json.loads(i)\n",
                "        anio = linea[\"date\"][:4]\n",
                "        if anio in [\"2017\", \"2018\", \"2019\"] and linea[\"useful\"] == 1:\n",
                "            lineas_json_review.append(linea)\n",
                "\n",
                "\n",
                "df_reviews = pd.DataFrame(lineas_json_review)"
            ]
        },
        {
            "cell_type": "code",
            "execution_count": null,
            "metadata": {},
            "outputs": [],
            "source": [
                "df_reviews.sample(10)"
            ]
        },
        {
            "cell_type": "code",
            "execution_count": null,
            "metadata": {},
            "outputs": [],
            "source": [
                "df_reviews.info()"
            ]
        },
        {
            "cell_type": "markdown",
            "metadata": {},
            "source": [
                "Aligeramos el dataset con unos downgrades de tipo de variables.\n"
            ]
        },
        {
            "cell_type": "code",
            "execution_count": null,
            "metadata": {},
            "outputs": [],
            "source": [
                "df_reviews[\"funny\"] = df_reviews[\"funny\"].astype(\"int8\")\n",
                "df_reviews[\"stars\"] = df_reviews[\"stars\"].astype(\"int8\")\n",
                "df_reviews[\"cool\"] = df_reviews[\"cool\"].astype(\"int8\")\n",
                "\n",
                "df_reviews.drop(\"useful\", axis=1, inplace=True, errors=\"ignore\")"
            ]
        },
        {
            "cell_type": "code",
            "execution_count": null,
            "metadata": {},
            "outputs": [],
            "source": [
                "df_reviews.to_parquet(r\"Generated\\Yelp\\review.parquet\")"
            ]
        },
        {
            "cell_type": "markdown",
            "metadata": {},
            "source": [
                "### 2.4 Users Yelp\n"
            ]
        },
        {
            "cell_type": "code",
            "execution_count": null,
            "metadata": {},
            "outputs": [],
            "source": [
                "parquet_file = pq.ParquetFile(r\"Datasets\\Yelp\\user.parquet\")\n",
                "\n",
                "arr_df = []\n",
                "\n",
                "for batch in parquet_file.iter_batches():\n",
                "    # count = count +1\n",
                "    batch_df = batch.to_pandas()\n",
                "    batch_df[\"elite\"] = batch_df[\"elite\"].apply(lambda x: x.split(\",\"))\n",
                "    batch_df[\"elite_len\"] = batch_df[\"elite\"].apply(lambda x: len(x))\n",
                "    batch_df = batch_df.query(\"elite_len > 1\")\n",
                "    arr_df.append(batch_df)\n",
                "\n",
                "df_users = pd.concat(arr_df)"
            ]
        },
        {
            "cell_type": "code",
            "execution_count": null,
            "metadata": {},
            "outputs": [],
            "source": [
                "df_users.sample(5)"
            ]
        },
        {
            "cell_type": "code",
            "execution_count": null,
            "metadata": {},
            "outputs": [],
            "source": [
                "df_users.info()"
            ]
        },
        {
            "cell_type": "code",
            "execution_count": null,
            "metadata": {},
            "outputs": [],
            "source": [
                "df_users.reset_index(inplace=True)\n",
                "df_users.drop(\"index\", axis=1, inplace=True, errors=\"ignore\")"
            ]
        },
        {
            "cell_type": "code",
            "execution_count": null,
            "metadata": {},
            "outputs": [],
            "source": [
                "df_users.to_parquet(r\"Generated\\Yelp\\users_extracted.parquet\")"
            ]
        },
        {
            "cell_type": "markdown",
            "metadata": {},
            "source": [
                "# NORMALIZACIÓN DE DATOS\n"
            ]
        },
        {
            "cell_type": "markdown",
            "metadata": {},
            "source": [
                "### **GOOGLE**\n",
                "\n",
                "#### _1. MERGE_SITE_REVIEWS_\n"
            ]
        },
        {
            "cell_type": "code",
            "execution_count": 3,
            "metadata": {},
            "outputs": [],
            "source": [
                "df_maps_restaurantes = pd.read_parquet(r'Generated\\Google\\metada_sitios.parquet')\n",
                "df_maps_reviews = pd.read_parquet(r'Generated\\Google\\merge_site_reviews.parquet')\n",
                "df_yelp_restaurantes = pd.read_parquet(r'Generated\\Yelp\\bussines.parquet')\n",
                "df_yelp_checkin = pd.read_parquet(r'Generated\\YELP\\business_checkin.parquet')\n",
                "df_yelp_tips = pd.read_parquet(r'Generated\\Yelp\\business_tip.parquet')\n",
                "df_yelp_reviews = pd.read_parquet(r'Generated\\Yelp\\review.parquet')\n",
                "df_yelp_users = pd.read_parquet(r'Generated\\Yelp\\users_extracted.parquet')"
            ]
        },
        {
            "cell_type": "code",
            "execution_count": 4,
            "metadata": {},
            "outputs": [
                {
                    "data": {
                        "text/html": [
                            "<div>\n",
                            "<style scoped>\n",
                            "    .dataframe tbody tr th:only-of-type {\n",
                            "        vertical-align: middle;\n",
                            "    }\n",
                            "\n",
                            "    .dataframe tbody tr th {\n",
                            "        vertical-align: top;\n",
                            "    }\n",
                            "\n",
                            "    .dataframe thead th {\n",
                            "        text-align: right;\n",
                            "    }\n",
                            "</style>\n",
                            "<table border=\"1\" class=\"dataframe\">\n",
                            "  <thead>\n",
                            "    <tr style=\"text-align: right;\">\n",
                            "      <th></th>\n",
                            "      <th>user_id</th>\n",
                            "      <th>name_x</th>\n",
                            "      <th>time</th>\n",
                            "      <th>rating</th>\n",
                            "      <th>text</th>\n",
                            "      <th>pics</th>\n",
                            "      <th>resp</th>\n",
                            "      <th>gmap_id</th>\n",
                            "      <th>anio</th>\n",
                            "      <th>estado</th>\n",
                            "      <th>...</th>\n",
                            "      <th>MISC</th>\n",
                            "      <th>state</th>\n",
                            "      <th>relative_results</th>\n",
                            "      <th>url</th>\n",
                            "      <th>state_ab</th>\n",
                            "      <th>us_state</th>\n",
                            "      <th>dtfmt</th>\n",
                            "      <th>mes</th>\n",
                            "      <th>dia</th>\n",
                            "      <th>hora</th>\n",
                            "    </tr>\n",
                            "  </thead>\n",
                            "  <tbody>\n",
                            "    <tr>\n",
                            "      <th>2303530</th>\n",
                            "      <td>114592116133289829069</td>\n",
                            "      <td>Nate Earl</td>\n",
                            "      <td>1511918945962</td>\n",
                            "      <td>5</td>\n",
                            "      <td>None</td>\n",
                            "      <td>None</td>\n",
                            "      <td>{'text': 'Thanks, Nate!', 'time': 151192058477...</td>\n",
                            "      <td>0x8834f7718ad6ff41:0xe8c41e761dd0c4aa</td>\n",
                            "      <td>2017</td>\n",
                            "      <td>Pennsylvania</td>\n",
                            "      <td>...</td>\n",
                            "      <td>{'Accessibility': ['Wheelchair accessible elev...</td>\n",
                            "      <td>Open ⋅ Closes 5PM</td>\n",
                            "      <td>[0x8834f771a2efd823:0xe24b134f654ede44, 0x8834...</td>\n",
                            "      <td>https://www.google.com/maps/place//data=!4m2!3...</td>\n",
                            "      <td>PA</td>\n",
                            "      <td>Pennsylvania</td>\n",
                            "      <td>2017-11-29 01:29:05.962</td>\n",
                            "      <td>11</td>\n",
                            "      <td>29</td>\n",
                            "      <td>1</td>\n",
                            "    </tr>\n",
                            "    <tr>\n",
                            "      <th>2077859</th>\n",
                            "      <td>110593725643464150685</td>\n",
                            "      <td>Robin Ratliff</td>\n",
                            "      <td>1562084395295</td>\n",
                            "      <td>5</td>\n",
                            "      <td>very good selection of breakfast foods and tas...</td>\n",
                            "      <td>None</td>\n",
                            "      <td>None</td>\n",
                            "      <td>0x88c340eb126a0623:0x6e9fa508520e57fb</td>\n",
                            "      <td>2019</td>\n",
                            "      <td>Florida</td>\n",
                            "      <td>...</td>\n",
                            "      <td>{'Accessibility': ['Wheelchair-accessible car ...</td>\n",
                            "      <td>Closed ⋅ Opens 7AM</td>\n",
                            "      <td>[0x88c346e05d3930c1:0xf7613a9a0daaab7d, 0x88c3...</td>\n",
                            "      <td>https://www.google.com/maps/place//data=!4m2!3...</td>\n",
                            "      <td>None</td>\n",
                            "      <td>None</td>\n",
                            "      <td>2019-07-02 16:19:55.295</td>\n",
                            "      <td>7</td>\n",
                            "      <td>2</td>\n",
                            "      <td>16</td>\n",
                            "    </tr>\n",
                            "    <tr>\n",
                            "      <th>1718265</th>\n",
                            "      <td>113152039422680250267</td>\n",
                            "      <td>Gail Carpenter</td>\n",
                            "      <td>1541650038967</td>\n",
                            "      <td>5</td>\n",
                            "      <td>yummy great service</td>\n",
                            "      <td>None</td>\n",
                            "      <td>None</td>\n",
                            "      <td>0x88e7129b2a6ad2f9:0xf0ef364f7795d1e1</td>\n",
                            "      <td>2018</td>\n",
                            "      <td>Florida</td>\n",
                            "      <td>...</td>\n",
                            "      <td>{'Accessibility': ['Wheelchair-accessible car ...</td>\n",
                            "      <td>Closed ⋅ Opens 11AM</td>\n",
                            "      <td>[0x88e7136d4b63a717:0xd52785100ae044a4, 0x88e7...</td>\n",
                            "      <td>https://www.google.com/maps/place//data=!4m2!3...</td>\n",
                            "      <td>None</td>\n",
                            "      <td>None</td>\n",
                            "      <td>2018-11-08 04:07:18.967</td>\n",
                            "      <td>11</td>\n",
                            "      <td>8</td>\n",
                            "      <td>4</td>\n",
                            "    </tr>\n",
                            "  </tbody>\n",
                            "</table>\n",
                            "<p>3 rows × 30 columns</p>\n",
                            "</div>"
                        ],
                        "text/plain": [
                            "                       user_id          name_x           time  rating  \\\n",
                            "2303530  114592116133289829069       Nate Earl  1511918945962       5   \n",
                            "2077859  110593725643464150685   Robin Ratliff  1562084395295       5   \n",
                            "1718265  113152039422680250267  Gail Carpenter  1541650038967       5   \n",
                            "\n",
                            "                                                      text  pics  \\\n",
                            "2303530                                               None  None   \n",
                            "2077859  very good selection of breakfast foods and tas...  None   \n",
                            "1718265                                yummy great service  None   \n",
                            "\n",
                            "                                                      resp  \\\n",
                            "2303530  {'text': 'Thanks, Nate!', 'time': 151192058477...   \n",
                            "2077859                                               None   \n",
                            "1718265                                               None   \n",
                            "\n",
                            "                                       gmap_id  anio        estado  ...  \\\n",
                            "2303530  0x8834f7718ad6ff41:0xe8c41e761dd0c4aa  2017  Pennsylvania  ...   \n",
                            "2077859  0x88c340eb126a0623:0x6e9fa508520e57fb  2019       Florida  ...   \n",
                            "1718265  0x88e7129b2a6ad2f9:0xf0ef364f7795d1e1  2018       Florida  ...   \n",
                            "\n",
                            "                                                      MISC  \\\n",
                            "2303530  {'Accessibility': ['Wheelchair accessible elev...   \n",
                            "2077859  {'Accessibility': ['Wheelchair-accessible car ...   \n",
                            "1718265  {'Accessibility': ['Wheelchair-accessible car ...   \n",
                            "\n",
                            "                       state  \\\n",
                            "2303530    Open ⋅ Closes 5PM   \n",
                            "2077859   Closed ⋅ Opens 7AM   \n",
                            "1718265  Closed ⋅ Opens 11AM   \n",
                            "\n",
                            "                                          relative_results  \\\n",
                            "2303530  [0x8834f771a2efd823:0xe24b134f654ede44, 0x8834...   \n",
                            "2077859  [0x88c346e05d3930c1:0xf7613a9a0daaab7d, 0x88c3...   \n",
                            "1718265  [0x88e7136d4b63a717:0xd52785100ae044a4, 0x88e7...   \n",
                            "\n",
                            "                                                       url  state_ab  \\\n",
                            "2303530  https://www.google.com/maps/place//data=!4m2!3...        PA   \n",
                            "2077859  https://www.google.com/maps/place//data=!4m2!3...      None   \n",
                            "1718265  https://www.google.com/maps/place//data=!4m2!3...      None   \n",
                            "\n",
                            "             us_state                   dtfmt  mes dia hora  \n",
                            "2303530  Pennsylvania 2017-11-29 01:29:05.962   11  29    1  \n",
                            "2077859          None 2019-07-02 16:19:55.295    7   2   16  \n",
                            "1718265          None 2018-11-08 04:07:18.967   11   8    4  \n",
                            "\n",
                            "[3 rows x 30 columns]"
                        ]
                    },
                    "execution_count": 4,
                    "metadata": {},
                    "output_type": "execute_result"
                }
            ],
            "source": [
                "df_maps_reviews.sample(3)"
            ]
        },
        {
            "cell_type": "code",
            "execution_count": 5,
            "metadata": {},
            "outputs": [
                {
                    "data": {
                        "text/plain": [
                            "array(['user_id', 'name_x', 'time', 'rating', 'text', 'pics', 'resp',\n",
                            "       'gmap_id', 'anio', 'estado', 'name_y', 'address', 'description',\n",
                            "       'latitude', 'longitude', 'category', 'avg_rating',\n",
                            "       'num_of_reviews', 'price', 'hours', 'MISC', 'state',\n",
                            "       'relative_results', 'url', 'state_ab', 'us_state', 'dtfmt', 'mes',\n",
                            "       'dia', 'hora'], dtype=object)"
                        ]
                    },
                    "execution_count": 5,
                    "metadata": {},
                    "output_type": "execute_result"
                }
            ],
            "source": [
                "df_maps_reviews.columns.values"
            ]
        },
        {
            "cell_type": "code",
            "execution_count": 6,
            "metadata": {},
            "outputs": [
                {
                    "data": {
                        "text/plain": [
                            "0                                        [Korean restaurant]\n",
                            "1                                        [Korean restaurant]\n",
                            "2                                        [Korean restaurant]\n",
                            "3                                        [Korean restaurant]\n",
                            "4                                        [Korean restaurant]\n",
                            "                                 ...                        \n",
                            "2393447    [Coffee shop, Bagel shop, Bakery, Breakfast re...\n",
                            "2393448    [Coffee shop, Bagel shop, Bakery, Breakfast re...\n",
                            "2393449    [Coffee shop, Bagel shop, Bakery, Breakfast re...\n",
                            "2393450    [Coffee shop, Bagel shop, Bakery, Breakfast re...\n",
                            "2393451    [Coffee shop, Bagel shop, Bakery, Breakfast re...\n",
                            "Name: category, Length: 2393452, dtype: object"
                        ]
                    },
                    "execution_count": 6,
                    "metadata": {},
                    "output_type": "execute_result"
                }
            ],
            "source": [
                "df_maps_reviews.category"
            ]
        },
        {
            "cell_type": "code",
            "execution_count": 7,
            "metadata": {},
            "outputs": [
                {
                    "name": "stdout",
                    "output_type": "stream",
                    "text": [
                        "<class 'pandas.core.frame.DataFrame'>\n",
                        "RangeIndex: 2393452 entries, 0 to 2393451\n",
                        "Data columns (total 30 columns):\n",
                        " #   Column            Dtype         \n",
                        "---  ------            -----         \n",
                        " 0   user_id           object        \n",
                        " 1   name_x            object        \n",
                        " 2   time              int64         \n",
                        " 3   rating            int64         \n",
                        " 4   text              object        \n",
                        " 5   pics              object        \n",
                        " 6   resp              object        \n",
                        " 7   gmap_id           object        \n",
                        " 8   anio              int64         \n",
                        " 9   estado            object        \n",
                        " 10  name_y            object        \n",
                        " 11  address           object        \n",
                        " 12  description       object        \n",
                        " 13  latitude          float64       \n",
                        " 14  longitude         float64       \n",
                        " 15  category          object        \n",
                        " 16  avg_rating        float64       \n",
                        " 17  num_of_reviews    int64         \n",
                        " 18  price             object        \n",
                        " 19  hours             object        \n",
                        " 20  MISC              object        \n",
                        " 21  state             object        \n",
                        " 22  relative_results  object        \n",
                        " 23  url               object        \n",
                        " 24  state_ab          object        \n",
                        " 25  us_state          object        \n",
                        " 26  dtfmt             datetime64[ns]\n",
                        " 27  mes               int32         \n",
                        " 28  dia               int32         \n",
                        " 29  hora              int32         \n",
                        "dtypes: datetime64[ns](1), float64(3), int32(3), int64(4), object(19)\n",
                        "memory usage: 520.4+ MB\n"
                    ]
                }
            ],
            "source": [
                "df_maps_reviews.info()"
            ]
        },
        {
            "cell_type": "code",
            "execution_count": 8,
            "metadata": {},
            "outputs": [
                {
                    "data": {
                        "text/html": [
                            "<div>\n",
                            "<style scoped>\n",
                            "    .dataframe tbody tr th:only-of-type {\n",
                            "        vertical-align: middle;\n",
                            "    }\n",
                            "\n",
                            "    .dataframe tbody tr th {\n",
                            "        vertical-align: top;\n",
                            "    }\n",
                            "\n",
                            "    .dataframe thead th {\n",
                            "        text-align: right;\n",
                            "    }\n",
                            "</style>\n",
                            "<table border=\"1\" class=\"dataframe\">\n",
                            "  <thead>\n",
                            "    <tr style=\"text-align: right;\">\n",
                            "      <th></th>\n",
                            "      <th>user_id</th>\n",
                            "      <th>name_x</th>\n",
                            "      <th>time</th>\n",
                            "      <th>rating</th>\n",
                            "      <th>text</th>\n",
                            "      <th>pics</th>\n",
                            "      <th>resp</th>\n",
                            "      <th>gmap_id</th>\n",
                            "      <th>anio</th>\n",
                            "      <th>estado</th>\n",
                            "      <th>...</th>\n",
                            "      <th>MISC</th>\n",
                            "      <th>state</th>\n",
                            "      <th>relative_results</th>\n",
                            "      <th>url</th>\n",
                            "      <th>state_ab</th>\n",
                            "      <th>us_state</th>\n",
                            "      <th>dtfmt</th>\n",
                            "      <th>mes</th>\n",
                            "      <th>dia</th>\n",
                            "      <th>hora</th>\n",
                            "    </tr>\n",
                            "  </thead>\n",
                            "  <tbody>\n",
                            "    <tr>\n",
                            "      <th>77098</th>\n",
                            "      <td>105189635890877887768</td>\n",
                            "      <td>Chris Vournakis</td>\n",
                            "      <td>1573540385357</td>\n",
                            "      <td>5</td>\n",
                            "      <td>this place has everything for everyone: excell...</td>\n",
                            "      <td>[{'url': ['https://lh5.googleusercontent.com/p...</td>\n",
                            "      <td>None</td>\n",
                            "      <td>0x80dcd6301201bef5:0xc8ea7c1816d43831</td>\n",
                            "      <td>2019</td>\n",
                            "      <td>California</td>\n",
                            "      <td>...</td>\n",
                            "      <td>{'Accessibility': ['Wheelchair accessible entr...</td>\n",
                            "      <td>Closed ⋅ Opens 3PM</td>\n",
                            "      <td>[0x80dcd3e3e6cbcf3b:0x7ffc9a34fb1a1cca, 0x80dc...</td>\n",
                            "      <td>https://www.google.com/maps/place//data=!4m2!3...</td>\n",
                            "      <td>CA</td>\n",
                            "      <td>California</td>\n",
                            "      <td>2019-11-12 06:33:05.357</td>\n",
                            "      <td>11</td>\n",
                            "      <td>12</td>\n",
                            "      <td>6</td>\n",
                            "    </tr>\n",
                            "    <tr>\n",
                            "      <th>377860</th>\n",
                            "      <td>109628210636166404302</td>\n",
                            "      <td>Alex Diaz</td>\n",
                            "      <td>1564062936937</td>\n",
                            "      <td>5</td>\n",
                            "      <td>best shrimp &amp; fish tacos with fully loaded coc...</td>\n",
                            "      <td>[{'url': ['https://lh5.googleusercontent.com/p...</td>\n",
                            "      <td>None</td>\n",
                            "      <td>0x80c2c8b107ba534f:0x26139bf0de9bcfec</td>\n",
                            "      <td>2019</td>\n",
                            "      <td>California</td>\n",
                            "      <td>...</td>\n",
                            "      <td>{'Accessibility': ['Wheelchair-accessible entr...</td>\n",
                            "      <td>Closed ⋅ Opens 9AM</td>\n",
                            "      <td>[0x80c2c8b16c055ecb:0xbe1bda5a509624c9, 0x80c2...</td>\n",
                            "      <td>https://www.google.com/maps/place//data=!4m2!3...</td>\n",
                            "      <td>None</td>\n",
                            "      <td>None</td>\n",
                            "      <td>2019-07-25 13:55:36.937</td>\n",
                            "      <td>7</td>\n",
                            "      <td>25</td>\n",
                            "      <td>13</td>\n",
                            "    </tr>\n",
                            "    <tr>\n",
                            "      <th>665741</th>\n",
                            "      <td>114136097777946918738</td>\n",
                            "      <td>Joann Hernandez</td>\n",
                            "      <td>1573611944822</td>\n",
                            "      <td>4</td>\n",
                            "      <td>None</td>\n",
                            "      <td>[{'url': ['https://lh5.googleusercontent.com/p...</td>\n",
                            "      <td>None</td>\n",
                            "      <td>0x8635dfda084afed5:0x60ef3c69b592b667</td>\n",
                            "      <td>2019</td>\n",
                            "      <td>Texas</td>\n",
                            "      <td>...</td>\n",
                            "      <td>{'Accessibility': ['Wheelchair accessible entr...</td>\n",
                            "      <td>Open ⋅ Closes 9PM</td>\n",
                            "      <td>[0x8635dfdcffefa4cf:0x6cbe3e1536fa2394, 0x8635...</td>\n",
                            "      <td>https://www.google.com/maps/place//data=!4m2!3...</td>\n",
                            "      <td>TX</td>\n",
                            "      <td>Texas</td>\n",
                            "      <td>2019-11-13 02:25:44.822</td>\n",
                            "      <td>11</td>\n",
                            "      <td>13</td>\n",
                            "      <td>2</td>\n",
                            "    </tr>\n",
                            "  </tbody>\n",
                            "</table>\n",
                            "<p>3 rows × 30 columns</p>\n",
                            "</div>"
                        ],
                        "text/plain": [
                            "                      user_id           name_x           time  rating  \\\n",
                            "77098   105189635890877887768  Chris Vournakis  1573540385357       5   \n",
                            "377860  109628210636166404302        Alex Diaz  1564062936937       5   \n",
                            "665741  114136097777946918738  Joann Hernandez  1573611944822       4   \n",
                            "\n",
                            "                                                     text  \\\n",
                            "77098   this place has everything for everyone: excell...   \n",
                            "377860  best shrimp & fish tacos with fully loaded coc...   \n",
                            "665741                                               None   \n",
                            "\n",
                            "                                                     pics  resp  \\\n",
                            "77098   [{'url': ['https://lh5.googleusercontent.com/p...  None   \n",
                            "377860  [{'url': ['https://lh5.googleusercontent.com/p...  None   \n",
                            "665741  [{'url': ['https://lh5.googleusercontent.com/p...  None   \n",
                            "\n",
                            "                                      gmap_id  anio      estado  ...  \\\n",
                            "77098   0x80dcd6301201bef5:0xc8ea7c1816d43831  2019  California  ...   \n",
                            "377860  0x80c2c8b107ba534f:0x26139bf0de9bcfec  2019  California  ...   \n",
                            "665741  0x8635dfda084afed5:0x60ef3c69b592b667  2019       Texas  ...   \n",
                            "\n",
                            "                                                     MISC               state  \\\n",
                            "77098   {'Accessibility': ['Wheelchair accessible entr...  Closed ⋅ Opens 3PM   \n",
                            "377860  {'Accessibility': ['Wheelchair-accessible entr...  Closed ⋅ Opens 9AM   \n",
                            "665741  {'Accessibility': ['Wheelchair accessible entr...   Open ⋅ Closes 9PM   \n",
                            "\n",
                            "                                         relative_results  \\\n",
                            "77098   [0x80dcd3e3e6cbcf3b:0x7ffc9a34fb1a1cca, 0x80dc...   \n",
                            "377860  [0x80c2c8b16c055ecb:0xbe1bda5a509624c9, 0x80c2...   \n",
                            "665741  [0x8635dfdcffefa4cf:0x6cbe3e1536fa2394, 0x8635...   \n",
                            "\n",
                            "                                                      url  state_ab  \\\n",
                            "77098   https://www.google.com/maps/place//data=!4m2!3...        CA   \n",
                            "377860  https://www.google.com/maps/place//data=!4m2!3...      None   \n",
                            "665741  https://www.google.com/maps/place//data=!4m2!3...        TX   \n",
                            "\n",
                            "          us_state                   dtfmt  mes dia hora  \n",
                            "77098   California 2019-11-12 06:33:05.357   11  12    6  \n",
                            "377860        None 2019-07-25 13:55:36.937    7  25   13  \n",
                            "665741       Texas 2019-11-13 02:25:44.822   11  13    2  \n",
                            "\n",
                            "[3 rows x 30 columns]"
                        ]
                    },
                    "execution_count": 8,
                    "metadata": {},
                    "output_type": "execute_result"
                }
            ],
            "source": [
                "df_maps_reviews[~df_maps_reviews.pics.isnull()].sample(3)"
            ]
        },
        {
            "cell_type": "code",
            "execution_count": 9,
            "metadata": {},
            "outputs": [
                {
                    "data": {
                        "text/plain": [
                            "2307136"
                        ]
                    },
                    "execution_count": 9,
                    "metadata": {},
                    "output_type": "execute_result"
                }
            ],
            "source": [
                "num_nulls_pics = df_maps_reviews.pics.isnull().sum()\n",
                "num_nulls_pics"
            ]
        },
        {
            "cell_type": "code",
            "execution_count": 10,
            "metadata": {},
            "outputs": [
                {
                    "data": {
                        "text/plain": [
                            "2178044"
                        ]
                    },
                    "execution_count": 10,
                    "metadata": {},
                    "output_type": "execute_result"
                }
            ],
            "source": [
                "num_nulls_resp = df_maps_reviews.resp.isnull().sum()\n",
                "num_nulls_resp"
            ]
        },
        {
            "cell_type": "code",
            "execution_count": 11,
            "metadata": {},
            "outputs": [
                {
                    "data": {
                        "text/html": [
                            "<div>\n",
                            "<style scoped>\n",
                            "    .dataframe tbody tr th:only-of-type {\n",
                            "        vertical-align: middle;\n",
                            "    }\n",
                            "\n",
                            "    .dataframe tbody tr th {\n",
                            "        vertical-align: top;\n",
                            "    }\n",
                            "\n",
                            "    .dataframe thead th {\n",
                            "        text-align: right;\n",
                            "    }\n",
                            "</style>\n",
                            "<table border=\"1\" class=\"dataframe\">\n",
                            "  <thead>\n",
                            "    <tr style=\"text-align: right;\">\n",
                            "      <th></th>\n",
                            "      <th>user_id</th>\n",
                            "      <th>name_x</th>\n",
                            "      <th>time</th>\n",
                            "      <th>rating</th>\n",
                            "      <th>text</th>\n",
                            "      <th>pics</th>\n",
                            "      <th>resp</th>\n",
                            "      <th>gmap_id</th>\n",
                            "      <th>anio</th>\n",
                            "      <th>estado</th>\n",
                            "      <th>...</th>\n",
                            "      <th>MISC</th>\n",
                            "      <th>state</th>\n",
                            "      <th>relative_results</th>\n",
                            "      <th>url</th>\n",
                            "      <th>state_ab</th>\n",
                            "      <th>us_state</th>\n",
                            "      <th>dtfmt</th>\n",
                            "      <th>mes</th>\n",
                            "      <th>dia</th>\n",
                            "      <th>hora</th>\n",
                            "    </tr>\n",
                            "  </thead>\n",
                            "  <tbody>\n",
                            "    <tr>\n",
                            "      <th>105315</th>\n",
                            "      <td>102320133698908723760</td>\n",
                            "      <td>Ali Titiz</td>\n",
                            "      <td>1531266705551</td>\n",
                            "      <td>5</td>\n",
                            "      <td>None</td>\n",
                            "      <td>None</td>\n",
                            "      <td>None</td>\n",
                            "      <td>0x80c288f346ae8f73:0x18f96e91a643110b</td>\n",
                            "      <td>2018</td>\n",
                            "      <td>California</td>\n",
                            "      <td>...</td>\n",
                            "      <td>{'Accessibility': ['Wheelchair-accessible entr...</td>\n",
                            "      <td>Open ⋅ Closes 9:30PM</td>\n",
                            "      <td>[0x80c288f16ee2d4a7:0x7345108ecf71f03b, 0x80c2...</td>\n",
                            "      <td>https://www.google.com/maps/place//data=!4m2!3...</td>\n",
                            "      <td>None</td>\n",
                            "      <td>None</td>\n",
                            "      <td>2018-07-10 23:51:45.551</td>\n",
                            "      <td>7</td>\n",
                            "      <td>10</td>\n",
                            "      <td>23</td>\n",
                            "    </tr>\n",
                            "    <tr>\n",
                            "      <th>1164390</th>\n",
                            "      <td>108477783124937539243</td>\n",
                            "      <td>Lareina Bellecour</td>\n",
                            "      <td>1528732630751</td>\n",
                            "      <td>2</td>\n",
                            "      <td>the layout of the rooftop is clumsy and strang...</td>\n",
                            "      <td>None</td>\n",
                            "      <td>None</td>\n",
                            "      <td>0x89c25983e53065b1:0x2c5d3d48cf428dd7</td>\n",
                            "      <td>2018</td>\n",
                            "      <td>New_York</td>\n",
                            "      <td>...</td>\n",
                            "      <td>{'Accessibility': ['Wheelchair-accessible entr...</td>\n",
                            "      <td>Closed ⋅ Opens 4PM</td>\n",
                            "      <td>[0x89c259aa43a4a41b:0x5787bbbd4f6d3a25, 0x89c2...</td>\n",
                            "      <td>https://www.google.com/maps/place//data=!4m2!3...</td>\n",
                            "      <td>None</td>\n",
                            "      <td>None</td>\n",
                            "      <td>2018-06-11 15:57:10.751</td>\n",
                            "      <td>6</td>\n",
                            "      <td>11</td>\n",
                            "      <td>15</td>\n",
                            "    </tr>\n",
                            "    <tr>\n",
                            "      <th>274007</th>\n",
                            "      <td>113344289845625766742</td>\n",
                            "      <td>Tori Hawkins</td>\n",
                            "      <td>1528826822091</td>\n",
                            "      <td>4</td>\n",
                            "      <td>great sushi and 50% off most rolls.</td>\n",
                            "      <td>None</td>\n",
                            "      <td>None</td>\n",
                            "      <td>0x809adfba39276747:0xb65a01443520a073</td>\n",
                            "      <td>2018</td>\n",
                            "      <td>California</td>\n",
                            "      <td>...</td>\n",
                            "      <td>{'Accessibility': ['Wheelchair accessible entr...</td>\n",
                            "      <td>Closes soon ⋅ 9PM ⋅ Opens 11:30AM Fri</td>\n",
                            "      <td>[0x809ade270f0b0cc1:0x14890cb92ecce51b, 0x809a...</td>\n",
                            "      <td>https://www.google.com/maps/place//data=!4m2!3...</td>\n",
                            "      <td>CA</td>\n",
                            "      <td>California</td>\n",
                            "      <td>2018-06-12 18:07:02.091</td>\n",
                            "      <td>6</td>\n",
                            "      <td>12</td>\n",
                            "      <td>18</td>\n",
                            "    </tr>\n",
                            "  </tbody>\n",
                            "</table>\n",
                            "<p>3 rows × 30 columns</p>\n",
                            "</div>"
                        ],
                        "text/plain": [
                            "                       user_id             name_x           time  rating  \\\n",
                            "105315   102320133698908723760          Ali Titiz  1531266705551       5   \n",
                            "1164390  108477783124937539243  Lareina Bellecour  1528732630751       2   \n",
                            "274007   113344289845625766742       Tori Hawkins  1528826822091       4   \n",
                            "\n",
                            "                                                      text  pics  resp  \\\n",
                            "105315                                                None  None  None   \n",
                            "1164390  the layout of the rooftop is clumsy and strang...  None  None   \n",
                            "274007                 great sushi and 50% off most rolls.  None  None   \n",
                            "\n",
                            "                                       gmap_id  anio      estado  ...  \\\n",
                            "105315   0x80c288f346ae8f73:0x18f96e91a643110b  2018  California  ...   \n",
                            "1164390  0x89c25983e53065b1:0x2c5d3d48cf428dd7  2018    New_York  ...   \n",
                            "274007   0x809adfba39276747:0xb65a01443520a073  2018  California  ...   \n",
                            "\n",
                            "                                                      MISC  \\\n",
                            "105315   {'Accessibility': ['Wheelchair-accessible entr...   \n",
                            "1164390  {'Accessibility': ['Wheelchair-accessible entr...   \n",
                            "274007   {'Accessibility': ['Wheelchair accessible entr...   \n",
                            "\n",
                            "                                         state  \\\n",
                            "105315                    Open ⋅ Closes 9:30PM   \n",
                            "1164390                     Closed ⋅ Opens 4PM   \n",
                            "274007   Closes soon ⋅ 9PM ⋅ Opens 11:30AM Fri   \n",
                            "\n",
                            "                                          relative_results  \\\n",
                            "105315   [0x80c288f16ee2d4a7:0x7345108ecf71f03b, 0x80c2...   \n",
                            "1164390  [0x89c259aa43a4a41b:0x5787bbbd4f6d3a25, 0x89c2...   \n",
                            "274007   [0x809ade270f0b0cc1:0x14890cb92ecce51b, 0x809a...   \n",
                            "\n",
                            "                                                       url  state_ab  \\\n",
                            "105315   https://www.google.com/maps/place//data=!4m2!3...      None   \n",
                            "1164390  https://www.google.com/maps/place//data=!4m2!3...      None   \n",
                            "274007   https://www.google.com/maps/place//data=!4m2!3...        CA   \n",
                            "\n",
                            "           us_state                   dtfmt  mes dia hora  \n",
                            "105315         None 2018-07-10 23:51:45.551    7  10   23  \n",
                            "1164390        None 2018-06-11 15:57:10.751    6  11   15  \n",
                            "274007   California 2018-06-12 18:07:02.091    6  12   18  \n",
                            "\n",
                            "[3 rows x 30 columns]"
                        ]
                    },
                    "execution_count": 11,
                    "metadata": {},
                    "output_type": "execute_result"
                }
            ],
            "source": [
                "df_maps_reviews[\"dtfmt\"] = df_maps_reviews.time.apply(\n",
                "    lambda x: datetime.utcfromtimestamp(x / 1000)\n",
                ")\n",
                "\n",
                "df_maps_reviews[\"mes\"] = df_maps_reviews.dtfmt.dt.month\n",
                "\n",
                "df_maps_reviews[\"dia\"] = df_maps_reviews.dtfmt.dt.day\n",
                "\n",
                "df_maps_reviews[\"hora\"] = df_maps_reviews.dtfmt.dt.hour\n",
                "\n",
                "df_maps_reviews.name_x = df_maps_reviews.name_x.str.title()\n",
                "\n",
                "df_maps_reviews.text = df_maps_reviews.text.str.lower()\n",
                "\n",
                "df_maps_reviews.sample(3)"
            ]
        },
        {
            "cell_type": "markdown",
            "metadata": {},
            "source": [
                "#### **_<u>COMENTARIO</u>_**\n",
                "\n",
                "Las columnas **pics** y **resp** deberían eliminarse porque la cantidades de datos nulos sobrepasa los 90%.\n",
                "\n",
                "_Obtenemos las columnas de año, mes, día y hora para posteriores análisis_\n"
            ]
        },
        {
            "cell_type": "markdown",
            "metadata": {},
            "source": [
                "# Salida Final ETL"
            ]
        },
        {
            "cell_type": "code",
            "execution_count": 12,
            "metadata": {},
            "outputs": [],
            "source": [
                "df_maps_restaurantes.to_parquet(r'Generated\\Google\\metada_sitios.parquet')\n",
                "df_maps_reviews.to_parquet(r'Generated\\Google\\merge_site_reviews.parquet')\n",
                "df_yelp_restaurantes.to_parquet(r'Generated\\Yelp\\bussines.parquet')\n",
                "df_yelp_checkin.to_parquet(r'Generated\\YELP\\business_checkin.parquet')\n",
                "df_yelp_tips.to_parquet(r'Generated\\Yelp\\business_tip.parquet')\n",
                "df_yelp_reviews.to_parquet(r'Generated\\Yelp\\review.parquet')\n",
                "df_yelp_users.to_parquet(r'Generated\\Yelp\\users_extracted.parquet')"
            ]
        }
    ],
    "metadata": {
        "kernelspec": {
            "display_name": ".venv10",
            "language": "python",
            "name": "python3"
        },
        "language_info": {
            "codemirror_mode": {
                "name": "ipython",
                "version": 3
            },
            "file_extension": ".py",
            "mimetype": "text/x-python",
            "name": "python",
            "nbconvert_exporter": "python",
            "pygments_lexer": "ipython3",
            "version": "3.11.9"
        }
    },
    "nbformat": 4,
    "nbformat_minor": 2
}

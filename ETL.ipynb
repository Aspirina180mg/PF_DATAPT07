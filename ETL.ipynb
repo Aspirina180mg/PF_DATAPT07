{
 "cells": [
  {
   "cell_type": "markdown",
   "metadata": {},
   "source": [
    "# Extracción de datos Datasets Google Maps y YELP\n"
   ]
  },
  {
   "cell_type": "markdown",
   "metadata": {},
   "source": [
    "### Importaciones\n"
   ]
  },
  {
   "cell_type": "code",
   "execution_count": 5,
   "metadata": {},
   "outputs": [],
   "source": [
    "import pandas as pd\n",
    "import numpy as np\n",
    "import json\n",
    "import datetime\n",
    "import os\n",
    "import pyarrow.parquet as pq\n",
    "from datetime import datetime"
   ]
  },
  {
   "cell_type": "markdown",
   "metadata": {},
   "source": [
    "### Utiles\n"
   ]
  },
  {
   "cell_type": "code",
   "execution_count": 6,
   "metadata": {},
   "outputs": [],
   "source": [
    "state_abreviations = [\n",
    "    \"AL\",\"AK\",\"AZ\",\"AR\",\"CA\",\"CO\",\"CT\",\"DE\",\"FL\",\"GA\",\"HI\",\"ID\",\"IL\",\"IN\",\"IA\",\n",
    "    \"KS\",\"KY\",\"LA\",\"ME\",\"MD\",\"MA\",\"MI\",\"MN\",\"MS\",\"MO\",\"MT\",\"NE\",\"NV\",\"NH\",\"NJ\",\n",
    "    \"NM\",\"NY\",\"NC\",\"ND\",\"OH\",\"OK\",\"OR\",\"PA\",\"RI\",\"SC\",\"SD\",\"TN\",\"TX\",\"UT\",\"VT\",\n",
    "    \"VA\",\"WA\",\"WV\",\"WI\",\"WY\",\n",
    "]\n",
    "\n",
    "state_dictionary = {\n",
    "    \"AL\": \"Alabama\",\"AK\": \"Alaska\",\"AZ\": \"Arizona\",\"AR\": \"Arkansas\",\n",
    "    \"CA\": \"California\",\"CO\": \"Colorado\",\"CT\": \"Connecticut\",\"DE\": \"Delaware\",\n",
    "    \"FL\": \"Florida\",\"GA\": \"Georgia\",\"HI\": \"Hawaii\",\"ID\": \"Idaho\",\n",
    "    \"IL\": \"Illinois\",\"IN\": \"Indiana\",\"IA\": \"Iowa\",\"KS\": \"Kansas\",\n",
    "    \"KY\": \"Kentucky\",\"LA\": \"Louisiana\",\"ME\": \"Maine\",\"MD\": \"Maryland\",\n",
    "    \"MA\": \"Massachusetts\",\"MI\": \"Michigan\",\"MN\": \"Minnesota\",\n",
    "    \"MS\": \"Mississippi\",\"MO\": \"Missouri\",\"MT\": \"Montana\",\"NE\": \"Nebraska\",\n",
    "    \"NV\": \"Nevada\",\"NH\": \"New Hampshire\",\"NJ\": \"New Jersey\",\"NM\": \"New Mexico\",\n",
    "    \"NY\": \"New York\",\"NC\": \"North Carolina\",\"ND\": \"North Dakota\",\"OH\": \"Ohio\",\n",
    "    \"OK\": \"Oklahoma\",\"OR\": \"Oregon\",\"PA\": \"Pennsylvania\",\"RI\": \"Rhode Island\",\n",
    "    \"SC\": \"South Carolina\",\"SD\": \"South Dakota\",\"TN\": \"Tennessee\",\n",
    "    \"TX\": \"Texas\",\"UT\": \"Utah\",\"VT\": \"Vermont\",\"VA\": \"Virginia\",\n",
    "    \"WA\": \"Washington\",\"WV\": \"West Virginia\",\"WI\": \"Wisconsin\",\"WY\": \"Wyoming\",\n",
    "}"
   ]
  },
  {
   "cell_type": "code",
   "execution_count": 7,
   "metadata": {},
   "outputs": [
    {
     "ename": "FileExistsError",
     "evalue": "[WinError 183] No se puede crear un archivo que ya existe: 'Generated'",
     "output_type": "error",
     "traceback": [
      "\u001b[1;31m---------------------------------------------------------------------------\u001b[0m",
      "\u001b[1;31mFileExistsError\u001b[0m                           Traceback (most recent call last)",
      "Cell \u001b[1;32mIn[7], line 3\u001b[0m\n\u001b[0;32m      1\u001b[0m generated_dir \u001b[38;5;241m=\u001b[39m \u001b[38;5;124m\"\u001b[39m\u001b[38;5;124mGenerated\u001b[39m\u001b[38;5;124m\"\u001b[39m\n\u001b[1;32m----> 3\u001b[0m \u001b[43mos\u001b[49m\u001b[38;5;241;43m.\u001b[39;49m\u001b[43mmkdir\u001b[49m\u001b[43m(\u001b[49m\u001b[43mgenerated_dir\u001b[49m\u001b[43m)\u001b[49m\n\u001b[0;32m      4\u001b[0m os\u001b[38;5;241m.\u001b[39mchdir(generated_dir)\n\u001b[0;32m      5\u001b[0m os\u001b[38;5;241m.\u001b[39mmkdir(\u001b[38;5;124m\"\u001b[39m\u001b[38;5;124mGoogle\u001b[39m\u001b[38;5;124m\"\u001b[39m)\n",
      "\u001b[1;31mFileExistsError\u001b[0m: [WinError 183] No se puede crear un archivo que ya existe: 'Generated'"
     ]
    }
   ],
   "source": [
    "generated_dir = \"Generated\"\n",
    "\n",
    "os.mkdir(generated_dir)\n",
    "os.chdir(generated_dir)\n",
    "os.mkdir(\"Google\")\n",
    "os.mkdir(\"Yelp\")\n",
    "os.chdir(\"../\")\n",
    "\n",
    "os.getcwd()"
   ]
  },
  {
   "cell_type": "markdown",
   "metadata": {},
   "source": [
    "# 1. Extracción con los datasets de Google Maps\n"
   ]
  },
  {
   "cell_type": "markdown",
   "metadata": {},
   "source": [
    "## 1.1 Metada de Sitios\n"
   ]
  },
  {
   "cell_type": "markdown",
   "metadata": {},
   "source": [
    "Recorremos todo el directorio, lo hacemos archivo por archivo y línea por línea ya que no se puede abrir directamente los archivos por su dimensión y porque no están en formato de array, sino están constituidos en un registro por lìnea.\n",
    "Durante la lectura filtramos los que incluyan <code>Restaurant</code> en el campo de categoría, para alivianar el dataset final.\n"
   ]
  },
  {
   "cell_type": "code",
   "execution_count": null,
   "metadata": {},
   "outputs": [],
   "source": [
    "# Tiempo de Demora Medio: 51 segundos.\n",
    "lineas_json = []\n",
    "\n",
    "# Son 11 archivos con un ordinal, del 1 al 11\n",
    "for i in range(1, 12):\n",
    "    path = f\"Datasets/Google Maps/metadata-sitios/{i}.json\"\n",
    "    with open(path, \"r\") as file:\n",
    "        for l in file:\n",
    "            try:\n",
    "                linea_j = json.loads(l)\n",
    "                if \"restaurant\" in \" \".join(linea_j[\"category\"]).lower():\n",
    "                    lineas_json.append(linea_j)\n",
    "            except:\n",
    "                pass\n",
    "\n",
    "df = pd.DataFrame(lineas_json)\n",
    "\n",
    "df.head(3)"
   ]
  },
  {
   "cell_type": "code",
   "execution_count": null,
   "metadata": {},
   "outputs": [],
   "source": [
    "df.loc[5, \"address\"]"
   ]
  },
  {
   "cell_type": "markdown",
   "metadata": {},
   "source": [
    "Exportamos a formato Parquet\n"
   ]
  },
  {
   "cell_type": "code",
   "execution_count": null,
   "metadata": {},
   "outputs": [],
   "source": [
    "df.to_parquet(r\"Generated\\Google\\metada_sitios.parquet\")"
   ]
  },
  {
   "cell_type": "markdown",
   "metadata": {},
   "source": [
    "Tamaño Directorio <code>metadata-sitios</code>: 2.76 Gb\n",
    "\n",
    "Tamaño Archivo <code>metada_sitios.parquet</code>: 60.43 Mb\n"
   ]
  },
  {
   "cell_type": "code",
   "execution_count": null,
   "metadata": {},
   "outputs": [],
   "source": [
    "df.info()"
   ]
  },
  {
   "cell_type": "markdown",
   "metadata": {},
   "source": [
    "Dimensiones: 212.014 filas x 15 Columnas\n"
   ]
  },
  {
   "cell_type": "markdown",
   "metadata": {},
   "source": [
    "## 1.1.1 Obtención de información de Estados\n"
   ]
  },
  {
   "cell_type": "markdown",
   "metadata": {},
   "source": [
    "En base al campo <code>Address</code> obtenemos el estado donde se encuentra el negocio. Nos servirá para luego seleccionar los estados con más restaurantes.\n"
   ]
  },
  {
   "cell_type": "code",
   "execution_count": null,
   "metadata": {},
   "outputs": [],
   "source": [
    "def get_state_ab(st):\n",
    "    try:\n",
    "        state = st.split(\", \")[-1].split(\" \")[0]\n",
    "        if state in state_abreviations:\n",
    "            return state\n",
    "        else:\n",
    "            return np.nan\n",
    "    except:\n",
    "        return np.nan\n",
    "\n",
    "\n",
    "df[\"state_ab\"] = df[\"address\"].apply(get_state_ab)"
   ]
  },
  {
   "cell_type": "markdown",
   "metadata": {},
   "source": [
    "De esta manera conseguimos el top 5 de los estados con más restaurantes\n"
   ]
  },
  {
   "cell_type": "code",
   "execution_count": null,
   "metadata": {},
   "outputs": [],
   "source": [
    "top_5 = df[\"state_ab\"].value_counts().head(5).index.to_list()"
   ]
  },
  {
   "cell_type": "code",
   "execution_count": null,
   "metadata": {},
   "outputs": [],
   "source": [
    "top_5"
   ]
  },
  {
   "cell_type": "markdown",
   "metadata": {},
   "source": [
    "Completamos el campo estado que es más descriptivo\n"
   ]
  },
  {
   "cell_type": "code",
   "execution_count": null,
   "metadata": {},
   "outputs": [],
   "source": [
    "df[\"us_state\"] = df[\"state_ab\"].map(state_dictionary)"
   ]
  },
  {
   "cell_type": "code",
   "execution_count": null,
   "metadata": {},
   "outputs": [],
   "source": [
    "df[\"us_state\"].head(5)"
   ]
  },
  {
   "cell_type": "markdown",
   "metadata": {},
   "source": [
    "Obtenemos un arreglo de URLs de los archivos correspondientes para cada estado del top 5, con el fin de extraer los datos en un bucle.\n"
   ]
  },
  {
   "cell_type": "code",
   "execution_count": null,
   "metadata": {},
   "outputs": [],
   "source": [
    "top_5_url = [\n",
    "    f\"Datasets/Google Maps/reviews-estados/review-{state_dictionary[i].replace(' ', '_')}/\"\n",
    "    for i in top_5\n",
    "]\n",
    "\n",
    "\n",
    "\n",
    "top_5_url"
   ]
  },
  {
   "cell_type": "markdown",
   "metadata": {},
   "source": [
    "Creamos un diccionario con la cantidad de archivos por cada directorio de estados, con el fin de utilizarlo en un bucle en la extracción de datos.\n"
   ]
  },
  {
   "cell_type": "code",
   "execution_count": null,
   "metadata": {},
   "outputs": [],
   "source": [
    "cantidad_archivos = {}\n",
    "\n",
    "for i in top_5_url:\n",
    "    for j in os.walk(i):\n",
    "        cantidad_archivos[i] = len(j[2])\n",
    "\n",
    "cantidad_archivos"
   ]
  },
  {
   "cell_type": "markdown",
   "metadata": {},
   "source": [
    "Comprobación\n"
   ]
  },
  {
   "cell_type": "code",
   "execution_count": null,
   "metadata": {},
   "outputs": [],
   "source": [
    "for i in os.walk(\"Datasets/Google Maps/reviews-estados/review-Pennsylvania\"):\n",
    "    print(len(i[2]))"
   ]
  },
  {
   "cell_type": "code",
   "execution_count": null,
   "metadata": {},
   "outputs": [],
   "source": [
    "cantidad_archivos[\"Datasets/Google Maps/reviews-estados/review-Pennsylvania/\"]"
   ]
  },
  {
   "cell_type": "markdown",
   "metadata": {},
   "source": [
    "## 1.2 Reviews Estados\n"
   ]
  },
  {
   "cell_type": "markdown",
   "metadata": {},
   "source": [
    "Ya con los estados elegidos estamos en condiciones de ingestar los datos de las carpetas correspondientes dentro del directorio <code>reviews-estados</code>.\n",
    "Es información masiva lo que genera un archivo de grandes dimensiones, sin embargo previamente filtramos por el parámetro de año <code>2017-2019</code> valiéndonos del campo <code>time</code>, que tiene es un <code>timestamp</code>, pero con 3 digitos más que el usado por <code>datetime</code> de Python. Le agregamos el campo <code>Estado</code> que es más descriptivo.\n"
   ]
  },
  {
   "cell_type": "code",
   "execution_count": null,
   "metadata": {},
   "outputs": [],
   "source": [
    "### Demora 7 minutos y 40 segundos, 11 minutos, varía\n",
    "\n",
    "lineas_json_revs_google = []\n",
    "\n",
    "for i in top_5_url:\n",
    "    count = 0\n",
    "    for c in range(1, cantidad_archivos[i] + 1):\n",
    "        with open(str(i) + str(c) + \".json\", \"r\", encoding=\"utf-8\") as f:\n",
    "            for s in f:\n",
    "                linea = json.loads(s)\n",
    "                linea[\"anio\"] = datetime.datetime.fromtimestamp(\n",
    "                    linea[\"time\"] / 1000\n",
    "                ).year\n",
    "                linea[\"estado\"] = i.split(\"-\")[-1][:-1]\n",
    "\n",
    "                if linea[\"anio\"] in [2017, 2018, 2019]:\n",
    "                    lineas_json_revs_google.append(linea)\n",
    "\n",
    "df_revs_google = pd.DataFrame(lineas_json_revs_google)\n",
    "\n",
    "df_revs_google.head(3)"
   ]
  },
  {
   "cell_type": "code",
   "execution_count": null,
   "metadata": {},
   "outputs": [],
   "source": [
    "merge_site_reviews = pd.merge(df_revs_google, df, left_on=\"gmap_id\", right_on=\"gmap_id\")"
   ]
  },
  {
   "cell_type": "code",
   "execution_count": null,
   "metadata": {},
   "outputs": [],
   "source": [
    "merge_site_reviews"
   ]
  },
  {
   "cell_type": "code",
   "execution_count": null,
   "metadata": {},
   "outputs": [],
   "source": [
    "merge_site_reviews.to_parquet(r\"Generated\\Google\\merge_site_reviews.parquet\")"
   ]
  },
  {
   "cell_type": "code",
   "execution_count": null,
   "metadata": {},
   "outputs": [],
   "source": [
    "df_revs_google.to_parquet(r\"Generated\\Google\\reviews-estados.parquet\")"
   ]
  },
  {
   "cell_type": "markdown",
   "metadata": {},
   "source": [
    "Tamaño archivo: 760 Mb\n",
    "\n",
    "Tamaño dataset: 24.3 Gb\n"
   ]
  },
  {
   "cell_type": "code",
   "execution_count": null,
   "metadata": {},
   "outputs": [],
   "source": [
    "df_revs_google.info()"
   ]
  },
  {
   "cell_type": "markdown",
   "metadata": {},
   "source": [
    "Tamaño 8.339.179 filas x 10 Columnas.\n"
   ]
  },
  {
   "cell_type": "markdown",
   "metadata": {},
   "source": [
    "# 2. Extracción de los Dataset de YELP\n"
   ]
  },
  {
   "cell_type": "markdown",
   "metadata": {},
   "source": [
    "### 2.1 Business\n"
   ]
  },
  {
   "cell_type": "markdown",
   "metadata": {},
   "source": [
    "Contiene los datos de las entidades negocios de Yelp, a un primer vistazo tiene las columnas duplicadas, por lo que hay que hacer un recorte, ya que la segunda mitad tiene datos vacíos en su inmensa mayoría.\n"
   ]
  },
  {
   "cell_type": "code",
   "execution_count": null,
   "metadata": {},
   "outputs": [],
   "source": [
    "url_business = r\"Datasets\\Yelp\\business.pkl\"\n",
    "\n",
    "df_business = pd.read_pickle(url_business)\n",
    "\n",
    "df_business = df_business.iloc[:, :-14]"
   ]
  },
  {
   "cell_type": "code",
   "execution_count": null,
   "metadata": {},
   "outputs": [],
   "source": [
    "df_business.sample(3)"
   ]
  },
  {
   "cell_type": "code",
   "execution_count": null,
   "metadata": {},
   "outputs": [],
   "source": [
    "df_business.shape"
   ]
  },
  {
   "cell_type": "markdown",
   "metadata": {},
   "source": [
    "Luego con la ayuda del campo <code>state</code> filtramos los negocios que se encuentran en los estados seleccionados en nuestro análisis.\n"
   ]
  },
  {
   "cell_type": "code",
   "execution_count": null,
   "metadata": {},
   "outputs": [],
   "source": [
    "df_business = df_business[df_business.state.isin(top_5)]"
   ]
  },
  {
   "cell_type": "code",
   "execution_count": null,
   "metadata": {},
   "outputs": [],
   "source": [
    "df_business.info()"
   ]
  },
  {
   "cell_type": "markdown",
   "metadata": {},
   "source": [
    "Seguimos filtrando a través del campo <code>categories</code>, para obtener los negocios que son restaurantes.\n"
   ]
  },
  {
   "cell_type": "code",
   "execution_count": null,
   "metadata": {},
   "outputs": [],
   "source": [
    "def is_restaurant(st):\n",
    "    try:\n",
    "        test = \"\".join(st).lower()\n",
    "        return \"restaurant\" in test\n",
    "    except:\n",
    "        return False\n",
    "\n",
    "\n",
    "df_business = df_business[df_business[\"categories\"].apply(is_restaurant)]"
   ]
  },
  {
   "cell_type": "code",
   "execution_count": null,
   "metadata": {},
   "outputs": [],
   "source": [
    "df_business.info()"
   ]
  },
  {
   "cell_type": "code",
   "execution_count": null,
   "metadata": {},
   "outputs": [],
   "source": [
    "df_business.to_parquet(r\"Generated\\Yelp\\bussines.parquet\")"
   ]
  },
  {
   "cell_type": "markdown",
   "metadata": {},
   "source": [
    "### 2.2 Checkin\n"
   ]
  },
  {
   "cell_type": "code",
   "execution_count": null,
   "metadata": {},
   "outputs": [],
   "source": [
    "lineas_json = []\n",
    "path_checkin = r\"Datasets\\Yelp\\checkin.json\"\n",
    "with open(path_checkin, \"r\", encoding=\"utf-8\") as file:\n",
    "    for l in file:\n",
    "        try:\n",
    "            linea_j = json.loads(l)\n",
    "            anio = linea_j[\"date\"][:4]\n",
    "            # if 'restaurant' in \" \".join(linea_j['category']).lower():\n",
    "            if anio in [\"2017\", \"2018\", \"2019\"]:\n",
    "                lineas_json.append(linea_j)\n",
    "        except:\n",
    "            pass\n",
    "\n",
    "df_checkin = pd.DataFrame(lineas_json)"
   ]
  },
  {
   "cell_type": "code",
   "execution_count": null,
   "metadata": {},
   "outputs": [],
   "source": [
    "df_checkin"
   ]
  },
  {
   "cell_type": "code",
   "execution_count": null,
   "metadata": {},
   "outputs": [],
   "source": [
    "merge_business_checkin = pd.merge(\n",
    "    df_business, df_checkin, left_on=\"business_id\", right_on=\"business_id\"\n",
    ")"
   ]
  },
  {
   "cell_type": "code",
   "execution_count": null,
   "metadata": {},
   "outputs": [],
   "source": [
    "merge_business_checkin.info()"
   ]
  },
  {
   "cell_type": "code",
   "execution_count": null,
   "metadata": {},
   "outputs": [],
   "source": [
    "df_checkin.to_parquet(r\"Generated\\Yelp\\checkin.parquet\")\n",
    "merge_business_checkin.to_parquet(r\"Generated\\YELP\\business_checkin.parquet\")"
   ]
  },
  {
   "cell_type": "markdown",
   "metadata": {},
   "source": [
    "### 2.3 Tips\n"
   ]
  },
  {
   "cell_type": "markdown",
   "metadata": {},
   "source": [
    "Realizamos la extracción de los datos y filtramos por año según nuestro análisis.\n"
   ]
  },
  {
   "cell_type": "code",
   "execution_count": null,
   "metadata": {},
   "outputs": [],
   "source": [
    "lineas_json = []\n",
    "path_tip = r\"Datasets\\Yelp\\tip.json\"\n",
    "with open(path_tip, \"r\", encoding=\"utf-8\") as file:\n",
    "    for l in file:\n",
    "        try:\n",
    "            linea_j = json.loads(l)\n",
    "            anio = linea_j[\"date\"][:4]\n",
    "            if anio in [\"2017\", \"2018\", \"2019\"]:\n",
    "                lineas_json.append(linea_j)\n",
    "        except:\n",
    "            pass\n",
    "\n",
    "df_tip = pd.DataFrame(lineas_json)"
   ]
  },
  {
   "cell_type": "code",
   "execution_count": null,
   "metadata": {},
   "outputs": [],
   "source": [
    "df_tip.sample(5)"
   ]
  },
  {
   "cell_type": "code",
   "execution_count": null,
   "metadata": {},
   "outputs": [],
   "source": [
    "df_tip.to_parquet(r\"Generated\\Yelp\\tip.parquet\")"
   ]
  },
  {
   "cell_type": "markdown",
   "metadata": {},
   "source": [
    "Unimos el el dataframe de tips con el de negocios\n"
   ]
  },
  {
   "cell_type": "code",
   "execution_count": null,
   "metadata": {},
   "outputs": [],
   "source": [
    "tips_merged = pd.merge(\n",
    "    df_tip, df_business, left_on=\"business_id\", right_on=\"business_id\"\n",
    ")"
   ]
  },
  {
   "cell_type": "code",
   "execution_count": null,
   "metadata": {},
   "outputs": [],
   "source": [
    "tips_merged.sort_values(\"business_id\").head(3)"
   ]
  },
  {
   "cell_type": "code",
   "execution_count": null,
   "metadata": {},
   "outputs": [],
   "source": [
    "tips_merged.to_parquet(r\"Generated\\Yelp\\business_tip.parquet\")"
   ]
  },
  {
   "cell_type": "markdown",
   "metadata": {},
   "source": [
    "### 2.4 Review\n"
   ]
  },
  {
   "cell_type": "code",
   "execution_count": null,
   "metadata": {},
   "outputs": [],
   "source": [
    "df_reviews_url = r\"Datasets\\Yelp\\review.json\""
   ]
  },
  {
   "cell_type": "markdown",
   "metadata": {},
   "source": [
    "Usamos el mismo método de linea por linea, y en el proceso filtramos por año y por las reseñas que han sido votadas como útiles.\n"
   ]
  },
  {
   "cell_type": "code",
   "execution_count": null,
   "metadata": {},
   "outputs": [],
   "source": [
    "# 44 segundos\n",
    "\n",
    "lineas_json_review = []\n",
    "\n",
    "with open(df_reviews_url, \"r\", encoding=\"utf-8\") as f:\n",
    "    count = 0\n",
    "    for i in f:\n",
    "        linea = json.loads(i)\n",
    "        anio = linea[\"date\"][:4]\n",
    "        if anio in [\"2017\", \"2018\", \"2019\"] and linea[\"useful\"] == 1:\n",
    "            lineas_json_review.append(linea)\n",
    "\n",
    "\n",
    "df_reviews = pd.DataFrame(lineas_json_review)"
   ]
  },
  {
   "cell_type": "code",
   "execution_count": null,
   "metadata": {},
   "outputs": [],
   "source": [
    "df_reviews.sample(10)"
   ]
  },
  {
   "cell_type": "code",
   "execution_count": null,
   "metadata": {},
   "outputs": [],
   "source": [
    "df_reviews.info()"
   ]
  },
  {
   "cell_type": "markdown",
   "metadata": {},
   "source": [
    "Aligeramos el dataset con unos downgrades de tipo de variables.\n"
   ]
  },
  {
   "cell_type": "code",
   "execution_count": null,
   "metadata": {},
   "outputs": [],
   "source": [
    "df_reviews[\"funny\"] = df_reviews[\"funny\"].astype(\"int8\")\n",
    "df_reviews[\"stars\"] = df_reviews[\"stars\"].astype(\"int8\")\n",
    "df_reviews[\"cool\"] = df_reviews[\"cool\"].astype(\"int8\")\n",
    "\n",
    "df_reviews.drop(\"useful\", axis=1, inplace=True, errors=\"ignore\")"
   ]
  },
  {
   "cell_type": "code",
   "execution_count": null,
   "metadata": {},
   "outputs": [],
   "source": [
    "df_reviews.to_parquet(r\"Generated\\Yelp\\review.parquet\")"
   ]
  },
  {
   "cell_type": "markdown",
   "metadata": {},
   "source": [
    "### 2.4 Users Yelp\n"
   ]
  },
  {
   "cell_type": "code",
   "execution_count": null,
   "metadata": {},
   "outputs": [],
   "source": [
    "parquet_file = pq.ParquetFile(r\"Datasets\\Yelp\\user.parquet\")\n",
    "\n",
    "arr_df = []\n",
    "\n",
    "for batch in parquet_file.iter_batches():\n",
    "    # count = count +1\n",
    "    batch_df = batch.to_pandas()\n",
    "    batch_df[\"elite\"] = batch_df[\"elite\"].apply(lambda x: x.split(\",\"))\n",
    "    batch_df[\"elite_len\"] = batch_df[\"elite\"].apply(lambda x: len(x))\n",
    "    batch_df = batch_df.query(\"elite_len > 1\")\n",
    "    arr_df.append(batch_df)\n",
    "\n",
    "df_users = pd.concat(arr_df)"
   ]
  },
  {
   "cell_type": "code",
   "execution_count": null,
   "metadata": {},
   "outputs": [],
   "source": [
    "df_users.sample(5)"
   ]
  },
  {
   "cell_type": "code",
   "execution_count": null,
   "metadata": {},
   "outputs": [],
   "source": [
    "df_users.info()"
   ]
  },
  {
   "cell_type": "code",
   "execution_count": null,
   "metadata": {},
   "outputs": [],
   "source": [
    "df_users.reset_index(inplace=True)\n",
    "df_users.drop(\"index\", axis=1, inplace=True, errors=\"ignore\")"
   ]
  },
  {
   "cell_type": "code",
   "execution_count": null,
   "metadata": {},
   "outputs": [],
   "source": [
    "df_users.to_parquet(r\"Generated\\Yelp\\users_extracted.parquet\")"
   ]
  },
  {
   "cell_type": "markdown",
   "metadata": {},
   "source": [
    "# NORMALIZACIÓN DE DATOS\n"
   ]
  },
  {
   "cell_type": "markdown",
   "metadata": {},
   "source": [
    "### **GOOGLE**\n",
    "\n",
    "#### _1. MERGE_SITE_REVIEWS_\n"
   ]
  },
  {
   "cell_type": "code",
   "execution_count": 8,
   "metadata": {},
   "outputs": [],
   "source": [
    "df_maps_restaurantes = pd.read_parquet(r'Generated\\Google\\metada_sitios.parquet')\n",
    "df_maps_reviews = pd.read_parquet(r'Generated\\Google\\merge_site_reviews.parquet')\n",
    "df_yelp_restaurantes = pd.read_parquet(r'Generated\\Yelp\\bussines.parquet')\n",
    "df_yelp_checkin = pd.read_parquet(r'Generated\\YELP\\business_checkin.parquet')\n",
    "df_yelp_tips = pd.read_parquet(r'Generated\\Yelp\\business_tip.parquet')\n",
    "df_yelp_reviews = pd.read_parquet(r'Generated\\Yelp\\review.parquet')\n",
    "df_yelp_users = pd.read_parquet(r'Generated\\Yelp\\users_extracted.parquet')"
   ]
  },
  {
   "cell_type": "code",
   "execution_count": 9,
   "metadata": {},
   "outputs": [
    {
     "data": {
      "text/html": [
       "<div>\n",
       "<style scoped>\n",
       "    .dataframe tbody tr th:only-of-type {\n",
       "        vertical-align: middle;\n",
       "    }\n",
       "\n",
       "    .dataframe tbody tr th {\n",
       "        vertical-align: top;\n",
       "    }\n",
       "\n",
       "    .dataframe thead th {\n",
       "        text-align: right;\n",
       "    }\n",
       "</style>\n",
       "<table border=\"1\" class=\"dataframe\">\n",
       "  <thead>\n",
       "    <tr style=\"text-align: right;\">\n",
       "      <th></th>\n",
       "      <th>user_id</th>\n",
       "      <th>name_x</th>\n",
       "      <th>time</th>\n",
       "      <th>rating</th>\n",
       "      <th>text</th>\n",
       "      <th>pics</th>\n",
       "      <th>resp</th>\n",
       "      <th>gmap_id</th>\n",
       "      <th>anio</th>\n",
       "      <th>estado</th>\n",
       "      <th>...</th>\n",
       "      <th>MISC</th>\n",
       "      <th>state</th>\n",
       "      <th>relative_results</th>\n",
       "      <th>url</th>\n",
       "      <th>state_ab</th>\n",
       "      <th>us_state</th>\n",
       "      <th>dtfmt</th>\n",
       "      <th>mes</th>\n",
       "      <th>dia</th>\n",
       "      <th>hora</th>\n",
       "    </tr>\n",
       "  </thead>\n",
       "  <tbody>\n",
       "    <tr>\n",
       "      <th>1617111</th>\n",
       "      <td>105400992474227939958</td>\n",
       "      <td>Sikesrandy62 @Gmail Sikes</td>\n",
       "      <td>1568466452223</td>\n",
       "      <td>5</td>\n",
       "      <td>they got a lip snacking hot grits. eggs mouth ...</td>\n",
       "      <td>None</td>\n",
       "      <td>None</td>\n",
       "      <td>0x88dafd498b6d2845:0x96668ee40c965d73</td>\n",
       "      <td>2019</td>\n",
       "      <td>Florida</td>\n",
       "      <td>...</td>\n",
       "      <td>{'Accessibility': ['Wheelchair accessible entr...</td>\n",
       "      <td>Closed ⋅ Opens 7AM</td>\n",
       "      <td>[0x88db02ac5728cd5f:0x89dd2ef880f38ea, 0x88daf...</td>\n",
       "      <td>https://www.google.com/maps/place//data=!4m2!3...</td>\n",
       "      <td>FL</td>\n",
       "      <td>Florida</td>\n",
       "      <td>2019-09-14 13:07:32.223</td>\n",
       "      <td>9</td>\n",
       "      <td>14</td>\n",
       "      <td>13</td>\n",
       "    </tr>\n",
       "    <tr>\n",
       "      <th>401867</th>\n",
       "      <td>111208830726888430553</td>\n",
       "      <td>P V</td>\n",
       "      <td>1513823884195</td>\n",
       "      <td>5</td>\n",
       "      <td>good food at this taco bell on a regular basis...</td>\n",
       "      <td>None</td>\n",
       "      <td>None</td>\n",
       "      <td>0x80dce86647c63e65:0x3714bd5d0e8413dd</td>\n",
       "      <td>2017</td>\n",
       "      <td>California</td>\n",
       "      <td>...</td>\n",
       "      <td>{'Accessibility': ['Wheelchair-accessible car ...</td>\n",
       "      <td>Open ⋅ Closes 2AM</td>\n",
       "      <td>[0x80dce86552287869:0x99fdb6794cfcf8c3, 0x80dc...</td>\n",
       "      <td>https://www.google.com/maps/place//data=!4m2!3...</td>\n",
       "      <td>None</td>\n",
       "      <td>None</td>\n",
       "      <td>2017-12-21 02:38:04.195</td>\n",
       "      <td>12</td>\n",
       "      <td>21</td>\n",
       "      <td>2</td>\n",
       "    </tr>\n",
       "    <tr>\n",
       "      <th>1000317</th>\n",
       "      <td>115250175112809495709</td>\n",
       "      <td>Leomazz</td>\n",
       "      <td>1539001250446</td>\n",
       "      <td>5</td>\n",
       "      <td>(translated by google) sweetly fattening.\\n\\n(...</td>\n",
       "      <td>None</td>\n",
       "      <td>None</td>\n",
       "      <td>0x89c2599e515bf4dd:0x4f079e048a26869d</td>\n",
       "      <td>2018</td>\n",
       "      <td>New_York</td>\n",
       "      <td>...</td>\n",
       "      <td>{'Accessibility': ['Wheelchair-accessible entr...</td>\n",
       "      <td>Open 24 hours</td>\n",
       "      <td>[0x89c259821bab0de1:0xc97c4df9856335f1, 0x89c2...</td>\n",
       "      <td>https://www.google.com/maps/place//data=!4m2!3...</td>\n",
       "      <td>None</td>\n",
       "      <td>None</td>\n",
       "      <td>2018-10-08 12:20:50.446</td>\n",
       "      <td>10</td>\n",
       "      <td>8</td>\n",
       "      <td>12</td>\n",
       "    </tr>\n",
       "  </tbody>\n",
       "</table>\n",
       "<p>3 rows × 30 columns</p>\n",
       "</div>"
      ],
      "text/plain": [
       "                       user_id                     name_x           time  \\\n",
       "1617111  105400992474227939958  Sikesrandy62 @Gmail Sikes  1568466452223   \n",
       "401867   111208830726888430553                        P V  1513823884195   \n",
       "1000317  115250175112809495709                    Leomazz  1539001250446   \n",
       "\n",
       "         rating                                               text  pics  \\\n",
       "1617111       5  they got a lip snacking hot grits. eggs mouth ...  None   \n",
       "401867        5  good food at this taco bell on a regular basis...  None   \n",
       "1000317       5  (translated by google) sweetly fattening.\\n\\n(...  None   \n",
       "\n",
       "         resp                                gmap_id  anio      estado  ...  \\\n",
       "1617111  None  0x88dafd498b6d2845:0x96668ee40c965d73  2019     Florida  ...   \n",
       "401867   None  0x80dce86647c63e65:0x3714bd5d0e8413dd  2017  California  ...   \n",
       "1000317  None  0x89c2599e515bf4dd:0x4f079e048a26869d  2018    New_York  ...   \n",
       "\n",
       "                                                      MISC  \\\n",
       "1617111  {'Accessibility': ['Wheelchair accessible entr...   \n",
       "401867   {'Accessibility': ['Wheelchair-accessible car ...   \n",
       "1000317  {'Accessibility': ['Wheelchair-accessible entr...   \n",
       "\n",
       "                      state  \\\n",
       "1617111  Closed ⋅ Opens 7AM   \n",
       "401867    Open ⋅ Closes 2AM   \n",
       "1000317       Open 24 hours   \n",
       "\n",
       "                                          relative_results  \\\n",
       "1617111  [0x88db02ac5728cd5f:0x89dd2ef880f38ea, 0x88daf...   \n",
       "401867   [0x80dce86552287869:0x99fdb6794cfcf8c3, 0x80dc...   \n",
       "1000317  [0x89c259821bab0de1:0xc97c4df9856335f1, 0x89c2...   \n",
       "\n",
       "                                                       url  state_ab us_state  \\\n",
       "1617111  https://www.google.com/maps/place//data=!4m2!3...        FL  Florida   \n",
       "401867   https://www.google.com/maps/place//data=!4m2!3...      None     None   \n",
       "1000317  https://www.google.com/maps/place//data=!4m2!3...      None     None   \n",
       "\n",
       "                          dtfmt  mes dia hora  \n",
       "1617111 2019-09-14 13:07:32.223    9  14   13  \n",
       "401867  2017-12-21 02:38:04.195   12  21    2  \n",
       "1000317 2018-10-08 12:20:50.446   10   8   12  \n",
       "\n",
       "[3 rows x 30 columns]"
      ]
     },
     "execution_count": 9,
     "metadata": {},
     "output_type": "execute_result"
    }
   ],
   "source": [
    "df_maps_reviews.sample(3)"
   ]
  },
  {
   "cell_type": "code",
   "execution_count": 10,
   "metadata": {},
   "outputs": [
    {
     "data": {
      "text/plain": [
       "array(['user_id', 'name_x', 'time', 'rating', 'text', 'pics', 'resp',\n",
       "       'gmap_id', 'anio', 'estado', 'name_y', 'address', 'description',\n",
       "       'latitude', 'longitude', 'category', 'avg_rating',\n",
       "       'num_of_reviews', 'price', 'hours', 'MISC', 'state',\n",
       "       'relative_results', 'url', 'state_ab', 'us_state', 'dtfmt', 'mes',\n",
       "       'dia', 'hora'], dtype=object)"
      ]
     },
     "execution_count": 10,
     "metadata": {},
     "output_type": "execute_result"
    }
   ],
   "source": [
    "df_maps_reviews.columns.values"
   ]
  },
  {
   "cell_type": "code",
   "execution_count": 11,
   "metadata": {},
   "outputs": [
    {
     "data": {
      "text/plain": [
       "0                                        [Korean restaurant]\n",
       "1                                        [Korean restaurant]\n",
       "2                                        [Korean restaurant]\n",
       "3                                        [Korean restaurant]\n",
       "4                                        [Korean restaurant]\n",
       "                                 ...                        \n",
       "2393447    [Coffee shop, Bagel shop, Bakery, Breakfast re...\n",
       "2393448    [Coffee shop, Bagel shop, Bakery, Breakfast re...\n",
       "2393449    [Coffee shop, Bagel shop, Bakery, Breakfast re...\n",
       "2393450    [Coffee shop, Bagel shop, Bakery, Breakfast re...\n",
       "2393451    [Coffee shop, Bagel shop, Bakery, Breakfast re...\n",
       "Name: category, Length: 2393452, dtype: object"
      ]
     },
     "execution_count": 11,
     "metadata": {},
     "output_type": "execute_result"
    }
   ],
   "source": [
    "df_maps_reviews.category"
   ]
  },
  {
   "cell_type": "code",
   "execution_count": 12,
   "metadata": {},
   "outputs": [
    {
     "name": "stdout",
     "output_type": "stream",
     "text": [
      "<class 'pandas.core.frame.DataFrame'>\n",
      "RangeIndex: 2393452 entries, 0 to 2393451\n",
      "Data columns (total 30 columns):\n",
      " #   Column            Dtype         \n",
      "---  ------            -----         \n",
      " 0   user_id           object        \n",
      " 1   name_x            object        \n",
      " 2   time              int64         \n",
      " 3   rating            int64         \n",
      " 4   text              object        \n",
      " 5   pics              object        \n",
      " 6   resp              object        \n",
      " 7   gmap_id           object        \n",
      " 8   anio              int64         \n",
      " 9   estado            object        \n",
      " 10  name_y            object        \n",
      " 11  address           object        \n",
      " 12  description       object        \n",
      " 13  latitude          float64       \n",
      " 14  longitude         float64       \n",
      " 15  category          object        \n",
      " 16  avg_rating        float64       \n",
      " 17  num_of_reviews    int64         \n",
      " 18  price             object        \n",
      " 19  hours             object        \n",
      " 20  MISC              object        \n",
      " 21  state             object        \n",
      " 22  relative_results  object        \n",
      " 23  url               object        \n",
      " 24  state_ab          object        \n",
      " 25  us_state          object        \n",
      " 26  dtfmt             datetime64[ns]\n",
      " 27  mes               int32         \n",
      " 28  dia               int32         \n",
      " 29  hora              int32         \n",
      "dtypes: datetime64[ns](1), float64(3), int32(3), int64(4), object(19)\n",
      "memory usage: 520.4+ MB\n"
     ]
    }
   ],
   "source": [
    "df_maps_reviews.info()"
   ]
  },
  {
   "cell_type": "code",
   "execution_count": 13,
   "metadata": {},
   "outputs": [
    {
     "data": {
      "text/html": [
       "<div>\n",
       "<style scoped>\n",
       "    .dataframe tbody tr th:only-of-type {\n",
       "        vertical-align: middle;\n",
       "    }\n",
       "\n",
       "    .dataframe tbody tr th {\n",
       "        vertical-align: top;\n",
       "    }\n",
       "\n",
       "    .dataframe thead th {\n",
       "        text-align: right;\n",
       "    }\n",
       "</style>\n",
       "<table border=\"1\" class=\"dataframe\">\n",
       "  <thead>\n",
       "    <tr style=\"text-align: right;\">\n",
       "      <th></th>\n",
       "      <th>user_id</th>\n",
       "      <th>name_x</th>\n",
       "      <th>time</th>\n",
       "      <th>rating</th>\n",
       "      <th>text</th>\n",
       "      <th>pics</th>\n",
       "      <th>resp</th>\n",
       "      <th>gmap_id</th>\n",
       "      <th>anio</th>\n",
       "      <th>estado</th>\n",
       "      <th>...</th>\n",
       "      <th>MISC</th>\n",
       "      <th>state</th>\n",
       "      <th>relative_results</th>\n",
       "      <th>url</th>\n",
       "      <th>state_ab</th>\n",
       "      <th>us_state</th>\n",
       "      <th>dtfmt</th>\n",
       "      <th>mes</th>\n",
       "      <th>dia</th>\n",
       "      <th>hora</th>\n",
       "    </tr>\n",
       "  </thead>\n",
       "  <tbody>\n",
       "    <tr>\n",
       "      <th>5002</th>\n",
       "      <td>116184702797654909865</td>\n",
       "      <td>Elizabeth Begonia</td>\n",
       "      <td>1514276702325</td>\n",
       "      <td>5</td>\n",
       "      <td>always great food and very authentic mexican f...</td>\n",
       "      <td>[{'url': ['https://lh5.googleusercontent.com/p...</td>\n",
       "      <td>None</td>\n",
       "      <td>0x80917ee02e1f1f3b:0xb26515c5c91119d4</td>\n",
       "      <td>2017</td>\n",
       "      <td>California</td>\n",
       "      <td>...</td>\n",
       "      <td>{'Accessibility': None, 'Amenities': ['Good fo...</td>\n",
       "      <td>Permanently closed</td>\n",
       "      <td>[0x80917ee17174c855:0xf49534a42f0176f1, 0x8091...</td>\n",
       "      <td>https://www.google.com/maps/place//data=!4m2!3...</td>\n",
       "      <td>CA</td>\n",
       "      <td>California</td>\n",
       "      <td>2017-12-26 08:25:02.325</td>\n",
       "      <td>12</td>\n",
       "      <td>26</td>\n",
       "      <td>8</td>\n",
       "    </tr>\n",
       "    <tr>\n",
       "      <th>37665</th>\n",
       "      <td>106853765567138662761</td>\n",
       "      <td>Monica Salas</td>\n",
       "      <td>1548972506086</td>\n",
       "      <td>5</td>\n",
       "      <td>great food !! had 8 different taco's and 1 ord...</td>\n",
       "      <td>[{'url': ['https://lh5.googleusercontent.com/p...</td>\n",
       "      <td>None</td>\n",
       "      <td>0x80853d94a3c0a79b:0xb8786eb9ae64068e</td>\n",
       "      <td>2019</td>\n",
       "      <td>California</td>\n",
       "      <td>...</td>\n",
       "      <td>{'Accessibility': None, 'Amenities': None, 'At...</td>\n",
       "      <td>Temporarily closed</td>\n",
       "      <td>[0x80853d540972c32d:0xb7c4c4e15bcebda5, 0x8085...</td>\n",
       "      <td>https://www.google.com/maps/place//data=!4m2!3...</td>\n",
       "      <td>CA</td>\n",
       "      <td>California</td>\n",
       "      <td>2019-01-31 22:08:26.086</td>\n",
       "      <td>1</td>\n",
       "      <td>31</td>\n",
       "      <td>22</td>\n",
       "    </tr>\n",
       "    <tr>\n",
       "      <th>2301739</th>\n",
       "      <td>115634094245909001959</td>\n",
       "      <td>James Bradford</td>\n",
       "      <td>1484533496131</td>\n",
       "      <td>1</td>\n",
       "      <td>total scumbags with disgusting food.\\n\\nordere...</td>\n",
       "      <td>[{'url': ['https://lh5.googleusercontent.com/p...</td>\n",
       "      <td>None</td>\n",
       "      <td>0x89c6e7c2771e4b2f:0x1f07e995c0f7bb26</td>\n",
       "      <td>2017</td>\n",
       "      <td>Pennsylvania</td>\n",
       "      <td>...</td>\n",
       "      <td>{'Accessibility': ['Wheelchair accessible entr...</td>\n",
       "      <td>Open ⋅ Closes 11PM</td>\n",
       "      <td>[0x89c6e6510842b34d:0xa2ca08f5566e4cee, 0x89c6...</td>\n",
       "      <td>https://www.google.com/maps/place//data=!4m2!3...</td>\n",
       "      <td>PA</td>\n",
       "      <td>Pennsylvania</td>\n",
       "      <td>2017-01-16 02:24:56.131</td>\n",
       "      <td>1</td>\n",
       "      <td>16</td>\n",
       "      <td>2</td>\n",
       "    </tr>\n",
       "  </tbody>\n",
       "</table>\n",
       "<p>3 rows × 30 columns</p>\n",
       "</div>"
      ],
      "text/plain": [
       "                       user_id             name_x           time  rating  \\\n",
       "5002     116184702797654909865  Elizabeth Begonia  1514276702325       5   \n",
       "37665    106853765567138662761       Monica Salas  1548972506086       5   \n",
       "2301739  115634094245909001959     James Bradford  1484533496131       1   \n",
       "\n",
       "                                                      text  \\\n",
       "5002     always great food and very authentic mexican f...   \n",
       "37665    great food !! had 8 different taco's and 1 ord...   \n",
       "2301739  total scumbags with disgusting food.\\n\\nordere...   \n",
       "\n",
       "                                                      pics  resp  \\\n",
       "5002     [{'url': ['https://lh5.googleusercontent.com/p...  None   \n",
       "37665    [{'url': ['https://lh5.googleusercontent.com/p...  None   \n",
       "2301739  [{'url': ['https://lh5.googleusercontent.com/p...  None   \n",
       "\n",
       "                                       gmap_id  anio        estado  ...  \\\n",
       "5002     0x80917ee02e1f1f3b:0xb26515c5c91119d4  2017    California  ...   \n",
       "37665    0x80853d94a3c0a79b:0xb8786eb9ae64068e  2019    California  ...   \n",
       "2301739  0x89c6e7c2771e4b2f:0x1f07e995c0f7bb26  2017  Pennsylvania  ...   \n",
       "\n",
       "                                                      MISC  \\\n",
       "5002     {'Accessibility': None, 'Amenities': ['Good fo...   \n",
       "37665    {'Accessibility': None, 'Amenities': None, 'At...   \n",
       "2301739  {'Accessibility': ['Wheelchair accessible entr...   \n",
       "\n",
       "                      state  \\\n",
       "5002     Permanently closed   \n",
       "37665    Temporarily closed   \n",
       "2301739  Open ⋅ Closes 11PM   \n",
       "\n",
       "                                          relative_results  \\\n",
       "5002     [0x80917ee17174c855:0xf49534a42f0176f1, 0x8091...   \n",
       "37665    [0x80853d540972c32d:0xb7c4c4e15bcebda5, 0x8085...   \n",
       "2301739  [0x89c6e6510842b34d:0xa2ca08f5566e4cee, 0x89c6...   \n",
       "\n",
       "                                                       url  state_ab  \\\n",
       "5002     https://www.google.com/maps/place//data=!4m2!3...        CA   \n",
       "37665    https://www.google.com/maps/place//data=!4m2!3...        CA   \n",
       "2301739  https://www.google.com/maps/place//data=!4m2!3...        PA   \n",
       "\n",
       "             us_state                   dtfmt  mes dia hora  \n",
       "5002       California 2017-12-26 08:25:02.325   12  26    8  \n",
       "37665      California 2019-01-31 22:08:26.086    1  31   22  \n",
       "2301739  Pennsylvania 2017-01-16 02:24:56.131    1  16    2  \n",
       "\n",
       "[3 rows x 30 columns]"
      ]
     },
     "execution_count": 13,
     "metadata": {},
     "output_type": "execute_result"
    }
   ],
   "source": [
    "df_maps_reviews[~df_maps_reviews.pics.isnull()].sample(3)"
   ]
  },
  {
   "cell_type": "code",
   "execution_count": 14,
   "metadata": {},
   "outputs": [
    {
     "data": {
      "text/plain": [
       "2307136"
      ]
     },
     "execution_count": 14,
     "metadata": {},
     "output_type": "execute_result"
    }
   ],
   "source": [
    "num_nulls_pics = df_maps_reviews.pics.isnull().sum()\n",
    "num_nulls_pics"
   ]
  },
  {
   "cell_type": "code",
   "execution_count": 15,
   "metadata": {},
   "outputs": [
    {
     "data": {
      "text/plain": [
       "2178044"
      ]
     },
     "execution_count": 15,
     "metadata": {},
     "output_type": "execute_result"
    }
   ],
   "source": [
    "num_nulls_resp = df_maps_reviews.resp.isnull().sum()\n",
    "num_nulls_resp"
   ]
  },
  {
   "cell_type": "code",
   "execution_count": 16,
   "metadata": {},
   "outputs": [
    {
     "data": {
      "text/html": [
       "<div>\n",
       "<style scoped>\n",
       "    .dataframe tbody tr th:only-of-type {\n",
       "        vertical-align: middle;\n",
       "    }\n",
       "\n",
       "    .dataframe tbody tr th {\n",
       "        vertical-align: top;\n",
       "    }\n",
       "\n",
       "    .dataframe thead th {\n",
       "        text-align: right;\n",
       "    }\n",
       "</style>\n",
       "<table border=\"1\" class=\"dataframe\">\n",
       "  <thead>\n",
       "    <tr style=\"text-align: right;\">\n",
       "      <th></th>\n",
       "      <th>user_id</th>\n",
       "      <th>name_x</th>\n",
       "      <th>time</th>\n",
       "      <th>rating</th>\n",
       "      <th>text</th>\n",
       "      <th>pics</th>\n",
       "      <th>resp</th>\n",
       "      <th>gmap_id</th>\n",
       "      <th>anio</th>\n",
       "      <th>estado</th>\n",
       "      <th>...</th>\n",
       "      <th>MISC</th>\n",
       "      <th>state</th>\n",
       "      <th>relative_results</th>\n",
       "      <th>url</th>\n",
       "      <th>state_ab</th>\n",
       "      <th>us_state</th>\n",
       "      <th>dtfmt</th>\n",
       "      <th>mes</th>\n",
       "      <th>dia</th>\n",
       "      <th>hora</th>\n",
       "    </tr>\n",
       "  </thead>\n",
       "  <tbody>\n",
       "    <tr>\n",
       "      <th>898475</th>\n",
       "      <td>114212667258716193560</td>\n",
       "      <td>Jose Baylon (Pillo)</td>\n",
       "      <td>1493478405525</td>\n",
       "      <td>2</td>\n",
       "      <td>04/29/17-they didn't have ketchup, no ice, had...</td>\n",
       "      <td>None</td>\n",
       "      <td>None</td>\n",
       "      <td>0x864ea68d5ac58e57:0x9839f69481344dbe</td>\n",
       "      <td>2017</td>\n",
       "      <td>Texas</td>\n",
       "      <td>...</td>\n",
       "      <td>{'Accessibility': ['Wheelchair accessible entr...</td>\n",
       "      <td>Open 24 hours</td>\n",
       "      <td>[0x864ea6a02b5a5867:0x68a3cc634d173d92, 0x864e...</td>\n",
       "      <td>https://www.google.com/maps/place//data=!4m2!3...</td>\n",
       "      <td>TX</td>\n",
       "      <td>Texas</td>\n",
       "      <td>2017-04-29 15:06:45.525</td>\n",
       "      <td>4</td>\n",
       "      <td>29</td>\n",
       "      <td>15</td>\n",
       "    </tr>\n",
       "    <tr>\n",
       "      <th>595472</th>\n",
       "      <td>101861972990983849868</td>\n",
       "      <td>Richard S</td>\n",
       "      <td>1574091778780</td>\n",
       "      <td>3</td>\n",
       "      <td>food always seems luke warm.</td>\n",
       "      <td>None</td>\n",
       "      <td>None</td>\n",
       "      <td>0x864c2732089dcc1d:0xc22b80f939646ca9</td>\n",
       "      <td>2019</td>\n",
       "      <td>Texas</td>\n",
       "      <td>...</td>\n",
       "      <td>{'Accessibility': ['Wheelchair-accessible entr...</td>\n",
       "      <td>Closed ⋅ Opens 6:30AM</td>\n",
       "      <td>[0x864c26d5b20dc6a7:0x93db2e43ca919555, 0x864c...</td>\n",
       "      <td>https://www.google.com/maps/place//data=!4m2!3...</td>\n",
       "      <td>None</td>\n",
       "      <td>None</td>\n",
       "      <td>2019-11-18 15:42:58.780</td>\n",
       "      <td>11</td>\n",
       "      <td>18</td>\n",
       "      <td>15</td>\n",
       "    </tr>\n",
       "    <tr>\n",
       "      <th>405788</th>\n",
       "      <td>104653875682646394410</td>\n",
       "      <td>Taylar Gantt</td>\n",
       "      <td>1506045042792</td>\n",
       "      <td>4</td>\n",
       "      <td>None</td>\n",
       "      <td>None</td>\n",
       "      <td>None</td>\n",
       "      <td>0x40771e59f0513085:0x513683476a2005d8</td>\n",
       "      <td>2017</td>\n",
       "      <td>California</td>\n",
       "      <td>...</td>\n",
       "      <td>{'Accessibility': ['Wheelchair-accessible entr...</td>\n",
       "      <td>Open ⋅ Closes 8PM</td>\n",
       "      <td>[0x809b21d3b9ca90b9:0xe946282a6fd3d136, 0x809b...</td>\n",
       "      <td>https://www.google.com/maps/place//data=!4m2!3...</td>\n",
       "      <td>None</td>\n",
       "      <td>None</td>\n",
       "      <td>2017-09-22 01:50:42.792</td>\n",
       "      <td>9</td>\n",
       "      <td>22</td>\n",
       "      <td>1</td>\n",
       "    </tr>\n",
       "  </tbody>\n",
       "</table>\n",
       "<p>3 rows × 30 columns</p>\n",
       "</div>"
      ],
      "text/plain": [
       "                      user_id               name_x           time  rating  \\\n",
       "898475  114212667258716193560  Jose Baylon (Pillo)  1493478405525       2   \n",
       "595472  101861972990983849868            Richard S  1574091778780       3   \n",
       "405788  104653875682646394410         Taylar Gantt  1506045042792       4   \n",
       "\n",
       "                                                     text  pics  resp  \\\n",
       "898475  04/29/17-they didn't have ketchup, no ice, had...  None  None   \n",
       "595472                       food always seems luke warm.  None  None   \n",
       "405788                                               None  None  None   \n",
       "\n",
       "                                      gmap_id  anio      estado  ...  \\\n",
       "898475  0x864ea68d5ac58e57:0x9839f69481344dbe  2017       Texas  ...   \n",
       "595472  0x864c2732089dcc1d:0xc22b80f939646ca9  2019       Texas  ...   \n",
       "405788  0x40771e59f0513085:0x513683476a2005d8  2017  California  ...   \n",
       "\n",
       "                                                     MISC  \\\n",
       "898475  {'Accessibility': ['Wheelchair accessible entr...   \n",
       "595472  {'Accessibility': ['Wheelchair-accessible entr...   \n",
       "405788  {'Accessibility': ['Wheelchair-accessible entr...   \n",
       "\n",
       "                        state  \\\n",
       "898475          Open 24 hours   \n",
       "595472  Closed ⋅ Opens 6:30AM   \n",
       "405788      Open ⋅ Closes 8PM   \n",
       "\n",
       "                                         relative_results  \\\n",
       "898475  [0x864ea6a02b5a5867:0x68a3cc634d173d92, 0x864e...   \n",
       "595472  [0x864c26d5b20dc6a7:0x93db2e43ca919555, 0x864c...   \n",
       "405788  [0x809b21d3b9ca90b9:0xe946282a6fd3d136, 0x809b...   \n",
       "\n",
       "                                                      url  state_ab us_state  \\\n",
       "898475  https://www.google.com/maps/place//data=!4m2!3...        TX    Texas   \n",
       "595472  https://www.google.com/maps/place//data=!4m2!3...      None     None   \n",
       "405788  https://www.google.com/maps/place//data=!4m2!3...      None     None   \n",
       "\n",
       "                         dtfmt  mes dia hora  \n",
       "898475 2017-04-29 15:06:45.525    4  29   15  \n",
       "595472 2019-11-18 15:42:58.780   11  18   15  \n",
       "405788 2017-09-22 01:50:42.792    9  22    1  \n",
       "\n",
       "[3 rows x 30 columns]"
      ]
     },
     "execution_count": 16,
     "metadata": {},
     "output_type": "execute_result"
    }
   ],
   "source": [
    "df_maps_reviews[\"dtfmt\"] = df_maps_reviews.time.apply(\n",
    "    lambda x: datetime.utcfromtimestamp(x / 1000)\n",
    ")\n",
    "\n",
    "df_maps_reviews[\"mes\"] = df_maps_reviews.dtfmt.dt.month\n",
    "\n",
    "df_maps_reviews[\"dia\"] = df_maps_reviews.dtfmt.dt.day\n",
    "\n",
    "df_maps_reviews[\"hora\"] = df_maps_reviews.dtfmt.dt.hour\n",
    "\n",
    "df_maps_reviews.name_x = df_maps_reviews.name_x.str.title()\n",
    "\n",
    "df_maps_reviews.text = df_maps_reviews.text.str.lower()\n",
    "\n",
    "df_maps_reviews.sample(3)"
   ]
  },
  {
   "cell_type": "markdown",
   "metadata": {},
   "source": [
    "#### **_<u>COMENTARIO</u>_**\n",
    "\n",
    "Las columnas **pics** y **resp** deberían eliminarse porque la cantidades de datos nulos sobrepasa los 90%.\n",
    "\n",
    "_Obtenemos las columnas de año, mes, día y hora para posteriores análisis_\n"
   ]
  },
  {
   "cell_type": "markdown",
   "metadata": {},
   "source": [
    "# Salida Final ETL"
   ]
  },
  {
   "cell_type": "code",
   "execution_count": 17,
   "metadata": {},
   "outputs": [],
   "source": [
    "df_maps_restaurantes.to_parquet(r'Generated\\Google\\metada_sitios.parquet')\n",
    "df_maps_reviews.to_parquet(r'Generated\\Google\\merge_site_reviews.parquet')\n",
    "df_yelp_restaurantes.to_parquet(r'Generated\\Yelp\\bussines.parquet')\n",
    "df_yelp_checkin.to_parquet(r'Generated\\YELP\\business_checkin.parquet')\n",
    "df_yelp_tips.to_parquet(r'Generated\\Yelp\\business_tip.parquet')\n",
    "df_yelp_reviews.to_parquet(r'Generated\\Yelp\\review.parquet')\n",
    "df_yelp_users.to_parquet(r'Generated\\Yelp\\users_extracted.parquet')"
   ]
  }
 ],
 "metadata": {
  "kernelspec": {
   "display_name": ".venv10",
   "language": "python",
   "name": "python3"
  },
  "language_info": {
   "codemirror_mode": {
    "name": "ipython",
    "version": 3
   },
   "file_extension": ".py",
   "mimetype": "text/x-python",
   "name": "python",
   "nbconvert_exporter": "python",
   "pygments_lexer": "ipython3",
   "version": "3.11.9"
  }
 },
 "nbformat": 4,
 "nbformat_minor": 2
}

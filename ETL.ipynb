{
 "cells": [
  {
   "cell_type": "markdown",
   "metadata": {},
   "source": [
    "# Extracción de datos Datasets Google Maps y YELP"
   ]
  },
  {
   "cell_type": "markdown",
   "metadata": {},
   "source": [
    "### Importaciones"
   ]
  },
  {
   "cell_type": "code",
   "execution_count": 1,
   "metadata": {},
   "outputs": [],
   "source": [
    "import pandas as pd\n",
    "import numpy as np\n",
    "import json\n",
    "import datetime\n",
    "import os"
   ]
  },
  {
   "cell_type": "markdown",
   "metadata": {},
   "source": [
    "### Utiles"
   ]
  },
  {
   "cell_type": "code",
   "execution_count": 5,
   "metadata": {},
   "outputs": [],
   "source": [
    "\n",
    "state_abreviations = [\n",
    "    \"AL\", \"AK\", \"AZ\", \"AR\", \"CA\", \"CO\", \"CT\", \"DE\", \"FL\", \"GA\", \"HI\", \"ID\", \n",
    "    \"IL\", \"IN\", \"IA\", \"KS\", \"KY\", \"LA\", \"ME\", \"MD\", \"MA\", \"MI\", \"MN\", \"MS\", \n",
    "    \"MO\", \"MT\", \"NE\", \"NV\", \"NH\", \"NJ\", \"NM\", \"NY\", \"NC\", \"ND\", \"OH\", \"OK\", \n",
    "    \"OR\", \"PA\", \"RI\", \"SC\", \"SD\", \"TN\", \"TX\", \"UT\", \"VT\", \"VA\", \"WA\", \"WV\", \n",
    "    \"WI\", \"WY\"\n",
    "]\n",
    "\n",
    "state_dictionary = {\n",
    "    \"AL\": \"Alabama\", \"AK\": \"Alaska\", \"AZ\": \"Arizona\", \"AR\": \"Arkansas\", \n",
    "    \"CA\": \"California\", \"CO\": \"Colorado\", \"CT\": \"Connecticut\", \"DE\": \"Delaware\", \n",
    "    \"FL\": \"Florida\", \"GA\": \"Georgia\", \"HI\": \"Hawaii\", \"ID\": \"Idaho\", \"IL\": \"Illinois\", \n",
    "    \"IN\": \"Indiana\", \"IA\": \"Iowa\", \"KS\": \"Kansas\", \"KY\": \"Kentucky\", \"LA\": \"Louisiana\", \n",
    "    \"ME\": \"Maine\", \"MD\": \"Maryland\", \"MA\": \"Massachusetts\", \"MI\": \"Michigan\", \n",
    "    \"MN\": \"Minnesota\", \"MS\": \"Mississippi\", \"MO\": \"Missouri\", \"MT\": \"Montana\", \n",
    "    \"NE\": \"Nebraska\", \"NV\": \"Nevada\", \"NH\": \"New Hampshire\", \"NJ\": \"New Jersey\", \n",
    "    \"NM\": \"New Mexico\", \"NY\": \"New York\", \"NC\": \"North Carolina\", \"ND\": \"North Dakota\", \n",
    "    \"OH\": \"Ohio\", \"OK\": \"Oklahoma\", \"OR\": \"Oregon\", \"PA\": \"Pennsylvania\", \n",
    "    \"RI\": \"Rhode Island\", \"SC\": \"South Carolina\", \"SD\": \"South Dakota\", \"TN\": \"Tennessee\", \n",
    "    \"TX\": \"Texas\", \"UT\": \"Utah\", \"VT\": \"Vermont\", \"VA\": \"Virginia\", \"WA\": \"Washington\", \n",
    "    \"WV\": \"West Virginia\", \"WI\": \"Wisconsin\", \"WY\": \"Wyoming\"\n",
    "}"
   ]
  },
  {
   "cell_type": "code",
   "execution_count": 6,
   "metadata": {},
   "outputs": [
    {
     "data": {
      "text/plain": [
       "'z:\\\\PF_DATAPT07'"
      ]
     },
     "execution_count": 6,
     "metadata": {},
     "output_type": "execute_result"
    }
   ],
   "source": [
    "import os\n",
    "\n",
    "generated_dir = \"Generated\"\n",
    "\n",
    "os.mkdir(generated_dir)\n",
    "os.chdir(generated_dir)\n",
    "os.mkdir('Google')\n",
    "os.mkdir('Yelp')\n",
    "os.chdir('../')\n",
    "\n",
    "os.getcwd()"
   ]
  },
  {
   "cell_type": "markdown",
   "metadata": {},
   "source": [
    "# 1. Extracción  con los datasets de Google Maps"
   ]
  },
  {
   "cell_type": "markdown",
   "metadata": {},
   "source": [
    "## 1.1 Metada de Sitios"
   ]
  },
  {
   "cell_type": "markdown",
   "metadata": {},
   "source": [
    "Recorremos todo el directorio, lo hacemos archivo por archivo y línea por línea ya que no se puede abrir directamente los archivos por su dimensión y porque no están en formato de array, sino están constituidos en un registro por lìnea.\n",
    "Durante la lectura filtramos los que incluyan <code>Restaurant</code> en el campo de categoría, para alivianar el dataset final."
   ]
  },
  {
   "cell_type": "code",
   "execution_count": 7,
   "metadata": {},
   "outputs": [
    {
     "data": {
      "text/html": [
       "<div>\n",
       "<style scoped>\n",
       "    .dataframe tbody tr th:only-of-type {\n",
       "        vertical-align: middle;\n",
       "    }\n",
       "\n",
       "    .dataframe tbody tr th {\n",
       "        vertical-align: top;\n",
       "    }\n",
       "\n",
       "    .dataframe thead th {\n",
       "        text-align: right;\n",
       "    }\n",
       "</style>\n",
       "<table border=\"1\" class=\"dataframe\">\n",
       "  <thead>\n",
       "    <tr style=\"text-align: right;\">\n",
       "      <th></th>\n",
       "      <th>name</th>\n",
       "      <th>address</th>\n",
       "      <th>gmap_id</th>\n",
       "      <th>description</th>\n",
       "      <th>latitude</th>\n",
       "      <th>longitude</th>\n",
       "      <th>category</th>\n",
       "      <th>avg_rating</th>\n",
       "      <th>num_of_reviews</th>\n",
       "      <th>price</th>\n",
       "      <th>hours</th>\n",
       "      <th>MISC</th>\n",
       "      <th>state</th>\n",
       "      <th>relative_results</th>\n",
       "      <th>url</th>\n",
       "    </tr>\n",
       "  </thead>\n",
       "  <tbody>\n",
       "    <tr>\n",
       "      <th>0</th>\n",
       "      <td>San Soo Dang</td>\n",
       "      <td>San Soo Dang, 761 S Vermont Ave, Los Angeles, ...</td>\n",
       "      <td>0x80c2c778e3b73d33:0xbdc58662a4a97d49</td>\n",
       "      <td>None</td>\n",
       "      <td>34.058092</td>\n",
       "      <td>-118.292130</td>\n",
       "      <td>[Korean restaurant]</td>\n",
       "      <td>4.4</td>\n",
       "      <td>18</td>\n",
       "      <td>None</td>\n",
       "      <td>[[Thursday, 6:30AM–6PM], [Friday, 6:30AM–6PM],...</td>\n",
       "      <td>{'Service options': ['Takeout', 'Dine-in', 'De...</td>\n",
       "      <td>Open ⋅ Closes 6PM</td>\n",
       "      <td>[0x80c2c78249aba68f:0x35bf16ce61be751d, 0x80c2...</td>\n",
       "      <td>https://www.google.com/maps/place//data=!4m2!3...</td>\n",
       "    </tr>\n",
       "    <tr>\n",
       "      <th>1</th>\n",
       "      <td>Vons Chicken</td>\n",
       "      <td>Vons Chicken, 12740 La Mirada Blvd, La Mirada,...</td>\n",
       "      <td>0x80dd2b4c8555edb7:0xfc33d65c4bdbef42</td>\n",
       "      <td>None</td>\n",
       "      <td>33.916402</td>\n",
       "      <td>-118.010855</td>\n",
       "      <td>[Restaurant]</td>\n",
       "      <td>4.5</td>\n",
       "      <td>18</td>\n",
       "      <td>None</td>\n",
       "      <td>[[Thursday, 11AM–9:30PM], [Friday, 11AM–9:30PM...</td>\n",
       "      <td>{'Service options': ['Outdoor seating', 'Curbs...</td>\n",
       "      <td>Open ⋅ Closes 9:30PM</td>\n",
       "      <td>None</td>\n",
       "      <td>https://www.google.com/maps/place//data=!4m2!3...</td>\n",
       "    </tr>\n",
       "    <tr>\n",
       "      <th>2</th>\n",
       "      <td>Sweet Rewards Gluten Free Bakery, LLC</td>\n",
       "      <td>Sweet Rewards Gluten Free Bakery, LLC, 85 NE D...</td>\n",
       "      <td>0x87ec235c54d25b31:0x3b75fb5facc602f</td>\n",
       "      <td>None</td>\n",
       "      <td>41.616079</td>\n",
       "      <td>-93.865487</td>\n",
       "      <td>[Bakery, Health food restaurant]</td>\n",
       "      <td>4.7</td>\n",
       "      <td>21</td>\n",
       "      <td>None</td>\n",
       "      <td>[[Thursday, 10AM–5:30PM], [Friday, 10AM–5:30PM...</td>\n",
       "      <td>{'Service options': ['Delivery']}</td>\n",
       "      <td>Permanently closed</td>\n",
       "      <td>[0x87ee974869295555:0x95f310d065882c9b, 0x87ec...</td>\n",
       "      <td>https://www.google.com/maps/place//data=!4m2!3...</td>\n",
       "    </tr>\n",
       "  </tbody>\n",
       "</table>\n",
       "</div>"
      ],
      "text/plain": [
       "                                    name  \\\n",
       "0                           San Soo Dang   \n",
       "1                           Vons Chicken   \n",
       "2  Sweet Rewards Gluten Free Bakery, LLC   \n",
       "\n",
       "                                             address  \\\n",
       "0  San Soo Dang, 761 S Vermont Ave, Los Angeles, ...   \n",
       "1  Vons Chicken, 12740 La Mirada Blvd, La Mirada,...   \n",
       "2  Sweet Rewards Gluten Free Bakery, LLC, 85 NE D...   \n",
       "\n",
       "                                 gmap_id description   latitude   longitude  \\\n",
       "0  0x80c2c778e3b73d33:0xbdc58662a4a97d49        None  34.058092 -118.292130   \n",
       "1  0x80dd2b4c8555edb7:0xfc33d65c4bdbef42        None  33.916402 -118.010855   \n",
       "2   0x87ec235c54d25b31:0x3b75fb5facc602f        None  41.616079  -93.865487   \n",
       "\n",
       "                           category  avg_rating  num_of_reviews price  \\\n",
       "0               [Korean restaurant]         4.4              18  None   \n",
       "1                      [Restaurant]         4.5              18  None   \n",
       "2  [Bakery, Health food restaurant]         4.7              21  None   \n",
       "\n",
       "                                               hours  \\\n",
       "0  [[Thursday, 6:30AM–6PM], [Friday, 6:30AM–6PM],...   \n",
       "1  [[Thursday, 11AM–9:30PM], [Friday, 11AM–9:30PM...   \n",
       "2  [[Thursday, 10AM–5:30PM], [Friday, 10AM–5:30PM...   \n",
       "\n",
       "                                                MISC                 state  \\\n",
       "0  {'Service options': ['Takeout', 'Dine-in', 'De...     Open ⋅ Closes 6PM   \n",
       "1  {'Service options': ['Outdoor seating', 'Curbs...  Open ⋅ Closes 9:30PM   \n",
       "2                  {'Service options': ['Delivery']}    Permanently closed   \n",
       "\n",
       "                                    relative_results  \\\n",
       "0  [0x80c2c78249aba68f:0x35bf16ce61be751d, 0x80c2...   \n",
       "1                                               None   \n",
       "2  [0x87ee974869295555:0x95f310d065882c9b, 0x87ec...   \n",
       "\n",
       "                                                 url  \n",
       "0  https://www.google.com/maps/place//data=!4m2!3...  \n",
       "1  https://www.google.com/maps/place//data=!4m2!3...  \n",
       "2  https://www.google.com/maps/place//data=!4m2!3...  "
      ]
     },
     "execution_count": 7,
     "metadata": {},
     "output_type": "execute_result"
    }
   ],
   "source": [
    "# Tiempo de Demora Medio: 51 segundos.\n",
    "lineas_json = []\n",
    "\n",
    "# Son 11 archivos con un ordinal, del 1 al 11\n",
    "for i in range(1, 12):\n",
    "    path = f'Datasets/Google Maps/metadata-sitios/{i}.json'\n",
    "    with open(path, 'r') as file:\n",
    "        for l in file:\n",
    "            try:\n",
    "                linea_j = json.loads(l)\n",
    "                if 'restaurant' in \" \".join(linea_j['category']).lower():\n",
    "                    lineas_json.append(linea_j)\n",
    "            except:\n",
    "                pass\n",
    "\n",
    "df = pd.DataFrame(lineas_json)\n",
    "\n",
    "df.head(3)"
   ]
  },
  {
   "cell_type": "code",
   "execution_count": 8,
   "metadata": {},
   "outputs": [
    {
     "data": {
      "text/plain": [
       "'Cape Seafood Shack, 603 Del Prado Blvd S, Cape Coral, FL 33990'"
      ]
     },
     "execution_count": 8,
     "metadata": {},
     "output_type": "execute_result"
    }
   ],
   "source": [
    "df.loc[5, 'address']"
   ]
  },
  {
   "cell_type": "markdown",
   "metadata": {},
   "source": [
    "Exportamos a formato Parquet"
   ]
  },
  {
   "cell_type": "code",
   "execution_count": 11,
   "metadata": {},
   "outputs": [],
   "source": [
    "df.to_parquet(r'Generated\\Google\\metada_sitios.parquet')"
   ]
  },
  {
   "cell_type": "markdown",
   "metadata": {},
   "source": [
    "Tamaño Directorio <code>metadata-sitios</code>: 2.76 Gb\n",
    "\n",
    "Tamaño Archivo <code>metada_sitios.parquet</code>: 60.43 Mb\n"
   ]
  },
  {
   "cell_type": "code",
   "execution_count": null,
   "metadata": {},
   "outputs": [],
   "source": [
    "df.info()"
   ]
  },
  {
   "cell_type": "markdown",
   "metadata": {},
   "source": [
    "Dimensiones: 212.014 filas x 15 Columnas"
   ]
  },
  {
   "cell_type": "markdown",
   "metadata": {},
   "source": [
    "## 1.1.1 Obtención de información de Estados"
   ]
  },
  {
   "cell_type": "markdown",
   "metadata": {},
   "source": [
    "En base al campo <code>Address</code> obtenemos el estado donde se encuentra el negocio. Nos servirá para luego seleccionar los estados con más restaurantes."
   ]
  },
  {
   "cell_type": "code",
   "execution_count": 12,
   "metadata": {},
   "outputs": [],
   "source": [
    "def get_state_ab(st):\n",
    "    try:\n",
    "        state = st.split(', ')[-1].split(' ')[0]\n",
    "        if state in state_abreviations:\n",
    "            return state\n",
    "        else:\n",
    "            return np.nan\n",
    "    except:\n",
    "        return np.nan\n",
    "    \n",
    "df['state_ab'] = df['address'].apply(get_state_ab)"
   ]
  },
  {
   "cell_type": "markdown",
   "metadata": {},
   "source": [
    "De esta manera conseguimos el top 5 de los estados con más restaurantes"
   ]
  },
  {
   "cell_type": "code",
   "execution_count": 13,
   "metadata": {},
   "outputs": [],
   "source": [
    "top_5 = df['state_ab'].value_counts().head(5).index.to_list()"
   ]
  },
  {
   "cell_type": "code",
   "execution_count": 14,
   "metadata": {},
   "outputs": [
    {
     "data": {
      "text/plain": [
       "['CA', 'TX', 'NY', 'FL', 'PA']"
      ]
     },
     "execution_count": 14,
     "metadata": {},
     "output_type": "execute_result"
    }
   ],
   "source": [
    "top_5"
   ]
  },
  {
   "cell_type": "markdown",
   "metadata": {},
   "source": [
    "Completamos el campo estado que es más descriptivo"
   ]
  },
  {
   "cell_type": "code",
   "execution_count": 15,
   "metadata": {},
   "outputs": [],
   "source": [
    "df['us_state'] = df['state_ab'].map(state_dictionary)"
   ]
  },
  {
   "cell_type": "code",
   "execution_count": 16,
   "metadata": {},
   "outputs": [
    {
     "data": {
      "text/plain": [
       "0      California\n",
       "1      California\n",
       "2            Iowa\n",
       "3    Pennsylvania\n",
       "4          Hawaii\n",
       "Name: us_state, dtype: object"
      ]
     },
     "execution_count": 16,
     "metadata": {},
     "output_type": "execute_result"
    }
   ],
   "source": [
    "df['us_state'].head(5)"
   ]
  },
  {
   "cell_type": "markdown",
   "metadata": {},
   "source": [
    "Obtenemos un arreglo de URLs de los archivos correspondientes para cada estado del top 5, con el fin de extraer los datos en un bucle."
   ]
  },
  {
   "cell_type": "code",
   "execution_count": 17,
   "metadata": {},
   "outputs": [
    {
     "data": {
      "text/plain": [
       "['Datasets/Google Maps/reviews-estados/review-California/',\n",
       " 'Datasets/Google Maps/reviews-estados/review-Texas/',\n",
       " 'Datasets/Google Maps/reviews-estados/review-New_York/',\n",
       " 'Datasets/Google Maps/reviews-estados/review-Florida/',\n",
       " 'Datasets/Google Maps/reviews-estados/review-Pennsylvania/']"
      ]
     },
     "execution_count": 17,
     "metadata": {},
     "output_type": "execute_result"
    }
   ],
   "source": [
    "top_5_url = [f\"Datasets/Google Maps/reviews-estados/review-{state_dictionary[i].replace(' ', '_')}/\" for i in top_5]\n",
    "\n",
    "top_5_url\n"
   ]
  },
  {
   "cell_type": "markdown",
   "metadata": {},
   "source": [
    "Creamos un diccionario con la cantidad de archivos por cada directorio de estados, con el fin de utilizarlo en un bucle en la extracción de datos."
   ]
  },
  {
   "cell_type": "code",
   "execution_count": 18,
   "metadata": {},
   "outputs": [
    {
     "data": {
      "text/plain": [
       "{'Datasets/Google Maps/reviews-estados/review-California/': 18,\n",
       " 'Datasets/Google Maps/reviews-estados/review-Texas/': 14,\n",
       " 'Datasets/Google Maps/reviews-estados/review-New_York/': 18,\n",
       " 'Datasets/Google Maps/reviews-estados/review-Florida/': 19,\n",
       " 'Datasets/Google Maps/reviews-estados/review-Pennsylvania/': 15}"
      ]
     },
     "execution_count": 18,
     "metadata": {},
     "output_type": "execute_result"
    }
   ],
   "source": [
    "cantidad_archivos = {}\n",
    "\n",
    "for i in top_5_url:\n",
    "    for j in os.walk(i):\n",
    "        cantidad_archivos[i] = len(j[2])\n",
    "\n",
    "cantidad_archivos"
   ]
  },
  {
   "cell_type": "markdown",
   "metadata": {},
   "source": [
    "Comprobación"
   ]
  },
  {
   "cell_type": "code",
   "execution_count": 19,
   "metadata": {},
   "outputs": [
    {
     "name": "stdout",
     "output_type": "stream",
     "text": [
      "15\n"
     ]
    }
   ],
   "source": [
    "for i in os.walk('Datasets/Google Maps/reviews-estados/review-Pennsylvania'):\n",
    "    print(len(i[2]))"
   ]
  },
  {
   "cell_type": "code",
   "execution_count": 20,
   "metadata": {},
   "outputs": [
    {
     "data": {
      "text/plain": [
       "15"
      ]
     },
     "execution_count": 20,
     "metadata": {},
     "output_type": "execute_result"
    }
   ],
   "source": [
    "cantidad_archivos['Datasets/Google Maps/reviews-estados/review-Pennsylvania/']"
   ]
  },
  {
   "cell_type": "markdown",
   "metadata": {},
   "source": [
    "## 1.2 Reviews Estados"
   ]
  },
  {
   "cell_type": "markdown",
   "metadata": {},
   "source": [
    "Ya con los estados elegidos estamos en condiciones de ingestar los datos de las carpetas correspondientes dentro del directorio <code>reviews-estados</code>.\n",
    "Es información masiva lo que genera un archivo de grandes dimensiones, sin embargo previamente filtramos por el parámetro de año <code>2017-2019</code> valiéndonos del campo <code>time</code>, que tiene es un <code>timestamp</code>, pero con 3 digitos más que el usado por <code>datetime</code> de Python. Le agregamos el campo <code>Estado</code> que es más descriptivo."
   ]
  },
  {
   "cell_type": "code",
   "execution_count": 22,
   "metadata": {},
   "outputs": [],
   "source": [
    "### Demora 7 minutos y 40 segundos, 11 minutos, varía\n",
    "\n",
    "lineas_json_revs_google = []\n",
    "\n",
    "for i in top_5_url:\n",
    "    count = 0\n",
    "    for c in range(1,cantidad_archivos[i]+1):\n",
    "        with open(str(i)+str(c)+\".json\", 'r', encoding='utf-8') as f:        \n",
    "            for s in f:\n",
    "                linea = json.loads(s)\n",
    "                linea['anio'] = datetime.datetime.fromtimestamp(linea['time']/1000).year\n",
    "                linea['estado'] = i.split('-')[-1][:-1]\n",
    "                \n",
    "                if linea['anio'] in [2017,2018,2019]:\n",
    "                    lineas_json_revs_google.append(linea)\n",
    "\n",
    "df_revs_google = pd.DataFrame(lineas_json_revs_google)\n",
    "\n",
    "df_revs_google.head(3)"
   ]
  },
  {
   "cell_type": "code",
   "execution_count": null,
   "metadata": {},
   "outputs": [],
   "source": [
    "merge_site_reviews = pd.merge(df_revs_google, df, left_on='gmap_id', right_on='gmap_id')"
   ]
  },
  {
   "cell_type": "code",
   "execution_count": null,
   "metadata": {},
   "outputs": [],
   "source": [
    "merge_site_reviews"
   ]
  },
  {
   "cell_type": "code",
   "execution_count": null,
   "metadata": {},
   "outputs": [],
   "source": [
    "merge_site_reviews.to_parquet(r'Generated\\Google\\merge_site_reviews.parquet')"
   ]
  },
  {
   "cell_type": "code",
   "execution_count": null,
   "metadata": {},
   "outputs": [],
   "source": [
    "df_revs_google.to_parquet(r'Generated\\Google\\reviews-estados.parquet')"
   ]
  },
  {
   "cell_type": "markdown",
   "metadata": {},
   "source": [
    "Tamaño archivo: 760 Mb\n",
    "\n",
    "Tamaño dataset: 24.3 Gb"
   ]
  },
  {
   "cell_type": "code",
   "execution_count": null,
   "metadata": {},
   "outputs": [],
   "source": [
    "df_revs_google.info()"
   ]
  },
  {
   "cell_type": "markdown",
   "metadata": {},
   "source": [
    "Tamaño 8.339.179 filas x 10 Columnas."
   ]
  },
  {
   "cell_type": "markdown",
   "metadata": {},
   "source": [
    "# 2. Extracción de los Dataset de YELP"
   ]
  },
  {
   "cell_type": "markdown",
   "metadata": {},
   "source": [
    "### 2.1 Business"
   ]
  },
  {
   "cell_type": "markdown",
   "metadata": {},
   "source": [
    "Contiene los datos de las entidades negocios de Yelp, a un primer vistazo tiene las columnas duplicadas, por lo que hay que hacer un recorte, ya que la segunda mitad tiene datos vacíos en su inmensa mayoría."
   ]
  },
  {
   "cell_type": "code",
   "execution_count": null,
   "metadata": {},
   "outputs": [],
   "source": [
    "url_business = r'Datasets\\Yelp\\business.pkl'\n",
    "\n",
    "df_business = pd.read_pickle(url_business)\n",
    "\n",
    "df_business = df_business.iloc[:,:-14]"
   ]
  },
  {
   "cell_type": "code",
   "execution_count": null,
   "metadata": {},
   "outputs": [],
   "source": [
    "df_business.sample(3)"
   ]
  },
  {
   "cell_type": "code",
   "execution_count": null,
   "metadata": {},
   "outputs": [],
   "source": [
    "df_business.shape"
   ]
  },
  {
   "cell_type": "markdown",
   "metadata": {},
   "source": [
    "Luego con la ayuda del campo <code>state</code> filtramos los negocios que se encuentran en los estados seleccionados en nuestro análisis."
   ]
  },
  {
   "cell_type": "code",
   "execution_count": null,
   "metadata": {},
   "outputs": [],
   "source": [
    "df_business = df_business[df_business.state.isin(top_5)]"
   ]
  },
  {
   "cell_type": "code",
   "execution_count": null,
   "metadata": {},
   "outputs": [],
   "source": [
    "df_business.info()"
   ]
  },
  {
   "cell_type": "markdown",
   "metadata": {},
   "source": [
    "Seguimos filtrando a través del campo <code>categories</code>, para obtener los negocios que son restaurantes."
   ]
  },
  {
   "cell_type": "code",
   "execution_count": null,
   "metadata": {},
   "outputs": [],
   "source": [
    "def is_restaurant(st):\n",
    "    try: \n",
    "        test = \"\".join(st).lower()\n",
    "        return 'restaurant' in test\n",
    "    except:\n",
    "        return False\n",
    "\n",
    "df_business = df_business[df_business['categories'].apply(is_restaurant)]"
   ]
  },
  {
   "cell_type": "code",
   "execution_count": null,
   "metadata": {},
   "outputs": [],
   "source": [
    "df_business.info()"
   ]
  },
  {
   "cell_type": "code",
   "execution_count": null,
   "metadata": {},
   "outputs": [],
   "source": [
    "df_business.to_parquet(r'Generated\\Yelp\\bussines.parquet')"
   ]
  },
  {
   "cell_type": "markdown",
   "metadata": {},
   "source": [
    "### 2.2 Checkin"
   ]
  },
  {
   "cell_type": "code",
   "execution_count": null,
   "metadata": {},
   "outputs": [],
   "source": [
    "lineas_json = []\n",
    "path_checkin = r'Datasets\\Yelp\\checkin.json'\n",
    "with open(path_checkin, 'r', encoding='utf-8') as file:\n",
    "    for l in file:\n",
    "        try:\n",
    "            linea_j = json.loads(l)\n",
    "            anio = linea_j['date'][:4]\n",
    "            # if 'restaurant' in \" \".join(linea_j['category']).lower():\n",
    "            if anio in ['2017', '2018', '2019']:\n",
    "                lineas_json.append(linea_j)\n",
    "        except:\n",
    "            pass\n",
    "\n",
    "df_checkin = pd.DataFrame(lineas_json)"
   ]
  },
  {
   "cell_type": "code",
   "execution_count": null,
   "metadata": {},
   "outputs": [],
   "source": [
    "df_checkin"
   ]
  },
  {
   "cell_type": "code",
   "execution_count": null,
   "metadata": {},
   "outputs": [],
   "source": [
    "merge_business_checkin = pd.merge(df_business, df_checkin, left_on='business_id', right_on='business_id')"
   ]
  },
  {
   "cell_type": "code",
   "execution_count": null,
   "metadata": {},
   "outputs": [],
   "source": [
    "merge_business_checkin.info()"
   ]
  },
  {
   "cell_type": "code",
   "execution_count": null,
   "metadata": {},
   "outputs": [],
   "source": [
    "df_checkin.to_parquet(r'Generated\\Yelp\\checkin.parquet')\n",
    "merge_business_checkin.to_parquet(r'Generated\\YELP\\business_checkin.parquet')"
   ]
  },
  {
   "cell_type": "markdown",
   "metadata": {},
   "source": [
    "### 2.3 Tips "
   ]
  },
  {
   "cell_type": "markdown",
   "metadata": {},
   "source": [
    "Realizamos la extracción de los datos y filtramos por año según nuestro análisis."
   ]
  },
  {
   "cell_type": "code",
   "execution_count": null,
   "metadata": {},
   "outputs": [],
   "source": [
    "lineas_json = []\n",
    "path_tip = r'Datasets\\Yelp\\tip.json'\n",
    "with open(path_tip, 'r', encoding='utf-8') as file:\n",
    "    for l in file:\n",
    "        try:\n",
    "            linea_j = json.loads(l)\n",
    "            anio = linea_j['date'][:4]\n",
    "            if anio in ['2017', '2018', '2019']:\n",
    "                lineas_json.append(linea_j)\n",
    "        except:\n",
    "            pass\n",
    "\n",
    "df_tip = pd.DataFrame(lineas_json)\n"
   ]
  },
  {
   "cell_type": "code",
   "execution_count": null,
   "metadata": {},
   "outputs": [],
   "source": [
    "df_tip.sample(5)"
   ]
  },
  {
   "cell_type": "code",
   "execution_count": null,
   "metadata": {},
   "outputs": [],
   "source": [
    "df_tip.to_parquet(r'Generated\\Yelp\\tip.parquet')"
   ]
  },
  {
   "cell_type": "markdown",
   "metadata": {},
   "source": [
    "Unimos el el dataframe de tips con el de negocios"
   ]
  },
  {
   "cell_type": "code",
   "execution_count": null,
   "metadata": {},
   "outputs": [],
   "source": [
    "tips_merged = pd.merge(df_tip, df_business, left_on='business_id', right_on='business_id')"
   ]
  },
  {
   "cell_type": "code",
   "execution_count": null,
   "metadata": {},
   "outputs": [],
   "source": [
    "tips_merged.sort_values('business_id').head(3)"
   ]
  },
  {
   "cell_type": "code",
   "execution_count": null,
   "metadata": {},
   "outputs": [],
   "source": [
    "tips_merged.to_parquet(r'Generated\\Yelp\\business_tip.parquet')"
   ]
  },
  {
   "cell_type": "markdown",
   "metadata": {},
   "source": [
    "### 2.4 Review"
   ]
  },
  {
   "cell_type": "code",
   "execution_count": null,
   "metadata": {},
   "outputs": [],
   "source": [
    "df_reviews_url =  r'Datasets\\Yelp\\review.json'"
   ]
  },
  {
   "cell_type": "markdown",
   "metadata": {},
   "source": [
    "Usamos el mismo método de linea por linea, y en el proceso filtramos por año y por las reseñas que han sido votadas como útiles."
   ]
  },
  {
   "cell_type": "code",
   "execution_count": null,
   "metadata": {},
   "outputs": [],
   "source": [
    "# 44 segundos\n",
    "\n",
    "lineas_json_review = []\n",
    "\n",
    "with open(df_reviews_url, 'r', encoding='utf-8') as f:\n",
    "    count = 0\n",
    "    for i in f:\n",
    "        linea = json.loads(i)\n",
    "        anio = linea['date'][:4]\n",
    "        if anio in ['2017', '2018', '2019'] and linea['useful'] == 1:    \n",
    "            lineas_json_review.append(linea)\n",
    "\n",
    "\n",
    "df_reviews = pd.DataFrame(lineas_json_review)"
   ]
  },
  {
   "cell_type": "code",
   "execution_count": null,
   "metadata": {},
   "outputs": [],
   "source": [
    "df_reviews.sample(10)"
   ]
  },
  {
   "cell_type": "code",
   "execution_count": null,
   "metadata": {},
   "outputs": [],
   "source": [
    "df_reviews.info()"
   ]
  },
  {
   "cell_type": "markdown",
   "metadata": {},
   "source": [
    "Aligeramos el dataset con unos downgrades de tipo de variables."
   ]
  },
  {
   "cell_type": "code",
   "execution_count": null,
   "metadata": {},
   "outputs": [],
   "source": [
    "df_reviews['funny'] = df_reviews['funny'].astype('int8')\n",
    "df_reviews['stars'] = df_reviews['stars'].astype('int8')\n",
    "df_reviews['cool'] = df_reviews['cool'].astype('int8')\n",
    "\n",
    "df_reviews.drop('useful', axis=1, inplace=True, errors='ignore')\n"
   ]
  },
  {
   "cell_type": "code",
   "execution_count": null,
   "metadata": {},
   "outputs": [],
   "source": [
    "df_reviews.to_parquet(r'Generated\\Yelp\\review.parquet')"
   ]
  },
  {
   "cell_type": "markdown",
   "metadata": {},
   "source": [
    "### 2.4 Users Yelp"
   ]
  },
  {
   "cell_type": "code",
   "execution_count": null,
   "metadata": {},
   "outputs": [],
   "source": [
    "import pyarrow.parquet as pq\n",
    "\n",
    "\n",
    "parquet_file = pq.ParquetFile(r'Datasets\\Yelp\\user.parquet')\n",
    "\n",
    "arr_df = []\n",
    "\n",
    "for batch in parquet_file.iter_batches():\n",
    "    # count = count +1\n",
    "    batch_df = batch.to_pandas()\n",
    "    batch_df['elite'] = batch_df['elite'].apply(lambda x: x.split(','))\n",
    "    batch_df['elite_len'] = batch_df['elite'].apply(lambda x: len(x))\n",
    "    batch_df = batch_df.query(\"elite_len > 1\")\n",
    "    arr_df.append(batch_df)\n",
    "\n",
    "df_users = pd.concat(arr_df)"
   ]
  },
  {
   "cell_type": "code",
   "execution_count": null,
   "metadata": {},
   "outputs": [],
   "source": [
    "df_users.sample(5)"
   ]
  },
  {
   "cell_type": "code",
   "execution_count": null,
   "metadata": {},
   "outputs": [],
   "source": [
    "df_users.info()"
   ]
  },
  {
   "cell_type": "code",
   "execution_count": null,
   "metadata": {},
   "outputs": [],
   "source": [
    "df_users.reset_index(inplace=True)\n",
    "df_users.drop('index', axis=1, inplace=True, errors=\"ignore\")"
   ]
  },
  {
   "cell_type": "code",
   "execution_count": null,
   "metadata": {},
   "outputs": [],
   "source": [
    "df_users.to_parquet(r\"Generated\\Yelp\\users_extracted.parquet\")"
   ]
  },
  {
   "cell_type": "markdown",
   "metadata": {},
   "source": [
    "## NORMALIZACIÓN DE DATOS"
   ]
  },
  {
   "cell_type": "code",
   "execution_count": 52,
   "metadata": {},
   "outputs": [],
   "source": [
    "import pandas as pd\n",
    "from datetime import datetime"
   ]
  },
  {
   "cell_type": "markdown",
   "metadata": {},
   "source": [
    "### **GOOGLE**\n",
    "\n",
    "#### *1. MERGE_SITE_REVIEWS*"
   ]
  },
  {
   "cell_type": "code",
   "execution_count": 2,
   "metadata": {},
   "outputs": [],
   "source": [
    "df_siterev = pd.read_parquet(\"Generated\\Google\\merge_site_reviews.parquet\")"
   ]
  },
  {
   "cell_type": "code",
   "execution_count": 19,
   "metadata": {},
   "outputs": [
    {
     "data": {
      "text/html": [
       "<div>\n",
       "<style scoped>\n",
       "    .dataframe tbody tr th:only-of-type {\n",
       "        vertical-align: middle;\n",
       "    }\n",
       "\n",
       "    .dataframe tbody tr th {\n",
       "        vertical-align: top;\n",
       "    }\n",
       "\n",
       "    .dataframe thead th {\n",
       "        text-align: right;\n",
       "    }\n",
       "</style>\n",
       "<table border=\"1\" class=\"dataframe\">\n",
       "  <thead>\n",
       "    <tr style=\"text-align: right;\">\n",
       "      <th></th>\n",
       "      <th>user_id</th>\n",
       "      <th>name_x</th>\n",
       "      <th>time</th>\n",
       "      <th>rating</th>\n",
       "      <th>text</th>\n",
       "      <th>pics</th>\n",
       "      <th>resp</th>\n",
       "      <th>gmap_id</th>\n",
       "      <th>anio</th>\n",
       "      <th>estado</th>\n",
       "      <th>...</th>\n",
       "      <th>avg_rating</th>\n",
       "      <th>num_of_reviews</th>\n",
       "      <th>price</th>\n",
       "      <th>hours</th>\n",
       "      <th>MISC</th>\n",
       "      <th>state</th>\n",
       "      <th>relative_results</th>\n",
       "      <th>url</th>\n",
       "      <th>state_ab</th>\n",
       "      <th>us_state</th>\n",
       "    </tr>\n",
       "  </thead>\n",
       "  <tbody>\n",
       "    <tr>\n",
       "      <th>348493</th>\n",
       "      <td>107942381515148867431</td>\n",
       "      <td>Sandy P</td>\n",
       "      <td>1529050068250</td>\n",
       "      <td>5</td>\n",
       "      <td>None</td>\n",
       "      <td>None</td>\n",
       "      <td>None</td>\n",
       "      <td>0x8085612890558ddf:0x125ed0ca2f98a892</td>\n",
       "      <td>2018</td>\n",
       "      <td>California</td>\n",
       "      <td>...</td>\n",
       "      <td>3.6</td>\n",
       "      <td>1078</td>\n",
       "      <td>₩</td>\n",
       "      <td>[[Wednesday, 5AM–2AM], [Thursday, 5AM–12AM], [...</td>\n",
       "      <td>{'Accessibility': ['Wheelchair-accessible car ...</td>\n",
       "      <td>Open ⋅ Closes 2AM</td>\n",
       "      <td>[0x808561288074c9d9:0x129e8b6ca0ddc163, 0x8085...</td>\n",
       "      <td>https://www.google.com/maps/place//data=!4m2!3...</td>\n",
       "      <td>None</td>\n",
       "      <td>None</td>\n",
       "    </tr>\n",
       "    <tr>\n",
       "      <th>1972544</th>\n",
       "      <td>108973483426689098114</td>\n",
       "      <td>j b</td>\n",
       "      <td>1552163444809</td>\n",
       "      <td>4</td>\n",
       "      <td>None</td>\n",
       "      <td>None</td>\n",
       "      <td>None</td>\n",
       "      <td>0x88e77010a00e128d:0x761d451cbcaed653</td>\n",
       "      <td>2019</td>\n",
       "      <td>Florida</td>\n",
       "      <td>...</td>\n",
       "      <td>4.5</td>\n",
       "      <td>1772</td>\n",
       "      <td>₩₩</td>\n",
       "      <td>[[Saturday, 7AM–5PM], [Sunday, 8AM–5PM], [Mond...</td>\n",
       "      <td>{'Accessibility': ['Wheelchair-accessible car ...</td>\n",
       "      <td>Open ⋅ Closes 5PM</td>\n",
       "      <td>[0x88e7701a0633b12d:0xd328ea95e4f2b0fc, 0x88e7...</td>\n",
       "      <td>https://www.google.com/maps/place//data=!4m2!3...</td>\n",
       "      <td>None</td>\n",
       "      <td>None</td>\n",
       "    </tr>\n",
       "    <tr>\n",
       "      <th>365299</th>\n",
       "      <td>117154565760944188399</td>\n",
       "      <td>MICHAEL Bansuelo</td>\n",
       "      <td>1517295312556</td>\n",
       "      <td>5</td>\n",
       "      <td>None</td>\n",
       "      <td>None</td>\n",
       "      <td>None</td>\n",
       "      <td>0x80c2c0aeee51ffb5:0xb2f24102f8a608c8</td>\n",
       "      <td>2018</td>\n",
       "      <td>California</td>\n",
       "      <td>...</td>\n",
       "      <td>4.4</td>\n",
       "      <td>688</td>\n",
       "      <td>₩₩</td>\n",
       "      <td>[[Wednesday, 9:30AM–10:30PM], [Thursday, 9:30A...</td>\n",
       "      <td>{'Accessibility': ['Wheelchair-accessible entr...</td>\n",
       "      <td>Closed ⋅ Opens 9:30AM</td>\n",
       "      <td>[0x80c2c12c56569857:0xb2307fc2d0d613c, 0x80c2b...</td>\n",
       "      <td>https://www.google.com/maps/place//data=!4m2!3...</td>\n",
       "      <td>None</td>\n",
       "      <td>None</td>\n",
       "    </tr>\n",
       "  </tbody>\n",
       "</table>\n",
       "<p>3 rows × 26 columns</p>\n",
       "</div>"
      ],
      "text/plain": [
       "                       user_id            name_x           time  rating  text  \\\n",
       "348493   107942381515148867431           Sandy P  1529050068250       5  None   \n",
       "1972544  108973483426689098114               j b  1552163444809       4  None   \n",
       "365299   117154565760944188399  MICHAEL Bansuelo  1517295312556       5  None   \n",
       "\n",
       "         pics  resp                                gmap_id  anio      estado  \\\n",
       "348493   None  None  0x8085612890558ddf:0x125ed0ca2f98a892  2018  California   \n",
       "1972544  None  None  0x88e77010a00e128d:0x761d451cbcaed653  2019     Florida   \n",
       "365299   None  None  0x80c2c0aeee51ffb5:0xb2f24102f8a608c8  2018  California   \n",
       "\n",
       "         ... avg_rating num_of_reviews price  \\\n",
       "348493   ...        3.6           1078     ₩   \n",
       "1972544  ...        4.5           1772    ₩₩   \n",
       "365299   ...        4.4            688    ₩₩   \n",
       "\n",
       "                                                     hours  \\\n",
       "348493   [[Wednesday, 5AM–2AM], [Thursday, 5AM–12AM], [...   \n",
       "1972544  [[Saturday, 7AM–5PM], [Sunday, 8AM–5PM], [Mond...   \n",
       "365299   [[Wednesday, 9:30AM–10:30PM], [Thursday, 9:30A...   \n",
       "\n",
       "                                                      MISC  \\\n",
       "348493   {'Accessibility': ['Wheelchair-accessible car ...   \n",
       "1972544  {'Accessibility': ['Wheelchair-accessible car ...   \n",
       "365299   {'Accessibility': ['Wheelchair-accessible entr...   \n",
       "\n",
       "                         state  \\\n",
       "348493       Open ⋅ Closes 2AM   \n",
       "1972544      Open ⋅ Closes 5PM   \n",
       "365299   Closed ⋅ Opens 9:30AM   \n",
       "\n",
       "                                          relative_results  \\\n",
       "348493   [0x808561288074c9d9:0x129e8b6ca0ddc163, 0x8085...   \n",
       "1972544  [0x88e7701a0633b12d:0xd328ea95e4f2b0fc, 0x88e7...   \n",
       "365299   [0x80c2c12c56569857:0xb2307fc2d0d613c, 0x80c2b...   \n",
       "\n",
       "                                                       url state_ab us_state  \n",
       "348493   https://www.google.com/maps/place//data=!4m2!3...     None     None  \n",
       "1972544  https://www.google.com/maps/place//data=!4m2!3...     None     None  \n",
       "365299   https://www.google.com/maps/place//data=!4m2!3...     None     None  \n",
       "\n",
       "[3 rows x 26 columns]"
      ]
     },
     "execution_count": 19,
     "metadata": {},
     "output_type": "execute_result"
    }
   ],
   "source": [
    "df_siterev.sample(3)"
   ]
  },
  {
   "cell_type": "code",
   "execution_count": 20,
   "metadata": {},
   "outputs": [
    {
     "data": {
      "text/plain": [
       "array(['user_id', 'name_x', 'time', 'rating', 'text', 'pics', 'resp',\n",
       "       'gmap_id', 'anio', 'estado', 'name_y', 'address', 'description',\n",
       "       'latitude', 'longitude', 'category', 'avg_rating',\n",
       "       'num_of_reviews', 'price', 'hours', 'MISC', 'state',\n",
       "       'relative_results', 'url', 'state_ab', 'us_state'], dtype=object)"
      ]
     },
     "execution_count": 20,
     "metadata": {},
     "output_type": "execute_result"
    }
   ],
   "source": [
    "df_siterev.columns.values"
   ]
  },
  {
   "cell_type": "markdown",
   "metadata": {},
   "source": [
    "#### ***~ VERIFICACIÓN DE DUPLICADOS***"
   ]
  },
  {
   "cell_type": "code",
   "execution_count": null,
   "metadata": {},
   "outputs": [
    {
     "data": {
      "text/html": [
       "<div>\n",
       "<style scoped>\n",
       "    .dataframe tbody tr th:only-of-type {\n",
       "        vertical-align: middle;\n",
       "    }\n",
       "\n",
       "    .dataframe tbody tr th {\n",
       "        vertical-align: top;\n",
       "    }\n",
       "\n",
       "    .dataframe thead th {\n",
       "        text-align: right;\n",
       "    }\n",
       "</style>\n",
       "<table border=\"1\" class=\"dataframe\">\n",
       "  <thead>\n",
       "    <tr style=\"text-align: right;\">\n",
       "      <th></th>\n",
       "      <th>user_id</th>\n",
       "      <th>name_x</th>\n",
       "      <th>time</th>\n",
       "      <th>rating</th>\n",
       "      <th>text</th>\n",
       "      <th>pics</th>\n",
       "      <th>resp</th>\n",
       "      <th>gmap_id</th>\n",
       "      <th>anio</th>\n",
       "      <th>estado</th>\n",
       "      <th>...</th>\n",
       "      <th>state</th>\n",
       "      <th>relative_results</th>\n",
       "      <th>url</th>\n",
       "      <th>state_ab</th>\n",
       "      <th>us_state</th>\n",
       "      <th>dtfmt</th>\n",
       "      <th>mes</th>\n",
       "      <th>dia</th>\n",
       "      <th>hora</th>\n",
       "      <th>duplex</th>\n",
       "    </tr>\n",
       "  </thead>\n",
       "  <tbody>\n",
       "    <tr>\n",
       "      <th>2102952</th>\n",
       "      <td>110929799662088863738</td>\n",
       "      <td>Carmine Cannoli</td>\n",
       "      <td>1573992097196</td>\n",
       "      <td>5</td>\n",
       "      <td>excellent cold pressed concoctions as well as ...</td>\n",
       "      <td>None</td>\n",
       "      <td>{'text': 'Hi Arthur,\n",
       "\n",
       "Thank you so much for vi...</td>\n",
       "      <td>0x89c69123824041c7:0x3da1ff043efcf8e7</td>\n",
       "      <td>2019</td>\n",
       "      <td>Pennsylvania</td>\n",
       "      <td>...</td>\n",
       "      <td>Open ⋅ Closes 8PM</td>\n",
       "      <td>[0x89c6909c21ba1595:0x4a823e780464b365, 0x89c6...</td>\n",
       "      <td>https://www.google.com/maps/place//data=!4m2!3...</td>\n",
       "      <td>PA</td>\n",
       "      <td>Pennsylvania</td>\n",
       "      <td>2019-11-17 12:01:37.196</td>\n",
       "      <td>11</td>\n",
       "      <td>17</td>\n",
       "      <td>12</td>\n",
       "      <td>True</td>\n",
       "    </tr>\n",
       "    <tr>\n",
       "      <th>1145604</th>\n",
       "      <td>107690690451688607534</td>\n",
       "      <td>John Perez</td>\n",
       "      <td>1559400302012</td>\n",
       "      <td>5</td>\n",
       "      <td>great food, ambience, and drinks</td>\n",
       "      <td>None</td>\n",
       "      <td>None</td>\n",
       "      <td>0x89c28b4ecbc8d561:0xef772c6c75e0f520</td>\n",
       "      <td>2019</td>\n",
       "      <td>New_York</td>\n",
       "      <td>...</td>\n",
       "      <td>Open ⋅ Closes 10PM</td>\n",
       "      <td>[0x89c2f4c85ae4ccc3:0x8380dd7e5b2490fc, 0x89c2...</td>\n",
       "      <td>https://www.google.com/maps/place//data=!4m2!3...</td>\n",
       "      <td>None</td>\n",
       "      <td>None</td>\n",
       "      <td>2019-06-01 14:45:02.012</td>\n",
       "      <td>6</td>\n",
       "      <td>1</td>\n",
       "      <td>14</td>\n",
       "      <td>True</td>\n",
       "    </tr>\n",
       "    <tr>\n",
       "      <th>1938324</th>\n",
       "      <td>112863588075588246459</td>\n",
       "      <td>Macy</td>\n",
       "      <td>1569154022471</td>\n",
       "      <td>5</td>\n",
       "      <td>they have amazing pizza and much more. they ar...</td>\n",
       "      <td>None</td>\n",
       "      <td>None</td>\n",
       "      <td>0x88db42498f958857:0x7843ef317d6f922</td>\n",
       "      <td>2019</td>\n",
       "      <td>Florida</td>\n",
       "      <td>...</td>\n",
       "      <td>Closed ⋅ Opens 11AM</td>\n",
       "      <td>[0x88db43d6a79c5613:0xda575757a2490bed, 0x88db...</td>\n",
       "      <td>https://www.google.com/maps/place//data=!4m2!3...</td>\n",
       "      <td>None</td>\n",
       "      <td>None</td>\n",
       "      <td>2019-09-22 12:07:02.471</td>\n",
       "      <td>9</td>\n",
       "      <td>22</td>\n",
       "      <td>12</td>\n",
       "      <td>True</td>\n",
       "    </tr>\n",
       "  </tbody>\n",
       "</table>\n",
       "<p>3 rows × 31 columns</p>\n",
       "</div>"
      ],
      "text/plain": [
       "                       user_id           name_x           time  rating  \\\n",
       "2102952  110929799662088863738  Carmine Cannoli  1573992097196       5   \n",
       "1145604  107690690451688607534       John Perez  1559400302012       5   \n",
       "1938324  112863588075588246459             Macy  1569154022471       5   \n",
       "\n",
       "                                                      text  pics  \\\n",
       "2102952  excellent cold pressed concoctions as well as ...  None   \n",
       "1145604                   great food, ambience, and drinks  None   \n",
       "1938324  they have amazing pizza and much more. they ar...  None   \n",
       "\n",
       "                                                      resp  \\\n",
       "2102952  {'text': 'Hi Arthur,\n",
       "\n",
       "Thank you so much for vi...   \n",
       "1145604                                               None   \n",
       "1938324                                               None   \n",
       "\n",
       "                                       gmap_id  anio        estado  ...  \\\n",
       "2102952  0x89c69123824041c7:0x3da1ff043efcf8e7  2019  Pennsylvania  ...   \n",
       "1145604  0x89c28b4ecbc8d561:0xef772c6c75e0f520  2019      New_York  ...   \n",
       "1938324   0x88db42498f958857:0x7843ef317d6f922  2019       Florida  ...   \n",
       "\n",
       "                       state  \\\n",
       "2102952    Open ⋅ Closes 8PM   \n",
       "1145604   Open ⋅ Closes 10PM   \n",
       "1938324  Closed ⋅ Opens 11AM   \n",
       "\n",
       "                                          relative_results  \\\n",
       "2102952  [0x89c6909c21ba1595:0x4a823e780464b365, 0x89c6...   \n",
       "1145604  [0x89c2f4c85ae4ccc3:0x8380dd7e5b2490fc, 0x89c2...   \n",
       "1938324  [0x88db43d6a79c5613:0xda575757a2490bed, 0x88db...   \n",
       "\n",
       "                                                       url  state_ab  \\\n",
       "2102952  https://www.google.com/maps/place//data=!4m2!3...        PA   \n",
       "1145604  https://www.google.com/maps/place//data=!4m2!3...      None   \n",
       "1938324  https://www.google.com/maps/place//data=!4m2!3...      None   \n",
       "\n",
       "             us_state                   dtfmt  mes  dia hora duplex  \n",
       "2102952  Pennsylvania 2019-11-17 12:01:37.196   11   17   12   True  \n",
       "1145604          None 2019-06-01 14:45:02.012    6    1   14   True  \n",
       "1938324          None 2019-09-22 12:07:02.471    9   22   12   True  \n",
       "\n",
       "[3 rows x 31 columns]"
      ]
     },
     "metadata": {},
     "output_type": "display_data"
    }
   ],
   "source": [
    "df_siterev['duplex'] = df_siterev.duplicated(subset=['user_id','gmap_id','anio','mes','dia','hora'])\n",
    "df_siterev[df_siterev.duplex].sample(3)"
   ]
  },
  {
   "cell_type": "code",
   "execution_count": null,
   "metadata": {},
   "outputs": [],
   "source": [
    "df_siterev.drop_duplicates(subset=['user_id','gmap_id','anio','mes','dia','hora'],inplace=True)"
   ]
  },
  {
   "cell_type": "code",
   "execution_count": 8,
   "metadata": {},
   "outputs": [
    {
     "name": "stdout",
     "output_type": "stream",
     "text": [
      "<class 'pandas.core.frame.DataFrame'>\n",
      "RangeIndex: 2393452 entries, 0 to 2393451\n",
      "Data columns (total 26 columns):\n",
      " #   Column            Dtype  \n",
      "---  ------            -----  \n",
      " 0   user_id           object \n",
      " 1   name_x            object \n",
      " 2   time              int64  \n",
      " 3   rating            int64  \n",
      " 4   text              object \n",
      " 5   pics              object \n",
      " 6   resp              object \n",
      " 7   gmap_id           object \n",
      " 8   anio              int64  \n",
      " 9   estado            object \n",
      " 10  name_y            object \n",
      " 11  address           object \n",
      " 12  description       object \n",
      " 13  latitude          float64\n",
      " 14  longitude         float64\n",
      " 15  category          object \n",
      " 16  avg_rating        float64\n",
      " 17  num_of_reviews    int64  \n",
      " 18  price             object \n",
      " 19  hours             object \n",
      " 20  MISC              object \n",
      " 21  state             object \n",
      " 22  relative_results  object \n",
      " 23  url               object \n",
      " 24  state_ab          object \n",
      " 25  us_state          object \n",
      "dtypes: float64(3), int64(4), object(19)\n",
      "memory usage: 474.8+ MB\n"
     ]
    }
   ],
   "source": [
    "df_siterev.info()"
   ]
  },
  {
   "cell_type": "code",
   "execution_count": 7,
   "metadata": {},
   "outputs": [
    {
     "data": {
      "text/html": [
       "<div>\n",
       "<style scoped>\n",
       "    .dataframe tbody tr th:only-of-type {\n",
       "        vertical-align: middle;\n",
       "    }\n",
       "\n",
       "    .dataframe tbody tr th {\n",
       "        vertical-align: top;\n",
       "    }\n",
       "\n",
       "    .dataframe thead th {\n",
       "        text-align: right;\n",
       "    }\n",
       "</style>\n",
       "<table border=\"1\" class=\"dataframe\">\n",
       "  <thead>\n",
       "    <tr style=\"text-align: right;\">\n",
       "      <th></th>\n",
       "      <th>user_id</th>\n",
       "      <th>name_x</th>\n",
       "      <th>time</th>\n",
       "      <th>rating</th>\n",
       "      <th>text</th>\n",
       "      <th>pics</th>\n",
       "      <th>resp</th>\n",
       "      <th>gmap_id</th>\n",
       "      <th>anio</th>\n",
       "      <th>estado</th>\n",
       "      <th>...</th>\n",
       "      <th>avg_rating</th>\n",
       "      <th>num_of_reviews</th>\n",
       "      <th>price</th>\n",
       "      <th>hours</th>\n",
       "      <th>MISC</th>\n",
       "      <th>state</th>\n",
       "      <th>relative_results</th>\n",
       "      <th>url</th>\n",
       "      <th>state_ab</th>\n",
       "      <th>us_state</th>\n",
       "    </tr>\n",
       "  </thead>\n",
       "  <tbody>\n",
       "    <tr>\n",
       "      <th>366219</th>\n",
       "      <td>115191459158252243116</td>\n",
       "      <td>Sarah Bal</td>\n",
       "      <td>1572469393340</td>\n",
       "      <td>4</td>\n",
       "      <td>I have been wanting to review this place for a...</td>\n",
       "      <td>[{'url': ['https://lh5.googleusercontent.com/p...</td>\n",
       "      <td>None</td>\n",
       "      <td>0x808e34cc915bd159:0x659ec9ee6650efc6</td>\n",
       "      <td>2019</td>\n",
       "      <td>California</td>\n",
       "      <td>...</td>\n",
       "      <td>4.4</td>\n",
       "      <td>1004</td>\n",
       "      <td>₩₩</td>\n",
       "      <td>[[Wednesday, 11AM–8PM], [Thursday, 11AM–8PM], ...</td>\n",
       "      <td>{'Accessibility': ['Wheelchair-accessible car ...</td>\n",
       "      <td>Closed ⋅ Opens 11AM</td>\n",
       "      <td>[0x808e352a573a1a49:0xe805950681af6c8d, 0x808e...</td>\n",
       "      <td>https://www.google.com/maps/place//data=!4m2!3...</td>\n",
       "      <td>None</td>\n",
       "      <td>None</td>\n",
       "    </tr>\n",
       "    <tr>\n",
       "      <th>1463632</th>\n",
       "      <td>118251272936885295934</td>\n",
       "      <td>andricci romero</td>\n",
       "      <td>1566164123252</td>\n",
       "      <td>1</td>\n",
       "      <td>(Translated by Google) Super dissatisfied, it ...</td>\n",
       "      <td>[{'url': ['https://lh5.googleusercontent.com/p...</td>\n",
       "      <td>None</td>\n",
       "      <td>0x88e77d85a70512f1:0xf1404b79022cfbca</td>\n",
       "      <td>2019</td>\n",
       "      <td>Florida</td>\n",
       "      <td>...</td>\n",
       "      <td>2.7</td>\n",
       "      <td>48</td>\n",
       "      <td>None</td>\n",
       "      <td>[[Monday, Closed], [Tuesday, 5PM–12AM], [Wedne...</td>\n",
       "      <td>{'Accessibility': ['Wheelchair accessible entr...</td>\n",
       "      <td>Closed ⋅ Opens 5PM Tue</td>\n",
       "      <td>[0x88e77c4c9e301503:0x9c555cd78c12d447, 0x88e7...</td>\n",
       "      <td>https://www.google.com/maps/place//data=!4m2!3...</td>\n",
       "      <td>FL</td>\n",
       "      <td>Florida</td>\n",
       "    </tr>\n",
       "    <tr>\n",
       "      <th>1532735</th>\n",
       "      <td>114771237847844057444</td>\n",
       "      <td>Ron Kish</td>\n",
       "      <td>1570223395559</td>\n",
       "      <td>4</td>\n",
       "      <td>Tried the pizza 1st trip.Good stuff.Will be back</td>\n",
       "      <td>[{'url': ['https://lh5.googleusercontent.com/p...</td>\n",
       "      <td>{'text': 'We're looking forward to that 2nd vi...</td>\n",
       "      <td>0x88c29402cebd3b25:0xe05511b81b2b8fe9</td>\n",
       "      <td>2019</td>\n",
       "      <td>Florida</td>\n",
       "      <td>...</td>\n",
       "      <td>4.2</td>\n",
       "      <td>468</td>\n",
       "      <td>$$</td>\n",
       "      <td>[[Saturday, 11AM–8PM], [Sunday, 11AM–8PM], [Mo...</td>\n",
       "      <td>{'Accessibility': ['Wheelchair accessible entr...</td>\n",
       "      <td>Closed ⋅ Opens 11AM</td>\n",
       "      <td>[0x88c293f7b0e06b11:0x155d18d0ebde0896, 0x88c2...</td>\n",
       "      <td>https://www.google.com/maps/place//data=!4m2!3...</td>\n",
       "      <td>FL</td>\n",
       "      <td>Florida</td>\n",
       "    </tr>\n",
       "  </tbody>\n",
       "</table>\n",
       "<p>3 rows × 26 columns</p>\n",
       "</div>"
      ],
      "text/plain": [
       "                       user_id           name_x           time  rating  \\\n",
       "366219   115191459158252243116        Sarah Bal  1572469393340       4   \n",
       "1463632  118251272936885295934  andricci romero  1566164123252       1   \n",
       "1532735  114771237847844057444         Ron Kish  1570223395559       4   \n",
       "\n",
       "                                                      text  \\\n",
       "366219   I have been wanting to review this place for a...   \n",
       "1463632  (Translated by Google) Super dissatisfied, it ...   \n",
       "1532735   Tried the pizza 1st trip.Good stuff.Will be back   \n",
       "\n",
       "                                                      pics  \\\n",
       "366219   [{'url': ['https://lh5.googleusercontent.com/p...   \n",
       "1463632  [{'url': ['https://lh5.googleusercontent.com/p...   \n",
       "1532735  [{'url': ['https://lh5.googleusercontent.com/p...   \n",
       "\n",
       "                                                      resp  \\\n",
       "366219                                                None   \n",
       "1463632                                               None   \n",
       "1532735  {'text': 'We're looking forward to that 2nd vi...   \n",
       "\n",
       "                                       gmap_id  anio      estado  ...  \\\n",
       "366219   0x808e34cc915bd159:0x659ec9ee6650efc6  2019  California  ...   \n",
       "1463632  0x88e77d85a70512f1:0xf1404b79022cfbca  2019     Florida  ...   \n",
       "1532735  0x88c29402cebd3b25:0xe05511b81b2b8fe9  2019     Florida  ...   \n",
       "\n",
       "        avg_rating num_of_reviews price  \\\n",
       "366219         4.4           1004    ₩₩   \n",
       "1463632        2.7             48  None   \n",
       "1532735        4.2            468    $$   \n",
       "\n",
       "                                                     hours  \\\n",
       "366219   [[Wednesday, 11AM–8PM], [Thursday, 11AM–8PM], ...   \n",
       "1463632  [[Monday, Closed], [Tuesday, 5PM–12AM], [Wedne...   \n",
       "1532735  [[Saturday, 11AM–8PM], [Sunday, 11AM–8PM], [Mo...   \n",
       "\n",
       "                                                      MISC  \\\n",
       "366219   {'Accessibility': ['Wheelchair-accessible car ...   \n",
       "1463632  {'Accessibility': ['Wheelchair accessible entr...   \n",
       "1532735  {'Accessibility': ['Wheelchair accessible entr...   \n",
       "\n",
       "                          state  \\\n",
       "366219      Closed ⋅ Opens 11AM   \n",
       "1463632  Closed ⋅ Opens 5PM Tue   \n",
       "1532735     Closed ⋅ Opens 11AM   \n",
       "\n",
       "                                          relative_results  \\\n",
       "366219   [0x808e352a573a1a49:0xe805950681af6c8d, 0x808e...   \n",
       "1463632  [0x88e77c4c9e301503:0x9c555cd78c12d447, 0x88e7...   \n",
       "1532735  [0x88c293f7b0e06b11:0x155d18d0ebde0896, 0x88c2...   \n",
       "\n",
       "                                                       url state_ab us_state  \n",
       "366219   https://www.google.com/maps/place//data=!4m2!3...     None     None  \n",
       "1463632  https://www.google.com/maps/place//data=!4m2!3...       FL  Florida  \n",
       "1532735  https://www.google.com/maps/place//data=!4m2!3...       FL  Florida  \n",
       "\n",
       "[3 rows x 26 columns]"
      ]
     },
     "execution_count": 7,
     "metadata": {},
     "output_type": "execute_result"
    }
   ],
   "source": [
    "df_siterev[~df_siterev.pics.isnull()].sample(3)"
   ]
  },
  {
   "cell_type": "code",
   "execution_count": 27,
   "metadata": {},
   "outputs": [
    {
     "data": {
      "text/plain": [
       "2307136"
      ]
     },
     "execution_count": 27,
     "metadata": {},
     "output_type": "execute_result"
    }
   ],
   "source": [
    "num_nulls_pics = df_siterev.pics.isnull().sum()\n",
    "num_nulls_pics"
   ]
  },
  {
   "cell_type": "code",
   "execution_count": 28,
   "metadata": {},
   "outputs": [
    {
     "data": {
      "text/plain": [
       "2178044"
      ]
     },
     "execution_count": 28,
     "metadata": {},
     "output_type": "execute_result"
    }
   ],
   "source": [
    "num_nulls_resp = df_siterev.resp.isnull().sum()\n",
    "num_nulls_resp"
   ]
  },
  {
   "cell_type": "code",
   "execution_count": 3,
   "metadata": {},
   "outputs": [
    {
     "data": {
      "text/html": [
       "<div>\n",
       "<style scoped>\n",
       "    .dataframe tbody tr th:only-of-type {\n",
       "        vertical-align: middle;\n",
       "    }\n",
       "\n",
       "    .dataframe tbody tr th {\n",
       "        vertical-align: top;\n",
       "    }\n",
       "\n",
       "    .dataframe thead th {\n",
       "        text-align: right;\n",
       "    }\n",
       "</style>\n",
       "<table border=\"1\" class=\"dataframe\">\n",
       "  <thead>\n",
       "    <tr style=\"text-align: right;\">\n",
       "      <th></th>\n",
       "      <th>user_id</th>\n",
       "      <th>name_x</th>\n",
       "      <th>time</th>\n",
       "      <th>rating</th>\n",
       "      <th>text</th>\n",
       "      <th>pics</th>\n",
       "      <th>resp</th>\n",
       "      <th>gmap_id</th>\n",
       "      <th>anio</th>\n",
       "      <th>estado</th>\n",
       "      <th>...</th>\n",
       "      <th>MISC</th>\n",
       "      <th>state</th>\n",
       "      <th>relative_results</th>\n",
       "      <th>url</th>\n",
       "      <th>state_ab</th>\n",
       "      <th>us_state</th>\n",
       "      <th>dtfmt</th>\n",
       "      <th>mes</th>\n",
       "      <th>dia</th>\n",
       "      <th>hora</th>\n",
       "    </tr>\n",
       "  </thead>\n",
       "  <tbody>\n",
       "    <tr>\n",
       "      <th>2297455</th>\n",
       "      <td>110622153058905199268</td>\n",
       "      <td>Jim Shea</td>\n",
       "      <td>1548426341699</td>\n",
       "      <td>5</td>\n",
       "      <td>i have yet to try something that i didnt like....</td>\n",
       "      <td>None</td>\n",
       "      <td>{'text': 'Thanks for the positive feedback Jim...</td>\n",
       "      <td>0x89c4dbe33c619dc9:0xbacdd627f4a0ea4f</td>\n",
       "      <td>2019</td>\n",
       "      <td>Pennsylvania</td>\n",
       "      <td>...</td>\n",
       "      <td>{'Accessibility': None, 'Amenities': ['Good fo...</td>\n",
       "      <td>Closes soon ⋅ 9PM ⋅ Opens 11AM Sat</td>\n",
       "      <td>[0x89c4d95812b9fbb7:0x18484a2597e7ef89, 0x89c4...</td>\n",
       "      <td>https://www.google.com/maps/place//data=!4m2!3...</td>\n",
       "      <td>PA</td>\n",
       "      <td>Pennsylvania</td>\n",
       "      <td>2019-01-25 14:25:41.699</td>\n",
       "      <td>1</td>\n",
       "      <td>25</td>\n",
       "      <td>14</td>\n",
       "    </tr>\n",
       "    <tr>\n",
       "      <th>1131038</th>\n",
       "      <td>114897101857765595557</td>\n",
       "      <td>Jeannette R</td>\n",
       "      <td>1569009249173</td>\n",
       "      <td>5</td>\n",
       "      <td>None</td>\n",
       "      <td>None</td>\n",
       "      <td>None</td>\n",
       "      <td>0x89c2590aa9dc256d:0xdcce3a99f1dec72c</td>\n",
       "      <td>2019</td>\n",
       "      <td>New_York</td>\n",
       "      <td>...</td>\n",
       "      <td>{'Accessibility': None, 'Amenities': ['Good fo...</td>\n",
       "      <td>Permanently closed</td>\n",
       "      <td>[0x89c25f3f5b5f4701:0xbe36f83c2fc9ece2]</td>\n",
       "      <td>https://www.google.com/maps/place//data=!4m2!3...</td>\n",
       "      <td>NY</td>\n",
       "      <td>New York</td>\n",
       "      <td>2019-09-20 19:54:09.173</td>\n",
       "      <td>9</td>\n",
       "      <td>20</td>\n",
       "      <td>19</td>\n",
       "    </tr>\n",
       "    <tr>\n",
       "      <th>843528</th>\n",
       "      <td>103935041101974043495</td>\n",
       "      <td>Rudhran Mehra</td>\n",
       "      <td>1577761857699</td>\n",
       "      <td>1</td>\n",
       "      <td>None</td>\n",
       "      <td>None</td>\n",
       "      <td>None</td>\n",
       "      <td>0x864c174399ba2671:0x93673c6d02a0bd83</td>\n",
       "      <td>2019</td>\n",
       "      <td>Texas</td>\n",
       "      <td>...</td>\n",
       "      <td>{'Accessibility': ['Wheelchair accessible entr...</td>\n",
       "      <td>Closed ⋅ Opens 11:30AM</td>\n",
       "      <td>[0x864c1309f0de960d:0x95468394b7d16951, 0x864c...</td>\n",
       "      <td>https://www.google.com/maps/place//data=!4m2!3...</td>\n",
       "      <td>TX</td>\n",
       "      <td>Texas</td>\n",
       "      <td>2019-12-31 03:10:57.699</td>\n",
       "      <td>12</td>\n",
       "      <td>31</td>\n",
       "      <td>3</td>\n",
       "    </tr>\n",
       "  </tbody>\n",
       "</table>\n",
       "<p>3 rows × 30 columns</p>\n",
       "</div>"
      ],
      "text/plain": [
       "                       user_id         name_x           time  rating  \\\n",
       "2297455  110622153058905199268       Jim Shea  1548426341699       5   \n",
       "1131038  114897101857765595557    Jeannette R  1569009249173       5   \n",
       "843528   103935041101974043495  Rudhran Mehra  1577761857699       1   \n",
       "\n",
       "                                                      text  pics  \\\n",
       "2297455  i have yet to try something that i didnt like....  None   \n",
       "1131038                                               None  None   \n",
       "843528                                                None  None   \n",
       "\n",
       "                                                      resp  \\\n",
       "2297455  {'text': 'Thanks for the positive feedback Jim...   \n",
       "1131038                                               None   \n",
       "843528                                                None   \n",
       "\n",
       "                                       gmap_id  anio        estado  ...  \\\n",
       "2297455  0x89c4dbe33c619dc9:0xbacdd627f4a0ea4f  2019  Pennsylvania  ...   \n",
       "1131038  0x89c2590aa9dc256d:0xdcce3a99f1dec72c  2019      New_York  ...   \n",
       "843528   0x864c174399ba2671:0x93673c6d02a0bd83  2019         Texas  ...   \n",
       "\n",
       "                                                      MISC  \\\n",
       "2297455  {'Accessibility': None, 'Amenities': ['Good fo...   \n",
       "1131038  {'Accessibility': None, 'Amenities': ['Good fo...   \n",
       "843528   {'Accessibility': ['Wheelchair accessible entr...   \n",
       "\n",
       "                                      state  \\\n",
       "2297455  Closes soon ⋅ 9PM ⋅ Opens 11AM Sat   \n",
       "1131038                  Permanently closed   \n",
       "843528               Closed ⋅ Opens 11:30AM   \n",
       "\n",
       "                                          relative_results  \\\n",
       "2297455  [0x89c4d95812b9fbb7:0x18484a2597e7ef89, 0x89c4...   \n",
       "1131038            [0x89c25f3f5b5f4701:0xbe36f83c2fc9ece2]   \n",
       "843528   [0x864c1309f0de960d:0x95468394b7d16951, 0x864c...   \n",
       "\n",
       "                                                       url  state_ab  \\\n",
       "2297455  https://www.google.com/maps/place//data=!4m2!3...        PA   \n",
       "1131038  https://www.google.com/maps/place//data=!4m2!3...        NY   \n",
       "843528   https://www.google.com/maps/place//data=!4m2!3...        TX   \n",
       "\n",
       "             us_state                   dtfmt  mes dia hora  \n",
       "2297455  Pennsylvania 2019-01-25 14:25:41.699    1  25   14  \n",
       "1131038      New York 2019-09-20 19:54:09.173    9  20   19  \n",
       "843528          Texas 2019-12-31 03:10:57.699   12  31    3  \n",
       "\n",
       "[3 rows x 30 columns]"
      ]
     },
     "execution_count": 3,
     "metadata": {},
     "output_type": "execute_result"
    }
   ],
   "source": [
    "df_siterev['dtfmt'] = df_siterev.time.apply(lambda x: datetime.utcfromtimestamp(x / 1000))\n",
    "df_siterev['mes']  = df_siterev.dtfmt.dt.month\n",
    "df_siterev['dia']  = df_siterev.dtfmt.dt.day\n",
    "df_siterev['hora'] = df_siterev.dtfmt.dt.hour\n",
    "df_siterev.drop(columns=['dtfmt','duplex'])\n",
    "df_siterev.name_x = df_siterev.name_x.str.title()\n",
    "df_siterev.text = df_siterev.text.str.lower()\n",
    "df_siterev.text = df_siterev.category.str.lower()"
   ]
  },
  {
   "cell_type": "code",
   "execution_count": 17,
   "metadata": {},
   "outputs": [],
   "source": [
    "## determinar si se va a grabar los nuevos parquets ya procesados o en qué momento se graban?\n",
    "#df_siterev.to_parquet(\"Generated\\Google\\merge_site_reviews_nsd.parquet\",index=False)"
   ]
  },
  {
   "cell_type": "markdown",
   "metadata": {},
   "source": [
    "#### ***<u>COMENTARIO</u>***\n",
    "Las columnas **pics** y **resp** deberían eliminarse porque la cantidades de datos nulos sobrepasa los 90%.\n",
    "\n",
    "*Se obtuvo las columnas de año, mes, día y hora para posteriores análisis*"
   ]
  },
  {
   "cell_type": "markdown",
   "metadata": {},
   "source": [
    "#### *2. METADATA_SITIOS*"
   ]
  },
  {
   "cell_type": "code",
   "execution_count": 62,
   "metadata": {},
   "outputs": [],
   "source": [
    "df_metasit = pd.read_parquet(\"Generated\\Google\\metada_sitios.parquet\")"
   ]
  },
  {
   "cell_type": "markdown",
   "metadata": {},
   "source": [
    "#### ***~ VERIFICACIÓN DE DUPLICADOS***"
   ]
  },
  {
   "cell_type": "code",
   "execution_count": 63,
   "metadata": {},
   "outputs": [
    {
     "data": {
      "text/html": [
       "<div>\n",
       "<style scoped>\n",
       "    .dataframe tbody tr th:only-of-type {\n",
       "        vertical-align: middle;\n",
       "    }\n",
       "\n",
       "    .dataframe tbody tr th {\n",
       "        vertical-align: top;\n",
       "    }\n",
       "\n",
       "    .dataframe thead th {\n",
       "        text-align: right;\n",
       "    }\n",
       "</style>\n",
       "<table border=\"1\" class=\"dataframe\">\n",
       "  <thead>\n",
       "    <tr style=\"text-align: right;\">\n",
       "      <th></th>\n",
       "      <th>name</th>\n",
       "      <th>address</th>\n",
       "      <th>gmap_id</th>\n",
       "      <th>description</th>\n",
       "      <th>latitude</th>\n",
       "      <th>longitude</th>\n",
       "      <th>category</th>\n",
       "      <th>avg_rating</th>\n",
       "      <th>num_of_reviews</th>\n",
       "      <th>price</th>\n",
       "      <th>hours</th>\n",
       "      <th>MISC</th>\n",
       "      <th>state</th>\n",
       "      <th>relative_results</th>\n",
       "      <th>url</th>\n",
       "      <th>duplex</th>\n",
       "    </tr>\n",
       "  </thead>\n",
       "  <tbody>\n",
       "    <tr>\n",
       "      <th>1061</th>\n",
       "      <td>San Soo Dang</td>\n",
       "      <td>San Soo Dang, 761 S Vermont Ave, Los Angeles, ...</td>\n",
       "      <td>0x80c2c778e3b73d33:0xbdc58662a4a97d49</td>\n",
       "      <td>None</td>\n",
       "      <td>34.058092</td>\n",
       "      <td>-118.292130</td>\n",
       "      <td>[Korean restaurant]</td>\n",
       "      <td>4.4</td>\n",
       "      <td>18</td>\n",
       "      <td>None</td>\n",
       "      <td>[[Thursday, 6:30AM–6PM], [Friday, 6:30AM–6PM],...</td>\n",
       "      <td>{'Accessibility': ['Wheelchair accessible entr...</td>\n",
       "      <td>Open ⋅ Closes 6PM</td>\n",
       "      <td>[0x80c2c78249aba68f:0x35bf16ce61be751d, 0x80c2...</td>\n",
       "      <td>https://www.google.com/maps/place//data=!4m2!3...</td>\n",
       "      <td>True</td>\n",
       "    </tr>\n",
       "    <tr>\n",
       "      <th>1062</th>\n",
       "      <td>Vons Chicken</td>\n",
       "      <td>Vons Chicken, 12740 La Mirada Blvd, La Mirada,...</td>\n",
       "      <td>0x80dd2b4c8555edb7:0xfc33d65c4bdbef42</td>\n",
       "      <td>None</td>\n",
       "      <td>33.916402</td>\n",
       "      <td>-118.010855</td>\n",
       "      <td>[Restaurant]</td>\n",
       "      <td>4.5</td>\n",
       "      <td>18</td>\n",
       "      <td>None</td>\n",
       "      <td>[[Thursday, 11AM–9:30PM], [Friday, 11AM–9:30PM...</td>\n",
       "      <td>{'Accessibility': ['Wheelchair accessible entr...</td>\n",
       "      <td>Open ⋅ Closes 9:30PM</td>\n",
       "      <td>None</td>\n",
       "      <td>https://www.google.com/maps/place//data=!4m2!3...</td>\n",
       "      <td>True</td>\n",
       "    </tr>\n",
       "    <tr>\n",
       "      <th>1063</th>\n",
       "      <td>Sweet Rewards Gluten Free Bakery, LLC</td>\n",
       "      <td>Sweet Rewards Gluten Free Bakery, LLC, 85 NE D...</td>\n",
       "      <td>0x87ec235c54d25b31:0x3b75fb5facc602f</td>\n",
       "      <td>None</td>\n",
       "      <td>41.616079</td>\n",
       "      <td>-93.865487</td>\n",
       "      <td>[Bakery, Health food restaurant]</td>\n",
       "      <td>4.7</td>\n",
       "      <td>21</td>\n",
       "      <td>None</td>\n",
       "      <td>[[Thursday, 10AM–5:30PM], [Friday, 10AM–5:30PM...</td>\n",
       "      <td>{'Accessibility': None, 'Amenities': None, 'At...</td>\n",
       "      <td>Permanently closed</td>\n",
       "      <td>[0x87ee974869295555:0x95f310d065882c9b, 0x87ec...</td>\n",
       "      <td>https://www.google.com/maps/place//data=!4m2!3...</td>\n",
       "      <td>True</td>\n",
       "    </tr>\n",
       "    <tr>\n",
       "      <th>1064</th>\n",
       "      <td>Vivi Bubble Tea</td>\n",
       "      <td>Vivi Bubble Tea, 701 S 5th St, Philadelphia, P...</td>\n",
       "      <td>0x89c6c89efcaed69d:0xded973f6033e7dba</td>\n",
       "      <td>Bubble tea shop offering hot &amp; cold versions, ...</td>\n",
       "      <td>39.940293</td>\n",
       "      <td>-75.150923</td>\n",
       "      <td>[Restaurant]</td>\n",
       "      <td>4.0</td>\n",
       "      <td>8</td>\n",
       "      <td>None</td>\n",
       "      <td>None</td>\n",
       "      <td>{'Accessibility': None, 'Amenities': ['Good fo...</td>\n",
       "      <td>None</td>\n",
       "      <td>[0x89c6c62a40f4b733:0x73bfeec1898f272b, 0x89c6...</td>\n",
       "      <td>https://www.google.com/maps/place//data=!4m2!3...</td>\n",
       "      <td>True</td>\n",
       "    </tr>\n",
       "    <tr>\n",
       "      <th>1065</th>\n",
       "      <td>Hale Pops</td>\n",
       "      <td>Hale Pops, 55-370 Kamehameha Hwy, Laie, HI 96762</td>\n",
       "      <td>0x7c00456eecad3111:0x8217f9600c51f33</td>\n",
       "      <td>None</td>\n",
       "      <td>21.637796</td>\n",
       "      <td>-157.920714</td>\n",
       "      <td>[Restaurant]</td>\n",
       "      <td>4.4</td>\n",
       "      <td>18</td>\n",
       "      <td>None</td>\n",
       "      <td>[[Thursday, 11AM–8PM], [Friday, 11AM–8PM], [Sa...</td>\n",
       "      <td>{'Accessibility': ['Wheelchair accessible entr...</td>\n",
       "      <td>Closed ⋅ Opens 11AM</td>\n",
       "      <td>[0x7c00451360f80cf1:0x930291a38bab3132, 0x7c00...</td>\n",
       "      <td>https://www.google.com/maps/place//data=!4m2!3...</td>\n",
       "      <td>True</td>\n",
       "    </tr>\n",
       "    <tr>\n",
       "      <th>...</th>\n",
       "      <td>...</td>\n",
       "      <td>...</td>\n",
       "      <td>...</td>\n",
       "      <td>...</td>\n",
       "      <td>...</td>\n",
       "      <td>...</td>\n",
       "      <td>...</td>\n",
       "      <td>...</td>\n",
       "      <td>...</td>\n",
       "      <td>...</td>\n",
       "      <td>...</td>\n",
       "      <td>...</td>\n",
       "      <td>...</td>\n",
       "      <td>...</td>\n",
       "      <td>...</td>\n",
       "      <td>...</td>\n",
       "    </tr>\n",
       "    <tr>\n",
       "      <th>2117</th>\n",
       "      <td>Spicy Cajun Cafe (BEST Chicken, Burgers, Beign...</td>\n",
       "      <td>Spicy Cajun Cafe (BEST Chicken, Burgers, Beign...</td>\n",
       "      <td>0x86236042637df67f:0x656dd449cec3aedf</td>\n",
       "      <td>None</td>\n",
       "      <td>30.109789</td>\n",
       "      <td>-92.124469</td>\n",
       "      <td>[Convenience store, Convenience stores organiz...</td>\n",
       "      <td>4.7</td>\n",
       "      <td>18</td>\n",
       "      <td>None</td>\n",
       "      <td>[[Tuesday, 5AM–9PM], [Wednesday, 5AM–9PM], [Th...</td>\n",
       "      <td>{'Accessibility': ['Wheelchair accessible entr...</td>\n",
       "      <td>Closed ⋅ Opens 5AM Wed</td>\n",
       "      <td>[0x86236042bd6449c7:0xa66964d7cee492e9, 0x8623...</td>\n",
       "      <td>https://www.google.com/maps/place//data=!4m2!3...</td>\n",
       "      <td>True</td>\n",
       "    </tr>\n",
       "    <tr>\n",
       "      <th>2118</th>\n",
       "      <td>Carolina Rib King</td>\n",
       "      <td>Carolina Rib King, 2730 Cannons Campground Rd,...</td>\n",
       "      <td>0x885774cee0afffff:0xf093c7750948ab35</td>\n",
       "      <td>None</td>\n",
       "      <td>35.001732</td>\n",
       "      <td>-81.874038</td>\n",
       "      <td>[Barbecue restaurant]</td>\n",
       "      <td>5.0</td>\n",
       "      <td>6</td>\n",
       "      <td>None</td>\n",
       "      <td>None</td>\n",
       "      <td>{'Accessibility': ['Wheelchair accessible entr...</td>\n",
       "      <td>None</td>\n",
       "      <td>[0x88577667a96ecf81:0xb373c8243235954f, 0x8857...</td>\n",
       "      <td>https://www.google.com/maps/place//data=!4m2!3...</td>\n",
       "      <td>True</td>\n",
       "    </tr>\n",
       "    <tr>\n",
       "      <th>2119</th>\n",
       "      <td>Taco Truck Bar and Grill</td>\n",
       "      <td>Taco Truck Bar and Grill, 2737 Cherokee St, St...</td>\n",
       "      <td>0x87d8b473f54a5c5b:0x435f2a4495096c0d</td>\n",
       "      <td>None</td>\n",
       "      <td>38.593842</td>\n",
       "      <td>-90.229106</td>\n",
       "      <td>[Mexican restaurant]</td>\n",
       "      <td>3.6</td>\n",
       "      <td>18</td>\n",
       "      <td>$</td>\n",
       "      <td>[[Tuesday, 3–10PM], [Wednesday, 3–10PM], [Thur...</td>\n",
       "      <td>{'Accessibility': None, 'Amenities': ['Good fo...</td>\n",
       "      <td>Permanently closed</td>\n",
       "      <td>[0x87d8b38a7656662f:0x679d3a93c96ab599, 0x87d8...</td>\n",
       "      <td>https://www.google.com/maps/place//data=!4m2!3...</td>\n",
       "      <td>True</td>\n",
       "    </tr>\n",
       "    <tr>\n",
       "      <th>2120</th>\n",
       "      <td>The Tortilla Spot</td>\n",
       "      <td>The Tortilla Spot, Phoenix, AZ 85033</td>\n",
       "      <td>0x872b15e5e565d97b:0xf8d844c3de2d44d0</td>\n",
       "      <td>None</td>\n",
       "      <td>33.493299</td>\n",
       "      <td>-112.218176</td>\n",
       "      <td>[Restaurant]</td>\n",
       "      <td>4.0</td>\n",
       "      <td>28</td>\n",
       "      <td>None</td>\n",
       "      <td>[[Tuesday, 10AM–8PM], [Wednesday, 10AM–8PM], [...</td>\n",
       "      <td>{'Accessibility': ['Wheelchair accessible entr...</td>\n",
       "      <td>Closes soon ⋅ 8PM ⋅ Opens 10AM Wed</td>\n",
       "      <td>[0x872b154f290ece1b:0xc8081e971a081bd3, 0x872b...</td>\n",
       "      <td>https://www.google.com/maps/place//data=!4m2!3...</td>\n",
       "      <td>True</td>\n",
       "    </tr>\n",
       "    <tr>\n",
       "      <th>2121</th>\n",
       "      <td>Shell</td>\n",
       "      <td>Shell, 301 N Whitley Dr, Fruitland, ID 83619</td>\n",
       "      <td>0x54af8fe408354483:0x48bb1dfcebc6d760</td>\n",
       "      <td>None</td>\n",
       "      <td>44.013222</td>\n",
       "      <td>-116.924095</td>\n",
       "      <td>[Gas station, ATM, Convenience store, Restaurant]</td>\n",
       "      <td>3.8</td>\n",
       "      <td>8</td>\n",
       "      <td>$$</td>\n",
       "      <td>None</td>\n",
       "      <td>{'Accessibility': ['Wheelchair accessible entr...</td>\n",
       "      <td>Open now</td>\n",
       "      <td>[0x54af8fe4525c8ce9:0xafd87d6ea50795f9, 0x54af...</td>\n",
       "      <td>https://www.google.com/maps/place//data=!4m2!3...</td>\n",
       "      <td>True</td>\n",
       "    </tr>\n",
       "  </tbody>\n",
       "</table>\n",
       "<p>1061 rows × 16 columns</p>\n",
       "</div>"
      ],
      "text/plain": [
       "                                                   name  \\\n",
       "1061                                       San Soo Dang   \n",
       "1062                                       Vons Chicken   \n",
       "1063              Sweet Rewards Gluten Free Bakery, LLC   \n",
       "1064                                    Vivi Bubble Tea   \n",
       "1065                                          Hale Pops   \n",
       "...                                                 ...   \n",
       "2117  Spicy Cajun Cafe (BEST Chicken, Burgers, Beign...   \n",
       "2118                                  Carolina Rib King   \n",
       "2119                           Taco Truck Bar and Grill   \n",
       "2120                                  The Tortilla Spot   \n",
       "2121                                              Shell   \n",
       "\n",
       "                                                address  \\\n",
       "1061  San Soo Dang, 761 S Vermont Ave, Los Angeles, ...   \n",
       "1062  Vons Chicken, 12740 La Mirada Blvd, La Mirada,...   \n",
       "1063  Sweet Rewards Gluten Free Bakery, LLC, 85 NE D...   \n",
       "1064  Vivi Bubble Tea, 701 S 5th St, Philadelphia, P...   \n",
       "1065   Hale Pops, 55-370 Kamehameha Hwy, Laie, HI 96762   \n",
       "...                                                 ...   \n",
       "2117  Spicy Cajun Cafe (BEST Chicken, Burgers, Beign...   \n",
       "2118  Carolina Rib King, 2730 Cannons Campground Rd,...   \n",
       "2119  Taco Truck Bar and Grill, 2737 Cherokee St, St...   \n",
       "2120               The Tortilla Spot, Phoenix, AZ 85033   \n",
       "2121       Shell, 301 N Whitley Dr, Fruitland, ID 83619   \n",
       "\n",
       "                                    gmap_id  \\\n",
       "1061  0x80c2c778e3b73d33:0xbdc58662a4a97d49   \n",
       "1062  0x80dd2b4c8555edb7:0xfc33d65c4bdbef42   \n",
       "1063   0x87ec235c54d25b31:0x3b75fb5facc602f   \n",
       "1064  0x89c6c89efcaed69d:0xded973f6033e7dba   \n",
       "1065   0x7c00456eecad3111:0x8217f9600c51f33   \n",
       "...                                     ...   \n",
       "2117  0x86236042637df67f:0x656dd449cec3aedf   \n",
       "2118  0x885774cee0afffff:0xf093c7750948ab35   \n",
       "2119  0x87d8b473f54a5c5b:0x435f2a4495096c0d   \n",
       "2120  0x872b15e5e565d97b:0xf8d844c3de2d44d0   \n",
       "2121  0x54af8fe408354483:0x48bb1dfcebc6d760   \n",
       "\n",
       "                                            description   latitude  \\\n",
       "1061                                               None  34.058092   \n",
       "1062                                               None  33.916402   \n",
       "1063                                               None  41.616079   \n",
       "1064  Bubble tea shop offering hot & cold versions, ...  39.940293   \n",
       "1065                                               None  21.637796   \n",
       "...                                                 ...        ...   \n",
       "2117                                               None  30.109789   \n",
       "2118                                               None  35.001732   \n",
       "2119                                               None  38.593842   \n",
       "2120                                               None  33.493299   \n",
       "2121                                               None  44.013222   \n",
       "\n",
       "       longitude                                           category  \\\n",
       "1061 -118.292130                                [Korean restaurant]   \n",
       "1062 -118.010855                                       [Restaurant]   \n",
       "1063  -93.865487                   [Bakery, Health food restaurant]   \n",
       "1064  -75.150923                                       [Restaurant]   \n",
       "1065 -157.920714                                       [Restaurant]   \n",
       "...          ...                                                ...   \n",
       "2117  -92.124469  [Convenience store, Convenience stores organiz...   \n",
       "2118  -81.874038                              [Barbecue restaurant]   \n",
       "2119  -90.229106                               [Mexican restaurant]   \n",
       "2120 -112.218176                                       [Restaurant]   \n",
       "2121 -116.924095  [Gas station, ATM, Convenience store, Restaurant]   \n",
       "\n",
       "      avg_rating  num_of_reviews price  \\\n",
       "1061         4.4              18  None   \n",
       "1062         4.5              18  None   \n",
       "1063         4.7              21  None   \n",
       "1064         4.0               8  None   \n",
       "1065         4.4              18  None   \n",
       "...          ...             ...   ...   \n",
       "2117         4.7              18  None   \n",
       "2118         5.0               6  None   \n",
       "2119         3.6              18     $   \n",
       "2120         4.0              28  None   \n",
       "2121         3.8               8    $$   \n",
       "\n",
       "                                                  hours  \\\n",
       "1061  [[Thursday, 6:30AM–6PM], [Friday, 6:30AM–6PM],...   \n",
       "1062  [[Thursday, 11AM–9:30PM], [Friday, 11AM–9:30PM...   \n",
       "1063  [[Thursday, 10AM–5:30PM], [Friday, 10AM–5:30PM...   \n",
       "1064                                               None   \n",
       "1065  [[Thursday, 11AM–8PM], [Friday, 11AM–8PM], [Sa...   \n",
       "...                                                 ...   \n",
       "2117  [[Tuesday, 5AM–9PM], [Wednesday, 5AM–9PM], [Th...   \n",
       "2118                                               None   \n",
       "2119  [[Tuesday, 3–10PM], [Wednesday, 3–10PM], [Thur...   \n",
       "2120  [[Tuesday, 10AM–8PM], [Wednesday, 10AM–8PM], [...   \n",
       "2121                                               None   \n",
       "\n",
       "                                                   MISC  \\\n",
       "1061  {'Accessibility': ['Wheelchair accessible entr...   \n",
       "1062  {'Accessibility': ['Wheelchair accessible entr...   \n",
       "1063  {'Accessibility': None, 'Amenities': None, 'At...   \n",
       "1064  {'Accessibility': None, 'Amenities': ['Good fo...   \n",
       "1065  {'Accessibility': ['Wheelchair accessible entr...   \n",
       "...                                                 ...   \n",
       "2117  {'Accessibility': ['Wheelchair accessible entr...   \n",
       "2118  {'Accessibility': ['Wheelchair accessible entr...   \n",
       "2119  {'Accessibility': None, 'Amenities': ['Good fo...   \n",
       "2120  {'Accessibility': ['Wheelchair accessible entr...   \n",
       "2121  {'Accessibility': ['Wheelchair accessible entr...   \n",
       "\n",
       "                                   state  \\\n",
       "1061                   Open ⋅ Closes 6PM   \n",
       "1062                Open ⋅ Closes 9:30PM   \n",
       "1063                  Permanently closed   \n",
       "1064                                None   \n",
       "1065                 Closed ⋅ Opens 11AM   \n",
       "...                                  ...   \n",
       "2117              Closed ⋅ Opens 5AM Wed   \n",
       "2118                                None   \n",
       "2119                  Permanently closed   \n",
       "2120  Closes soon ⋅ 8PM ⋅ Opens 10AM Wed   \n",
       "2121                            Open now   \n",
       "\n",
       "                                       relative_results  \\\n",
       "1061  [0x80c2c78249aba68f:0x35bf16ce61be751d, 0x80c2...   \n",
       "1062                                               None   \n",
       "1063  [0x87ee974869295555:0x95f310d065882c9b, 0x87ec...   \n",
       "1064  [0x89c6c62a40f4b733:0x73bfeec1898f272b, 0x89c6...   \n",
       "1065  [0x7c00451360f80cf1:0x930291a38bab3132, 0x7c00...   \n",
       "...                                                 ...   \n",
       "2117  [0x86236042bd6449c7:0xa66964d7cee492e9, 0x8623...   \n",
       "2118  [0x88577667a96ecf81:0xb373c8243235954f, 0x8857...   \n",
       "2119  [0x87d8b38a7656662f:0x679d3a93c96ab599, 0x87d8...   \n",
       "2120  [0x872b154f290ece1b:0xc8081e971a081bd3, 0x872b...   \n",
       "2121  [0x54af8fe4525c8ce9:0xafd87d6ea50795f9, 0x54af...   \n",
       "\n",
       "                                                    url  duplex  \n",
       "1061  https://www.google.com/maps/place//data=!4m2!3...    True  \n",
       "1062  https://www.google.com/maps/place//data=!4m2!3...    True  \n",
       "1063  https://www.google.com/maps/place//data=!4m2!3...    True  \n",
       "1064  https://www.google.com/maps/place//data=!4m2!3...    True  \n",
       "1065  https://www.google.com/maps/place//data=!4m2!3...    True  \n",
       "...                                                 ...     ...  \n",
       "2117  https://www.google.com/maps/place//data=!4m2!3...    True  \n",
       "2118  https://www.google.com/maps/place//data=!4m2!3...    True  \n",
       "2119  https://www.google.com/maps/place//data=!4m2!3...    True  \n",
       "2120  https://www.google.com/maps/place//data=!4m2!3...    True  \n",
       "2121  https://www.google.com/maps/place//data=!4m2!3...    True  \n",
       "\n",
       "[1061 rows x 16 columns]"
      ]
     },
     "execution_count": 63,
     "metadata": {},
     "output_type": "execute_result"
    }
   ],
   "source": [
    "df_metasit['duplex'] = df_metasit.duplicated(subset=['gmap_id'])\n",
    "df_metasit[df_metasit.duplex]"
   ]
  },
  {
   "cell_type": "code",
   "execution_count": 64,
   "metadata": {},
   "outputs": [],
   "source": [
    "df_metasit.drop_duplicates(subset=['gmap_id'], inplace=True)"
   ]
  },
  {
   "cell_type": "code",
   "execution_count": 65,
   "metadata": {},
   "outputs": [
    {
     "name": "stdout",
     "output_type": "stream",
     "text": [
      "<class 'pandas.core.frame.DataFrame'>\n",
      "Index: 210953 entries, 0 to 212013\n",
      "Data columns (total 16 columns):\n",
      " #   Column            Non-Null Count   Dtype  \n",
      "---  ------            --------------   -----  \n",
      " 0   name              210953 non-null  object \n",
      " 1   address           209900 non-null  object \n",
      " 2   gmap_id           210953 non-null  object \n",
      " 3   description       72174 non-null   object \n",
      " 4   latitude          210953 non-null  float64\n",
      " 5   longitude         210953 non-null  float64\n",
      " 6   category          210953 non-null  object \n",
      " 7   avg_rating        210953 non-null  float64\n",
      " 8   num_of_reviews    210953 non-null  int64  \n",
      " 9   price             99738 non-null   object \n",
      " 10  hours             189013 non-null  object \n",
      " 11  MISC              209549 non-null  object \n",
      " 12  state             189848 non-null  object \n",
      " 13  relative_results  170277 non-null  object \n",
      " 14  url               210953 non-null  object \n",
      " 15  duplex            210953 non-null  bool   \n",
      "dtypes: bool(1), float64(3), int64(1), object(11)\n",
      "memory usage: 26.0+ MB\n"
     ]
    }
   ],
   "source": [
    "df_metasit.info()"
   ]
  },
  {
   "cell_type": "markdown",
   "metadata": {},
   "source": [
    "***Hay 1053 LOCALES SIN DIRECCIÓN*** :  se les coloca temporalmente el valor de ''"
   ]
  },
  {
   "cell_type": "code",
   "execution_count": 66,
   "metadata": {},
   "outputs": [],
   "source": [
    "df_metasit.address = df_metasit.address.fillna('')"
   ]
  },
  {
   "cell_type": "markdown",
   "metadata": {},
   "source": [
    "***SEPARACIÓN de la columna ADDRESS en 3 columnas: Calle-Num-Ciudad, Estado2, CP***"
   ]
  },
  {
   "cell_type": "code",
   "execution_count": 67,
   "metadata": {},
   "outputs": [],
   "source": [
    "df_metasit[['NOMBRE','DIRECCION']] = df_metasit.address.str.split(', ', n=1, expand=True)\n",
    "df_metasit[['CALLE-NUM-CIUDAD', 'CODIGOPOSTAL5']] = df_metasit.DIRECCION.str.rsplit(', ', n=1, expand=True)\n",
    "df_metasit[['ESTADO2', 'CP']] = df_metasit.CODIGOPOSTAL5.str.split(' ', n=1, expand=True)"
   ]
  },
  {
   "cell_type": "code",
   "execution_count": 68,
   "metadata": {},
   "outputs": [
    {
     "data": {
      "text/html": [
       "<div>\n",
       "<style scoped>\n",
       "    .dataframe tbody tr th:only-of-type {\n",
       "        vertical-align: middle;\n",
       "    }\n",
       "\n",
       "    .dataframe tbody tr th {\n",
       "        vertical-align: top;\n",
       "    }\n",
       "\n",
       "    .dataframe thead th {\n",
       "        text-align: right;\n",
       "    }\n",
       "</style>\n",
       "<table border=\"1\" class=\"dataframe\">\n",
       "  <thead>\n",
       "    <tr style=\"text-align: right;\">\n",
       "      <th></th>\n",
       "      <th>name</th>\n",
       "      <th>address</th>\n",
       "      <th>CALLE-NUM-CIUDAD</th>\n",
       "      <th>CODIGOPOSTAL5</th>\n",
       "      <th>ESTADO2</th>\n",
       "      <th>CP</th>\n",
       "    </tr>\n",
       "  </thead>\n",
       "  <tbody>\n",
       "    <tr>\n",
       "      <th>107532</th>\n",
       "      <td>Shell</td>\n",
       "      <td>Shell, 6400 N Henney Rd, Coyle, OK 73027</td>\n",
       "      <td>6400 N Henney Rd, Coyle</td>\n",
       "      <td>OK 73027</td>\n",
       "      <td>OK</td>\n",
       "      <td>73027</td>\n",
       "    </tr>\n",
       "    <tr>\n",
       "      <th>86952</th>\n",
       "      <td>517 Wingz</td>\n",
       "      <td>517 Wingz, 312 Brown St, Uvalda, GA 30473</td>\n",
       "      <td>312 Brown St, Uvalda</td>\n",
       "      <td>GA 30473</td>\n",
       "      <td>GA</td>\n",
       "      <td>30473</td>\n",
       "    </tr>\n",
       "    <tr>\n",
       "      <th>52354</th>\n",
       "      <td>New York Bagel Airline</td>\n",
       "      <td>New York Bagel Airline, 13200 Airline Hwy, Bat...</td>\n",
       "      <td>13200 Airline Hwy, Baton Rouge</td>\n",
       "      <td>LA 70817</td>\n",
       "      <td>LA</td>\n",
       "      <td>70817</td>\n",
       "    </tr>\n",
       "    <tr>\n",
       "      <th>33562</th>\n",
       "      <td>Garrett Fountain (Garrett)</td>\n",
       "      <td>Garrett Fountain (Garrett), 6241 KY-550, Garre...</td>\n",
       "      <td>6241 KY-550, Garrett</td>\n",
       "      <td>KY 41630</td>\n",
       "      <td>KY</td>\n",
       "      <td>41630</td>\n",
       "    </tr>\n",
       "    <tr>\n",
       "      <th>39394</th>\n",
       "      <td>Hawaiian Bros Island Grill</td>\n",
       "      <td>Hawaiian Bros Island Grill, 4030 S Noland Rd, ...</td>\n",
       "      <td>4030 S Noland Rd, Independence</td>\n",
       "      <td>MO 64055</td>\n",
       "      <td>MO</td>\n",
       "      <td>64055</td>\n",
       "    </tr>\n",
       "  </tbody>\n",
       "</table>\n",
       "</div>"
      ],
      "text/plain": [
       "                              name  \\\n",
       "107532                       Shell   \n",
       "86952                    517 Wingz   \n",
       "52354       New York Bagel Airline   \n",
       "33562   Garrett Fountain (Garrett)   \n",
       "39394   Hawaiian Bros Island Grill   \n",
       "\n",
       "                                                  address  \\\n",
       "107532           Shell, 6400 N Henney Rd, Coyle, OK 73027   \n",
       "86952           517 Wingz, 312 Brown St, Uvalda, GA 30473   \n",
       "52354   New York Bagel Airline, 13200 Airline Hwy, Bat...   \n",
       "33562   Garrett Fountain (Garrett), 6241 KY-550, Garre...   \n",
       "39394   Hawaiian Bros Island Grill, 4030 S Noland Rd, ...   \n",
       "\n",
       "                      CALLE-NUM-CIUDAD CODIGOPOSTAL5 ESTADO2     CP  \n",
       "107532         6400 N Henney Rd, Coyle      OK 73027      OK  73027  \n",
       "86952             312 Brown St, Uvalda      GA 30473      GA  30473  \n",
       "52354   13200 Airline Hwy, Baton Rouge      LA 70817      LA  70817  \n",
       "33562             6241 KY-550, Garrett      KY 41630      KY  41630  \n",
       "39394   4030 S Noland Rd, Independence      MO 64055      MO  64055  "
      ]
     },
     "execution_count": 68,
     "metadata": {},
     "output_type": "execute_result"
    }
   ],
   "source": [
    "df_metasit[['name','address','CALLE-NUM-CIUDAD', 'CODIGOPOSTAL5','ESTADO2', 'CP']].sample(5)"
   ]
  },
  {
   "cell_type": "code",
   "execution_count": 69,
   "metadata": {},
   "outputs": [],
   "source": [
    "df_metasit.drop(columns=['NOMBRE','DIRECCION','CODIGOPOSTAL5','duplex'],inplace=True)\n",
    "df_metasit.address = df_metasit.address.replace('',pd.NA)"
   ]
  },
  {
   "cell_type": "code",
   "execution_count": 74,
   "metadata": {},
   "outputs": [],
   "source": [
    "df_metasit.name = df_metasit.name.str.title()\n",
    "df_metasit.MISC = df_metasit.MISC.str.lower()\n",
    "df_metasit.category = df_metasit.category.str.lower()"
   ]
  },
  {
   "cell_type": "code",
   "execution_count": 81,
   "metadata": {},
   "outputs": [
    {
     "data": {
      "text/html": [
       "<div>\n",
       "<style scoped>\n",
       "    .dataframe tbody tr th:only-of-type {\n",
       "        vertical-align: middle;\n",
       "    }\n",
       "\n",
       "    .dataframe tbody tr th {\n",
       "        vertical-align: top;\n",
       "    }\n",
       "\n",
       "    .dataframe thead th {\n",
       "        text-align: right;\n",
       "    }\n",
       "</style>\n",
       "<table border=\"1\" class=\"dataframe\">\n",
       "  <thead>\n",
       "    <tr style=\"text-align: right;\">\n",
       "      <th></th>\n",
       "      <th>name</th>\n",
       "      <th>address</th>\n",
       "      <th>gmap_id</th>\n",
       "      <th>description</th>\n",
       "      <th>latitude</th>\n",
       "      <th>longitude</th>\n",
       "      <th>category</th>\n",
       "      <th>avg_rating</th>\n",
       "      <th>num_of_reviews</th>\n",
       "      <th>price</th>\n",
       "      <th>hours</th>\n",
       "      <th>MISC</th>\n",
       "      <th>state</th>\n",
       "      <th>relative_results</th>\n",
       "      <th>url</th>\n",
       "      <th>CALLE-NUM-CIUDAD</th>\n",
       "      <th>ESTADO2</th>\n",
       "      <th>CP</th>\n",
       "    </tr>\n",
       "  </thead>\n",
       "  <tbody>\n",
       "    <tr>\n",
       "      <th>2</th>\n",
       "      <td>Sweet Rewards Gluten Free Bakery, Llc</td>\n",
       "      <td>Sweet Rewards Gluten Free Bakery, LLC, 85 NE D...</td>\n",
       "      <td>0x87ec235c54d25b31:0x3b75fb5facc602f</td>\n",
       "      <td>None</td>\n",
       "      <td>41.616079</td>\n",
       "      <td>-93.865487</td>\n",
       "      <td>NaN</td>\n",
       "      <td>4.7</td>\n",
       "      <td>21</td>\n",
       "      <td>None</td>\n",
       "      <td>[[Thursday, 10AM–5:30PM], [Friday, 10AM–5:30PM...</td>\n",
       "      <td>NaN</td>\n",
       "      <td>Permanently closed</td>\n",
       "      <td>[0x87ee974869295555:0x95f310d065882c9b, 0x87ec...</td>\n",
       "      <td>https://www.google.com/maps/place//data=!4m2!3...</td>\n",
       "      <td>LLC, 85 NE Dartmoor Dr, Waukee</td>\n",
       "      <td>IA</td>\n",
       "      <td>50263</td>\n",
       "    </tr>\n",
       "    <tr>\n",
       "      <th>6</th>\n",
       "      <td>Fresh Point Country Buffet</td>\n",
       "      <td>Fresh Point Country Buffet, 10525 US-19, Pinel...</td>\n",
       "      <td>0x88c2e4e34f1ed783:0x76c5da381c499d79</td>\n",
       "      <td>None</td>\n",
       "      <td>27.867489</td>\n",
       "      <td>-82.702971</td>\n",
       "      <td>NaN</td>\n",
       "      <td>5.0</td>\n",
       "      <td>2</td>\n",
       "      <td>None</td>\n",
       "      <td>[[Thursday, 11AM–9PM], [Friday, 11AM–9PM], [Sa...</td>\n",
       "      <td>NaN</td>\n",
       "      <td>Permanently closed</td>\n",
       "      <td>[0x88c2e5593fbd022b:0x2ccd7a719849c9f7, 0x88c2...</td>\n",
       "      <td>https://www.google.com/maps/place//data=!4m2!3...</td>\n",
       "      <td>10525 US-19, Pinellas Park</td>\n",
       "      <td>FL</td>\n",
       "      <td>33782</td>\n",
       "    </tr>\n",
       "    <tr>\n",
       "      <th>10</th>\n",
       "      <td>The Aynor Inn</td>\n",
       "      <td>The Aynor Inn, 343 8th Ave, Aynor, SC 29511</td>\n",
       "      <td>0x890007d78c3e5ab9:0x4f105096aaef191d</td>\n",
       "      <td>None</td>\n",
       "      <td>33.996785</td>\n",
       "      <td>-79.202560</td>\n",
       "      <td>NaN</td>\n",
       "      <td>4.3</td>\n",
       "      <td>2</td>\n",
       "      <td>None</td>\n",
       "      <td>[[Thursday, 11AM–2PM], [Friday, 11AM–2PM], [Sa...</td>\n",
       "      <td>NaN</td>\n",
       "      <td>Permanently closed</td>\n",
       "      <td>[0x890007d7258551b9:0xf7aae370beb052c6, 0x8900...</td>\n",
       "      <td>https://www.google.com/maps/place//data=!4m2!3...</td>\n",
       "      <td>343 8th Ave, Aynor</td>\n",
       "      <td>SC</td>\n",
       "      <td>29511</td>\n",
       "    </tr>\n",
       "    <tr>\n",
       "      <th>11</th>\n",
       "      <td>Paula'S Kitchen</td>\n",
       "      <td>Paula's Kitchen, 777 Elmwood Ave, Providence, ...</td>\n",
       "      <td>0x89e44fe1c2a2a2c3:0x5fc9f6751fb29737</td>\n",
       "      <td>None</td>\n",
       "      <td>41.790994</td>\n",
       "      <td>-71.422631</td>\n",
       "      <td>NaN</td>\n",
       "      <td>4.7</td>\n",
       "      <td>18</td>\n",
       "      <td>None</td>\n",
       "      <td>[[Thursday, 11AM–7PM], [Friday, 11AM–7PM], [Sa...</td>\n",
       "      <td>NaN</td>\n",
       "      <td>Permanently closed</td>\n",
       "      <td>None</td>\n",
       "      <td>https://www.google.com/maps/place//data=!4m2!3...</td>\n",
       "      <td>777 Elmwood Ave, Providence</td>\n",
       "      <td>RI</td>\n",
       "      <td>02907</td>\n",
       "    </tr>\n",
       "    <tr>\n",
       "      <th>19</th>\n",
       "      <td>Off The Hoof</td>\n",
       "      <td>Off The Hoof, 201 E 4th St, Santa Ana, CA 92701</td>\n",
       "      <td>0x80dcd95d192d988b:0x68795f58e35bf888</td>\n",
       "      <td>None</td>\n",
       "      <td>33.748329</td>\n",
       "      <td>-117.866045</td>\n",
       "      <td>NaN</td>\n",
       "      <td>4.0</td>\n",
       "      <td>3</td>\n",
       "      <td>None</td>\n",
       "      <td>[[Thursday, 11AM–10PM], [Friday, 11AM–10PM], [...</td>\n",
       "      <td>NaN</td>\n",
       "      <td>Permanently closed</td>\n",
       "      <td>None</td>\n",
       "      <td>https://www.google.com/maps/place//data=!4m2!3...</td>\n",
       "      <td>201 E 4th St, Santa Ana</td>\n",
       "      <td>CA</td>\n",
       "      <td>92701</td>\n",
       "    </tr>\n",
       "    <tr>\n",
       "      <th>...</th>\n",
       "      <td>...</td>\n",
       "      <td>...</td>\n",
       "      <td>...</td>\n",
       "      <td>...</td>\n",
       "      <td>...</td>\n",
       "      <td>...</td>\n",
       "      <td>...</td>\n",
       "      <td>...</td>\n",
       "      <td>...</td>\n",
       "      <td>...</td>\n",
       "      <td>...</td>\n",
       "      <td>...</td>\n",
       "      <td>...</td>\n",
       "      <td>...</td>\n",
       "      <td>...</td>\n",
       "      <td>...</td>\n",
       "      <td>...</td>\n",
       "      <td>...</td>\n",
       "    </tr>\n",
       "    <tr>\n",
       "      <th>211998</th>\n",
       "      <td>Mac'S Bbq</td>\n",
       "      <td>Mac's BBQ, 630 Hollywood Dr, Jackson, TN 38301</td>\n",
       "      <td>0x887ea119d9e8fd09:0x17df17c499c93f0d</td>\n",
       "      <td>BBQ sandwiches &amp; plates with typical sides dis...</td>\n",
       "      <td>35.622428</td>\n",
       "      <td>-88.835994</td>\n",
       "      <td>NaN</td>\n",
       "      <td>4.5</td>\n",
       "      <td>58</td>\n",
       "      <td>None</td>\n",
       "      <td>[[Monday, 10AM–8PM], [Tuesday, 10AM–8PM], [Wed...</td>\n",
       "      <td>NaN</td>\n",
       "      <td>Permanently closed</td>\n",
       "      <td>[0x887ea0d73f82fd15:0x70928f5e82f18da0, 0x887e...</td>\n",
       "      <td>https://www.google.com/maps/place//data=!4m2!3...</td>\n",
       "      <td>630 Hollywood Dr, Jackson</td>\n",
       "      <td>TN</td>\n",
       "      <td>38301</td>\n",
       "    </tr>\n",
       "    <tr>\n",
       "      <th>211999</th>\n",
       "      <td>Jackson Pizza</td>\n",
       "      <td>Jackson Pizza, 81 Cassville Rd, Jackson Townsh...</td>\n",
       "      <td>0x89c17b3b65b4680d:0x40a43d960a97a0</td>\n",
       "      <td>None</td>\n",
       "      <td>40.109785</td>\n",
       "      <td>-74.387818</td>\n",
       "      <td>NaN</td>\n",
       "      <td>4.5</td>\n",
       "      <td>28</td>\n",
       "      <td>None</td>\n",
       "      <td>[[Monday, 11AM–9PM], [Tuesday, 11AM–9PM], [Wed...</td>\n",
       "      <td>NaN</td>\n",
       "      <td>Permanently closed</td>\n",
       "      <td>None</td>\n",
       "      <td>https://www.google.com/maps/place//data=!4m2!3...</td>\n",
       "      <td>81 Cassville Rd, Jackson Township</td>\n",
       "      <td>NJ</td>\n",
       "      <td>08527</td>\n",
       "    </tr>\n",
       "    <tr>\n",
       "      <th>212000</th>\n",
       "      <td>Royal Bavarian Schnitzel Haus</td>\n",
       "      <td>Royal Bavarian Schnitzel Haus, 1085 NE 79th St...</td>\n",
       "      <td>0x88d9b3cd3f274101:0x64335c60e4e3065e</td>\n",
       "      <td>Old-world Bavarian food hall with a menu of tr...</td>\n",
       "      <td>25.848295</td>\n",
       "      <td>-80.174799</td>\n",
       "      <td>NaN</td>\n",
       "      <td>4.3</td>\n",
       "      <td>144</td>\n",
       "      <td>$$</td>\n",
       "      <td>[[Monday, 5–11PM], [Tuesday, 6–11PM], [Wednesd...</td>\n",
       "      <td>NaN</td>\n",
       "      <td>Permanently closed</td>\n",
       "      <td>[0x88d9b42010ea8cc1:0x564f1011f4820906, 0x88d9...</td>\n",
       "      <td>https://www.google.com/maps/place//data=!4m2!3...</td>\n",
       "      <td>1085 NE 79th St, Miami</td>\n",
       "      <td>FL</td>\n",
       "      <td>33138</td>\n",
       "    </tr>\n",
       "    <tr>\n",
       "      <th>212001</th>\n",
       "      <td>Panheads Pizzeria</td>\n",
       "      <td>Panheads Pizzeria, 4085 S Ridgewood Ave, Port ...</td>\n",
       "      <td>0x88e6d78a11694343:0xaed512a21b391dcd</td>\n",
       "      <td>None</td>\n",
       "      <td>29.142263</td>\n",
       "      <td>-80.986379</td>\n",
       "      <td>NaN</td>\n",
       "      <td>4.4</td>\n",
       "      <td>98</td>\n",
       "      <td>None</td>\n",
       "      <td>[[Monday, 4–9PM], [Tuesday, 4–9PM], [Wednesday...</td>\n",
       "      <td>NaN</td>\n",
       "      <td>Permanently closed</td>\n",
       "      <td>[0x88e6d7fe1cee97f5:0xe18598f350e28d5a, 0x88e6...</td>\n",
       "      <td>https://www.google.com/maps/place//data=!4m2!3...</td>\n",
       "      <td>4085 S Ridgewood Ave, Port Orange</td>\n",
       "      <td>FL</td>\n",
       "      <td>32127</td>\n",
       "    </tr>\n",
       "    <tr>\n",
       "      <th>212007</th>\n",
       "      <td>La Casa Mexican Restaurant</td>\n",
       "      <td>La Casa Mexican Restaurant, 14 Bee Branch Rd, ...</td>\n",
       "      <td>0x87d268b0fbbfd4b9:0xeec251970fae404c</td>\n",
       "      <td>None</td>\n",
       "      <td>35.384414</td>\n",
       "      <td>-92.215903</td>\n",
       "      <td>NaN</td>\n",
       "      <td>4.5</td>\n",
       "      <td>76</td>\n",
       "      <td>$$</td>\n",
       "      <td>[[Monday, 11AM–7PM], [Tuesday, 11AM–7PM], [Wed...</td>\n",
       "      <td>NaN</td>\n",
       "      <td>Permanently closed</td>\n",
       "      <td>[0x87d279d0d5c14cc3:0xf0f3164d7467bd5, 0x87d24...</td>\n",
       "      <td>https://www.google.com/maps/place//data=!4m2!3...</td>\n",
       "      <td>14 Bee Branch Rd, Quitman</td>\n",
       "      <td>AR</td>\n",
       "      <td>72131</td>\n",
       "    </tr>\n",
       "  </tbody>\n",
       "</table>\n",
       "<p>49978 rows × 18 columns</p>\n",
       "</div>"
      ],
      "text/plain": [
       "                                         name  \\\n",
       "2       Sweet Rewards Gluten Free Bakery, Llc   \n",
       "6                  Fresh Point Country Buffet   \n",
       "10                              The Aynor Inn   \n",
       "11                            Paula'S Kitchen   \n",
       "19                               Off The Hoof   \n",
       "...                                       ...   \n",
       "211998                              Mac'S Bbq   \n",
       "211999                          Jackson Pizza   \n",
       "212000          Royal Bavarian Schnitzel Haus   \n",
       "212001                      Panheads Pizzeria   \n",
       "212007             La Casa Mexican Restaurant   \n",
       "\n",
       "                                                  address  \\\n",
       "2       Sweet Rewards Gluten Free Bakery, LLC, 85 NE D...   \n",
       "6       Fresh Point Country Buffet, 10525 US-19, Pinel...   \n",
       "10            The Aynor Inn, 343 8th Ave, Aynor, SC 29511   \n",
       "11      Paula's Kitchen, 777 Elmwood Ave, Providence, ...   \n",
       "19        Off The Hoof, 201 E 4th St, Santa Ana, CA 92701   \n",
       "...                                                   ...   \n",
       "211998     Mac's BBQ, 630 Hollywood Dr, Jackson, TN 38301   \n",
       "211999  Jackson Pizza, 81 Cassville Rd, Jackson Townsh...   \n",
       "212000  Royal Bavarian Schnitzel Haus, 1085 NE 79th St...   \n",
       "212001  Panheads Pizzeria, 4085 S Ridgewood Ave, Port ...   \n",
       "212007  La Casa Mexican Restaurant, 14 Bee Branch Rd, ...   \n",
       "\n",
       "                                      gmap_id  \\\n",
       "2        0x87ec235c54d25b31:0x3b75fb5facc602f   \n",
       "6       0x88c2e4e34f1ed783:0x76c5da381c499d79   \n",
       "10      0x890007d78c3e5ab9:0x4f105096aaef191d   \n",
       "11      0x89e44fe1c2a2a2c3:0x5fc9f6751fb29737   \n",
       "19      0x80dcd95d192d988b:0x68795f58e35bf888   \n",
       "...                                       ...   \n",
       "211998  0x887ea119d9e8fd09:0x17df17c499c93f0d   \n",
       "211999    0x89c17b3b65b4680d:0x40a43d960a97a0   \n",
       "212000  0x88d9b3cd3f274101:0x64335c60e4e3065e   \n",
       "212001  0x88e6d78a11694343:0xaed512a21b391dcd   \n",
       "212007  0x87d268b0fbbfd4b9:0xeec251970fae404c   \n",
       "\n",
       "                                              description   latitude  \\\n",
       "2                                                    None  41.616079   \n",
       "6                                                    None  27.867489   \n",
       "10                                                   None  33.996785   \n",
       "11                                                   None  41.790994   \n",
       "19                                                   None  33.748329   \n",
       "...                                                   ...        ...   \n",
       "211998  BBQ sandwiches & plates with typical sides dis...  35.622428   \n",
       "211999                                               None  40.109785   \n",
       "212000  Old-world Bavarian food hall with a menu of tr...  25.848295   \n",
       "212001                                               None  29.142263   \n",
       "212007                                               None  35.384414   \n",
       "\n",
       "         longitude  category  avg_rating  num_of_reviews price  \\\n",
       "2       -93.865487       NaN         4.7              21  None   \n",
       "6       -82.702971       NaN         5.0               2  None   \n",
       "10      -79.202560       NaN         4.3               2  None   \n",
       "11      -71.422631       NaN         4.7              18  None   \n",
       "19     -117.866045       NaN         4.0               3  None   \n",
       "...            ...       ...         ...             ...   ...   \n",
       "211998  -88.835994       NaN         4.5              58  None   \n",
       "211999  -74.387818       NaN         4.5              28  None   \n",
       "212000  -80.174799       NaN         4.3             144    $$   \n",
       "212001  -80.986379       NaN         4.4              98  None   \n",
       "212007  -92.215903       NaN         4.5              76    $$   \n",
       "\n",
       "                                                    hours  MISC  \\\n",
       "2       [[Thursday, 10AM–5:30PM], [Friday, 10AM–5:30PM...   NaN   \n",
       "6       [[Thursday, 11AM–9PM], [Friday, 11AM–9PM], [Sa...   NaN   \n",
       "10      [[Thursday, 11AM–2PM], [Friday, 11AM–2PM], [Sa...   NaN   \n",
       "11      [[Thursday, 11AM–7PM], [Friday, 11AM–7PM], [Sa...   NaN   \n",
       "19      [[Thursday, 11AM–10PM], [Friday, 11AM–10PM], [...   NaN   \n",
       "...                                                   ...   ...   \n",
       "211998  [[Monday, 10AM–8PM], [Tuesday, 10AM–8PM], [Wed...   NaN   \n",
       "211999  [[Monday, 11AM–9PM], [Tuesday, 11AM–9PM], [Wed...   NaN   \n",
       "212000  [[Monday, 5–11PM], [Tuesday, 6–11PM], [Wednesd...   NaN   \n",
       "212001  [[Monday, 4–9PM], [Tuesday, 4–9PM], [Wednesday...   NaN   \n",
       "212007  [[Monday, 11AM–7PM], [Tuesday, 11AM–7PM], [Wed...   NaN   \n",
       "\n",
       "                     state                                   relative_results  \\\n",
       "2       Permanently closed  [0x87ee974869295555:0x95f310d065882c9b, 0x87ec...   \n",
       "6       Permanently closed  [0x88c2e5593fbd022b:0x2ccd7a719849c9f7, 0x88c2...   \n",
       "10      Permanently closed  [0x890007d7258551b9:0xf7aae370beb052c6, 0x8900...   \n",
       "11      Permanently closed                                               None   \n",
       "19      Permanently closed                                               None   \n",
       "...                    ...                                                ...   \n",
       "211998  Permanently closed  [0x887ea0d73f82fd15:0x70928f5e82f18da0, 0x887e...   \n",
       "211999  Permanently closed                                               None   \n",
       "212000  Permanently closed  [0x88d9b42010ea8cc1:0x564f1011f4820906, 0x88d9...   \n",
       "212001  Permanently closed  [0x88e6d7fe1cee97f5:0xe18598f350e28d5a, 0x88e6...   \n",
       "212007  Permanently closed  [0x87d279d0d5c14cc3:0xf0f3164d7467bd5, 0x87d24...   \n",
       "\n",
       "                                                      url  \\\n",
       "2       https://www.google.com/maps/place//data=!4m2!3...   \n",
       "6       https://www.google.com/maps/place//data=!4m2!3...   \n",
       "10      https://www.google.com/maps/place//data=!4m2!3...   \n",
       "11      https://www.google.com/maps/place//data=!4m2!3...   \n",
       "19      https://www.google.com/maps/place//data=!4m2!3...   \n",
       "...                                                   ...   \n",
       "211998  https://www.google.com/maps/place//data=!4m2!3...   \n",
       "211999  https://www.google.com/maps/place//data=!4m2!3...   \n",
       "212000  https://www.google.com/maps/place//data=!4m2!3...   \n",
       "212001  https://www.google.com/maps/place//data=!4m2!3...   \n",
       "212007  https://www.google.com/maps/place//data=!4m2!3...   \n",
       "\n",
       "                         CALLE-NUM-CIUDAD ESTADO2     CP  \n",
       "2          LLC, 85 NE Dartmoor Dr, Waukee      IA  50263  \n",
       "6              10525 US-19, Pinellas Park      FL  33782  \n",
       "10                     343 8th Ave, Aynor      SC  29511  \n",
       "11            777 Elmwood Ave, Providence      RI  02907  \n",
       "19                201 E 4th St, Santa Ana      CA  92701  \n",
       "...                                   ...     ...    ...  \n",
       "211998          630 Hollywood Dr, Jackson      TN  38301  \n",
       "211999  81 Cassville Rd, Jackson Township      NJ  08527  \n",
       "212000             1085 NE 79th St, Miami      FL  33138  \n",
       "212001  4085 S Ridgewood Ave, Port Orange      FL  32127  \n",
       "212007          14 Bee Branch Rd, Quitman      AR  72131  \n",
       "\n",
       "[49978 rows x 18 columns]"
      ]
     },
     "execution_count": 81,
     "metadata": {},
     "output_type": "execute_result"
    }
   ],
   "source": [
    "df_metasit[df_metasit.state=='Permanently closed']"
   ]
  },
  {
   "cell_type": "markdown",
   "metadata": {},
   "source": [
    "#### ***<u>COMENTARIO</u>***\n",
    "Hay 49978 LOCALES CERRADOS, se deberían eliminar esos registros.\n",
    "Las columnas **state** porque no tiene sentido y **price** deberían eliminarse porque la cantidades de datos nulos sobrepasa los 50%.\n",
    "\n",
    "*Se obtuvo las columnas de Calle-Num-Ciudad, Estado2, CP(código postal) para posteriores análisis*"
   ]
  }
 ],
 "metadata": {
  "kernelspec": {
   "display_name": ".venv10",
   "language": "python",
   "name": "python3"
  },
  "language_info": {
   "codemirror_mode": {
    "name": "ipython",
    "version": 3
   },
   "file_extension": ".py",
   "mimetype": "text/x-python",
   "name": "python",
   "nbconvert_exporter": "python",
   "pygments_lexer": "ipython3",
   "version": "3.11.4"
  }
 },
 "nbformat": 4,
 "nbformat_minor": 2
}

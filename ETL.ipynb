{
 "cells": [
  {
   "cell_type": "markdown",
   "metadata": {},
   "source": [
    "# Extracción de datos Datasets Google Maps y YELP\n"
   ]
  },
  {
   "cell_type": "markdown",
   "metadata": {},
   "source": [
    "### Importaciones\n"
   ]
  },
  {
   "cell_type": "code",
   "execution_count": 1,
   "metadata": {},
   "outputs": [],
   "source": [
    "import pandas as pd\n",
    "import numpy as np\n",
    "import json\n",
    "import datetime\n",
    "import os\n",
    "import pyarrow.parquet as pq\n",
    "from datetime import datetime"
   ]
  },
  {
   "cell_type": "markdown",
   "metadata": {},
   "source": [
    "### Utiles\n"
   ]
  },
  {
   "cell_type": "code",
   "execution_count": 2,
   "metadata": {},
   "outputs": [],
   "source": [
    "state_abreviations = [\n",
    "    \"AL\",\n",
    "    \"AK\",\n",
    "    \"AZ\",\n",
    "    \"AR\",\n",
    "    \"CA\",\n",
    "    \"CO\",\n",
    "    \"CT\",\n",
    "    \"DE\",\n",
    "    \"FL\",\n",
    "    \"GA\",\n",
    "    \"HI\",\n",
    "    \"ID\",\n",
    "    \"IL\",\n",
    "    \"IN\",\n",
    "    \"IA\",\n",
    "    \"KS\",\n",
    "    \"KY\",\n",
    "    \"LA\",\n",
    "    \"ME\",\n",
    "    \"MD\",\n",
    "    \"MA\",\n",
    "    \"MI\",\n",
    "    \"MN\",\n",
    "    \"MS\",\n",
    "    \"MO\",\n",
    "    \"MT\",\n",
    "    \"NE\",\n",
    "    \"NV\",\n",
    "    \"NH\",\n",
    "    \"NJ\",\n",
    "    \"NM\",\n",
    "    \"NY\",\n",
    "    \"NC\",\n",
    "    \"ND\",\n",
    "    \"OH\",\n",
    "    \"OK\",\n",
    "    \"OR\",\n",
    "    \"PA\",\n",
    "    \"RI\",\n",
    "    \"SC\",\n",
    "    \"SD\",\n",
    "    \"TN\",\n",
    "    \"TX\",\n",
    "    \"UT\",\n",
    "    \"VT\",\n",
    "    \"VA\",\n",
    "    \"WA\",\n",
    "    \"WV\",\n",
    "    \"WI\",\n",
    "    \"WY\",\n",
    "]\n",
    "\n",
    "state_dictionary = {\n",
    "    \"AL\": \"Alabama\",\n",
    "    \"AK\": \"Alaska\",\n",
    "    \"AZ\": \"Arizona\",\n",
    "    \"AR\": \"Arkansas\",\n",
    "    \"CA\": \"California\",\n",
    "    \"CO\": \"Colorado\",\n",
    "    \"CT\": \"Connecticut\",\n",
    "    \"DE\": \"Delaware\",\n",
    "    \"FL\": \"Florida\",\n",
    "    \"GA\": \"Georgia\",\n",
    "    \"HI\": \"Hawaii\",\n",
    "    \"ID\": \"Idaho\",\n",
    "    \"IL\": \"Illinois\",\n",
    "    \"IN\": \"Indiana\",\n",
    "    \"IA\": \"Iowa\",\n",
    "    \"KS\": \"Kansas\",\n",
    "    \"KY\": \"Kentucky\",\n",
    "    \"LA\": \"Louisiana\",\n",
    "    \"ME\": \"Maine\",\n",
    "    \"MD\": \"Maryland\",\n",
    "    \"MA\": \"Massachusetts\",\n",
    "    \"MI\": \"Michigan\",\n",
    "    \"MN\": \"Minnesota\",\n",
    "    \"MS\": \"Mississippi\",\n",
    "    \"MO\": \"Missouri\",\n",
    "    \"MT\": \"Montana\",\n",
    "    \"NE\": \"Nebraska\",\n",
    "    \"NV\": \"Nevada\",\n",
    "    \"NH\": \"New Hampshire\",\n",
    "    \"NJ\": \"New Jersey\",\n",
    "    \"NM\": \"New Mexico\",\n",
    "    \"NY\": \"New York\",\n",
    "    \"NC\": \"North Carolina\",\n",
    "    \"ND\": \"North Dakota\",\n",
    "    \"OH\": \"Ohio\",\n",
    "    \"OK\": \"Oklahoma\",\n",
    "    \"OR\": \"Oregon\",\n",
    "    \"PA\": \"Pennsylvania\",\n",
    "    \"RI\": \"Rhode Island\",\n",
    "    \"SC\": \"South Carolina\",\n",
    "    \"SD\": \"South Dakota\",\n",
    "    \"TN\": \"Tennessee\",\n",
    "    \"TX\": \"Texas\",\n",
    "    \"UT\": \"Utah\",\n",
    "    \"VT\": \"Vermont\",\n",
    "    \"VA\": \"Virginia\",\n",
    "    \"WA\": \"Washington\",\n",
    "    \"WV\": \"West Virginia\",\n",
    "    \"WI\": \"Wisconsin\",\n",
    "    \"WY\": \"Wyoming\",\n",
    "}"
   ]
  },
  {
   "cell_type": "code",
   "execution_count": 3,
   "metadata": {},
   "outputs": [
    {
     "ename": "FileExistsError",
     "evalue": "[WinError 183] No se puede crear un archivo que ya existe: 'Generated'",
     "output_type": "error",
     "traceback": [
      "\u001b[1;31m---------------------------------------------------------------------------\u001b[0m",
      "\u001b[1;31mFileExistsError\u001b[0m                           Traceback (most recent call last)",
      "Cell \u001b[1;32mIn[3], line 3\u001b[0m\n\u001b[0;32m      1\u001b[0m generated_dir \u001b[38;5;241m=\u001b[39m \u001b[38;5;124m\"\u001b[39m\u001b[38;5;124mGenerated\u001b[39m\u001b[38;5;124m\"\u001b[39m\n\u001b[1;32m----> 3\u001b[0m \u001b[43mos\u001b[49m\u001b[38;5;241;43m.\u001b[39;49m\u001b[43mmkdir\u001b[49m\u001b[43m(\u001b[49m\u001b[43mgenerated_dir\u001b[49m\u001b[43m)\u001b[49m\n\u001b[0;32m      4\u001b[0m os\u001b[38;5;241m.\u001b[39mchdir(generated_dir)\n\u001b[0;32m      5\u001b[0m os\u001b[38;5;241m.\u001b[39mmkdir(\u001b[38;5;124m\"\u001b[39m\u001b[38;5;124mGoogle\u001b[39m\u001b[38;5;124m\"\u001b[39m)\n",
      "\u001b[1;31mFileExistsError\u001b[0m: [WinError 183] No se puede crear un archivo que ya existe: 'Generated'"
     ]
    }
   ],
   "source": [
    "generated_dir = \"Generated\"\n",
    "\n",
    "os.mkdir(generated_dir)\n",
    "os.chdir(generated_dir)\n",
    "os.mkdir(\"Google\")\n",
    "os.mkdir(\"Yelp\")\n",
    "os.chdir(\"../\")\n",
    "\n",
    "os.getcwd()"
   ]
  },
  {
   "cell_type": "markdown",
   "metadata": {},
   "source": [
    "# 1. Extracción con los datasets de Google Maps\n"
   ]
  },
  {
   "cell_type": "markdown",
   "metadata": {},
   "source": [
    "## 1.1 Metada de Sitios\n"
   ]
  },
  {
   "cell_type": "markdown",
   "metadata": {},
   "source": [
    "Recorremos todo el directorio, lo hacemos archivo por archivo y línea por línea ya que no se puede abrir directamente los archivos por su dimensión y porque no están en formato de array, sino están constituidos en un registro por lìnea.\n",
    "Durante la lectura filtramos los que incluyan <code>Restaurant</code> en el campo de categoría, para alivianar el dataset final.\n"
   ]
  },
  {
   "cell_type": "code",
   "execution_count": null,
   "metadata": {},
   "outputs": [],
   "source": [
    "# Tiempo de Demora Medio: 51 segundos.\n",
    "lineas_json = []\n",
    "\n",
    "# Son 11 archivos con un ordinal, del 1 al 11\n",
    "for i in range(1, 12):\n",
    "    path = f\"Datasets/Google Maps/metadata-sitios/{i}.json\"\n",
    "    with open(path, \"r\") as file:\n",
    "        for l in file:\n",
    "            try:\n",
    "                linea_j = json.loads(l)\n",
    "                if \"restaurant\" in \" \".join(linea_j[\"category\"]).lower():\n",
    "                    lineas_json.append(linea_j)\n",
    "            except:\n",
    "                pass\n",
    "\n",
    "df = pd.DataFrame(lineas_json)\n",
    "\n",
    "df.head(3)"
   ]
  },
  {
   "cell_type": "code",
   "execution_count": null,
   "metadata": {},
   "outputs": [],
   "source": [
    "df.loc[5, \"address\"]"
   ]
  },
  {
   "cell_type": "markdown",
   "metadata": {},
   "source": [
    "Exportamos a formato Parquet\n"
   ]
  },
  {
   "cell_type": "code",
   "execution_count": null,
   "metadata": {},
   "outputs": [],
   "source": [
    "df.to_parquet(r\"Generated\\Google\\metada_sitios.parquet\")"
   ]
  },
  {
   "cell_type": "markdown",
   "metadata": {},
   "source": [
    "Tamaño Directorio <code>metadata-sitios</code>: 2.76 Gb\n",
    "\n",
    "Tamaño Archivo <code>metada_sitios.parquet</code>: 60.43 Mb\n"
   ]
  },
  {
   "cell_type": "code",
   "execution_count": null,
   "metadata": {},
   "outputs": [],
   "source": [
    "df.info()"
   ]
  },
  {
   "cell_type": "markdown",
   "metadata": {},
   "source": [
    "Dimensiones: 212.014 filas x 15 Columnas\n"
   ]
  },
  {
   "cell_type": "markdown",
   "metadata": {},
   "source": [
    "## 1.1.1 Obtención de información de Estados\n"
   ]
  },
  {
   "cell_type": "markdown",
   "metadata": {},
   "source": [
    "En base al campo <code>Address</code> obtenemos el estado donde se encuentra el negocio. Nos servirá para luego seleccionar los estados con más restaurantes.\n"
   ]
  },
  {
   "cell_type": "code",
   "execution_count": null,
   "metadata": {},
   "outputs": [],
   "source": [
    "def get_state_ab(st):\n",
    "    try:\n",
    "        state = st.split(\", \")[-1].split(\" \")[0]\n",
    "        if state in state_abreviations:\n",
    "            return state\n",
    "        else:\n",
    "            return np.nan\n",
    "    except:\n",
    "        return np.nan\n",
    "\n",
    "\n",
    "df[\"state_ab\"] = df[\"address\"].apply(get_state_ab)"
   ]
  },
  {
   "cell_type": "markdown",
   "metadata": {},
   "source": [
    "De esta manera conseguimos el top 5 de los estados con más restaurantes\n"
   ]
  },
  {
   "cell_type": "code",
   "execution_count": null,
   "metadata": {},
   "outputs": [],
   "source": [
    "top_5 = df[\"state_ab\"].value_counts().head(5).index.to_list()"
   ]
  },
  {
   "cell_type": "code",
   "execution_count": null,
   "metadata": {},
   "outputs": [],
   "source": [
    "top_5"
   ]
  },
  {
   "cell_type": "markdown",
   "metadata": {},
   "source": [
    "Completamos el campo estado que es más descriptivo\n"
   ]
  },
  {
   "cell_type": "code",
   "execution_count": null,
   "metadata": {},
   "outputs": [],
   "source": [
    "df[\"us_state\"] = df[\"state_ab\"].map(state_dictionary)"
   ]
  },
  {
   "cell_type": "code",
   "execution_count": null,
   "metadata": {},
   "outputs": [],
   "source": [
    "df[\"us_state\"].head(5)"
   ]
  },
  {
   "cell_type": "markdown",
   "metadata": {},
   "source": [
    "Obtenemos un arreglo de URLs de los archivos correspondientes para cada estado del top 5, con el fin de extraer los datos en un bucle.\n"
   ]
  },
  {
   "cell_type": "code",
   "execution_count": null,
   "metadata": {},
   "outputs": [],
   "source": [
    "top_5_url = [\n",
    "    f\"Datasets/Google Maps/reviews-estados/review-{state_dictionary[i].replace(' ', '_')}/\"\n",
    "    for i in top_5\n",
    "]\n",
    "\n",
    "\n",
    "\n",
    "top_5_url"
   ]
  },
  {
   "cell_type": "markdown",
   "metadata": {},
   "source": [
    "Creamos un diccionario con la cantidad de archivos por cada directorio de estados, con el fin de utilizarlo en un bucle en la extracción de datos.\n"
   ]
  },
  {
   "cell_type": "code",
   "execution_count": null,
   "metadata": {},
   "outputs": [],
   "source": [
    "cantidad_archivos = {}\n",
    "\n",
    "for i in top_5_url:\n",
    "    for j in os.walk(i):\n",
    "        cantidad_archivos[i] = len(j[2])\n",
    "\n",
    "cantidad_archivos"
   ]
  },
  {
   "cell_type": "markdown",
   "metadata": {},
   "source": [
    "Comprobación\n"
   ]
  },
  {
   "cell_type": "code",
   "execution_count": null,
   "metadata": {},
   "outputs": [],
   "source": [
    "for i in os.walk(\"Datasets/Google Maps/reviews-estados/review-Pennsylvania\"):\n",
    "    print(len(i[2]))"
   ]
  },
  {
   "cell_type": "code",
   "execution_count": null,
   "metadata": {},
   "outputs": [],
   "source": [
    "cantidad_archivos[\"Datasets/Google Maps/reviews-estados/review-Pennsylvania/\"]"
   ]
  },
  {
   "cell_type": "markdown",
   "metadata": {},
   "source": [
    "## 1.2 Reviews Estados\n"
   ]
  },
  {
   "cell_type": "markdown",
   "metadata": {},
   "source": [
    "Ya con los estados elegidos estamos en condiciones de ingestar los datos de las carpetas correspondientes dentro del directorio <code>reviews-estados</code>.\n",
    "Es información masiva lo que genera un archivo de grandes dimensiones, sin embargo previamente filtramos por el parámetro de año <code>2017-2019</code> valiéndonos del campo <code>time</code>, que tiene es un <code>timestamp</code>, pero con 3 digitos más que el usado por <code>datetime</code> de Python. Le agregamos el campo <code>Estado</code> que es más descriptivo.\n"
   ]
  },
  {
   "cell_type": "code",
   "execution_count": null,
   "metadata": {},
   "outputs": [],
   "source": [
    "### Demora 7 minutos y 40 segundos, 11 minutos, varía\n",
    "\n",
    "lineas_json_revs_google = []\n",
    "\n",
    "for i in top_5_url:\n",
    "    count = 0\n",
    "    for c in range(1, cantidad_archivos[i] + 1):\n",
    "        with open(str(i) + str(c) + \".json\", \"r\", encoding=\"utf-8\") as f:\n",
    "            for s in f:\n",
    "                linea = json.loads(s)\n",
    "                linea[\"anio\"] = datetime.datetime.fromtimestamp(\n",
    "                    linea[\"time\"] / 1000\n",
    "                ).year\n",
    "                linea[\"estado\"] = i.split(\"-\")[-1][:-1]\n",
    "\n",
    "                if linea[\"anio\"] in [2017, 2018, 2019]:\n",
    "                    lineas_json_revs_google.append(linea)\n",
    "\n",
    "df_revs_google = pd.DataFrame(lineas_json_revs_google)\n",
    "\n",
    "df_revs_google.head(3)"
   ]
  },
  {
   "cell_type": "code",
   "execution_count": null,
   "metadata": {},
   "outputs": [],
   "source": [
    "merge_site_reviews = pd.merge(df_revs_google, df, left_on=\"gmap_id\", right_on=\"gmap_id\")"
   ]
  },
  {
   "cell_type": "code",
   "execution_count": null,
   "metadata": {},
   "outputs": [],
   "source": [
    "merge_site_reviews"
   ]
  },
  {
   "cell_type": "code",
   "execution_count": null,
   "metadata": {},
   "outputs": [],
   "source": [
    "merge_site_reviews.to_parquet(r\"Generated\\Google\\merge_site_reviews.parquet\")"
   ]
  },
  {
   "cell_type": "code",
   "execution_count": null,
   "metadata": {},
   "outputs": [],
   "source": [
    "df_revs_google.to_parquet(r\"Generated\\Google\\reviews-estados.parquet\")"
   ]
  },
  {
   "cell_type": "markdown",
   "metadata": {},
   "source": [
    "Tamaño archivo: 760 Mb\n",
    "\n",
    "Tamaño dataset: 24.3 Gb\n"
   ]
  },
  {
   "cell_type": "code",
   "execution_count": null,
   "metadata": {},
   "outputs": [],
   "source": [
    "df_revs_google.info()"
   ]
  },
  {
   "cell_type": "markdown",
   "metadata": {},
   "source": [
    "Tamaño 8.339.179 filas x 10 Columnas.\n"
   ]
  },
  {
   "cell_type": "markdown",
   "metadata": {},
   "source": [
    "# 2. Extracción de los Dataset de YELP\n"
   ]
  },
  {
   "cell_type": "markdown",
   "metadata": {},
   "source": [
    "### 2.1 Business\n"
   ]
  },
  {
   "cell_type": "markdown",
   "metadata": {},
   "source": [
    "Contiene los datos de las entidades negocios de Yelp, a un primer vistazo tiene las columnas duplicadas, por lo que hay que hacer un recorte, ya que la segunda mitad tiene datos vacíos en su inmensa mayoría.\n"
   ]
  },
  {
   "cell_type": "code",
   "execution_count": null,
   "metadata": {},
   "outputs": [],
   "source": [
    "url_business = r\"Datasets\\Yelp\\business.pkl\"\n",
    "\n",
    "df_business = pd.read_pickle(url_business)\n",
    "\n",
    "df_business = df_business.iloc[:, :-14]"
   ]
  },
  {
   "cell_type": "code",
   "execution_count": null,
   "metadata": {},
   "outputs": [],
   "source": [
    "df_business.sample(3)"
   ]
  },
  {
   "cell_type": "code",
   "execution_count": null,
   "metadata": {},
   "outputs": [],
   "source": [
    "df_business.shape"
   ]
  },
  {
   "cell_type": "markdown",
   "metadata": {},
   "source": [
    "Luego con la ayuda del campo <code>state</code> filtramos los negocios que se encuentran en los estados seleccionados en nuestro análisis.\n"
   ]
  },
  {
   "cell_type": "code",
   "execution_count": null,
   "metadata": {},
   "outputs": [],
   "source": [
    "df_business = df_business[df_business.state.isin(top_5)]"
   ]
  },
  {
   "cell_type": "code",
   "execution_count": null,
   "metadata": {},
   "outputs": [],
   "source": [
    "df_business.info()"
   ]
  },
  {
   "cell_type": "markdown",
   "metadata": {},
   "source": [
    "Seguimos filtrando a través del campo <code>categories</code>, para obtener los negocios que son restaurantes.\n"
   ]
  },
  {
   "cell_type": "code",
   "execution_count": null,
   "metadata": {},
   "outputs": [],
   "source": [
    "def is_restaurant(st):\n",
    "    try:\n",
    "        test = \"\".join(st).lower()\n",
    "        return \"restaurant\" in test\n",
    "    except:\n",
    "        return False\n",
    "\n",
    "\n",
    "df_business = df_business[df_business[\"categories\"].apply(is_restaurant)]"
   ]
  },
  {
   "cell_type": "code",
   "execution_count": null,
   "metadata": {},
   "outputs": [],
   "source": [
    "df_business.info()"
   ]
  },
  {
   "cell_type": "code",
   "execution_count": null,
   "metadata": {},
   "outputs": [],
   "source": [
    "df_business.to_parquet(r\"Generated\\Yelp\\bussines.parquet\")"
   ]
  },
  {
   "cell_type": "markdown",
   "metadata": {},
   "source": [
    "### 2.2 Checkin\n"
   ]
  },
  {
   "cell_type": "code",
   "execution_count": null,
   "metadata": {},
   "outputs": [],
   "source": [
    "lineas_json = []\n",
    "path_checkin = r\"Datasets\\Yelp\\checkin.json\"\n",
    "with open(path_checkin, \"r\", encoding=\"utf-8\") as file:\n",
    "    for l in file:\n",
    "        try:\n",
    "            linea_j = json.loads(l)\n",
    "            anio = linea_j[\"date\"][:4]\n",
    "            # if 'restaurant' in \" \".join(linea_j['category']).lower():\n",
    "            if anio in [\"2017\", \"2018\", \"2019\"]:\n",
    "                lineas_json.append(linea_j)\n",
    "        except:\n",
    "            pass\n",
    "\n",
    "df_checkin = pd.DataFrame(lineas_json)"
   ]
  },
  {
   "cell_type": "code",
   "execution_count": null,
   "metadata": {},
   "outputs": [],
   "source": [
    "df_checkin"
   ]
  },
  {
   "cell_type": "code",
   "execution_count": null,
   "metadata": {},
   "outputs": [],
   "source": [
    "merge_business_checkin = pd.merge(\n",
    "    df_business, df_checkin, left_on=\"business_id\", right_on=\"business_id\"\n",
    ")"
   ]
  },
  {
   "cell_type": "code",
   "execution_count": null,
   "metadata": {},
   "outputs": [],
   "source": [
    "merge_business_checkin.info()"
   ]
  },
  {
   "cell_type": "code",
   "execution_count": null,
   "metadata": {},
   "outputs": [],
   "source": [
    "df_checkin.to_parquet(r\"Generated\\Yelp\\checkin.parquet\")\n",
    "merge_business_checkin.to_parquet(r\"Generated\\YELP\\business_checkin.parquet\")"
   ]
  },
  {
   "cell_type": "markdown",
   "metadata": {},
   "source": [
    "### 2.3 Tips\n"
   ]
  },
  {
   "cell_type": "markdown",
   "metadata": {},
   "source": [
    "Realizamos la extracción de los datos y filtramos por año según nuestro análisis.\n"
   ]
  },
  {
   "cell_type": "code",
   "execution_count": null,
   "metadata": {},
   "outputs": [],
   "source": [
    "lineas_json = []\n",
    "path_tip = r\"Datasets\\Yelp\\tip.json\"\n",
    "with open(path_tip, \"r\", encoding=\"utf-8\") as file:\n",
    "    for l in file:\n",
    "        try:\n",
    "            linea_j = json.loads(l)\n",
    "            anio = linea_j[\"date\"][:4]\n",
    "            if anio in [\"2017\", \"2018\", \"2019\"]:\n",
    "                lineas_json.append(linea_j)\n",
    "        except:\n",
    "            pass\n",
    "\n",
    "df_tip = pd.DataFrame(lineas_json)"
   ]
  },
  {
   "cell_type": "code",
   "execution_count": null,
   "metadata": {},
   "outputs": [],
   "source": [
    "df_tip.sample(5)"
   ]
  },
  {
   "cell_type": "code",
   "execution_count": null,
   "metadata": {},
   "outputs": [],
   "source": [
    "df_tip.to_parquet(r\"Generated\\Yelp\\tip.parquet\")"
   ]
  },
  {
   "cell_type": "markdown",
   "metadata": {},
   "source": [
    "Unimos el el dataframe de tips con el de negocios\n"
   ]
  },
  {
   "cell_type": "code",
   "execution_count": null,
   "metadata": {},
   "outputs": [],
   "source": [
    "tips_merged = pd.merge(\n",
    "    df_tip, df_business, left_on=\"business_id\", right_on=\"business_id\"\n",
    ")"
   ]
  },
  {
   "cell_type": "code",
   "execution_count": null,
   "metadata": {},
   "outputs": [],
   "source": [
    "tips_merged.sort_values(\"business_id\").head(3)"
   ]
  },
  {
   "cell_type": "code",
   "execution_count": null,
   "metadata": {},
   "outputs": [],
   "source": [
    "tips_merged.to_parquet(r\"Generated\\Yelp\\business_tip.parquet\")"
   ]
  },
  {
   "cell_type": "markdown",
   "metadata": {},
   "source": [
    "### 2.4 Review\n"
   ]
  },
  {
   "cell_type": "code",
   "execution_count": null,
   "metadata": {},
   "outputs": [],
   "source": [
    "df_reviews_url = r\"Datasets\\Yelp\\review.json\""
   ]
  },
  {
   "cell_type": "markdown",
   "metadata": {},
   "source": [
    "Usamos el mismo método de linea por linea, y en el proceso filtramos por año y por las reseñas que han sido votadas como útiles.\n"
   ]
  },
  {
   "cell_type": "code",
   "execution_count": null,
   "metadata": {},
   "outputs": [],
   "source": [
    "# 44 segundos\n",
    "\n",
    "lineas_json_review = []\n",
    "\n",
    "with open(df_reviews_url, \"r\", encoding=\"utf-8\") as f:\n",
    "    count = 0\n",
    "    for i in f:\n",
    "        linea = json.loads(i)\n",
    "        anio = linea[\"date\"][:4]\n",
    "        if anio in [\"2017\", \"2018\", \"2019\"] and linea[\"useful\"] == 1:\n",
    "            lineas_json_review.append(linea)\n",
    "\n",
    "\n",
    "df_reviews = pd.DataFrame(lineas_json_review)"
   ]
  },
  {
   "cell_type": "code",
   "execution_count": null,
   "metadata": {},
   "outputs": [],
   "source": [
    "df_reviews.sample(10)"
   ]
  },
  {
   "cell_type": "code",
   "execution_count": null,
   "metadata": {},
   "outputs": [],
   "source": [
    "df_reviews.info()"
   ]
  },
  {
   "cell_type": "markdown",
   "metadata": {},
   "source": [
    "Aligeramos el dataset con unos downgrades de tipo de variables.\n"
   ]
  },
  {
   "cell_type": "code",
   "execution_count": null,
   "metadata": {},
   "outputs": [],
   "source": [
    "df_reviews[\"funny\"] = df_reviews[\"funny\"].astype(\"int8\")\n",
    "df_reviews[\"stars\"] = df_reviews[\"stars\"].astype(\"int8\")\n",
    "df_reviews[\"cool\"] = df_reviews[\"cool\"].astype(\"int8\")\n",
    "\n",
    "df_reviews.drop(\"useful\", axis=1, inplace=True, errors=\"ignore\")"
   ]
  },
  {
   "cell_type": "code",
   "execution_count": null,
   "metadata": {},
   "outputs": [],
   "source": [
    "df_reviews.to_parquet(r\"Generated\\Yelp\\review.parquet\")"
   ]
  },
  {
   "cell_type": "markdown",
   "metadata": {},
   "source": [
    "### 2.4 Users Yelp\n"
   ]
  },
  {
   "cell_type": "code",
   "execution_count": null,
   "metadata": {},
   "outputs": [],
   "source": [
    "parquet_file = pq.ParquetFile(r\"Datasets\\Yelp\\user.parquet\")\n",
    "\n",
    "arr_df = []\n",
    "\n",
    "for batch in parquet_file.iter_batches():\n",
    "    # count = count +1\n",
    "    batch_df = batch.to_pandas()\n",
    "    batch_df[\"elite\"] = batch_df[\"elite\"].apply(lambda x: x.split(\",\"))\n",
    "    batch_df[\"elite_len\"] = batch_df[\"elite\"].apply(lambda x: len(x))\n",
    "    batch_df = batch_df.query(\"elite_len > 1\")\n",
    "    arr_df.append(batch_df)\n",
    "\n",
    "df_users = pd.concat(arr_df)"
   ]
  },
  {
   "cell_type": "code",
   "execution_count": null,
   "metadata": {},
   "outputs": [],
   "source": [
    "df_users.sample(5)"
   ]
  },
  {
   "cell_type": "code",
   "execution_count": null,
   "metadata": {},
   "outputs": [],
   "source": [
    "df_users.info()"
   ]
  },
  {
   "cell_type": "code",
   "execution_count": null,
   "metadata": {},
   "outputs": [],
   "source": [
    "df_users.reset_index(inplace=True)\n",
    "df_users.drop(\"index\", axis=1, inplace=True, errors=\"ignore\")"
   ]
  },
  {
   "cell_type": "code",
   "execution_count": null,
   "metadata": {},
   "outputs": [],
   "source": [
    "df_users.to_parquet(r\"Generated\\Yelp\\users_extracted.parquet\")"
   ]
  },
  {
   "cell_type": "markdown",
   "metadata": {},
   "source": [
    "# NORMALIZACIÓN DE DATOS\n"
   ]
  },
  {
   "cell_type": "markdown",
   "metadata": {},
   "source": [
    "### **GOOGLE**\n",
    "\n",
    "#### _1. MERGE_SITE_REVIEWS_\n"
   ]
  },
  {
   "cell_type": "code",
   "execution_count": 4,
   "metadata": {},
   "outputs": [],
   "source": [
    "df_maps_restaurantes = pd.read_parquet(r'Generated\\Google\\metada_sitios.parquet')\n",
    "df_maps_reviews = pd.read_parquet(r'Generated\\Google\\merge_site_reviews.parquet')\n",
    "df_yelp_restaurantes = pd.read_parquet(r'Generated\\Yelp\\bussines.parquet')\n",
    "df_yelp_checkin = pd.read_parquet(r'Generated\\YELP\\business_checkin.parquet')\n",
    "df_yelp_tips = pd.read_parquet(r'Generated\\Yelp\\business_tip.parquet')\n",
    "df_yelp_reviews = pd.read_parquet(r'Generated\\Yelp\\review.parquet')\n",
    "df_yelp_users = pd.read_parquet(r'Generated\\Yelp\\users_extracted.parquet')"
   ]
  },
  {
   "cell_type": "code",
   "execution_count": 5,
   "metadata": {},
   "outputs": [
    {
     "data": {
      "text/html": [
       "<div>\n",
       "<style scoped>\n",
       "    .dataframe tbody tr th:only-of-type {\n",
       "        vertical-align: middle;\n",
       "    }\n",
       "\n",
       "    .dataframe tbody tr th {\n",
       "        vertical-align: top;\n",
       "    }\n",
       "\n",
       "    .dataframe thead th {\n",
       "        text-align: right;\n",
       "    }\n",
       "</style>\n",
       "<table border=\"1\" class=\"dataframe\">\n",
       "  <thead>\n",
       "    <tr style=\"text-align: right;\">\n",
       "      <th></th>\n",
       "      <th>user_id</th>\n",
       "      <th>name_x</th>\n",
       "      <th>time</th>\n",
       "      <th>rating</th>\n",
       "      <th>text</th>\n",
       "      <th>pics</th>\n",
       "      <th>resp</th>\n",
       "      <th>gmap_id</th>\n",
       "      <th>anio</th>\n",
       "      <th>estado</th>\n",
       "      <th>...</th>\n",
       "      <th>avg_rating</th>\n",
       "      <th>num_of_reviews</th>\n",
       "      <th>price</th>\n",
       "      <th>hours</th>\n",
       "      <th>MISC</th>\n",
       "      <th>state</th>\n",
       "      <th>relative_results</th>\n",
       "      <th>url</th>\n",
       "      <th>state_ab</th>\n",
       "      <th>us_state</th>\n",
       "    </tr>\n",
       "  </thead>\n",
       "  <tbody>\n",
       "    <tr>\n",
       "      <th>1115485</th>\n",
       "      <td>113947259774124030025</td>\n",
       "      <td>Vasilios Pilios</td>\n",
       "      <td>1516727309211</td>\n",
       "      <td>5</td>\n",
       "      <td>Great</td>\n",
       "      <td>None</td>\n",
       "      <td>None</td>\n",
       "      <td>0x89c25f233bbca7ab:0x9951b1c25edf8626</td>\n",
       "      <td>2018</td>\n",
       "      <td>New_York</td>\n",
       "      <td>...</td>\n",
       "      <td>4.3</td>\n",
       "      <td>399</td>\n",
       "      <td>₩</td>\n",
       "      <td>[[Sunday, 10AM–10PM], [Monday, 10AM–10PM], [Tu...</td>\n",
       "      <td>{'Accessibility': ['Wheelchair-accessible entr...</td>\n",
       "      <td>Open ⋅ Closes 10PM</td>\n",
       "      <td>[0x89c25f4860490013:0xc149667847aa264b, 0x89c2...</td>\n",
       "      <td>https://www.google.com/maps/place//data=!4m2!3...</td>\n",
       "      <td>None</td>\n",
       "      <td>None</td>\n",
       "    </tr>\n",
       "    <tr>\n",
       "      <th>501350</th>\n",
       "      <td>109512706805991449403</td>\n",
       "      <td>Amber Crabtree</td>\n",
       "      <td>1500251798678</td>\n",
       "      <td>5</td>\n",
       "      <td>Here stopping through Salinas. The cashier was...</td>\n",
       "      <td>None</td>\n",
       "      <td>None</td>\n",
       "      <td>0x808dff292d1e280f:0xa4b85e878e768610</td>\n",
       "      <td>2017</td>\n",
       "      <td>California</td>\n",
       "      <td>...</td>\n",
       "      <td>3.3</td>\n",
       "      <td>958</td>\n",
       "      <td>₩</td>\n",
       "      <td>[[Monday, 9AM–12AM], [Tuesday, 9AM–12AM], [Wed...</td>\n",
       "      <td>{'Accessibility': ['Wheelchair-accessible car ...</td>\n",
       "      <td>Open ⋅ Closes 12AM</td>\n",
       "      <td>[0x808dff240a1afaa1:0x8a23a16fb251a337, 0x808d...</td>\n",
       "      <td>https://www.google.com/maps/place//data=!4m2!3...</td>\n",
       "      <td>None</td>\n",
       "      <td>None</td>\n",
       "    </tr>\n",
       "    <tr>\n",
       "      <th>441714</th>\n",
       "      <td>107783838182957884042</td>\n",
       "      <td>Chris Le</td>\n",
       "      <td>1574553637266</td>\n",
       "      <td>5</td>\n",
       "      <td>None</td>\n",
       "      <td>None</td>\n",
       "      <td>None</td>\n",
       "      <td>0x808447fdcd1c3235:0x70372ccdef58e9f</td>\n",
       "      <td>2019</td>\n",
       "      <td>California</td>\n",
       "      <td>...</td>\n",
       "      <td>4.6</td>\n",
       "      <td>1938</td>\n",
       "      <td>₩₩</td>\n",
       "      <td>[[Tuesday, 11AM–9:30PM], [Wednesday, 11AM–9:30...</td>\n",
       "      <td>{'Accessibility': ['Wheelchair-accessible entr...</td>\n",
       "      <td>Closed ⋅ Opens 11AM</td>\n",
       "      <td>[0x8084380dd69d9073:0x88a402298a4910d7, 0x8084...</td>\n",
       "      <td>https://www.google.com/maps/place//data=!4m2!3...</td>\n",
       "      <td>None</td>\n",
       "      <td>None</td>\n",
       "    </tr>\n",
       "  </tbody>\n",
       "</table>\n",
       "<p>3 rows × 26 columns</p>\n",
       "</div>"
      ],
      "text/plain": [
       "                       user_id           name_x           time  rating  \\\n",
       "1115485  113947259774124030025  Vasilios Pilios  1516727309211       5   \n",
       "501350   109512706805991449403   Amber Crabtree  1500251798678       5   \n",
       "441714   107783838182957884042         Chris Le  1574553637266       5   \n",
       "\n",
       "                                                      text  pics  resp  \\\n",
       "1115485                                              Great  None  None   \n",
       "501350   Here stopping through Salinas. The cashier was...  None  None   \n",
       "441714                                                None  None  None   \n",
       "\n",
       "                                       gmap_id  anio      estado  ...  \\\n",
       "1115485  0x89c25f233bbca7ab:0x9951b1c25edf8626  2018    New_York  ...   \n",
       "501350   0x808dff292d1e280f:0xa4b85e878e768610  2017  California  ...   \n",
       "441714    0x808447fdcd1c3235:0x70372ccdef58e9f  2019  California  ...   \n",
       "\n",
       "        avg_rating num_of_reviews price  \\\n",
       "1115485        4.3            399     ₩   \n",
       "501350         3.3            958     ₩   \n",
       "441714         4.6           1938    ₩₩   \n",
       "\n",
       "                                                     hours  \\\n",
       "1115485  [[Sunday, 10AM–10PM], [Monday, 10AM–10PM], [Tu...   \n",
       "501350   [[Monday, 9AM–12AM], [Tuesday, 9AM–12AM], [Wed...   \n",
       "441714   [[Tuesday, 11AM–9:30PM], [Wednesday, 11AM–9:30...   \n",
       "\n",
       "                                                      MISC  \\\n",
       "1115485  {'Accessibility': ['Wheelchair-accessible entr...   \n",
       "501350   {'Accessibility': ['Wheelchair-accessible car ...   \n",
       "441714   {'Accessibility': ['Wheelchair-accessible entr...   \n",
       "\n",
       "                       state  \\\n",
       "1115485   Open ⋅ Closes 10PM   \n",
       "501350    Open ⋅ Closes 12AM   \n",
       "441714   Closed ⋅ Opens 11AM   \n",
       "\n",
       "                                          relative_results  \\\n",
       "1115485  [0x89c25f4860490013:0xc149667847aa264b, 0x89c2...   \n",
       "501350   [0x808dff240a1afaa1:0x8a23a16fb251a337, 0x808d...   \n",
       "441714   [0x8084380dd69d9073:0x88a402298a4910d7, 0x8084...   \n",
       "\n",
       "                                                       url state_ab us_state  \n",
       "1115485  https://www.google.com/maps/place//data=!4m2!3...     None     None  \n",
       "501350   https://www.google.com/maps/place//data=!4m2!3...     None     None  \n",
       "441714   https://www.google.com/maps/place//data=!4m2!3...     None     None  \n",
       "\n",
       "[3 rows x 26 columns]"
      ]
     },
     "execution_count": 5,
     "metadata": {},
     "output_type": "execute_result"
    }
   ],
   "source": [
    "df_maps_reviews.sample(3)"
   ]
  },
  {
   "cell_type": "code",
   "execution_count": 6,
   "metadata": {},
   "outputs": [
    {
     "data": {
      "text/plain": [
       "array(['user_id', 'name_x', 'time', 'rating', 'text', 'pics', 'resp',\n",
       "       'gmap_id', 'anio', 'estado', 'name_y', 'address', 'description',\n",
       "       'latitude', 'longitude', 'category', 'avg_rating',\n",
       "       'num_of_reviews', 'price', 'hours', 'MISC', 'state',\n",
       "       'relative_results', 'url', 'state_ab', 'us_state'], dtype=object)"
      ]
     },
     "execution_count": 6,
     "metadata": {},
     "output_type": "execute_result"
    }
   ],
   "source": [
    "df_maps_reviews.columns.values"
   ]
  },
  {
   "cell_type": "code",
   "execution_count": 7,
   "metadata": {},
   "outputs": [
    {
     "data": {
      "text/plain": [
       "0                                        [Korean restaurant]\n",
       "1                                        [Korean restaurant]\n",
       "2                                        [Korean restaurant]\n",
       "3                                        [Korean restaurant]\n",
       "4                                        [Korean restaurant]\n",
       "                                 ...                        \n",
       "2393447    [Coffee shop, Bagel shop, Bakery, Breakfast re...\n",
       "2393448    [Coffee shop, Bagel shop, Bakery, Breakfast re...\n",
       "2393449    [Coffee shop, Bagel shop, Bakery, Breakfast re...\n",
       "2393450    [Coffee shop, Bagel shop, Bakery, Breakfast re...\n",
       "2393451    [Coffee shop, Bagel shop, Bakery, Breakfast re...\n",
       "Name: category, Length: 2393452, dtype: object"
      ]
     },
     "execution_count": 7,
     "metadata": {},
     "output_type": "execute_result"
    }
   ],
   "source": [
    "df_maps_reviews.category"
   ]
  },
  {
   "cell_type": "code",
   "execution_count": 8,
   "metadata": {},
   "outputs": [
    {
     "name": "stdout",
     "output_type": "stream",
     "text": [
      "<class 'pandas.core.frame.DataFrame'>\n",
      "RangeIndex: 2393452 entries, 0 to 2393451\n",
      "Data columns (total 26 columns):\n",
      " #   Column            Dtype  \n",
      "---  ------            -----  \n",
      " 0   user_id           object \n",
      " 1   name_x            object \n",
      " 2   time              int64  \n",
      " 3   rating            int64  \n",
      " 4   text              object \n",
      " 5   pics              object \n",
      " 6   resp              object \n",
      " 7   gmap_id           object \n",
      " 8   anio              int64  \n",
      " 9   estado            object \n",
      " 10  name_y            object \n",
      " 11  address           object \n",
      " 12  description       object \n",
      " 13  latitude          float64\n",
      " 14  longitude         float64\n",
      " 15  category          object \n",
      " 16  avg_rating        float64\n",
      " 17  num_of_reviews    int64  \n",
      " 18  price             object \n",
      " 19  hours             object \n",
      " 20  MISC              object \n",
      " 21  state             object \n",
      " 22  relative_results  object \n",
      " 23  url               object \n",
      " 24  state_ab          object \n",
      " 25  us_state          object \n",
      "dtypes: float64(3), int64(4), object(19)\n",
      "memory usage: 474.8+ MB\n"
     ]
    }
   ],
   "source": [
    "df_maps_reviews.info()"
   ]
  },
  {
   "cell_type": "code",
   "execution_count": 9,
   "metadata": {},
   "outputs": [
    {
     "data": {
      "text/html": [
       "<div>\n",
       "<style scoped>\n",
       "    .dataframe tbody tr th:only-of-type {\n",
       "        vertical-align: middle;\n",
       "    }\n",
       "\n",
       "    .dataframe tbody tr th {\n",
       "        vertical-align: top;\n",
       "    }\n",
       "\n",
       "    .dataframe thead th {\n",
       "        text-align: right;\n",
       "    }\n",
       "</style>\n",
       "<table border=\"1\" class=\"dataframe\">\n",
       "  <thead>\n",
       "    <tr style=\"text-align: right;\">\n",
       "      <th></th>\n",
       "      <th>user_id</th>\n",
       "      <th>name_x</th>\n",
       "      <th>time</th>\n",
       "      <th>rating</th>\n",
       "      <th>text</th>\n",
       "      <th>pics</th>\n",
       "      <th>resp</th>\n",
       "      <th>gmap_id</th>\n",
       "      <th>anio</th>\n",
       "      <th>estado</th>\n",
       "      <th>...</th>\n",
       "      <th>avg_rating</th>\n",
       "      <th>num_of_reviews</th>\n",
       "      <th>price</th>\n",
       "      <th>hours</th>\n",
       "      <th>MISC</th>\n",
       "      <th>state</th>\n",
       "      <th>relative_results</th>\n",
       "      <th>url</th>\n",
       "      <th>state_ab</th>\n",
       "      <th>us_state</th>\n",
       "    </tr>\n",
       "  </thead>\n",
       "  <tbody>\n",
       "    <tr>\n",
       "      <th>1084735</th>\n",
       "      <td>112092894258987366220</td>\n",
       "      <td>Michael Flores</td>\n",
       "      <td>1560766424975</td>\n",
       "      <td>3</td>\n",
       "      <td>Food was good not great. Pricy for latino food.</td>\n",
       "      <td>[{'url': ['https://lh5.googleusercontent.com/p...</td>\n",
       "      <td>None</td>\n",
       "      <td>0x89c2f60419e9336f:0x2b1a38ce6e6c965b</td>\n",
       "      <td>2019</td>\n",
       "      <td>New_York</td>\n",
       "      <td>...</td>\n",
       "      <td>4.3</td>\n",
       "      <td>638</td>\n",
       "      <td>₩₩</td>\n",
       "      <td>[[Tuesday, 12–11PM], [Wednesday, 12–11PM], [Th...</td>\n",
       "      <td>{'Accessibility': ['Wheelchair-accessible entr...</td>\n",
       "      <td>Open ⋅ Closes 11PM</td>\n",
       "      <td>[0x89c258580e27e405:0xf0ce7f097d8d2244, 0x89c2...</td>\n",
       "      <td>https://www.google.com/maps/place//data=!4m2!3...</td>\n",
       "      <td>None</td>\n",
       "      <td>None</td>\n",
       "    </tr>\n",
       "    <tr>\n",
       "      <th>122091</th>\n",
       "      <td>115580060424270600036</td>\n",
       "      <td>Zack Lovatt</td>\n",
       "      <td>1570599223725</td>\n",
       "      <td>5</td>\n",
       "      <td>None</td>\n",
       "      <td>[{'url': ['https://lh5.googleusercontent.com/p...</td>\n",
       "      <td>None</td>\n",
       "      <td>0x80c2c728b96d650b:0xebf33590786b547f</td>\n",
       "      <td>2019</td>\n",
       "      <td>California</td>\n",
       "      <td>...</td>\n",
       "      <td>4.3</td>\n",
       "      <td>235</td>\n",
       "      <td>None</td>\n",
       "      <td>None</td>\n",
       "      <td>{'Accessibility': None, 'Amenities': ['Bar on ...</td>\n",
       "      <td>None</td>\n",
       "      <td>[0x80c2c5e852d55701:0xf956891157ada594, 0x80c2...</td>\n",
       "      <td>https://www.google.com/maps/place//data=!4m2!3...</td>\n",
       "      <td>None</td>\n",
       "      <td>None</td>\n",
       "    </tr>\n",
       "    <tr>\n",
       "      <th>1222563</th>\n",
       "      <td>103056841516918165104</td>\n",
       "      <td>Jack H</td>\n",
       "      <td>1514736212569</td>\n",
       "      <td>4</td>\n",
       "      <td>Perfect  drunken pizza stop. Cheap with massiv...</td>\n",
       "      <td>[{'url': ['https://lh5.googleusercontent.com/p...</td>\n",
       "      <td>None</td>\n",
       "      <td>0x89c259837607afc9:0xfd38fefd373f97a</td>\n",
       "      <td>2017</td>\n",
       "      <td>New_York</td>\n",
       "      <td>...</td>\n",
       "      <td>4.5</td>\n",
       "      <td>66</td>\n",
       "      <td>$</td>\n",
       "      <td>[[Sunday, 1–11PM], [Monday, 1–11PM], [Tuesday,...</td>\n",
       "      <td>{'Accessibility': None, 'Amenities': ['Good fo...</td>\n",
       "      <td>Closed ⋅ Opens 1PM Mon</td>\n",
       "      <td>[0x89c2599ede9f6809:0x71a9aa955eb026c2, 0x89c2...</td>\n",
       "      <td>https://www.google.com/maps/place//data=!4m2!3...</td>\n",
       "      <td>NY</td>\n",
       "      <td>New York</td>\n",
       "    </tr>\n",
       "  </tbody>\n",
       "</table>\n",
       "<p>3 rows × 26 columns</p>\n",
       "</div>"
      ],
      "text/plain": [
       "                       user_id          name_x           time  rating  \\\n",
       "1084735  112092894258987366220  Michael Flores  1560766424975       3   \n",
       "122091   115580060424270600036     Zack Lovatt  1570599223725       5   \n",
       "1222563  103056841516918165104          Jack H  1514736212569       4   \n",
       "\n",
       "                                                      text  \\\n",
       "1084735    Food was good not great. Pricy for latino food.   \n",
       "122091                                                None   \n",
       "1222563  Perfect  drunken pizza stop. Cheap with massiv...   \n",
       "\n",
       "                                                      pics  resp  \\\n",
       "1084735  [{'url': ['https://lh5.googleusercontent.com/p...  None   \n",
       "122091   [{'url': ['https://lh5.googleusercontent.com/p...  None   \n",
       "1222563  [{'url': ['https://lh5.googleusercontent.com/p...  None   \n",
       "\n",
       "                                       gmap_id  anio      estado  ...  \\\n",
       "1084735  0x89c2f60419e9336f:0x2b1a38ce6e6c965b  2019    New_York  ...   \n",
       "122091   0x80c2c728b96d650b:0xebf33590786b547f  2019  California  ...   \n",
       "1222563   0x89c259837607afc9:0xfd38fefd373f97a  2017    New_York  ...   \n",
       "\n",
       "        avg_rating num_of_reviews price  \\\n",
       "1084735        4.3            638    ₩₩   \n",
       "122091         4.3            235  None   \n",
       "1222563        4.5             66     $   \n",
       "\n",
       "                                                     hours  \\\n",
       "1084735  [[Tuesday, 12–11PM], [Wednesday, 12–11PM], [Th...   \n",
       "122091                                                None   \n",
       "1222563  [[Sunday, 1–11PM], [Monday, 1–11PM], [Tuesday,...   \n",
       "\n",
       "                                                      MISC  \\\n",
       "1084735  {'Accessibility': ['Wheelchair-accessible entr...   \n",
       "122091   {'Accessibility': None, 'Amenities': ['Bar on ...   \n",
       "1222563  {'Accessibility': None, 'Amenities': ['Good fo...   \n",
       "\n",
       "                          state  \\\n",
       "1084735      Open ⋅ Closes 11PM   \n",
       "122091                     None   \n",
       "1222563  Closed ⋅ Opens 1PM Mon   \n",
       "\n",
       "                                          relative_results  \\\n",
       "1084735  [0x89c258580e27e405:0xf0ce7f097d8d2244, 0x89c2...   \n",
       "122091   [0x80c2c5e852d55701:0xf956891157ada594, 0x80c2...   \n",
       "1222563  [0x89c2599ede9f6809:0x71a9aa955eb026c2, 0x89c2...   \n",
       "\n",
       "                                                       url state_ab  us_state  \n",
       "1084735  https://www.google.com/maps/place//data=!4m2!3...     None      None  \n",
       "122091   https://www.google.com/maps/place//data=!4m2!3...     None      None  \n",
       "1222563  https://www.google.com/maps/place//data=!4m2!3...       NY  New York  \n",
       "\n",
       "[3 rows x 26 columns]"
      ]
     },
     "execution_count": 9,
     "metadata": {},
     "output_type": "execute_result"
    }
   ],
   "source": [
    "df_maps_reviews[~df_maps_reviews.pics.isnull()].sample(3)"
   ]
  },
  {
   "cell_type": "code",
   "execution_count": 10,
   "metadata": {},
   "outputs": [
    {
     "data": {
      "text/plain": [
       "2307136"
      ]
     },
     "execution_count": 10,
     "metadata": {},
     "output_type": "execute_result"
    }
   ],
   "source": [
    "num_nulls_pics = df_maps_reviews.pics.isnull().sum()\n",
    "num_nulls_pics"
   ]
  },
  {
   "cell_type": "code",
   "execution_count": 11,
   "metadata": {},
   "outputs": [
    {
     "data": {
      "text/plain": [
       "2178044"
      ]
     },
     "execution_count": 11,
     "metadata": {},
     "output_type": "execute_result"
    }
   ],
   "source": [
    "num_nulls_resp = df_maps_reviews.resp.isnull().sum()\n",
    "num_nulls_resp"
   ]
  },
  {
   "cell_type": "code",
   "execution_count": 12,
   "metadata": {},
   "outputs": [
    {
     "data": {
      "text/html": [
       "<div>\n",
       "<style scoped>\n",
       "    .dataframe tbody tr th:only-of-type {\n",
       "        vertical-align: middle;\n",
       "    }\n",
       "\n",
       "    .dataframe tbody tr th {\n",
       "        vertical-align: top;\n",
       "    }\n",
       "\n",
       "    .dataframe thead th {\n",
       "        text-align: right;\n",
       "    }\n",
       "</style>\n",
       "<table border=\"1\" class=\"dataframe\">\n",
       "  <thead>\n",
       "    <tr style=\"text-align: right;\">\n",
       "      <th></th>\n",
       "      <th>user_id</th>\n",
       "      <th>name_x</th>\n",
       "      <th>time</th>\n",
       "      <th>rating</th>\n",
       "      <th>text</th>\n",
       "      <th>pics</th>\n",
       "      <th>resp</th>\n",
       "      <th>gmap_id</th>\n",
       "      <th>anio</th>\n",
       "      <th>estado</th>\n",
       "      <th>...</th>\n",
       "      <th>MISC</th>\n",
       "      <th>state</th>\n",
       "      <th>relative_results</th>\n",
       "      <th>url</th>\n",
       "      <th>state_ab</th>\n",
       "      <th>us_state</th>\n",
       "      <th>dtfmt</th>\n",
       "      <th>mes</th>\n",
       "      <th>dia</th>\n",
       "      <th>hora</th>\n",
       "    </tr>\n",
       "  </thead>\n",
       "  <tbody>\n",
       "    <tr>\n",
       "      <th>1994982</th>\n",
       "      <td>100100242701523724095</td>\n",
       "      <td>Phil Iovino</td>\n",
       "      <td>1488696000425</td>\n",
       "      <td>5</td>\n",
       "      <td>had a great lunch.  interesting sandwiches and...</td>\n",
       "      <td>None</td>\n",
       "      <td>None</td>\n",
       "      <td>0x88c2e3e4936a3085:0x5d43f1fd0cc206af</td>\n",
       "      <td>2017</td>\n",
       "      <td>Florida</td>\n",
       "      <td>...</td>\n",
       "      <td>{'Accessibility': ['Wheelchair-accessible car ...</td>\n",
       "      <td>Closed ⋅ Opens 10AM</td>\n",
       "      <td>[0x88c2e1836a77c8db:0x5afbab07e9275d4f, 0x88c2...</td>\n",
       "      <td>https://www.google.com/maps/place//data=!4m2!3...</td>\n",
       "      <td>None</td>\n",
       "      <td>None</td>\n",
       "      <td>2017-03-05 06:40:00.425</td>\n",
       "      <td>3</td>\n",
       "      <td>5</td>\n",
       "      <td>6</td>\n",
       "    </tr>\n",
       "    <tr>\n",
       "      <th>161277</th>\n",
       "      <td>113580339616872927649</td>\n",
       "      <td>Veronica Pinon</td>\n",
       "      <td>1562222917291</td>\n",
       "      <td>5</td>\n",
       "      <td>None</td>\n",
       "      <td>None</td>\n",
       "      <td>None</td>\n",
       "      <td>0x808e3280487121eb:0x72ad1dd786b14f33</td>\n",
       "      <td>2019</td>\n",
       "      <td>California</td>\n",
       "      <td>...</td>\n",
       "      <td>{'Accessibility': ['Wheelchair-accessible entr...</td>\n",
       "      <td>Open ⋅ Closes 10PM</td>\n",
       "      <td>[0x808e2d7e291efb79:0x34dd95929b85da42, 0x808f...</td>\n",
       "      <td>https://www.google.com/maps/place//data=!4m2!3...</td>\n",
       "      <td>None</td>\n",
       "      <td>None</td>\n",
       "      <td>2019-07-04 06:48:37.291</td>\n",
       "      <td>7</td>\n",
       "      <td>4</td>\n",
       "      <td>6</td>\n",
       "    </tr>\n",
       "    <tr>\n",
       "      <th>881934</th>\n",
       "      <td>117973005646697209385</td>\n",
       "      <td>Muhammad Ali</td>\n",
       "      <td>1521474371640</td>\n",
       "      <td>5</td>\n",
       "      <td>nice place ... awesome games and delicious foo...</td>\n",
       "      <td>None</td>\n",
       "      <td>None</td>\n",
       "      <td>0x8640c3d0f24bf367:0x9db82341874406a1</td>\n",
       "      <td>2018</td>\n",
       "      <td>Texas</td>\n",
       "      <td>...</td>\n",
       "      <td>{'Accessibility': None, 'Amenities': ['Good fo...</td>\n",
       "      <td>Permanently closed</td>\n",
       "      <td>[0x8640c3da744fc37b:0x650c137e7d6f5b63, 0x8640...</td>\n",
       "      <td>https://www.google.com/maps/place//data=!4m2!3...</td>\n",
       "      <td>TX</td>\n",
       "      <td>Texas</td>\n",
       "      <td>2018-03-19 15:46:11.640</td>\n",
       "      <td>3</td>\n",
       "      <td>19</td>\n",
       "      <td>15</td>\n",
       "    </tr>\n",
       "  </tbody>\n",
       "</table>\n",
       "<p>3 rows × 30 columns</p>\n",
       "</div>"
      ],
      "text/plain": [
       "                       user_id          name_x           time  rating  \\\n",
       "1994982  100100242701523724095     Phil Iovino  1488696000425       5   \n",
       "161277   113580339616872927649  Veronica Pinon  1562222917291       5   \n",
       "881934   117973005646697209385    Muhammad Ali  1521474371640       5   \n",
       "\n",
       "                                                      text  pics  resp  \\\n",
       "1994982  had a great lunch.  interesting sandwiches and...  None  None   \n",
       "161277                                                None  None  None   \n",
       "881934   nice place ... awesome games and delicious foo...  None  None   \n",
       "\n",
       "                                       gmap_id  anio      estado  ...  \\\n",
       "1994982  0x88c2e3e4936a3085:0x5d43f1fd0cc206af  2017     Florida  ...   \n",
       "161277   0x808e3280487121eb:0x72ad1dd786b14f33  2019  California  ...   \n",
       "881934   0x8640c3d0f24bf367:0x9db82341874406a1  2018       Texas  ...   \n",
       "\n",
       "                                                      MISC  \\\n",
       "1994982  {'Accessibility': ['Wheelchair-accessible car ...   \n",
       "161277   {'Accessibility': ['Wheelchair-accessible entr...   \n",
       "881934   {'Accessibility': None, 'Amenities': ['Good fo...   \n",
       "\n",
       "                       state  \\\n",
       "1994982  Closed ⋅ Opens 10AM   \n",
       "161277    Open ⋅ Closes 10PM   \n",
       "881934    Permanently closed   \n",
       "\n",
       "                                          relative_results  \\\n",
       "1994982  [0x88c2e1836a77c8db:0x5afbab07e9275d4f, 0x88c2...   \n",
       "161277   [0x808e2d7e291efb79:0x34dd95929b85da42, 0x808f...   \n",
       "881934   [0x8640c3da744fc37b:0x650c137e7d6f5b63, 0x8640...   \n",
       "\n",
       "                                                       url  state_ab us_state  \\\n",
       "1994982  https://www.google.com/maps/place//data=!4m2!3...      None     None   \n",
       "161277   https://www.google.com/maps/place//data=!4m2!3...      None     None   \n",
       "881934   https://www.google.com/maps/place//data=!4m2!3...        TX    Texas   \n",
       "\n",
       "                          dtfmt  mes dia hora  \n",
       "1994982 2017-03-05 06:40:00.425    3   5    6  \n",
       "161277  2019-07-04 06:48:37.291    7   4    6  \n",
       "881934  2018-03-19 15:46:11.640    3  19   15  \n",
       "\n",
       "[3 rows x 30 columns]"
      ]
     },
     "execution_count": 12,
     "metadata": {},
     "output_type": "execute_result"
    }
   ],
   "source": [
    "df_maps_reviews[\"dtfmt\"] = df_maps_reviews.time.apply(\n",
    "    lambda x: datetime.utcfromtimestamp(x / 1000)\n",
    ")\n",
    "\n",
    "df_maps_reviews[\"mes\"] = df_maps_reviews.dtfmt.dt.month\n",
    "\n",
    "df_maps_reviews[\"dia\"] = df_maps_reviews.dtfmt.dt.day\n",
    "\n",
    "df_maps_reviews[\"hora\"] = df_maps_reviews.dtfmt.dt.hour\n",
    "\n",
    "df_maps_reviews.name_x = df_maps_reviews.name_x.str.title()\n",
    "\n",
    "df_maps_reviews.text = df_maps_reviews.text.str.lower()\n",
    "\n",
    "df_maps_reviews.sample(3)"
   ]
  },
  {
   "cell_type": "markdown",
   "metadata": {},
   "source": [
    "#### **_<u>COMENTARIO</u>_**\n",
    "\n",
    "Las columnas **pics** y **resp** deberían eliminarse porque la cantidades de datos nulos sobrepasa los 90%.\n",
    "\n",
    "_Obtenemos las columnas de año, mes, día y hora para posteriores análisis_\n"
   ]
  },
  {
   "cell_type": "markdown",
   "metadata": {},
   "source": [
    "# Salida Final ETL"
   ]
  },
  {
   "cell_type": "code",
   "execution_count": 13,
   "metadata": {},
   "outputs": [],
   "source": [
    "df_maps_restaurantes.to_parquet(r'Generated\\Google\\metada_sitios.parquet')\n",
    "df_maps_reviews.to_parquet(r'Generated\\Google\\merge_site_reviews.parquet')\n",
    "df_yelp_restaurantes.to_parquet(r'Generated\\Yelp\\bussines.parquet')\n",
    "df_yelp_checkin.to_parquet(r'Generated\\YELP\\business_checkin.parquet')\n",
    "df_yelp_tips.to_parquet(r'Generated\\Yelp\\business_tip.parquet')\n",
    "df_yelp_reviews.to_parquet(r'Generated\\Yelp\\review.parquet')\n",
    "df_yelp_users.to_parquet(r'Generated\\Yelp\\users_extracted.parquet')"
   ]
  }
 ],
 "metadata": {
  "kernelspec": {
   "display_name": ".venv10",
   "language": "python",
   "name": "python3"
  },
  "language_info": {
   "codemirror_mode": {
    "name": "ipython",
    "version": 3
   },
   "file_extension": ".py",
   "mimetype": "text/x-python",
   "name": "python",
   "nbconvert_exporter": "python",
   "pygments_lexer": "ipython3",
   "version": "3.11.9"
  }
 },
 "nbformat": 4,
 "nbformat_minor": 2
}

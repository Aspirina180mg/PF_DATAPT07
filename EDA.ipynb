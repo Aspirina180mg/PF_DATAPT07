{
  "cells": [
    {
      "cell_type": "markdown",
      "metadata": {},
      "source": [
        "Recordar consultar el [Diccionario de datos](./Datasets/Google%20Maps/Diccionario%20de%20datos.docx)\n"
      ]
    },
    {
      "cell_type": "markdown",
      "metadata": {},
      "source": [
        "# Importaciones\n"
      ]
    },
    {
      "cell_type": "code",
      "execution_count": null,
      "metadata": {},
      "outputs": [],
      "source": [
        "import pandas as pd\n",
        "import seaborn as sns\n",
        "import matplotlib.pyplot as plt"
      ]
    },
    {
      "cell_type": "markdown",
      "metadata": {},
      "source": [
        "# Llamado de datos a dataframes\n"
      ]
    },
    {
      "cell_type": "code",
      "execution_count": null,
      "metadata": {},
      "outputs": [],
      "source": [
        "df_maps_restaurantes = pd.read_parquet(r\"Generated\\Google\\metada_sitios.parquet\")\n",
        "df_maps_reviews = pd.read_parquet(r\"Generated\\Google\\merge_site_reviews.parquet\")\n",
        "df_yelp_restaurantes = pd.read_parquet(r\"Generated\\Yelp\\bussines.parquet\")\n",
        "df_yelp_checkin = pd.read_parquet(r\"Generated\\YELP\\business_checkin.parquet\")\n",
        "df_yelp_tips = pd.read_parquet(r\"Generated\\Yelp\\business_tip.parquet\")\n",
        "df_yelp_reviews = pd.read_parquet(r\"Generated\\Yelp\\review.parquet\")\n",
        "df_yelp_users = pd.read_parquet(r\"Generated\\Yelp\\users_extracted.parquet\")"
      ]
    },
    {
      "cell_type": "markdown",
      "metadata": {},
      "source": [
        "### Subway\n",
        "\n",
        "es la empresa con la que trabajaremos, empezaremos por ver cuantos registros hay en cada Dataframe\n"
      ]
    },
    {
      "cell_type": "code",
      "execution_count": null,
      "metadata": {},
      "outputs": [],
      "source": [
        "subway_records_rest = df_yelp_restaurantes.loc[df_yelp_restaurantes[\"name\"] == \"Subway\"]\n",
        "count_subway_records_rest = subway_records_rest.shape[0]\n",
        "print(\"Número de registros de Subway en restaurantes:\", count_subway_records_rest)"
      ]
    },
    {
      "cell_type": "code",
      "execution_count": null,
      "metadata": {},
      "outputs": [],
      "source": [
        "subway_records_checkin = df_yelp_checkin.loc[df_yelp_checkin[\"name\"] == \"Subway\"]\n",
        "count_subway_records_checkin = subway_records_checkin.shape[0]\n",
        "print(\"Número de registros de Subway en checkin:\", count_subway_records_checkin)"
      ]
    },
    {
      "cell_type": "code",
      "execution_count": null,
      "metadata": {},
      "outputs": [],
      "source": [
        "subway_records_tips = df_yelp_tips.loc[df_yelp_tips[\"name\"] == \"Subway\"]\n",
        "count_subway_records_tips = subway_records_tips.shape[0]\n",
        "print(\"Número de registros de Subway tips:\", count_subway_records_tips)"
      ]
    },
    {
      "cell_type": "markdown",
      "metadata": {},
      "source": [
        "Para revisar el dataframe de reviews y el de usuarios, deberemos obtener el Business_id y usarlo de guía\n",
        "\n",
        "Para eso, crearemos una lista que contenga todos los business_id que correspondan a locales de Subway, luego crearemos un dataframe que contenga todas las reviews de subway y uno que contenga todos los usuarios que realizaron reviews\n"
      ]
    },
    {
      "cell_type": "code",
      "execution_count": null,
      "metadata": {},
      "outputs": [],
      "source": [
        "(df_yelp_restaurantes.loc[df_yelp_restaurantes[\"name\"] == \"Subway\"]).head(1)"
      ]
    },
    {
      "cell_type": "code",
      "execution_count": null,
      "metadata": {},
      "outputs": [],
      "source": [
        "subway_business_ids = df_yelp_restaurantes.loc[\n",
        "    df_yelp_restaurantes[\"name\"] == \"Subway\", \"business_id\"\n",
        "].tolist()\n",
        "len(subway_business_ids)"
      ]
    },
    {
      "cell_type": "code",
      "execution_count": null,
      "metadata": {},
      "outputs": [],
      "source": [
        "reviews_yelp_subway = df_yelp_reviews[\n",
        "    df_yelp_reviews[\"business_id\"].isin(subway_business_ids)\n",
        "]\n",
        "reviews_yelp_subway"
      ]
    },
    {
      "cell_type": "markdown",
      "metadata": {},
      "source": [
        "Ahora, obtendremos los usuarios\n",
        "\n",
        "Para hacer esto, obtendremos los user_id de nuestro recien creado **reviews_yelp_subway** y los usaremos como filtro para obtener los usuarios que han cualificado a algun local de subway, ademas, agregaremos una columna que contara cuantas reviews han hecho a subway\n"
      ]
    },
    {
      "cell_type": "code",
      "execution_count": null,
      "metadata": {},
      "outputs": [],
      "source": [
        "df_yelp_users.head(1)"
      ]
    },
    {
      "cell_type": "code",
      "execution_count": null,
      "metadata": {},
      "outputs": [],
      "source": [
        "unique_user_ids = reviews_yelp_subway[\"user_id\"].unique()\n",
        "filtered_users = df_yelp_users[df_yelp_users[\"user_id\"].isin(unique_user_ids)]\n",
        "subway_count = (\n",
        "    reviews_yelp_subway.groupby(\"user_id\").size().reset_index(name=\"subway_count\")\n",
        ")\n",
        "yelp_users_subway = filtered_users.merge(subway_count, on=\"user_id\", how=\"left\")\n",
        "yelp_users_subway[\"subway_count\"] = yelp_users_subway[\"subway_count\"].fillna(0)\n",
        "yelp_users_subway.head(1)"
      ]
    },
    {
      "cell_type": "markdown",
      "metadata": {},
      "source": [
        "# Outlieers\n"
      ]
    },
    {
      "cell_type": "markdown",
      "metadata": {},
      "source": [
        "## df_yelp_checkin\n",
        "\n",
        "Se realiza un boxplot de la puntiación de estrellas y de la cantidad de reviews para visualizar posibles outliers\n"
      ]
    },
    {
      "cell_type": "code",
      "execution_count": null,
      "metadata": {},
      "outputs": [],
      "source": [
        "df_yelp_checkin.head(1)"
      ]
    },
    {
      "cell_type": "code",
      "execution_count": null,
      "metadata": {},
      "outputs": [],
      "source": [
        "subway_data_checkin = df_yelp_checkin[df_yelp_checkin[\"name\"] == (\"Subway\")]\n",
        "\n",
        "plt.figure(figsize=(10, 6))\n",
        "plt.subplot(2, 1, 1)\n",
        "plt.boxplot(subway_data_checkin[\"stars\"])\n",
        "plt.title(\"Boxplot de Stars para Subway checkin\")\n",
        "plt.ylabel(\"Stars\")\n",
        "\n",
        "plt.subplot(2, 1, 2)\n",
        "plt.boxplot(subway_data_checkin[\"review_count\"])\n",
        "plt.title(\"Boxplot de Review Count para Subway checkin\")\n",
        "plt.ylabel(\"Review Count\")\n",
        "\n",
        "plt.tight_layout()\n",
        "plt.show()"
      ]
    },
    {
      "cell_type": "code",
      "execution_count": null,
      "metadata": {},
      "outputs": [],
      "source": [
        "df_yelp_checkin[\n",
        "    (df_yelp_checkin[\"name\"] == \"Subway\") & (df_yelp_checkin[\"stars\"] == 3.5)\n",
        "]"
      ]
    },
    {
      "cell_type": "markdown",
      "metadata": {},
      "source": [
        "Vamos a quitar todas aquellas categorias que solo se repiten una vez, pero primero vamos a recorrerlas para tener una noción de lo que tratan\n"
      ]
    },
    {
      "cell_type": "code",
      "execution_count": null,
      "metadata": {},
      "outputs": [],
      "source": [
        "categorias = df_yelp_checkin[\"categories\"].tolist()\n",
        "categorias_separadas = [categoria.split(\", \") for categoria in categorias]\n",
        "todas_categorias = [item for sublist in categorias_separadas for item in sublist]\n",
        "frecuencia_categorias = {\n",
        "    categoria: todas_categorias.count(categoria) for categoria in set(todas_categorias)\n",
        "}\n",
        "categorias_menos_comunes = sorted(frecuencia_categorias.items(), key=lambda x: x[1])\n",
        "menos_repetidas = categorias_menos_comunes[:89]\n",
        "\n",
        "print(\"Las menos repetidas son:\")\n",
        "for categoria, frecuencia in menos_repetidas:\n",
        "    print(f\"{categoria}: {frecuencia} veces\")"
      ]
    },
    {
      "cell_type": "markdown",
      "metadata": {},
      "source": [
        "Al ser obsoletas todos, prodecemos a su extracción\n"
      ]
    },
    {
      "cell_type": "code",
      "execution_count": null,
      "metadata": {},
      "outputs": [],
      "source": [
        "categorias = df_yelp_checkin[\"categories\"].str.split(\", \").explode()\n",
        "\n",
        "frecuencia_categorias = categorias.value_counts()\n",
        "\n",
        "categorias_solo_una_vez = frecuencia_categorias[\n",
        "    frecuencia_categorias == 1\n",
        "].index.tolist()\n",
        "\n",
        "\n",
        "def filtrar_categorias(categoria_str):\n",
        "    categorias_lista = categoria_str.split(\", \")\n",
        "    categorias_filtradas = [\n",
        "        categoria\n",
        "        for categoria in categorias_lista\n",
        "        if categoria not in categorias_solo_una_vez\n",
        "    ]\n",
        "    return \", \".join(categorias_filtradas)\n",
        "\n",
        "\n",
        "df_yelp_checkin[\"categories\"] = df_yelp_checkin[\"categories\"].apply(filtrar_categorias)\n",
        "\n",
        "print(\"DataFrame modificado eliminando las categorías que se repiten solo una vez:\")\n",
        "df_yelp_checkin.head()"
      ]
    },
    {
      "cell_type": "markdown",
      "metadata": {},
      "source": [
        "repetimos el mismo proceso parra **df_yelp_restaurantes**\n"
      ]
    },
    {
      "cell_type": "code",
      "execution_count": null,
      "metadata": {},
      "outputs": [],
      "source": [
        "subway_rest_data = df_yelp_restaurantes.loc[df_yelp_restaurantes[\"name\"] == \"Subway\"]"
      ]
    },
    {
      "cell_type": "code",
      "execution_count": null,
      "metadata": {},
      "outputs": [],
      "source": [
        "plt.figure(figsize=(10, 6))\n",
        "plt.subplot(2, 1, 1)\n",
        "plt.boxplot(subway_rest_data[\"stars\"])\n",
        "plt.title(\"Boxplot de Stars para Subway restaurantes\")\n",
        "plt.ylabel(\"Stars\")\n",
        "\n",
        "plt.subplot(2, 1, 2)\n",
        "plt.boxplot(subway_rest_data[\"review_count\"])\n",
        "plt.title(\"Boxplot de Review Count para Subway restaurantes\")\n",
        "plt.ylabel(\"Review Count\")\n",
        "\n",
        "plt.tight_layout()\n",
        "plt.show()"
      ]
    },
    {
      "cell_type": "code",
      "execution_count": null,
      "metadata": {},
      "outputs": [],
      "source": [
        "df_yelp_restaurantes[\n",
        "    (df_yelp_restaurantes[\"name\"] == \"Subway\")\n",
        "    & (df_yelp_restaurantes[\"review_count\"] > 15)\n",
        "]"
      ]
    },
    {
      "cell_type": "markdown",
      "metadata": {},
      "source": [
        "Eliminacion de etiquetas de categoría obsoletos\n"
      ]
    },
    {
      "cell_type": "code",
      "execution_count": null,
      "metadata": {},
      "outputs": [],
      "source": [
        "categorias = df_yelp_restaurantes[\"categories\"].tolist()\n",
        "categorias_separadas = [categoria.split(\", \") for categoria in categorias]\n",
        "todas_categorias = [item for sublist in categorias_separadas for item in sublist]\n",
        "frecuencia_categorias = {\n",
        "    categoria: todas_categorias.count(categoria) for categoria in set(todas_categorias)\n",
        "}\n",
        "categorias_menos_comunes = sorted(frecuencia_categorias.items(), key=lambda x: x[1])\n",
        "menos_repetidas = categorias_menos_comunes[:167]\n",
        "\n",
        "print(\"Las menos repetidas son:\")\n",
        "for categoria, frecuencia in menos_repetidas:\n",
        "    print(f\"{categoria}: {frecuencia} veces\")"
      ]
    },
    {
      "cell_type": "code",
      "execution_count": null,
      "metadata": {},
      "outputs": [],
      "source": [
        "categorias = df_yelp_restaurantes[\"categories\"].str.split(\", \").explode()\n",
        "\n",
        "frecuencia_categorias = categorias.value_counts()\n",
        "\n",
        "categorias_solo_una_vez = frecuencia_categorias[\n",
        "    frecuencia_categorias == 1\n",
        "].index.tolist()\n",
        "\n",
        "\n",
        "def filtrar_categorias(categoria_str):\n",
        "    categorias_lista = categoria_str.split(\", \")\n",
        "    categorias_filtradas = [\n",
        "        categoria\n",
        "        for categoria in categorias_lista\n",
        "        if categoria not in categorias_solo_una_vez\n",
        "    ]\n",
        "    return \", \".join(categorias_filtradas)\n",
        "\n",
        "\n",
        "df_yelp_restaurantes[\"categories\"] = df_yelp_restaurantes[\"categories\"].apply(\n",
        "    filtrar_categorias\n",
        ")\n",
        "\n",
        "print(\"DataFrame modificado eliminando las categorías que se repiten solo una vez:\")\n",
        "df_yelp_restaurantes.head()"
      ]
    },
    {
      "cell_type": "markdown",
      "metadata": {},
      "source": [
        "Repetimos una vez mas el procedimiento pero esta vez con **_df_yelp_tips_**\n"
      ]
    },
    {
      "cell_type": "code",
      "execution_count": null,
      "metadata": {},
      "outputs": [],
      "source": [
        "subway_data_tips = df_yelp_tips[df_yelp_tips[\"name\"] == \"Subway\"]"
      ]
    },
    {
      "cell_type": "code",
      "execution_count": null,
      "metadata": {},
      "outputs": [],
      "source": [
        "plt.figure(figsize=(10, 6))\n",
        "plt.subplot(2, 1, 1)\n",
        "plt.boxplot(subway_data_tips[\"stars\"])\n",
        "plt.title(\"Boxplot de Stars para Subway tips\")\n",
        "plt.ylabel(\"Stars\")\n",
        "\n",
        "plt.subplot(2, 1, 2)\n",
        "plt.boxplot(subway_data_tips[\"review_count\"])\n",
        "plt.title(\"Boxplot de Review Count para Subway tips\")\n",
        "plt.ylabel(\"Review Count\")\n",
        "\n",
        "plt.tight_layout()\n",
        "plt.show()"
      ]
    },
    {
      "cell_type": "code",
      "execution_count": null,
      "metadata": {},
      "outputs": [],
      "source": [
        "df_yelp_tips[(df_yelp_tips[\"name\"] == \"Subway\") & (df_yelp_tips[\"review_count\"] > 20)]"
      ]
    },
    {
      "cell_type": "markdown",
      "metadata": {},
      "source": [
        "Una vez mas, repetimos el proceso en las categorías\n"
      ]
    },
    {
      "cell_type": "code",
      "execution_count": null,
      "metadata": {},
      "outputs": [],
      "source": [
        "categorias = df_yelp_tips[\"categories\"].tolist()\n",
        "categorias_separadas = [categoria.split(\", \") for categoria in categorias]\n",
        "todas_categorias = [item for sublist in categorias_separadas for item in sublist]\n",
        "frecuencia_categorias = {\n",
        "    categoria: todas_categorias.count(categoria) for categoria in set(todas_categorias)\n",
        "}\n",
        "categorias_menos_comunes = sorted(frecuencia_categorias.items(), key=lambda x: x[1])\n",
        "menos_repetidas = categorias_menos_comunes[:44]\n",
        "\n",
        "print(\"Las menos repetidas son:\")\n",
        "for categoria, frecuencia in menos_repetidas:\n",
        "    print(f\"{categoria}: {frecuencia} veces\")"
      ]
    },
    {
      "cell_type": "code",
      "execution_count": null,
      "metadata": {},
      "outputs": [],
      "source": [
        "categorias = df_yelp_tips[\"categories\"].str.split(\", \").explode()\n",
        "\n",
        "frecuencia_categorias = categorias.value_counts()\n",
        "\n",
        "categorias_solo_una_vez = frecuencia_categorias[\n",
        "    frecuencia_categorias == 1\n",
        "].index.tolist()\n",
        "\n",
        "\n",
        "def filtrar_categorias(categoria_str):\n",
        "    categorias_lista = categoria_str.split(\", \")\n",
        "    categorias_filtradas = [\n",
        "        categoria\n",
        "        for categoria in categorias_lista\n",
        "        if categoria not in categorias_solo_una_vez\n",
        "    ]\n",
        "    return \", \".join(categorias_filtradas)\n",
        "\n",
        "\n",
        "df_yelp_tips[\"categories\"] = df_yelp_tips[\"categories\"].apply(filtrar_categorias)\n",
        "\n",
        "print(\"DataFrame modificado eliminando las categorías que se repiten solo una vez:\")\n",
        "df_yelp_tips.head()"
      ]
    },
    {
      "cell_type": "markdown",
      "metadata": {},
      "source": [
        "A continuacion se revisará y corregirá en caso de ser necesario el tipo de dato de cada columna\n"
      ]
    },
    {
      "cell_type": "code",
      "execution_count": null,
      "metadata": {},
      "outputs": [],
      "source": [
        "df_yelp_users.head(1)"
      ]
    },
    {
      "cell_type": "code",
      "execution_count": null,
      "metadata": {},
      "outputs": [],
      "source": [
        "df_yelp_users.info()"
      ]
    },
    {
      "cell_type": "code",
      "execution_count": null,
      "metadata": {},
      "outputs": [],
      "source": [
        "df_yelp_checkin.head(1)"
      ]
    },
    {
      "cell_type": "code",
      "execution_count": null,
      "metadata": {},
      "outputs": [],
      "source": [
        "df_yelp_checkin.info()"
      ]
    },
    {
      "cell_type": "code",
      "execution_count": null,
      "metadata": {},
      "outputs": [],
      "source": [
        "df_yelp_restaurantes.head(1)"
      ]
    },
    {
      "cell_type": "code",
      "execution_count": null,
      "metadata": {},
      "outputs": [],
      "source": [
        "df_yelp_restaurantes.info()"
      ]
    },
    {
      "cell_type": "code",
      "execution_count": null,
      "metadata": {},
      "outputs": [],
      "source": [
        "df_yelp_tips.head(1)"
      ]
    },
    {
      "cell_type": "code",
      "execution_count": null,
      "metadata": {},
      "outputs": [],
      "source": [
        "df_yelp_tips.info()"
      ]
    },
    {
      "cell_type": "code",
      "execution_count": null,
      "metadata": {},
      "outputs": [],
      "source": [
        "df_yelp_reviews.head(3)"
      ]
    },
    {
      "cell_type": "code",
      "execution_count": null,
      "metadata": {},
      "outputs": [],
      "source": [
        "df_yelp_reviews.info()"
      ]
    },
    {
      "cell_type": "markdown",
      "metadata": {},
      "source": [
        "Los formatos se encuentran en su mayoria en el estado correcto, se harán los siguientes cambios\n",
        "\n",
        "- ### df_yelp_checkin, df_yelp_restaurantes df_yelp_tips:\n",
        "  Se cambia el formato de la columna _is_open_ de Entero a Booleano puesto sus datos eran 1 y 0\n",
        "- ### df_yelp_users, df_yelp_reviews:\n",
        "  En las columnas _yelping_since_ (referencia a la fecha de creción del usuario) y _date_ (referencia de la fecha de posteo de la reseña) se les quita la hora puesto que es un dato obsoleto y se cambia su formato a Datetime\n"
      ]
    },
    {
      "cell_type": "code",
      "execution_count": null,
      "metadata": {},
      "outputs": [],
      "source": [
        "df_yelp_checkin[\"is_open\"] = df_yelp_checkin[\"is_open\"].astype(bool)\n",
        "df_yelp_restaurantes[\"is_open\"] = df_yelp_restaurantes[\"is_open\"].astype(bool)\n",
        "df_yelp_tips[\"is_open\"] = df_yelp_tips[\"is_open\"].astype(bool)"
      ]
    },
    {
      "cell_type": "code",
      "execution_count": null,
      "metadata": {},
      "outputs": [],
      "source": [
        "df_yelp_users[\"yelping_since\"] = pd.to_datetime(df_yelp_users[\"yelping_since\"])\n",
        "df_yelp_reviews[\"date\"] = pd.to_datetime(df_yelp_reviews[\"date\"])\n",
        "df_yelp_reviews[\"date\"] = df_yelp_reviews[\"date\"].dt.date"
      ]
    },
    {
      "cell_type": "code",
      "execution_count": null,
      "metadata": {},
      "outputs": [],
      "source": [
        "df_maps_restaurantes.info()"
      ]
    },
    {
      "cell_type": "code",
      "execution_count": null,
      "metadata": {},
      "outputs": [],
      "source": [
        "df_maps_reviews.info()"
      ]
    },
    {
      "cell_type": "code",
      "execution_count": null,
      "metadata": {},
      "outputs": [],
      "source": [
        "df_yelp_restaurantes.info()"
      ]
    },
    {
      "cell_type": "code",
      "execution_count": null,
      "metadata": {},
      "outputs": [],
      "source": [
        "df_yelp_checkin.info()"
      ]
    },
    {
      "cell_type": "code",
      "execution_count": null,
      "metadata": {},
      "outputs": [],
      "source": [
        "df_yelp_tips.info()"
      ]
    },
    {
      "cell_type": "code",
      "execution_count": null,
      "metadata": {},
      "outputs": [],
      "source": [
        "df_yelp_reviews.info()"
      ]
    },
    {
      "cell_type": "code",
      "execution_count": null,
      "metadata": {},
      "outputs": [],
      "source": [
        "df_yelp_users.info()"
      ]
    },
    {
      "cell_type": "markdown",
      "metadata": {},
      "source": [
        "# Salida a parquet"
      ]
    },
    {
      "cell_type": "code",
      "execution_count": null,
      "metadata": {},
      "outputs": [],
      "source": [
        "df_maps_restaurantes.to_parquet(r'Generated\\Google\\metada_sitios.parquet')\n",
        "df_maps_reviews.to_parquet(r'Generated\\Google\\merge_site_reviews.parquet')\n",
        "df_yelp_restaurantes.to_parquet(r'Generated\\Yelp\\bussines.parquet')\n",
        "df_yelp_checkin.to_parquet(r'Generated\\YELP\\business_checkin.parquet')\n",
        "df_yelp_tips.to_parquet(r'Generated\\Yelp\\business_tip.parquet')\n",
        "df_yelp_reviews.to_parquet(r'Generated\\Yelp\\review.parquet')\n",
        "df_yelp_users.to_parquet(r'Generated\\Yelp\\users_extracted.parquet')"
      ]
    },
    {
      "cell_type": "markdown",
      "metadata": {},
      "source": [
        "Recordar consultar el [Diccionario de datos](./Datasets/Google%20Maps/Diccionario%20de%20datos.docx)\n"
      ]
    },
    {
      "cell_type": "markdown",
      "metadata": {},
      "source": [
        "# Importaciones"
      ]
    },
    {
      "cell_type": "code",
      "execution_count": null,
      "metadata": {},
      "outputs": [],
      "source": [
        "import pandas as pd\n",
        "import matplotlib.pyplot as plt\n",
        "import seaborn as sns\n",
        "import geopandas as gpd"
      ]
    },
    {
      "cell_type": "markdown",
      "metadata": {},
      "source": [
        "# Llamado de datos a dataframes"
      ]
    },
    {
      "cell_type": "code",
      "execution_count": null,
      "metadata": {},
      "outputs": [],
      "source": [
        "df_maps_restaurantes = pd.read_parquet(r'Generated\\Google\\metada_sitios.parquet')\n",
        "df_maps_reviews = pd.read_parquet(r'Generated\\Google\\merge_site_reviews.parquet')\n",
        "# df_yelp_restaurantes = pd.read_parquet(r'Generated\\Yelp\\bussines.parquet')\n",
        "# df_yelp_checkin = pd.read_parquet(r'Generated\\YELP\\business_checkin.parquet')\n",
        "# df_yelp_tips = pd.read_parquet(r'Generated\\Yelp\\business_tip.parquet')\n",
        "# df_yelp_reviews = pd.read_parquet(r'Generated\\Yelp\\review.parquet')\n",
        "# df_yelp_users = pd.read_parquet(r'Generated\\Yelp\\users_extracted.parquet')"
      ]
    },
    {
      "cell_type": "code",
      "execution_count": null,
      "metadata": {},
      "outputs": [],
      "source": [
        "df_maps_restaurantes.info()"
      ]
    },
    {
      "cell_type": "code",
      "execution_count": null,
      "metadata": {},
      "outputs": [],
      "source": [
        "df_maps_reviews.info()"
      ]
    },
    {
      "cell_type": "code",
      "execution_count": null,
      "metadata": {},
      "outputs": [],
      "source": [
        "df_yelp_restaurantes.info()"
      ]
    },
    {
      "cell_type": "code",
      "execution_count": null,
      "metadata": {},
      "outputs": [],
      "source": [
        "df_yelp_checkin.info()"
      ]
    },
    {
      "cell_type": "code",
      "execution_count": null,
      "metadata": {},
      "outputs": [],
      "source": [
        "df_yelp_tips.info()"
      ]
    },
    {
      "cell_type": "code",
      "execution_count": null,
      "metadata": {},
      "outputs": [],
      "source": [
        "df_yelp_reviews.info()"
      ]
    },
    {
      "cell_type": "code",
      "execution_count": null,
      "metadata": {},
      "outputs": [],
      "source": [
        "df_yelp_users.info()"
      ]
    },
    {
      "cell_type": "markdown",
      "metadata": {},
      "source": [
        "# Subway\n"
      ]
    },
    {
      "cell_type": "code",
      "execution_count": null,
      "metadata": {},
      "outputs": [],
      "source": [
        "# Utiliza str.contains() con una expresión regular para buscar nombres parecidos a \"Subway\"\n",
        "df_maps_records_restaurantes = df_maps_restaurantes[df_maps_restaurantes['name'].str.contains(r'Subway', case=False)]\n",
        "\n",
        "# Calcula el número de registros de Subway en restaurantes\n",
        "count_subway_records_restaurantes = df_maps_records_restaurantes.shape[0]\n",
        "\n",
        "# Imprime el número de registros de Subway en restaurantes\n",
        "print(\"Número de registros de Subway en restaurantes:\", count_subway_records_restaurantes)"
      ]
    },
    {
      "cell_type": "code",
      "execution_count": null,
      "metadata": {},
      "outputs": [],
      "source": [
        "df_maps_records_reviews = df_maps_reviews[df_maps_reviews['gmap_id'].isin(df_maps_records_restaurantes['gmap_id'].tolist())]\n",
        "\n",
        "# Calcula el número de registros de Subway en reviews\n",
        "count_subway_records_reviews = df_maps_records_reviews.shape[0]\n",
        "\n",
        "# Imprime el número de registros de Subway en reviews\n",
        "print(\"Número de registros de Subway en reviews:\", count_subway_records_reviews)"
      ]
    },
    {
      "cell_type": "code",
      "execution_count": null,
      "metadata": {},
      "outputs": [],
      "source": [
        "df_maps_restaurantes = df_maps_records_restaurantes\n",
        "df_maps_reviews = df_maps_records_reviews"
      ]
    },
    {
      "cell_type": "markdown",
      "metadata": {},
      "source": [
        "# Outlieers"
      ]
    },
    {
      "cell_type": "markdown",
      "metadata": {},
      "source": [
        "## df_maps_restaurantes"
      ]
    },
    {
      "cell_type": "code",
      "execution_count": null,
      "metadata": {},
      "outputs": [],
      "source": [
        "df_maps_restaurantes.info()"
      ]
    },
    {
      "cell_type": "markdown",
      "metadata": {},
      "source": [
        "### `avg_rating`"
      ]
    },
    {
      "cell_type": "markdown",
      "metadata": {},
      "source": [
        "Comprobamos que no haya datos fuera del rango (1:5)"
      ]
    },
    {
      "cell_type": "code",
      "execution_count": null,
      "metadata": {},
      "outputs": [],
      "source": [
        "df_maps_restaurantes['avg_rating'].value_counts()"
      ]
    },
    {
      "cell_type": "markdown",
      "metadata": {},
      "source": [
        "### ``num_of_reviews``"
      ]
    },
    {
      "cell_type": "markdown",
      "metadata": {},
      "source": [
        "Observamos la distribución de la columna `num_of_reviews`"
      ]
    },
    {
      "cell_type": "code",
      "execution_count": null,
      "metadata": {},
      "outputs": [],
      "source": [
        "# Crear el gráfico de caja\n",
        "sns.boxplot(x=df_maps_restaurantes['num_of_reviews'], color='blue')\n",
        "\n",
        "# Añadir etiquetas y título\n",
        "plt.xlabel('Valores')\n",
        "plt.title('Distribución num_of_reviews')\n",
        "\n",
        "# Mostrar el gráfico\n",
        "plt.show()"
      ]
    },
    {
      "cell_type": "markdown",
      "metadata": {},
      "source": [
        "Y decidimos eliminar datos que no sean representativos, siendo estos aquellos que posean mas de 160. Recortando asi un 3% `256` de los datos que poseiamos `9489`"
      ]
    },
    {
      "cell_type": "code",
      "execution_count": null,
      "metadata": {},
      "outputs": [],
      "source": [
        "df_maps_restaurantes.drop(df_maps_restaurantes[df_maps_restaurantes['num_of_reviews'] > 160].index, inplace=True) # saco 256 registros de 9489 equivale al 3%"
      ]
    },
    {
      "cell_type": "code",
      "execution_count": null,
      "metadata": {},
      "outputs": [],
      "source": [
        "# Crear el gráfico de caja\n",
        "sns.boxplot(x=df_maps_restaurantes['num_of_reviews'], color='blue')\n",
        "\n",
        "# Añadir etiquetas y título\n",
        "plt.xlabel('Valores')\n",
        "plt.title('Distribución num_of_reviews')\n",
        "\n",
        "# Mostrar el gráfico\n",
        "plt.show()"
      ]
    },
    {
      "cell_type": "markdown",
      "metadata": {},
      "source": [
        "### ``latitude`` y ``longitude``"
      ]
    },
    {
      "cell_type": "markdown",
      "metadata": {},
      "source": [
        "Graficamos los datos en un mapa de USA en busca de registros con coordenadas atipicas"
      ]
    },
    {
      "cell_type": "code",
      "execution_count": null,
      "metadata": {},
      "outputs": [],
      "source": [
        "# Cargar los datos geoespaciales del mapa GeoJSON\n",
        "usa_geojson = 'Geojson/us-states.json'\n",
        "usa_gpd = gpd.read_file(usa_geojson)\n",
        "\n",
        "# Crear un GeoDataFrame con los registros de tus datos\n",
        "registros_gdf = gpd.GeoDataFrame(df_maps_restaurantes, geometry=gpd.points_from_xy(df_maps_restaurantes['longitude'], df_maps_restaurantes['latitude']))\n",
        "\n",
        "# Crear el subplot\n",
        "fig, ax = plt.subplots(figsize=(10, 8))\n",
        "\n",
        "# Plotear los barrios en el mapa\n",
        "usa_gpd.plot(ax=ax, edgecolor='black', alpha=0.5)\n",
        "\n",
        "# Plotear los registros en el mapa\n",
        "registros_gdf.plot(ax=ax, color='red', markersize=1)\n",
        "\n",
        "# Ajustar diseño\n",
        "plt.title('Registros en el Mapa')\n",
        "plt.xlabel('Longitud')\n",
        "plt.ylabel('Latitud')\n",
        "\n",
        "# Agregar líneas de división y más valores en el eje horizontal (longitud)\n",
        "ax.set_xticks(range(-180, -60, 5))  # Establece las marcas en intervalos de 5 grados\n",
        "ax.set_xticklabels(range(-180, -60, 5), rotation=45)  # Etiquetas rotadas para una mejor legibilidad\n",
        "\n",
        "# Agregar líneas de división en los ejes x e y\n",
        "ax.grid(True)\n",
        "\n",
        "plt.tight_layout()\n",
        "\n",
        "# Mostrar el mapa\n",
        "plt.show()"
      ]
    },
    {
      "cell_type": "code",
      "execution_count": null,
      "metadata": {},
      "outputs": [],
      "source": [
        "df_maps_restaurantes.loc[(df_maps_restaurantes['latitude'] < 21) & (df_maps_restaurantes['longitude'] < -70) & (df_maps_restaurantes['longitude'] > -80)]"
      ]
    },
    {
      "cell_type": "markdown",
      "metadata": {},
      "source": [
        "Buscando en google la direccion me devuelve las correctas coordenadas del local"
      ]
    },
    {
      "cell_type": "code",
      "execution_count": null,
      "metadata": {},
      "outputs": [],
      "source": [
        "df_maps_restaurantes.loc[df_maps_restaurantes['gmap_id'] == \"0x8ececf93aaa3553b:0x80d37fdf4ff72429\", 'latitude'] = 43.127694\n",
        "df_maps_restaurantes.loc[df_maps_restaurantes['gmap_id'] == \"0x8ececf93aaa3553b:0x80d37fdf4ff72429\", 'longitude'] = -89.363469"
      ]
    },
    {
      "cell_type": "markdown",
      "metadata": {},
      "source": [
        "## Cruze de tablas"
      ]
    },
    {
      "cell_type": "markdown",
      "metadata": {},
      "source": [
        "Filtramos las reviews dejando solo las que pertenecen a los locales que quedaron luego del tratamiento de outliers"
      ]
    },
    {
      "cell_type": "code",
      "execution_count": null,
      "metadata": {},
      "outputs": [],
      "source": [
        "restaurantes = df_maps_restaurantes['gmap_id'].to_list()\n",
        "df_maps_reviews = df_maps_reviews[df_maps_reviews['gmap_id'].isin(restaurantes)]\n",
        "df_maps_reviews.info()"
      ]
    },
    {
      "cell_type": "markdown",
      "metadata": {},
      "source": [
        "## df_maps_reviews"
      ]
    },
    {
      "cell_type": "code",
      "execution_count": null,
      "metadata": {},
      "outputs": [],
      "source": [
        "df_maps_reviews.info()"
      ]
    },
    {
      "cell_type": "markdown",
      "metadata": {},
      "source": [
        "### `avg_rating`"
      ]
    },
    {
      "cell_type": "markdown",
      "metadata": {},
      "source": [
        "Comprobamos que no haya datos fuera del rango (1:5)"
      ]
    },
    {
      "cell_type": "code",
      "execution_count": null,
      "metadata": {},
      "outputs": [],
      "source": [
        "df_maps_reviews['avg_rating'].value_counts()"
      ]
    },
    {
      "cell_type": "markdown",
      "metadata": {},
      "source": [
        "### ``num_of_reviews``"
      ]
    },
    {
      "cell_type": "markdown",
      "metadata": {},
      "source": [
        "Observamos la distribución de la columna `num_of_reviews`"
      ]
    },
    {
      "cell_type": "code",
      "execution_count": null,
      "metadata": {},
      "outputs": [],
      "source": [
        "# Crear el gráfico de caja\n",
        "sns.boxplot(x=df_maps_reviews['num_of_reviews'], color='blue')\n",
        "\n",
        "# Añadir etiquetas y título\n",
        "plt.xlabel('Valores')\n",
        "plt.title('Distribución num_of_reviews')\n",
        "\n",
        "# Mostrar el gráfico\n",
        "plt.show()"
      ]
    },
    {
      "cell_type": "markdown",
      "metadata": {},
      "source": [
        "Y decidimos eliminar datos que no sean representativos, siendo estos aquellos que posean mas de 160. Recortando asi un 3% `256` de los datos que poseiamos `9489`"
      ]
    },
    {
      "cell_type": "code",
      "execution_count": null,
      "metadata": {},
      "outputs": [],
      "source": [
        "df_maps_restaurantes.drop(df_maps_restaurantes[df_maps_restaurantes['num_of_reviews'] > 160].index, inplace=True) # saco 256 registros de 9489 equivale al 3%"
      ]
    },
    {
      "cell_type": "code",
      "execution_count": null,
      "metadata": {},
      "outputs": [],
      "source": [
        "# Crear el gráfico de caja\n",
        "sns.boxplot(x=df_maps_restaurantes['num_of_reviews'], color='blue')\n",
        "\n",
        "# Añadir etiquetas y título\n",
        "plt.xlabel('Valores')\n",
        "plt.title('Distribución num_of_reviews')\n",
        "\n",
        "# Mostrar el gráfico\n",
        "plt.show()"
      ]
    },
    {
      "cell_type": "markdown",
      "metadata": {},
      "source": [
        "### ``latitude`` y ``longitude``"
      ]
    },
    {
      "cell_type": "markdown",
      "metadata": {},
      "source": [
        "Graficamos los datos en un mapa de USA en busca de registros con coordenadas atipicas"
      ]
    },
    {
      "cell_type": "code",
      "execution_count": null,
      "metadata": {},
      "outputs": [],
      "source": [
        "# Cargar los datos geoespaciales del mapa GeoJSON\n",
        "usa_geojson = 'Geojson/us-states.json'\n",
        "usa_gpd = gpd.read_file(usa_geojson)\n",
        "\n",
        "# Crear un GeoDataFrame con los registros de tus datos\n",
        "registros_gdf = gpd.GeoDataFrame(df_maps_reviews, geometry=gpd.points_from_xy(df_maps_reviews['longitude'], df_maps_reviews['latitude']))\n",
        "\n",
        "# Crear el subplot\n",
        "fig, ax = plt.subplots(figsize=(10, 8))\n",
        "\n",
        "# Plotear los barrios en el mapa\n",
        "usa_gpd.plot(ax=ax, edgecolor='black', alpha=0.5)\n",
        "\n",
        "# Plotear los registros en el mapa\n",
        "registros_gdf.plot(ax=ax, color='red', markersize=1)\n",
        "\n",
        "# Ajustar diseño\n",
        "plt.title('Registros en el Mapa')\n",
        "plt.xlabel('Longitud')\n",
        "plt.ylabel('Latitud')\n",
        "\n",
        "# Agregar líneas de división y más valores en el eje horizontal (longitud)\n",
        "ax.set_xticks(range(-180, -60, 5))  # Establece las marcas en intervalos de 5 grados\n",
        "ax.set_xticklabels(range(-180, -60, 5), rotation=45)  # Etiquetas rotadas para una mejor legibilidad\n",
        "\n",
        "# Agregar líneas de división en los ejes x e y\n",
        "ax.grid(True)\n",
        "\n",
        "plt.tight_layout()\n",
        "\n",
        "# Mostrar el mapa\n",
        "plt.show()"
      ]
    },
    {
      "cell_type": "markdown",
      "metadata": {},
      "source": [
        "# Tipos de datos"
      ]
    },
    {
      "cell_type": "markdown",
      "metadata": {},
      "source": [
        "## df_maps_restaurantes"
      ]
    },
    {
      "cell_type": "code",
      "execution_count": null,
      "metadata": {},
      "outputs": [],
      "source": [
        "df_maps_restaurantes.info()"
      ]
    },
    {
      "cell_type": "markdown",
      "metadata": {},
      "source": [
        "Cambiamos el tipo de datos de las columnas `avg_rating`, `num_of_reviews` y `price` para reducir el uso de memoria a cambio de precisiòn innecesaria en los datos"
      ]
    },
    {
      "cell_type": "code",
      "execution_count": null,
      "metadata": {},
      "outputs": [],
      "source": [
        "df_maps_restaurantes['avg_rating'] = df_maps_restaurantes['avg_rating'].astype('float32')\n",
        "\n",
        "df_maps_restaurantes['num_of_reviews'] = df_maps_restaurantes['num_of_reviews'].astype('int32')\n",
        "\n",
        "df_maps_restaurantes['price'] = df_maps_restaurantes['price'].astype('category')"
      ]
    },
    {
      "cell_type": "markdown",
      "metadata": {},
      "source": [
        "## df_maps_reviews"
      ]
    },
    {
      "cell_type": "code",
      "execution_count": null,
      "metadata": {},
      "outputs": [],
      "source": [
        "print(df_maps_reviews.info())"
      ]
    },
    {
      "cell_type": "markdown",
      "metadata": {},
      "source": [
        "Cambiamos el tipo de datos de las columnas para reducir el uso de memoria."
      ]
    },
    {
      "cell_type": "code",
      "execution_count": null,
      "metadata": {},
      "outputs": [],
      "source": [
        "# Convertir 'rating' a int8\n",
        "df_maps_reviews_copy = df_maps_reviews.copy()\n",
        "df_maps_reviews_copy['rating'] = df_maps_reviews_copy['rating'].astype('int8')\n",
        "\n",
        "# Convertir 'num_of_reviews' a int32\n",
        "df_maps_reviews_copy['num_of_reviews'] = df_maps_reviews_copy['num_of_reviews'].astype('int32')\n",
        "\n",
        "# Convertir 'price' a category\n",
        "df_maps_reviews_copy['price'] = df_maps_reviews_copy['price'].astype('category')\n",
        "\n",
        "# Convertir 'anio' a category\n",
        "df_maps_reviews_copy['anio'] = df_maps_reviews_copy['anio'].astype('category')\n",
        "\n",
        "# Convertir 'estado' a category\n",
        "df_maps_reviews_copy['estado'] = df_maps_reviews_copy['estado'].astype('category')\n",
        "\n",
        "# Convertir 'avg_rating' a float32\n",
        "df_maps_reviews_copy['avg_rating'] = df_maps_reviews_copy['avg_rating'].astype('float32')\n",
        "\n",
        "# Convertir 'state_ab' a category\n",
        "df_maps_reviews_copy['state_ab'] = df_maps_reviews_copy['state_ab'].astype('category')\n",
        "\n",
        "# Convertir 'us_state' a category\n",
        "df_maps_reviews_copy['us_state'] = df_maps_reviews_copy['us_state'].astype('category')\n",
        "\n",
        "# Asignar la copia modificada al DataFrame original\n",
        "df_maps_reviews = df_maps_reviews_copy"
      ]
    },
    {
      "cell_type": "markdown",
      "metadata": {},
      "source": [
        "Recordar consultar el [Diccionario de datos](./Datasets/Google%20Maps/Diccionario%20de%20datos.docx)\n"
      ]
    },
    {
      "cell_type": "markdown",
      "metadata": {},
      "source": [
        "# Importaciones"
      ]
    },
    {
      "cell_type": "code",
      "execution_count": null,
      "metadata": {},
      "outputs": [],
      "source": [
        "import pandas as pd\n",
        "import seaborn as sns\n",
        "import matplotlib.pyplot as plt\n",
        "import geopandas as gpd\n",
        "import contextily as ctx\n",
        "from shapely.geometry import Point\n",
        "import geopy\n"
      ]
    },
    {
      "cell_type": "markdown",
      "metadata": {},
      "source": [
        "# Llamado de datos a dataframes"
      ]
    },
    {
      "cell_type": "code",
      "execution_count": null,
      "metadata": {},
      "outputs": [],
      "source": [
        "df_maps_restaurantes = pd.read_parquet(r'Generated\\Google\\metada_sitios.parquet')\n",
        "df_maps_reviews = pd.read_parquet(r'Generated\\Google\\merge_site_reviews.parquet')\n",
        "df_yelp_restaurantes = pd.read_parquet(r'Generated\\Yelp\\bussines.parquet')\n",
        "df_yelp_checkin = pd.read_parquet(r'Generated\\YELP\\business_checkin.parquet')\n",
        "df_yelp_tips = pd.read_parquet(r'Generated\\Yelp\\business_tip.parquet')\n",
        "df_yelp_reviews = pd.read_parquet(r'Generated\\Yelp\\review.parquet')\n",
        "df_yelp_users = pd.read_parquet(r'Generated\\Yelp\\users_extracted.parquet')"
      ]
    },
    {
      "cell_type": "code",
      "execution_count": null,
      "metadata": {},
      "outputs": [],
      "source": [
        "df_maps_restaurantes.info()"
      ]
    },
    {
      "cell_type": "code",
      "execution_count": null,
      "metadata": {},
      "outputs": [],
      "source": [
        "df_maps_reviews.info()"
      ]
    },
    {
      "cell_type": "code",
      "execution_count": null,
      "metadata": {},
      "outputs": [],
      "source": [
        "df_yelp_restaurantes.info()"
      ]
    },
    {
      "cell_type": "code",
      "execution_count": null,
      "metadata": {},
      "outputs": [],
      "source": [
        "df_yelp_checkin.info()"
      ]
    },
    {
      "cell_type": "code",
      "execution_count": null,
      "metadata": {},
      "outputs": [],
      "source": [
        "df_yelp_tips.info()"
      ]
    },
    {
      "cell_type": "code",
      "execution_count": null,
      "metadata": {},
      "outputs": [],
      "source": [
        "df_yelp_reviews.info()"
      ]
    },
    {
      "cell_type": "code",
      "execution_count": null,
      "metadata": {},
      "outputs": [],
      "source": [
        "df_yelp_users.info()"
      ]
    },
    {
      "cell_type": "markdown",
      "metadata": {},
      "source": [
        "### Subway\n",
        "es la empresa con la que trabajaremos, empezaremos por ver cuantos registros hay en cada Dataframe\n"
      ]
    },
    {
      "cell_type": "code",
      "execution_count": null,
      "metadata": {},
      "outputs": [],
      "source": [
        "subway_records_rest = df_yelp_restaurantes.loc[df_yelp_restaurantes['name'] == 'Subway']\n",
        "count_subway_records_rest = subway_records_rest.shape[0] \n",
        "print(\"Número de registros de Subway en restaurantes:\", count_subway_records_rest)"
      ]
    },
    {
      "cell_type": "code",
      "execution_count": null,
      "metadata": {},
      "outputs": [],
      "source": [
        "subway_records_checkin = df_yelp_checkin.loc[df_yelp_checkin['name'] == 'Subway']\n",
        "count_subway_records_checkin = subway_records_checkin.shape[0] \n",
        "print(\"Número de registros de Subway en checkin:\", count_subway_records_checkin)"
      ]
    },
    {
      "cell_type": "code",
      "execution_count": null,
      "metadata": {},
      "outputs": [],
      "source": [
        "subway_records_tips = df_yelp_tips.loc[df_yelp_tips['name'] == 'Subway']\n",
        "count_subway_records_tips = subway_records_tips.shape[0] \n",
        "print(\"Número de registros de Subway tips:\", count_subway_records_tips)"
      ]
    },
    {
      "cell_type": "markdown",
      "metadata": {},
      "source": [
        "Para revisar el dataframe de reviews y el de usuarios, deberemos obtener el Business_id y usarlo de guía\n",
        "\n",
        "Para eso, crearemos una lista que contenga todos los business_id que correspondan a locales de Subway, luego crearemos un dataframe que contenga todas las reviews de subway y uno que contenga todos los usuarios que realizaron reviews"
      ]
    },
    {
      "cell_type": "code",
      "execution_count": null,
      "metadata": {},
      "outputs": [],
      "source": [
        "(df_yelp_restaurantes.loc[df_yelp_restaurantes['name']== 'Subway']).head(1)"
      ]
    },
    {
      "cell_type": "code",
      "execution_count": null,
      "metadata": {},
      "outputs": [],
      "source": [
        "subway_business_ids = df_yelp_restaurantes.loc[df_yelp_restaurantes['name'] == 'Subway', 'business_id'].tolist()\n",
        "len(subway_business_ids)"
      ]
    },
    {
      "cell_type": "code",
      "execution_count": null,
      "metadata": {},
      "outputs": [],
      "source": [
        "reviews_yelp_subway = df_yelp_reviews[df_yelp_reviews['business_id'].isin(subway_business_ids)]\n",
        "reviews_yelp_subway"
      ]
    },
    {
      "cell_type": "markdown",
      "metadata": {},
      "source": [
        "Ahora, obtendremos los usuarios\n",
        "\n",
        "Para hacer esto, obtendremos los user_id de nuestro recien creado **reviews_yelp_subway** y los usaremos como filtro para obtener los usuarios que han cualificado a algun local de subway, ademas, agregaremos una columna que contara cuantas reviews han hecho a subway"
      ]
    },
    {
      "cell_type": "code",
      "execution_count": null,
      "metadata": {},
      "outputs": [],
      "source": [
        "df_yelp_users.head(1)"
      ]
    },
    {
      "cell_type": "code",
      "execution_count": null,
      "metadata": {},
      "outputs": [],
      "source": [
        "unique_user_ids = reviews_yelp_subway['user_id'].unique()\n",
        "filtered_users = df_yelp_users[df_yelp_users['user_id'].isin(unique_user_ids)]\n",
        "subway_count = reviews_yelp_subway.groupby('user_id').size().reset_index(name='subway_count')\n",
        "users_yelp_subway = filtered_users.merge(subway_count, on='user_id', how='left')\n",
        "users_yelp_subway['subway_count'] = users_yelp_subway['subway_count'].fillna(0)\n",
        "users_yelp_subway.head(1)"
      ]
    },
    {
      "cell_type": "markdown",
      "metadata": {},
      "source": [
        "Repetiremos este proceso para obtener los datos de la competencia, serían los siguientes locales:\n",
        "- Dunkin'\n",
        "- McDonald's\n",
        "- Burger King"
      ]
    },
    {
      "cell_type": "code",
      "execution_count": null,
      "metadata": {},
      "outputs": [],
      "source": [
        "# Empezamos con Dunkin\n",
        "dunkin_business_ids = df_yelp_restaurantes.loc[df_yelp_restaurantes['name'] == \"Dunkin'\", 'business_id'].tolist()\n",
        "reviews_yelp_dunkin = df_yelp_reviews[df_yelp_reviews['business_id'].isin(dunkin_business_ids)]\n",
        "unique_user_ids = reviews_yelp_dunkin['user_id'].unique()\n",
        "filtered_users = df_yelp_users[df_yelp_users['user_id'].isin(unique_user_ids)]\n",
        "dunkin_count = reviews_yelp_dunkin.groupby('user_id').size().reset_index(name='dunkin_count')\n",
        "users_yelp_dunkin = filtered_users.merge(dunkin_count, on='user_id', how='left')\n",
        "users_yelp_dunkin['dunkin_count'] = users_yelp_dunkin['dunkin_count'].fillna(0)\n",
        "users_yelp_dunkin.head(1)\n"
      ]
    },
    {
      "cell_type": "code",
      "execution_count": null,
      "metadata": {},
      "outputs": [],
      "source": [
        "# el siguiente es McDonald´s\n",
        "mc_business_ids = df_yelp_restaurantes.loc[df_yelp_restaurantes['name'] == \"McDonald's\", 'business_id'].tolist()\n",
        "reviews_yelp_mc = df_yelp_reviews[df_yelp_reviews['business_id'].isin(mc_business_ids)]\n",
        "unique_user_ids = reviews_yelp_mc['user_id'].unique()\n",
        "filtered_users = df_yelp_users[df_yelp_users['user_id'].isin(unique_user_ids)]\n",
        "mc_count = reviews_yelp_mc.groupby('user_id').size().reset_index(name='mc_count')\n",
        "users_yelp_mc = filtered_users.merge(mc_count, on='user_id', how='left')\n",
        "users_yelp_mc['mc_count'] = users_yelp_mc['mc_count'].fillna(0)\n",
        "users_yelp_mc.head(1)\n"
      ]
    },
    {
      "cell_type": "code",
      "execution_count": null,
      "metadata": {},
      "outputs": [],
      "source": [
        "# terminamos con burguer king\n",
        "bk_business_ids = df_yelp_restaurantes.loc[df_yelp_restaurantes['name'] == \"Burger King\", 'business_id'].tolist()\n",
        "reviews_yelp_bk = df_yelp_reviews[df_yelp_reviews['business_id'].isin(bk_business_ids)]\n",
        "unique_user_ids = reviews_yelp_bk['user_id'].unique()\n",
        "filtered_users = df_yelp_users[df_yelp_users['user_id'].isin(unique_user_ids)]\n",
        "bk_count = reviews_yelp_bk.groupby('user_id').size().reset_index(name='bk_count')\n",
        "users_yelp_bk = filtered_users.merge(bk_count, on='user_id', how='left')\n",
        "users_yelp_bk['bk_count'] = users_yelp_bk['bk_count'].fillna(0)\n",
        "users_yelp_bk.head(1)\n"
      ]
    },
    {
      "cell_type": "markdown",
      "metadata": {},
      "source": [
        "Una vez hechos los dataframes de tanto el cliente como la competencia, los guardaremos en formato .csv\n"
      ]
    },
    {
      "cell_type": "code",
      "execution_count": null,
      "metadata": {},
      "outputs": [],
      "source": [
        "users_yelp_subway.to_csv('users_yelp_subway.csv', index=False)\n",
        "users_yelp_dunkin.to_csv('users_yelp_dunkin.csv', index=False)\n",
        "users_yelp_mc.to_csv('users_yelp_mc.csv', index=False)\n",
        "users_yelp_bk.to_csv('users_yelp_bk.csv', index=False)\n",
        "reviews_yelp_subway.to_csv('reviews_yelp_subway.csv', index=False)\n",
        "reviews_yelp_dunkin.to_csv('reviews_yelp_dunkin.csv', index=False)\n",
        "reviews_yelp_mc.to_csv('reviews_yelp_mc.csv', index=False)\n",
        "reviews_yelp_bk.to_csv('reviews_yelp_bk.csv', index=False)\n"
      ]
    },
    {
      "cell_type": "markdown",
      "metadata": {},
      "source": [
        "# Outlieers\n"
      ]
    },
    {
      "cell_type": "markdown",
      "metadata": {},
      "source": [
        "## df_yelp_checkin\n",
        "Se realiza un boxplot de la puntiación de estrellas y de la cantidad de reviews para visualizar posibles outliers"
      ]
    },
    {
      "cell_type": "code",
      "execution_count": null,
      "metadata": {},
      "outputs": [],
      "source": [
        "df_yelp_checkin.head(1)"
      ]
    },
    {
      "cell_type": "code",
      "execution_count": null,
      "metadata": {},
      "outputs": [],
      "source": [
        "subway_data_checkin = df_yelp_checkin[df_yelp_checkin['name']==('Subway')]\n",
        "\n",
        "plt.figure(figsize=(10, 6))\n",
        "plt.subplot(2, 1, 1)\n",
        "plt.boxplot(subway_data_checkin['stars'])\n",
        "plt.title('Boxplot de Stars para Subway checkin')\n",
        "plt.ylabel('Stars')\n",
        "\n",
        "plt.subplot(2, 1, 2)\n",
        "plt.boxplot(subway_data_checkin['review_count'])\n",
        "plt.title('Boxplot de Review Count para Subway checkin')\n",
        "plt.ylabel('Review Count')\n",
        "\n",
        "plt.tight_layout()\n",
        "plt.show()"
      ]
    },
    {
      "cell_type": "code",
      "execution_count": null,
      "metadata": {},
      "outputs": [],
      "source": [
        "df_yelp_checkin[(df_yelp_checkin['name'] == 'Subway') & (df_yelp_checkin['stars'] == 3.5)]\n"
      ]
    },
    {
      "cell_type": "markdown",
      "metadata": {},
      "source": [
        "Vamos a quitar todas aquellas categorias que solo se repiten una vez, pero primero vamos a recorrerlas para tener una noción de lo que tratan"
      ]
    },
    {
      "cell_type": "code",
      "execution_count": null,
      "metadata": {},
      "outputs": [],
      "source": [
        "categorias = df_yelp_checkin['categories'].tolist()\n",
        "categorias_separadas = [categoria.split(\", \") for categoria in categorias]\n",
        "todas_categorias = [item for sublist in categorias_separadas for item in sublist]\n",
        "frecuencia_categorias = {categoria: todas_categorias.count(categoria) for categoria in set(todas_categorias)}\n",
        "categorias_menos_comunes = sorted(frecuencia_categorias.items(), key=lambda x: x[1])\n",
        "menos_repetidas = categorias_menos_comunes[:89]\n",
        "\n",
        "print(\"Las menos repetidas son:\")\n",
        "for categoria, frecuencia in menos_repetidas:\n",
        "    print(f\"{categoria}: {frecuencia} veces\")\n"
      ]
    },
    {
      "cell_type": "markdown",
      "metadata": {},
      "source": [
        "Al ser obsoletas todos, prodecemos a su extracción"
      ]
    },
    {
      "cell_type": "code",
      "execution_count": null,
      "metadata": {},
      "outputs": [],
      "source": [
        "categorias = df_yelp_checkin['categories'].str.split(', ').explode()\n",
        "\n",
        "frecuencia_categorias = categorias.value_counts()\n",
        "\n",
        "categorias_solo_una_vez = frecuencia_categorias[frecuencia_categorias == 1].index.tolist()\n",
        "def filtrar_categorias(categoria_str):\n",
        "    categorias_lista = categoria_str.split(', ')\n",
        "    categorias_filtradas = [categoria for categoria in categorias_lista if categoria not in categorias_solo_una_vez]\n",
        "    return ', '.join(categorias_filtradas)\n",
        "df_yelp_checkin['categories'] = df_yelp_checkin['categories'].apply(filtrar_categorias)\n",
        "\n",
        "print(\"DataFrame modificado eliminando las categorías que se repiten solo una vez:\")\n",
        "df_yelp_checkin.head()"
      ]
    },
    {
      "cell_type": "markdown",
      "metadata": {},
      "source": [
        "repetimos el mismo proceso parra **df_yelp_restaurantes**"
      ]
    },
    {
      "cell_type": "code",
      "execution_count": null,
      "metadata": {},
      "outputs": [],
      "source": [
        "subway_rest_data = df_yelp_restaurantes.loc[df_yelp_restaurantes['name'] == 'Subway']"
      ]
    },
    {
      "cell_type": "code",
      "execution_count": null,
      "metadata": {},
      "outputs": [],
      "source": [
        "plt.figure(figsize=(10, 6))\n",
        "plt.subplot(2, 1, 1)\n",
        "plt.boxplot(subway_rest_data['stars'])\n",
        "plt.title('Boxplot de Stars para Subway restaurantes')\n",
        "plt.ylabel('Stars')\n",
        "\n",
        "plt.subplot(2, 1, 2)\n",
        "plt.boxplot(subway_rest_data['review_count'])\n",
        "plt.title('Boxplot de Review Count para Subway restaurantes')\n",
        "plt.ylabel('Review Count')\n",
        "\n",
        "plt.tight_layout()\n",
        "plt.show()"
      ]
    },
    {
      "cell_type": "code",
      "execution_count": null,
      "metadata": {},
      "outputs": [],
      "source": [
        "df_yelp_restaurantes[(df_yelp_restaurantes['name'] == 'Subway') & (df_yelp_restaurantes['review_count'] > 17)]"
      ]
    },
    {
      "cell_type": "markdown",
      "metadata": {},
      "source": [
        "Eliminacion de etiquetas de categoría obsoletos"
      ]
    },
    {
      "cell_type": "code",
      "execution_count": null,
      "metadata": {},
      "outputs": [],
      "source": [
        "categorias = df_yelp_restaurantes['categories'].tolist()\n",
        "categorias_separadas = [categoria.split(\", \") for categoria in categorias]\n",
        "todas_categorias = [item for sublist in categorias_separadas for item in sublist]\n",
        "frecuencia_categorias = {categoria: todas_categorias.count(categoria) for categoria in set(todas_categorias)}\n",
        "categorias_menos_comunes = sorted(frecuencia_categorias.items(), key=lambda x: x[1])\n",
        "menos_repetidas = categorias_menos_comunes[:167]\n",
        "\n",
        "print(\"Las menos repetidas son:\")\n",
        "for categoria, frecuencia in menos_repetidas:\n",
        "    print(f\"{categoria}: {frecuencia} veces\")"
      ]
    },
    {
      "cell_type": "code",
      "execution_count": null,
      "metadata": {},
      "outputs": [],
      "source": [
        "categorias = df_yelp_restaurantes['categories'].str.split(', ').explode()\n",
        "\n",
        "frecuencia_categorias = categorias.value_counts()\n",
        "\n",
        "categorias_solo_una_vez = frecuencia_categorias[frecuencia_categorias == 1].index.tolist()\n",
        "\n",
        "def filtrar_categorias(categoria_str):\n",
        "    categorias_lista = categoria_str.split(', ')\n",
        "    categorias_filtradas = [categoria for categoria in categorias_lista if categoria not in categorias_solo_una_vez]\n",
        "    return ', '.join(categorias_filtradas)\n",
        "\n",
        "df_yelp_restaurantes['categories'] = df_yelp_restaurantes['categories'].apply(filtrar_categorias)\n",
        "\n",
        "print(\"DataFrame modificado eliminando las categorías que se repiten solo una vez:\")\n",
        "df_yelp_restaurantes.head()\n"
      ]
    },
    {
      "cell_type": "markdown",
      "metadata": {},
      "source": [
        "Repetimos una vez mas el procedimiento pero esta vez con ***df_yelp_tips***"
      ]
    },
    {
      "cell_type": "code",
      "execution_count": null,
      "metadata": {},
      "outputs": [],
      "source": [
        "subway_data_tips = df_yelp_tips[df_yelp_tips['name']== 'Subway']"
      ]
    },
    {
      "cell_type": "code",
      "execution_count": null,
      "metadata": {},
      "outputs": [],
      "source": [
        "plt.figure(figsize=(10, 6))\n",
        "plt.subplot(2, 1, 1)\n",
        "plt.boxplot(subway_data_tips['stars'])\n",
        "plt.title('Boxplot de Stars para Subway tips')\n",
        "plt.ylabel('Stars')\n",
        "\n",
        "plt.subplot(2, 1, 2)\n",
        "plt.boxplot(subway_data_tips['review_count'])\n",
        "plt.title('Boxplot de Review Count para Subway tips')\n",
        "plt.ylabel('Review Count')\n",
        "\n",
        "plt.tight_layout()\n",
        "plt.show()"
      ]
    },
    {
      "cell_type": "code",
      "execution_count": null,
      "metadata": {},
      "outputs": [],
      "source": [
        "df_yelp_tips[(df_yelp_tips['name'] == 'Subway') & (df_yelp_tips['review_count'] > 20)]\n"
      ]
    },
    {
      "cell_type": "markdown",
      "metadata": {},
      "source": [
        "Una vez mas, repetimos el proceso en las categorías "
      ]
    },
    {
      "cell_type": "code",
      "execution_count": null,
      "metadata": {},
      "outputs": [],
      "source": [
        "categorias = df_yelp_tips['categories'].tolist()\n",
        "categorias_separadas = [categoria.split(\", \") for categoria in categorias]\n",
        "todas_categorias = [item for sublist in categorias_separadas for item in sublist]\n",
        "frecuencia_categorias = {categoria: todas_categorias.count(categoria) for categoria in set(todas_categorias)}\n",
        "categorias_menos_comunes = sorted(frecuencia_categorias.items(), key=lambda x: x[1])\n",
        "menos_repetidas = categorias_menos_comunes[:44]\n",
        "\n",
        "print(\"Las menos repetidas son:\")\n",
        "for categoria, frecuencia in menos_repetidas:\n",
        "    print(f\"{categoria}: {frecuencia} veces\")"
      ]
    },
    {
      "cell_type": "code",
      "execution_count": null,
      "metadata": {},
      "outputs": [],
      "source": [
        "categorias = df_yelp_tips['categories'].str.split(', ').explode()\n",
        "\n",
        "frecuencia_categorias = categorias.value_counts()\n",
        "\n",
        "categorias_solo_una_vez = frecuencia_categorias[frecuencia_categorias == 1].index.tolist()\n",
        "\n",
        "def filtrar_categorias(categoria_str):\n",
        "    categorias_lista = categoria_str.split(', ')\n",
        "    categorias_filtradas = [categoria for categoria in categorias_lista if categoria not in categorias_solo_una_vez]\n",
        "    return ', '.join(categorias_filtradas)\n",
        "df_yelp_tips['categories'] = df_yelp_tips['categories'].apply(filtrar_categorias)\n",
        "\n",
        "print(\"DataFrame modificado eliminando las categorías que se repiten solo una vez:\")\n",
        "df_yelp_tips.head()"
      ]
    },
    {
      "cell_type": "markdown",
      "metadata": {},
      "source": [
        "A continuacion se revisará y corregirá en caso de ser necesario el tipo de dato de cada columna"
      ]
    },
    {
      "cell_type": "code",
      "execution_count": null,
      "metadata": {},
      "outputs": [],
      "source": [
        "df_yelp_users.head(1)"
      ]
    },
    {
      "cell_type": "code",
      "execution_count": null,
      "metadata": {},
      "outputs": [],
      "source": [
        "df_yelp_users.info()"
      ]
    },
    {
      "cell_type": "code",
      "execution_count": null,
      "metadata": {},
      "outputs": [],
      "source": [
        "df_yelp_checkin.head(1)"
      ]
    },
    {
      "cell_type": "code",
      "execution_count": null,
      "metadata": {},
      "outputs": [],
      "source": [
        "df_yelp_checkin.info()"
      ]
    },
    {
      "cell_type": "code",
      "execution_count": null,
      "metadata": {},
      "outputs": [],
      "source": [
        "df_yelp_restaurantes.head(1)"
      ]
    },
    {
      "cell_type": "code",
      "execution_count": null,
      "metadata": {},
      "outputs": [],
      "source": [
        "df_yelp_restaurantes.info()"
      ]
    },
    {
      "cell_type": "code",
      "execution_count": null,
      "metadata": {},
      "outputs": [],
      "source": [
        "df_yelp_tips.head(1)"
      ]
    },
    {
      "cell_type": "code",
      "execution_count": null,
      "metadata": {},
      "outputs": [],
      "source": [
        "df_yelp_tips.info()"
      ]
    },
    {
      "cell_type": "code",
      "execution_count": null,
      "metadata": {},
      "outputs": [],
      "source": [
        "df_yelp_reviews.head(3)"
      ]
    },
    {
      "cell_type": "code",
      "execution_count": null,
      "metadata": {},
      "outputs": [],
      "source": [
        "df_yelp_reviews.info()"
      ]
    },
    {
      "cell_type": "markdown",
      "metadata": {},
      "source": [
        "Los formatos se encuentran en su mayoria en el estado correcto, se harán los siguientes cambios\n",
        "- ### df_yelp_checkin, df_yelp_restaurantes df_yelp_tips:\n",
        " Se cambia el formato de la columna *is_open* de Entero a Booleano puesto sus datos eran 1 y 0\n",
        " - ### df_yelp_users, df_yelp_reviews: \n",
        " En las columnas *yelping_since* (referencia a la fecha de creción del usuario) y *date* (referencia de la fecha de posteo de la reseña) se les quita la hora puesto que es un dato obsoleto y se cambia su formato a Datetime"
      ]
    },
    {
      "cell_type": "code",
      "execution_count": null,
      "metadata": {},
      "outputs": [],
      "source": [
        "df_yelp_checkin['is_open'] = df_yelp_checkin['is_open'].astype(bool)\n",
        "df_yelp_restaurantes['is_open'] = df_yelp_restaurantes['is_open'].astype(bool)\n",
        "df_yelp_tips['is_open'] = df_yelp_tips['is_open'].astype(bool)"
      ]
    },
    {
      "cell_type": "code",
      "execution_count": null,
      "metadata": {},
      "outputs": [],
      "source": [
        "df_yelp_users['yelping_since'] = pd.to_datetime(df_yelp_users['yelping_since'])\n",
        "df_yelp_reviews['date'] = pd.to_datetime(df_yelp_reviews['date'])\n",
        "df_yelp_reviews['date'] = df_yelp_reviews['date'].dt.date"
      ]
    },
    {
      "cell_type": "markdown",
      "metadata": {},
      "source": [
        "A continuación revisaremos las latitudes y longitudes de los dataframes, con la ayuda de geopandas\n",
        "\n",
        "En ambos casos (df_yelp_restaurantes y df_yelp_tips) encontramos que hay datos que corresponden a una ciudad de Canadá, datos que serán extraidos\n"
      ]
    },
    {
      "cell_type": "code",
      "execution_count": null,
      "metadata": {},
      "outputs": [],
      "source": [
        "df_yelp_restaurantes.head(1)"
      ]
    },
    {
      "cell_type": "code",
      "execution_count": null,
      "metadata": {},
      "outputs": [],
      "source": [
        "subway_df_rest = df_yelp_restaurantes[df_yelp_restaurantes['name']== 'Subway']\n",
        "usa = gpd.read_file(gpd.datasets.get_path('naturalearth_lowres'))\n",
        "fig, ax = plt.subplots(figsize=(10, 6))\n",
        "usa.plot(ax=ax, color='lightgrey')\n",
        "ax.scatter(subway_df_rest['longitude'], subway_df_rest['latitude'], color='red', label='Subway')\n",
        "plt.title('Ubicación de restaurantes Subway en Estados Unidos')\n",
        "plt.xlabel('Longitud')\n",
        "plt.ylabel('Latitud')\n",
        "plt.legend()\n",
        "plt.show()"
      ]
    },
    {
      "cell_type": "code",
      "execution_count": null,
      "metadata": {},
      "outputs": [],
      "source": [
        "df_yelp_restaurantes = df_yelp_restaurantes.drop(df_yelp_restaurantes[(df_yelp_restaurantes['latitude'] > 50)].index)\n"
      ]
    },
    {
      "cell_type": "code",
      "execution_count": null,
      "metadata": {},
      "outputs": [],
      "source": [
        "subway_df = df_yelp_restaurantes[df_yelp_restaurantes['name']== 'Subway']\n",
        "usa = gpd.read_file(gpd.datasets.get_path('naturalearth_lowres'))\n",
        "fig, ax = plt.subplots(figsize=(10, 6))\n",
        "usa.plot(ax=ax, color='lightgrey')\n",
        "ax.scatter(subway_df['longitude'], subway_df['latitude'], color='red', label='Subway')\n",
        "plt.title('Ubicación de restaurantes Subway en Estados Unidos')\n",
        "plt.xlabel('Longitud')\n",
        "plt.ylabel('Latitud')\n",
        "plt.legend()\n",
        "plt.show()"
      ]
    },
    {
      "cell_type": "code",
      "execution_count": null,
      "metadata": {},
      "outputs": [],
      "source": [
        "subway_df_tips = df_yelp_tips[df_yelp_tips['name']== 'Subway']\n",
        "usa = gpd.read_file(gpd.datasets.get_path('naturalearth_lowres'))\n",
        "fig, ax = plt.subplots(figsize=(10, 6))\n",
        "usa.plot(ax=ax, color='lightgrey')\n",
        "ax.scatter(subway_df_tips['longitude'], subway_df_tips['latitude'], color='red', label='Subway')\n",
        "plt.title('Ubicación de restaurantes Subway en Estados Unidos')\n",
        "plt.xlabel('Longitud')\n",
        "plt.ylabel('Latitud')\n",
        "plt.legend()\n",
        "plt.show()"
      ]
    },
    {
      "cell_type": "code",
      "execution_count": null,
      "metadata": {},
      "outputs": [],
      "source": [
        "df_yelp_tips = df_yelp_tips.drop(df_yelp_tips[(df_yelp_tips['latitude'] > 50)].index)"
      ]
    },
    {
      "cell_type": "code",
      "execution_count": null,
      "metadata": {},
      "outputs": [],
      "source": [
        "subway_df_tips = df_yelp_tips[df_yelp_tips['name']== 'Subway']\n",
        "usa = gpd.read_file(gpd.datasets.get_path('naturalearth_lowres'))\n",
        "fig, ax = plt.subplots(figsize=(10, 6))\n",
        "usa.plot(ax=ax, color='lightgrey')\n",
        "ax.scatter(subway_df_tips['longitude'], subway_df_tips['latitude'], color='red', label='Subway')\n",
        "plt.title('Ubicación de restaurantes Subway en Estados Unidos')\n",
        "plt.xlabel('Longitud')\n",
        "plt.ylabel('Latitud')\n",
        "plt.legend()\n",
        "plt.show()"
      ]
    },
    {
      "cell_type": "markdown",
      "metadata": {},
      "source": [
        "Recordar consultar el [Diccionario de datos](./Datasets/Google%20Maps/Diccionario%20de%20datos.docx)\n"
      ]
    },
    {
      "cell_type": "markdown",
      "metadata": {},
      "source": [
        "# Importaciones"
      ]
    },
    {
      "cell_type": "code",
      "execution_count": null,
      "metadata": {},
      "outputs": [],
      "source": [
        "import pandas as pd\n",
        "import seaborn as sns\n",
        "import matplotlib.pyplot as plt\n",
        "from geopy.geocoders import Nominatim"
      ]
    },
    {
      "cell_type": "markdown",
      "metadata": {},
      "source": [
        "# Llamado de datos a dataframes"
      ]
    },
    {
      "cell_type": "code",
      "execution_count": null,
      "metadata": {},
      "outputs": [],
      "source": [
        "df_maps_restaurantes = pd.read_parquet(r'Generated\\Google\\metada_sitios.parquet')\n",
        "df_maps_reviews = pd.read_parquet(r'Generated\\Google\\merge_site_reviews.parquet')\n",
        "df_yelp_restaurantes = pd.read_parquet(r'Generated\\Yelp\\bussines.parquet')\n",
        "df_yelp_checkin = pd.read_parquet(r'Generated\\YELP\\business_checkin.parquet')\n",
        "df_yelp_tips = pd.read_parquet(r'Generated\\Yelp\\business_tip.parquet')\n",
        "df_yelp_reviews = pd.read_parquet(r'Generated\\Yelp\\review.parquet')\n",
        "df_yelp_users = pd.read_parquet(r'Generated\\Yelp\\users_extracted.parquet')"
      ]
    },
    {
      "cell_type": "code",
      "execution_count": null,
      "metadata": {},
      "outputs": [],
      "source": [
        "df_maps_restaurantes.info()"
      ]
    },
    {
      "cell_type": "code",
      "execution_count": null,
      "metadata": {},
      "outputs": [],
      "source": [
        "df_maps_reviews.info()"
      ]
    },
    {
      "cell_type": "code",
      "execution_count": null,
      "metadata": {},
      "outputs": [],
      "source": [
        "df_yelp_restaurantes.info()"
      ]
    },
    {
      "cell_type": "code",
      "execution_count": null,
      "metadata": {},
      "outputs": [],
      "source": [
        "df_yelp_checkin.info()"
      ]
    },
    {
      "cell_type": "code",
      "execution_count": null,
      "metadata": {},
      "outputs": [],
      "source": [
        "df_yelp_tips.info()"
      ]
    },
    {
      "cell_type": "code",
      "execution_count": null,
      "metadata": {},
      "outputs": [],
      "source": [
        "df_yelp_reviews.info()"
      ]
    },
    {
      "cell_type": "code",
      "execution_count": null,
      "metadata": {},
      "outputs": [],
      "source": [
        "df_yelp_users.info()"
      ]
    },
    {
      "cell_type": "markdown",
      "metadata": {},
      "source": [
        "# Verificacion de valores nulos"
      ]
    },
    {
      "cell_type": "markdown",
      "metadata": {},
      "source": [
        "Visualizamos los valores nulos de manera grafica con un mapa de calor"
      ]
    },
    {
      "cell_type": "code",
      "execution_count": null,
      "metadata": {},
      "outputs": [],
      "source": [
        "sns.heatmap(df_maps_restaurantes.isnull(), cmap='viridis', cbar=False)\n",
        "plt.title('Mapa de calor de valores faltantes')\n",
        "plt.show()"
      ]
    },
    {
      "cell_type": "markdown",
      "metadata": {},
      "source": [
        "Analizamos el porcentaje de valores nulos presentes en cada columna"
      ]
    },
    {
      "cell_type": "code",
      "execution_count": null,
      "metadata": {},
      "outputs": [],
      "source": [
        "porcnull_rest = df_maps_restaurantes.isnull().mean() * 100\n",
        "columnasnull_rest = porcnull_rest[porcnull_rest > 0]\n",
        "columnasnull_rest"
      ]
    },
    {
      "cell_type": "markdown",
      "metadata": {},
      "source": [
        "Desechamos las columnas irrelevantes con un porcentaje alto de valores nulos "
      ]
    },
    {
      "cell_type": "code",
      "execution_count": null,
      "metadata": {},
      "outputs": [],
      "source": [
        "df_maps_rest_mod = df_maps_restaurantes.drop(['description','price'],axis=1)"
      ]
    },
    {
      "cell_type": "markdown",
      "metadata": {},
      "source": [
        "Se rellenan los valores nulos "
      ]
    },
    {
      "cell_type": "code",
      "execution_count": null,
      "metadata": {},
      "outputs": [],
      "source": [
        "df_maps_rest_mod['hours'] = df_maps_rest_mod['hours'].fillna(\"\").apply(list)\n",
        "df_maps_rest_mod['state'].fillna(value='N/A',inplace=True)\n",
        "df_maps_rest_mod['address'].fillna(value='N/A',inplace=True)\n",
        "df_maps_rest_mod['MISC'] = df_maps_rest_mod['MISC'].fillna(\"\").apply(dict)\n",
        "df_maps_rest_mod['relative_results'] = df_maps_rest_mod['relative_results'].fillna(\"\").apply(list)"
      ]
    },
    {
      "cell_type": "markdown",
      "metadata": {},
      "source": [
        "Se verifica la ausencia de valores nulos"
      ]
    },
    {
      "cell_type": "code",
      "execution_count": null,
      "metadata": {},
      "outputs": [],
      "source": [
        "sns.heatmap(df_maps_rest_mod.isnull(), cmap='viridis', cbar=False)\n",
        "plt.title('Mapa de calor de valores faltantes')\n",
        "plt.show()"
      ]
    },
    {
      "cell_type": "markdown",
      "metadata": {},
      "source": [
        "Se realiza el mismo procedimiento"
      ]
    },
    {
      "cell_type": "code",
      "execution_count": null,
      "metadata": {},
      "outputs": [],
      "source": [
        "sns.heatmap(df_maps_reviews.isnull(), cmap='viridis', cbar=False)\n",
        "plt.title('Mapa de calor de valores faltantes')\n",
        "plt.show()"
      ]
    },
    {
      "cell_type": "code",
      "execution_count": null,
      "metadata": {},
      "outputs": [],
      "source": [
        "porcnull_review = df_maps_reviews.isnull().mean() * 100\n",
        "columnasnull_review = porcnull_review[porcnull_review > 0]\n",
        "columnasnull_review"
      ]
    },
    {
      "cell_type": "code",
      "execution_count": null,
      "metadata": {},
      "outputs": [],
      "source": [
        "df_maps_reviews_mod = df_maps_reviews.drop(['pics','resp'],axis=1)"
      ]
    },
    {
      "cell_type": "code",
      "execution_count": null,
      "metadata": {},
      "outputs": [],
      "source": [
        "df_maps_reviews_mod['text'].fillna(value='N/A',inplace=True)\n",
        "df_maps_reviews_mod['address'].fillna(value='N/A',inplace=True)\n",
        "df_maps_reviews_mod['description'].fillna(value='N/A',inplace=True)\n",
        "df_maps_reviews_mod['price'].fillna(value='-',inplace=True)\n",
        "df_maps_reviews_mod['hours'] = df_maps_reviews_mod['hours'].fillna(\"\").apply(list)\n",
        "df_maps_reviews_mod['MISC'] = df_maps_reviews_mod['MISC'].fillna(\"\").apply(dict)\n",
        "df_maps_reviews_mod['state'].fillna(value='N/A',inplace=True)\n",
        "df_maps_reviews_mod['relative_results'] = df_maps_reviews_mod['relative_results'].fillna(\"\").apply(list)\n",
        "df_maps_reviews_mod['state_ab'].fillna(value='N/A',inplace=True)\n",
        "df_maps_reviews_mod['us_state'].fillna(value='N/A',inplace=True)"
      ]
    },
    {
      "cell_type": "code",
      "execution_count": null,
      "metadata": {},
      "outputs": [],
      "source": [
        "sns.heatmap(df_maps_reviews_mod.isnull(), cmap='viridis', cbar=False)\n",
        "plt.title('Mapa de calor de valores faltantes')\n",
        "plt.show()"
      ]
    },
    {
      "cell_type": "markdown",
      "metadata": {},
      "source": [
        "# Comprobar distribucion de los datos"
      ]
    },
    {
      "cell_type": "code",
      "execution_count": null,
      "metadata": {},
      "outputs": [],
      "source": [
        "df_yelp_reviews['stars'].describe()"
      ]
    },
    {
      "cell_type": "markdown",
      "metadata": {},
      "source": [
        "La mayoría de las clasificaciones se encuentran en la categoría de 5 estrellas, mientras las clasificaciones de 1 y 2 estrellas son significativamente menores en comparación, lo que sugiere que la mayoría de los usuarios tienden a expresar opiniones muy favorables por encima de las negativas."
      ]
    },
    {
      "cell_type": "code",
      "execution_count": null,
      "metadata": {},
      "outputs": [],
      "source": [
        "df_yelp_reviews['stars'].value_counts().plot(kind='bar')\n",
        "plt.title('Distribución de Estrellas')\n",
        "plt.xlabel('Estrellas')\n",
        "plt.ylabel('Cantidad')\n",
        "plt.show()"
      ]
    },
    {
      "cell_type": "code",
      "execution_count": null,
      "metadata": {},
      "outputs": [],
      "source": [
        "df_yelp_reviews['funny'].describe()"
      ]
    },
    {
      "cell_type": "markdown",
      "metadata": {},
      "source": [
        "Nos indica que casi el 90% de las reseñas carecen de votaciones 'funny'"
      ]
    },
    {
      "cell_type": "code",
      "execution_count": null,
      "metadata": {},
      "outputs": [],
      "source": [
        "df_yelp_reviews['funny'].value_counts().plot(kind='bar')\n",
        "plt.title('Distribución de votaciones \"funny\"')\n",
        "plt.xlabel('Funny')\n",
        "plt.ylabel('Cantidad')\n",
        "plt.show()"
      ]
    },
    {
      "cell_type": "code",
      "execution_count": null,
      "metadata": {},
      "outputs": [],
      "source": [
        "df_yelp_reviews['cool'].describe()"
      ]
    },
    {
      "cell_type": "markdown",
      "metadata": {},
      "source": [
        "Al rededor del 70% de reseñas no cuentan con votaciones 'cool'"
      ]
    },
    {
      "cell_type": "code",
      "execution_count": null,
      "metadata": {},
      "outputs": [],
      "source": [
        "df_yelp_reviews['cool'].value_counts().plot(kind='bar')\n",
        "plt.title('Distribución de votaciones \"cool\"')\n",
        "plt.xlabel('Cool')\n",
        "plt.ylabel('Cantidad')\n",
        "plt.show()"
      ]
    },
    {
      "cell_type": "code",
      "execution_count": null,
      "metadata": {},
      "outputs": [],
      "source": [
        "df_yelp_users['review_count'].describe()"
      ]
    },
    {
      "cell_type": "code",
      "execution_count": null,
      "metadata": {},
      "outputs": [],
      "source": [
        "df_yelp_users.boxplot(column='review_count')\n",
        "plt.title('Boxplot conteo de reseñas')\n",
        "plt.show()"
      ]
    },
    {
      "cell_type": "code",
      "execution_count": null,
      "metadata": {},
      "outputs": [],
      "source": [
        "df_yelp_users['useful'].describe()"
      ]
    },
    {
      "cell_type": "code",
      "execution_count": null,
      "metadata": {},
      "outputs": [],
      "source": [
        "df_yelp_users.boxplot(column='useful')\n",
        "plt.title('Boxplot votos \"useful\"')\n",
        "plt.show()"
      ]
    },
    {
      "cell_type": "code",
      "execution_count": null,
      "metadata": {},
      "outputs": [],
      "source": [
        "df_yelp_users['funny'].describe()"
      ]
    },
    {
      "cell_type": "code",
      "execution_count": null,
      "metadata": {},
      "outputs": [],
      "source": [
        "df_yelp_users.boxplot(column='funny')\n",
        "plt.title('Boxplot votos \"funny\"')\n",
        "plt.show()"
      ]
    },
    {
      "cell_type": "code",
      "execution_count": null,
      "metadata": {},
      "outputs": [],
      "source": [
        "df_yelp_users['cool'].describe()"
      ]
    },
    {
      "cell_type": "code",
      "execution_count": null,
      "metadata": {},
      "outputs": [],
      "source": [
        "df_yelp_users.boxplot(column='cool')\n",
        "plt.title('Boxplot votos \"cool\"')\n",
        "plt.show()"
      ]
    },
    {
      "cell_type": "code",
      "execution_count": null,
      "metadata": {},
      "outputs": [],
      "source": [
        "df_yelp_users['fans'].describe()"
      ]
    },
    {
      "cell_type": "code",
      "execution_count": null,
      "metadata": {},
      "outputs": [],
      "source": [
        "df_yelp_users.boxplot(column='fans')\n",
        "plt.title('Boxplot fans')\n",
        "plt.show()"
      ]
    },
    {
      "cell_type": "code",
      "execution_count": null,
      "metadata": {},
      "outputs": [],
      "source": [
        "df_yelp_users['average_stars'].describe()"
      ]
    },
    {
      "cell_type": "code",
      "execution_count": null,
      "metadata": {},
      "outputs": [],
      "source": [
        "df_yelp_users['average_stars'].hist(bins=10, edgecolor='black')\n",
        "plt.title('Distribucion de promedio de estrellas')\n",
        "plt.xlabel('Estrellas')\n",
        "plt.ylabel('Frecuencia')\n",
        "plt.show()"
      ]
    },
    {
      "cell_type": "code",
      "execution_count": null,
      "metadata": {},
      "outputs": [],
      "source": [
        "df_yelp_users['compliment_hot'].describe()"
      ]
    },
    {
      "cell_type": "code",
      "execution_count": null,
      "metadata": {},
      "outputs": [],
      "source": [
        "df_yelp_users.boxplot(column='compliment_hot')\n",
        "plt.title('Boxplot compliment_hot')\n",
        "plt.show()"
      ]
    },
    {
      "cell_type": "code",
      "execution_count": null,
      "metadata": {},
      "outputs": [],
      "source": [
        "df_yelp_users['compliment_more'].describe()"
      ]
    },
    {
      "cell_type": "code",
      "execution_count": null,
      "metadata": {},
      "outputs": [],
      "source": [
        "df_yelp_users.boxplot(column='compliment_more')\n",
        "plt.title('Boxplot compliment_more')\n",
        "plt.show()"
      ]
    },
    {
      "cell_type": "code",
      "execution_count": null,
      "metadata": {},
      "outputs": [],
      "source": [
        "df_yelp_users['compliment_profile'].describe()"
      ]
    },
    {
      "cell_type": "code",
      "execution_count": null,
      "metadata": {},
      "outputs": [],
      "source": [
        "df_yelp_users.boxplot(column='compliment_profile')\n",
        "plt.title('Boxplot compliment_profile')\n",
        "plt.show()"
      ]
    },
    {
      "cell_type": "code",
      "execution_count": null,
      "metadata": {},
      "outputs": [],
      "source": [
        "df_yelp_users['compliment_cute'].describe()"
      ]
    },
    {
      "cell_type": "code",
      "execution_count": null,
      "metadata": {},
      "outputs": [],
      "source": [
        "df_yelp_users.boxplot(column='compliment_cute')\n",
        "plt.title('Boxplot compliment_cute')\n",
        "plt.show()"
      ]
    },
    {
      "cell_type": "code",
      "execution_count": null,
      "metadata": {},
      "outputs": [],
      "source": [
        "df_yelp_users['compliment_list'].describe()"
      ]
    },
    {
      "cell_type": "code",
      "execution_count": null,
      "metadata": {},
      "outputs": [],
      "source": [
        "df_yelp_users.boxplot(column='compliment_list')\n",
        "plt.title('Boxplot compliment_list')\n",
        "plt.show()"
      ]
    },
    {
      "cell_type": "code",
      "execution_count": null,
      "metadata": {},
      "outputs": [],
      "source": [
        "df_yelp_users['compliment_note'].describe()"
      ]
    },
    {
      "cell_type": "code",
      "execution_count": null,
      "metadata": {},
      "outputs": [],
      "source": [
        "df_yelp_users.boxplot(column='compliment_note')\n",
        "plt.title('Boxplot compliment_note')\n",
        "plt.show()"
      ]
    },
    {
      "cell_type": "code",
      "execution_count": null,
      "metadata": {},
      "outputs": [],
      "source": [
        "df_yelp_users['compliment_plain'].describe()"
      ]
    },
    {
      "cell_type": "code",
      "execution_count": null,
      "metadata": {},
      "outputs": [],
      "source": [
        "df_yelp_users.boxplot(column='compliment_plain')\n",
        "plt.title('Boxplot compliment_plain')\n",
        "plt.show()"
      ]
    },
    {
      "cell_type": "code",
      "execution_count": null,
      "metadata": {},
      "outputs": [],
      "source": [
        "df_yelp_users['compliment_cool'].describe()"
      ]
    },
    {
      "cell_type": "code",
      "execution_count": null,
      "metadata": {},
      "outputs": [],
      "source": [
        "df_yelp_users.boxplot(column='compliment_cool')\n",
        "plt.title('Boxplot compliment_cool')\n",
        "plt.show()"
      ]
    },
    {
      "cell_type": "code",
      "execution_count": null,
      "metadata": {},
      "outputs": [],
      "source": [
        "df_yelp_users['compliment_funny'].describe()"
      ]
    },
    {
      "cell_type": "code",
      "execution_count": null,
      "metadata": {},
      "outputs": [],
      "source": [
        "df_yelp_users.boxplot(column='compliment_funny')\n",
        "plt.title('Boxplot compliment_funny')\n",
        "plt.show()"
      ]
    },
    {
      "cell_type": "code",
      "execution_count": null,
      "metadata": {},
      "outputs": [],
      "source": [
        "df_yelp_users['compliment_writer'].describe()"
      ]
    },
    {
      "cell_type": "code",
      "execution_count": null,
      "metadata": {},
      "outputs": [],
      "source": [
        "df_yelp_users.boxplot(column='compliment_writer')\n",
        "plt.title('Boxplot compliment_writer')\n",
        "plt.show()"
      ]
    },
    {
      "cell_type": "code",
      "execution_count": null,
      "metadata": {},
      "outputs": [],
      "source": [
        "df_yelp_users['compliment_photos'].describe()"
      ]
    },
    {
      "cell_type": "code",
      "execution_count": null,
      "metadata": {},
      "outputs": [],
      "source": [
        "df_yelp_users.boxplot(column='compliment_photos')\n",
        "plt.title('Boxplot compliment_photos')\n",
        "plt.show()"
      ]
    }
  ],
  "metadata": {
    "colab": {
      "collapsed_sections": [
        "-wVtiARhLRoo",
        "Sg6z5c0LMMRa"
      ],
      "provenance": [
        {
          "file_id": "https://github.com/Aspirina180mg/PI02_Misael_Garcia_Torres/blob/main/PI02_Misael_Garcia_Torres.ipynb",
          "timestamp": 1711145738959
        }
      ]
    },
    "kernelspec": {
      "display_name": "Python 3",
      "name": "python3"
    },
    "language_info": {
      "codemirror_mode": {
        "name": "ipython",
        "version": 3
      },
      "file_extension": ".py",
      "mimetype": "text/x-python",
      "name": "python",
      "nbconvert_exporter": "python",
      "pygments_lexer": "ipython3",
      "version": "3.11.9"
    }
  },
  "nbformat": 4,
  "nbformat_minor": 0
}

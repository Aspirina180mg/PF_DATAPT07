{
  "cells": [
    {
      "cell_type": "markdown",
      "metadata": {},
      "source": [
        "Recordar consultar el [Diccionario de datos](./Datasets/Google%20Maps/Diccionario%20de%20datos.docx)\n"
      ]
    },
    {
      "cell_type": "markdown",
      "metadata": {},
      "source": [
        "# Importaciones\n"
      ]
    },
    {
      "cell_type": "code",
      "execution_count": null,
      "metadata": {},
      "outputs": [],
      "source": [
        "import pandas as pd\n",
        "import seaborn as sns\n",
        "import matplotlib.pyplot as plt\n",
        "import geopandas as gpd\n",
        "import contextily as ctx\n",
        "from shapely.geometry import Point\n",
        "import geopy\n",
        "from geopy.geocoders import Nominatim\n",
        "from collections import Counter\n"
      ]
    },
    {
      "cell_type": "markdown",
      "metadata": {},
      "source": [
        "# Llamado de datos a dataframes\n"
      ]
    },
    {
      "cell_type": "code",
      "execution_count": null,
      "metadata": {},
      "outputs": [],
      "source": [
        "df_maps_restaurantes = pd.read_parquet(r\"Generated\\Google\\metada_sitios.parquet\")\n",
        "df_maps_reviews = pd.read_parquet(r\"Generated\\Google\\merge_site_reviews.parquet\")\n",
        "df_yelp_restaurantes = pd.read_parquet(r\"Generated\\Yelp\\bussines.parquet\")\n",
        "df_yelp_reviews = pd.read_parquet(r\"Generated\\Yelp\\review.parquet\")"
      ]
    },
    {
      "cell_type": "markdown",
      "metadata": {},
      "source": [
        "## Conteo de Registros"
      ]
    },
    {
      "cell_type": "markdown",
      "metadata": {},
      "source": [
        "Elegimos la empresa Subway, por lo que contabilizaremos los registros presentes en los dataframes"
      ]
    },
    {
      "cell_type": "code",
      "execution_count": null,
      "metadata": {},
      "outputs": [],
      "source": [
        "subway_yelp = df_yelp_restaurantes[df_yelp_restaurantes[\"name\"] == \"Subway\"]\n",
        "subway_maps = df_maps_restaurantes[df_maps_restaurantes[\"name\"] == \"Subway\"]\n",
        "total_subway_records = subway_yelp.shape[0] + subway_maps.shape[0]\n",
        "print(\"Número de registros de Subway en restaurantes (Maps y Yelp):\", total_subway_records)\n"
      ]
    },
    {
      "cell_type": "markdown",
      "metadata": {},
      "source": [
        "Para revisar el dataframe de reviews debemos obtener el Business_id y usarlo de guía\n",
        "\n",
        "Para eso, crearemos una lista que contenga todos los business_id que correspondan a locales de Subway, luego crearemos un dataframe que contenga todas las reviews de subway y uno que contenga todos los usuarios que realizaron reviews\n"
      ]
    },
    {
      "cell_type": "code",
      "execution_count": null,
      "metadata": {},
      "outputs": [],
      "source": [
        "subway_business_ids = df_yelp_restaurantes.loc[df_yelp_restaurantes[\"name\"] == \"Subway\", \"business_id\"].tolist()\n",
        "reviews_yelp_subway = df_yelp_reviews[df_yelp_reviews[\"business_id\"].isin(subway_business_ids)]"
      ]
    },
    {
      "cell_type": "markdown",
      "metadata": {},
      "source": [
        "# Outliers\n"
      ]
    },
    {
      "cell_type": "markdown",
      "metadata": {},
      "source": [
        "## df_maps_restaurantes"
      ]
    },
    {
      "cell_type": "markdown",
      "metadata": {},
      "source": [
        "### num_of_reviews"
      ]
    },
    {
      "cell_type": "markdown",
      "metadata": {},
      "source": [
        "Observamos la distribución de la columna `num_of_reviews`"
      ]
    },
    {
      "cell_type": "code",
      "execution_count": null,
      "metadata": {},
      "outputs": [],
      "source": [
        "sns.boxplot(x=df_maps_restaurantes[\"num_of_reviews\"], color=\"blue\")\n",
        "plt.xlabel(\"Valores\")\n",
        "plt.title(\"Distribución num_of_reviews\")\n",
        "plt.show()"
      ]
    },
    {
      "cell_type": "markdown",
      "metadata": {},
      "source": [
        "Y decidimos eliminar datos que no sean representativos, siendo estos aquellos que posean mas de 160. Recortando asi un 3% `256` de los datos que poseiamos `9489`"
      ]
    },
    {
      "cell_type": "code",
      "execution_count": null,
      "metadata": {},
      "outputs": [],
      "source": [
        "df_maps_restaurantes.drop(df_maps_restaurantes[df_maps_restaurantes[\"num_of_reviews\"] > 160].index,inplace=True,)"
      ]
    },
    {
      "cell_type": "markdown",
      "metadata": {},
      "source": [
        "### Latitude y Longitude"
      ]
    },
    {
      "cell_type": "markdown",
      "metadata": {},
      "source": [
        "Graficamos los datos en un mapa de USA en busca de registros con coordenadas atipicas"
      ]
    },
    {
      "cell_type": "code",
      "execution_count": null,
      "metadata": {},
      "outputs": [],
      "source": [
        "usa_geojson = \"Geojson/us-states.json\"\n",
        "usa_gpd = gpd.read_file(usa_geojson)\n",
        "registros_gdf = gpd.GeoDataFrame(df_maps_restaurantes,geometry=gpd.points_from_xy(df_maps_restaurantes[\"longitude\"], df_maps_restaurantes[\"latitude\"]),)\n",
        "\n",
        "fig, ax = plt.subplots(figsize=(10, 8))\n",
        "usa_gpd.plot(ax=ax, edgecolor=\"black\", alpha=0.5)\n",
        "registros_gdf.plot(ax=ax, color=\"red\", markersize=1)\n",
        "plt.title(\"Registros en el Mapa\")\n",
        "plt.xlabel(\"Longitud\")\n",
        "plt.ylabel(\"Latitud\")\n",
        "ax.set_xticks(range(-180, -60, 5))\n",
        "ax.set_xticklabels(range(-180, -60, 5), rotation=45)\n",
        "ax.grid(True)\n",
        "plt.tight_layout()\n",
        "\n",
        "plt.show()"
      ]
    },
    {
      "cell_type": "code",
      "execution_count": null,
      "metadata": {},
      "outputs": [],
      "source": [
        "df_maps_restaurantes.loc[(df_maps_restaurantes[\"latitude\"] < 21) & (df_maps_restaurantes[\"longitude\"] < -70) & (df_maps_restaurantes[\"longitude\"] > -80)]"
      ]
    },
    {
      "cell_type": "markdown",
      "metadata": {},
      "source": [
        "Buscando en google la direccion devuelve las correctas coordenadas del local\n"
      ]
    },
    {
      "cell_type": "code",
      "execution_count": null,
      "metadata": {},
      "outputs": [],
      "source": [
        "df_maps_restaurantes.loc[df_maps_restaurantes[\"gmap_id\"] == \"0x8ececf93aaa3553b:0x80d37fdf4ff72429\",\"latitude\",] = 43.127694\n",
        "df_maps_restaurantes.loc[df_maps_restaurantes[\"gmap_id\"] == \"0x8ececf93aaa3553b:0x80d37fdf4ff72429\",\"longitude\",] = -89.363469"
      ]
    },
    {
      "cell_type": "markdown",
      "metadata": {},
      "source": [
        "## df_yelp_restaurantes"
      ]
    },
    {
      "cell_type": "markdown",
      "metadata": {},
      "source": [
        "Se realiza un boxplot de la puntiación de estrellas y de la cantidad de reviews para visualizar posibles outliers"
      ]
    },
    {
      "cell_type": "markdown",
      "metadata": {},
      "source": [
        "Eliminacion de etiquetas de categoría obsoletos\n"
      ]
    },
    {
      "cell_type": "code",
      "execution_count": null,
      "metadata": {},
      "outputs": [],
      "source": [
        "categorias = df_yelp_restaurantes[\"categories\"].str.split(\", \").explode()\n",
        "frecuencia_categorias = Counter(categorias)\n",
        "menos_repetidas = frecuencia_categorias.most_common()[:-168:-1]\n",
        "print(\"Las menos repetidas son:\")\n",
        "for categoria, frecuencia in menos_repetidas[:20]:\n",
        "    print(f\"{categoria}: {frecuencia} veces\")\n",
        "print(\"La lista continúa...\")\n"
      ]
    },
    {
      "cell_type": "code",
      "execution_count": null,
      "metadata": {},
      "outputs": [],
      "source": [
        "categorias = df_yelp_restaurantes[\"categories\"].str.split(\", \").explode()\n",
        "frecuencia_categorias = categorias.value_counts()\n",
        "categorias_unicas = frecuencia_categorias[frecuencia_categorias == 1].index\n",
        "df_yelp_restaurantes[\"categories\"] = df_yelp_restaurantes[\"categories\"].apply(lambda x: \", \".join(c for c in x.split(\", \") if c not in categorias_unicas))"
      ]
    },
    {
      "cell_type": "markdown",
      "metadata": {},
      "source": [
        "## Corrección de tipo de datos"
      ]
    },
    {
      "cell_type": "code",
      "execution_count": null,
      "metadata": {},
      "outputs": [],
      "source": [
        "df_yelp_restaurantes.info()"
      ]
    },
    {
      "cell_type": "code",
      "execution_count": null,
      "metadata": {},
      "outputs": [],
      "source": [
        "df_yelp_reviews.info()"
      ]
    },
    {
      "cell_type": "markdown",
      "metadata": {},
      "source": [
        "Los formatos se encuentran en su mayoria en el estado correcto, se harán los siguientes cambios\n",
        "\n",
        "- ### df_yelp_restaurantes:\n",
        "  Se cambia el formato de la columna _is_open_ de Entero a Booleano puesto sus datos eran 1 y 0\n",
        "- ### df_yelp_reviews:\n",
        "  En las columnas _yelping_since_ (referencia a la fecha de creción del usuario) y _date_ (referencia de la fecha de posteo de la reseña) se les quita la hora puesto que es un dato obsoleto y se cambia su formato a Datetime\n"
      ]
    },
    {
      "cell_type": "code",
      "execution_count": null,
      "metadata": {},
      "outputs": [],
      "source": [
        "df_yelp_restaurantes[\"is_open\"] = df_yelp_restaurantes[\"is_open\"].astype(bool)\n",
        "df_yelp_reviews[\"date\"] = pd.to_datetime(df_yelp_reviews[\"date\"])"
      ]
    },
    {
      "cell_type": "markdown",
      "metadata": {},
      "source": [
        "## Cruze de tablas\n"
      ]
    },
    {
      "cell_type": "markdown",
      "metadata": {},
      "source": [
        "Filtramos las reviews dejando solo las que pertenecen a los locales que quedaron luego del tratamiento de outliers\n"
      ]
    },
    {
      "cell_type": "code",
      "execution_count": null,
      "metadata": {},
      "outputs": [],
      "source": [
        "restaurantes = df_maps_restaurantes[\"gmap_id\"].to_list()\n",
        "df_maps_reviews = df_maps_reviews[df_maps_reviews[\"gmap_id\"].isin(restaurantes)]"
      ]
    },
    {
      "cell_type": "markdown",
      "metadata": {},
      "source": [
        "## df_maps_reviews\n"
      ]
    },
    {
      "cell_type": "markdown",
      "metadata": {},
      "source": [
        "### num_of_reviews"
      ]
    },
    {
      "cell_type": "markdown",
      "metadata": {},
      "source": [
        "Observamos la distribución de la columna `num_of_reviews`\n"
      ]
    },
    {
      "cell_type": "code",
      "execution_count": null,
      "metadata": {},
      "outputs": [],
      "source": [
        "sns.boxplot(x=df_maps_reviews[\"num_of_reviews\"], color=\"blue\")\n",
        "plt.xlabel(\"Valores\")\n",
        "plt.title(\"Distribución num_of_reviews\")\n",
        "\n",
        "plt.show()"
      ]
    },
    {
      "cell_type": "markdown",
      "metadata": {},
      "source": [
        "Y decidimos eliminar datos que no sean representativos, siendo estos aquellos que posean mas de 160. Recortando asi un 3% `256` de los datos que poseiamos `9489`\n"
      ]
    },
    {
      "cell_type": "code",
      "execution_count": null,
      "metadata": {},
      "outputs": [],
      "source": [
        "df_maps_restaurantes.drop(df_maps_restaurantes[df_maps_restaurantes[\"num_of_reviews\"] > 160].index,inplace=True,)"
      ]
    },
    {
      "cell_type": "markdown",
      "metadata": {},
      "source": [
        "### `latitude` y `longitude`\n"
      ]
    },
    {
      "cell_type": "markdown",
      "metadata": {},
      "source": [
        "Graficamos los datos en un mapa de USA en busca de registros con coordenadas atipicas\n"
      ]
    },
    {
      "cell_type": "code",
      "execution_count": null,
      "metadata": {},
      "outputs": [],
      "source": [
        "usa_geojson = \"Geojson/us-states.json\"\n",
        "usa_gpd = gpd.read_file(usa_geojson)\n",
        "registros_gdf = gpd.GeoDataFrame(\n",
        "    df_maps_reviews,\n",
        "    geometry=gpd.points_from_xy(\n",
        "        df_maps_reviews[\"longitude\"], df_maps_reviews[\"latitude\"]\n",
        "    ),\n",
        ")\n",
        "\n",
        "fig, ax = plt.subplots(figsize=(10, 8))\n",
        "usa_gpd.plot(ax=ax, edgecolor=\"black\", alpha=0.5)\n",
        "registros_gdf.plot(ax=ax, color=\"red\", markersize=1)\n",
        "plt.title(\"Registros en el Mapa\")\n",
        "plt.xlabel(\"Longitud\")\n",
        "plt.ylabel(\"Latitud\")\n",
        "ax.set_xticks(range(-180, -60, 5))\n",
        "ax.set_xticklabels(range(-180, -60, 5), rotation=45)\n",
        "ax.grid(True)\n",
        "plt.tight_layout()\n",
        "\n",
        "plt.show()"
      ]
    },
    {
      "cell_type": "markdown",
      "metadata": {},
      "source": [
        "# Tipos de datos\n"
      ]
    },
    {
      "cell_type": "markdown",
      "metadata": {},
      "source": [
        "## df_maps_restaurantes\n"
      ]
    },
    {
      "cell_type": "code",
      "execution_count": null,
      "metadata": {},
      "outputs": [],
      "source": [
        "df_maps_restaurantes.info()"
      ]
    },
    {
      "cell_type": "markdown",
      "metadata": {},
      "source": [
        "Cambiamos el tipo de datos de las columnas `avg_rating`, `num_of_reviews` y `price` para reducir el uso de memoria a cambio de precisiòn innecesaria en los datos\n"
      ]
    },
    {
      "cell_type": "code",
      "execution_count": null,
      "metadata": {},
      "outputs": [],
      "source": [
        "df_maps_restaurantes[\"avg_rating\"] = df_maps_restaurantes[\"avg_rating\"].astype(\"float32\")\n",
        "df_maps_restaurantes[\"num_of_reviews\"] = df_maps_restaurantes[\"num_of_reviews\"].astype(\"int32\")\n",
        "df_maps_restaurantes[\"price\"] = df_maps_restaurantes[\"price\"].astype(\"category\")"
      ]
    },
    {
      "cell_type": "markdown",
      "metadata": {},
      "source": [
        "## df_maps_reviews\n"
      ]
    },
    {
      "cell_type": "markdown",
      "metadata": {},
      "source": [
        "Cambiamos el tipo de datos de las columnas para reducir el uso de memoria.\n"
      ]
    },
    {
      "cell_type": "code",
      "execution_count": null,
      "metadata": {},
      "outputs": [],
      "source": [
        "df_maps_reviews_copy = df_maps_reviews.copy()\n",
        "df_maps_reviews_copy[\"rating\"] = df_maps_reviews_copy[\"rating\"].astype(\"int8\")\n",
        "df_maps_reviews_copy[\"num_of_reviews\"] = df_maps_reviews_copy[\"num_of_reviews\"].astype(\n",
        "    \"int32\"\n",
        ")\n",
        "df_maps_reviews_copy[\"price\"] = df_maps_reviews_copy[\"price\"].astype(\"category\")\n",
        "df_maps_reviews_copy[\"anio\"] = df_maps_reviews_copy[\"anio\"].astype(\"category\")\n",
        "df_maps_reviews_copy[\"estado\"] = df_maps_reviews_copy[\"estado\"].astype(\"category\")\n",
        "df_maps_reviews_copy[\"avg_rating\"] = df_maps_reviews_copy[\"avg_rating\"].astype(\n",
        "    \"float32\"\n",
        ")\n",
        "df_maps_reviews_copy[\"state_ab\"] = df_maps_reviews_copy[\"state_ab\"].astype(\"category\")\n",
        "df_maps_reviews_copy[\"us_state\"] = df_maps_reviews_copy[\"us_state\"].astype(\"category\")\n",
        "df_maps_reviews = df_maps_reviews_copy"
      ]
    },
    {
      "cell_type": "markdown",
      "metadata": {},
      "source": [
        "Para revisar el dataframe de reviews y el de usuarios, deberemos obtener el Business_id y usarlo de guía\n",
        "\n",
        "Para eso, crearemos una lista que contenga todos los business_id que correspondan a locales de Subway, luego crearemos un dataframe que contenga todas las reviews de subway y uno que contenga todos los usuarios que realizaron reviews\n"
      ]
    },
    {
      "cell_type": "code",
      "execution_count": null,
      "metadata": {},
      "outputs": [],
      "source": [
        "(df_yelp_restaurantes.loc[df_yelp_restaurantes[\"name\"] == \"Subway\"]).head(1)"
      ]
    },
    {
      "cell_type": "code",
      "execution_count": null,
      "metadata": {},
      "outputs": [],
      "source": [
        "subway_business_ids = df_yelp_restaurantes.loc[df_yelp_restaurantes[\"name\"] == \"Subway\", \"business_id\"].tolist()\n",
        "len(subway_business_ids)"
      ]
    },
    {
      "cell_type": "code",
      "execution_count": null,
      "metadata": {},
      "outputs": [],
      "source": [
        "reviews_yelp_subway = df_yelp_reviews[df_yelp_reviews[\"business_id\"].isin(subway_business_ids)]\n",
        "reviews_yelp_subway"
      ]
    },
    {
      "cell_type": "markdown",
      "metadata": {},
      "source": [
        "# Verificacion de valores nulos\n"
      ]
    },
    {
      "cell_type": "markdown",
      "metadata": {},
      "source": [
        "Visualizamos los valores nulos de manera grafica con un mapa de calor\n"
      ]
    },
    {
      "cell_type": "code",
      "execution_count": null,
      "metadata": {},
      "outputs": [],
      "source": [
        "sns.heatmap(df_maps_restaurantes.isnull(), cmap=\"viridis\", cbar=False)\n",
        "plt.title(\"Mapa de calor de valores faltantes\")\n",
        "plt.show()"
      ]
    },
    {
      "cell_type": "markdown",
      "metadata": {},
      "source": [
        "Analizamos el porcentaje de valores nulos presentes en cada columna\n"
      ]
    },
    {
      "cell_type": "code",
      "execution_count": null,
      "metadata": {},
      "outputs": [],
      "source": [
        "porcnull_rest = df_maps_restaurantes.isnull().mean() * 100\n",
        "columnasnull_rest = porcnull_rest[porcnull_rest > 0]\n",
        "columnasnull_rest"
      ]
    },
    {
      "cell_type": "markdown",
      "metadata": {},
      "source": [
        "Desechamos las columnas irrelevantes con un porcentaje alto de valores nulos\n"
      ]
    },
    {
      "cell_type": "code",
      "execution_count": null,
      "metadata": {},
      "outputs": [],
      "source": [
        "df_maps_rest_mod = df_maps_restaurantes.drop([\"description\", \"price\"], axis=1)"
      ]
    },
    {
      "cell_type": "markdown",
      "metadata": {},
      "source": [
        "Se rellenan los valores nulos\n"
      ]
    },
    {
      "cell_type": "code",
      "execution_count": null,
      "metadata": {},
      "outputs": [],
      "source": [
        "df_maps_rest_mod[\"hours\"] = df_maps_rest_mod[\"hours\"].fillna(\"\").apply(list)\n",
        "df_maps_rest_mod[\"state\"] = df_maps_rest_mod[\"state\"].fillna(\"N/A\")\n",
        "df_maps_rest_mod[\"address\"] = df_maps_rest_mod[\"address\"].fillna(\"N/A\")\n",
        "df_maps_rest_mod[\"MISC\"] = df_maps_rest_mod[\"MISC\"].fillna(\"\").apply(dict)\n",
        "df_maps_rest_mod[\"relative_results\"] = df_maps_rest_mod[\"relative_results\"].fillna(\"\").apply(list)\n"
      ]
    },
    {
      "cell_type": "markdown",
      "metadata": {},
      "source": [
        "Se verifica la ausencia de valores nulos\n"
      ]
    },
    {
      "cell_type": "code",
      "execution_count": null,
      "metadata": {},
      "outputs": [],
      "source": [
        "sns.heatmap(df_maps_rest_mod.isnull(), cmap=\"viridis\", cbar=False)\n",
        "plt.title(\"Mapa de calor de valores faltantes\")\n",
        "plt.show()"
      ]
    },
    {
      "cell_type": "markdown",
      "metadata": {},
      "source": [
        "Se realiza el mismo procedimiento\n"
      ]
    },
    {
      "cell_type": "code",
      "execution_count": null,
      "metadata": {},
      "outputs": [],
      "source": [
        "sns.heatmap(df_maps_reviews.isnull(), cmap=\"viridis\", cbar=False)\n",
        "plt.title(\"Mapa de calor de valores faltantes\")\n",
        "plt.show()"
      ]
    },
    {
      "cell_type": "code",
      "execution_count": null,
      "metadata": {},
      "outputs": [],
      "source": [
        "porcnull_review = df_maps_reviews.isnull().mean() * 100\n",
        "columnasnull_review = porcnull_review[porcnull_review > 0]\n",
        "columnasnull_review"
      ]
    },
    {
      "cell_type": "code",
      "execution_count": null,
      "metadata": {},
      "outputs": [],
      "source": [
        "df_maps_reviews_mod = df_maps_reviews.drop([\"pics\", \"resp\"], axis=1)"
      ]
    },
    {
      "cell_type": "code",
      "execution_count": null,
      "metadata": {},
      "outputs": [],
      "source": [
        "df_maps_reviews_mod[\"text\"] = df_maps_reviews_mod[\"text\"].fillna(\"N/A\")\n",
        "df_maps_reviews_mod[\"address\"] = df_maps_reviews_mod[\"address\"].fillna(\"N/A\")\n",
        "df_maps_reviews_mod[\"description\"] = df_maps_reviews_mod[\"description\"].fillna(\"N/A\")\n",
        "df_maps_reviews_mod[\"hours\"] = df_maps_reviews_mod[\"hours\"].fillna(\"\").apply(list)\n",
        "df_maps_reviews_mod[\"MISC\"] = df_maps_reviews_mod[\"MISC\"].fillna(\"\").apply(dict)\n",
        "df_maps_reviews_mod[\"state\"] = df_maps_reviews_mod[\"state\"].fillna(\"N/A\")\n",
        "df_maps_reviews_mod[\"relative_results\"] = df_maps_reviews_mod[\"relative_results\"].fillna(\"\").apply(list)\n"
      ]
    },
    {
      "cell_type": "code",
      "execution_count": null,
      "metadata": {},
      "outputs": [],
      "source": [
        "sns.heatmap(df_maps_reviews_mod.isnull(), cmap=\"viridis\", cbar=False)\n",
        "plt.title(\"Mapa de calor de valores faltantes\")\n",
        "plt.show()"
      ]
    }
  ],
  "metadata": {
    "colab": {
      "collapsed_sections": [
        "-wVtiARhLRoo",
        "Sg6z5c0LMMRa"
      ],
      "provenance": [
        {
          "file_id": "https://github.com/Aspirina180mg/PI02_Misael_Garcia_Torres/blob/main/PI02_Misael_Garcia_Torres.ipynb",
          "timestamp": 1711145738959
        }
      ]
    },
    "kernelspec": {
      "display_name": "Python 3",
      "name": "python3"
    },
    "language_info": {
      "codemirror_mode": {
        "name": "ipython",
        "version": 3
      },
      "file_extension": ".py",
      "mimetype": "text/x-python",
      "name": "python",
      "nbconvert_exporter": "python",
      "pygments_lexer": "ipython3",
      "version": "3.11.9"
    }
  },
  "nbformat": 4,
  "nbformat_minor": 0
}

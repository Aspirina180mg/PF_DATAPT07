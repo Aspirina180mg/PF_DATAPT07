{
 "cells": [
  {
   "cell_type": "markdown",
   "metadata": {},
   "source": [
    "# 1. Preparación de Dataset"
   ]
  },
  {
   "cell_type": "markdown",
   "metadata": {},
   "source": [
    "## Importaciones"
   ]
  },
  {
   "cell_type": "code",
   "execution_count": 2,
   "metadata": {},
   "outputs": [],
   "source": [
    "import pandas as pd\n",
    "import numpy as np\n",
    "import matplotlib.pyplot as plt\n",
    "import seaborn as sns\n",
    "import json\n",
    "import os\n",
    "import re\n",
    "\n",
    "\n",
    "######## Machine Learning\n",
    "\n",
    "from sklearn.datasets import make_classification\n",
    "from sklearn.ensemble import RandomForestClassifier, HistGradientBoostingClassifier, GradientBoostingRegressor, VotingClassifier, GradientBoostingClassifier\n",
    "from sklearn.linear_model import LinearRegression, LogisticRegression\n",
    "from sklearn.metrics import confusion_matrix, ConfusionMatrixDisplay, mean_squared_error, accuracy_score, classification_report\n",
    "from sklearn.model_selection import train_test_split, cross_validate, GridSearchCV, cross_val_score, cross_val_predict\n",
    "from sklearn.neighbors import KNeighborsClassifier\n",
    "from sklearn.pipeline import make_pipeline, Pipeline\n",
    "from sklearn.preprocessing import OneHotEncoder, LabelEncoder, StandardScaler, MaxAbsScaler, MinMaxScaler\n",
    "from sklearn.svm import SVC\n",
    "from sklearn.tree import DecisionTreeClassifier\n",
    "\n",
    "from xgboost import XGBClassifier\n"
   ]
  },
  {
   "cell_type": "markdown",
   "metadata": {},
   "source": [
    "# 1. Preprocesamiento"
   ]
  },
  {
   "cell_type": "markdown",
   "metadata": {},
   "source": [
    "## 1.1 Preparación de datos"
   ]
  },
  {
   "cell_type": "markdown",
   "metadata": {},
   "source": [
    "### 1.1.1 Adquisición (Extracción)"
   ]
  },
  {
   "cell_type": "markdown",
   "metadata": {},
   "source": [
    "Obtenemos los datos para generar el Modelo de ML."
   ]
  },
  {
   "cell_type": "code",
   "execution_count": 3,
   "metadata": {},
   "outputs": [],
   "source": [
    "BASE_PATH = 'Datawarehouse'\n",
    "SITIOS_FILE_URL = 'restaurantes.parquet'\n",
    "\n",
    "df_restaurantes = pd.read_parquet(os.path.join(BASE_PATH, SITIOS_FILE_URL))"
   ]
  },
  {
   "cell_type": "markdown",
   "metadata": {},
   "source": [
    "### 1.1.2 Transformación"
   ]
  },
  {
   "cell_type": "code",
   "execution_count": 4,
   "metadata": {},
   "outputs": [
    {
     "data": {
      "text/html": [
       "<div>\n",
       "<style scoped>\n",
       "    .dataframe tbody tr th:only-of-type {\n",
       "        vertical-align: middle;\n",
       "    }\n",
       "\n",
       "    .dataframe tbody tr th {\n",
       "        vertical-align: top;\n",
       "    }\n",
       "\n",
       "    .dataframe thead th {\n",
       "        text-align: right;\n",
       "    }\n",
       "</style>\n",
       "<table border=\"1\" class=\"dataframe\">\n",
       "  <thead>\n",
       "    <tr style=\"text-align: right;\">\n",
       "      <th></th>\n",
       "      <th>id_restaurante</th>\n",
       "      <th>id_estado</th>\n",
       "      <th>nombre</th>\n",
       "      <th>categorias</th>\n",
       "      <th>cantidad_resenas</th>\n",
       "      <th>latitud</th>\n",
       "      <th>longitud</th>\n",
       "      <th>atributos</th>\n",
       "      <th>calificacion</th>\n",
       "      <th>origen</th>\n",
       "    </tr>\n",
       "  </thead>\n",
       "  <tbody>\n",
       "    <tr>\n",
       "      <th>96845</th>\n",
       "      <td>0x89e7e77ddf891721:0xe0efd712fc87594d</td>\n",
       "      <td>7</td>\n",
       "      <td>Domino's Pizza</td>\n",
       "      <td>['Pizza delivery', 'Delivery Restaurant', 'Tak...</td>\n",
       "      <td>46</td>\n",
       "      <td>41.410654</td>\n",
       "      <td>-73.096287</td>\n",
       "      <td>{'AcceptsInsurance': None, 'Accessibility': ['...</td>\n",
       "      <td>4.398438</td>\n",
       "      <td>1</td>\n",
       "    </tr>\n",
       "  </tbody>\n",
       "</table>\n",
       "</div>"
      ],
      "text/plain": [
       "                              id_restaurante  id_estado          nombre  \\\n",
       "96845  0x89e7e77ddf891721:0xe0efd712fc87594d          7  Domino's Pizza   \n",
       "\n",
       "                                              categorias  cantidad_resenas  \\\n",
       "96845  ['Pizza delivery', 'Delivery Restaurant', 'Tak...                46   \n",
       "\n",
       "         latitud   longitud  \\\n",
       "96845  41.410654 -73.096287   \n",
       "\n",
       "                                               atributos  calificacion  origen  \n",
       "96845  {'AcceptsInsurance': None, 'Accessibility': ['...      4.398438       1  "
      ]
     },
     "execution_count": 4,
     "metadata": {},
     "output_type": "execute_result"
    }
   ],
   "source": [
    "## Origen: 1 si es Maps, 0 si es Yelp\n",
    "df_restaurantes.loc[:, 'origen'] =  df_restaurantes.loc[:, 'id_restaurante'].apply(lambda x: 1 if len(x) > 22 else 0)\n",
    "df_restaurantes['id_estado'] = df_restaurantes['id_estado'].apply(lambda x: int(x))\n",
    "\n",
    "df_restaurantes.sample(1)"
   ]
  },
  {
   "cell_type": "code",
   "execution_count": 5,
   "metadata": {},
   "outputs": [
    {
     "name": "stdout",
     "output_type": "stream",
     "text": [
      "<class 'pandas.core.frame.DataFrame'>\n",
      "Index: 111914 entries, 3 to 212012\n",
      "Data columns (total 10 columns):\n",
      " #   Column            Non-Null Count   Dtype  \n",
      "---  ------            --------------   -----  \n",
      " 0   id_restaurante    111914 non-null  object \n",
      " 1   id_estado         111914 non-null  int64  \n",
      " 2   nombre            111914 non-null  object \n",
      " 3   categorias        111914 non-null  object \n",
      " 4   cantidad_resenas  111914 non-null  int64  \n",
      " 5   latitud           111914 non-null  float64\n",
      " 6   longitud          111914 non-null  float64\n",
      " 7   atributos         111046 non-null  object \n",
      " 8   calificacion      111914 non-null  float64\n",
      " 9   origen            111914 non-null  int64  \n",
      "dtypes: float64(3), int64(3), object(4)\n",
      "memory usage: 9.4+ MB\n"
     ]
    }
   ],
   "source": [
    "df_restaurantes.info()"
   ]
  },
  {
   "cell_type": "markdown",
   "metadata": {},
   "source": [
    "En la columna atributos tenemos la información condensada de las características relevantes de los restaurantes. Debemos realizar la normalización."
   ]
  },
  {
   "cell_type": "code",
   "execution_count": 6,
   "metadata": {},
   "outputs": [],
   "source": [
    "df_atributos = pd.json_normalize(df_restaurantes.atributos)"
   ]
  },
  {
   "cell_type": "code",
   "execution_count": 7,
   "metadata": {},
   "outputs": [
    {
     "data": {
      "image/png": "[encoded data removed]",
      "text/plain": [
       "<Figure size 1000x600 with 2 Axes>"
      ]
     },
     "metadata": {},
     "output_type": "display_data"
    }
   ],
   "source": [
    "nulos = df_atributos.isna().sum()\n",
    "nulos_df = pd.DataFrame(nulos, columns=['nulos'])\n",
    "\n",
    "plt.figure(figsize=(10, 6))\n",
    "sns.heatmap(df_atributos.isnull(), cmap='Blues', cbar=True)\n",
    "plt.title('Heatmap of Null Values')\n",
    "plt.show()"
   ]
  },
  {
   "cell_type": "markdown",
   "metadata": {},
   "source": [
    "Vemos que el color azul es para valores nulos, por lo tanto elegimos las que menos valores nulos tienen."
   ]
  },
  {
   "cell_type": "code",
   "execution_count": 8,
   "metadata": {},
   "outputs": [],
   "source": [
    "columnas = ['Accessibility',\n",
    " 'Amenities',\n",
    " 'Atmosphere',\n",
    " 'Crowd',\n",
    " 'Dining options',\n",
    " 'Health & safety',\n",
    " 'Highlights',\n",
    " 'Offerings',\n",
    " 'Payments',\n",
    " 'Popular for',\n",
    " 'Service options']"
   ]
  },
  {
   "cell_type": "markdown",
   "metadata": {},
   "source": [
    "## 1.2 Atributos"
   ]
  },
  {
   "cell_type": "markdown",
   "metadata": {},
   "source": [
    "Comenzamos a descomponer la columna atributos"
   ]
  },
  {
   "cell_type": "code",
   "execution_count": 9,
   "metadata": {},
   "outputs": [],
   "source": [
    "atributos = columnas\n",
    "df_atributos = pd.json_normalize(df_restaurantes.atributos).reset_index()[atributos].fillna(np.ndarray([]))"
   ]
  },
  {
   "cell_type": "code",
   "execution_count": 10,
   "metadata": {},
   "outputs": [],
   "source": [
    "for col in atributos:\n",
    "    df_atributos[col] = df_atributos[col].apply(str)\n",
    "    df_atributos[col] = df_atributos[col].apply(lambda c: \"[]\" if c == '0.0' else c)\n",
    "    "
   ]
  },
  {
   "cell_type": "code",
   "execution_count": 11,
   "metadata": {},
   "outputs": [
    {
     "data": {
      "text/html": [
       "<div>\n",
       "<style scoped>\n",
       "    .dataframe tbody tr th:only-of-type {\n",
       "        vertical-align: middle;\n",
       "    }\n",
       "\n",
       "    .dataframe tbody tr th {\n",
       "        vertical-align: top;\n",
       "    }\n",
       "\n",
       "    .dataframe thead th {\n",
       "        text-align: right;\n",
       "    }\n",
       "</style>\n",
       "<table border=\"1\" class=\"dataframe\">\n",
       "  <thead>\n",
       "    <tr style=\"text-align: right;\">\n",
       "      <th></th>\n",
       "      <th>Accessibility</th>\n",
       "      <th>Amenities</th>\n",
       "      <th>Atmosphere</th>\n",
       "      <th>Crowd</th>\n",
       "      <th>Dining options</th>\n",
       "      <th>Health &amp; safety</th>\n",
       "      <th>Highlights</th>\n",
       "      <th>Offerings</th>\n",
       "      <th>Payments</th>\n",
       "      <th>Popular for</th>\n",
       "      <th>Service options</th>\n",
       "    </tr>\n",
       "  </thead>\n",
       "  <tbody>\n",
       "    <tr>\n",
       "      <th>85596</th>\n",
       "      <td>[]</td>\n",
       "      <td>['Good for kids']</td>\n",
       "      <td>['Casual']</td>\n",
       "      <td>['Groups']</td>\n",
       "      <td>[]</td>\n",
       "      <td>[]</td>\n",
       "      <td>[]</td>\n",
       "      <td>['Comfort food' 'Quick bite']</td>\n",
       "      <td>[]</td>\n",
       "      <td>['Lunch' 'Solo dining']</td>\n",
       "      <td>['Takeout' 'Delivery']</td>\n",
       "    </tr>\n",
       "    <tr>\n",
       "      <th>88208</th>\n",
       "      <td>['Wheelchair accessible entrance']</td>\n",
       "      <td>['Good for kids']</td>\n",
       "      <td>['Casual']</td>\n",
       "      <td>['College students']</td>\n",
       "      <td>[]</td>\n",
       "      <td>[]</td>\n",
       "      <td>[]</td>\n",
       "      <td>['Comfort food' 'Quick bite']</td>\n",
       "      <td>['NFC mobile payments']</td>\n",
       "      <td>['Lunch' 'Dinner']</td>\n",
       "      <td>['Delivery' 'Takeout' 'Dine-in']</td>\n",
       "    </tr>\n",
       "    <tr>\n",
       "      <th>57598</th>\n",
       "      <td>['Wheelchair accessible entrance']</td>\n",
       "      <td>['Good for kids' 'Restroom' 'Wi-Fi']</td>\n",
       "      <td>['Casual']</td>\n",
       "      <td>['Family-friendly' 'Tourists']</td>\n",
       "      <td>['Breakfast' 'Lunch' 'Dessert']</td>\n",
       "      <td>[]</td>\n",
       "      <td>['Fast service' 'Great coffee']</td>\n",
       "      <td>['Coffee' 'Comfort food' 'Happy hour drinks' '...</td>\n",
       "      <td>['Debit cards' 'NFC mobile payments']</td>\n",
       "      <td>['Breakfast' 'Solo dining' 'Good for working o...</td>\n",
       "      <td>['Delivery' 'Takeout' 'Dine-in']</td>\n",
       "    </tr>\n",
       "  </tbody>\n",
       "</table>\n",
       "</div>"
      ],
      "text/plain": [
       "                            Accessibility  \\\n",
       "85596                                  []   \n",
       "88208  ['Wheelchair accessible entrance']   \n",
       "57598  ['Wheelchair accessible entrance']   \n",
       "\n",
       "                                  Amenities  Atmosphere  \\\n",
       "85596                     ['Good for kids']  ['Casual']   \n",
       "88208                     ['Good for kids']  ['Casual']   \n",
       "57598  ['Good for kids' 'Restroom' 'Wi-Fi']  ['Casual']   \n",
       "\n",
       "                                Crowd                   Dining options  \\\n",
       "85596                      ['Groups']                               []   \n",
       "88208            ['College students']                               []   \n",
       "57598  ['Family-friendly' 'Tourists']  ['Breakfast' 'Lunch' 'Dessert']   \n",
       "\n",
       "      Health & safety                       Highlights  \\\n",
       "85596              []                               []   \n",
       "88208              []                               []   \n",
       "57598              []  ['Fast service' 'Great coffee']   \n",
       "\n",
       "                                               Offerings  \\\n",
       "85596                      ['Comfort food' 'Quick bite']   \n",
       "88208                      ['Comfort food' 'Quick bite']   \n",
       "57598  ['Coffee' 'Comfort food' 'Happy hour drinks' '...   \n",
       "\n",
       "                                    Payments  \\\n",
       "85596                                     []   \n",
       "88208                ['NFC mobile payments']   \n",
       "57598  ['Debit cards' 'NFC mobile payments']   \n",
       "\n",
       "                                             Popular for  \\\n",
       "85596                            ['Lunch' 'Solo dining']   \n",
       "88208                                 ['Lunch' 'Dinner']   \n",
       "57598  ['Breakfast' 'Solo dining' 'Good for working o...   \n",
       "\n",
       "                        Service options  \n",
       "85596            ['Takeout' 'Delivery']  \n",
       "88208  ['Delivery' 'Takeout' 'Dine-in']  \n",
       "57598  ['Delivery' 'Takeout' 'Dine-in']  "
      ]
     },
     "execution_count": 11,
     "metadata": {},
     "output_type": "execute_result"
    }
   ],
   "source": [
    "df_atributos.sample(3)"
   ]
  },
  {
   "cell_type": "markdown",
   "metadata": {},
   "source": [
    "### 1.2.1 Accessibility"
   ]
  },
  {
   "cell_type": "code",
   "execution_count": 12,
   "metadata": {},
   "outputs": [
    {
     "data": {
      "text/plain": [
       "76574    [Wheelchair accessible entrance]\n",
       "Name: Accessibility, dtype: object"
      ]
     },
     "execution_count": 12,
     "metadata": {},
     "output_type": "execute_result"
    }
   ],
   "source": [
    "df_atributos['Accessibility'] = df_atributos['Accessibility'].apply(lambda s: re.sub(r\"'\", \"\\\"\", s)).apply(lambda s: re.sub(r'\"\\s*\"','\",\"', s)).apply(json.loads)\n",
    "\n",
    "df_atributos['Accessibility'].sample(1)"
   ]
  },
  {
   "cell_type": "code",
   "execution_count": 13,
   "metadata": {},
   "outputs": [],
   "source": [
    "columnas_accesibilidad =  df_atributos['Accessibility'].explode().unique()[1:].tolist()\n"
   ]
  },
  {
   "cell_type": "code",
   "execution_count": 14,
   "metadata": {},
   "outputs": [],
   "source": [
    "df_accesibilidad = pd.DataFrame([[False] * len(columnas_accesibilidad)] * df_atributos.shape[0], columns=columnas_accesibilidad)"
   ]
  },
  {
   "cell_type": "code",
   "execution_count": 15,
   "metadata": {},
   "outputs": [
    {
     "data": {
      "text/html": [
       "<div>\n",
       "<style scoped>\n",
       "    .dataframe tbody tr th:only-of-type {\n",
       "        vertical-align: middle;\n",
       "    }\n",
       "\n",
       "    .dataframe tbody tr th {\n",
       "        vertical-align: top;\n",
       "    }\n",
       "\n",
       "    .dataframe thead th {\n",
       "        text-align: right;\n",
       "    }\n",
       "</style>\n",
       "<table border=\"1\" class=\"dataframe\">\n",
       "  <thead>\n",
       "    <tr style=\"text-align: right;\">\n",
       "      <th></th>\n",
       "      <th>Wheelchair accessible entrance</th>\n",
       "      <th>Wheelchair accessible parking lot</th>\n",
       "      <th>Wheelchair accessible seating</th>\n",
       "      <th>Wheelchair accessible restroom</th>\n",
       "      <th>Wheelchair accessible elevator</th>\n",
       "      <th>Wheelchair-accessible car park</th>\n",
       "      <th>Wheelchair-accessible entrance</th>\n",
       "      <th>Wheelchair-accessible seating</th>\n",
       "      <th>Wheelchair-accessible toilet</th>\n",
       "      <th>Wheelchair-accessible lift</th>\n",
       "      <th>Assisted listening devices</th>\n",
       "    </tr>\n",
       "  </thead>\n",
       "  <tbody>\n",
       "    <tr>\n",
       "      <th>93345</th>\n",
       "      <td>False</td>\n",
       "      <td>False</td>\n",
       "      <td>False</td>\n",
       "      <td>False</td>\n",
       "      <td>False</td>\n",
       "      <td>False</td>\n",
       "      <td>False</td>\n",
       "      <td>False</td>\n",
       "      <td>False</td>\n",
       "      <td>False</td>\n",
       "      <td>False</td>\n",
       "    </tr>\n",
       "    <tr>\n",
       "      <th>37297</th>\n",
       "      <td>False</td>\n",
       "      <td>False</td>\n",
       "      <td>False</td>\n",
       "      <td>False</td>\n",
       "      <td>False</td>\n",
       "      <td>False</td>\n",
       "      <td>False</td>\n",
       "      <td>False</td>\n",
       "      <td>False</td>\n",
       "      <td>False</td>\n",
       "      <td>False</td>\n",
       "    </tr>\n",
       "    <tr>\n",
       "      <th>50041</th>\n",
       "      <td>False</td>\n",
       "      <td>False</td>\n",
       "      <td>False</td>\n",
       "      <td>False</td>\n",
       "      <td>False</td>\n",
       "      <td>False</td>\n",
       "      <td>False</td>\n",
       "      <td>False</td>\n",
       "      <td>False</td>\n",
       "      <td>False</td>\n",
       "      <td>False</td>\n",
       "    </tr>\n",
       "  </tbody>\n",
       "</table>\n",
       "</div>"
      ],
      "text/plain": [
       "       Wheelchair accessible entrance  Wheelchair accessible parking lot  \\\n",
       "93345                           False                              False   \n",
       "37297                           False                              False   \n",
       "50041                           False                              False   \n",
       "\n",
       "       Wheelchair accessible seating  Wheelchair accessible restroom  \\\n",
       "93345                          False                           False   \n",
       "37297                          False                           False   \n",
       "50041                          False                           False   \n",
       "\n",
       "       Wheelchair accessible elevator  Wheelchair-accessible car park  \\\n",
       "93345                           False                           False   \n",
       "37297                           False                           False   \n",
       "50041                           False                           False   \n",
       "\n",
       "       Wheelchair-accessible entrance  Wheelchair-accessible seating  \\\n",
       "93345                           False                          False   \n",
       "37297                           False                          False   \n",
       "50041                           False                          False   \n",
       "\n",
       "       Wheelchair-accessible toilet  Wheelchair-accessible lift  \\\n",
       "93345                         False                       False   \n",
       "37297                         False                       False   \n",
       "50041                         False                       False   \n",
       "\n",
       "       Assisted listening devices  \n",
       "93345                       False  \n",
       "37297                       False  \n",
       "50041                       False  "
      ]
     },
     "execution_count": 15,
     "metadata": {},
     "output_type": "execute_result"
    }
   ],
   "source": [
    "df_accesibilidad.sample(3)"
   ]
  },
  {
   "cell_type": "code",
   "execution_count": 16,
   "metadata": {},
   "outputs": [],
   "source": [
    "for i, row in enumerate(df_atributos['Accessibility']):\n",
    "    for j, val in enumerate(row):\n",
    "        df_accesibilidad.loc[i, val] = True\n"
   ]
  },
  {
   "cell_type": "code",
   "execution_count": 17,
   "metadata": {},
   "outputs": [
    {
     "data": {
      "text/html": [
       "<div>\n",
       "<style scoped>\n",
       "    .dataframe tbody tr th:only-of-type {\n",
       "        vertical-align: middle;\n",
       "    }\n",
       "\n",
       "    .dataframe tbody tr th {\n",
       "        vertical-align: top;\n",
       "    }\n",
       "\n",
       "    .dataframe thead th {\n",
       "        text-align: right;\n",
       "    }\n",
       "</style>\n",
       "<table border=\"1\" class=\"dataframe\">\n",
       "  <thead>\n",
       "    <tr style=\"text-align: right;\">\n",
       "      <th></th>\n",
       "      <th>index</th>\n",
       "      <th>Wheelchair accessible entrance</th>\n",
       "      <th>Wheelchair accessible parking lot</th>\n",
       "      <th>Wheelchair accessible seating</th>\n",
       "      <th>Wheelchair accessible restroom</th>\n",
       "      <th>Wheelchair accessible elevator</th>\n",
       "      <th>Wheelchair-accessible car park</th>\n",
       "      <th>Wheelchair-accessible entrance</th>\n",
       "      <th>Wheelchair-accessible seating</th>\n",
       "      <th>Wheelchair-accessible toilet</th>\n",
       "      <th>...</th>\n",
       "      <th>id_restaurante</th>\n",
       "      <th>id_estado</th>\n",
       "      <th>nombre</th>\n",
       "      <th>categorias</th>\n",
       "      <th>cantidad_resenas</th>\n",
       "      <th>latitud</th>\n",
       "      <th>longitud</th>\n",
       "      <th>atributos</th>\n",
       "      <th>calificacion</th>\n",
       "      <th>origen</th>\n",
       "    </tr>\n",
       "  </thead>\n",
       "  <tbody>\n",
       "    <tr>\n",
       "      <th>15042</th>\n",
       "      <td>15042</td>\n",
       "      <td>True</td>\n",
       "      <td>False</td>\n",
       "      <td>False</td>\n",
       "      <td>False</td>\n",
       "      <td>False</td>\n",
       "      <td>False</td>\n",
       "      <td>False</td>\n",
       "      <td>False</td>\n",
       "      <td>False</td>\n",
       "      <td>...</td>\n",
       "      <td>0x880e2dc435f9336f:0x9f160fe0b204d0b0</td>\n",
       "      <td>13</td>\n",
       "      <td>Teatro ZinZanni Chicago</td>\n",
       "      <td>['Theater production', 'Cabaret club', 'Circus...</td>\n",
       "      <td>128</td>\n",
       "      <td>41.884922</td>\n",
       "      <td>-87.628876</td>\n",
       "      <td>{'AcceptsInsurance': None, 'Accessibility': ['...</td>\n",
       "      <td>4.898438</td>\n",
       "      <td>1</td>\n",
       "    </tr>\n",
       "    <tr>\n",
       "      <th>29634</th>\n",
       "      <td>29634</td>\n",
       "      <td>True</td>\n",
       "      <td>False</td>\n",
       "      <td>False</td>\n",
       "      <td>False</td>\n",
       "      <td>False</td>\n",
       "      <td>False</td>\n",
       "      <td>False</td>\n",
       "      <td>False</td>\n",
       "      <td>False</td>\n",
       "      <td>...</td>\n",
       "      <td>0x88833423b0976cfd:0x5e05904cfb0ce89f</td>\n",
       "      <td>24</td>\n",
       "      <td>Subway</td>\n",
       "      <td>['Sandwich shop', 'Caterer', 'Fast food restau...</td>\n",
       "      <td>16</td>\n",
       "      <td>31.709501</td>\n",
       "      <td>-89.146734</td>\n",
       "      <td>{'AcceptsInsurance': None, 'Accessibility': ['...</td>\n",
       "      <td>4.000000</td>\n",
       "      <td>1</td>\n",
       "    </tr>\n",
       "    <tr>\n",
       "      <th>27355</th>\n",
       "      <td>27355</td>\n",
       "      <td>True</td>\n",
       "      <td>False</td>\n",
       "      <td>False</td>\n",
       "      <td>False</td>\n",
       "      <td>False</td>\n",
       "      <td>False</td>\n",
       "      <td>False</td>\n",
       "      <td>False</td>\n",
       "      <td>False</td>\n",
       "      <td>...</td>\n",
       "      <td>0x89ba964719133153:0x605a641d41966acf</td>\n",
       "      <td>46</td>\n",
       "      <td>Elegant Affairs, Banquet Hall &amp; Event Center</td>\n",
       "      <td>['Restaurant']</td>\n",
       "      <td>48</td>\n",
       "      <td>36.854610</td>\n",
       "      <td>-76.209071</td>\n",
       "      <td>{'AcceptsInsurance': None, 'Accessibility': ['...</td>\n",
       "      <td>4.500000</td>\n",
       "      <td>1</td>\n",
       "    </tr>\n",
       "  </tbody>\n",
       "</table>\n",
       "<p>3 rows × 22 columns</p>\n",
       "</div>"
      ],
      "text/plain": [
       "       index  Wheelchair accessible entrance  \\\n",
       "15042  15042                            True   \n",
       "29634  29634                            True   \n",
       "27355  27355                            True   \n",
       "\n",
       "       Wheelchair accessible parking lot  Wheelchair accessible seating  \\\n",
       "15042                              False                          False   \n",
       "29634                              False                          False   \n",
       "27355                              False                          False   \n",
       "\n",
       "       Wheelchair accessible restroom  Wheelchair accessible elevator  \\\n",
       "15042                           False                           False   \n",
       "29634                           False                           False   \n",
       "27355                           False                           False   \n",
       "\n",
       "       Wheelchair-accessible car park  Wheelchair-accessible entrance  \\\n",
       "15042                           False                           False   \n",
       "29634                           False                           False   \n",
       "27355                           False                           False   \n",
       "\n",
       "       Wheelchair-accessible seating  Wheelchair-accessible toilet  ...  \\\n",
       "15042                          False                         False  ...   \n",
       "29634                          False                         False  ...   \n",
       "27355                          False                         False  ...   \n",
       "\n",
       "                              id_restaurante  id_estado  \\\n",
       "15042  0x880e2dc435f9336f:0x9f160fe0b204d0b0         13   \n",
       "29634  0x88833423b0976cfd:0x5e05904cfb0ce89f         24   \n",
       "27355  0x89ba964719133153:0x605a641d41966acf         46   \n",
       "\n",
       "                                             nombre  \\\n",
       "15042                       Teatro ZinZanni Chicago   \n",
       "29634                                        Subway   \n",
       "27355  Elegant Affairs, Banquet Hall & Event Center   \n",
       "\n",
       "                                              categorias cantidad_resenas  \\\n",
       "15042  ['Theater production', 'Cabaret club', 'Circus...              128   \n",
       "29634  ['Sandwich shop', 'Caterer', 'Fast food restau...               16   \n",
       "27355                                     ['Restaurant']               48   \n",
       "\n",
       "         latitud   longitud  \\\n",
       "15042  41.884922 -87.628876   \n",
       "29634  31.709501 -89.146734   \n",
       "27355  36.854610 -76.209071   \n",
       "\n",
       "                                               atributos  calificacion origen  \n",
       "15042  {'AcceptsInsurance': None, 'Accessibility': ['...      4.898438      1  \n",
       "29634  {'AcceptsInsurance': None, 'Accessibility': ['...      4.000000      1  \n",
       "27355  {'AcceptsInsurance': None, 'Accessibility': ['...      4.500000      1  \n",
       "\n",
       "[3 rows x 22 columns]"
      ]
     },
     "execution_count": 17,
     "metadata": {},
     "output_type": "execute_result"
    }
   ],
   "source": [
    "df_restaurantes = df_restaurantes.reset_index().reset_index().drop(columns=['index']).rename({'level_0': 'index'}, axis=1, errors='ignore')\n",
    "df_accesibilidad.reset_index().merge(df_restaurantes, on=\"index\").sample(3)\n"
   ]
  },
  {
   "cell_type": "code",
   "execution_count": 18,
   "metadata": {},
   "outputs": [],
   "source": [
    "df_accesibilidad.columns = [\"access_\" + c for c in df_accesibilidad.columns]\n",
    "union = df_accesibilidad.reset_index().merge(df_restaurantes, on=\"index\")"
   ]
  },
  {
   "cell_type": "code",
   "execution_count": 19,
   "metadata": {},
   "outputs": [
    {
     "data": {
      "text/html": [
       "<div>\n",
       "<style scoped>\n",
       "    .dataframe tbody tr th:only-of-type {\n",
       "        vertical-align: middle;\n",
       "    }\n",
       "\n",
       "    .dataframe tbody tr th {\n",
       "        vertical-align: top;\n",
       "    }\n",
       "\n",
       "    .dataframe thead th {\n",
       "        text-align: right;\n",
       "    }\n",
       "</style>\n",
       "<table border=\"1\" class=\"dataframe\">\n",
       "  <thead>\n",
       "    <tr style=\"text-align: right;\">\n",
       "      <th></th>\n",
       "      <th>index</th>\n",
       "      <th>access_Wheelchair accessible entrance</th>\n",
       "      <th>access_Wheelchair accessible parking lot</th>\n",
       "      <th>access_Wheelchair accessible seating</th>\n",
       "      <th>access_Wheelchair accessible restroom</th>\n",
       "      <th>access_Wheelchair accessible elevator</th>\n",
       "      <th>access_Wheelchair-accessible car park</th>\n",
       "      <th>access_Wheelchair-accessible entrance</th>\n",
       "      <th>access_Wheelchair-accessible seating</th>\n",
       "      <th>access_Wheelchair-accessible toilet</th>\n",
       "      <th>...</th>\n",
       "      <th>id_restaurante</th>\n",
       "      <th>id_estado</th>\n",
       "      <th>nombre</th>\n",
       "      <th>categorias</th>\n",
       "      <th>cantidad_resenas</th>\n",
       "      <th>latitud</th>\n",
       "      <th>longitud</th>\n",
       "      <th>atributos</th>\n",
       "      <th>calificacion</th>\n",
       "      <th>origen</th>\n",
       "    </tr>\n",
       "  </thead>\n",
       "  <tbody>\n",
       "    <tr>\n",
       "      <th>86573</th>\n",
       "      <td>86573</td>\n",
       "      <td>True</td>\n",
       "      <td>False</td>\n",
       "      <td>False</td>\n",
       "      <td>False</td>\n",
       "      <td>False</td>\n",
       "      <td>False</td>\n",
       "      <td>False</td>\n",
       "      <td>False</td>\n",
       "      <td>False</td>\n",
       "      <td>...</td>\n",
       "      <td>0x89c27d38bc780109:0x2dbb5e4ed2c7655d</td>\n",
       "      <td>32</td>\n",
       "      <td>Taku Restaruant</td>\n",
       "      <td>['Restaurant', 'Asian restaurant', 'Kyoto styl...</td>\n",
       "      <td>118</td>\n",
       "      <td>40.724375</td>\n",
       "      <td>-73.637056</td>\n",
       "      <td>{'AcceptsInsurance': None, 'Accessibility': ['...</td>\n",
       "      <td>4.601562</td>\n",
       "      <td>1</td>\n",
       "    </tr>\n",
       "    <tr>\n",
       "      <th>108963</th>\n",
       "      <td>108963</td>\n",
       "      <td>True</td>\n",
       "      <td>False</td>\n",
       "      <td>False</td>\n",
       "      <td>False</td>\n",
       "      <td>False</td>\n",
       "      <td>False</td>\n",
       "      <td>False</td>\n",
       "      <td>False</td>\n",
       "      <td>False</td>\n",
       "      <td>...</td>\n",
       "      <td>0x80dbfff1b5c25f6f:0xf3ba0c1e5a196791</td>\n",
       "      <td>5</td>\n",
       "      <td>Everbowl</td>\n",
       "      <td>['Health food restaurant', 'Cafe', 'Juice shop...</td>\n",
       "      <td>8</td>\n",
       "      <td>32.822213</td>\n",
       "      <td>-117.101847</td>\n",
       "      <td>{'AcceptsInsurance': None, 'Accessibility': ['...</td>\n",
       "      <td>4.000000</td>\n",
       "      <td>1</td>\n",
       "    </tr>\n",
       "    <tr>\n",
       "      <th>80306</th>\n",
       "      <td>80306</td>\n",
       "      <td>True</td>\n",
       "      <td>False</td>\n",
       "      <td>False</td>\n",
       "      <td>False</td>\n",
       "      <td>False</td>\n",
       "      <td>False</td>\n",
       "      <td>False</td>\n",
       "      <td>False</td>\n",
       "      <td>False</td>\n",
       "      <td>...</td>\n",
       "      <td>0x88002127c22ed673:0xbfd0015d672ab9a6</td>\n",
       "      <td>49</td>\n",
       "      <td>Mandarin Chinese Restaurant</td>\n",
       "      <td>['Chinese restaurant', 'Restaurant']</td>\n",
       "      <td>127</td>\n",
       "      <td>44.960914</td>\n",
       "      <td>-89.635367</td>\n",
       "      <td>{'AcceptsInsurance': None, 'Accessibility': ['...</td>\n",
       "      <td>4.300781</td>\n",
       "      <td>1</td>\n",
       "    </tr>\n",
       "  </tbody>\n",
       "</table>\n",
       "<p>3 rows × 22 columns</p>\n",
       "</div>"
      ],
      "text/plain": [
       "         index  access_Wheelchair accessible entrance  \\\n",
       "86573    86573                                   True   \n",
       "108963  108963                                   True   \n",
       "80306    80306                                   True   \n",
       "\n",
       "        access_Wheelchair accessible parking lot  \\\n",
       "86573                                      False   \n",
       "108963                                     False   \n",
       "80306                                      False   \n",
       "\n",
       "        access_Wheelchair accessible seating  \\\n",
       "86573                                  False   \n",
       "108963                                 False   \n",
       "80306                                  False   \n",
       "\n",
       "        access_Wheelchair accessible restroom  \\\n",
       "86573                                   False   \n",
       "108963                                  False   \n",
       "80306                                   False   \n",
       "\n",
       "        access_Wheelchair accessible elevator  \\\n",
       "86573                                   False   \n",
       "108963                                  False   \n",
       "80306                                   False   \n",
       "\n",
       "        access_Wheelchair-accessible car park  \\\n",
       "86573                                   False   \n",
       "108963                                  False   \n",
       "80306                                   False   \n",
       "\n",
       "        access_Wheelchair-accessible entrance  \\\n",
       "86573                                   False   \n",
       "108963                                  False   \n",
       "80306                                   False   \n",
       "\n",
       "        access_Wheelchair-accessible seating  \\\n",
       "86573                                  False   \n",
       "108963                                 False   \n",
       "80306                                  False   \n",
       "\n",
       "        access_Wheelchair-accessible toilet  ...  \\\n",
       "86573                                 False  ...   \n",
       "108963                                False  ...   \n",
       "80306                                 False  ...   \n",
       "\n",
       "                               id_restaurante  id_estado  \\\n",
       "86573   0x89c27d38bc780109:0x2dbb5e4ed2c7655d         32   \n",
       "108963  0x80dbfff1b5c25f6f:0xf3ba0c1e5a196791          5   \n",
       "80306   0x88002127c22ed673:0xbfd0015d672ab9a6         49   \n",
       "\n",
       "                             nombre  \\\n",
       "86573               Taku Restaruant   \n",
       "108963                     Everbowl   \n",
       "80306   Mandarin Chinese Restaurant   \n",
       "\n",
       "                                               categorias cantidad_resenas  \\\n",
       "86573   ['Restaurant', 'Asian restaurant', 'Kyoto styl...              118   \n",
       "108963  ['Health food restaurant', 'Cafe', 'Juice shop...                8   \n",
       "80306                ['Chinese restaurant', 'Restaurant']              127   \n",
       "\n",
       "          latitud    longitud  \\\n",
       "86573   40.724375  -73.637056   \n",
       "108963  32.822213 -117.101847   \n",
       "80306   44.960914  -89.635367   \n",
       "\n",
       "                                                atributos  calificacion origen  \n",
       "86573   {'AcceptsInsurance': None, 'Accessibility': ['...      4.601562      1  \n",
       "108963  {'AcceptsInsurance': None, 'Accessibility': ['...      4.000000      1  \n",
       "80306   {'AcceptsInsurance': None, 'Accessibility': ['...      4.300781      1  \n",
       "\n",
       "[3 rows x 22 columns]"
      ]
     },
     "execution_count": 19,
     "metadata": {},
     "output_type": "execute_result"
    }
   ],
   "source": [
    "union.sample(3)"
   ]
  },
  {
   "cell_type": "code",
   "execution_count": 20,
   "metadata": {},
   "outputs": [
    {
     "data": {
      "text/plain": [
       "[]"
      ]
     },
     "execution_count": 20,
     "metadata": {},
     "output_type": "execute_result"
    }
   ],
   "source": [
    "df_atributos['Accessibility'].iloc[8536]"
   ]
  },
  {
   "cell_type": "markdown",
   "metadata": {},
   "source": [
    "### 1.2.2 Amenities"
   ]
  },
  {
   "cell_type": "code",
   "execution_count": 21,
   "metadata": {},
   "outputs": [],
   "source": [
    "df_atributos['Amenities'] = df_atributos['Amenities'].apply(lambda s: re.sub(r\"'\", \"\\\"\", s)).apply(lambda s: re.sub(r'\"\\s*\"','\",\"', s)).apply(json.loads)\n",
    "\n",
    "columnas_amenities = df_atributos['Amenities'].explode().unique()[1:].tolist()\n",
    "df_amenities = pd.DataFrame([[False] * len(columnas_amenities)] * df_atributos.shape[0], columns=columnas_amenities)\n",
    "\n",
    "for i, row in enumerate(df_atributos['Amenities']):\n",
    "    for j, val in enumerate(row):\n",
    "        df_amenities.loc[i, val] = True\n",
    "\n",
    "df_amenities.columns = [\"amen_\" + c for c in df_amenities.columns]\n",
    "union = df_amenities.reset_index().merge(union, on=\"index\")"
   ]
  },
  {
   "cell_type": "markdown",
   "metadata": {},
   "source": [
    "### 1.2.3 Atmosphere"
   ]
  },
  {
   "cell_type": "code",
   "execution_count": 22,
   "metadata": {},
   "outputs": [],
   "source": [
    "df_atributos['Atmosphere'] = df_atributos['Atmosphere'].apply(lambda s: re.sub(r\"'\", \"\\\"\", s)).apply(lambda s: re.sub(r'\"\\s*\"','\",\"', s)).apply(json.loads)\n",
    "\n",
    "columnas_atmosphere = df_atributos['Atmosphere'].explode().unique()[1:].tolist()\n",
    "\n",
    "df_atmosphere = pd.DataFrame([[False] * len(columnas_atmosphere)] * df_atributos.shape[0], columns=columnas_atmosphere)\n",
    "\n",
    "for i, row in enumerate(df_atributos['Atmosphere']):\n",
    "    for j, val in enumerate(row):\n",
    "        df_atmosphere.loc[i, val] = True\n",
    "\n",
    "df_atmosphere.columns = [\"atmos_\" + c for c in df_atmosphere.columns]\n",
    "union = df_atmosphere.reset_index().merge(union, on=\"index\")"
   ]
  },
  {
   "cell_type": "markdown",
   "metadata": {},
   "source": [
    "### 1.2.4 Crowd"
   ]
  },
  {
   "cell_type": "code",
   "execution_count": 23,
   "metadata": {},
   "outputs": [],
   "source": [
    "df_atributos['Crowd'] = df_atributos['Crowd'].apply(lambda s: re.sub(r\"'\", \"\\\"\", s)).apply(lambda s: re.sub(r'\"\\s*\"','\",\"', s)).apply(json.loads)\n",
    "\n",
    "columnas_crowd = df_atributos['Crowd'].explode().unique()[1:].tolist()\n",
    "\n",
    "df_crowd = pd.DataFrame([[False] * len(columnas_crowd)] * df_atributos.shape[0], columns=columnas_crowd)\n",
    "\n",
    "for i, row in enumerate(df_atributos['Crowd']):\n",
    "    for j, val in enumerate(row):\n",
    "        df_crowd.loc[i, val] = True\n",
    "\n",
    "df_crowd.columns = [\"crowd_\" + c for c in df_crowd.columns]\n",
    "union = df_crowd.reset_index().merge(union, on=\"index\")       "
   ]
  },
  {
   "cell_type": "markdown",
   "metadata": {},
   "source": [
    "### 1.2.5 Dinning Options"
   ]
  },
  {
   "cell_type": "code",
   "execution_count": 24,
   "metadata": {},
   "outputs": [],
   "source": [
    "df_atributos['Dining options'] = df_atributos['Dining options'].apply(lambda s: re.sub(r\"'\", \"\\\"\", s)).apply(lambda s: re.sub(r'\"\\s*\"','\",\"', s)).apply(json.loads)\n",
    "\n",
    "columnas_dining = df_atributos['Dining options'].explode().unique()[1:].tolist()\n",
    "df_dining = pd.DataFrame([[False] * len(columnas_dining)] * df_atributos.shape[0], columns=columnas_dining)\n",
    "\n",
    "for i, row in enumerate(df_atributos['Dining options']):\n",
    "    for j, val in enumerate(row):\n",
    "        df_dining.loc[i, val] = True\n",
    "\n",
    "df_dining.columns = [\"dining_\" + c for c in df_dining.columns]\n",
    "union = df_dining.reset_index().merge(union, on=\"index\")"
   ]
  },
  {
   "cell_type": "markdown",
   "metadata": {},
   "source": [
    "### 1.2.6 Health & safety"
   ]
  },
  {
   "cell_type": "code",
   "execution_count": 25,
   "metadata": {},
   "outputs": [],
   "source": [
    "df_atributos['Health & safety'] = df_atributos['Health & safety'].apply(lambda s: re.sub(r\"'\", \"\\\"\", s)).apply(lambda s: re.sub(r'\"\\s*\"','\",\"', s)).apply(json.loads)\n",
    "\n",
    "columnas_health = df_atributos['Health & safety'].explode().unique()[1:].tolist()\n",
    "\n",
    "df_health = pd.DataFrame([[False] * len(columnas_health)] * df_atributos.shape[0], columns=columnas_health)\n",
    "\n",
    "for i, row in enumerate(df_atributos['Health & safety']):\n",
    "    for j, val in enumerate(row):\n",
    "        df_health.loc[i, val] = True\n",
    "\n",
    "df_health.columns = [\"health_\" + c for c in df_health.columns]\n",
    "union = df_health.reset_index().merge(union, on=\"index\")        \n"
   ]
  },
  {
   "cell_type": "markdown",
   "metadata": {},
   "source": [
    "### 1.2.7 Highlights"
   ]
  },
  {
   "cell_type": "code",
   "execution_count": 26,
   "metadata": {},
   "outputs": [],
   "source": [
    "df_atributos['Highlights'] = df_atributos['Highlights'].apply(lambda s: re.sub(r\"'\", \"\\\"\", s)).apply(lambda s: re.sub(r'\"\\s*\"','\",\"', s)).apply(json.loads)\n",
    "\n",
    "columnas_high = df_atributos['Highlights'].explode().unique()[1:].tolist()\n",
    "\n",
    "df_high = pd.DataFrame([[False] * len(columnas_high)] * df_atributos.shape[0], columns=columnas_high)\n",
    "\n",
    "for i, row in enumerate(df_atributos['Highlights']):\n",
    "    for j, val in enumerate(row):\n",
    "        df_high.loc[i, val] = True\n",
    "\n",
    "df_high.columns = [\"high_\" + c for c in df_high.columns]\n",
    "union = df_high.reset_index().merge(union, on=\"index\")"
   ]
  },
  {
   "cell_type": "markdown",
   "metadata": {},
   "source": [
    "### 1.2.8 Offerings"
   ]
  },
  {
   "cell_type": "code",
   "execution_count": 27,
   "metadata": {},
   "outputs": [],
   "source": [
    "df_atributos['Offerings'] = df_atributos['Offerings'].apply(lambda r: r.replace(\"Kids'\", \"Kids\"))\n",
    "\n",
    "df_atributos['Offerings'] = df_atributos['Offerings'].apply(lambda s: re.sub(r\"'\", \"\\\"\", s)).apply(lambda s: re.sub(r'\"\\s*\"','\",\"', s)).apply(json.loads)\n",
    "\n",
    "columnas_offerings = df_atributos['Offerings'].explode().unique()[1:].tolist()\n",
    "\n",
    "df_offering = pd.DataFrame([[False] * len(columnas_offerings)] * df_atributos.shape[0], columns=columnas_offerings)\n",
    "\n",
    "for i, row in enumerate(df_atributos['Offerings']):\n",
    "    for j, val in enumerate(row):\n",
    "        df_offering.loc[i, val] = True\n",
    "\n",
    "df_offering.columns = [\"offer_\" + c for c in df_offering.columns]\n",
    "union = df_offering.reset_index().merge(union, on=\"index\")"
   ]
  },
  {
   "cell_type": "markdown",
   "metadata": {},
   "source": [
    "### 1.2.9 Payments"
   ]
  },
  {
   "cell_type": "code",
   "execution_count": 28,
   "metadata": {},
   "outputs": [],
   "source": [
    "df_atributos['Payments'] = df_atributos['Payments'].apply(lambda s: re.sub(r\"'\", \"\\\"\", s)).apply(lambda s: re.sub(r'\"\\s*\"','\",\"', s)).apply(json.loads)\n",
    "\n",
    "columnas_payments = df_atributos['Payments'].explode().unique()[1:].tolist()\n",
    "\n",
    "df_payments = pd.DataFrame([[False] * len(columnas_payments)] * df_atributos.shape[0], columns=columnas_payments)\n",
    "\n",
    "for i, row in enumerate(df_atributos['Payments']):\n",
    "    for j, val in enumerate(row):\n",
    "        df_payments.loc[i, val] = True\n",
    "\n",
    "df_payments.columns = [\"pay_\" + c for c in df_payments.columns]\n",
    "union = df_payments.reset_index().merge(union, on=\"index\")"
   ]
  },
  {
   "cell_type": "markdown",
   "metadata": {},
   "source": [
    "### 1.2.10 Popular for"
   ]
  },
  {
   "cell_type": "code",
   "execution_count": 29,
   "metadata": {},
   "outputs": [],
   "source": [
    "df_atributos['Popular for'] = df_atributos['Popular for'].apply(lambda s: re.sub(r\"'\", \"\\\"\", s)).apply(lambda s: re.sub(r'\"\\s*\"','\",\"', s)).apply(json.loads)\n",
    "\n",
    "columnas_popular = df_atributos['Popular for'].explode().unique()[1:].tolist()\n",
    "\n",
    "df_popular = pd.DataFrame([[False] * len(columnas_popular)] * df_atributos.shape[0], columns=columnas_popular)\n",
    "\n",
    "for i, row in enumerate(df_atributos['Popular for']):\n",
    "    for j, val in enumerate(row):\n",
    "        df_popular.loc[i, val] = True\n",
    "\n",
    "df_popular.columns = [\"popular_\" + c for c in df_popular.columns]\n",
    "union = df_popular.reset_index().merge(union, on=\"index\")\n",
    "\n"
   ]
  },
  {
   "cell_type": "markdown",
   "metadata": {},
   "source": [
    "### 1.2.11 Service Options"
   ]
  },
  {
   "cell_type": "code",
   "execution_count": 30,
   "metadata": {},
   "outputs": [],
   "source": [
    "df_atributos['Service options'] = df_atributos['Service options'].apply(lambda s: re.sub(r\"'\", \"\\\"\", s)).apply(lambda s: re.sub(r'\"\\s*\"','\",\"', s)).apply(json.loads)\n",
    "\n",
    "columnas_service = df_atributos['Service options'].explode().unique()[1:].tolist()\n",
    "\n",
    "df_service = pd.DataFrame([[False] * len(columnas_service)] * df_atributos.shape[0], columns=columnas_service)\n",
    "\n",
    "for i, row in enumerate(df_atributos['Service options']):\n",
    "    for j, val in enumerate(row):\n",
    "        df_service.loc[i, val] = True\n",
    "\n",
    "df_service.columns = [\"service_\" + c for c in df_service.columns]\n",
    "\n",
    "union = df_service.reset_index().merge(union, on=\"index\")"
   ]
  },
  {
   "cell_type": "markdown",
   "metadata": {},
   "source": [
    "Luego de haber trabajado todas las columnas que utilizaremos, podemos salvar el dataframe resultante."
   ]
  },
  {
   "cell_type": "code",
   "execution_count": 31,
   "metadata": {},
   "outputs": [],
   "source": [
    "union.to_parquet(\"df_normalizado.parquet\")"
   ]
  },
  {
   "cell_type": "markdown",
   "metadata": {
    "notebookRunGroups": {
     "groupValue": "1"
    }
   },
   "source": [
    "# 2. Machine Learning"
   ]
  },
  {
   "cell_type": "markdown",
   "metadata": {},
   "source": [
    "## 2.1 Tareas Previas"
   ]
  },
  {
   "cell_type": "markdown",
   "metadata": {},
   "source": [
    "### 2.1.1 Adquisición de Archivos"
   ]
  },
  {
   "cell_type": "code",
   "execution_count": 32,
   "metadata": {},
   "outputs": [],
   "source": [
    "df_normalizado = pd.read_parquet(\"df_normalizado.parquet\")"
   ]
  },
  {
   "cell_type": "code",
   "execution_count": 33,
   "metadata": {},
   "outputs": [
    {
     "name": "stdout",
     "output_type": "stream",
     "text": [
      "<class 'pandas.core.frame.DataFrame'>\n",
      "RangeIndex: 111914 entries, 0 to 111913\n",
      "Columns: 169 entries, index to origen\n",
      "dtypes: bool(158), float64(3), int64(4), object(4)\n",
      "memory usage: 26.3+ MB\n"
     ]
    }
   ],
   "source": [
    "df_normalizado.info()"
   ]
  },
  {
   "cell_type": "markdown",
   "metadata": {},
   "source": [
    "### 2.1.2 Recorte de Features"
   ]
  },
  {
   "cell_type": "markdown",
   "metadata": {},
   "source": [
    "Subset de columnas features, que son la columna atributos desplegada"
   ]
  },
  {
   "cell_type": "code",
   "execution_count": 34,
   "metadata": {},
   "outputs": [],
   "source": [
    "subset = [col for col in df_normalizado.columns if '_' in col and col not in ['id_restaurante', 'id_estado', 'cantidad_resenas'] ]\n"
   ]
  },
  {
   "cell_type": "markdown",
   "metadata": {},
   "source": [
    "Unificación de Features"
   ]
  },
  {
   "cell_type": "code",
   "execution_count": 35,
   "metadata": {},
   "outputs": [],
   "source": [
    "df = pd.DataFrame(data=None)\n",
    "\n",
    "# Accesibilidad\n",
    "df['index'] = df_normalizado.index\n",
    "df['access_Wheelchair accessible entrance'] = df_normalizado['access_Wheelchair accessible entrance'] | df_normalizado['access_Wheelchair-accessible entrance']\n",
    "df['access_Wheelchair accessible parking lot'] = df_normalizado['access_Wheelchair accessible parking lot'] | df_normalizado['access_Wheelchair-accessible car park']\n",
    "df['access_Wheelchair accessible restroom'] = df_normalizado['access_Wheelchair accessible restroom'] | df_normalizado['access_Wheelchair-accessible toilet']\n",
    "df['access_Wheelchair accessible seating'] = df_normalizado['access_Wheelchair accessible seating'] | df_normalizado['access_Wheelchair-accessible seating']\n",
    "df['access_Wheelchair accessible elevator'] = df_normalizado['access_Wheelchair accessible elevator'] | df_normalizado['access_Wheelchair-accessible lift']\n",
    "\n",
    "# Amenities\n",
    "df['amen_Bar onsite'] = df_normalizado['amen_Bar onsite'] | df_normalizado['amen_Bar on site']\n",
    "df['amen_Gender-neutral restroom'] = df_normalizado['amen_Gender-neutral restroom'] | df_normalizado['amen_Gender-neutral toilets']\n",
    "df['amen_Good for kids'] = df_normalizado['amen_Good for kids']\n",
    "df['amen_High chairs'] = df_normalizado['amen_High chairs']\n",
    "df['amen_Restroom'] = df_normalizado['amen_Restroom'] | df_normalizado['amen_Toilets'] | df_normalizado['amen_Public restroom']\n",
    "df['amen_Wi-Fi'] = df_normalizado['amen_Wi-Fi']\n",
    "\n",
    "# Atmosphere\n",
    "df['atmos_Cozy'] = df_normalizado['atmos_Cozy'] | df_normalizado['atmos_Cosy']\n",
    "df['atmos_Historic'] = df_normalizado['atmos_Historic']\n",
    "df['atmos_Romantic'] = df_normalizado['atmos_Romantic']\n",
    "df['atmos_Upscale'] = df_normalizado['atmos_Upscale']\n",
    "\n",
    "# Crowd\n",
    "df['crowd_College students'] = df_normalizado['crowd_College students']\n",
    "df['crowd_Family-friendly'] = df_normalizado['crowd_Family-friendly'] | df_normalizado['crowd_Family friendly']\n",
    "df['crowd_Groups'] = df_normalizado['crowd_Groups']\n",
    "df['crowd_Locals'] = df_normalizado['crowd_Locals']\n",
    "df['crowd_Tourists'] = df_normalizado['crowd_Tourists']\n",
    "df['crowd_University students'] = df_normalizado['crowd_University students']\n",
    "\n",
    "# Dining\n",
    "df['dining_Breakfast'] = df_normalizado['dining_Breakfast']\n",
    "df['dining_Catering'] = df_normalizado['dining_Catering']\n",
    "df['dining_Dessert'] = df_normalizado['dining_Dessert']\n",
    "df['dining_Dinner'] = df_normalizado['dining_Dinner']\n",
    "df['dining_Lunch'] = df_normalizado['dining_Lunch']\n",
    "df['dining_Seating'] = df_normalizado['dining_Seating']\n",
    "\n",
    "# Health\n",
    "df['health_Mask required'] = df_normalizado['health_Mask required']\n",
    "df['health_Reservations required'] = df_normalizado['health_Reservations required']\n",
    "df['health_Safety dividers at checkout'] = df_normalizado['health_Safety dividers at checkout']\n",
    "df['health_Staff get temperature checks'] = df_normalizado['health_Staff get temperature checks']\n",
    "df['health_Staff required to disinfect surfaces between visits'] = df_normalizado['health_Staff required to disinfect surfaces between visits']\n",
    "df['health_Staff wear masks'] = df_normalizado['health_Staff wear masks']\n",
    "df['health_Temperature check required'] = df_normalizado['health_Temperature check required']\n",
    "\n",
    "# High\n",
    "\n",
    "df['high_Fast service'] = df_normalizado['high_Fast service']\n",
    "df['high_Great dessert'] = df_normalizado['high_Great dessert'] | df_normalizado['high_Great tea selection']\n",
    "df['high_LGBTQ friendly'] = df_normalizado['high_LGBTQ friendly'] | df_normalizado['high_LGBTQ-friendly'] | df_normalizado['high_Transgender safespace']\n",
    "df['high_Live music'] = df_normalizado['high_Live music'] | df_normalizado['high_Bar games'] | df_normalizado['high_Fireplace']\n",
    "df['high_Sports'] = df_normalizado['high_Sports'] | df_normalizado['high_Sport']\n",
    "\n",
    "# Offer\n",
    "df['offer_Alcohol'] = df_normalizado['offer_Alcohol'] | df_normalizado['offer_Hard liquor'] | df_normalizado['offer_Spirits']\n",
    "df['offer_Beer'] = df_normalizado['offer_Beer'] | df_normalizado['high_Great beer selection']\n",
    "df['offer_Cocktails'] = df_normalizado['offer_Cocktails'] | df_normalizado['high_Great cocktails']\n",
    "df['offer_Coffee'] = df_normalizado['offer_Coffee'] | df_normalizado['high_Great coffee']\n",
    "df['offer_Comfort food'] = df_normalizado['offer_Comfort food'] | df_normalizado['offer_Prepared foods'] | df_normalizado['offer_Small plates']\n",
    "df['offer_Food'] = df_normalizado['offer_Food'] | df_normalizado['offer_Food at bar'] | df_normalizado['offer_All you can eat']\n",
    "df['offer_Halal food'] = df_normalizado['offer_Halal food']\n",
    "df['offer_Happy hour drinks'] = df_normalizado['offer_Happy hour drinks'] | df_normalizado['offer_Happy-hour drinks']\n",
    "df['offer_Happy hour food'] = df_normalizado['offer_Happy hour food'] | df_normalizado['offer_Happy-hour food']\n",
    "df['offer_Healthy options'] = df_normalizado['offer_Healthy options'] | df_normalizado['offer_Organic dishes']\n",
    "df['offer_Kids menu'] = df_normalizado['offer_Kids menu']\n",
    "df['offer_Quick bite'] = df_normalizado['offer_Quick bite'] | df_normalizado['offer_Late-night food']\n",
    "df['offer_Vegetarian options'] = df_normalizado['offer_Vegetarian options'] | df_normalizado['offer_Salad bar']\n",
    "df['offer_Wine'] = df_normalizado['offer_Wine'] | df_normalizado['high_Great wine list']\n",
    "\n",
    "# Payments\n",
    "\n",
    "df['pay_Cash-only'] = df_normalizado['pay_Cash-only']\n",
    "df['pay_Checks'] = df_normalizado['pay_Checks']\n",
    "df['pay_Credit cards'] = df_normalizado['pay_Credit cards']\n",
    "df['pay_Debit cards'] = df_normalizado['pay_Debit cards']\n",
    "df['pay_NFC mobile payments'] = df_normalizado['pay_NFC mobile payments']\n",
    "\n",
    "# Popular\n",
    "\n",
    "df['popular_Breakfast'] = df_normalizado['popular_Breakfast']\n",
    "df['popular_Dinner'] = df_normalizado['popular_Dinner']\n",
    "df['popular_Good for working on laptop'] = df_normalizado['popular_Good for working on laptop']\n",
    "df['popular_Lunch'] = df_normalizado['popular_Lunch']\n",
    "df['popular_Solo dining'] = df_normalizado['popular_Solo dining']\n",
    "\n",
    "# Service\n",
    "\n",
    "df['service_Curbside pickup'] = df_normalizado['service_Curbside pickup'] | df_normalizado['service_Drive-through']\n",
    "df['service_Delivery'] = df_normalizado['service_Delivery'] | df_normalizado['service_No-contact delivery']\n",
    "df['service_Dine-in'] = df_normalizado['service_Dine-in']\n",
    "df['service_In-store shopping'] = df_normalizado['service_In-store shopping'] | df_normalizado['service_In-store pickup']\n",
    "df['service_Outdoor seating'] = df_normalizado['service_Outdoor seating']\n",
    "df['service_Takeout'] = df_normalizado['service_Takeout'] | df_normalizado['service_Takeaway']\n"
   ]
  },
  {
   "cell_type": "markdown",
   "metadata": {},
   "source": [
    "Seleccionamos las que tienen una tasa de ocurrencia del 0.5% o más"
   ]
  },
  {
   "cell_type": "code",
   "execution_count": 36,
   "metadata": {},
   "outputs": [
    {
     "name": "stdout",
     "output_type": "stream",
     "text": [
      "Columnas de atributos: 70 columnas resultantes\n"
     ]
    }
   ],
   "source": [
    "tasa = pd.Series(df.sum()/len(df_normalizado))\n",
    "columnas = tasa[tasa >=0.005].index.tolist()\n",
    "print(f\"Columnas de atributos: {len(columnas)} columnas resultantes\")"
   ]
  },
  {
   "cell_type": "code",
   "execution_count": 37,
   "metadata": {},
   "outputs": [
    {
     "name": "stdout",
     "output_type": "stream",
     "text": [
      "Columnas de restaurantes: 10 columnas de datos restaurantes\n"
     ]
    }
   ],
   "source": [
    "columnas_restaurante = pd.Series(df_normalizado.columns).reset_index().loc[159:,0].tolist()\n",
    "print(f\"Columnas de restaurantes: {len(columnas_restaurante)} columnas de datos restaurantes\")"
   ]
  },
  {
   "cell_type": "markdown",
   "metadata": {},
   "source": [
    "DataFrame resultante"
   ]
  },
  {
   "cell_type": "code",
   "execution_count": 38,
   "metadata": {},
   "outputs": [
    {
     "data": {
      "text/html": [
       "<div>\n",
       "<style scoped>\n",
       "    .dataframe tbody tr th:only-of-type {\n",
       "        vertical-align: middle;\n",
       "    }\n",
       "\n",
       "    .dataframe tbody tr th {\n",
       "        vertical-align: top;\n",
       "    }\n",
       "\n",
       "    .dataframe thead th {\n",
       "        text-align: right;\n",
       "    }\n",
       "</style>\n",
       "<table border=\"1\" class=\"dataframe\">\n",
       "  <thead>\n",
       "    <tr style=\"text-align: right;\">\n",
       "      <th></th>\n",
       "      <th>index</th>\n",
       "      <th>access_Wheelchair accessible entrance</th>\n",
       "      <th>access_Wheelchair accessible parking lot</th>\n",
       "      <th>access_Wheelchair accessible restroom</th>\n",
       "      <th>access_Wheelchair accessible seating</th>\n",
       "      <th>access_Wheelchair accessible elevator</th>\n",
       "      <th>amen_Bar onsite</th>\n",
       "      <th>amen_Gender-neutral restroom</th>\n",
       "      <th>amen_Good for kids</th>\n",
       "      <th>amen_High chairs</th>\n",
       "      <th>...</th>\n",
       "      <th>id_restaurante</th>\n",
       "      <th>id_estado</th>\n",
       "      <th>nombre</th>\n",
       "      <th>categorias</th>\n",
       "      <th>cantidad_resenas</th>\n",
       "      <th>latitud</th>\n",
       "      <th>longitud</th>\n",
       "      <th>atributos</th>\n",
       "      <th>calificacion</th>\n",
       "      <th>origen</th>\n",
       "    </tr>\n",
       "  </thead>\n",
       "  <tbody>\n",
       "    <tr>\n",
       "      <th>18403</th>\n",
       "      <td>18403</td>\n",
       "      <td>True</td>\n",
       "      <td>False</td>\n",
       "      <td>False</td>\n",
       "      <td>False</td>\n",
       "      <td>False</td>\n",
       "      <td>False</td>\n",
       "      <td>False</td>\n",
       "      <td>True</td>\n",
       "      <td>False</td>\n",
       "      <td>...</td>\n",
       "      <td>0x8879630ce7da7119:0x70b8482bbf74c36f</td>\n",
       "      <td>42</td>\n",
       "      <td>Lucky Dog Hotdog Cart</td>\n",
       "      <td>['Restaurant', 'Hot dog stand']</td>\n",
       "      <td>1</td>\n",
       "      <td>36.502185</td>\n",
       "      <td>-88.878669</td>\n",
       "      <td>{'AcceptsInsurance': None, 'Accessibility': ['...</td>\n",
       "      <td>5.000000</td>\n",
       "      <td>1</td>\n",
       "    </tr>\n",
       "    <tr>\n",
       "      <th>87635</th>\n",
       "      <td>87635</td>\n",
       "      <td>False</td>\n",
       "      <td>False</td>\n",
       "      <td>False</td>\n",
       "      <td>False</td>\n",
       "      <td>False</td>\n",
       "      <td>False</td>\n",
       "      <td>False</td>\n",
       "      <td>True</td>\n",
       "      <td>False</td>\n",
       "      <td>...</td>\n",
       "      <td>0x89e82e002603bea1:0x8cb2ea55a7c4488f</td>\n",
       "      <td>32</td>\n",
       "      <td>El Buen Gusto Deli</td>\n",
       "      <td>['Restaurant']</td>\n",
       "      <td>44</td>\n",
       "      <td>40.772849</td>\n",
       "      <td>-73.276919</td>\n",
       "      <td>{'AcceptsInsurance': None, 'Accessibility': No...</td>\n",
       "      <td>3.900391</td>\n",
       "      <td>1</td>\n",
       "    </tr>\n",
       "    <tr>\n",
       "      <th>82464</th>\n",
       "      <td>82464</td>\n",
       "      <td>True</td>\n",
       "      <td>False</td>\n",
       "      <td>False</td>\n",
       "      <td>False</td>\n",
       "      <td>False</td>\n",
       "      <td>False</td>\n",
       "      <td>False</td>\n",
       "      <td>True</td>\n",
       "      <td>True</td>\n",
       "      <td>...</td>\n",
       "      <td>0x86249c2b36f3d4b3:0x9097b35bbfa99ac3</td>\n",
       "      <td>18</td>\n",
       "      <td>Dozo Restaurant</td>\n",
       "      <td>['Japanese restaurant', 'Asian restaurant', 'B...</td>\n",
       "      <td>128</td>\n",
       "      <td>30.190198</td>\n",
       "      <td>-92.063765</td>\n",
       "      <td>{'AcceptsInsurance': None, 'Accessibility': ['...</td>\n",
       "      <td>4.199219</td>\n",
       "      <td>1</td>\n",
       "    </tr>\n",
       "  </tbody>\n",
       "</table>\n",
       "<p>3 rows × 80 columns</p>\n",
       "</div>"
      ],
      "text/plain": [
       "       index  access_Wheelchair accessible entrance  \\\n",
       "18403  18403                                   True   \n",
       "87635  87635                                  False   \n",
       "82464  82464                                   True   \n",
       "\n",
       "       access_Wheelchair accessible parking lot  \\\n",
       "18403                                     False   \n",
       "87635                                     False   \n",
       "82464                                     False   \n",
       "\n",
       "       access_Wheelchair accessible restroom  \\\n",
       "18403                                  False   \n",
       "87635                                  False   \n",
       "82464                                  False   \n",
       "\n",
       "       access_Wheelchair accessible seating  \\\n",
       "18403                                 False   \n",
       "87635                                 False   \n",
       "82464                                 False   \n",
       "\n",
       "       access_Wheelchair accessible elevator  amen_Bar onsite  \\\n",
       "18403                                  False            False   \n",
       "87635                                  False            False   \n",
       "82464                                  False            False   \n",
       "\n",
       "       amen_Gender-neutral restroom  amen_Good for kids  amen_High chairs  \\\n",
       "18403                         False                True             False   \n",
       "87635                         False                True             False   \n",
       "82464                         False                True              True   \n",
       "\n",
       "       ...                         id_restaurante  id_estado  \\\n",
       "18403  ...  0x8879630ce7da7119:0x70b8482bbf74c36f         42   \n",
       "87635  ...  0x89e82e002603bea1:0x8cb2ea55a7c4488f         32   \n",
       "82464  ...  0x86249c2b36f3d4b3:0x9097b35bbfa99ac3         18   \n",
       "\n",
       "                      nombre  \\\n",
       "18403  Lucky Dog Hotdog Cart   \n",
       "87635     El Buen Gusto Deli   \n",
       "82464        Dozo Restaurant   \n",
       "\n",
       "                                              categorias  cantidad_resenas  \\\n",
       "18403                    ['Restaurant', 'Hot dog stand']                 1   \n",
       "87635                                     ['Restaurant']                44   \n",
       "82464  ['Japanese restaurant', 'Asian restaurant', 'B...               128   \n",
       "\n",
       "         latitud   longitud  \\\n",
       "18403  36.502185 -88.878669   \n",
       "87635  40.772849 -73.276919   \n",
       "82464  30.190198 -92.063765   \n",
       "\n",
       "                                               atributos  calificacion  origen  \n",
       "18403  {'AcceptsInsurance': None, 'Accessibility': ['...      5.000000       1  \n",
       "87635  {'AcceptsInsurance': None, 'Accessibility': No...      3.900391       1  \n",
       "82464  {'AcceptsInsurance': None, 'Accessibility': ['...      4.199219       1  \n",
       "\n",
       "[3 rows x 80 columns]"
      ]
     },
     "execution_count": 38,
     "metadata": {},
     "output_type": "execute_result"
    }
   ],
   "source": [
    "df = pd.concat([df, df_normalizado[columnas_restaurante]], axis=1)\n",
    "df.sample(3)"
   ]
  },
  {
   "cell_type": "markdown",
   "metadata": {},
   "source": [
    "Aplicamos el One Hot Encoder para el identificador de Estado"
   ]
  },
  {
   "cell_type": "code",
   "execution_count": 39,
   "metadata": {},
   "outputs": [],
   "source": [
    "encoder = OneHotEncoder(handle_unknown='ignore', sparse_output=False)\n",
    "one_hot_encoded = encoder.fit_transform(df[['id_estado']].astype(int))\n",
    "df_one_hot_encoded = pd.DataFrame(one_hot_encoded, columns=encoder.get_feature_names_out())\n",
    "\n",
    "df = pd.concat([df, df_one_hot_encoded], axis=1)"
   ]
  },
  {
   "cell_type": "markdown",
   "metadata": {},
   "source": [
    "Apartamos un subconjunto de Restaurantes Subway"
   ]
  },
  {
   "cell_type": "code",
   "execution_count": 40,
   "metadata": {},
   "outputs": [],
   "source": [
    "df_subway = df_normalizado.query(\"nombre == 'Subway'\")"
   ]
  },
  {
   "cell_type": "code",
   "execution_count": 41,
   "metadata": {},
   "outputs": [],
   "source": [
    "df_subway.to_parquet(\"df_subway.parquet\")"
   ]
  },
  {
   "cell_type": "code",
   "execution_count": 42,
   "metadata": {},
   "outputs": [
    {
     "data": {
      "text/html": [
       "<div>\n",
       "<style scoped>\n",
       "    .dataframe tbody tr th:only-of-type {\n",
       "        vertical-align: middle;\n",
       "    }\n",
       "\n",
       "    .dataframe tbody tr th {\n",
       "        vertical-align: top;\n",
       "    }\n",
       "\n",
       "    .dataframe thead th {\n",
       "        text-align: right;\n",
       "    }\n",
       "</style>\n",
       "<table border=\"1\" class=\"dataframe\">\n",
       "  <thead>\n",
       "    <tr style=\"text-align: right;\">\n",
       "      <th></th>\n",
       "      <th>index</th>\n",
       "      <th>access_Wheelchair accessible entrance</th>\n",
       "      <th>access_Wheelchair accessible parking lot</th>\n",
       "      <th>access_Wheelchair accessible restroom</th>\n",
       "      <th>access_Wheelchair accessible seating</th>\n",
       "      <th>access_Wheelchair accessible elevator</th>\n",
       "      <th>amen_Bar onsite</th>\n",
       "      <th>amen_Gender-neutral restroom</th>\n",
       "      <th>amen_Good for kids</th>\n",
       "      <th>amen_High chairs</th>\n",
       "      <th>...</th>\n",
       "      <th>id_estado_41</th>\n",
       "      <th>id_estado_42</th>\n",
       "      <th>id_estado_43</th>\n",
       "      <th>id_estado_44</th>\n",
       "      <th>id_estado_45</th>\n",
       "      <th>id_estado_46</th>\n",
       "      <th>id_estado_47</th>\n",
       "      <th>id_estado_48</th>\n",
       "      <th>id_estado_49</th>\n",
       "      <th>id_estado_50</th>\n",
       "    </tr>\n",
       "  </thead>\n",
       "  <tbody>\n",
       "    <tr>\n",
       "      <th>156</th>\n",
       "      <td>156</td>\n",
       "      <td>False</td>\n",
       "      <td>False</td>\n",
       "      <td>False</td>\n",
       "      <td>False</td>\n",
       "      <td>False</td>\n",
       "      <td>False</td>\n",
       "      <td>False</td>\n",
       "      <td>False</td>\n",
       "      <td>False</td>\n",
       "      <td>...</td>\n",
       "      <td>0.0</td>\n",
       "      <td>0.0</td>\n",
       "      <td>0.0</td>\n",
       "      <td>0.0</td>\n",
       "      <td>0.0</td>\n",
       "      <td>0.0</td>\n",
       "      <td>0.0</td>\n",
       "      <td>0.0</td>\n",
       "      <td>0.0</td>\n",
       "      <td>0.0</td>\n",
       "    </tr>\n",
       "    <tr>\n",
       "      <th>296</th>\n",
       "      <td>296</td>\n",
       "      <td>False</td>\n",
       "      <td>False</td>\n",
       "      <td>False</td>\n",
       "      <td>False</td>\n",
       "      <td>False</td>\n",
       "      <td>False</td>\n",
       "      <td>False</td>\n",
       "      <td>False</td>\n",
       "      <td>False</td>\n",
       "      <td>...</td>\n",
       "      <td>0.0</td>\n",
       "      <td>0.0</td>\n",
       "      <td>0.0</td>\n",
       "      <td>0.0</td>\n",
       "      <td>0.0</td>\n",
       "      <td>0.0</td>\n",
       "      <td>0.0</td>\n",
       "      <td>0.0</td>\n",
       "      <td>0.0</td>\n",
       "      <td>0.0</td>\n",
       "    </tr>\n",
       "    <tr>\n",
       "      <th>303</th>\n",
       "      <td>303</td>\n",
       "      <td>False</td>\n",
       "      <td>False</td>\n",
       "      <td>False</td>\n",
       "      <td>False</td>\n",
       "      <td>False</td>\n",
       "      <td>False</td>\n",
       "      <td>False</td>\n",
       "      <td>False</td>\n",
       "      <td>False</td>\n",
       "      <td>...</td>\n",
       "      <td>0.0</td>\n",
       "      <td>0.0</td>\n",
       "      <td>0.0</td>\n",
       "      <td>0.0</td>\n",
       "      <td>0.0</td>\n",
       "      <td>0.0</td>\n",
       "      <td>0.0</td>\n",
       "      <td>0.0</td>\n",
       "      <td>0.0</td>\n",
       "      <td>0.0</td>\n",
       "    </tr>\n",
       "    <tr>\n",
       "      <th>343</th>\n",
       "      <td>343</td>\n",
       "      <td>False</td>\n",
       "      <td>False</td>\n",
       "      <td>False</td>\n",
       "      <td>False</td>\n",
       "      <td>False</td>\n",
       "      <td>False</td>\n",
       "      <td>False</td>\n",
       "      <td>False</td>\n",
       "      <td>False</td>\n",
       "      <td>...</td>\n",
       "      <td>0.0</td>\n",
       "      <td>0.0</td>\n",
       "      <td>0.0</td>\n",
       "      <td>0.0</td>\n",
       "      <td>0.0</td>\n",
       "      <td>0.0</td>\n",
       "      <td>0.0</td>\n",
       "      <td>0.0</td>\n",
       "      <td>0.0</td>\n",
       "      <td>0.0</td>\n",
       "    </tr>\n",
       "    <tr>\n",
       "      <th>440</th>\n",
       "      <td>440</td>\n",
       "      <td>False</td>\n",
       "      <td>False</td>\n",
       "      <td>False</td>\n",
       "      <td>False</td>\n",
       "      <td>False</td>\n",
       "      <td>False</td>\n",
       "      <td>False</td>\n",
       "      <td>False</td>\n",
       "      <td>False</td>\n",
       "      <td>...</td>\n",
       "      <td>0.0</td>\n",
       "      <td>0.0</td>\n",
       "      <td>0.0</td>\n",
       "      <td>0.0</td>\n",
       "      <td>0.0</td>\n",
       "      <td>0.0</td>\n",
       "      <td>0.0</td>\n",
       "      <td>0.0</td>\n",
       "      <td>0.0</td>\n",
       "      <td>0.0</td>\n",
       "    </tr>\n",
       "    <tr>\n",
       "      <th>...</th>\n",
       "      <td>...</td>\n",
       "      <td>...</td>\n",
       "      <td>...</td>\n",
       "      <td>...</td>\n",
       "      <td>...</td>\n",
       "      <td>...</td>\n",
       "      <td>...</td>\n",
       "      <td>...</td>\n",
       "      <td>...</td>\n",
       "      <td>...</td>\n",
       "      <td>...</td>\n",
       "      <td>...</td>\n",
       "      <td>...</td>\n",
       "      <td>...</td>\n",
       "      <td>...</td>\n",
       "      <td>...</td>\n",
       "      <td>...</td>\n",
       "      <td>...</td>\n",
       "      <td>...</td>\n",
       "      <td>...</td>\n",
       "      <td>...</td>\n",
       "    </tr>\n",
       "    <tr>\n",
       "      <th>111859</th>\n",
       "      <td>111859</td>\n",
       "      <td>True</td>\n",
       "      <td>False</td>\n",
       "      <td>False</td>\n",
       "      <td>False</td>\n",
       "      <td>False</td>\n",
       "      <td>False</td>\n",
       "      <td>False</td>\n",
       "      <td>True</td>\n",
       "      <td>False</td>\n",
       "      <td>...</td>\n",
       "      <td>0.0</td>\n",
       "      <td>0.0</td>\n",
       "      <td>0.0</td>\n",
       "      <td>0.0</td>\n",
       "      <td>0.0</td>\n",
       "      <td>0.0</td>\n",
       "      <td>0.0</td>\n",
       "      <td>0.0</td>\n",
       "      <td>0.0</td>\n",
       "      <td>0.0</td>\n",
       "    </tr>\n",
       "    <tr>\n",
       "      <th>111891</th>\n",
       "      <td>111891</td>\n",
       "      <td>True</td>\n",
       "      <td>False</td>\n",
       "      <td>False</td>\n",
       "      <td>False</td>\n",
       "      <td>False</td>\n",
       "      <td>False</td>\n",
       "      <td>False</td>\n",
       "      <td>True</td>\n",
       "      <td>False</td>\n",
       "      <td>...</td>\n",
       "      <td>0.0</td>\n",
       "      <td>0.0</td>\n",
       "      <td>0.0</td>\n",
       "      <td>0.0</td>\n",
       "      <td>0.0</td>\n",
       "      <td>0.0</td>\n",
       "      <td>0.0</td>\n",
       "      <td>0.0</td>\n",
       "      <td>0.0</td>\n",
       "      <td>0.0</td>\n",
       "    </tr>\n",
       "    <tr>\n",
       "      <th>111901</th>\n",
       "      <td>111901</td>\n",
       "      <td>True</td>\n",
       "      <td>False</td>\n",
       "      <td>False</td>\n",
       "      <td>False</td>\n",
       "      <td>False</td>\n",
       "      <td>False</td>\n",
       "      <td>False</td>\n",
       "      <td>True</td>\n",
       "      <td>False</td>\n",
       "      <td>...</td>\n",
       "      <td>0.0</td>\n",
       "      <td>0.0</td>\n",
       "      <td>0.0</td>\n",
       "      <td>0.0</td>\n",
       "      <td>0.0</td>\n",
       "      <td>0.0</td>\n",
       "      <td>0.0</td>\n",
       "      <td>0.0</td>\n",
       "      <td>0.0</td>\n",
       "      <td>0.0</td>\n",
       "    </tr>\n",
       "    <tr>\n",
       "      <th>111908</th>\n",
       "      <td>111908</td>\n",
       "      <td>True</td>\n",
       "      <td>False</td>\n",
       "      <td>False</td>\n",
       "      <td>False</td>\n",
       "      <td>False</td>\n",
       "      <td>False</td>\n",
       "      <td>False</td>\n",
       "      <td>True</td>\n",
       "      <td>True</td>\n",
       "      <td>...</td>\n",
       "      <td>0.0</td>\n",
       "      <td>0.0</td>\n",
       "      <td>0.0</td>\n",
       "      <td>0.0</td>\n",
       "      <td>0.0</td>\n",
       "      <td>0.0</td>\n",
       "      <td>0.0</td>\n",
       "      <td>0.0</td>\n",
       "      <td>0.0</td>\n",
       "      <td>0.0</td>\n",
       "    </tr>\n",
       "    <tr>\n",
       "      <th>111909</th>\n",
       "      <td>111909</td>\n",
       "      <td>True</td>\n",
       "      <td>True</td>\n",
       "      <td>True</td>\n",
       "      <td>False</td>\n",
       "      <td>False</td>\n",
       "      <td>False</td>\n",
       "      <td>False</td>\n",
       "      <td>True</td>\n",
       "      <td>True</td>\n",
       "      <td>...</td>\n",
       "      <td>0.0</td>\n",
       "      <td>0.0</td>\n",
       "      <td>0.0</td>\n",
       "      <td>0.0</td>\n",
       "      <td>0.0</td>\n",
       "      <td>0.0</td>\n",
       "      <td>0.0</td>\n",
       "      <td>0.0</td>\n",
       "      <td>0.0</td>\n",
       "      <td>0.0</td>\n",
       "    </tr>\n",
       "  </tbody>\n",
       "</table>\n",
       "<p>8537 rows × 129 columns</p>\n",
       "</div>"
      ],
      "text/plain": [
       "         index  access_Wheelchair accessible entrance  \\\n",
       "156        156                                  False   \n",
       "296        296                                  False   \n",
       "303        303                                  False   \n",
       "343        343                                  False   \n",
       "440        440                                  False   \n",
       "...        ...                                    ...   \n",
       "111859  111859                                   True   \n",
       "111891  111891                                   True   \n",
       "111901  111901                                   True   \n",
       "111908  111908                                   True   \n",
       "111909  111909                                   True   \n",
       "\n",
       "        access_Wheelchair accessible parking lot  \\\n",
       "156                                        False   \n",
       "296                                        False   \n",
       "303                                        False   \n",
       "343                                        False   \n",
       "440                                        False   \n",
       "...                                          ...   \n",
       "111859                                     False   \n",
       "111891                                     False   \n",
       "111901                                     False   \n",
       "111908                                     False   \n",
       "111909                                      True   \n",
       "\n",
       "        access_Wheelchair accessible restroom  \\\n",
       "156                                     False   \n",
       "296                                     False   \n",
       "303                                     False   \n",
       "343                                     False   \n",
       "440                                     False   \n",
       "...                                       ...   \n",
       "111859                                  False   \n",
       "111891                                  False   \n",
       "111901                                  False   \n",
       "111908                                  False   \n",
       "111909                                   True   \n",
       "\n",
       "        access_Wheelchair accessible seating  \\\n",
       "156                                    False   \n",
       "296                                    False   \n",
       "303                                    False   \n",
       "343                                    False   \n",
       "440                                    False   \n",
       "...                                      ...   \n",
       "111859                                 False   \n",
       "111891                                 False   \n",
       "111901                                 False   \n",
       "111908                                 False   \n",
       "111909                                 False   \n",
       "\n",
       "        access_Wheelchair accessible elevator  amen_Bar onsite  \\\n",
       "156                                     False            False   \n",
       "296                                     False            False   \n",
       "303                                     False            False   \n",
       "343                                     False            False   \n",
       "440                                     False            False   \n",
       "...                                       ...              ...   \n",
       "111859                                  False            False   \n",
       "111891                                  False            False   \n",
       "111901                                  False            False   \n",
       "111908                                  False            False   \n",
       "111909                                  False            False   \n",
       "\n",
       "        amen_Gender-neutral restroom  amen_Good for kids  amen_High chairs  \\\n",
       "156                            False               False             False   \n",
       "296                            False               False             False   \n",
       "303                            False               False             False   \n",
       "343                            False               False             False   \n",
       "440                            False               False             False   \n",
       "...                              ...                 ...               ...   \n",
       "111859                         False                True             False   \n",
       "111891                         False                True             False   \n",
       "111901                         False                True             False   \n",
       "111908                         False                True              True   \n",
       "111909                         False                True              True   \n",
       "\n",
       "        ...  id_estado_41  id_estado_42  id_estado_43  id_estado_44  \\\n",
       "156     ...           0.0           0.0           0.0           0.0   \n",
       "296     ...           0.0           0.0           0.0           0.0   \n",
       "303     ...           0.0           0.0           0.0           0.0   \n",
       "343     ...           0.0           0.0           0.0           0.0   \n",
       "440     ...           0.0           0.0           0.0           0.0   \n",
       "...     ...           ...           ...           ...           ...   \n",
       "111859  ...           0.0           0.0           0.0           0.0   \n",
       "111891  ...           0.0           0.0           0.0           0.0   \n",
       "111901  ...           0.0           0.0           0.0           0.0   \n",
       "111908  ...           0.0           0.0           0.0           0.0   \n",
       "111909  ...           0.0           0.0           0.0           0.0   \n",
       "\n",
       "        id_estado_45  id_estado_46  id_estado_47  id_estado_48  id_estado_49  \\\n",
       "156              0.0           0.0           0.0           0.0           0.0   \n",
       "296              0.0           0.0           0.0           0.0           0.0   \n",
       "303              0.0           0.0           0.0           0.0           0.0   \n",
       "343              0.0           0.0           0.0           0.0           0.0   \n",
       "440              0.0           0.0           0.0           0.0           0.0   \n",
       "...              ...           ...           ...           ...           ...   \n",
       "111859           0.0           0.0           0.0           0.0           0.0   \n",
       "111891           0.0           0.0           0.0           0.0           0.0   \n",
       "111901           0.0           0.0           0.0           0.0           0.0   \n",
       "111908           0.0           0.0           0.0           0.0           0.0   \n",
       "111909           0.0           0.0           0.0           0.0           0.0   \n",
       "\n",
       "        id_estado_50  \n",
       "156              0.0  \n",
       "296              0.0  \n",
       "303              0.0  \n",
       "343              0.0  \n",
       "440              0.0  \n",
       "...              ...  \n",
       "111859           0.0  \n",
       "111891           0.0  \n",
       "111901           0.0  \n",
       "111908           0.0  \n",
       "111909           0.0  \n",
       "\n",
       "[8537 rows x 129 columns]"
      ]
     },
     "execution_count": 42,
     "metadata": {},
     "output_type": "execute_result"
    }
   ],
   "source": [
    "df[df['index'].isin(df_subway['index'])]"
   ]
  },
  {
   "cell_type": "markdown",
   "metadata": {},
   "source": [
    "Generamos el archivo para actualizar el DW"
   ]
  },
  {
   "cell_type": "code",
   "execution_count": 43,
   "metadata": {},
   "outputs": [],
   "source": [
    "def atributos_to_sql():\n",
    "    '''\n",
    "        Crea archivo SQL para actualizar el DW\n",
    "    '''\n",
    "    categorias = {\n",
    "        'service': 8,\n",
    "        'access': 7,\n",
    "        'amen': 5,\n",
    "        'atmos': 6,\n",
    "        'crowd': 6,\n",
    "        'dining': 7,\n",
    "        'health': 7,\n",
    "        'high': 5,\n",
    "        'offer': 6,\n",
    "        'pay': 4,\n",
    "        'popular': 8\n",
    "    }\n",
    "\n",
    "    columnas = {cat: [col for col in us.columns if col.startswith(cat)] for cat in categorias.keys()}\n",
    "\n",
    "    chunk_size = 500\n",
    "    queries = []\n",
    "    id_counter = 1  # Asegúrate de inicializar el contador\n",
    "\n",
    "    with open('df_inserts_atributos.sql', 'w') as f:\n",
    "        for cat, substr_len in categorias.items():\n",
    "            for i, row in us.iterrows():\n",
    "                for col in columnas[cat]:\n",
    "                    if df.loc[i, col] == 1:\n",
    "                        query = f\"({id_counter}, '{us.loc[i,'id_restaurante']}', '{cat}', '{col[substr_len:]}')\"\n",
    "                        queries.append(query)\n",
    "                        id_counter += 1\n",
    "\n",
    "                        # Escribir al archivo en chunks de 100 consultas\n",
    "                        if len(queries) >= chunk_size:\n",
    "                            f.write(\"INSERT INTO atributos VALUES \" + \", \".join(queries) + \";\\n\")\n",
    "                            queries = []  # Vaciar la lista de consultas\n",
    "\n",
    "        # Escribir cualquier consulta restante en la lista\n",
    "        if queries:\n",
    "            f.write(\"INSERT INTO atributos VALUES \" + \", \".join(queries) + \";\\n\")"
   ]
  },
  {
   "cell_type": "markdown",
   "metadata": {},
   "source": [
    "Cálculo de la columna puntaje"
   ]
  },
  {
   "cell_type": "code",
   "execution_count": 44,
   "metadata": {},
   "outputs": [],
   "source": [
    "columnas_ignorar = ['index']\n",
    "columnas_ignorar.extend(df.drop(columns='index').iloc[:,69:].columns)\n",
    "\n",
    "def calcular_puntaje(df, columnas_ignorar):\n",
    "    \"\"\"\n",
    "    Calcula el puntaje de los restaurantes y agrega una columna nueva al dataframe con el puntaje.\n",
    "\n",
    "    Args:\n",
    "    df (pd.DataFrame): DataFrame de restaurantes.\n",
    "    columnas_ignorar (list): Lista de nombres de columnas que no se sumarán para calcular el puntaje base.\n",
    "\n",
    "    Returns:\n",
    "    pd.DataFrame: DataFrame con una columna nueva 'puntaje'.\n",
    "    \"\"\"\n",
    "    # Identificar las columnas de cada grupo\n",
    "    grupos = {\n",
    "        'service': [col for col in df.columns if col.startswith('service')],\n",
    "        'access': [col for col in df.columns if col.startswith('access')],\n",
    "        'amen': [col for col in df.columns if col.startswith('amen')],\n",
    "        'atmos': [col for col in df.columns if col.startswith('atmos')],\n",
    "        'crowd': [col for col in df.columns if col.startswith('crowd')],\n",
    "        'dining': [col for col in df.columns if col.startswith('dining')],\n",
    "        'health': [col for col in df.columns if col.startswith('health')],\n",
    "        'high': [col for col in df.columns if col.startswith('high')],\n",
    "        'offer': [col for col in df.columns if col.startswith('offer')],\n",
    "        'pay': [col for col in df.columns if col.startswith('pay')],\n",
    "        'popular': [col for col in df.columns if col.startswith('popular')],\n",
    "    }\n",
    "\n",
    "    # Identificar todas las columnas que no están en la lista de columnas a ignorar\n",
    "    columnas_suma = [col for col in df.columns if col not in columnas_ignorar]\n",
    "\n",
    "    # Calcular el puntaje base sumando los valores de las columnas especificadas\n",
    "    df['puntaje'] = df[columnas_suma].sum(axis=1)\n",
    "\n",
    "    # Sumar un punto extra por cada grupo que tiene más de un valor presente\n",
    "    for nombre_grupo, columnas_grupo in grupos.items():\n",
    "        df['extra'] = df[columnas_grupo].apply(lambda row: row.sum() > 1, axis=1).astype(int)\n",
    "        df['puntaje'] += df['extra']\n",
    "\n",
    "    # Eliminar la columna 'extra' utilizada para el cálculo\n",
    "    df.drop(columns=['extra'], inplace=True)\n",
    "\n",
    "    return df\n",
    "\n",
    "df = calcular_puntaje(df, columnas_ignorar)\n"
   ]
  },
  {
   "cell_type": "markdown",
   "metadata": {},
   "source": [
    "### 2.1.3 Cálculo de calificación"
   ]
  },
  {
   "cell_type": "markdown",
   "metadata": {},
   "source": [
    "Preparación del umbral, que divida a la calificación de positiva a negativa."
   ]
  },
  {
   "cell_type": "code",
   "execution_count": 45,
   "metadata": {},
   "outputs": [
    {
     "data": {
      "text/plain": [
       "[]"
      ]
     },
     "execution_count": 45,
     "metadata": {},
     "output_type": "execute_result"
    },
    {
     "data": {
      "image/png": "[encoded data removed]",
      "text/plain": [
       "<Figure size 640x480 with 1 Axes>"
      ]
     },
     "metadata": {},
     "output_type": "display_data"
    }
   ],
   "source": [
    "fig = sns.boxplot(df_restaurantes['calificacion'])\n",
    "fig.plot()"
   ]
  },
  {
   "cell_type": "code",
   "execution_count": 46,
   "metadata": {},
   "outputs": [
    {
     "data": {
      "text/plain": [
       "count    111914.000000\n",
       "mean          4.053937\n",
       "std           0.665589\n",
       "min           1.000000\n",
       "25%           3.699219\n",
       "50%           4.199219\n",
       "75%           4.500000\n",
       "max           5.000000\n",
       "Name: calificacion, dtype: float64"
      ]
     },
     "execution_count": 46,
     "metadata": {},
     "output_type": "execute_result"
    }
   ],
   "source": [
    "df['calificacion'].describe()"
   ]
  },
  {
   "cell_type": "markdown",
   "metadata": {},
   "source": [
    "Decidimos utilizar el promedio como umbral"
   ]
  },
  {
   "cell_type": "code",
   "execution_count": 47,
   "metadata": {},
   "outputs": [],
   "source": [
    "umbral = df['calificacion'].mean()\n",
    "df.loc[:, 'calificacion'] = df.loc[:, 'calificacion'].apply(lambda x: 1 if x >= umbral else 0)\n",
    "df.loc[:, 'calificacion'] = df.loc[:, 'calificacion'].astype(int)"
   ]
  },
  {
   "cell_type": "markdown",
   "metadata": {},
   "source": [
    "### 2.1.4 Selección de Features para el ML"
   ]
  },
  {
   "cell_type": "code",
   "execution_count": 48,
   "metadata": {},
   "outputs": [],
   "source": [
    "dropear = [\"nombre\",\"index\", \"id_restaurante\",\"categorias\", \"id_estado\", \"atributos\", \"cantidad_resenas\"]\n",
    "# dropear = [\"index\", \"id_restaurante\",\"categorias\", \"atributos\", \"nombre\"]\n",
    "\n",
    "df = df.loc[:, ~df.columns.isin(dropear)]\n",
    "\n"
   ]
  },
  {
   "cell_type": "markdown",
   "metadata": {},
   "source": [
    "### 2.1.5 Over y Under Sampling"
   ]
  },
  {
   "cell_type": "code",
   "execution_count": 60,
   "metadata": {},
   "outputs": [],
   "source": [
    "count_0, count_1 = df['calificacion'].value_counts().sort_values().tolist()"
   ]
  },
  {
   "cell_type": "code",
   "execution_count": 61,
   "metadata": {},
   "outputs": [],
   "source": [
    "if count_0 > count_1:\n",
    "    df = pd.concat([df.query(\"calificacion == 1\"),df.query(\"calificacion == 0\").sample(count_1)])\n",
    "else:\n",
    "    df = pd.concat([df.query(\"calificacion == 1\").sample(count_0),df.query(\"calificacion == 0\")])"
   ]
  },
  {
   "cell_type": "code",
   "execution_count": 62,
   "metadata": {},
   "outputs": [
    {
     "data": {
      "text/plain": [
       "calificacion\n",
       "1.0    48943\n",
       "0.0    48943\n",
       "Name: count, dtype: int64"
      ]
     },
     "execution_count": 62,
     "metadata": {},
     "output_type": "execute_result"
    }
   ],
   "source": [
    "df['calificacion'].value_counts()"
   ]
  },
  {
   "cell_type": "code",
   "execution_count": 63,
   "metadata": {},
   "outputs": [],
   "source": [
    "df[df.columns[:-53]] = df[df.columns[:-53]].astype(int)"
   ]
  },
  {
   "cell_type": "markdown",
   "metadata": {},
   "source": [
    "Salvamos el dataframe ya preprocesado"
   ]
  },
  {
   "cell_type": "code",
   "execution_count": 64,
   "metadata": {},
   "outputs": [],
   "source": [
    "df.to_parquet('df_preprocesado.parquet')"
   ]
  },
  {
   "cell_type": "markdown",
   "metadata": {},
   "source": [
    "## 2.2 Modelos"
   ]
  },
  {
   "cell_type": "code",
   "execution_count": 65,
   "metadata": {},
   "outputs": [],
   "source": [
    "scores = dict()\n",
    "\n",
    "df =pd.read_parquet('df_preprocesado.parquet')\n",
    "\n",
    "X = df.drop(['calificacion'], axis=1)\n",
    "y = df['calificacion'] "
   ]
  },
  {
   "cell_type": "markdown",
   "metadata": {},
   "source": [
    "### 2.2.1 Prueba de Regresores: Regresión Logística, RandomForest, HistGradientBoostin, XGBClassifier, Kneighbors, GradientBoosting"
   ]
  },
  {
   "cell_type": "code",
   "execution_count": 289,
   "metadata": {},
   "outputs": [],
   "source": [
    "def elegir_configuracion():\n",
    "    X_train, X_test, y_train, y_test = train_test_split(X, y, random_state=42, test_size=0.2)\n",
    "\n",
    "    scalers = [StandardScaler(), MaxAbsScaler(), MinMaxScaler()]\n",
    "\n",
    "    classifiers = [RandomForestClassifier(), LogisticRegression(), HistGradientBoostingClassifier(max_iter=100, learning_rate=0.1),\n",
    "        XGBClassifier(use_label_encoder=False, eval_metric='logloss'), KNeighborsClassifier(), GradientBoostingClassifier()]\n",
    "\n",
    "    for s in scalers:\n",
    "        for c in classifiers:\n",
    "            print(f\"Scaler: {s.__class__.__name__}, Classifier: {c.__class__.__name__}\")\n",
    "            pipe = Pipeline([('scaler', s), ('clasiffier', c)], verbose=True)\n",
    "            pipe.fit(X_train, y_train)  \n",
    "            score = pipe.score(X_test, y_test)\n",
    "            print(f\"Accuracy: {score:.4f}\")\n",
    "\n",
    "            if score >= 0.745:\n",
    "                cm = confusion_matrix(y_test, pipe.predict(X_test))\n",
    "                disp = ConfusionMatrixDisplay(confusion_matrix=cm)\n",
    "                disp.plot(cmap='Blues')\n",
    "\n",
    "                plt.title(f\"Confusion Matrix - {s.__class__.__name__} + {c.__class__.__name__}\")\n",
    "                plt.show()\n"
   ]
  },
  {
   "cell_type": "markdown",
   "metadata": {},
   "source": [
    "### 2.2.2 Afinación de Parámetros"
   ]
  },
  {
   "cell_type": "markdown",
   "metadata": {},
   "source": [
    "Decidiendo Utilizar XGBoosting y StandardScaler procedemos a afinar parámetros"
   ]
  },
  {
   "cell_type": "code",
   "execution_count": 293,
   "metadata": {},
   "outputs": [
    {
     "ename": "KeyboardInterrupt",
     "evalue": "",
     "output_type": "error",
     "traceback": [
      "\u001b[1;31m---------------------------------------------------------------------------\u001b[0m",
      "\u001b[1;31mKeyboardInterrupt\u001b[0m                         Traceback (most recent call last)",
      "Cell \u001b[1;32mIn[293], line 31\u001b[0m\n\u001b[0;32m     28\u001b[0m grid_search \u001b[38;5;241m=\u001b[39m GridSearchCV(pipeline, param_grid, cv\u001b[38;5;241m=\u001b[39m\u001b[38;5;241m5\u001b[39m, n_jobs\u001b[38;5;241m=\u001b[39m\u001b[38;5;241m-\u001b[39m\u001b[38;5;241m1\u001b[39m, scoring\u001b[38;5;241m=\u001b[39m\u001b[38;5;124m'\u001b[39m\u001b[38;5;124maccuracy\u001b[39m\u001b[38;5;124m'\u001b[39m)\n\u001b[0;32m     30\u001b[0m \u001b[38;5;66;03m# Ajustar el GridSearchCV a los datos de entrenamiento\u001b[39;00m\n\u001b[1;32m---> 31\u001b[0m \u001b[43mgrid_search\u001b[49m\u001b[38;5;241;43m.\u001b[39;49m\u001b[43mfit\u001b[49m\u001b[43m(\u001b[49m\u001b[43mX_train\u001b[49m\u001b[43m,\u001b[49m\u001b[43m \u001b[49m\u001b[43my_train\u001b[49m\u001b[43m)\u001b[49m\n\u001b[0;32m     33\u001b[0m \u001b[38;5;66;03m# Obtener el mejor modelo\u001b[39;00m\n\u001b[0;32m     34\u001b[0m best_model \u001b[38;5;241m=\u001b[39m grid_search\u001b[38;5;241m.\u001b[39mbest_estimator_\n",
      "File \u001b[1;32mg:\\cursos_2023\\HENRY\\DATA07\\PF\\PF_DATAPT07\\.venv10\\lib\\site-packages\\sklearn\\base.py:1473\u001b[0m, in \u001b[0;36m_fit_context.<locals>.decorator.<locals>.wrapper\u001b[1;34m(estimator, *args, **kwargs)\u001b[0m\n\u001b[0;32m   1466\u001b[0m     estimator\u001b[38;5;241m.\u001b[39m_validate_params()\n\u001b[0;32m   1468\u001b[0m \u001b[38;5;28;01mwith\u001b[39;00m config_context(\n\u001b[0;32m   1469\u001b[0m     skip_parameter_validation\u001b[38;5;241m=\u001b[39m(\n\u001b[0;32m   1470\u001b[0m         prefer_skip_nested_validation \u001b[38;5;129;01mor\u001b[39;00m global_skip_validation\n\u001b[0;32m   1471\u001b[0m     )\n\u001b[0;32m   1472\u001b[0m ):\n\u001b[1;32m-> 1473\u001b[0m     \u001b[38;5;28;01mreturn\u001b[39;00m fit_method(estimator, \u001b[38;5;241m*\u001b[39margs, \u001b[38;5;241m*\u001b[39m\u001b[38;5;241m*\u001b[39mkwargs)\n",
      "File \u001b[1;32mg:\\cursos_2023\\HENRY\\DATA07\\PF\\PF_DATAPT07\\.venv10\\lib\\site-packages\\sklearn\\model_selection\\_search.py:968\u001b[0m, in \u001b[0;36mBaseSearchCV.fit\u001b[1;34m(self, X, y, **params)\u001b[0m\n\u001b[0;32m    962\u001b[0m     results \u001b[38;5;241m=\u001b[39m \u001b[38;5;28mself\u001b[39m\u001b[38;5;241m.\u001b[39m_format_results(\n\u001b[0;32m    963\u001b[0m         all_candidate_params, n_splits, all_out, all_more_results\n\u001b[0;32m    964\u001b[0m     )\n\u001b[0;32m    966\u001b[0m     \u001b[38;5;28;01mreturn\u001b[39;00m results\n\u001b[1;32m--> 968\u001b[0m \u001b[38;5;28;43mself\u001b[39;49m\u001b[38;5;241;43m.\u001b[39;49m\u001b[43m_run_search\u001b[49m\u001b[43m(\u001b[49m\u001b[43mevaluate_candidates\u001b[49m\u001b[43m)\u001b[49m\n\u001b[0;32m    970\u001b[0m \u001b[38;5;66;03m# multimetric is determined here because in the case of a callable\u001b[39;00m\n\u001b[0;32m    971\u001b[0m \u001b[38;5;66;03m# self.scoring the return type is only known after calling\u001b[39;00m\n\u001b[0;32m    972\u001b[0m first_test_score \u001b[38;5;241m=\u001b[39m all_out[\u001b[38;5;241m0\u001b[39m][\u001b[38;5;124m\"\u001b[39m\u001b[38;5;124mtest_scores\u001b[39m\u001b[38;5;124m\"\u001b[39m]\n",
      "File \u001b[1;32mg:\\cursos_2023\\HENRY\\DATA07\\PF\\PF_DATAPT07\\.venv10\\lib\\site-packages\\sklearn\\model_selection\\_search.py:1543\u001b[0m, in \u001b[0;36mGridSearchCV._run_search\u001b[1;34m(self, evaluate_candidates)\u001b[0m\n\u001b[0;32m   1541\u001b[0m \u001b[38;5;28;01mdef\u001b[39;00m \u001b[38;5;21m_run_search\u001b[39m(\u001b[38;5;28mself\u001b[39m, evaluate_candidates):\n\u001b[0;32m   1542\u001b[0m \u001b[38;5;250m    \u001b[39m\u001b[38;5;124;03m\"\"\"Search all candidates in param_grid\"\"\"\u001b[39;00m\n\u001b[1;32m-> 1543\u001b[0m     \u001b[43mevaluate_candidates\u001b[49m\u001b[43m(\u001b[49m\u001b[43mParameterGrid\u001b[49m\u001b[43m(\u001b[49m\u001b[38;5;28;43mself\u001b[39;49m\u001b[38;5;241;43m.\u001b[39;49m\u001b[43mparam_grid\u001b[49m\u001b[43m)\u001b[49m\u001b[43m)\u001b[49m\n",
      "File \u001b[1;32mg:\\cursos_2023\\HENRY\\DATA07\\PF\\PF_DATAPT07\\.venv10\\lib\\site-packages\\sklearn\\model_selection\\_search.py:914\u001b[0m, in \u001b[0;36mBaseSearchCV.fit.<locals>.evaluate_candidates\u001b[1;34m(candidate_params, cv, more_results)\u001b[0m\n\u001b[0;32m    906\u001b[0m \u001b[38;5;28;01mif\u001b[39;00m \u001b[38;5;28mself\u001b[39m\u001b[38;5;241m.\u001b[39mverbose \u001b[38;5;241m>\u001b[39m \u001b[38;5;241m0\u001b[39m:\n\u001b[0;32m    907\u001b[0m     \u001b[38;5;28mprint\u001b[39m(\n\u001b[0;32m    908\u001b[0m         \u001b[38;5;124m\"\u001b[39m\u001b[38;5;124mFitting \u001b[39m\u001b[38;5;132;01m{0}\u001b[39;00m\u001b[38;5;124m folds for each of \u001b[39m\u001b[38;5;132;01m{1}\u001b[39;00m\u001b[38;5;124m candidates,\u001b[39m\u001b[38;5;124m\"\u001b[39m\n\u001b[0;32m    909\u001b[0m         \u001b[38;5;124m\"\u001b[39m\u001b[38;5;124m totalling \u001b[39m\u001b[38;5;132;01m{2}\u001b[39;00m\u001b[38;5;124m fits\u001b[39m\u001b[38;5;124m\"\u001b[39m\u001b[38;5;241m.\u001b[39mformat(\n\u001b[0;32m    910\u001b[0m             n_splits, n_candidates, n_candidates \u001b[38;5;241m*\u001b[39m n_splits\n\u001b[0;32m    911\u001b[0m         )\n\u001b[0;32m    912\u001b[0m     )\n\u001b[1;32m--> 914\u001b[0m out \u001b[38;5;241m=\u001b[39m \u001b[43mparallel\u001b[49m\u001b[43m(\u001b[49m\n\u001b[0;32m    915\u001b[0m \u001b[43m    \u001b[49m\u001b[43mdelayed\u001b[49m\u001b[43m(\u001b[49m\u001b[43m_fit_and_score\u001b[49m\u001b[43m)\u001b[49m\u001b[43m(\u001b[49m\n\u001b[0;32m    916\u001b[0m \u001b[43m        \u001b[49m\u001b[43mclone\u001b[49m\u001b[43m(\u001b[49m\u001b[43mbase_estimator\u001b[49m\u001b[43m)\u001b[49m\u001b[43m,\u001b[49m\n\u001b[0;32m    917\u001b[0m \u001b[43m        \u001b[49m\u001b[43mX\u001b[49m\u001b[43m,\u001b[49m\n\u001b[0;32m    918\u001b[0m \u001b[43m        \u001b[49m\u001b[43my\u001b[49m\u001b[43m,\u001b[49m\n\u001b[0;32m    919\u001b[0m \u001b[43m        \u001b[49m\u001b[43mtrain\u001b[49m\u001b[38;5;241;43m=\u001b[39;49m\u001b[43mtrain\u001b[49m\u001b[43m,\u001b[49m\n\u001b[0;32m    920\u001b[0m \u001b[43m        \u001b[49m\u001b[43mtest\u001b[49m\u001b[38;5;241;43m=\u001b[39;49m\u001b[43mtest\u001b[49m\u001b[43m,\u001b[49m\n\u001b[0;32m    921\u001b[0m \u001b[43m        \u001b[49m\u001b[43mparameters\u001b[49m\u001b[38;5;241;43m=\u001b[39;49m\u001b[43mparameters\u001b[49m\u001b[43m,\u001b[49m\n\u001b[0;32m    922\u001b[0m \u001b[43m        \u001b[49m\u001b[43msplit_progress\u001b[49m\u001b[38;5;241;43m=\u001b[39;49m\u001b[43m(\u001b[49m\u001b[43msplit_idx\u001b[49m\u001b[43m,\u001b[49m\u001b[43m \u001b[49m\u001b[43mn_splits\u001b[49m\u001b[43m)\u001b[49m\u001b[43m,\u001b[49m\n\u001b[0;32m    923\u001b[0m \u001b[43m        \u001b[49m\u001b[43mcandidate_progress\u001b[49m\u001b[38;5;241;43m=\u001b[39;49m\u001b[43m(\u001b[49m\u001b[43mcand_idx\u001b[49m\u001b[43m,\u001b[49m\u001b[43m \u001b[49m\u001b[43mn_candidates\u001b[49m\u001b[43m)\u001b[49m\u001b[43m,\u001b[49m\n\u001b[0;32m    924\u001b[0m \u001b[43m        \u001b[49m\u001b[38;5;241;43m*\u001b[39;49m\u001b[38;5;241;43m*\u001b[39;49m\u001b[43mfit_and_score_kwargs\u001b[49m\u001b[43m,\u001b[49m\n\u001b[0;32m    925\u001b[0m \u001b[43m    \u001b[49m\u001b[43m)\u001b[49m\n\u001b[0;32m    926\u001b[0m \u001b[43m    \u001b[49m\u001b[38;5;28;43;01mfor\u001b[39;49;00m\u001b[43m \u001b[49m\u001b[43m(\u001b[49m\u001b[43mcand_idx\u001b[49m\u001b[43m,\u001b[49m\u001b[43m \u001b[49m\u001b[43mparameters\u001b[49m\u001b[43m)\u001b[49m\u001b[43m,\u001b[49m\u001b[43m \u001b[49m\u001b[43m(\u001b[49m\u001b[43msplit_idx\u001b[49m\u001b[43m,\u001b[49m\u001b[43m \u001b[49m\u001b[43m(\u001b[49m\u001b[43mtrain\u001b[49m\u001b[43m,\u001b[49m\u001b[43m \u001b[49m\u001b[43mtest\u001b[49m\u001b[43m)\u001b[49m\u001b[43m)\u001b[49m\u001b[43m \u001b[49m\u001b[38;5;129;43;01min\u001b[39;49;00m\u001b[43m \u001b[49m\u001b[43mproduct\u001b[49m\u001b[43m(\u001b[49m\n\u001b[0;32m    927\u001b[0m \u001b[43m        \u001b[49m\u001b[38;5;28;43menumerate\u001b[39;49m\u001b[43m(\u001b[49m\u001b[43mcandidate_params\u001b[49m\u001b[43m)\u001b[49m\u001b[43m,\u001b[49m\n\u001b[0;32m    928\u001b[0m \u001b[43m        \u001b[49m\u001b[38;5;28;43menumerate\u001b[39;49m\u001b[43m(\u001b[49m\u001b[43mcv\u001b[49m\u001b[38;5;241;43m.\u001b[39;49m\u001b[43msplit\u001b[49m\u001b[43m(\u001b[49m\u001b[43mX\u001b[49m\u001b[43m,\u001b[49m\u001b[43m \u001b[49m\u001b[43my\u001b[49m\u001b[43m,\u001b[49m\u001b[43m \u001b[49m\u001b[38;5;241;43m*\u001b[39;49m\u001b[38;5;241;43m*\u001b[39;49m\u001b[43mrouted_params\u001b[49m\u001b[38;5;241;43m.\u001b[39;49m\u001b[43msplitter\u001b[49m\u001b[38;5;241;43m.\u001b[39;49m\u001b[43msplit\u001b[49m\u001b[43m)\u001b[49m\u001b[43m)\u001b[49m\u001b[43m,\u001b[49m\n\u001b[0;32m    929\u001b[0m \u001b[43m    \u001b[49m\u001b[43m)\u001b[49m\n\u001b[0;32m    930\u001b[0m \u001b[43m\u001b[49m\u001b[43m)\u001b[49m\n\u001b[0;32m    932\u001b[0m \u001b[38;5;28;01mif\u001b[39;00m \u001b[38;5;28mlen\u001b[39m(out) \u001b[38;5;241m<\u001b[39m \u001b[38;5;241m1\u001b[39m:\n\u001b[0;32m    933\u001b[0m     \u001b[38;5;28;01mraise\u001b[39;00m \u001b[38;5;167;01mValueError\u001b[39;00m(\n\u001b[0;32m    934\u001b[0m         \u001b[38;5;124m\"\u001b[39m\u001b[38;5;124mNo fits were performed. \u001b[39m\u001b[38;5;124m\"\u001b[39m\n\u001b[0;32m    935\u001b[0m         \u001b[38;5;124m\"\u001b[39m\u001b[38;5;124mWas the CV iterator empty? \u001b[39m\u001b[38;5;124m\"\u001b[39m\n\u001b[0;32m    936\u001b[0m         \u001b[38;5;124m\"\u001b[39m\u001b[38;5;124mWere there no candidates?\u001b[39m\u001b[38;5;124m\"\u001b[39m\n\u001b[0;32m    937\u001b[0m     )\n",
      "File \u001b[1;32mg:\\cursos_2023\\HENRY\\DATA07\\PF\\PF_DATAPT07\\.venv10\\lib\\site-packages\\sklearn\\utils\\parallel.py:67\u001b[0m, in \u001b[0;36mParallel.__call__\u001b[1;34m(self, iterable)\u001b[0m\n\u001b[0;32m     62\u001b[0m config \u001b[38;5;241m=\u001b[39m get_config()\n\u001b[0;32m     63\u001b[0m iterable_with_config \u001b[38;5;241m=\u001b[39m (\n\u001b[0;32m     64\u001b[0m     (_with_config(delayed_func, config), args, kwargs)\n\u001b[0;32m     65\u001b[0m     \u001b[38;5;28;01mfor\u001b[39;00m delayed_func, args, kwargs \u001b[38;5;129;01min\u001b[39;00m iterable\n\u001b[0;32m     66\u001b[0m )\n\u001b[1;32m---> 67\u001b[0m \u001b[38;5;28;01mreturn\u001b[39;00m \u001b[38;5;28;43msuper\u001b[39;49m\u001b[43m(\u001b[49m\u001b[43m)\u001b[49m\u001b[38;5;241;43m.\u001b[39;49m\u001b[38;5;21;43m__call__\u001b[39;49m\u001b[43m(\u001b[49m\u001b[43miterable_with_config\u001b[49m\u001b[43m)\u001b[49m\n",
      "File \u001b[1;32mg:\\cursos_2023\\HENRY\\DATA07\\PF\\PF_DATAPT07\\.venv10\\lib\\site-packages\\joblib\\parallel.py:2007\u001b[0m, in \u001b[0;36mParallel.__call__\u001b[1;34m(self, iterable)\u001b[0m\n\u001b[0;32m   2001\u001b[0m \u001b[38;5;66;03m# The first item from the output is blank, but it makes the interpreter\u001b[39;00m\n\u001b[0;32m   2002\u001b[0m \u001b[38;5;66;03m# progress until it enters the Try/Except block of the generator and\u001b[39;00m\n\u001b[0;32m   2003\u001b[0m \u001b[38;5;66;03m# reaches the first `yield` statement. This starts the asynchronous\u001b[39;00m\n\u001b[0;32m   2004\u001b[0m \u001b[38;5;66;03m# dispatch of the tasks to the workers.\u001b[39;00m\n\u001b[0;32m   2005\u001b[0m \u001b[38;5;28mnext\u001b[39m(output)\n\u001b[1;32m-> 2007\u001b[0m \u001b[38;5;28;01mreturn\u001b[39;00m output \u001b[38;5;28;01mif\u001b[39;00m \u001b[38;5;28mself\u001b[39m\u001b[38;5;241m.\u001b[39mreturn_generator \u001b[38;5;28;01melse\u001b[39;00m \u001b[38;5;28;43mlist\u001b[39;49m\u001b[43m(\u001b[49m\u001b[43moutput\u001b[49m\u001b[43m)\u001b[49m\n",
      "File \u001b[1;32mg:\\cursos_2023\\HENRY\\DATA07\\PF\\PF_DATAPT07\\.venv10\\lib\\site-packages\\joblib\\parallel.py:1650\u001b[0m, in \u001b[0;36mParallel._get_outputs\u001b[1;34m(self, iterator, pre_dispatch)\u001b[0m\n\u001b[0;32m   1647\u001b[0m     \u001b[38;5;28;01myield\u001b[39;00m\n\u001b[0;32m   1649\u001b[0m     \u001b[38;5;28;01mwith\u001b[39;00m \u001b[38;5;28mself\u001b[39m\u001b[38;5;241m.\u001b[39m_backend\u001b[38;5;241m.\u001b[39mretrieval_context():\n\u001b[1;32m-> 1650\u001b[0m         \u001b[38;5;28;01myield from\u001b[39;00m \u001b[38;5;28mself\u001b[39m\u001b[38;5;241m.\u001b[39m_retrieve()\n\u001b[0;32m   1652\u001b[0m \u001b[38;5;28;01mexcept\u001b[39;00m \u001b[38;5;167;01mGeneratorExit\u001b[39;00m:\n\u001b[0;32m   1653\u001b[0m     \u001b[38;5;66;03m# The generator has been garbage collected before being fully\u001b[39;00m\n\u001b[0;32m   1654\u001b[0m     \u001b[38;5;66;03m# consumed. This aborts the remaining tasks if possible and warn\u001b[39;00m\n\u001b[0;32m   1655\u001b[0m     \u001b[38;5;66;03m# the user if necessary.\u001b[39;00m\n\u001b[0;32m   1656\u001b[0m     \u001b[38;5;28mself\u001b[39m\u001b[38;5;241m.\u001b[39m_exception \u001b[38;5;241m=\u001b[39m \u001b[38;5;28;01mTrue\u001b[39;00m\n",
      "File \u001b[1;32mg:\\cursos_2023\\HENRY\\DATA07\\PF\\PF_DATAPT07\\.venv10\\lib\\site-packages\\joblib\\parallel.py:1762\u001b[0m, in \u001b[0;36mParallel._retrieve\u001b[1;34m(self)\u001b[0m\n\u001b[0;32m   1757\u001b[0m \u001b[38;5;66;03m# If the next job is not ready for retrieval yet, we just wait for\u001b[39;00m\n\u001b[0;32m   1758\u001b[0m \u001b[38;5;66;03m# async callbacks to progress.\u001b[39;00m\n\u001b[0;32m   1759\u001b[0m \u001b[38;5;28;01mif\u001b[39;00m ((\u001b[38;5;28mlen\u001b[39m(\u001b[38;5;28mself\u001b[39m\u001b[38;5;241m.\u001b[39m_jobs) \u001b[38;5;241m==\u001b[39m \u001b[38;5;241m0\u001b[39m) \u001b[38;5;129;01mor\u001b[39;00m\n\u001b[0;32m   1760\u001b[0m     (\u001b[38;5;28mself\u001b[39m\u001b[38;5;241m.\u001b[39m_jobs[\u001b[38;5;241m0\u001b[39m]\u001b[38;5;241m.\u001b[39mget_status(\n\u001b[0;32m   1761\u001b[0m         timeout\u001b[38;5;241m=\u001b[39m\u001b[38;5;28mself\u001b[39m\u001b[38;5;241m.\u001b[39mtimeout) \u001b[38;5;241m==\u001b[39m TASK_PENDING)):\n\u001b[1;32m-> 1762\u001b[0m     \u001b[43mtime\u001b[49m\u001b[38;5;241;43m.\u001b[39;49m\u001b[43msleep\u001b[49m\u001b[43m(\u001b[49m\u001b[38;5;241;43m0.01\u001b[39;49m\u001b[43m)\u001b[49m\n\u001b[0;32m   1763\u001b[0m     \u001b[38;5;28;01mcontinue\u001b[39;00m\n\u001b[0;32m   1765\u001b[0m \u001b[38;5;66;03m# We need to be careful: the job list can be filling up as\u001b[39;00m\n\u001b[0;32m   1766\u001b[0m \u001b[38;5;66;03m# we empty it and Python list are not thread-safe by\u001b[39;00m\n\u001b[0;32m   1767\u001b[0m \u001b[38;5;66;03m# default hence the use of the lock\u001b[39;00m\n",
      "\u001b[1;31mKeyboardInterrupt\u001b[0m: "
     ]
    }
   ],
   "source": [
    "# Supongamos que X y y son tus datos y etiquetas\n",
    "\n",
    "def afinar_parametros():\n",
    "    X_train, X_test, y_train, y_test = train_test_split(X, y, test_size=0.2, random_state=42)\n",
    "\n",
    "    # Crear el pipeline\n",
    "    pipeline = Pipeline([\n",
    "        ('scaler', StandardScaler()),\n",
    "        ('xgb', XGBClassifier(use_label_encoder=False, eval_metric='logloss'))\n",
    "    ])\n",
    "\n",
    "\n",
    "    param_grid = {\n",
    "        'xgb__n_estimators': [150, 200, 250],\n",
    "        'xgb__learning_rate': [0.05, 0.1, 0.15],\n",
    "        'xgb__max_depth': [5, 7, 9],\n",
    "        'xgb__subsample': [0.6, 0.7, 0.8],\n",
    "        'xgb__colsample_bytree': [0.75, 0.8, 0.85]\n",
    "    }\n",
    "\n",
    "    # Crear el GridSearchCV\n",
    "    grid_search = GridSearchCV(pipeline, param_grid, cv=5, n_jobs=-1, scoring='accuracy')\n",
    "\n",
    "    # Ajustar el GridSearchCV a los datos de entrenamiento\n",
    "    grid_search.fit(X_train, y_train)\n",
    "\n",
    "    # Obtener el mejor modelo\n",
    "    best_model = grid_search.best_estimator_\n",
    "\n",
    "    # Imprimir los mejores hiperparámetros\n",
    "    print(f\"Best parameters: {grid_search.best_params_}\")\n",
    "    print(f\"Best cross-validation score: {grid_search.best_score_}\")\n",
    "\n",
    "    # Evaluar el modelo en los datos de prueba\n",
    "    y_pred = best_model.predict(X_test)\n",
    "    accuracy = accuracy_score(y_test, y_pred)\n",
    "    print(f\"Test accuracy: {accuracy:.2f}\")\n"
   ]
  },
  {
   "cell_type": "markdown",
   "metadata": {},
   "source": [
    "**Best parameters:**\n",
    "```python\n",
    "{'colsample_bytree': 0.85, \n",
    "'learning_rate': 0.05, \n",
    "'max_depth': 9, \n",
    "'n_estimators': 250, \n",
    "'xgb__subsample': 0.8}\n",
    "```\n",
    "\n",
    "**Best cross-validation score:** ```0.760407```\n",
    "\n",
    "**Test accuracy:** ```0.76```"
   ]
  },
  {
   "cell_type": "markdown",
   "metadata": {},
   "source": [
    "### 2.2.3 Prueba de Parámetros"
   ]
  },
  {
   "cell_type": "code",
   "execution_count": 66,
   "metadata": {},
   "outputs": [
    {
     "name": "stdout",
     "output_type": "stream",
     "text": [
      "Test accuracy: 0.91\n",
      "              precision    recall  f1-score   support\n",
      "\n",
      "         0.0       0.89      0.93      0.91      9672\n",
      "         1.0       0.93      0.89      0.91      9906\n",
      "\n",
      "    accuracy                           0.91     19578\n",
      "   macro avg       0.91      0.91      0.91     19578\n",
      "weighted avg       0.91      0.91      0.91     19578\n",
      "\n"
     ]
    },
    {
     "data": {
      "image/png": "[encoded data removed]",
      "text/plain": [
       "<Figure size 640x480 with 2 Axes>"
      ]
     },
     "metadata": {},
     "output_type": "display_data"
    }
   ],
   "source": [
    "\n",
    "# Supongamos que X y y son tus datos y etiquetas\n",
    "X_train, X_test, y_train, y_test = train_test_split(X, y, test_size=0.2, random_state=42)\n",
    "\n",
    "\n",
    "params = {'colsample_bytree': 0.85,\n",
    " 'learning_rate': 0.1,\n",
    " 'max_depth': 9,\n",
    " 'n_estimators': 250,\n",
    " 'subsample': 0.8,\n",
    " 'eval_metric': 'logloss'}\n",
    "\n",
    "\n",
    "# Crear el pipeline\n",
    "pipeline = Pipeline([\n",
    "    ('scaler', StandardScaler()),\n",
    "    ('xgb', XGBClassifier(**params))\n",
    "])\n",
    "\n",
    "pipeline.fit(X_test, y_test)\n",
    "\n",
    "\n",
    "# Evaluar el modelo en los datos de prueba\n",
    "y_pred = pipeline.predict(X_test)\n",
    "accuracy = accuracy_score(y_test, y_pred)\n",
    "print(f\"Test accuracy: {accuracy:.2f}\")\n",
    "\n",
    "print(classification_report(y_test, y_pred))\n",
    "\n",
    "cm = confusion_matrix(y_test, y_pred)\n",
    "\n",
    "disp = ConfusionMatrixDisplay(confusion_matrix=cm)\n",
    "\n",
    "disp.plot(cmap='Blues')\n",
    "plt.show()\n",
    "\n"
   ]
  },
  {
   "cell_type": "markdown",
   "metadata": {},
   "source": [
    "### 2.2.4 Serialización del Modelo"
   ]
  },
  {
   "cell_type": "code",
   "execution_count": 68,
   "metadata": {},
   "outputs": [
    {
     "data": {
      "text/plain": [
       "array([1, 0, 0, ..., 1, 1, 0])"
      ]
     },
     "execution_count": 68,
     "metadata": {},
     "output_type": "execute_result"
    }
   ],
   "source": [
    "import pickle\n",
    "\n",
    "filename = 'modelo_91.pkl'\n",
    "pickle.dump(pipeline, open(filename, 'wb'))\n",
    "\n",
    "modelo = pickle.load(open(filename, 'rb'))\n",
    "\n",
    "\n",
    "modelo.predict(X_test)"
   ]
  },
  {
   "cell_type": "code",
   "execution_count": 69,
   "metadata": {},
   "outputs": [
    {
     "data": {
      "text/plain": [
       "19578"
      ]
     },
     "execution_count": 69,
     "metadata": {},
     "output_type": "execute_result"
    }
   ],
   "source": [
    "len(X_test)"
   ]
  },
  {
   "cell_type": "markdown",
   "metadata": {},
   "source": [
    "Salvamos los parámetros"
   ]
  },
  {
   "cell_type": "code",
   "execution_count": 70,
   "metadata": {},
   "outputs": [],
   "source": [
    "with open('model_params.json', 'w') as f:\n",
    "    json.dump(params, f)"
   ]
  },
  {
   "cell_type": "markdown",
   "metadata": {},
   "source": [
    "Probamos el archivo generado"
   ]
  },
  {
   "cell_type": "code",
   "execution_count": 74,
   "metadata": {},
   "outputs": [
    {
     "name": "stdout",
     "output_type": "stream",
     "text": [
      "Loaded parameters: {'colsample_bytree': 0.85, 'learning_rate': 0.1, 'max_depth': 9, 'n_estimators': 250, 'subsample': 0.8, 'eval_metric': 'logloss'}\n",
      "[1 0 0 ... 1 1 0]\n",
      "Test accuracy: 0.91\n"
     ]
    }
   ],
   "source": [
    "import joblib\n",
    "# Cargar el pipeline desde el archivo\n",
    "loaded_pipeline = joblib.load('modelo_91.pickle')\n",
    "\n",
    "# Cargar los hiperparámetros desde el archivo JSON\n",
    "with open('model_params.json', 'r') as f:\n",
    "    loaded_params = json.load(f)\n",
    "\n",
    "print(\"Loaded parameters:\", loaded_params)\n",
    "\n",
    "# Evaluar el modelo cargado en los datos de prueba\n",
    "y_pred = loaded_pipeline.predict(X_test)\n",
    "accuracy = accuracy_score(y_test, y_pred)\n",
    "print(y_pred)\n",
    "print(f\"Test accuracy: {accuracy:.2f}\")\n"
   ]
  },
  {
   "cell_type": "markdown",
   "metadata": {},
   "source": [
    "Serializamos DataSets"
   ]
  },
  {
   "cell_type": "code",
   "execution_count": 75,
   "metadata": {},
   "outputs": [],
   "source": [
    "# X_subway = X.reset_index().merge(df_restaurantes.reset_index().query(\"id_restaurante == '0x865681564f2dfd47:0x1f030438f1ceed23'\"), on='index').query(\"nombre == 'Subway'\").drop(columns=['id_restaurante',\t'id_estado',\t'nombre',\t'categorias',\t'cantidad_resenas',\t'latitud_y',\t'longitud_y',\t'atributos',\t'calificacion',\t'origen_y', 'level_0', 'index']).rename({'latitud_x':'latitud', \"longitud_x\":\"longitud\", \"origen_x\":\"origen\"}, axis=1)\n",
    "\n",
    "cl = ['id_restaurante',\n",
    " 'id_estado',\n",
    " 'nombre',\n",
    " 'categorias',\n",
    " 'cantidad_resenas',\n",
    " 'latitud_y',\n",
    " 'longitud_y',\n",
    " 'atributos',\n",
    " 'calificacion',\n",
    " 'origen_y',\n",
    " 'level_0',\n",
    " 'index']\n",
    "\n",
    "X_subway = X.reset_index().merge(df_restaurantes.query(\"nombre == 'Subway'\").reset_index(), on='index')\n",
    "X_subway_proc = X_subway.drop(columns=cl).rename({'latitud_x':'latitud', \"longitud_x\":\"longitud\", \"origen_x\":\"origen\"}, axis=1)\n",
    "X_ = X.reset_index().merge(df_restaurantes.reset_index(), on='index')\n",
    "X_proc = X_.drop(columns=cl).rename({'latitud_x':'latitud', \"longitud_x\":\"longitud\", \"origen_x\":\"origen\"}, axis=1)\n",
    "\n",
    "X_subway.to_parquet('X_subway.parquet')\n",
    "X_subway_proc.to_parquet('X_subway_proc.parquet')\n",
    "X_.to_parquet('X_.parquet')\n",
    "X_proc.to_parquet('X_proc.parquet')"
   ]
  },
  {
   "cell_type": "markdown",
   "metadata": {},
   "source": [
    "### 2.2.5 Análisis de Características"
   ]
  },
  {
   "cell_type": "code",
   "execution_count": 78,
   "metadata": {},
   "outputs": [
    {
     "data": {
      "image/png": "[encoded data removed]",
      "text/plain": [
       "<Figure size 1200x800 with 1 Axes>"
      ]
     },
     "metadata": {},
     "output_type": "display_data"
    },
    {
     "name": "stdout",
     "output_type": "stream",
     "text": [
      "['longitud', 'atmos_Cozy', 'puntaje', 'latitud', 'origen', 'dining_Lunch', 'service_Outdoor seating', 'offer_Kids menu', 'access_Wheelchair accessible entrance', 'service_Curbside pickup', 'service_Dine-in', 'dining_Dessert', 'health_Staff wear masks', 'service_Takeout', 'pay_Credit cards', 'pay_NFC mobile payments', 'offer_Coffee', 'crowd_Tourists', 'service_Delivery', 'popular_Solo dining', 'offer_Comfort food', 'crowd_Groups', 'health_Mask required', 'offer_Vegetarian options', 'amen_Restroom', 'crowd_College students', 'amen_High chairs', 'offer_Healthy options', 'dining_Catering', 'amen_Good for kids', 'health_Staff required to disinfect surfaces between visits', 'access_Wheelchair accessible parking lot', 'access_Wheelchair accessible restroom', 'high_Fast service', 'popular_Lunch', 'pay_Debit cards', 'offer_Quick bite', 'popular_Dinner', 'popular_Breakfast', 'dining_Dinner', 'crowd_Family-friendly', 'access_Wheelchair accessible elevator', 'high_Great dessert', 'access_Wheelchair accessible seating', 'offer_Food', 'dining_Breakfast', 'pay_Checks', 'id_estado_38', 'id_estado_13', 'id_estado_35']\n"
     ]
    }
   ],
   "source": [
    "\n",
    "model = DecisionTreeClassifier(random_state=42)\n",
    "model.fit(X, y)\n",
    "\n",
    "feature_importances = model.feature_importances_\n",
    "\n",
    "features = pd.DataFrame({\n",
    "    'Feature': X.columns,\n",
    "    'Importance': feature_importances\n",
    "})\n",
    "\n",
    "# Ordenar las características por importancia\n",
    "features = features.sort_values(by='Importance', ascending=False).head(50)\n",
    "\n",
    "# Visualizar la importancia de las características\n",
    "plt.figure(figsize=(12, 8))\n",
    "plt.barh(features['Feature'], features['Importance'])\n",
    "plt.xlabel('Importancia')\n",
    "plt.ylabel('Característica')\n",
    "plt.title('Importancia de las Características')\n",
    "plt.gca().invert_yaxis()\n",
    "plt.show()\n",
    "\n",
    "print(features['Feature'].tolist())"
   ]
  }
 ],
 "metadata": {
  "kernelspec": {
   "display_name": ".venv10",
   "language": "python",
   "name": "python3"
  },
  "language_info": {
   "codemirror_mode": {
    "name": "ipython",
    "version": 3
   },
   "file_extension": ".py",
   "mimetype": "text/x-python",
   "name": "python",
   "nbconvert_exporter": "python",
   "pygments_lexer": "ipython3",
   "version": "3.10.11"
  }
 },
 "nbformat": 4,
 "nbformat_minor": 2
}

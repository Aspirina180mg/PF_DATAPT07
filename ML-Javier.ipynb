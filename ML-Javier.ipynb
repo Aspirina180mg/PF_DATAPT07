{
 "cells": [
  {
   "cell_type": "code",
   "execution_count": 62,
   "metadata": {},
   "outputs": [],
   "source": [
    "import pandas as pd\n",
    "import numpy as np\n",
    "import json\n",
    "import re"
   ]
  },
  {
   "cell_type": "code",
   "execution_count": 63,
   "metadata": {},
   "outputs": [],
   "source": [
    "df_restaurantes = pd.read_parquet(r'Datawarehouse\\restaurantes.parquet')\n"
   ]
  },
  {
   "cell_type": "code",
   "execution_count": 64,
   "metadata": {},
   "outputs": [
    {
     "data": {
      "text/html": [
       "<div>\n",
       "<style scoped>\n",
       "    .dataframe tbody tr th:only-of-type {\n",
       "        vertical-align: middle;\n",
       "    }\n",
       "\n",
       "    .dataframe tbody tr th {\n",
       "        vertical-align: top;\n",
       "    }\n",
       "\n",
       "    .dataframe thead th {\n",
       "        text-align: right;\n",
       "    }\n",
       "</style>\n",
       "<table border=\"1\" class=\"dataframe\">\n",
       "  <thead>\n",
       "    <tr style=\"text-align: right;\">\n",
       "      <th></th>\n",
       "      <th>id_restaurante</th>\n",
       "      <th>id_estado</th>\n",
       "      <th>nombre</th>\n",
       "      <th>categorias</th>\n",
       "      <th>cantidad_resenas</th>\n",
       "      <th>latitud</th>\n",
       "      <th>longitud</th>\n",
       "      <th>atributos</th>\n",
       "      <th>calificacion</th>\n",
       "      <th>origen</th>\n",
       "    </tr>\n",
       "  </thead>\n",
       "  <tbody>\n",
       "    <tr>\n",
       "      <th>181552</th>\n",
       "      <td>0x885a6f6467dcc295:0x53d5156ebe5567eb</td>\n",
       "      <td>42.0</td>\n",
       "      <td>Domino's Pizza</td>\n",
       "      <td>['Pizza delivery', 'Delivery Restaurant', 'Tak...</td>\n",
       "      <td>55</td>\n",
       "      <td>36.146097</td>\n",
       "      <td>-82.415217</td>\n",
       "      <td>{'AcceptsInsurance': None, 'Accessibility': ['...</td>\n",
       "      <td>3.300781</td>\n",
       "      <td>1</td>\n",
       "    </tr>\n",
       "  </tbody>\n",
       "</table>\n",
       "</div>"
      ],
      "text/plain": [
       "                               id_restaurante  id_estado          nombre  \\\n",
       "181552  0x885a6f6467dcc295:0x53d5156ebe5567eb       42.0  Domino's Pizza   \n",
       "\n",
       "                                               categorias  cantidad_resenas  \\\n",
       "181552  ['Pizza delivery', 'Delivery Restaurant', 'Tak...                55   \n",
       "\n",
       "          latitud   longitud  \\\n",
       "181552  36.146097 -82.415217   \n",
       "\n",
       "                                                atributos  calificacion  \\\n",
       "181552  {'AcceptsInsurance': None, 'Accessibility': ['...      3.300781   \n",
       "\n",
       "        origen  \n",
       "181552       1  "
      ]
     },
     "execution_count": 64,
     "metadata": {},
     "output_type": "execute_result"
    }
   ],
   "source": [
    "# df_restaurantes = df_restaurantes[df_restaurantes['nombre'] ==\"Subway\"]\n",
    "df_restaurantes['origen'] = df_restaurantes['id_restaurante'].apply(len)\n",
    "df_restaurantes['origen'] =  df_restaurantes['id_restaurante'].apply(lambda x: 1 if len(x) > 22 else 0)\n",
    "df_restaurantes.sample(1)"
   ]
  },
  {
   "cell_type": "code",
   "execution_count": 65,
   "metadata": {},
   "outputs": [
    {
     "data": {
      "text/plain": [
       "origen\n",
       "1    97744\n",
       "0    14170\n",
       "Name: count, dtype: int64"
      ]
     },
     "execution_count": 65,
     "metadata": {},
     "output_type": "execute_result"
    }
   ],
   "source": [
    "df_restaurantes['origen'].value_counts()"
   ]
  },
  {
   "cell_type": "code",
   "execution_count": 66,
   "metadata": {},
   "outputs": [],
   "source": [
    "# df_restaurantes = df_restaurantes[df_restaurantes.nombre.str.contains('Subway')]\n",
    "# df_restaurantes = df_restaurantes[df_restaurantes.nombre.str.lower().str.contains('subway')]"
   ]
  },
  {
   "cell_type": "code",
   "execution_count": 67,
   "metadata": {},
   "outputs": [],
   "source": [
    "# pd.DataFrame(pd.json_normalize(df_restaurantes.query(\"origen == 'Y'\").atributos).isna().sum(),columns=['nulos']).sort_values(by=\"nulos\")"
   ]
  },
  {
   "cell_type": "code",
   "execution_count": 68,
   "metadata": {},
   "outputs": [],
   "source": [
    "# nulos > 95738\n",
    "columnas = pd.DataFrame(pd.json_normalize(df_restaurantes.atributos).isna().sum(),columns=['nulos']).index.to_list()"
   ]
  },
  {
   "cell_type": "code",
   "execution_count": 69,
   "metadata": {},
   "outputs": [],
   "source": [
    "columnas = ['Accessibility',\n",
    " 'Amenities',\n",
    " 'Atmosphere',\n",
    " 'Crowd',\n",
    " 'Dining options',\n",
    " 'Health & safety',\n",
    " 'Highlights',\n",
    " 'Offerings',\n",
    " 'Payments',\n",
    " 'Popular for',\n",
    " 'Service options']"
   ]
  },
  {
   "cell_type": "markdown",
   "metadata": {},
   "source": [
    "### 1. Atributos"
   ]
  },
  {
   "cell_type": "code",
   "execution_count": 70,
   "metadata": {},
   "outputs": [],
   "source": [
    "df_atributos = pd.json_normalize(df_restaurantes.atributos).reset_index()[columnas].fillna(np.ndarray([]))"
   ]
  },
  {
   "cell_type": "code",
   "execution_count": 71,
   "metadata": {},
   "outputs": [],
   "source": [
    "for col in columnas:\n",
    "    df_atributos[col] = df_atributos[col].apply(str)\n",
    "    df_atributos[col] = df_atributos[col].apply(lambda c: \"[]\" if c == '0.0' else c)\n",
    "    # df_atributos[col] = df_atributos[col].apply(json.loads)\n",
    "    "
   ]
  },
  {
   "cell_type": "code",
   "execution_count": 72,
   "metadata": {},
   "outputs": [
    {
     "data": {
      "text/html": [
       "<div>\n",
       "<style scoped>\n",
       "    .dataframe tbody tr th:only-of-type {\n",
       "        vertical-align: middle;\n",
       "    }\n",
       "\n",
       "    .dataframe tbody tr th {\n",
       "        vertical-align: top;\n",
       "    }\n",
       "\n",
       "    .dataframe thead th {\n",
       "        text-align: right;\n",
       "    }\n",
       "</style>\n",
       "<table border=\"1\" class=\"dataframe\">\n",
       "  <thead>\n",
       "    <tr style=\"text-align: right;\">\n",
       "      <th></th>\n",
       "      <th>Accessibility</th>\n",
       "      <th>Amenities</th>\n",
       "      <th>Atmosphere</th>\n",
       "      <th>Crowd</th>\n",
       "      <th>Dining options</th>\n",
       "      <th>Health &amp; safety</th>\n",
       "      <th>Highlights</th>\n",
       "      <th>Offerings</th>\n",
       "      <th>Payments</th>\n",
       "      <th>Popular for</th>\n",
       "      <th>Service options</th>\n",
       "    </tr>\n",
       "  </thead>\n",
       "  <tbody>\n",
       "    <tr>\n",
       "      <th>7985</th>\n",
       "      <td>[]</td>\n",
       "      <td>[]</td>\n",
       "      <td>[]</td>\n",
       "      <td>[]</td>\n",
       "      <td>[]</td>\n",
       "      <td>[]</td>\n",
       "      <td>[]</td>\n",
       "      <td>[]</td>\n",
       "      <td>[]</td>\n",
       "      <td>[]</td>\n",
       "      <td>[]</td>\n",
       "    </tr>\n",
       "    <tr>\n",
       "      <th>95860</th>\n",
       "      <td>[]</td>\n",
       "      <td>[]</td>\n",
       "      <td>['Casual']</td>\n",
       "      <td>[]</td>\n",
       "      <td>[]</td>\n",
       "      <td>[]</td>\n",
       "      <td>[]</td>\n",
       "      <td>[]</td>\n",
       "      <td>[]</td>\n",
       "      <td>['Solo dining']</td>\n",
       "      <td>['No-contact delivery' 'Delivery' 'Takeout' 'D...</td>\n",
       "    </tr>\n",
       "    <tr>\n",
       "      <th>44895</th>\n",
       "      <td>['Wheelchair accessible entrance' 'Wheelchair ...</td>\n",
       "      <td>['Good for kids' 'High chairs' 'Restroom' 'Wi-...</td>\n",
       "      <td>['Casual']</td>\n",
       "      <td>['Family-friendly' 'Groups' 'Tourists']</td>\n",
       "      <td>['Breakfast' 'Lunch' 'Dinner' 'Catering' 'Dess...</td>\n",
       "      <td>[]</td>\n",
       "      <td>['LGBTQ friendly']</td>\n",
       "      <td>['Coffee' 'Comfort food' 'Healthy options' \"Ki...</td>\n",
       "      <td>['Debit cards' 'NFC mobile payments' 'Credit c...</td>\n",
       "      <td>['Lunch' 'Dinner' 'Solo dining']</td>\n",
       "      <td>['Delivery' 'Takeout' 'Dine-in']</td>\n",
       "    </tr>\n",
       "  </tbody>\n",
       "</table>\n",
       "</div>"
      ],
      "text/plain": [
       "                                           Accessibility  \\\n",
       "7985                                                  []   \n",
       "95860                                                 []   \n",
       "44895  ['Wheelchair accessible entrance' 'Wheelchair ...   \n",
       "\n",
       "                                               Amenities  Atmosphere  \\\n",
       "7985                                                  []          []   \n",
       "95860                                                 []  ['Casual']   \n",
       "44895  ['Good for kids' 'High chairs' 'Restroom' 'Wi-...  ['Casual']   \n",
       "\n",
       "                                         Crowd  \\\n",
       "7985                                        []   \n",
       "95860                                       []   \n",
       "44895  ['Family-friendly' 'Groups' 'Tourists']   \n",
       "\n",
       "                                          Dining options Health & safety  \\\n",
       "7985                                                  []              []   \n",
       "95860                                                 []              []   \n",
       "44895  ['Breakfast' 'Lunch' 'Dinner' 'Catering' 'Dess...              []   \n",
       "\n",
       "               Highlights                                          Offerings  \\\n",
       "7985                   []                                                 []   \n",
       "95860                  []                                                 []   \n",
       "44895  ['LGBTQ friendly']  ['Coffee' 'Comfort food' 'Healthy options' \"Ki...   \n",
       "\n",
       "                                                Payments  \\\n",
       "7985                                                  []   \n",
       "95860                                                 []   \n",
       "44895  ['Debit cards' 'NFC mobile payments' 'Credit c...   \n",
       "\n",
       "                            Popular for  \\\n",
       "7985                                 []   \n",
       "95860                   ['Solo dining']   \n",
       "44895  ['Lunch' 'Dinner' 'Solo dining']   \n",
       "\n",
       "                                         Service options  \n",
       "7985                                                  []  \n",
       "95860  ['No-contact delivery' 'Delivery' 'Takeout' 'D...  \n",
       "44895                   ['Delivery' 'Takeout' 'Dine-in']  "
      ]
     },
     "execution_count": 72,
     "metadata": {},
     "output_type": "execute_result"
    }
   ],
   "source": [
    "df_atributos.sample(3)"
   ]
  },
  {
   "cell_type": "markdown",
   "metadata": {},
   "source": [
    "#### 1.2 Accessibility"
   ]
  },
  {
   "cell_type": "code",
   "execution_count": 73,
   "metadata": {},
   "outputs": [
    {
     "data": {
      "text/plain": [
       "61203    [Wheelchair accessible entrance, Wheelchair ac...\n",
       "48203    [Wheelchair accessible elevator, Wheelchair ac...\n",
       "34943                                                   []\n",
       "Name: Accessibility, dtype: object"
      ]
     },
     "execution_count": 73,
     "metadata": {},
     "output_type": "execute_result"
    }
   ],
   "source": [
    "df_atributos['Accessibility'] = df_atributos['Accessibility'].apply(lambda s: re.sub(r\"'\", \"\\\"\", s)).apply(lambda s: re.sub(r'\"\\s*\"','\",\"', s)).apply(json.loads)\n",
    "\n",
    "df_atributos['Accessibility'].sample(3)"
   ]
  },
  {
   "cell_type": "code",
   "execution_count": 74,
   "metadata": {},
   "outputs": [],
   "source": [
    "columnas_accesibilidad =  df_atributos['Accessibility'].explode().unique()[1:].tolist()\n"
   ]
  },
  {
   "cell_type": "code",
   "execution_count": 75,
   "metadata": {},
   "outputs": [],
   "source": [
    "df_accesibilidad = pd.DataFrame([[False] * len(columnas_accesibilidad)] * df_atributos.shape[0], columns=columnas_accesibilidad)"
   ]
  },
  {
   "cell_type": "code",
   "execution_count": 76,
   "metadata": {},
   "outputs": [
    {
     "data": {
      "text/html": [
       "<div>\n",
       "<style scoped>\n",
       "    .dataframe tbody tr th:only-of-type {\n",
       "        vertical-align: middle;\n",
       "    }\n",
       "\n",
       "    .dataframe tbody tr th {\n",
       "        vertical-align: top;\n",
       "    }\n",
       "\n",
       "    .dataframe thead th {\n",
       "        text-align: right;\n",
       "    }\n",
       "</style>\n",
       "<table border=\"1\" class=\"dataframe\">\n",
       "  <thead>\n",
       "    <tr style=\"text-align: right;\">\n",
       "      <th></th>\n",
       "      <th>Wheelchair accessible entrance</th>\n",
       "      <th>Wheelchair accessible parking lot</th>\n",
       "      <th>Wheelchair accessible seating</th>\n",
       "      <th>Wheelchair accessible restroom</th>\n",
       "      <th>Wheelchair accessible elevator</th>\n",
       "      <th>Wheelchair-accessible car park</th>\n",
       "      <th>Wheelchair-accessible entrance</th>\n",
       "      <th>Wheelchair-accessible seating</th>\n",
       "      <th>Wheelchair-accessible toilet</th>\n",
       "      <th>Wheelchair-accessible lift</th>\n",
       "      <th>Assisted listening devices</th>\n",
       "    </tr>\n",
       "  </thead>\n",
       "  <tbody>\n",
       "    <tr>\n",
       "      <th>64907</th>\n",
       "      <td>False</td>\n",
       "      <td>False</td>\n",
       "      <td>False</td>\n",
       "      <td>False</td>\n",
       "      <td>False</td>\n",
       "      <td>False</td>\n",
       "      <td>False</td>\n",
       "      <td>False</td>\n",
       "      <td>False</td>\n",
       "      <td>False</td>\n",
       "      <td>False</td>\n",
       "    </tr>\n",
       "    <tr>\n",
       "      <th>63680</th>\n",
       "      <td>False</td>\n",
       "      <td>False</td>\n",
       "      <td>False</td>\n",
       "      <td>False</td>\n",
       "      <td>False</td>\n",
       "      <td>False</td>\n",
       "      <td>False</td>\n",
       "      <td>False</td>\n",
       "      <td>False</td>\n",
       "      <td>False</td>\n",
       "      <td>False</td>\n",
       "    </tr>\n",
       "    <tr>\n",
       "      <th>98664</th>\n",
       "      <td>False</td>\n",
       "      <td>False</td>\n",
       "      <td>False</td>\n",
       "      <td>False</td>\n",
       "      <td>False</td>\n",
       "      <td>False</td>\n",
       "      <td>False</td>\n",
       "      <td>False</td>\n",
       "      <td>False</td>\n",
       "      <td>False</td>\n",
       "      <td>False</td>\n",
       "    </tr>\n",
       "  </tbody>\n",
       "</table>\n",
       "</div>"
      ],
      "text/plain": [
       "       Wheelchair accessible entrance  Wheelchair accessible parking lot  \\\n",
       "64907                           False                              False   \n",
       "63680                           False                              False   \n",
       "98664                           False                              False   \n",
       "\n",
       "       Wheelchair accessible seating  Wheelchair accessible restroom  \\\n",
       "64907                          False                           False   \n",
       "63680                          False                           False   \n",
       "98664                          False                           False   \n",
       "\n",
       "       Wheelchair accessible elevator  Wheelchair-accessible car park  \\\n",
       "64907                           False                           False   \n",
       "63680                           False                           False   \n",
       "98664                           False                           False   \n",
       "\n",
       "       Wheelchair-accessible entrance  Wheelchair-accessible seating  \\\n",
       "64907                           False                          False   \n",
       "63680                           False                          False   \n",
       "98664                           False                          False   \n",
       "\n",
       "       Wheelchair-accessible toilet  Wheelchair-accessible lift  \\\n",
       "64907                         False                       False   \n",
       "63680                         False                       False   \n",
       "98664                         False                       False   \n",
       "\n",
       "       Assisted listening devices  \n",
       "64907                       False  \n",
       "63680                       False  \n",
       "98664                       False  "
      ]
     },
     "execution_count": 76,
     "metadata": {},
     "output_type": "execute_result"
    }
   ],
   "source": [
    "df_accesibilidad.sample(3)"
   ]
  },
  {
   "cell_type": "code",
   "execution_count": 77,
   "metadata": {},
   "outputs": [],
   "source": [
    "for i, row in enumerate(df_atributos['Accessibility']):\n",
    "    for j, val in enumerate(row):\n",
    "        df_accesibilidad.loc[i, val] = True\n"
   ]
  },
  {
   "cell_type": "code",
   "execution_count": 78,
   "metadata": {},
   "outputs": [
    {
     "data": {
      "text/html": [
       "<div>\n",
       "<style scoped>\n",
       "    .dataframe tbody tr th:only-of-type {\n",
       "        vertical-align: middle;\n",
       "    }\n",
       "\n",
       "    .dataframe tbody tr th {\n",
       "        vertical-align: top;\n",
       "    }\n",
       "\n",
       "    .dataframe thead th {\n",
       "        text-align: right;\n",
       "    }\n",
       "</style>\n",
       "<table border=\"1\" class=\"dataframe\">\n",
       "  <thead>\n",
       "    <tr style=\"text-align: right;\">\n",
       "      <th></th>\n",
       "      <th>index</th>\n",
       "      <th>Wheelchair accessible entrance</th>\n",
       "      <th>Wheelchair accessible parking lot</th>\n",
       "      <th>Wheelchair accessible seating</th>\n",
       "      <th>Wheelchair accessible restroom</th>\n",
       "      <th>Wheelchair accessible elevator</th>\n",
       "      <th>Wheelchair-accessible car park</th>\n",
       "      <th>Wheelchair-accessible entrance</th>\n",
       "      <th>Wheelchair-accessible seating</th>\n",
       "      <th>Wheelchair-accessible toilet</th>\n",
       "      <th>...</th>\n",
       "      <th>id_restaurante</th>\n",
       "      <th>id_estado</th>\n",
       "      <th>nombre</th>\n",
       "      <th>categorias</th>\n",
       "      <th>cantidad_resenas</th>\n",
       "      <th>latitud</th>\n",
       "      <th>longitud</th>\n",
       "      <th>atributos</th>\n",
       "      <th>calificacion</th>\n",
       "      <th>origen</th>\n",
       "    </tr>\n",
       "  </thead>\n",
       "  <tbody>\n",
       "    <tr>\n",
       "      <th>68549</th>\n",
       "      <td>68549</td>\n",
       "      <td>True</td>\n",
       "      <td>False</td>\n",
       "      <td>False</td>\n",
       "      <td>False</td>\n",
       "      <td>False</td>\n",
       "      <td>False</td>\n",
       "      <td>False</td>\n",
       "      <td>False</td>\n",
       "      <td>False</td>\n",
       "      <td>...</td>\n",
       "      <td>0x87b94dffd897a0c5:0x47d578c87ed622f1</td>\n",
       "      <td>16.0</td>\n",
       "      <td>Panda Express</td>\n",
       "      <td>['Chinese restaurant', 'Restaurant']</td>\n",
       "      <td>37</td>\n",
       "      <td>38.423923</td>\n",
       "      <td>-96.218972</td>\n",
       "      <td>{'AcceptsInsurance': None, 'Accessibility': ['...</td>\n",
       "      <td>2.599609</td>\n",
       "      <td>1</td>\n",
       "    </tr>\n",
       "    <tr>\n",
       "      <th>96188</th>\n",
       "      <td>96188</td>\n",
       "      <td>True</td>\n",
       "      <td>True</td>\n",
       "      <td>False</td>\n",
       "      <td>False</td>\n",
       "      <td>False</td>\n",
       "      <td>False</td>\n",
       "      <td>False</td>\n",
       "      <td>False</td>\n",
       "      <td>False</td>\n",
       "      <td>...</td>\n",
       "      <td>0x8830f1e1e406b033:0x8862990d225f4454</td>\n",
       "      <td>35.0</td>\n",
       "      <td>Subway</td>\n",
       "      <td>['Sandwich shop', 'Caterer', 'Fast food restau...</td>\n",
       "      <td>98</td>\n",
       "      <td>41.465301</td>\n",
       "      <td>-81.760180</td>\n",
       "      <td>{'AcceptsInsurance': None, 'Accessibility': ['...</td>\n",
       "      <td>3.400391</td>\n",
       "      <td>1</td>\n",
       "    </tr>\n",
       "    <tr>\n",
       "      <th>18028</th>\n",
       "      <td>18028</td>\n",
       "      <td>True</td>\n",
       "      <td>True</td>\n",
       "      <td>False</td>\n",
       "      <td>False</td>\n",
       "      <td>False</td>\n",
       "      <td>False</td>\n",
       "      <td>False</td>\n",
       "      <td>False</td>\n",
       "      <td>False</td>\n",
       "      <td>...</td>\n",
       "      <td>0x52baa75adbafd84f:0xa07168a761605d18</td>\n",
       "      <td>23.0</td>\n",
       "      <td>Sullivan Candy and Supply, Inc.</td>\n",
       "      <td>['Restaurant supply store', 'General store', '...</td>\n",
       "      <td>24</td>\n",
       "      <td>47.419739</td>\n",
       "      <td>-92.926793</td>\n",
       "      <td>{'AcceptsInsurance': None, 'Accessibility': ['...</td>\n",
       "      <td>4.199219</td>\n",
       "      <td>1</td>\n",
       "    </tr>\n",
       "  </tbody>\n",
       "</table>\n",
       "<p>3 rows × 22 columns</p>\n",
       "</div>"
      ],
      "text/plain": [
       "       index  Wheelchair accessible entrance  \\\n",
       "68549  68549                            True   \n",
       "96188  96188                            True   \n",
       "18028  18028                            True   \n",
       "\n",
       "       Wheelchair accessible parking lot  Wheelchair accessible seating  \\\n",
       "68549                              False                          False   \n",
       "96188                               True                          False   \n",
       "18028                               True                          False   \n",
       "\n",
       "       Wheelchair accessible restroom  Wheelchair accessible elevator  \\\n",
       "68549                           False                           False   \n",
       "96188                           False                           False   \n",
       "18028                           False                           False   \n",
       "\n",
       "       Wheelchair-accessible car park  Wheelchair-accessible entrance  \\\n",
       "68549                           False                           False   \n",
       "96188                           False                           False   \n",
       "18028                           False                           False   \n",
       "\n",
       "       Wheelchair-accessible seating  Wheelchair-accessible toilet  ...  \\\n",
       "68549                          False                         False  ...   \n",
       "96188                          False                         False  ...   \n",
       "18028                          False                         False  ...   \n",
       "\n",
       "                              id_restaurante  id_estado  \\\n",
       "68549  0x87b94dffd897a0c5:0x47d578c87ed622f1       16.0   \n",
       "96188  0x8830f1e1e406b033:0x8862990d225f4454       35.0   \n",
       "18028  0x52baa75adbafd84f:0xa07168a761605d18       23.0   \n",
       "\n",
       "                                nombre  \\\n",
       "68549                    Panda Express   \n",
       "96188                           Subway   \n",
       "18028  Sullivan Candy and Supply, Inc.   \n",
       "\n",
       "                                              categorias cantidad_resenas  \\\n",
       "68549               ['Chinese restaurant', 'Restaurant']               37   \n",
       "96188  ['Sandwich shop', 'Caterer', 'Fast food restau...               98   \n",
       "18028  ['Restaurant supply store', 'General store', '...               24   \n",
       "\n",
       "         latitud   longitud  \\\n",
       "68549  38.423923 -96.218972   \n",
       "96188  41.465301 -81.760180   \n",
       "18028  47.419739 -92.926793   \n",
       "\n",
       "                                               atributos  calificacion origen  \n",
       "68549  {'AcceptsInsurance': None, 'Accessibility': ['...      2.599609      1  \n",
       "96188  {'AcceptsInsurance': None, 'Accessibility': ['...      3.400391      1  \n",
       "18028  {'AcceptsInsurance': None, 'Accessibility': ['...      4.199219      1  \n",
       "\n",
       "[3 rows x 22 columns]"
      ]
     },
     "execution_count": 78,
     "metadata": {},
     "output_type": "execute_result"
    }
   ],
   "source": [
    "df_restaurantes = df_restaurantes.reset_index().reset_index().drop(columns=['index']).rename({'level_0': 'index'}, axis=1, errors='ignore')\n",
    "df_accesibilidad.reset_index().merge(df_restaurantes, on=\"index\").sample(3)\n"
   ]
  },
  {
   "cell_type": "code",
   "execution_count": 79,
   "metadata": {},
   "outputs": [],
   "source": [
    "df_accesibilidad.columns = [\"access_\" + c for c in df_accesibilidad.columns]\n",
    "union = df_accesibilidad.reset_index().merge(df_restaurantes, on=\"index\")"
   ]
  },
  {
   "cell_type": "code",
   "execution_count": 80,
   "metadata": {},
   "outputs": [
    {
     "data": {
      "text/html": [
       "<div>\n",
       "<style scoped>\n",
       "    .dataframe tbody tr th:only-of-type {\n",
       "        vertical-align: middle;\n",
       "    }\n",
       "\n",
       "    .dataframe tbody tr th {\n",
       "        vertical-align: top;\n",
       "    }\n",
       "\n",
       "    .dataframe thead th {\n",
       "        text-align: right;\n",
       "    }\n",
       "</style>\n",
       "<table border=\"1\" class=\"dataframe\">\n",
       "  <thead>\n",
       "    <tr style=\"text-align: right;\">\n",
       "      <th></th>\n",
       "      <th>index</th>\n",
       "      <th>access_Wheelchair accessible entrance</th>\n",
       "      <th>access_Wheelchair accessible parking lot</th>\n",
       "      <th>access_Wheelchair accessible seating</th>\n",
       "      <th>access_Wheelchair accessible restroom</th>\n",
       "      <th>access_Wheelchair accessible elevator</th>\n",
       "      <th>access_Wheelchair-accessible car park</th>\n",
       "      <th>access_Wheelchair-accessible entrance</th>\n",
       "      <th>access_Wheelchair-accessible seating</th>\n",
       "      <th>access_Wheelchair-accessible toilet</th>\n",
       "      <th>...</th>\n",
       "      <th>id_restaurante</th>\n",
       "      <th>id_estado</th>\n",
       "      <th>nombre</th>\n",
       "      <th>categorias</th>\n",
       "      <th>cantidad_resenas</th>\n",
       "      <th>latitud</th>\n",
       "      <th>longitud</th>\n",
       "      <th>atributos</th>\n",
       "      <th>calificacion</th>\n",
       "      <th>origen</th>\n",
       "    </tr>\n",
       "  </thead>\n",
       "  <tbody>\n",
       "    <tr>\n",
       "      <th>62953</th>\n",
       "      <td>62953</td>\n",
       "      <td>False</td>\n",
       "      <td>False</td>\n",
       "      <td>False</td>\n",
       "      <td>False</td>\n",
       "      <td>False</td>\n",
       "      <td>False</td>\n",
       "      <td>True</td>\n",
       "      <td>True</td>\n",
       "      <td>False</td>\n",
       "      <td>...</td>\n",
       "      <td>0x8085794a871e3d17:0x897a834035f38939</td>\n",
       "      <td>5.0</td>\n",
       "      <td>Solano Junction</td>\n",
       "      <td>['Breakfast restaurant', 'Brunch restaurant', ...</td>\n",
       "      <td>158</td>\n",
       "      <td>37.891108</td>\n",
       "      <td>-122.287588</td>\n",
       "      <td>{'AcceptsInsurance': None, 'Accessibility': ['...</td>\n",
       "      <td>4.199219</td>\n",
       "      <td>1</td>\n",
       "    </tr>\n",
       "    <tr>\n",
       "      <th>52493</th>\n",
       "      <td>52493</td>\n",
       "      <td>True</td>\n",
       "      <td>False</td>\n",
       "      <td>False</td>\n",
       "      <td>False</td>\n",
       "      <td>False</td>\n",
       "      <td>False</td>\n",
       "      <td>False</td>\n",
       "      <td>False</td>\n",
       "      <td>False</td>\n",
       "      <td>...</td>\n",
       "      <td>0x88672e9003bb9da7:0xf2924cd9b8b44ebf</td>\n",
       "      <td>42.0</td>\n",
       "      <td>Subway</td>\n",
       "      <td>['Sandwich shop', 'Caterer', 'Fast food restau...</td>\n",
       "      <td>38</td>\n",
       "      <td>35.930257</td>\n",
       "      <td>-85.488145</td>\n",
       "      <td>{'AcceptsInsurance': None, 'Accessibility': ['...</td>\n",
       "      <td>4.101562</td>\n",
       "      <td>1</td>\n",
       "    </tr>\n",
       "    <tr>\n",
       "      <th>24446</th>\n",
       "      <td>24446</td>\n",
       "      <td>True</td>\n",
       "      <td>True</td>\n",
       "      <td>False</td>\n",
       "      <td>False</td>\n",
       "      <td>False</td>\n",
       "      <td>False</td>\n",
       "      <td>False</td>\n",
       "      <td>False</td>\n",
       "      <td>False</td>\n",
       "      <td>...</td>\n",
       "      <td>0x8624c59295967693:0xd247bd3cb3e64f65</td>\n",
       "      <td>18.0</td>\n",
       "      <td>Point Blue BBQ</td>\n",
       "      <td>['Restaurant', 'Barbecue restaurant']</td>\n",
       "      <td>5</td>\n",
       "      <td>30.624422</td>\n",
       "      <td>-92.291570</td>\n",
       "      <td>{'AcceptsInsurance': None, 'Accessibility': ['...</td>\n",
       "      <td>5.000000</td>\n",
       "      <td>1</td>\n",
       "    </tr>\n",
       "  </tbody>\n",
       "</table>\n",
       "<p>3 rows × 22 columns</p>\n",
       "</div>"
      ],
      "text/plain": [
       "       index  access_Wheelchair accessible entrance  \\\n",
       "62953  62953                                  False   \n",
       "52493  52493                                   True   \n",
       "24446  24446                                   True   \n",
       "\n",
       "       access_Wheelchair accessible parking lot  \\\n",
       "62953                                     False   \n",
       "52493                                     False   \n",
       "24446                                      True   \n",
       "\n",
       "       access_Wheelchair accessible seating  \\\n",
       "62953                                 False   \n",
       "52493                                 False   \n",
       "24446                                 False   \n",
       "\n",
       "       access_Wheelchair accessible restroom  \\\n",
       "62953                                  False   \n",
       "52493                                  False   \n",
       "24446                                  False   \n",
       "\n",
       "       access_Wheelchair accessible elevator  \\\n",
       "62953                                  False   \n",
       "52493                                  False   \n",
       "24446                                  False   \n",
       "\n",
       "       access_Wheelchair-accessible car park  \\\n",
       "62953                                  False   \n",
       "52493                                  False   \n",
       "24446                                  False   \n",
       "\n",
       "       access_Wheelchair-accessible entrance  \\\n",
       "62953                                   True   \n",
       "52493                                  False   \n",
       "24446                                  False   \n",
       "\n",
       "       access_Wheelchair-accessible seating  \\\n",
       "62953                                  True   \n",
       "52493                                 False   \n",
       "24446                                 False   \n",
       "\n",
       "       access_Wheelchair-accessible toilet  ...  \\\n",
       "62953                                False  ...   \n",
       "52493                                False  ...   \n",
       "24446                                False  ...   \n",
       "\n",
       "                              id_restaurante  id_estado           nombre  \\\n",
       "62953  0x8085794a871e3d17:0x897a834035f38939        5.0  Solano Junction   \n",
       "52493  0x88672e9003bb9da7:0xf2924cd9b8b44ebf       42.0           Subway   \n",
       "24446  0x8624c59295967693:0xd247bd3cb3e64f65       18.0   Point Blue BBQ   \n",
       "\n",
       "                                              categorias cantidad_resenas  \\\n",
       "62953  ['Breakfast restaurant', 'Brunch restaurant', ...              158   \n",
       "52493  ['Sandwich shop', 'Caterer', 'Fast food restau...               38   \n",
       "24446              ['Restaurant', 'Barbecue restaurant']                5   \n",
       "\n",
       "         latitud    longitud  \\\n",
       "62953  37.891108 -122.287588   \n",
       "52493  35.930257  -85.488145   \n",
       "24446  30.624422  -92.291570   \n",
       "\n",
       "                                               atributos  calificacion origen  \n",
       "62953  {'AcceptsInsurance': None, 'Accessibility': ['...      4.199219      1  \n",
       "52493  {'AcceptsInsurance': None, 'Accessibility': ['...      4.101562      1  \n",
       "24446  {'AcceptsInsurance': None, 'Accessibility': ['...      5.000000      1  \n",
       "\n",
       "[3 rows x 22 columns]"
      ]
     },
     "execution_count": 80,
     "metadata": {},
     "output_type": "execute_result"
    }
   ],
   "source": [
    "union.sample(3)"
   ]
  },
  {
   "cell_type": "code",
   "execution_count": 81,
   "metadata": {},
   "outputs": [
    {
     "data": {
      "text/plain": [
       "[]"
      ]
     },
     "execution_count": 81,
     "metadata": {},
     "output_type": "execute_result"
    }
   ],
   "source": [
    "df_atributos['Accessibility'].iloc[8536]"
   ]
  },
  {
   "cell_type": "markdown",
   "metadata": {},
   "source": [
    "#### 1.3 DF Amenities"
   ]
  },
  {
   "cell_type": "code",
   "execution_count": 82,
   "metadata": {},
   "outputs": [],
   "source": [
    "df_atributos['Amenities'] = df_atributos['Amenities'].apply(lambda s: re.sub(r\"'\", \"\\\"\", s)).apply(lambda s: re.sub(r'\"\\s*\"','\",\"', s)).apply(json.loads)\n",
    "\n",
    "columnas_amenities = df_atributos['Amenities'].explode().unique()[1:].tolist()\n",
    "df_amenities = pd.DataFrame([[False] * len(columnas_amenities)] * df_atributos.shape[0], columns=columnas_amenities)\n",
    "\n",
    "for i, row in enumerate(df_atributos['Amenities']):\n",
    "    for j, val in enumerate(row):\n",
    "        df_amenities.loc[i, val] = True\n",
    "\n",
    "df_amenities.columns = [\"amen_\" + c for c in df_amenities.columns]\n",
    "union = df_amenities.reset_index().merge(union, on=\"index\")"
   ]
  },
  {
   "cell_type": "markdown",
   "metadata": {},
   "source": [
    "#### 1.4 Atmosphere"
   ]
  },
  {
   "cell_type": "code",
   "execution_count": 83,
   "metadata": {},
   "outputs": [],
   "source": [
    "df_atributos['Atmosphere'] = df_atributos['Atmosphere'].apply(lambda s: re.sub(r\"'\", \"\\\"\", s)).apply(lambda s: re.sub(r'\"\\s*\"','\",\"', s)).apply(json.loads)\n",
    "\n",
    "columnas_atmosphere = df_atributos['Atmosphere'].explode().unique()[1:].tolist()\n",
    "\n",
    "df_atmosphere = pd.DataFrame([[False] * len(columnas_atmosphere)] * df_atributos.shape[0], columns=columnas_atmosphere)\n",
    "\n",
    "for i, row in enumerate(df_atributos['Atmosphere']):\n",
    "    for j, val in enumerate(row):\n",
    "        df_atmosphere.loc[i, val] = True\n",
    "\n",
    "df_atmosphere.columns = [\"atmos_\" + c for c in df_atmosphere.columns]\n",
    "union = df_atmosphere.reset_index().merge(union, on=\"index\")"
   ]
  },
  {
   "cell_type": "markdown",
   "metadata": {},
   "source": [
    "#### 1.5 Crowd"
   ]
  },
  {
   "cell_type": "code",
   "execution_count": 84,
   "metadata": {},
   "outputs": [],
   "source": [
    "df_atributos['Crowd'] = df_atributos['Crowd'].apply(lambda s: re.sub(r\"'\", \"\\\"\", s)).apply(lambda s: re.sub(r'\"\\s*\"','\",\"', s)).apply(json.loads)\n",
    "\n",
    "columnas_crowd = df_atributos['Crowd'].explode().unique()[1:].tolist()\n",
    "\n",
    "df_crowd = pd.DataFrame([[False] * len(columnas_crowd)] * df_atributos.shape[0], columns=columnas_crowd)\n",
    "\n",
    "for i, row in enumerate(df_atributos['Crowd']):\n",
    "    for j, val in enumerate(row):\n",
    "        df_crowd.loc[i, val] = True\n",
    "\n",
    "df_crowd.columns = [\"crowd_\" + c for c in df_crowd.columns]\n",
    "union = df_crowd.reset_index().merge(union, on=\"index\")       "
   ]
  },
  {
   "cell_type": "markdown",
   "metadata": {},
   "source": [
    "#### 1.6 Dinning Options"
   ]
  },
  {
   "cell_type": "code",
   "execution_count": 85,
   "metadata": {},
   "outputs": [],
   "source": [
    "df_atributos['Dining options'] = df_atributos['Dining options'].apply(lambda s: re.sub(r\"'\", \"\\\"\", s)).apply(lambda s: re.sub(r'\"\\s*\"','\",\"', s)).apply(json.loads)\n",
    "\n",
    "columnas_dining = df_atributos['Dining options'].explode().unique()[1:].tolist()\n",
    "df_dining = pd.DataFrame([[False] * len(columnas_dining)] * df_atributos.shape[0], columns=columnas_dining)\n",
    "\n",
    "for i, row in enumerate(df_atributos['Dining options']):\n",
    "    for j, val in enumerate(row):\n",
    "        df_dining.loc[i, val] = True\n",
    "\n",
    "df_dining.columns = [\"dining_\" + c for c in df_dining.columns]\n",
    "union = df_dining.reset_index().merge(union, on=\"index\")"
   ]
  },
  {
   "cell_type": "markdown",
   "metadata": {},
   "source": [
    "#### 1.7 Health & safety"
   ]
  },
  {
   "cell_type": "code",
   "execution_count": 86,
   "metadata": {},
   "outputs": [],
   "source": [
    "df_atributos['Health & safety'] = df_atributos['Health & safety'].apply(lambda s: re.sub(r\"'\", \"\\\"\", s)).apply(lambda s: re.sub(r'\"\\s*\"','\",\"', s)).apply(json.loads)\n",
    "\n",
    "columnas_health = df_atributos['Health & safety'].explode().unique()[1:].tolist()\n",
    "\n",
    "df_health = pd.DataFrame([[False] * len(columnas_health)] * df_atributos.shape[0], columns=columnas_health)\n",
    "\n",
    "for i, row in enumerate(df_atributos['Health & safety']):\n",
    "    for j, val in enumerate(row):\n",
    "        df_health.loc[i, val] = True\n",
    "\n",
    "df_health.columns = [\"health_\" + c for c in df_health.columns]\n",
    "union = df_health.reset_index().merge(union, on=\"index\")        \n"
   ]
  },
  {
   "cell_type": "markdown",
   "metadata": {},
   "source": [
    "#### 1.8 Highlights"
   ]
  },
  {
   "cell_type": "code",
   "execution_count": 87,
   "metadata": {},
   "outputs": [],
   "source": [
    "df_atributos['Highlights'] = df_atributos['Highlights'].apply(lambda s: re.sub(r\"'\", \"\\\"\", s)).apply(lambda s: re.sub(r'\"\\s*\"','\",\"', s)).apply(json.loads)\n",
    "\n",
    "columnas_high = df_atributos['Highlights'].explode().unique()[1:].tolist()\n",
    "\n",
    "df_high = pd.DataFrame([[False] * len(columnas_high)] * df_atributos.shape[0], columns=columnas_high)\n",
    "\n",
    "for i, row in enumerate(df_atributos['Highlights']):\n",
    "    for j, val in enumerate(row):\n",
    "        df_high.loc[i, val] = True\n",
    "\n",
    "df_high.columns = [\"high_\" + c for c in df_high.columns]\n",
    "union = df_high.reset_index().merge(union, on=\"index\")"
   ]
  },
  {
   "cell_type": "markdown",
   "metadata": {},
   "source": [
    "#### 1.9 Offerings"
   ]
  },
  {
   "cell_type": "code",
   "execution_count": 88,
   "metadata": {},
   "outputs": [],
   "source": [
    "df_atributos['Offerings'] = df_atributos['Offerings'].apply(lambda r: r.replace(\"Kids'\", \"Kids\"))\n",
    "\n",
    "df_atributos['Offerings'] = df_atributos['Offerings'].apply(lambda s: re.sub(r\"'\", \"\\\"\", s)).apply(lambda s: re.sub(r'\"\\s*\"','\",\"', s)).apply(json.loads)\n",
    "\n",
    "columnas_offerings = df_atributos['Offerings'].explode().unique()[1:].tolist()\n",
    "\n",
    "df_offering = pd.DataFrame([[False] * len(columnas_offerings)] * df_atributos.shape[0], columns=columnas_offerings)\n",
    "\n",
    "for i, row in enumerate(df_atributos['Offerings']):\n",
    "    for j, val in enumerate(row):\n",
    "        df_offering.loc[i, val] = True\n",
    "\n",
    "df_offering.columns = [\"offer_\" + c for c in df_offering.columns]\n",
    "union = df_offering.reset_index().merge(union, on=\"index\")"
   ]
  },
  {
   "cell_type": "markdown",
   "metadata": {},
   "source": [
    "#### 1.10 Payments"
   ]
  },
  {
   "cell_type": "code",
   "execution_count": 89,
   "metadata": {},
   "outputs": [],
   "source": [
    "df_atributos['Payments'] = df_atributos['Payments'].apply(lambda s: re.sub(r\"'\", \"\\\"\", s)).apply(lambda s: re.sub(r'\"\\s*\"','\",\"', s)).apply(json.loads)\n",
    "\n",
    "columnas_payments = df_atributos['Payments'].explode().unique()[1:].tolist()\n",
    "\n",
    "df_payments = pd.DataFrame([[False] * len(columnas_payments)] * df_atributos.shape[0], columns=columnas_payments)\n",
    "\n",
    "for i, row in enumerate(df_atributos['Payments']):\n",
    "    for j, val in enumerate(row):\n",
    "        df_payments.loc[i, val] = True\n",
    "\n",
    "df_payments.columns = [\"pay_\" + c for c in df_payments.columns]\n",
    "union = df_payments.reset_index().merge(union, on=\"index\")"
   ]
  },
  {
   "cell_type": "markdown",
   "metadata": {},
   "source": [
    "#### 1.11 Popular for"
   ]
  },
  {
   "cell_type": "code",
   "execution_count": 90,
   "metadata": {},
   "outputs": [],
   "source": [
    "df_atributos['Popular for'] = df_atributos['Popular for'].apply(lambda s: re.sub(r\"'\", \"\\\"\", s)).apply(lambda s: re.sub(r'\"\\s*\"','\",\"', s)).apply(json.loads)\n",
    "\n",
    "columnas_popular = df_atributos['Popular for'].explode().unique()[1:].tolist()\n",
    "\n",
    "df_popular = pd.DataFrame([[False] * len(columnas_popular)] * df_atributos.shape[0], columns=columnas_popular)\n",
    "\n",
    "for i, row in enumerate(df_atributos['Popular for']):\n",
    "    for j, val in enumerate(row):\n",
    "        df_popular.loc[i, val] = True\n",
    "\n",
    "df_popular.columns = [\"popular_\" + c for c in df_popular.columns]\n",
    "union = df_popular.reset_index().merge(union, on=\"index\")\n",
    "\n"
   ]
  },
  {
   "cell_type": "markdown",
   "metadata": {},
   "source": [
    "#### 1.12 Service Options"
   ]
  },
  {
   "cell_type": "code",
   "execution_count": 91,
   "metadata": {},
   "outputs": [],
   "source": [
    "df_atributos['Service options'] = df_atributos['Service options'].apply(lambda s: re.sub(r\"'\", \"\\\"\", s)).apply(lambda s: re.sub(r'\"\\s*\"','\",\"', s)).apply(json.loads)\n",
    "\n",
    "columnas_service = df_atributos['Service options'].explode().unique()[1:].tolist()\n",
    "\n",
    "df_service = pd.DataFrame([[False] * len(columnas_service)] * df_atributos.shape[0], columns=columnas_service)\n",
    "\n",
    "for i, row in enumerate(df_atributos['Service options']):\n",
    "    for j, val in enumerate(row):\n",
    "        df_service.loc[i, val] = True\n",
    "\n",
    "df_service.columns = [\"service_\" + c for c in df_service.columns]\n",
    "\n",
    "union = df_service.reset_index().merge(union, on=\"index\")"
   ]
  },
  {
   "cell_type": "code",
   "execution_count": 92,
   "metadata": {},
   "outputs": [],
   "source": [
    "# union.to_excel(\"union.xlsx\")"
   ]
  },
  {
   "cell_type": "markdown",
   "metadata": {},
   "source": [
    "# 2. Machine Learning"
   ]
  },
  {
   "cell_type": "markdown",
   "metadata": {},
   "source": [
    "## 2.1 Tareas Previas"
   ]
  },
  {
   "cell_type": "markdown",
   "metadata": {},
   "source": [
    "### 2.1.1 Importaciones"
   ]
  },
  {
   "cell_type": "code",
   "execution_count": 93,
   "metadata": {},
   "outputs": [],
   "source": [
    "import seaborn as sns\n",
    "import xgboost as xgb\n",
    "\n",
    "from sklearn.model_selection import train_test_split, cross_validate, GridSearchCV\n",
    "from sklearn.linear_model import LinearRegression, LogisticRegression\n",
    "\n",
    "from sklearn.ensemble import RandomForestClassifier\n",
    "from sklearn.metrics import mean_squared_error, accuracy_score\n",
    "\n",
    "from sklearn.metrics import accuracy_score\n",
    "from sklearn.metrics import classification_report\n",
    "\n",
    "from sklearn import preprocessing\n",
    "\n",
    "\n",
    "from sklearn.datasets import make_classification\n",
    "from sklearn.preprocessing import OneHotEncoder, LabelEncoder\n",
    "\n",
    "from sklearn.model_selection import train_test_split\n",
    "from sklearn.pipeline import make_pipeline\n",
    "from sklearn.ensemble import HistGradientBoostingClassifier, GradientBoostingRegressor\n",
    "from sklearn.model_selection import cross_validate\n",
    "\n",
    "\n",
    "from sklearn.preprocessing import StandardScaler\n",
    "\n",
    "from sklearn.pipeline import make_pipeline\n",
    "from sklearn.metrics import confusion_matrix, ConfusionMatrixDisplay, classification_report\n",
    "import matplotlib.pyplot as plt\n",
    "\n",
    "from sklearn.tree import DecisionTreeClassifier"
   ]
  },
  {
   "cell_type": "markdown",
   "metadata": {},
   "source": [
    "### 2.1.2 Recorte de Features"
   ]
  },
  {
   "cell_type": "markdown",
   "metadata": {},
   "source": [
    "Subset de columnas features, que son la columna atributos desplegada"
   ]
  },
  {
   "cell_type": "code",
   "execution_count": 94,
   "metadata": {},
   "outputs": [],
   "source": [
    "subset = [col for col in union.columns if '_' in col and col not in ['id_restaurante', 'id_estado', 'id_restaurantes', 'cantidad_resenas'] ]\n"
   ]
  },
  {
   "cell_type": "code",
   "execution_count": 138,
   "metadata": {},
   "outputs": [
    {
     "data": {
      "text/html": [
       "<div>\n",
       "<style scoped>\n",
       "    .dataframe tbody tr th:only-of-type {\n",
       "        vertical-align: middle;\n",
       "    }\n",
       "\n",
       "    .dataframe tbody tr th {\n",
       "        vertical-align: top;\n",
       "    }\n",
       "\n",
       "    .dataframe thead th {\n",
       "        text-align: right;\n",
       "    }\n",
       "</style>\n",
       "<table border=\"1\" class=\"dataframe\">\n",
       "  <thead>\n",
       "    <tr style=\"text-align: right;\">\n",
       "      <th></th>\n",
       "      <th>index</th>\n",
       "      <th>service_Outdoor seating</th>\n",
       "      <th>service_Curbside pickup</th>\n",
       "      <th>service_No-contact delivery</th>\n",
       "      <th>service_Delivery</th>\n",
       "      <th>service_Takeout</th>\n",
       "      <th>service_Dine-in</th>\n",
       "      <th>service_Drive-through</th>\n",
       "      <th>service_In-store pickup</th>\n",
       "      <th>service_In-store shopping</th>\n",
       "      <th>...</th>\n",
       "      <th>id_restaurante</th>\n",
       "      <th>id_estado</th>\n",
       "      <th>nombre</th>\n",
       "      <th>categorias</th>\n",
       "      <th>cantidad_resenas</th>\n",
       "      <th>latitud</th>\n",
       "      <th>longitud</th>\n",
       "      <th>atributos</th>\n",
       "      <th>calificacion</th>\n",
       "      <th>origen</th>\n",
       "    </tr>\n",
       "  </thead>\n",
       "  <tbody>\n",
       "    <tr>\n",
       "      <th>0</th>\n",
       "      <td>0</td>\n",
       "      <td>False</td>\n",
       "      <td>False</td>\n",
       "      <td>False</td>\n",
       "      <td>False</td>\n",
       "      <td>False</td>\n",
       "      <td>False</td>\n",
       "      <td>False</td>\n",
       "      <td>False</td>\n",
       "      <td>False</td>\n",
       "      <td>...</td>\n",
       "      <td>MTSW4McQd7CbVtyjqoe9mw</td>\n",
       "      <td>38.0</td>\n",
       "      <td>St Honore Pastries</td>\n",
       "      <td>Restaurants, Food, Bubble Tea, Coffee &amp; Tea, B...</td>\n",
       "      <td>80</td>\n",
       "      <td>39.955505</td>\n",
       "      <td>-75.155564</td>\n",
       "      <td>{'AcceptsInsurance': None, 'Accessibility': No...</td>\n",
       "      <td>4.000000</td>\n",
       "      <td>0</td>\n",
       "    </tr>\n",
       "    <tr>\n",
       "      <th>1</th>\n",
       "      <td>1</td>\n",
       "      <td>False</td>\n",
       "      <td>False</td>\n",
       "      <td>False</td>\n",
       "      <td>False</td>\n",
       "      <td>False</td>\n",
       "      <td>False</td>\n",
       "      <td>False</td>\n",
       "      <td>False</td>\n",
       "      <td>False</td>\n",
       "      <td>...</td>\n",
       "      <td>kfNv-JZpuN6TVNSO6hHdkw</td>\n",
       "      <td>14.0</td>\n",
       "      <td>Hibachi Express</td>\n",
       "      <td>Steakhouses, Asian Fusion, Restaurants</td>\n",
       "      <td>20</td>\n",
       "      <td>39.904320</td>\n",
       "      <td>-86.053080</td>\n",
       "      <td>{'AcceptsInsurance': None, 'Accessibility': No...</td>\n",
       "      <td>4.000000</td>\n",
       "      <td>0</td>\n",
       "    </tr>\n",
       "    <tr>\n",
       "      <th>2</th>\n",
       "      <td>2</td>\n",
       "      <td>False</td>\n",
       "      <td>False</td>\n",
       "      <td>False</td>\n",
       "      <td>False</td>\n",
       "      <td>False</td>\n",
       "      <td>False</td>\n",
       "      <td>False</td>\n",
       "      <td>False</td>\n",
       "      <td>False</td>\n",
       "      <td>...</td>\n",
       "      <td>sqSqqLy0sN8n2IZrAbzidQ</td>\n",
       "      <td>42.0</td>\n",
       "      <td>Domino's Pizza</td>\n",
       "      <td>Pizza, Chicken Wings, Sandwiches, Restaurants</td>\n",
       "      <td>8</td>\n",
       "      <td>36.464747</td>\n",
       "      <td>-86.659187</td>\n",
       "      <td>{'AcceptsInsurance': None, 'Accessibility': No...</td>\n",
       "      <td>3.500000</td>\n",
       "      <td>0</td>\n",
       "    </tr>\n",
       "    <tr>\n",
       "      <th>3</th>\n",
       "      <td>3</td>\n",
       "      <td>False</td>\n",
       "      <td>False</td>\n",
       "      <td>False</td>\n",
       "      <td>False</td>\n",
       "      <td>False</td>\n",
       "      <td>False</td>\n",
       "      <td>False</td>\n",
       "      <td>False</td>\n",
       "      <td>False</td>\n",
       "      <td>...</td>\n",
       "      <td>aPNXGTDkf-4bjhyMBQxqpQ</td>\n",
       "      <td>38.0</td>\n",
       "      <td>Craft Hall</td>\n",
       "      <td>Eatertainment, Arts &amp; Entertainment, Brewpubs,...</td>\n",
       "      <td>65</td>\n",
       "      <td>39.962582</td>\n",
       "      <td>-75.135657</td>\n",
       "      <td>{'AcceptsInsurance': None, 'Accessibility': No...</td>\n",
       "      <td>3.500000</td>\n",
       "      <td>0</td>\n",
       "    </tr>\n",
       "    <tr>\n",
       "      <th>4</th>\n",
       "      <td>4</td>\n",
       "      <td>False</td>\n",
       "      <td>False</td>\n",
       "      <td>False</td>\n",
       "      <td>False</td>\n",
       "      <td>False</td>\n",
       "      <td>False</td>\n",
       "      <td>False</td>\n",
       "      <td>False</td>\n",
       "      <td>False</td>\n",
       "      <td>...</td>\n",
       "      <td>seKihQKpGGnCeLuELRQPSQ</td>\n",
       "      <td>14.0</td>\n",
       "      <td>Twin Peaks</td>\n",
       "      <td>Sports Bars, American (New), American (Traditi...</td>\n",
       "      <td>257</td>\n",
       "      <td>39.906295</td>\n",
       "      <td>-86.047463</td>\n",
       "      <td>{'AcceptsInsurance': None, 'Accessibility': No...</td>\n",
       "      <td>3.500000</td>\n",
       "      <td>0</td>\n",
       "    </tr>\n",
       "    <tr>\n",
       "      <th>...</th>\n",
       "      <td>...</td>\n",
       "      <td>...</td>\n",
       "      <td>...</td>\n",
       "      <td>...</td>\n",
       "      <td>...</td>\n",
       "      <td>...</td>\n",
       "      <td>...</td>\n",
       "      <td>...</td>\n",
       "      <td>...</td>\n",
       "      <td>...</td>\n",
       "      <td>...</td>\n",
       "      <td>...</td>\n",
       "      <td>...</td>\n",
       "      <td>...</td>\n",
       "      <td>...</td>\n",
       "      <td>...</td>\n",
       "      <td>...</td>\n",
       "      <td>...</td>\n",
       "      <td>...</td>\n",
       "      <td>...</td>\n",
       "      <td>...</td>\n",
       "    </tr>\n",
       "    <tr>\n",
       "      <th>111909</th>\n",
       "      <td>111909</td>\n",
       "      <td>False</td>\n",
       "      <td>True</td>\n",
       "      <td>False</td>\n",
       "      <td>False</td>\n",
       "      <td>True</td>\n",
       "      <td>True</td>\n",
       "      <td>False</td>\n",
       "      <td>False</td>\n",
       "      <td>False</td>\n",
       "      <td>...</td>\n",
       "      <td>0x87d246f0f9aa080f:0x5023e31e61a87f1c</td>\n",
       "      <td>4.0</td>\n",
       "      <td>Subway</td>\n",
       "      <td>['Sandwich shop', 'Caterer', 'Fast food restau...</td>\n",
       "      <td>125</td>\n",
       "      <td>35.491484</td>\n",
       "      <td>-92.034937</td>\n",
       "      <td>{'AcceptsInsurance': None, 'Accessibility': ['...</td>\n",
       "      <td>4.199219</td>\n",
       "      <td>1</td>\n",
       "    </tr>\n",
       "    <tr>\n",
       "      <th>111910</th>\n",
       "      <td>111910</td>\n",
       "      <td>False</td>\n",
       "      <td>False</td>\n",
       "      <td>False</td>\n",
       "      <td>False</td>\n",
       "      <td>True</td>\n",
       "      <td>False</td>\n",
       "      <td>False</td>\n",
       "      <td>False</td>\n",
       "      <td>False</td>\n",
       "      <td>...</td>\n",
       "      <td>0x87d28d5aa640a9c5:0x3c9cc5d3a99de80c</td>\n",
       "      <td>4.0</td>\n",
       "      <td>Simple Simon's Pizza - Vilonia, AR</td>\n",
       "      <td>['Pizza Takeout', 'Italian restaurant', 'Pizza...</td>\n",
       "      <td>38</td>\n",
       "      <td>35.081871</td>\n",
       "      <td>-92.207739</td>\n",
       "      <td>{'AcceptsInsurance': None, 'Accessibility': ['...</td>\n",
       "      <td>4.500000</td>\n",
       "      <td>1</td>\n",
       "    </tr>\n",
       "    <tr>\n",
       "      <th>111911</th>\n",
       "      <td>111911</td>\n",
       "      <td>False</td>\n",
       "      <td>False</td>\n",
       "      <td>False</td>\n",
       "      <td>False</td>\n",
       "      <td>True</td>\n",
       "      <td>False</td>\n",
       "      <td>False</td>\n",
       "      <td>False</td>\n",
       "      <td>False</td>\n",
       "      <td>...</td>\n",
       "      <td>0x88d9dd6e78851851:0x849dcf273582261c</td>\n",
       "      <td>9.0</td>\n",
       "      <td>Subpreme Grill</td>\n",
       "      <td>['Sandwich shop', 'Fast food restaurant', 'Tak...</td>\n",
       "      <td>393</td>\n",
       "      <td>25.506121</td>\n",
       "      <td>-80.438215</td>\n",
       "      <td>{'AcceptsInsurance': None, 'Accessibility': ['...</td>\n",
       "      <td>4.300781</td>\n",
       "      <td>1</td>\n",
       "    </tr>\n",
       "    <tr>\n",
       "      <th>111912</th>\n",
       "      <td>111912</td>\n",
       "      <td>False</td>\n",
       "      <td>False</td>\n",
       "      <td>False</td>\n",
       "      <td>True</td>\n",
       "      <td>True</td>\n",
       "      <td>True</td>\n",
       "      <td>True</td>\n",
       "      <td>False</td>\n",
       "      <td>False</td>\n",
       "      <td>...</td>\n",
       "      <td>0x89c6c4072624d2a9:0x4437b2d55e9a5811</td>\n",
       "      <td>38.0</td>\n",
       "      <td>Dunkin'</td>\n",
       "      <td>['Coffee shop', 'Bagel shop', 'Bakery', 'Break...</td>\n",
       "      <td>348</td>\n",
       "      <td>39.923594</td>\n",
       "      <td>-75.245269</td>\n",
       "      <td>{'AcceptsInsurance': None, 'Accessibility': ['...</td>\n",
       "      <td>4.000000</td>\n",
       "      <td>1</td>\n",
       "    </tr>\n",
       "    <tr>\n",
       "      <th>111913</th>\n",
       "      <td>111913</td>\n",
       "      <td>False</td>\n",
       "      <td>False</td>\n",
       "      <td>False</td>\n",
       "      <td>True</td>\n",
       "      <td>True</td>\n",
       "      <td>True</td>\n",
       "      <td>False</td>\n",
       "      <td>True</td>\n",
       "      <td>True</td>\n",
       "      <td>...</td>\n",
       "      <td>0x54957330545fc915:0xd14f2cb33733fb2b</td>\n",
       "      <td>37.0</td>\n",
       "      <td>Munch</td>\n",
       "      <td>['Deli', 'Coffee shop', 'Takeout Restaurant', ...</td>\n",
       "      <td>44</td>\n",
       "      <td>45.418568</td>\n",
       "      <td>-122.730475</td>\n",
       "      <td>{'AcceptsInsurance': None, 'Accessibility': ['...</td>\n",
       "      <td>4.601562</td>\n",
       "      <td>1</td>\n",
       "    </tr>\n",
       "  </tbody>\n",
       "</table>\n",
       "<p>111914 rows × 169 columns</p>\n",
       "</div>"
      ],
      "text/plain": [
       "         index  service_Outdoor seating  service_Curbside pickup  \\\n",
       "0            0                    False                    False   \n",
       "1            1                    False                    False   \n",
       "2            2                    False                    False   \n",
       "3            3                    False                    False   \n",
       "4            4                    False                    False   \n",
       "...        ...                      ...                      ...   \n",
       "111909  111909                    False                     True   \n",
       "111910  111910                    False                    False   \n",
       "111911  111911                    False                    False   \n",
       "111912  111912                    False                    False   \n",
       "111913  111913                    False                    False   \n",
       "\n",
       "        service_No-contact delivery  service_Delivery  service_Takeout  \\\n",
       "0                             False             False            False   \n",
       "1                             False             False            False   \n",
       "2                             False             False            False   \n",
       "3                             False             False            False   \n",
       "4                             False             False            False   \n",
       "...                             ...               ...              ...   \n",
       "111909                        False             False             True   \n",
       "111910                        False             False             True   \n",
       "111911                        False             False             True   \n",
       "111912                        False              True             True   \n",
       "111913                        False              True             True   \n",
       "\n",
       "        service_Dine-in  service_Drive-through  service_In-store pickup  \\\n",
       "0                 False                  False                    False   \n",
       "1                 False                  False                    False   \n",
       "2                 False                  False                    False   \n",
       "3                 False                  False                    False   \n",
       "4                 False                  False                    False   \n",
       "...                 ...                    ...                      ...   \n",
       "111909             True                  False                    False   \n",
       "111910            False                  False                    False   \n",
       "111911            False                  False                    False   \n",
       "111912             True                   True                    False   \n",
       "111913             True                  False                     True   \n",
       "\n",
       "        service_In-store shopping  ...                         id_restaurante  \\\n",
       "0                           False  ...                 MTSW4McQd7CbVtyjqoe9mw   \n",
       "1                           False  ...                 kfNv-JZpuN6TVNSO6hHdkw   \n",
       "2                           False  ...                 sqSqqLy0sN8n2IZrAbzidQ   \n",
       "3                           False  ...                 aPNXGTDkf-4bjhyMBQxqpQ   \n",
       "4                           False  ...                 seKihQKpGGnCeLuELRQPSQ   \n",
       "...                           ...  ...                                    ...   \n",
       "111909                      False  ...  0x87d246f0f9aa080f:0x5023e31e61a87f1c   \n",
       "111910                      False  ...  0x87d28d5aa640a9c5:0x3c9cc5d3a99de80c   \n",
       "111911                      False  ...  0x88d9dd6e78851851:0x849dcf273582261c   \n",
       "111912                      False  ...  0x89c6c4072624d2a9:0x4437b2d55e9a5811   \n",
       "111913                       True  ...  0x54957330545fc915:0xd14f2cb33733fb2b   \n",
       "\n",
       "        id_estado                              nombre  \\\n",
       "0            38.0                  St Honore Pastries   \n",
       "1            14.0                     Hibachi Express   \n",
       "2            42.0                      Domino's Pizza   \n",
       "3            38.0                          Craft Hall   \n",
       "4            14.0                          Twin Peaks   \n",
       "...           ...                                 ...   \n",
       "111909        4.0                              Subway   \n",
       "111910        4.0  Simple Simon's Pizza - Vilonia, AR   \n",
       "111911        9.0                      Subpreme Grill   \n",
       "111912       38.0                             Dunkin'   \n",
       "111913       37.0                               Munch   \n",
       "\n",
       "                                               categorias  cantidad_resenas  \\\n",
       "0       Restaurants, Food, Bubble Tea, Coffee & Tea, B...                80   \n",
       "1                  Steakhouses, Asian Fusion, Restaurants                20   \n",
       "2           Pizza, Chicken Wings, Sandwiches, Restaurants                 8   \n",
       "3       Eatertainment, Arts & Entertainment, Brewpubs,...                65   \n",
       "4       Sports Bars, American (New), American (Traditi...               257   \n",
       "...                                                   ...               ...   \n",
       "111909  ['Sandwich shop', 'Caterer', 'Fast food restau...               125   \n",
       "111910  ['Pizza Takeout', 'Italian restaurant', 'Pizza...                38   \n",
       "111911  ['Sandwich shop', 'Fast food restaurant', 'Tak...               393   \n",
       "111912  ['Coffee shop', 'Bagel shop', 'Bakery', 'Break...               348   \n",
       "111913  ['Deli', 'Coffee shop', 'Takeout Restaurant', ...                44   \n",
       "\n",
       "          latitud    longitud  \\\n",
       "0       39.955505  -75.155564   \n",
       "1       39.904320  -86.053080   \n",
       "2       36.464747  -86.659187   \n",
       "3       39.962582  -75.135657   \n",
       "4       39.906295  -86.047463   \n",
       "...           ...         ...   \n",
       "111909  35.491484  -92.034937   \n",
       "111910  35.081871  -92.207739   \n",
       "111911  25.506121  -80.438215   \n",
       "111912  39.923594  -75.245269   \n",
       "111913  45.418568 -122.730475   \n",
       "\n",
       "                                                atributos  calificacion  \\\n",
       "0       {'AcceptsInsurance': None, 'Accessibility': No...      4.000000   \n",
       "1       {'AcceptsInsurance': None, 'Accessibility': No...      4.000000   \n",
       "2       {'AcceptsInsurance': None, 'Accessibility': No...      3.500000   \n",
       "3       {'AcceptsInsurance': None, 'Accessibility': No...      3.500000   \n",
       "4       {'AcceptsInsurance': None, 'Accessibility': No...      3.500000   \n",
       "...                                                   ...           ...   \n",
       "111909  {'AcceptsInsurance': None, 'Accessibility': ['...      4.199219   \n",
       "111910  {'AcceptsInsurance': None, 'Accessibility': ['...      4.500000   \n",
       "111911  {'AcceptsInsurance': None, 'Accessibility': ['...      4.300781   \n",
       "111912  {'AcceptsInsurance': None, 'Accessibility': ['...      4.000000   \n",
       "111913  {'AcceptsInsurance': None, 'Accessibility': ['...      4.601562   \n",
       "\n",
       "        origen  \n",
       "0            0  \n",
       "1            0  \n",
       "2            0  \n",
       "3            0  \n",
       "4            0  \n",
       "...        ...  \n",
       "111909       1  \n",
       "111910       1  \n",
       "111911       1  \n",
       "111912       1  \n",
       "111913       1  \n",
       "\n",
       "[111914 rows x 169 columns]"
      ]
     },
     "execution_count": 138,
     "metadata": {},
     "output_type": "execute_result"
    }
   ],
   "source": [
    "union"
   ]
  },
  {
   "cell_type": "markdown",
   "metadata": {},
   "source": [
    "Seleccionamos las que tienen una tasa de ocurrencia del 5% o más"
   ]
  },
  {
   "cell_type": "code",
   "execution_count": 95,
   "metadata": {},
   "outputs": [],
   "source": [
    "tasa = pd.Series(union[subset].sum()/len(union))\n",
    "columnas = tasa[tasa >=0.05].index.tolist()"
   ]
  },
  {
   "cell_type": "markdown",
   "metadata": {},
   "source": [
    "Elegimos las columnas que vamos a utilizar"
   ]
  },
  {
   "cell_type": "code",
   "execution_count": 96,
   "metadata": {},
   "outputs": [],
   "source": [
    "columnas_filtradas = ['index']  + columnas + pd.Series(union.columns).reset_index().loc[159:,0].tolist()\n",
    "df = union[columnas_filtradas]"
   ]
  },
  {
   "cell_type": "code",
   "execution_count": 97,
   "metadata": {},
   "outputs": [],
   "source": [
    "df_atributos_filtrado = df.reset_index().merge(df_restaurantes.reset_index(), on='index')"
   ]
  },
  {
   "cell_type": "code",
   "execution_count": 98,
   "metadata": {},
   "outputs": [
    {
     "data": {
      "text/plain": [
       "array([0, 2, 3, 4, 1])"
      ]
     },
     "execution_count": 98,
     "metadata": {},
     "output_type": "execute_result"
    }
   ],
   "source": [
    "le = LabelEncoder()\n",
    "le.fit([\"California\", \"Florida\",\"New York\", \"Pensilvania\", \"Texas\"])\n",
    "\n",
    "le.transform([\"California\",\"New York\", \"Pensilvania\", \"Texas\",  \"Florida\"])"
   ]
  },
  {
   "cell_type": "code",
   "execution_count": 99,
   "metadata": {},
   "outputs": [],
   "source": [
    "encoder = OneHotEncoder(handle_unknown='ignore', sparse_output=False)\n",
    "# enc.fit(range(1,51).reshape(-1,1))\n",
    "# enc.fit(df_restaurantes['id_estado'].reset_index())\n",
    "\n",
    "one_hot_encoded = encoder.fit_transform(df[['id_estado']].astype(int))\n",
    "# one_hot_encoded\n",
    "df_one_hot_encoded = pd.DataFrame(one_hot_encoded, columns=encoder.get_feature_names_out(['id_estado']))\n",
    "# df[['id_estado']]\n",
    "\n",
    "df = pd.concat([df, df_one_hot_encoded], axis=1)"
   ]
  },
  {
   "cell_type": "code",
   "execution_count": 100,
   "metadata": {},
   "outputs": [],
   "source": [
    "columnas_service = [col for col in df_atributos_filtrado.columns if col.startswith('service')]\n",
    "\n",
    "columnas_access = [col for col in df_atributos_filtrado.columns if col.startswith('access')]\n",
    "columnas_amen = [col for col in df_atributos_filtrado.columns if col.startswith('amen')]\n",
    "columnas_atmos = [col for col in df_atributos_filtrado.columns if col.startswith('atmos')]\n",
    "columnas_crowd = [col for col in df_atributos_filtrado.columns if col.startswith('crowd')]\n",
    "columnas_dining = [col for col in df_atributos_filtrado.columns if col.startswith('dining')]\n",
    "columnas_health = [col for col in df_atributos_filtrado.columns if col.startswith('health')]\n",
    "columnas_high = [col for col in df_atributos_filtrado.columns if col.startswith('high')]\n",
    "columnas_offer = [col for col in df_atributos_filtrado.columns if col.startswith('offer')]\n",
    "columnas_pay = [col for col in df_atributos_filtrado.columns if col.startswith('pay')]\n",
    "columnas_popular = [col for col in df_atributos_filtrado.columns if col.startswith('popular')]\n",
    "\n",
    "\n",
    "# with open('service_sql.txt', 'w') as f:\n",
    "#     for i, row in df_atributos_filtrado.iterrows():\n",
    "#         for c in columnas_service:\n",
    "#             if df_atributos_filtrado.loc[i, c] == 1:\n",
    "#                 f.write(f\"('{df_atributos_filtrado.loc[i,'id_restaurante']}', '{c[8:]}');\\n\")\n",
    "\n",
    "# with open('access_sql.txt', 'w') as f:\n",
    "#     for i, row in df_atributos_filtrado.iterrows():\n",
    "#         for c in columnas_access:\n",
    "#             if df_atributos_filtrado.loc[i, c] == 1:\n",
    "#                 f.write(f\"('{df_atributos_filtrado.loc[i,'id_restaurante']}', '{c[7:]}');\\n\")\n",
    "\n",
    "# with open('amenities_sql.txt', 'w') as f:\n",
    "#     for i, row in df_atributos_filtrado.iterrows():\n",
    "#         for c in columnas_amen:\n",
    "#             if df_atributos_filtrado.loc[i, c] == 1:\n",
    "#                 f.write(f\"('{df_atributos_filtrado.loc[i,'id_restaurante']}', '{c[5:]}');\\n\")                \n",
    "\n",
    "# with open('atmosphere_sql.txt', 'w') as f:\n",
    "#     for i, row in df_atributos_filtrado.iterrows():\n",
    "#         for c in columnas_atmos:\n",
    "#             if df_atributos_filtrado.loc[i, c] == 1:\n",
    "#                 f.write(f\"('{df_atributos_filtrado.loc[i,'id_restaurante']}', '{c[6:]}');\\n\")          \n",
    "\n",
    "# with open('crowd_sql.txt', 'w') as f:\n",
    "#     for i, row in df_atributos_filtrado.iterrows():\n",
    "#         for c in columnas_crowd:\n",
    "#             if df_atributos_filtrado.loc[i, c] == 1:\n",
    "#                 f.write(f\"('{df_atributos_filtrado.loc[i,'id_restaurante']}', '{c[6:]}');\\n\") \n",
    "\n",
    "# with open('dining_sql.txt', 'w') as f:\n",
    "#     for i, row in df_atributos_filtrado.iterrows():\n",
    "#         for c in columnas_dining:\n",
    "#             if df_atributos_filtrado.loc[i, c] == 1:\n",
    "#                 f.write(f\"('{df_atributos_filtrado.loc[i,'id_restaurante']}', '{c[7:]}');\\n\") \n",
    "\n",
    "# with open('health_sql.txt', 'w') as f:\n",
    "#     for i, row in df_atributos_filtrado.iterrows():\n",
    "#         for c in columnas_health:\n",
    "#             if df_atributos_filtrado.loc[i, c] == 1:\n",
    "#                 f.write(f\"('{df_atributos_filtrado.loc[i,'id_restaurante']}', '{c[7:]}');\\n\")\n",
    "\n",
    "# with open('high_sql.txt', 'w') as f:\n",
    "#     for i, row in df_atributos_filtrado.iterrows():\n",
    "#         for c in columnas_high:\n",
    "#             if df_atributos_filtrado.loc[i, c] == 1:\n",
    "#                 f.write(f\"('{df_atributos_filtrado.loc[i,'id_restaurante']}', '{c[5:]}');\\n\")\n",
    "\n",
    "# with open('offer_sql.txt', 'w') as f:\n",
    "#     for i, row in df_atributos_filtrado.iterrows():\n",
    "#         for c in columnas_offer:\n",
    "#             if df_atributos_filtrado.loc[i, c] == 1:\n",
    "#                 f.write(f\"('{df_atributos_filtrado.loc[i,'id_restaurante']}', '{c[6:]}');\\n\")\n",
    "\n",
    "# with open('pay_sql.txt', 'w') as f:\n",
    "#     for i, row in df_atributos_filtrado.iterrows():\n",
    "#         for c in columnas_pay:\n",
    "#             if df_atributos_filtrado.loc[i, c] == 1:\n",
    "#                 f.write(f\"('{df_atributos_filtrado.loc[i,'id_restaurante']}', '{c[4:]}');\\n\")\n",
    "\n",
    "# with open('popular_sql.txt', 'w') as f:\n",
    "#     for i, row in df_atributos_filtrado.iterrows():\n",
    "#         for c in columnas_popular:\n",
    "#             if df_atributos_filtrado.loc[i, c] == 1:\n",
    "#                 f.write(f\"('{df_atributos_filtrado.loc[i,'id_restaurante']}', '{c[8:]}');\\n\")\n"
   ]
  },
  {
   "cell_type": "code",
   "execution_count": 101,
   "metadata": {},
   "outputs": [],
   "source": [
    "# import pandas as pd\n",
    "\n",
    "# # Definir las categorías y las correspondientes subcadenas de corte\n",
    "# categorias = {\n",
    "#     'service': 8,\n",
    "#     'access': 7,\n",
    "#     'amen': 5,\n",
    "#     'atmos': 6,\n",
    "#     'crowd': 6,\n",
    "#     'dining': 7,\n",
    "#     'health': 7,\n",
    "#     'high': 5,\n",
    "#     'offer': 6,\n",
    "#     'pay': 4,\n",
    "#     'popular': 8\n",
    "# }\n",
    "\n",
    "# # Filtrar columnas por cada categoría\n",
    "# columnas = {cat: [col for col in df_atributos_filtrado.columns if col.startswith(cat)] for cat in categorias.keys()}\n",
    "\n",
    "# # Variable para seguir la numeración de las inserciones\n",
    "# id_counter = 1\n",
    "\n",
    "# # Crear las instrucciones SQL en un archivo\n",
    "# with open('inserts_atributos.sql', 'w') as f:\n",
    "#     for cat, substr_len in categorias.items():\n",
    "#         for i, row in df_atributos_filtrado.iterrows():\n",
    "#             for col in columnas[cat]:\n",
    "#                 if df_atributos_filtrado.loc[i, col] == 1:\n",
    "#                     f.write(f\"INSERT INTO atributos VALUES ({id_counter}, '{df_atributos_filtrado.loc[i,'id_restaurante']}', '{cat}', '{col[substr_len:]}');\\n\")\n",
    "#                     id_counter += 1\n"
   ]
  },
  {
   "cell_type": "markdown",
   "metadata": {},
   "source": [
    "### 2.1.3 Downgrade de calificacion"
   ]
  },
  {
   "cell_type": "markdown",
   "metadata": {},
   "source": [
    "Preparación del umbral, que divida a la calificación de positiva a negativa."
   ]
  },
  {
   "cell_type": "code",
   "execution_count": 102,
   "metadata": {},
   "outputs": [
    {
     "data": {
      "text/plain": [
       "[]"
      ]
     },
     "execution_count": 102,
     "metadata": {},
     "output_type": "execute_result"
    },
    {
     "data": {
      "image/png": "[encoded data removed]",
      "text/plain": [
       "<Figure size 640x480 with 1 Axes>"
      ]
     },
     "metadata": {},
     "output_type": "display_data"
    }
   ],
   "source": [
    "fig = sns.boxplot(df_restaurantes['calificacion'])\n",
    "fig.plot()"
   ]
  },
  {
   "cell_type": "code",
   "execution_count": 103,
   "metadata": {},
   "outputs": [
    {
     "data": {
      "text/plain": [
       "count    111914.000000\n",
       "mean          4.053937\n",
       "std           0.665589\n",
       "min           1.000000\n",
       "25%           3.699219\n",
       "50%           4.199219\n",
       "75%           4.500000\n",
       "max           5.000000\n",
       "Name: calificacion, dtype: float64"
      ]
     },
     "execution_count": 103,
     "metadata": {},
     "output_type": "execute_result"
    }
   ],
   "source": [
    "df['calificacion'].describe()"
   ]
  },
  {
   "cell_type": "markdown",
   "metadata": {},
   "source": [
    "Decidimos utilizar el promedio como umbral"
   ]
  },
  {
   "cell_type": "code",
   "execution_count": 104,
   "metadata": {},
   "outputs": [],
   "source": [
    "umbral = df['calificacion'].mean()"
   ]
  },
  {
   "cell_type": "code",
   "execution_count": 105,
   "metadata": {},
   "outputs": [],
   "source": [
    "df.loc[:, 'calificacion'] = df.loc[:, 'calificacion'].apply(lambda x: 1 if x >= umbral else 0)"
   ]
  },
  {
   "cell_type": "code",
   "execution_count": 106,
   "metadata": {},
   "outputs": [],
   "source": [
    "df.loc[:, 'calificacion'] = df.loc[:, 'calificacion'].astype(int)"
   ]
  },
  {
   "cell_type": "markdown",
   "metadata": {},
   "source": [
    "### 2.1.4 Selección de Features para el ML"
   ]
  },
  {
   "cell_type": "code",
   "execution_count": 107,
   "metadata": {},
   "outputs": [],
   "source": [
    "dropear = [\"nombre\",\"index\", \"id_restaurante\",\"categorias\", \"atributos\",\"id_estado\", \"cantidad_resenas\"]\n",
    "# dropear = [\"index\", \"id_restaurante\",\"categorias\", \"atributos\", \"nombre\"]\n",
    "\n",
    "df = df.drop(columns=dropear)\n"
   ]
  },
  {
   "cell_type": "markdown",
   "metadata": {},
   "source": [
    "### 2.1.5 Over y Under Sampling"
   ]
  },
  {
   "cell_type": "code",
   "execution_count": 108,
   "metadata": {},
   "outputs": [
    {
     "data": {
      "text/plain": [
       "calificacion\n",
       "1.0    62971\n",
       "0.0    48943\n",
       "Name: count, dtype: int64"
      ]
     },
     "execution_count": 108,
     "metadata": {},
     "output_type": "execute_result"
    }
   ],
   "source": [
    "df['calificacion'].value_counts()"
   ]
  },
  {
   "cell_type": "code",
   "execution_count": 109,
   "metadata": {},
   "outputs": [],
   "source": [
    "df = pd.concat([df.query(\"calificacion == 1\").sample(48943),df.query(\"calificacion == 0\")])"
   ]
  },
  {
   "cell_type": "code",
   "execution_count": 110,
   "metadata": {},
   "outputs": [
    {
     "data": {
      "text/plain": [
       "calificacion\n",
       "1.0    48943\n",
       "0.0    48943\n",
       "Name: count, dtype: int64"
      ]
     },
     "execution_count": 110,
     "metadata": {},
     "output_type": "execute_result"
    }
   ],
   "source": [
    "df['calificacion'].value_counts()"
   ]
  },
  {
   "cell_type": "code",
   "execution_count": 111,
   "metadata": {},
   "outputs": [],
   "source": [
    "# X_subway = df.query(\"nombre == 'Subway'\").drop(['calificacion', 'nombre'], axis=1)\n",
    "# y_subway = df.query(\"nombre == 'Subway'\").loc[:, 'calificacion']\n",
    "# X_nsubway = df.query(\"nombre != 'Subway'\").drop(['calificacion', 'nombre'], axis=1)\n",
    "# y_nsubway = df.query(\"nombre != 'Subway'\").loc[:, 'calificacion']\n",
    "\n",
    "# X_train, X_test, y_train, y_test = X_nsubway, X_subway, y_nsubway, y_subway"
   ]
  },
  {
   "cell_type": "code",
   "execution_count": 112,
   "metadata": {},
   "outputs": [],
   "source": [
    "df[df.columns[:-4]] = df[df.columns[:-4]].astype(int)"
   ]
  },
  {
   "cell_type": "markdown",
   "metadata": {},
   "source": [
    "## 2.2 Modelos"
   ]
  },
  {
   "cell_type": "markdown",
   "metadata": {},
   "source": [
    "### 2.2.1 Regresión Logística"
   ]
  },
  {
   "cell_type": "code",
   "execution_count": 113,
   "metadata": {},
   "outputs": [],
   "source": [
    "scores = dict()\n",
    "\n",
    "X = df.drop(['calificacion'], axis=1)\n",
    "y = df['calificacion'] "
   ]
  },
  {
   "cell_type": "code",
   "execution_count": 114,
   "metadata": {},
   "outputs": [],
   "source": [
    "# X = df[['atmos_Cozy', 'longitud', 'latitud', 'origen', 'service_Outdoor seating', 'offer_Small plates',\n",
    "#         'dining_Lunch', 'service_Dine-in', 'dining_Dessert', 'service_No-contact delivery',\n",
    "#         'access_Wheelchair accessible entrance', 'pay_NFC mobile payments', 'service_Curbside pickup',\n",
    "#         'offer_Kids menu', 'crowd_Groups', 'crowd_Tourists', 'health_Mask required', 'offer_Coffee',\n",
    "#         'offer_Vegetarian options', 'service_Delivery', 'atmos_Casual', 'service_Takeout',\n",
    "#         'offer_Late-night food', 'amen_Good for kids', 'offer_Comfort food', 'pay_Credit cards',\n",
    "#         'health_Staff wear masks', 'service_Drive-through', 'access_Wheelchair accessible parking lot',\n",
    "#         'offer_Healthy options', 'high_Fast service', 'amen_High chairs', 'crowd_College students',\n",
    "#         'health_Staff required to disinfect surfaces between visits', 'pay_Debit cards', 'popular_Lunch',\n",
    "#         'amen_Restroom', 'access_Wheelchair accessible seating', 'access_Wheelchair accessible restroom',\n",
    "#         'dining_Catering', 'popular_Solo dining', 'offer_Quick bite', 'popular_Dinner', 'dining_Seating',\n",
    "#         'crowd_Family-friendly', 'popular_Breakfast', 'dining_Breakfast', 'amen_Bar onsite', 'amen_Wi-Fi',\n",
    "#         'id_estado_13']]"
   ]
  },
  {
   "cell_type": "code",
   "execution_count": 115,
   "metadata": {},
   "outputs": [
    {
     "name": "stdout",
     "output_type": "stream",
     "text": [
      "Mejores hiperparámetros: {'logisticregression__C': 0.1, 'logisticregression__class_weight': 'balanced', 'logisticregression__fit_intercept': True, 'logisticregression__solver': 'saga'}\n"
     ]
    },
    {
     "data": {
      "image/png": "[encoded data removed]",
      "text/plain": [
       "<Figure size 640x480 with 2 Axes>"
      ]
     },
     "metadata": {},
     "output_type": "display_data"
    },
    {
     "name": "stdout",
     "output_type": "stream",
     "text": [
      "              precision    recall  f1-score   support\n",
      "\n",
      "           0       0.71      0.76      0.73     12154\n",
      "           1       0.74      0.70      0.72     12318\n",
      "\n",
      "    accuracy                           0.73     24472\n",
      "   macro avg       0.73      0.73      0.73     24472\n",
      "weighted avg       0.73      0.73      0.73     24472\n",
      "\n",
      "Validación: 0.7937218692854449\n",
      "Train: 0.7953194328147319\n"
     ]
    }
   ],
   "source": [
    "\n",
    "# Dividir los datos en conjuntos de entrenamiento y prueba\n",
    "X_train, X_test, y_train, y_test = train_test_split(X, y, random_state=42)\n",
    "\n",
    "# Crear una tubería (pipeline) con el escalador y el modelo de regresión logística\n",
    "pipe = make_pipeline(StandardScaler(), LogisticRegression())\n",
    "\n",
    "model = LogisticRegression()\n",
    "\n",
    "param_grid = {\n",
    "    'logisticregression__C': [0.1],\n",
    "    # 'logisticregression__penalty': ['l2', None],\n",
    "    'logisticregression__solver': ['lbfgs', 'liblinear', 'sag', 'saga'],\n",
    "    # 'logisticregression__max_iter': [100, 200, 300],\n",
    "    # 'logisticregression__tol': [1e-4, 1e-3, 1e-2],\n",
    "    'logisticregression__class_weight': ['balanced'],\n",
    "    'logisticregression__fit_intercept': [True]\n",
    "}\n",
    "\n",
    "# Crear el objeto GridSearchCV\n",
    "grid_search = GridSearchCV(pipe, param_grid, cv=5, scoring='roc_auc')\n",
    "\n",
    "# Ajustar el GridSearchCV con los datos de entrenamiento\n",
    "grid_search.fit(X_train, y_train)\n",
    "\n",
    "# Imprimir los mejores hiperparámetros encontrados\n",
    "print(f\"Mejores hiperparámetros: {grid_search.best_params_}\")\n",
    "\n",
    "# Evaluar el modelo con los mejores hiperparámetros en el conjunto de prueba\n",
    "best_pipe = grid_search.best_estimator_\n",
    "\n",
    "# Guardar las puntuaciones\n",
    "scores = dict()\n",
    "scores[\"Logistic Regression\"] = best_pipe.score(X_test, y_test)\n",
    "\n",
    "# Matriz de confusión\n",
    "cm = confusion_matrix(y_test, best_pipe.predict(X_test))\n",
    "\n",
    "# Mostrar la matriz de confusión\n",
    "disp = ConfusionMatrixDisplay(confusion_matrix=cm)\n",
    "disp.plot()\n",
    "plt.show()\n",
    "\n",
    "# Imprimir el reporte de clasificación\n",
    "print(classification_report(y_test, best_pipe.predict(X_test)))\n",
    "\n",
    "# Validación cruzada\n",
    "results = cross_validate(best_pipe, X_train, y_train, cv=5, return_train_score=True, scoring='roc_auc')\n",
    "\n",
    "print('Validación:', results['test_score'].mean())\n",
    "print('Train:', results['train_score'].mean())\n"
   ]
  },
  {
   "cell_type": "code",
   "execution_count": 116,
   "metadata": {},
   "outputs": [
    {
     "name": "stdout",
     "output_type": "stream",
     "text": [
      "0.7439931350114416\n"
     ]
    },
    {
     "data": {
      "image/png": "[encoded data removed]",
      "text/plain": [
       "<Figure size 640x480 with 2 Axes>"
      ]
     },
     "metadata": {},
     "output_type": "display_data"
    },
    {
     "name": "stdout",
     "output_type": "stream",
     "text": [
      "              precision    recall  f1-score   support\n",
      "\n",
      "           0       0.75      0.73      0.74     12154\n",
      "           1       0.74      0.75      0.75     12318\n",
      "\n",
      "    accuracy                           0.74     24472\n",
      "   macro avg       0.74      0.74      0.74     24472\n",
      "weighted avg       0.74      0.74      0.74     24472\n",
      "\n"
     ]
    }
   ],
   "source": [
    "\n",
    "X_train, X_test, y_train, y_test = train_test_split(X, y, random_state=42)\n",
    "\n",
    "pipe = make_pipeline(StandardScaler(), RandomForestClassifier())\n",
    "# pipe = make_pipeline(StandardScaler(), LogisticRegression())\n",
    "# pipe = make_pipeline(MaxAbsScaler(), LogisticRegression())\n",
    "# pipe = make_pipeline(StandardScaler(), HistGradientBoostingClassifier(max_iter=100, learning_rate=0.1))\n",
    "\n",
    "pipe.fit(X_train, y_train)  # apply scaling on training data\n",
    "scores[\"Random Forest Classifier\"]= pipe.score(X_test, y_test)\n",
    "\n",
    "\n",
    "print(pipe.score(X_test, y_test))  # \n",
    "\n",
    "cm = confusion_matrix(y_test, pipe.predict(X_test))\n",
    "\n",
    "disp = ConfusionMatrixDisplay(confusion_matrix=cm)\n",
    "\n",
    "disp.plot()\n",
    "plt.show()\n",
    "print(classification_report(y_test, pipe.predict(X_test)))"
   ]
  },
  {
   "cell_type": "code",
   "execution_count": 117,
   "metadata": {},
   "outputs": [
    {
     "name": "stdout",
     "output_type": "stream",
     "text": [
      "0.7461997384766264\n"
     ]
    },
    {
     "data": {
      "image/png": "[encoded data removed]",
      "text/plain": [
       "<Figure size 640x480 with 2 Axes>"
      ]
     },
     "metadata": {},
     "output_type": "display_data"
    },
    {
     "name": "stdout",
     "output_type": "stream",
     "text": [
      "              precision    recall  f1-score   support\n",
      "\n",
      "           0       0.75      0.74      0.74     12154\n",
      "           1       0.75      0.75      0.75     12318\n",
      "\n",
      "    accuracy                           0.75     24472\n",
      "   macro avg       0.75      0.75      0.75     24472\n",
      "weighted avg       0.75      0.75      0.75     24472\n",
      "\n"
     ]
    }
   ],
   "source": [
    "\n",
    "X_train, X_test, y_train, y_test = train_test_split(X, y, random_state=42)\n",
    "\n",
    "# pipe = make_pipeline(StandardScaler(), RandomForestClassifier())\n",
    "# pipe = make_pipeline(StandardScaler(), LogisticRegression())\n",
    "# pipe = make_pipeline(MaxAbsScaler(), LogisticRegression())\n",
    "pipe = make_pipeline(StandardScaler(), HistGradientBoostingClassifier(max_iter=100, learning_rate=0.1))\n",
    "\n",
    "pipe.fit(X_train, y_train)  # apply scaling on training data\n",
    "scores[\"HistGradientBoostingClassifier\"] = pipe.score(X_test, y_test)\n",
    "\n",
    "print(pipe.score(X_test, y_test))  # \n",
    "\n",
    "cm = confusion_matrix(y_test, pipe.predict(X_test))\n",
    "\n",
    "disp = ConfusionMatrixDisplay(confusion_matrix=cm)\n",
    "\n",
    "disp.plot()\n",
    "plt.show()\n",
    "print(classification_report(y_test, pipe.predict(X_test)))"
   ]
  },
  {
   "cell_type": "code",
   "execution_count": 118,
   "metadata": {},
   "outputs": [
    {
     "name": "stdout",
     "output_type": "stream",
     "text": [
      "Mean Squared Error (Regresión): 0.18743516059193177\n",
      "Accuracy (Clasificación): 0.7432984635501798\n",
      "              precision    recall  f1-score   support\n",
      "\n",
      "           0       0.75      0.73      0.74     12154\n",
      "           1       0.74      0.75      0.75     12318\n",
      "\n",
      "    accuracy                           0.74     24472\n",
      "   macro avg       0.74      0.74      0.74     24472\n",
      "weighted avg       0.74      0.74      0.74     24472\n",
      "\n"
     ]
    }
   ],
   "source": [
    "\n",
    "# X = df.drop(['calificacion'], axis=1)\n",
    "# y = df['calificacion'] \n",
    "\n",
    "# Estandarizar las características\n",
    "scaler = preprocessing.StandardScaler()\n",
    "X_train_scaled = scaler.fit_transform(X_train)\n",
    "X_test_scaled = scaler.transform(X_test)\n",
    "\n",
    "# Modelo de regresión\n",
    "reg_model = LinearRegression()\n",
    "reg_model.fit(X_train_scaled, y_train)\n",
    "\n",
    "# Predecir en el conjunto de prueba\n",
    "y_pred_reg = reg_model.predict(X_test_scaled)\n",
    "\n",
    "# Calcular el error cuadrático medio (MSE)\n",
    "mse = mean_squared_error(y_test, y_pred_reg)\n",
    "\n",
    "\n",
    "\n",
    "print(f'Mean Squared Error (Regresión): {mse}')\n",
    "\n",
    "# Modelo de clasificación\n",
    "clf_model = RandomForestClassifier(random_state=42)\n",
    "clf_model.fit(X_train, y_train)\n",
    "y_pred_clf = clf_model.predict(X_test)\n",
    "accuracy = accuracy_score(y_test, y_pred_clf)\n",
    "print(f'Accuracy (Clasificación): {accuracy}')\n",
    "scores[\"Random Forest 2\"] = accuracy_score(y_test, y_pred_clf)\n",
    "random_forest_accuracy = accuracy\n",
    "\n",
    "\n",
    "# Print classification report\n",
    "print(classification_report(y_test, y_pred_clf))\n"
   ]
  },
  {
   "cell_type": "code",
   "execution_count": 119,
   "metadata": {},
   "outputs": [
    {
     "name": "stdout",
     "output_type": "stream",
     "text": [
      "Accuracy: 0.7291347430789662\n",
      "              precision    recall  f1-score   support\n",
      "\n",
      "           0       0.71      0.76      0.73      9672\n",
      "           1       0.75      0.70      0.72      9906\n",
      "\n",
      "    accuracy                           0.73     19578\n",
      "   macro avg       0.73      0.73      0.73     19578\n",
      "weighted avg       0.73      0.73      0.73     19578\n",
      "\n",
      "Confusion Matrix:\n",
      "[[7336 2336]\n",
      " [2967 6939]]\n"
     ]
    }
   ],
   "source": [
    "# import pandas as pd\n",
    "# from sklearn.model_selection import train_test_split\n",
    "# from sklearn.preprocessing import StandardScaler\n",
    "# from sklearn.linear_model import LogisticRegression\n",
    "# from sklearn.metrics import accuracy_score, classification_report, confusion_matrix\n",
    "\n",
    "# # Supongamos que df es tu DataFrame y 'calificacion' es la columna objetivo dicotómica\n",
    "\n",
    "# # Dividir las características y la variable objetivo\n",
    "# X = df.drop(['calificacion'], axis=1)\n",
    "# y = df['calificacion']\n",
    "\n",
    "# Dividir los datos en conjuntos de entrenamiento y prueba\n",
    "X_train, X_test, y_train, y_test = train_test_split(X, y, test_size=0.2, random_state=42)\n",
    "\n",
    "# Estandarizar las características\n",
    "scaler = StandardScaler()\n",
    "X_train_scaled = scaler.fit_transform(X_train)\n",
    "X_test_scaled = scaler.transform(X_test)\n",
    "\n",
    "# Modelo de regresión logística\n",
    "log_reg = LogisticRegression()\n",
    "log_reg.fit(X_train_scaled, y_train)\n",
    "\n",
    "# Predecir en el conjunto de prueba\n",
    "y_pred = log_reg.predict(X_test_scaled)\n",
    "\n",
    "# Calcular la precisión y otros métricos\n",
    "accuracy = accuracy_score(y_test, y_pred)\n",
    "scores[\"Logistic Regression 2\"] = accuracy_score(y_test, y_pred)\n",
    "print(f\"Accuracy: {accuracy}\")\n",
    "\n",
    "# Imprimir el reporte de clasificación\n",
    "print(classification_report(y_test, y_pred))\n",
    "\n",
    "# Matriz de confusión\n",
    "conf_matrix = confusion_matrix(y_test, y_pred)\n",
    "print(f\"Confusion Matrix:\\n{conf_matrix}\")\n"
   ]
  },
  {
   "cell_type": "code",
   "execution_count": 136,
   "metadata": {},
   "outputs": [
    {
     "data": {
      "image/png": "[encoded data removed]",
      "text/plain": [
       "<Figure size 1200x800 with 1 Axes>"
      ]
     },
     "metadata": {},
     "output_type": "display_data"
    },
    {
     "name": "stdout",
     "output_type": "stream",
     "text": [
      "['atmos_Cozy', 'longitud', 'latitud', 'origen', 'dining_Lunch', 'offer_Small plates', 'service_Dine-in', 'service_Outdoor seating', 'service_No-contact delivery', 'dining_Dessert', 'service_Curbside pickup', 'pay_NFC mobile payments', 'crowd_Groups', 'offer_Kids menu', 'crowd_Tourists', 'pay_Credit cards', 'health_Mask required', 'access_Wheelchair accessible entrance', 'service_Delivery', 'service_Takeout', 'offer_Coffee', 'amen_Good for kids', 'offer_Late-night food', 'atmos_Casual', 'offer_Healthy options', 'access_Wheelchair accessible parking lot', 'offer_Vegetarian options', 'offer_Comfort food', 'high_Fast service', 'health_Staff wear masks', 'amen_High chairs', 'health_Staff required to disinfect surfaces between visits', 'offer_Quick bite', 'pay_Debit cards', 'crowd_College students', 'service_Drive-through', 'dining_Catering', 'popular_Dinner', 'access_Wheelchair accessible restroom', 'amen_Restroom', 'popular_Solo dining', 'dining_Seating', 'popular_Lunch', 'access_Wheelchair accessible seating', 'popular_Breakfast', 'dining_Breakfast', 'amen_Bar onsite', 'id_estado_13', 'amen_Wi-Fi', 'id_estado_32']\n"
     ]
    }
   ],
   "source": [
    "\n",
    "model = DecisionTreeClassifier(random_state=42)\n",
    "model.fit(X, y)\n",
    "\n",
    "feature_importances = model.feature_importances_\n",
    "\n",
    "features = pd.DataFrame({\n",
    "    'Feature': X.columns,\n",
    "    'Importance': feature_importances\n",
    "})\n",
    "\n",
    "# Ordenar las características por importancia\n",
    "features = features.sort_values(by='Importance', ascending=False).head(50)\n",
    "\n",
    "# Visualizar la importancia de las características\n",
    "plt.figure(figsize=(12, 8))\n",
    "plt.barh(features['Feature'], features['Importance'])\n",
    "plt.xlabel('Importancia')\n",
    "plt.ylabel('Característica')\n",
    "plt.title('Importancia de las Características')\n",
    "plt.gca().invert_yaxis()\n",
    "plt.show()\n",
    "\n",
    "print(features['Feature'].tolist())"
   ]
  },
  {
   "cell_type": "code",
   "execution_count": 121,
   "metadata": {},
   "outputs": [
    {
     "name": "stdout",
     "output_type": "stream",
     "text": [
      "Accuracy (XGBoost): 0.7471651854121973\n"
     ]
    },
    {
     "data": {
      "image/png": "[encoded data removed]",
      "text/plain": [
       "<Figure size 640x480 with 2 Axes>"
      ]
     },
     "metadata": {},
     "output_type": "display_data"
    },
    {
     "name": "stdout",
     "output_type": "stream",
     "text": [
      "              precision    recall  f1-score   support\n",
      "\n",
      "           0       0.74      0.75      0.74      9672\n",
      "           1       0.75      0.75      0.75      9906\n",
      "\n",
      "    accuracy                           0.75     19578\n",
      "   macro avg       0.75      0.75      0.75     19578\n",
      "weighted avg       0.75      0.75      0.75     19578\n",
      "\n"
     ]
    }
   ],
   "source": [
    "\n",
    "# Dividir los datos en conjuntos de entrenamiento y prueba\n",
    "\n",
    "X_train, X_test, y_train, y_test = train_test_split(X, y, test_size=0.2, random_state=42)\n",
    "\n",
    "scaler = StandardScaler()\n",
    "\n",
    "X_train_scaled = scaler.fit_transform(X_train)\n",
    "X_test_scaled = scaler.transform(X_test)\n",
    "\n",
    "dtrain = xgb.DMatrix(X_train_scaled, label=y_train)\n",
    "dtest = xgb.DMatrix(X_test_scaled, label=y_test)\n",
    "\n",
    "# Definir los parámetros del modelo\n",
    "params = {\n",
    "    'objective': 'multi:softmax',  # Para clasificación multiclase\n",
    "    'num_class': 2,  # Número de clases en la variable de salida\n",
    "    'eval_metric': 'merror',  # Métrica de evaluación\n",
    "    'learning_rate': 0.1,\n",
    "    'max_depth': 5\n",
    "}\n",
    "\n",
    "# Entrenar el modelo XGBoost\n",
    "num_rounds = 300\n",
    "\n",
    "xgb_model = xgb.train(params, dtrain, num_rounds)\n",
    "\n",
    "# Hacer predicciones\n",
    "y_pred_xgb = xgb_model.predict(dtest)\n",
    "\n",
    "# Evaluar el modelo\n",
    "accuracy_xgb = accuracy_score(y_test, y_pred_xgb)\n",
    "print(f'Accuracy (XGBoost): {accuracy_xgb}')\n",
    "scores[\"Random Forest (XGBoost)\"] = accuracy_score(y_test, y_pred_xgb)\n",
    "\n",
    "\n",
    "# # Print classification report\n",
    "# print(classification_report(y_test, y_pred_xgb))\n",
    "\n",
    "cm = confusion_matrix(y_test, y_pred_xgb)\n",
    "\n",
    "disp = ConfusionMatrixDisplay(confusion_matrix=cm)\n",
    "\n",
    "disp.plot()\n",
    "plt.show()\n",
    "print(classification_report(y_test, y_pred_xgb))\n"
   ]
  },
  {
   "cell_type": "code",
   "execution_count": 123,
   "metadata": {},
   "outputs": [
    {
     "name": "stdout",
     "output_type": "stream",
     "text": [
      "{'Logistic Regression': 0.7267080745341615, 'Random Forest Classifier': 0.7439931350114416, 'HistGradientBoostingClassifier': 0.7461997384766264, 'Random Forest 2': 0.7432984635501798, 'Logistic Regression 2': 0.7291347430789662, 'Random Forest (XGBoost)': 0.7471651854121973}\n"
     ]
    }
   ],
   "source": [
    "# print(f\"Columnas dropear {dropear}\")\n",
    "# print(f\"random forest: {round(random_forest_accuracy*100, 3)}\")\n",
    "# print(f\"linear reg   : {round(linear_reg_accuracy*100, 3)}\" )\n",
    "# print(f\"xgboost      : {round(xgboost_accuracy*100, 3)}\"  )\n",
    "\n",
    "print(scores)"
   ]
  },
  {
   "cell_type": "code",
   "execution_count": null,
   "metadata": {},
   "outputs": [],
   "source": [
    "# df_reviews = pd.read_parquet(r'Datawarehouse\\reviewstexto.parquet')\n"
   ]
  },
  {
   "cell_type": "markdown",
   "metadata": {},
   "source": [
    "- accesibilidad 10 columnas, 5 de yelp y 5 de google, (lift - elevator)\n",
    "- beer - alcohol\n",
    "- one hot encoding o level encoding a los estados\n",
    "- crowd, family friend\n",
    "- reseña, cloud, variables de peso\n",
    "- balanceo de la variable target, min max scaler\n",
    "- mapa mental de las categorías nuevas\n",
    "- qué nuevos valores del ML agregar al Dashboard\n",
    "- subir al datawarehouse las nuevas categorías\n"
   ]
  },
  {
   "cell_type": "code",
   "execution_count": 130,
   "metadata": {},
   "outputs": [
    {
     "name": "stderr",
     "output_type": "stream",
     "text": [
      "[I 2024-05-31 19:27:51,798] A new study created in memory with name: no-name-4b4437cd-1e26-4a40-a6a2-e60bdd59a626\n",
      "[I 2024-05-31 19:28:04,348] Trial 0 finished with value: 0.7434056096012855 and parameters: {'learning_rate': 0.19145385197815437, 'max_depth': 4, 'min_child_weight': 4, 'gamma': 0.22572568492612266, 'subsample': 0.6881919930115311, 'colsample_bytree': 0.5938372287538833, 'n_estimators': 100}. Best is trial 0 with value: 0.7434056096012855.\n",
      "[I 2024-05-31 19:28:24,225] Trial 1 finished with value: 0.7528349215596244 and parameters: {'learning_rate': 0.2963191052113705, 'max_depth': 10, 'min_child_weight': 1, 'gamma': 0.6928370092900277, 'subsample': 0.855558806865063, 'colsample_bytree': 0.5772395880131362, 'n_estimators': 148}. Best is trial 1 with value: 0.7528349215596244.\n",
      "[I 2024-05-31 19:29:04,779] Trial 2 finished with value: 0.7470833279651743 and parameters: {'learning_rate': 0.026867075673976636, 'max_depth': 7, 'min_child_weight': 3, 'gamma': 0.87155017267695, 'subsample': 0.5001189315214134, 'colsample_bytree': 0.5500430152263953, 'n_estimators': 243}. Best is trial 1 with value: 0.7528349215596244.\n",
      "[I 2024-05-31 19:29:42,302] Trial 3 finished with value: 0.7466236095169918 and parameters: {'learning_rate': 0.10536783589429391, 'max_depth': 4, 'min_child_weight': 10, 'gamma': 0.5891916981002348, 'subsample': 0.9268547192999378, 'colsample_bytree': 0.9829200576173958, 'n_estimators': 396}. Best is trial 1 with value: 0.7528349215596244.\n",
      "[I 2024-05-31 19:30:05,014] Trial 4 finished with value: 0.7425781095066156 and parameters: {'learning_rate': 0.15800777725900564, 'max_depth': 3, 'min_child_weight': 2, 'gamma': 0.7693053886693862, 'subsample': 0.9414852334603783, 'colsample_bytree': 0.6196674981331599, 'n_estimators': 245}. Best is trial 1 with value: 0.7528349215596244.\n",
      "[I 2024-05-31 19:30:27,478] Trial 5 finished with value: 0.7522423644596444 and parameters: {'learning_rate': 0.2547685349653093, 'max_depth': 8, 'min_child_weight': 10, 'gamma': 0.2226376284853703, 'subsample': 0.7264660973219115, 'colsample_bytree': 0.6035342491952975, 'n_estimators': 160}. Best is trial 1 with value: 0.7528349215596244.\n",
      "[I 2024-05-31 19:30:47,011] Trial 6 finished with value: 0.7431501953308073 and parameters: {'learning_rate': 0.24198786055063246, 'max_depth': 3, 'min_child_weight': 7, 'gamma': 0.05585419371317659, 'subsample': 0.8066421567266979, 'colsample_bytree': 0.5309286787121292, 'n_estimators': 189}. Best is trial 1 with value: 0.7528349215596244.\n",
      "[I 2024-05-31 19:31:35,713] Trial 7 finished with value: 0.7538360744914822 and parameters: {'learning_rate': 0.13281374259728515, 'max_depth': 8, 'min_child_weight': 10, 'gamma': 0.8526121661782333, 'subsample': 0.8074710924391344, 'colsample_bytree': 0.6816754316057574, 'n_estimators': 500}. Best is trial 7 with value: 0.7538360744914822.\n",
      "[I 2024-05-31 19:32:27,613] Trial 8 finished with value: 0.7542140544661798 and parameters: {'learning_rate': 0.08759484786126097, 'max_depth': 9, 'min_child_weight': 9, 'gamma': 0.3183326182369449, 'subsample': 0.9829798466441388, 'colsample_bytree': 0.5279331027510189, 'n_estimators': 369}. Best is trial 8 with value: 0.7542140544661798.\n",
      "[I 2024-05-31 19:33:42,020] Trial 9 finished with value: 0.7468381402008492 and parameters: {'learning_rate': 0.013572937370948538, 'max_depth': 7, 'min_child_weight': 10, 'gamma': 0.5071908577025347, 'subsample': 0.621198833121412, 'colsample_bytree': 0.6582796487858391, 'n_estimators': 445}. Best is trial 8 with value: 0.7542140544661798.\n"
     ]
    },
    {
     "name": "stdout",
     "output_type": "stream",
     "text": [
      "Best trial: 0.7542140544661798\n",
      "Best parameters: {'learning_rate': 0.08759484786126097, 'max_depth': 9, 'min_child_weight': 9, 'gamma': 0.3183326182369449, 'subsample': 0.9829798466441388, 'colsample_bytree': 0.5279331027510189, 'n_estimators': 369}\n"
     ]
    },
    {
     "data": {
      "image/png": "[encoded data removed]",
      "text/plain": [
       "<Figure size 640x480 with 2 Axes>"
      ]
     },
     "metadata": {},
     "output_type": "display_data"
    },
    {
     "name": "stdout",
     "output_type": "stream",
     "text": [
      "              precision    recall  f1-score   support\n",
      "\n",
      "           0       0.79      0.79      0.79     48943\n",
      "           1       0.79      0.79      0.79     48943\n",
      "\n",
      "    accuracy                           0.79     97886\n",
      "   macro avg       0.79      0.79      0.79     97886\n",
      "weighted avg       0.79      0.79      0.79     97886\n",
      "\n"
     ]
    }
   ],
   "source": [
    "import optuna\n",
    "import xgboost as xgb\n",
    "from sklearn.preprocessing import StandardScaler\n",
    "from sklearn.model_selection import cross_val_score, StratifiedKFold\n",
    "from sklearn.metrics import accuracy_score, confusion_matrix, classification_report, ConfusionMatrixDisplay\n",
    "import matplotlib.pyplot as plt\n",
    "\n",
    "# Asumiendo que X y y ya están definidos\n",
    "\n",
    "# Escalar todo el dataset\n",
    "scaler = StandardScaler()\n",
    "X_scaled = scaler.fit_transform(X)\n",
    "\n",
    "def objective(trial):\n",
    "    params = {\n",
    "        'objective': 'multi:softmax',\n",
    "        'num_class': 2,\n",
    "        'eval_metric': 'merror',\n",
    "        'learning_rate': trial.suggest_float('learning_rate', 0.01, 0.3),\n",
    "        'max_depth': trial.suggest_int('max_depth', 3, 10),\n",
    "        'min_child_weight': trial.suggest_int('min_child_weight', 1, 10),\n",
    "        'gamma': trial.suggest_float('gamma', 0.01, 1.0),\n",
    "        'subsample': trial.suggest_float('subsample', 0.5, 1.0),\n",
    "        'colsample_bytree': trial.suggest_float('colsample_bytree', 0.5, 1.0),\n",
    "        'n_estimators': trial.suggest_int('n_estimators', 100, 500)\n",
    "    }\n",
    "\n",
    "    xgb_model = xgb.XGBClassifier(**params)\n",
    "\n",
    "    cv = StratifiedKFold(n_splits=5, shuffle=True, random_state=42)\n",
    "    scores = cross_val_score(xgb_model, X_scaled, y, cv=cv, scoring='accuracy')\n",
    "    return scores.mean()\n",
    "\n",
    "# Crear el estudio y optimizar los hiperparámetros\n",
    "study = optuna.create_study(direction='maximize')\n",
    "study.optimize(objective, n_trials=10)\n",
    "\n",
    "# Imprimir los mejores parámetros encontrados por Optuna\n",
    "print(f'Best trial: {study.best_trial.value}')\n",
    "print(f'Best parameters: {study.best_trial.params}')\n",
    "\n",
    "# Entrenar el modelo final con los mejores parámetros\n",
    "best_params = study.best_trial.params\n",
    "xgb_model = xgb.XGBClassifier(**best_params)\n",
    "xgb_model.fit(X_scaled, y)\n",
    "\n",
    "# Hacer predicciones en el mismo conjunto para obtener la matriz de confusión y el informe de clasificación\n",
    "y_pred_xgb = xgb_model.predict(X_scaled)\n",
    "\n",
    "# Matriz de confusión\n",
    "cm = confusion_matrix(y, y_pred_xgb)\n",
    "disp = ConfusionMatrixDisplay(confusion_matrix=cm)\n",
    "disp.plot()\n",
    "plt.show()\n",
    "\n",
    "# Informe de clasificación\n",
    "print(classification_report(y, y_pred_xgb))\n"
   ]
  },
  {
   "cell_type": "code",
   "execution_count": 128,
   "metadata": {},
   "outputs": [
    {
     "name": "stdout",
     "output_type": "stream",
     "text": [
      "Collecting ipywidgetsNote: you may need to restart the kernel to use updated packages.\n",
      "\n",
      "  Downloading ipywidgets-8.1.3-py3-none-any.whl.metadata (2.4 kB)\n",
      "Collecting widgetsnbextension\n",
      "  Downloading widgetsnbextension-4.0.11-py3-none-any.whl.metadata (1.6 kB)\n",
      "Collecting pandas-profiling\n",
      "  Downloading pandas_profiling-3.6.6-py2.py3-none-any.whl.metadata (4.5 kB)\n",
      "Requirement already satisfied: comm>=0.1.3 in g:\\cursos_2023\\henry\\data07\\pf\\pf_datapt07\\.venv10\\lib\\site-packages (from ipywidgets) (0.2.2)\n",
      "Requirement already satisfied: ipython>=6.1.0 in g:\\cursos_2023\\henry\\data07\\pf\\pf_datapt07\\.venv10\\lib\\site-packages (from ipywidgets) (8.24.0)\n",
      "Requirement already satisfied: traitlets>=4.3.1 in g:\\cursos_2023\\henry\\data07\\pf\\pf_datapt07\\.venv10\\lib\\site-packages (from ipywidgets) (5.14.3)\n",
      "Collecting jupyterlab-widgets~=3.0.11 (from ipywidgets)\n",
      "  Downloading jupyterlab_widgets-3.0.11-py3-none-any.whl.metadata (4.1 kB)\n",
      "Collecting ydata-profiling (from pandas-profiling)\n",
      "  Downloading ydata_profiling-4.8.3-py2.py3-none-any.whl.metadata (20 kB)\n",
      "Requirement already satisfied: decorator in g:\\cursos_2023\\henry\\data07\\pf\\pf_datapt07\\.venv10\\lib\\site-packages (from ipython>=6.1.0->ipywidgets) (5.1.1)\n",
      "Requirement already satisfied: jedi>=0.16 in g:\\cursos_2023\\henry\\data07\\pf\\pf_datapt07\\.venv10\\lib\\site-packages (from ipython>=6.1.0->ipywidgets) (0.19.1)\n",
      "Requirement already satisfied: matplotlib-inline in g:\\cursos_2023\\henry\\data07\\pf\\pf_datapt07\\.venv10\\lib\\site-packages (from ipython>=6.1.0->ipywidgets) (0.1.7)\n",
      "Requirement already satisfied: prompt-toolkit<3.1.0,>=3.0.41 in g:\\cursos_2023\\henry\\data07\\pf\\pf_datapt07\\.venv10\\lib\\site-packages (from ipython>=6.1.0->ipywidgets) (3.0.43)\n",
      "Requirement already satisfied: pygments>=2.4.0 in g:\\cursos_2023\\henry\\data07\\pf\\pf_datapt07\\.venv10\\lib\\site-packages (from ipython>=6.1.0->ipywidgets) (2.18.0)\n",
      "Requirement already satisfied: stack-data in g:\\cursos_2023\\henry\\data07\\pf\\pf_datapt07\\.venv10\\lib\\site-packages (from ipython>=6.1.0->ipywidgets) (0.6.3)\n",
      "Requirement already satisfied: exceptiongroup in g:\\cursos_2023\\henry\\data07\\pf\\pf_datapt07\\.venv10\\lib\\site-packages (from ipython>=6.1.0->ipywidgets) (1.2.1)\n",
      "Requirement already satisfied: typing-extensions>=4.6 in g:\\cursos_2023\\henry\\data07\\pf\\pf_datapt07\\.venv10\\lib\\site-packages (from ipython>=6.1.0->ipywidgets) (4.11.0)\n",
      "Requirement already satisfied: colorama in g:\\cursos_2023\\henry\\data07\\pf\\pf_datapt07\\.venv10\\lib\\site-packages (from ipython>=6.1.0->ipywidgets) (0.4.6)\n",
      "Requirement already satisfied: scipy<1.14,>=1.4.1 in g:\\cursos_2023\\henry\\data07\\pf\\pf_datapt07\\.venv10\\lib\\site-packages (from ydata-profiling->pandas-profiling) (1.13.1)\n",
      "Requirement already satisfied: pandas!=1.4.0,<3,>1.1 in g:\\cursos_2023\\henry\\data07\\pf\\pf_datapt07\\.venv10\\lib\\site-packages (from ydata-profiling->pandas-profiling) (2.2.2)\n",
      "Requirement already satisfied: matplotlib<3.9,>=3.2 in g:\\cursos_2023\\henry\\data07\\pf\\pf_datapt07\\.venv10\\lib\\site-packages (from ydata-profiling->pandas-profiling) (3.8.4)\n",
      "Collecting pydantic>=2 (from ydata-profiling->pandas-profiling)\n",
      "  Downloading pydantic-2.7.2-py3-none-any.whl.metadata (108 kB)\n",
      "     ---------------------------------------- 0.0/108.5 kB ? eta -:--:--\n",
      "     ----------- ---------------------------- 30.7/108.5 kB ? eta -:--:--\n",
      "     ------------------------ ------------ 71.7/108.5 kB 991.0 kB/s eta 0:00:01\n",
      "     ------------------------------------ 108.5/108.5 kB 901.5 kB/s eta 0:00:00\n",
      "Requirement already satisfied: PyYAML<6.1,>=5.0.0 in g:\\cursos_2023\\henry\\data07\\pf\\pf_datapt07\\.venv10\\lib\\site-packages (from ydata-profiling->pandas-profiling) (6.0.1)\n",
      "Requirement already satisfied: jinja2<3.2,>=2.11.1 in g:\\cursos_2023\\henry\\data07\\pf\\pf_datapt07\\.venv10\\lib\\site-packages (from ydata-profiling->pandas-profiling) (3.1.4)\n",
      "Collecting visions<0.7.7,>=0.7.5 (from visions[type_image_path]<0.7.7,>=0.7.5->ydata-profiling->pandas-profiling)\n",
      "  Using cached visions-0.7.6-py3-none-any.whl.metadata (11 kB)\n",
      "Requirement already satisfied: numpy<2,>=1.16.0 in g:\\cursos_2023\\henry\\data07\\pf\\pf_datapt07\\.venv10\\lib\\site-packages (from ydata-profiling->pandas-profiling) (1.26.4)\n",
      "Collecting htmlmin==0.1.12 (from ydata-profiling->pandas-profiling)\n",
      "  Using cached htmlmin-0.1.12-py3-none-any.whl\n",
      "Collecting phik<0.13,>=0.11.1 (from ydata-profiling->pandas-profiling)\n",
      "  Using cached phik-0.12.4-cp310-cp310-win_amd64.whl.metadata (5.6 kB)\n",
      "Requirement already satisfied: requests<3,>=2.24.0 in g:\\cursos_2023\\henry\\data07\\pf\\pf_datapt07\\.venv10\\lib\\site-packages (from ydata-profiling->pandas-profiling) (2.32.2)\n",
      "Requirement already satisfied: tqdm<5,>=4.48.2 in g:\\cursos_2023\\henry\\data07\\pf\\pf_datapt07\\.venv10\\lib\\site-packages (from ydata-profiling->pandas-profiling) (4.66.4)\n",
      "Requirement already satisfied: seaborn<0.14,>=0.10.1 in g:\\cursos_2023\\henry\\data07\\pf\\pf_datapt07\\.venv10\\lib\\site-packages (from ydata-profiling->pandas-profiling) (0.13.2)\n",
      "Collecting multimethod<2,>=1.4 (from ydata-profiling->pandas-profiling)\n",
      "  Using cached multimethod-1.11.2-py3-none-any.whl.metadata (9.1 kB)\n",
      "Collecting statsmodels<1,>=0.13.2 (from ydata-profiling->pandas-profiling)\n",
      "  Using cached statsmodels-0.14.2-cp310-cp310-win_amd64.whl.metadata (9.5 kB)\n",
      "Collecting typeguard<5,>=3 (from ydata-profiling->pandas-profiling)\n",
      "  Downloading typeguard-4.3.0-py3-none-any.whl.metadata (3.7 kB)\n",
      "Collecting imagehash==4.3.1 (from ydata-profiling->pandas-profiling)\n",
      "  Using cached ImageHash-4.3.1-py2.py3-none-any.whl.metadata (8.0 kB)\n",
      "Requirement already satisfied: wordcloud>=1.9.1 in g:\\cursos_2023\\henry\\data07\\pf\\pf_datapt07\\.venv10\\lib\\site-packages (from ydata-profiling->pandas-profiling) (1.9.3)\n",
      "Collecting dacite>=1.8 (from ydata-profiling->pandas-profiling)\n",
      "  Using cached dacite-1.8.1-py3-none-any.whl.metadata (15 kB)\n",
      "Collecting numba<1,>=0.56.0 (from ydata-profiling->pandas-profiling)\n",
      "  Using cached numba-0.59.1-cp310-cp310-win_amd64.whl.metadata (2.8 kB)\n",
      "Collecting PyWavelets (from imagehash==4.3.1->ydata-profiling->pandas-profiling)\n",
      "  Using cached pywavelets-1.6.0-cp310-cp310-win_amd64.whl.metadata (9.0 kB)\n",
      "Requirement already satisfied: pillow in g:\\cursos_2023\\henry\\data07\\pf\\pf_datapt07\\.venv10\\lib\\site-packages (from imagehash==4.3.1->ydata-profiling->pandas-profiling) (10.3.0)\n",
      "Requirement already satisfied: parso<0.9.0,>=0.8.3 in g:\\cursos_2023\\henry\\data07\\pf\\pf_datapt07\\.venv10\\lib\\site-packages (from jedi>=0.16->ipython>=6.1.0->ipywidgets) (0.8.4)\n",
      "Requirement already satisfied: MarkupSafe>=2.0 in g:\\cursos_2023\\henry\\data07\\pf\\pf_datapt07\\.venv10\\lib\\site-packages (from jinja2<3.2,>=2.11.1->ydata-profiling->pandas-profiling) (2.1.5)\n",
      "Requirement already satisfied: contourpy>=1.0.1 in g:\\cursos_2023\\henry\\data07\\pf\\pf_datapt07\\.venv10\\lib\\site-packages (from matplotlib<3.9,>=3.2->ydata-profiling->pandas-profiling) (1.2.1)\n",
      "Requirement already satisfied: cycler>=0.10 in g:\\cursos_2023\\henry\\data07\\pf\\pf_datapt07\\.venv10\\lib\\site-packages (from matplotlib<3.9,>=3.2->ydata-profiling->pandas-profiling) (0.12.1)\n",
      "Requirement already satisfied: fonttools>=4.22.0 in g:\\cursos_2023\\henry\\data07\\pf\\pf_datapt07\\.venv10\\lib\\site-packages (from matplotlib<3.9,>=3.2->ydata-profiling->pandas-profiling) (4.51.0)\n",
      "Requirement already satisfied: kiwisolver>=1.3.1 in g:\\cursos_2023\\henry\\data07\\pf\\pf_datapt07\\.venv10\\lib\\site-packages (from matplotlib<3.9,>=3.2->ydata-profiling->pandas-profiling) (1.4.5)\n",
      "Requirement already satisfied: packaging>=20.0 in g:\\cursos_2023\\henry\\data07\\pf\\pf_datapt07\\.venv10\\lib\\site-packages (from matplotlib<3.9,>=3.2->ydata-profiling->pandas-profiling) (24.0)\n",
      "Requirement already satisfied: pyparsing>=2.3.1 in g:\\cursos_2023\\henry\\data07\\pf\\pf_datapt07\\.venv10\\lib\\site-packages (from matplotlib<3.9,>=3.2->ydata-profiling->pandas-profiling) (3.1.2)\n",
      "Requirement already satisfied: python-dateutil>=2.7 in g:\\cursos_2023\\henry\\data07\\pf\\pf_datapt07\\.venv10\\lib\\site-packages (from matplotlib<3.9,>=3.2->ydata-profiling->pandas-profiling) (2.9.0.post0)\n",
      "Collecting llvmlite<0.43,>=0.42.0dev0 (from numba<1,>=0.56.0->ydata-profiling->pandas-profiling)\n",
      "  Using cached llvmlite-0.42.0-cp310-cp310-win_amd64.whl.metadata (4.9 kB)\n",
      "Requirement already satisfied: pytz>=2020.1 in g:\\cursos_2023\\henry\\data07\\pf\\pf_datapt07\\.venv10\\lib\\site-packages (from pandas!=1.4.0,<3,>1.1->ydata-profiling->pandas-profiling) (2024.1)\n",
      "Requirement already satisfied: tzdata>=2022.7 in g:\\cursos_2023\\henry\\data07\\pf\\pf_datapt07\\.venv10\\lib\\site-packages (from pandas!=1.4.0,<3,>1.1->ydata-profiling->pandas-profiling) (2024.1)\n",
      "Requirement already satisfied: joblib>=0.14.1 in g:\\cursos_2023\\henry\\data07\\pf\\pf_datapt07\\.venv10\\lib\\site-packages (from phik<0.13,>=0.11.1->ydata-profiling->pandas-profiling) (1.4.2)\n",
      "Requirement already satisfied: wcwidth in g:\\cursos_2023\\henry\\data07\\pf\\pf_datapt07\\.venv10\\lib\\site-packages (from prompt-toolkit<3.1.0,>=3.0.41->ipython>=6.1.0->ipywidgets) (0.2.13)\n",
      "Collecting annotated-types>=0.4.0 (from pydantic>=2->ydata-profiling->pandas-profiling)\n",
      "  Downloading annotated_types-0.7.0-py3-none-any.whl.metadata (15 kB)\n",
      "Collecting pydantic-core==2.18.3 (from pydantic>=2->ydata-profiling->pandas-profiling)\n",
      "  Downloading pydantic_core-2.18.3-cp310-none-win_amd64.whl.metadata (6.7 kB)\n",
      "Requirement already satisfied: charset-normalizer<4,>=2 in g:\\cursos_2023\\henry\\data07\\pf\\pf_datapt07\\.venv10\\lib\\site-packages (from requests<3,>=2.24.0->ydata-profiling->pandas-profiling) (3.3.2)\n",
      "Requirement already satisfied: idna<4,>=2.5 in g:\\cursos_2023\\henry\\data07\\pf\\pf_datapt07\\.venv10\\lib\\site-packages (from requests<3,>=2.24.0->ydata-profiling->pandas-profiling) (3.7)\n",
      "Requirement already satisfied: urllib3<3,>=1.21.1 in g:\\cursos_2023\\henry\\data07\\pf\\pf_datapt07\\.venv10\\lib\\site-packages (from requests<3,>=2.24.0->ydata-profiling->pandas-profiling) (2.2.1)\n",
      "Requirement already satisfied: certifi>=2017.4.17 in g:\\cursos_2023\\henry\\data07\\pf\\pf_datapt07\\.venv10\\lib\\site-packages (from requests<3,>=2.24.0->ydata-profiling->pandas-profiling) (2024.2.2)\n",
      "Collecting patsy>=0.5.6 (from statsmodels<1,>=0.13.2->ydata-profiling->pandas-profiling)\n",
      "  Using cached patsy-0.5.6-py2.py3-none-any.whl.metadata (3.5 kB)\n",
      "Requirement already satisfied: attrs>=19.3.0 in g:\\cursos_2023\\henry\\data07\\pf\\pf_datapt07\\.venv10\\lib\\site-packages (from visions<0.7.7,>=0.7.5->visions[type_image_path]<0.7.7,>=0.7.5->ydata-profiling->pandas-profiling) (23.2.0)\n",
      "Requirement already satisfied: networkx>=2.4 in g:\\cursos_2023\\henry\\data07\\pf\\pf_datapt07\\.venv10\\lib\\site-packages (from visions<0.7.7,>=0.7.5->visions[type_image_path]<0.7.7,>=0.7.5->ydata-profiling->pandas-profiling) (3.3)\n",
      "Requirement already satisfied: executing>=1.2.0 in g:\\cursos_2023\\henry\\data07\\pf\\pf_datapt07\\.venv10\\lib\\site-packages (from stack-data->ipython>=6.1.0->ipywidgets) (2.0.1)\n",
      "Requirement already satisfied: asttokens>=2.1.0 in g:\\cursos_2023\\henry\\data07\\pf\\pf_datapt07\\.venv10\\lib\\site-packages (from stack-data->ipython>=6.1.0->ipywidgets) (2.4.1)\n",
      "Requirement already satisfied: pure-eval in g:\\cursos_2023\\henry\\data07\\pf\\pf_datapt07\\.venv10\\lib\\site-packages (from stack-data->ipython>=6.1.0->ipywidgets) (0.2.2)\n",
      "Requirement already satisfied: six>=1.12.0 in g:\\cursos_2023\\henry\\data07\\pf\\pf_datapt07\\.venv10\\lib\\site-packages (from asttokens>=2.1.0->stack-data->ipython>=6.1.0->ipywidgets) (1.16.0)\n",
      "Downloading ipywidgets-8.1.3-py3-none-any.whl (139 kB)\n",
      "   ---------------------------------------- 0.0/139.4 kB ? eta -:--:--\n",
      "   ----------------------------- ---------- 102.4/139.4 kB 3.0 MB/s eta 0:00:01\n",
      "   ---------------------------------------- 139.4/139.4 kB 2.1 MB/s eta 0:00:00\n",
      "Downloading widgetsnbextension-4.0.11-py3-none-any.whl (2.3 MB)\n",
      "   ---------------------------------------- 0.0/2.3 MB ? eta -:--:--\n",
      "   - -------------------------------------- 0.1/2.3 MB 1.7 MB/s eta 0:00:02\n",
      "   ---- ----------------------------------- 0.3/2.3 MB 2.8 MB/s eta 0:00:01\n",
      "   ---------- ----------------------------- 0.6/2.3 MB 4.1 MB/s eta 0:00:01\n",
      "   -------------- ------------------------- 0.9/2.3 MB 4.6 MB/s eta 0:00:01\n",
      "   ------------------- -------------------- 1.1/2.3 MB 4.8 MB/s eta 0:00:01\n",
      "   ---------------------- ----------------- 1.3/2.3 MB 4.6 MB/s eta 0:00:01\n",
      "   --------------------------- ------------ 1.6/2.3 MB 4.8 MB/s eta 0:00:01\n",
      "   ------------------------------- -------- 1.8/2.3 MB 4.9 MB/s eta 0:00:01\n",
      "   ----------------------------------- ---- 2.1/2.3 MB 4.9 MB/s eta 0:00:01\n",
      "   ---------------------------------------  2.3/2.3 MB 5.0 MB/s eta 0:00:01\n",
      "   ---------------------------------------  2.3/2.3 MB 5.0 MB/s eta 0:00:01\n",
      "   ---------------------------------------  2.3/2.3 MB 5.0 MB/s eta 0:00:01\n",
      "   ---------------------------------------  2.3/2.3 MB 5.0 MB/s eta 0:00:01\n",
      "   ---------------------------------------  2.3/2.3 MB 5.0 MB/s eta 0:00:01\n",
      "   ---------------------------------------  2.3/2.3 MB 5.0 MB/s eta 0:00:01\n",
      "   ---------------------------------------  2.3/2.3 MB 5.0 MB/s eta 0:00:01\n",
      "   ---------------------------------------  2.3/2.3 MB 5.0 MB/s eta 0:00:01\n",
      "   ---------------------------------------  2.3/2.3 MB 5.0 MB/s eta 0:00:01\n",
      "   ---------------------------------------  2.3/2.3 MB 5.0 MB/s eta 0:00:01\n",
      "   ---------------------------------------  2.3/2.3 MB 5.0 MB/s eta 0:00:01\n",
      "   ---------------------------------------  2.3/2.3 MB 5.0 MB/s eta 0:00:01\n",
      "   ---------------------------------------- 2.3/2.3 MB 2.4 MB/s eta 0:00:00\n",
      "Downloading pandas_profiling-3.6.6-py2.py3-none-any.whl (324 kB)\n",
      "   ---------------------------------------- 0.0/324.4 kB ? eta -:--:--\n",
      "   --------------------------------------- 324.4/324.4 kB 20.9 MB/s eta 0:00:00\n",
      "Downloading jupyterlab_widgets-3.0.11-py3-none-any.whl (214 kB)\n",
      "   ---------------------------------------- 0.0/214.4 kB ? eta -:--:--\n",
      "   -------------------------- ------------- 143.4/214.4 kB 4.2 MB/s eta 0:00:01\n",
      "   -------------------------- ------------- 143.4/214.4 kB 4.2 MB/s eta 0:00:01\n",
      "   -------------------------------------- - 204.8/214.4 kB 1.8 MB/s eta 0:00:01\n",
      "   -------------------------------------- - 204.8/214.4 kB 1.8 MB/s eta 0:00:01\n",
      "   -------------------------------------- - 204.8/214.4 kB 1.8 MB/s eta 0:00:01\n",
      "   -------------------------------------- - 204.8/214.4 kB 1.8 MB/s eta 0:00:01\n",
      "   -------------------------------------- - 204.8/214.4 kB 1.8 MB/s eta 0:00:01\n",
      "   -------------------------------------- 214.4/214.4 kB 567.0 kB/s eta 0:00:00\n",
      "Downloading ydata_profiling-4.8.3-py2.py3-none-any.whl (359 kB)\n",
      "   ---------------------------------------- 0.0/359.5 kB ? eta -:--:--\n",
      "   ------------------- -------------------- 174.1/359.5 kB 3.5 MB/s eta 0:00:01\n",
      "   ------------------------------------- -- 337.9/359.5 kB 3.5 MB/s eta 0:00:01\n",
      "   ---------------------------------------  358.4/359.5 kB 3.2 MB/s eta 0:00:01\n",
      "   ---------------------------------------  358.4/359.5 kB 3.2 MB/s eta 0:00:01\n",
      "   ---------------------------------------  358.4/359.5 kB 3.2 MB/s eta 0:00:01\n",
      "   ---------------------------------------  358.4/359.5 kB 3.2 MB/s eta 0:00:01\n",
      "   ---------------------------------------  358.4/359.5 kB 3.2 MB/s eta 0:00:01\n",
      "   -------------------------------------- 359.5/359.5 kB 931.4 kB/s eta 0:00:00\n",
      "Using cached ImageHash-4.3.1-py2.py3-none-any.whl (296 kB)\n",
      "Using cached dacite-1.8.1-py3-none-any.whl (14 kB)\n",
      "Using cached multimethod-1.11.2-py3-none-any.whl (10 kB)\n",
      "Using cached numba-0.59.1-cp310-cp310-win_amd64.whl (2.7 MB)\n",
      "Using cached phik-0.12.4-cp310-cp310-win_amd64.whl (666 kB)\n",
      "Downloading pydantic-2.7.2-py3-none-any.whl (409 kB)\n",
      "   ---------------------------------------- 0.0/409.5 kB ? eta -:--:--\n",
      "   ---------------------- ----------------- 225.3/409.5 kB 6.9 MB/s eta 0:00:01\n",
      "   ---------------------------------------  399.4/409.5 kB 6.2 MB/s eta 0:00:01\n",
      "   ---------------------------------------  399.4/409.5 kB 6.2 MB/s eta 0:00:01\n",
      "   ---------------------------------------  399.4/409.5 kB 6.2 MB/s eta 0:00:01\n",
      "   ---------------------------------------  399.4/409.5 kB 6.2 MB/s eta 0:00:01\n",
      "   ---------------------------------------  399.4/409.5 kB 6.2 MB/s eta 0:00:01\n",
      "   ---------------------------------------- 409.5/409.5 kB 1.4 MB/s eta 0:00:00\n",
      "Downloading pydantic_core-2.18.3-cp310-none-win_amd64.whl (1.9 MB)\n",
      "   ---------------------------------------- 0.0/1.9 MB ? eta -:--:--\n",
      "   ----- ---------------------------------- 0.3/1.9 MB 8.3 MB/s eta 0:00:01\n",
      "   ----------- ---------------------------- 0.5/1.9 MB 6.8 MB/s eta 0:00:01\n",
      "   ------------------ --------------------- 0.9/1.9 MB 6.8 MB/s eta 0:00:01\n",
      "   ------------------------ --------------- 1.2/1.9 MB 6.7 MB/s eta 0:00:01\n",
      "   ----------------------------- ---------- 1.4/1.9 MB 6.3 MB/s eta 0:00:01\n",
      "   ----------------------------------- ---- 1.7/1.9 MB 6.3 MB/s eta 0:00:01\n",
      "   ---------------------------------------  1.9/1.9 MB 6.3 MB/s eta 0:00:01\n",
      "   ---------------------------------------  1.9/1.9 MB 6.3 MB/s eta 0:00:01\n",
      "   ---------------------------------------  1.9/1.9 MB 6.3 MB/s eta 0:00:01\n",
      "   ---------------------------------------  1.9/1.9 MB 6.3 MB/s eta 0:00:01\n",
      "   ---------------------------------------  1.9/1.9 MB 6.3 MB/s eta 0:00:01\n",
      "   ---------------------------------------  1.9/1.9 MB 6.3 MB/s eta 0:00:01\n",
      "   ---------------------------------------  1.9/1.9 MB 6.3 MB/s eta 0:00:01\n",
      "   ---------------------------------------  1.9/1.9 MB 6.3 MB/s eta 0:00:01\n",
      "   ---------------------------------------  1.9/1.9 MB 6.3 MB/s eta 0:00:01\n",
      "   ---------------------------------------  1.9/1.9 MB 6.3 MB/s eta 0:00:01\n",
      "   ---------------------------------------  1.9/1.9 MB 6.3 MB/s eta 0:00:01\n",
      "   ---------------------------------------- 1.9/1.9 MB 2.3 MB/s eta 0:00:00\n",
      "Using cached statsmodels-0.14.2-cp310-cp310-win_amd64.whl (9.8 MB)\n",
      "Downloading typeguard-4.3.0-py3-none-any.whl (35 kB)\n",
      "Using cached visions-0.7.6-py3-none-any.whl (104 kB)\n",
      "Downloading annotated_types-0.7.0-py3-none-any.whl (13 kB)\n",
      "Using cached llvmlite-0.42.0-cp310-cp310-win_amd64.whl (28.1 MB)\n",
      "Using cached patsy-0.5.6-py2.py3-none-any.whl (233 kB)\n",
      "Using cached pywavelets-1.6.0-cp310-cp310-win_amd64.whl (4.3 MB)\n",
      "Installing collected packages: htmlmin, widgetsnbextension, typeguard, PyWavelets, pydantic-core, patsy, multimethod, llvmlite, jupyterlab-widgets, dacite, annotated-types, pydantic, numba, imagehash, visions, statsmodels, phik, ipywidgets, ydata-profiling, pandas-profiling\n",
      "Successfully installed PyWavelets-1.6.0 annotated-types-0.7.0 dacite-1.8.1 htmlmin-0.1.12 imagehash-4.3.1 ipywidgets-8.1.3 jupyterlab-widgets-3.0.11 llvmlite-0.42.0 multimethod-1.11.2 numba-0.59.1 pandas-profiling-3.6.6 patsy-0.5.6 phik-0.12.4 pydantic-2.7.2 pydantic-core-2.18.3 statsmodels-0.14.2 typeguard-4.3.0 visions-0.7.6 widgetsnbextension-4.0.11 ydata-profiling-4.8.3\n"
     ]
    },
    {
     "name": "stderr",
     "output_type": "stream",
     "text": [
      "WARNING: visions 0.7.6 does not provide the extra 'type-image-path'\n"
     ]
    }
   ],
   "source": [
    "%pip install ipywidgets widgetsnbextension pandas-profiling"
   ]
  },
  {
   "cell_type": "code",
   "execution_count": 126,
   "metadata": {},
   "outputs": [
    {
     "name": "stdout",
     "output_type": "stream",
     "text": [
      "Collecting optunaNote: you may need to restart the kernel to use updated packages.\n",
      "\n",
      "  Downloading optuna-3.6.1-py3-none-any.whl.metadata (17 kB)\n",
      "Collecting alembic>=1.5.0 (from optuna)\n",
      "  Using cached alembic-1.13.1-py3-none-any.whl.metadata (7.4 kB)\n",
      "Collecting colorlog (from optuna)\n",
      "  Using cached colorlog-6.8.2-py3-none-any.whl.metadata (10 kB)\n",
      "Requirement already satisfied: numpy in g:\\cursos_2023\\henry\\data07\\pf\\pf_datapt07\\.venv10\\lib\\site-packages (from optuna) (1.26.4)\n",
      "Requirement already satisfied: packaging>=20.0 in g:\\cursos_2023\\henry\\data07\\pf\\pf_datapt07\\.venv10\\lib\\site-packages (from optuna) (24.0)\n",
      "Requirement already satisfied: sqlalchemy>=1.3.0 in g:\\cursos_2023\\henry\\data07\\pf\\pf_datapt07\\.venv10\\lib\\site-packages (from optuna) (2.0.30)\n",
      "Requirement already satisfied: tqdm in g:\\cursos_2023\\henry\\data07\\pf\\pf_datapt07\\.venv10\\lib\\site-packages (from optuna) (4.66.4)\n",
      "Collecting PyYAML (from optuna)\n",
      "  Using cached PyYAML-6.0.1-cp310-cp310-win_amd64.whl.metadata (2.1 kB)\n",
      "Collecting Mako (from alembic>=1.5.0->optuna)\n",
      "  Downloading Mako-1.3.5-py3-none-any.whl.metadata (2.9 kB)\n",
      "Requirement already satisfied: typing-extensions>=4 in g:\\cursos_2023\\henry\\data07\\pf\\pf_datapt07\\.venv10\\lib\\site-packages (from alembic>=1.5.0->optuna) (4.11.0)\n",
      "Requirement already satisfied: greenlet!=0.4.17 in g:\\cursos_2023\\henry\\data07\\pf\\pf_datapt07\\.venv10\\lib\\site-packages (from sqlalchemy>=1.3.0->optuna) (3.0.3)\n",
      "Requirement already satisfied: colorama in g:\\cursos_2023\\henry\\data07\\pf\\pf_datapt07\\.venv10\\lib\\site-packages (from colorlog->optuna) (0.4.6)\n",
      "Requirement already satisfied: MarkupSafe>=0.9.2 in g:\\cursos_2023\\henry\\data07\\pf\\pf_datapt07\\.venv10\\lib\\site-packages (from Mako->alembic>=1.5.0->optuna) (2.1.5)\n",
      "Downloading optuna-3.6.1-py3-none-any.whl (380 kB)\n",
      "   ---------------------------------------- 0.0/380.1 kB ? eta -:--:--\n",
      "   --------- ------------------------------ 92.2/380.1 kB 2.6 MB/s eta 0:00:01\n",
      "   ------------------------------ --------- 286.7/380.1 kB 2.9 MB/s eta 0:00:01\n",
      "   ---------------------------------------- 380.1/380.1 kB 3.0 MB/s eta 0:00:00\n",
      "Using cached alembic-1.13.1-py3-none-any.whl (233 kB)\n",
      "Using cached colorlog-6.8.2-py3-none-any.whl (11 kB)\n",
      "Using cached PyYAML-6.0.1-cp310-cp310-win_amd64.whl (145 kB)\n",
      "Downloading Mako-1.3.5-py3-none-any.whl (78 kB)\n",
      "   ---------------------------------------- 0.0/78.6 kB ? eta -:--:--\n",
      "   ---------------------------------------- 78.6/78.6 kB 4.3 MB/s eta 0:00:00\n",
      "Installing collected packages: PyYAML, Mako, colorlog, alembic, optuna\n",
      "Successfully installed Mako-1.3.5 PyYAML-6.0.1 alembic-1.13.1 colorlog-6.8.2 optuna-3.6.1\n"
     ]
    }
   ],
   "source": [
    "%pip install optuna"
   ]
  }
 ],
 "metadata": {
  "kernelspec": {
   "display_name": ".venv10",
   "language": "python",
   "name": "python3"
  },
  "language_info": {
   "codemirror_mode": {
    "name": "ipython",
    "version": 3
   },
   "file_extension": ".py",
   "mimetype": "text/x-python",
   "name": "python",
   "nbconvert_exporter": "python",
   "pygments_lexer": "ipython3",
   "version": "3.10.11"
  }
 },
 "nbformat": 4,
 "nbformat_minor": 2
}

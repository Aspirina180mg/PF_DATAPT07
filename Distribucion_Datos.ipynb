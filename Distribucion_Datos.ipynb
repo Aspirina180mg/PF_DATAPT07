{
 "cells": [
  {
   "cell_type": "markdown",
   "metadata": {},
   "source": [
    "# Distribucion de los Datos"
   ]
  },
  {
   "cell_type": "code",
   "execution_count": 1,
   "metadata": {},
   "outputs": [],
   "source": [
    "import pandas as pd\n",
    "import matplotlib.pyplot as plt\n",
    "import seaborn as sns\n",
    "import plotly.express as px\n",
    "import numpy as np\n",
    "from wordcloud import WordCloud, STOPWORDS, ImageColorGenerator\n",
    "import warnings\n",
    "warnings.filterwarnings(\"ignore\")\n",
    "\n",
    "sns.set_theme('paper')"
   ]
  },
  {
   "cell_type": "code",
   "execution_count": 2,
   "metadata": {},
   "outputs": [],
   "source": [
    "state_abreviations = [\n",
    "    \"AL\", \"AK\", \"AZ\", \"AR\", \"CA\", \"CO\", \"CT\", \"DC\", \"DE\", \"FL\", \"GA\", \"HI\", \"ID\", \n",
    "    \"IL\", \"IN\", \"IA\", \"KS\", \"KY\", \"LA\", \"ME\", \"MD\", \"MA\", \"MI\", \"MN\", \"MS\", \n",
    "    \"MO\", \"MT\", \"NE\", \"NV\", \"NH\", \"NJ\", \"NM\", \"NY\", \"NC\", \"ND\", \"OH\", \"OK\", \n",
    "    \"OR\", \"PA\", \"RI\", \"SC\", \"SD\", \"TN\", \"TX\", \"UT\", \"VT\", \"VA\", \"WA\", \"WV\", \n",
    "    \"WI\", \"WY\"\n",
    "]\n",
    "\n",
    "state_dictionary = {\n",
    "    \"AL\": \"Alabama\", \"AK\": \"Alaska\", \"AZ\": \"Arizona\", \"AR\": \"Arkansas\", \n",
    "    \"CA\": \"California\", \"CO\": \"Colorado\", \"CT\": \"Connecticut\", \"DC\":\"District of Columbia\",\"DE\": \"Delaware\", \n",
    "    \"FL\": \"Florida\", \"GA\": \"Georgia\", \"HI\": \"Hawaii\", \"ID\": \"Idaho\", \"IL\": \"Illinois\", \n",
    "    \"IN\": \"Indiana\", \"IA\": \"Iowa\", \"KS\": \"Kansas\", \"KY\": \"Kentucky\", \"LA\": \"Louisiana\", \n",
    "    \"ME\": \"Maine\", \"MD\": \"Maryland\", \"MA\": \"Massachusetts\", \"MI\": \"Michigan\", \n",
    "    \"MN\": \"Minnesota\", \"MS\": \"Mississippi\", \"MO\": \"Missouri\", \"MT\": \"Montana\", \n",
    "    \"NE\": \"Nebraska\", \"NV\": \"Nevada\", \"NH\": \"New Hampshire\", \"NJ\": \"New Jersey\", \n",
    "    \"NM\": \"New Mexico\", \"NY\": \"New York\", \"NC\": \"North Carolina\", \"ND\": \"North Dakota\", \n",
    "    \"OH\": \"Ohio\", \"OK\": \"Oklahoma\", \"OR\": \"Oregon\", \"PA\": \"Pennsylvania\", \n",
    "    \"RI\": \"Rhode Island\", \"SC\": \"South Carolina\", \"SD\": \"South Dakota\", \"TN\": \"Tennessee\", \n",
    "    \"TX\": \"Texas\", \"UT\": \"Utah\", \"VT\": \"Vermont\", \"VA\": \"Virginia\", \"WA\": \"Washington\", \n",
    "    \"WV\": \"West Virginia\", \"WI\": \"Wisconsin\", \"WY\": \"Wyoming\"\n",
    "}\n",
    "\n",
    "state_dictionary_inv = dict(zip(state_dictionary.values(), state_dictionary.keys()))"
   ]
  },
  {
   "cell_type": "code",
   "execution_count": 3,
   "metadata": {},
   "outputs": [],
   "source": [
    "def showPie(columna, max=15, titulo=None):\n",
    "  count_values = pd.Series(columna).value_counts()\n",
    "  count_2 = count_values.copy()\n",
    "  \n",
    "  if max > count_values.shape[0]:\n",
    "    max = count_values.shape[0]\n",
    "  \n",
    "  if len(count_values) > max:\n",
    "      count_values = count_2.iloc[:max]\n",
    "      count_values['Otros'] = count_2.iloc[max:].sum()\n",
    "       \n",
    "  datos = pd.DataFrame({\"valor\":count_values.index, \"ocurrencia\": count_values.values})\n",
    "\n",
    "  if titulo == 'None':\n",
    "    plt.title(columna.name)\n",
    "  else:\n",
    "    plt.title(titulo)\n",
    "  plt.pie(datos[\"ocurrencia\"], labels=datos['valor'], autopct='%1.1f%%')\n",
    "  plt.show()\n",
    " \n",
    "def concatenar(data_1, data_2,  axis=1):\n",
    "  return pd.concat([data_1, data_2], axis=axis)\n",
    "\n",
    "def contar_nulos(data):\n",
    "  return data.isna().sum()\n",
    "\n",
    "def mapear(columna: pd.Series, mapa={'NO': 0, 'SI':1}):\n",
    "  return columna.map(mapa)\n",
    "\n",
    "def showPiePx(columna, max=15, pref=\"\", title=\"\"):\n",
    "  count_values = pd.Series(columna).value_counts()\n",
    "  count_2 = count_values.copy()\n",
    "  \n",
    "  if max > count_values.shape[0]:\n",
    "    max = count_values.shape[0]\n",
    "  \n",
    "  if len(count_values) > max:\n",
    "      count_values = count_2.iloc[:max]\n",
    "      count_values['Otros'] = count_2.iloc[max:].sum()\n",
    "      \n",
    "  if 'Otros' not in count_values.index:\n",
    "    count_values['Otros'] = 0\n",
    "  \n",
    "  datos = pd.DataFrame({\"valor\":count_values.index, \"ocurrencia\": count_values.values})\n",
    "\n",
    "     \n",
    "  # Plot pie chart using Plotly Express\n",
    "  fig = px.pie(datos, values='ocurrencia', names='valor', title=title)\n",
    "  fig.update_traces(textposition='outside', textinfo='percent+label')\n",
    "  fig.show()\n",
    "\n",
    "def nulos_filas(data):\n",
    "    return pd.DataFrame(data.isna().sum(axis=1).value_counts().reset_index().values, columns=['cant_col_nulas', 'cantidad'])\n",
    "\n",
    "def resumen(data, nombre_tabla=\"Resumen Tabla\"):\n",
    "    filas, columnas = data.shape\n",
    "    valores = filas * columnas\n",
    "    nulos, duplicados =  data.isna().values.sum(), data.duplicated().sum()\n",
    "    tasa_nulos, tasa_duplicados = nulos / valores, duplicados / valores\n",
    "\n",
    "    salida = f'''<table>\n",
    "    <thead>\n",
    "    <tr><th colspan=3 style='text-align: center'>{nombre_tabla}</th></tr>\n",
    "    </thead>\n",
    "    <tbody>\n",
    "    <tr><th> Detalle </th><th> Cantidad </th><th>Tasa</th></tr>\n",
    "    <tr><td> Filas </td><td style='text-align: right'> {filas} </td><td style='text-align: center'>---</td><tr/>\n",
    "    <tr><td> Columnas </td><td style='text-align: right'> {columnas} </td><td style='text-align: center'>---</td><tr/>\n",
    "    <tr><td> Valores </td><td style='text-align: right'> {valores} </td><td style='text-align: center'>---</td<tr/>\n",
    "    <tr><td> Nulos </td><td style='text-align: right'> {nulos} </td><td style='text-align: right'> {round(100*tasa_nulos, 2)} % </td><tr/>\n",
    "    <tr><td> Duplicados </td><td style='text-align: right'> {duplicados} </td><td style='text-align: right'> {round(100*tasa_duplicados, 2)} %</td><tr/>\n",
    "    </tbody>\n",
    "    </table>'''\n",
    "\n",
    "    display(Markdown(salida))\n",
    "\n",
    "def ver_nulos_x_fila(data):\n",
    "  ax = sns.barplot(x=nulos_filas(data).cant_col_nulas, y=nulos_filas(data).cantidad)\n",
    "  for i in ax.containers:\n",
    "      ax.bar_label(i,)\n",
    "  plt.title(\"cantidad nulos x fila\")\n",
    "  plt.show()\n",
    "\n",
    "def ver_nulos_x_columna(data):\n",
    "  nulos_columnas = data.isna().sum()[data.isna().sum() > 0].sort_values(ascending=False)\n",
    "  # ax = sns.barplot(x=nulos_columnas.index, y=nulos_columnas.values)\n",
    "  if len(nulos_columnas) > 0:\n",
    "    ax = sns.barplot(x=nulos_columnas.index, y=nulos_columnas.values)\n",
    "    for i in ax.containers:\n",
    "      ax.bar_label(i,)"
   ]
  },
  {
   "cell_type": "code",
   "execution_count": 4,
   "metadata": {},
   "outputs": [],
   "source": [
    "df_maps_restaurantes = pd.read_parquet(r'Generated\\Google\\metada_sitios.parquet')"
   ]
  },
  {
   "cell_type": "code",
   "execution_count": 5,
   "metadata": {},
   "outputs": [],
   "source": [
    "def get_state_ab(st):\n",
    "    try:\n",
    "        state = st.split(', ')[-1].split(' ')[0]\n",
    "        if state in state_abreviations:\n",
    "            return state\n",
    "        else:\n",
    "            return np.nan\n",
    "    except:\n",
    "        return np.nan\n",
    "    \n",
    "df_maps_restaurantes['state_ab'] = df_maps_restaurantes['address'].apply(get_state_ab)"
   ]
  },
  {
   "cell_type": "code",
   "execution_count": 6,
   "metadata": {},
   "outputs": [],
   "source": [
    "top_5 = df_maps_restaurantes['state_ab'].value_counts().head(5).index.to_list()"
   ]
  },
  {
   "cell_type": "code",
   "execution_count": 7,
   "metadata": {},
   "outputs": [],
   "source": [
    "df_maps_restaurantes = df_maps_restaurantes[df_maps_restaurantes['state_ab'].isin(top_5)]"
   ]
  },
  {
   "cell_type": "code",
   "execution_count": 8,
   "metadata": {},
   "outputs": [],
   "source": [
    "df_maps_restaurantes.reset_index(drop=True, inplace=True)"
   ]
  },
  {
   "cell_type": "code",
   "execution_count": 9,
   "metadata": {},
   "outputs": [
    {
     "name": "stdout",
     "output_type": "stream",
     "text": [
      "<class 'pandas.core.frame.DataFrame'>\n",
      "RangeIndex: 81394 entries, 0 to 81393\n",
      "Data columns (total 16 columns):\n",
      " #   Column            Non-Null Count  Dtype  \n",
      "---  ------            --------------  -----  \n",
      " 0   name              81394 non-null  object \n",
      " 1   address           81394 non-null  object \n",
      " 2   gmap_id           81394 non-null  object \n",
      " 3   description       25569 non-null  object \n",
      " 4   latitude          81394 non-null  float64\n",
      " 5   longitude         81394 non-null  float64\n",
      " 6   category          81394 non-null  object \n",
      " 7   avg_rating        81394 non-null  float64\n",
      " 8   num_of_reviews    81394 non-null  int64  \n",
      " 9   price             36360 non-null  object \n",
      " 10  hours             72996 non-null  object \n",
      " 11  MISC              80921 non-null  object \n",
      " 12  state             73245 non-null  object \n",
      " 13  relative_results  64236 non-null  object \n",
      " 14  url               81394 non-null  object \n",
      " 15  state_ab          81394 non-null  object \n",
      "dtypes: float64(3), int64(1), object(12)\n",
      "memory usage: 9.9+ MB\n"
     ]
    }
   ],
   "source": [
    "df_maps_restaurantes.info()"
   ]
  },
  {
   "cell_type": "code",
   "execution_count": null,
   "metadata": {},
   "outputs": [],
   "source": []
  },
  {
   "cell_type": "code",
   "execution_count": 10,
   "metadata": {},
   "outputs": [],
   "source": [
    "conteo_restaurantes = df_maps_restaurantes.name.value_counts()"
   ]
  },
  {
   "cell_type": "code",
   "execution_count": 11,
   "metadata": {},
   "outputs": [
    {
     "data": {
      "image/png": "[encoded data removed]",
      "text/plain": [
       "<Figure size 640x480 with 1 Axes>"
      ]
     },
     "metadata": {},
     "output_type": "display_data"
    }
   ],
   "source": [
    "ax = sns.barplot(conteo_restaurantes.head(25))\n",
    "ax.set_xticklabels(ax.get_xticklabels(),rotation=45,ha=\"right\",rotation_mode='anchor')\n",
    "plt.tight_layout()\n",
    "plt.show()"
   ]
  },
  {
   "cell_type": "code",
   "execution_count": 12,
   "metadata": {},
   "outputs": [
    {
     "data": {
      "text/plain": [
       "address\n",
       "Subway              2824\n",
       "Shell                552\n",
       "Domino's Pizza       520\n",
       "Dunkin'              487\n",
       "Pizza Hut            368\n",
       "                    ... \n",
       "Coffee Fever           1\n",
       "Sergeant York          1\n",
       "Bob's Happy Hour       1\n",
       "Ma Dukes               1\n",
       "Steak 48               1\n",
       "Name: count, Length: 62346, dtype: int64"
      ]
     },
     "execution_count": 12,
     "metadata": {},
     "output_type": "execute_result"
    }
   ],
   "source": [
    "df_maps_restaurantes.address.apply(lambda s: s.split(\",\")[0]).value_counts()"
   ]
  },
  {
   "cell_type": "code",
   "execution_count": 13,
   "metadata": {},
   "outputs": [
    {
     "data": {
      "text/plain": [
       "address\n",
       "6271 St Augustine Rd      1\n",
       "96-27 Linden Blvd         1\n",
       "1228 Seawall Blvd         1\n",
       "2323 Alameda Ave          1\n",
       "25-20 Beach Channel Dr    1\n",
       "549                       1\n",
       "116 N Washington Ave      1\n",
       "230 Cypress Ave           1\n",
       "2123 N Bellflower Blvd    1\n",
       "347 Don Shula Dr          1\n",
       "46577 Mission Blvd        1\n",
       "2018 Crockett Rd          1\n",
       "12444 U.S. Hwy 190        1\n",
       "700 S Florida Ave         1\n",
       "260 S Broad St            1\n",
       "Name: count, dtype: int64"
      ]
     },
     "execution_count": 13,
     "metadata": {},
     "output_type": "execute_result"
    }
   ],
   "source": [
    "df_maps_restaurantes.address.apply(lambda s: s.split(\",\")[1]).value_counts().tail(15)"
   ]
  },
  {
   "cell_type": "code",
   "execution_count": 14,
   "metadata": {},
   "outputs": [],
   "source": [
    "def split3(s):\n",
    "    try:\n",
    "        return s.split(\",\")[2]\n",
    "    except:\n",
    "        return np.nan\n",
    "    return np.nan\n",
    "    "
   ]
  },
  {
   "cell_type": "code",
   "execution_count": 15,
   "metadata": {},
   "outputs": [
    {
     "data": {
      "text/plain": [
       "address\n",
       "New York          3126\n",
       "Houston           2398\n",
       "Brooklyn          2300\n",
       "Los Angeles       2165\n",
       "Philadelphia      1559\n",
       "                  ... \n",
       "3111 S 31st St       1\n",
       "2640 NY-3            1\n",
       "FL 33544             1\n",
       "Sorrento Ave         1\n",
       "4825 SW 8th St       1\n",
       "Name: count, Length: 7317, dtype: int64"
      ]
     },
     "execution_count": 15,
     "metadata": {},
     "output_type": "execute_result"
    }
   ],
   "source": [
    "df_maps_restaurantes.address.apply(split3).value_counts()"
   ]
  },
  {
   "cell_type": "code",
   "execution_count": null,
   "metadata": {},
   "outputs": [],
   "source": []
  },
  {
   "cell_type": "code",
   "execution_count": 16,
   "metadata": {},
   "outputs": [
    {
     "data": {
      "text/plain": [
       "address\n",
       "4    77703\n",
       "5     2387\n",
       "3     1031\n",
       "6      235\n",
       "7       31\n",
       "8        6\n",
       "9        1\n",
       "Name: count, dtype: int64"
      ]
     },
     "execution_count": 16,
     "metadata": {},
     "output_type": "execute_result"
    }
   ],
   "source": [
    "df_maps_restaurantes.address.apply(lambda s: len(s.split(\",\"))).value_counts()"
   ]
  },
  {
   "cell_type": "code",
   "execution_count": 17,
   "metadata": {},
   "outputs": [],
   "source": [
    "def split4(s):\n",
    "    try:\n",
    "        return s.split(\",\")[3]\n",
    "    except:\n",
    "        return np.nan\n",
    "    return np.nan\n",
    "    \n"
   ]
  },
  {
   "cell_type": "code",
   "execution_count": 18,
   "metadata": {},
   "outputs": [
    {
     "data": {
      "text/plain": [
       "address\n",
       "NY 10003           240\n",
       "NY 10002           211\n",
       "FL 33139           194\n",
       "NY 10013           155\n",
       "NY 11211           153\n",
       "                  ... \n",
       "PA 15014             1\n",
       "728 Highway 28       1\n",
       "Honeoye              1\n",
       "North Tonawanda      1\n",
       "PA 15715             1\n",
       "Name: count, Length: 7161, dtype: int64"
      ]
     },
     "execution_count": 18,
     "metadata": {},
     "output_type": "execute_result"
    }
   ],
   "source": [
    "df_maps_restaurantes.address.apply(split4).value_counts()"
   ]
  },
  {
   "cell_type": "code",
   "execution_count": 19,
   "metadata": {},
   "outputs": [],
   "source": [
    "def split5(s,):\n",
    "    try:\n",
    "        return s.split(\",\")[4]\n",
    "    except:\n",
    "        return np.nan\n",
    "    return np.nan\n",
    "    \n"
   ]
  },
  {
   "cell_type": "code",
   "execution_count": 20,
   "metadata": {},
   "outputs": [
    {
     "data": {
      "text/plain": [
       "address\n",
       "Los Angeles           14\n",
       "TX 75261              12\n",
       "NY 10019              10\n",
       "TX 77002              10\n",
       "TX 77032               9\n",
       "                      ..\n",
       "Orangevale             1\n",
       "TX 78264               1\n",
       "CA 94513               1\n",
       "Palm Beach Gardens     1\n",
       "CA 95050               1\n",
       "Name: count, Length: 1748, dtype: int64"
      ]
     },
     "execution_count": 20,
     "metadata": {},
     "output_type": "execute_result"
    }
   ],
   "source": [
    "df_maps_restaurantes.address.apply(split5).value_counts()"
   ]
  },
  {
   "cell_type": "code",
   "execution_count": 21,
   "metadata": {},
   "outputs": [
    {
     "data": {
      "text/plain": [
       "gmap_id\n",
       "0x80c2c778e3b73d33:0xbdc58662a4a97d49    2\n",
       "0x864e87618a2d03c9:0xe54361fac6dd06d7    2\n",
       "0x89c260220dcc103d:0xf4bf41e03f3cb67e    2\n",
       "0x8640c08b5da38fed:0x387239b688b4e058    2\n",
       "0x8644d38444e3adc3:0x728c8bb7e92b7f3     2\n",
       "                                        ..\n",
       "0x80c2bc823a059619:0xb40f9cef68f0d789    1\n",
       "0x80c2bc81932f0b33:0x54b357a64282bc71    1\n",
       "0x88d905a743c48b7d:0x2e0647351506d75d    1\n",
       "0x89c6a3de9bec8d71:0xb402257b009bc3a0    1\n",
       "0x89c6c74f43a49b55:0x6be6995921c58b12    1\n",
       "Name: count, Length: 80973, dtype: int64"
      ]
     },
     "execution_count": 21,
     "metadata": {},
     "output_type": "execute_result"
    }
   ],
   "source": [
    "df_maps_restaurantes.gmap_id.value_counts()"
   ]
  },
  {
   "cell_type": "code",
   "execution_count": 22,
   "metadata": {},
   "outputs": [],
   "source": [
    "descripciones = df_maps_restaurantes.description.dropna()\n",
    "descripciones.drop_duplicates(inplace=True)\n",
    "descripciones_text = \" \".join(descripciones.tolist()).lower()"
   ]
  },
  {
   "cell_type": "code",
   "execution_count": 23,
   "metadata": {},
   "outputs": [],
   "source": [
    "wordcloud = WordCloud(stopwords = STOPWORDS,\n",
    "                      collocations=True, background_color='white').generate(descripciones_text)"
   ]
  },
  {
   "cell_type": "code",
   "execution_count": 24,
   "metadata": {},
   "outputs": [],
   "source": [
    "cuenta_palabras = pd.DataFrame(data=[wordcloud.process_text(descripciones_text)]).T.rename({0:'count'}, axis=1).sort_values(by='count',ascending=False)"
   ]
  },
  {
   "cell_type": "code",
   "execution_count": 25,
   "metadata": {},
   "outputs": [
    {
     "data": {
      "image/png": "[encoded data removed]",
      "text/plain": [
       "<Figure size 640x480 with 1 Axes>"
      ]
     },
     "metadata": {},
     "output_type": "display_data"
    }
   ],
   "source": [
    "plt.imshow(wordcloud, interpolation='bilInear')\n",
    "plt.axis('off')\n",
    "plt.show()"
   ]
  },
  {
   "cell_type": "code",
   "execution_count": 26,
   "metadata": {},
   "outputs": [
    {
     "name": "stdout",
     "output_type": "stream",
     "text": [
      "<class 'pandas.core.frame.DataFrame'>\n",
      "RangeIndex: 81394 entries, 0 to 81393\n",
      "Data columns (total 16 columns):\n",
      " #   Column            Non-Null Count  Dtype  \n",
      "---  ------            --------------  -----  \n",
      " 0   name              81394 non-null  object \n",
      " 1   address           81394 non-null  object \n",
      " 2   gmap_id           81394 non-null  object \n",
      " 3   description       25569 non-null  object \n",
      " 4   latitude          81394 non-null  float64\n",
      " 5   longitude         81394 non-null  float64\n",
      " 6   category          81394 non-null  object \n",
      " 7   avg_rating        81394 non-null  float64\n",
      " 8   num_of_reviews    81394 non-null  int64  \n",
      " 9   price             36360 non-null  object \n",
      " 10  hours             72996 non-null  object \n",
      " 11  MISC              80921 non-null  object \n",
      " 12  state             73245 non-null  object \n",
      " 13  relative_results  64236 non-null  object \n",
      " 14  url               81394 non-null  object \n",
      " 15  state_ab          81394 non-null  object \n",
      "dtypes: float64(3), int64(1), object(12)\n",
      "memory usage: 9.9+ MB\n"
     ]
    }
   ],
   "source": [
    "df_maps_restaurantes.info()"
   ]
  },
  {
   "cell_type": "code",
   "execution_count": 27,
   "metadata": {},
   "outputs": [],
   "source": [
    "df_maps_restaurantes['state_name'] = df_maps_restaurantes['state_ab'].map(state_dictionary)"
   ]
  },
  {
   "cell_type": "code",
   "execution_count": 28,
   "metadata": {},
   "outputs": [
    {
     "data": {
      "image/png": "[encoded data removed]",
      "text/plain": [
       "<Figure size 640x480 with 1 Axes>"
      ]
     },
     "metadata": {},
     "output_type": "display_data"
    }
   ],
   "source": [
    "showPie(df_maps_restaurantes.state_name)"
   ]
  },
  {
   "cell_type": "markdown",
   "metadata": {},
   "source": [
    "df_maps_restaurantes.query(\"state_ab == 'CA'\")['latitude'].describe()"
   ]
  },
  {
   "cell_type": "code",
   "execution_count": 29,
   "metadata": {},
   "outputs": [
    {
     "data": {
      "text/plain": [
       "65882    28.491847\n",
       "47662    32.542833\n",
       "68994    32.543143\n",
       "3182     32.543160\n",
       "71593    32.543172\n",
       "           ...    \n",
       "37884    41.864680\n",
       "66773    41.956804\n",
       "47165    41.957300\n",
       "66774    41.957550\n",
       "69376    41.962382\n",
       "Name: latitude, Length: 25436, dtype: float64"
      ]
     },
     "execution_count": 29,
     "metadata": {},
     "output_type": "execute_result"
    }
   ],
   "source": [
    "df_maps_restaurantes.query(\"state_ab == 'CA'\")['latitude'].sort_values()"
   ]
  },
  {
   "cell_type": "code",
   "execution_count": 30,
   "metadata": {},
   "outputs": [],
   "source": [
    "\n",
    "\n",
    "\n",
    "df_maps_restaurantes.drop(65882, inplace=True)"
   ]
  },
  {
   "cell_type": "code",
   "execution_count": 31,
   "metadata": {},
   "outputs": [
    {
     "data": {
      "image/png": "[encoded data removed]",
      "text/plain": [
       "<Figure size 640x480 with 1 Axes>"
      ]
     },
     "metadata": {},
     "output_type": "display_data"
    }
   ],
   "source": [
    "\n",
    "ax = sns.histplot(df_maps_restaurantes, x='latitude', hue='state_name', kde=True)\n",
    "\n",
    "\n",
    "ax.set_title('Distribución de latitudes')\n",
    "\n",
    "# Display the plot\n",
    "plt.show()"
   ]
  },
  {
   "cell_type": "code",
   "execution_count": 32,
   "metadata": {},
   "outputs": [
    {
     "data": {
      "image/png": "[encoded data removed]",
      "text/plain": [
       "<Figure size 640x480 with 1 Axes>"
      ]
     },
     "metadata": {},
     "output_type": "display_data"
    }
   ],
   "source": [
    "ax = sns.histplot(df_maps_restaurantes, x='longitude', hue='state_name', kde=True)\n",
    "\n",
    "\n",
    "ax.set_title('Distribución de longitudes')\n",
    "\n",
    "# Display the plot\n",
    "plt.show()"
   ]
  },
  {
   "cell_type": "code",
   "execution_count": 33,
   "metadata": {},
   "outputs": [
    {
     "data": {
      "image/png": "[encoded data removed]",
      "text/plain": [
       "<Figure size 640x480 with 1 Axes>"
      ]
     },
     "metadata": {},
     "output_type": "display_data"
    }
   ],
   "source": [
    "sns.boxplot(data=df_maps_restaurantes, x='state_name', y='latitude', hue=\"state_name\" )\n",
    "plt.title('Boxplot of Latitude')\n",
    "plt.xlabel('Latitude')\n",
    "plt.show()"
   ]
  },
  {
   "cell_type": "code",
   "execution_count": 34,
   "metadata": {},
   "outputs": [
    {
     "data": {
      "image/png": "[encoded data removed]",
      "text/plain": [
       "<Figure size 640x480 with 1 Axes>"
      ]
     },
     "metadata": {},
     "output_type": "display_data"
    }
   ],
   "source": [
    "sns.boxplot(data=df_maps_restaurantes, x='state_name', y='longitude', hue=\"state_name\" )\n",
    "plt.title('Boxplot de Longitudes')\n",
    "plt.xlabel('Longitud')\n",
    "plt.show()"
   ]
  },
  {
   "cell_type": "code",
   "execution_count": 35,
   "metadata": {},
   "outputs": [
    {
     "data": {
      "text/plain": [
       "category\n",
       "Restaurant                  35267\n",
       "Fast food restaurant         9189\n",
       "Pizza restaurant             8278\n",
       "Takeout Restaurant           8065\n",
       "Mexican restaurant           7751\n",
       "                            ...  \n",
       "Dry ice supplier                1\n",
       "Professional organizer          1\n",
       "Pressure washing service        1\n",
       "Carpet cleaning service         1\n",
       "Brazilian pastelaria            1\n",
       "Name: count, Length: 1310, dtype: int64"
      ]
     },
     "execution_count": 35,
     "metadata": {},
     "output_type": "execute_result"
    }
   ],
   "source": [
    "df_maps_restaurantes.category.explode().value_counts()"
   ]
  },
  {
   "cell_type": "code",
   "execution_count": 36,
   "metadata": {},
   "outputs": [],
   "source": [
    "categorias = df_maps_restaurantes.category"
   ]
  },
  {
   "cell_type": "code",
   "execution_count": 37,
   "metadata": {},
   "outputs": [],
   "source": [
    "categorias = categorias.astype('str')"
   ]
  },
  {
   "cell_type": "code",
   "execution_count": 38,
   "metadata": {},
   "outputs": [],
   "source": [
    "categorias = categorias.unique()"
   ]
  },
  {
   "cell_type": "code",
   "execution_count": 39,
   "metadata": {},
   "outputs": [],
   "source": [
    "# categorias = df_maps_restaurantes.category.dropna()\n",
    "# categorias.drop_duplicates(inplace=True)\n",
    "categorias = \" \".join(categorias.tolist()).lower()"
   ]
  },
  {
   "cell_type": "code",
   "execution_count": 40,
   "metadata": {},
   "outputs": [],
   "source": [
    "import re\n",
    "pattern = r\"[\\[\\]']\"\n",
    "\n",
    "categorias = re.sub(pattern, \"\",categorias )\n",
    "# categorias"
   ]
  },
  {
   "cell_type": "code",
   "execution_count": 41,
   "metadata": {},
   "outputs": [],
   "source": [
    "wordcloud = WordCloud(stopwords = STOPWORDS,\n",
    "                      collocations=True, background_color='white').generate(categorias)\n"
   ]
  },
  {
   "cell_type": "code",
   "execution_count": 42,
   "metadata": {},
   "outputs": [
    {
     "data": {
      "image/png": "[encoded data removed]",
      "text/plain": [
       "<Figure size 640x480 with 1 Axes>"
      ]
     },
     "metadata": {},
     "output_type": "display_data"
    }
   ],
   "source": [
    "plt.imshow(wordcloud, interpolation='bilInear')\n",
    "plt.axis('off')\n",
    "plt.show()"
   ]
  },
  {
   "cell_type": "code",
   "execution_count": 43,
   "metadata": {},
   "outputs": [
    {
     "data": {
      "image/png": "[encoded data removed]",
      "text/plain": [
       "<Figure size 640x480 with 1 Axes>"
      ]
     },
     "metadata": {},
     "output_type": "display_data"
    }
   ],
   "source": [
    "sns.boxplot(data=df_maps_restaurantes, x='state_name', y='avg_rating', hue=\"state_name\" )\n",
    "plt.title('Ratings promedios por estado')\n",
    "plt.xlabel('Ratings promedios')\n",
    "plt.show()"
   ]
  },
  {
   "cell_type": "code",
   "execution_count": 44,
   "metadata": {},
   "outputs": [
    {
     "data": {
      "application/vnd.plotly.v1+json": {
       "config": {
        "plotlyServerURL": "https://plot.ly"
       },
       "data": [
        {
         "domain": {
          "x": [
           0,
           1
          ],
          "y": [
           0,
           1
          ]
         },
         "hovertemplate": "valor=%{label}<br>ocurrencia=%{value}<extra></extra>",
         "labels": [
          4,
          3,
          5,
          2,
          1,
          "Otros"
         ],
         "legendgroup": "",
         "name": "",
         "showlegend": true,
         "textinfo": "percent+label",
         "textposition": "outside",
         "type": "pie",
         "values": [
          54980,
          19941,
          3794,
          2302,
          376,
          0
         ]
        }
       ],
       "layout": {
        "legend": {
         "tracegroupgap": 0
        },
        "margin": {
         "t": 60
        },
        "template": {
         "data": {
          "bar": [
           {
            "error_x": {
             "color": "#2a3f5f"
            },
            "error_y": {
             "color": "#2a3f5f"
            },
            "marker": {
             "line": {
              "color": "#E5ECF6",
              "width": 0.5
             },
             "pattern": {
              "fillmode": "overlay",
              "size": 10,
              "solidity": 0.2
             }
            },
            "type": "bar"
           }
          ],
          "barpolar": [
           {
            "marker": {
             "line": {
              "color": "#E5ECF6",
              "width": 0.5
             },
             "pattern": {
              "fillmode": "overlay",
              "size": 10,
              "solidity": 0.2
             }
            },
            "type": "barpolar"
           }
          ],
          "carpet": [
           {
            "aaxis": {
             "endlinecolor": "#2a3f5f",
             "gridcolor": "white",
             "linecolor": "white",
             "minorgridcolor": "white",
             "startlinecolor": "#2a3f5f"
            },
            "baxis": {
             "endlinecolor": "#2a3f5f",
             "gridcolor": "white",
             "linecolor": "white",
             "minorgridcolor": "white",
             "startlinecolor": "#2a3f5f"
            },
            "type": "carpet"
           }
          ],
          "choropleth": [
           {
            "colorbar": {
             "outlinewidth": 0,
             "ticks": ""
            },
            "type": "choropleth"
           }
          ],
          "contour": [
           {
            "colorbar": {
             "outlinewidth": 0,
             "ticks": ""
            },
            "colorscale": [
             [
              0,
              "#0d0887"
             ],
             [
              0.1111111111111111,
              "#46039f"
             ],
             [
              0.2222222222222222,
              "#7201a8"
             ],
             [
              0.3333333333333333,
              "#9c179e"
             ],
             [
              0.4444444444444444,
              "#bd3786"
             ],
             [
              0.5555555555555556,
              "#d8576b"
             ],
             [
              0.6666666666666666,
              "#ed7953"
             ],
             [
              0.7777777777777778,
              "#fb9f3a"
             ],
             [
              0.8888888888888888,
              "#fdca26"
             ],
             [
              1,
              "#f0f921"
             ]
            ],
            "type": "contour"
           }
          ],
          "contourcarpet": [
           {
            "colorbar": {
             "outlinewidth": 0,
             "ticks": ""
            },
            "type": "contourcarpet"
           }
          ],
          "heatmap": [
           {
            "colorbar": {
             "outlinewidth": 0,
             "ticks": ""
            },
            "colorscale": [
             [
              0,
              "#0d0887"
             ],
             [
              0.1111111111111111,
              "#46039f"
             ],
             [
              0.2222222222222222,
              "#7201a8"
             ],
             [
              0.3333333333333333,
              "#9c179e"
             ],
             [
              0.4444444444444444,
              "#bd3786"
             ],
             [
              0.5555555555555556,
              "#d8576b"
             ],
             [
              0.6666666666666666,
              "#ed7953"
             ],
             [
              0.7777777777777778,
              "#fb9f3a"
             ],
             [
              0.8888888888888888,
              "#fdca26"
             ],
             [
              1,
              "#f0f921"
             ]
            ],
            "type": "heatmap"
           }
          ],
          "heatmapgl": [
           {
            "colorbar": {
             "outlinewidth": 0,
             "ticks": ""
            },
            "colorscale": [
             [
              0,
              "#0d0887"
             ],
             [
              0.1111111111111111,
              "#46039f"
             ],
             [
              0.2222222222222222,
              "#7201a8"
             ],
             [
              0.3333333333333333,
              "#9c179e"
             ],
             [
              0.4444444444444444,
              "#bd3786"
             ],
             [
              0.5555555555555556,
              "#d8576b"
             ],
             [
              0.6666666666666666,
              "#ed7953"
             ],
             [
              0.7777777777777778,
              "#fb9f3a"
             ],
             [
              0.8888888888888888,
              "#fdca26"
             ],
             [
              1,
              "#f0f921"
             ]
            ],
            "type": "heatmapgl"
           }
          ],
          "histogram": [
           {
            "marker": {
             "pattern": {
              "fillmode": "overlay",
              "size": 10,
              "solidity": 0.2
             }
            },
            "type": "histogram"
           }
          ],
          "histogram2d": [
           {
            "colorbar": {
             "outlinewidth": 0,
             "ticks": ""
            },
            "colorscale": [
             [
              0,
              "#0d0887"
             ],
             [
              0.1111111111111111,
              "#46039f"
             ],
             [
              0.2222222222222222,
              "#7201a8"
             ],
             [
              0.3333333333333333,
              "#9c179e"
             ],
             [
              0.4444444444444444,
              "#bd3786"
             ],
             [
              0.5555555555555556,
              "#d8576b"
             ],
             [
              0.6666666666666666,
              "#ed7953"
             ],
             [
              0.7777777777777778,
              "#fb9f3a"
             ],
             [
              0.8888888888888888,
              "#fdca26"
             ],
             [
              1,
              "#f0f921"
             ]
            ],
            "type": "histogram2d"
           }
          ],
          "histogram2dcontour": [
           {
            "colorbar": {
             "outlinewidth": 0,
             "ticks": ""
            },
            "colorscale": [
             [
              0,
              "#0d0887"
             ],
             [
              0.1111111111111111,
              "#46039f"
             ],
             [
              0.2222222222222222,
              "#7201a8"
             ],
             [
              0.3333333333333333,
              "#9c179e"
             ],
             [
              0.4444444444444444,
              "#bd3786"
             ],
             [
              0.5555555555555556,
              "#d8576b"
             ],
             [
              0.6666666666666666,
              "#ed7953"
             ],
             [
              0.7777777777777778,
              "#fb9f3a"
             ],
             [
              0.8888888888888888,
              "#fdca26"
             ],
             [
              1,
              "#f0f921"
             ]
            ],
            "type": "histogram2dcontour"
           }
          ],
          "mesh3d": [
           {
            "colorbar": {
             "outlinewidth": 0,
             "ticks": ""
            },
            "type": "mesh3d"
           }
          ],
          "parcoords": [
           {
            "line": {
             "colorbar": {
              "outlinewidth": 0,
              "ticks": ""
             }
            },
            "type": "parcoords"
           }
          ],
          "pie": [
           {
            "automargin": true,
            "type": "pie"
           }
          ],
          "scatter": [
           {
            "fillpattern": {
             "fillmode": "overlay",
             "size": 10,
             "solidity": 0.2
            },
            "type": "scatter"
           }
          ],
          "scatter3d": [
           {
            "line": {
             "colorbar": {
              "outlinewidth": 0,
              "ticks": ""
             }
            },
            "marker": {
             "colorbar": {
              "outlinewidth": 0,
              "ticks": ""
             }
            },
            "type": "scatter3d"
           }
          ],
          "scattercarpet": [
           {
            "marker": {
             "colorbar": {
              "outlinewidth": 0,
              "ticks": ""
             }
            },
            "type": "scattercarpet"
           }
          ],
          "scattergeo": [
           {
            "marker": {
             "colorbar": {
              "outlinewidth": 0,
              "ticks": ""
             }
            },
            "type": "scattergeo"
           }
          ],
          "scattergl": [
           {
            "marker": {
             "colorbar": {
              "outlinewidth": 0,
              "ticks": ""
             }
            },
            "type": "scattergl"
           }
          ],
          "scattermapbox": [
           {
            "marker": {
             "colorbar": {
              "outlinewidth": 0,
              "ticks": ""
             }
            },
            "type": "scattermapbox"
           }
          ],
          "scatterpolar": [
           {
            "marker": {
             "colorbar": {
              "outlinewidth": 0,
              "ticks": ""
             }
            },
            "type": "scatterpolar"
           }
          ],
          "scatterpolargl": [
           {
            "marker": {
             "colorbar": {
              "outlinewidth": 0,
              "ticks": ""
             }
            },
            "type": "scatterpolargl"
           }
          ],
          "scatterternary": [
           {
            "marker": {
             "colorbar": {
              "outlinewidth": 0,
              "ticks": ""
             }
            },
            "type": "scatterternary"
           }
          ],
          "surface": [
           {
            "colorbar": {
             "outlinewidth": 0,
             "ticks": ""
            },
            "colorscale": [
             [
              0,
              "#0d0887"
             ],
             [
              0.1111111111111111,
              "#46039f"
             ],
             [
              0.2222222222222222,
              "#7201a8"
             ],
             [
              0.3333333333333333,
              "#9c179e"
             ],
             [
              0.4444444444444444,
              "#bd3786"
             ],
             [
              0.5555555555555556,
              "#d8576b"
             ],
             [
              0.6666666666666666,
              "#ed7953"
             ],
             [
              0.7777777777777778,
              "#fb9f3a"
             ],
             [
              0.8888888888888888,
              "#fdca26"
             ],
             [
              1,
              "#f0f921"
             ]
            ],
            "type": "surface"
           }
          ],
          "table": [
           {
            "cells": {
             "fill": {
              "color": "#EBF0F8"
             },
             "line": {
              "color": "white"
             }
            },
            "header": {
             "fill": {
              "color": "#C8D4E3"
             },
             "line": {
              "color": "white"
             }
            },
            "type": "table"
           }
          ]
         },
         "layout": {
          "annotationdefaults": {
           "arrowcolor": "#2a3f5f",
           "arrowhead": 0,
           "arrowwidth": 1
          },
          "autotypenumbers": "strict",
          "coloraxis": {
           "colorbar": {
            "outlinewidth": 0,
            "ticks": ""
           }
          },
          "colorscale": {
           "diverging": [
            [
             0,
             "#8e0152"
            ],
            [
             0.1,
             "#c51b7d"
            ],
            [
             0.2,
             "#de77ae"
            ],
            [
             0.3,
             "#f1b6da"
            ],
            [
             0.4,
             "#fde0ef"
            ],
            [
             0.5,
             "#f7f7f7"
            ],
            [
             0.6,
             "#e6f5d0"
            ],
            [
             0.7,
             "#b8e186"
            ],
            [
             0.8,
             "#7fbc41"
            ],
            [
             0.9,
             "#4d9221"
            ],
            [
             1,
             "#276419"
            ]
           ],
           "sequential": [
            [
             0,
             "#0d0887"
            ],
            [
             0.1111111111111111,
             "#46039f"
            ],
            [
             0.2222222222222222,
             "#7201a8"
            ],
            [
             0.3333333333333333,
             "#9c179e"
            ],
            [
             0.4444444444444444,
             "#bd3786"
            ],
            [
             0.5555555555555556,
             "#d8576b"
            ],
            [
             0.6666666666666666,
             "#ed7953"
            ],
            [
             0.7777777777777778,
             "#fb9f3a"
            ],
            [
             0.8888888888888888,
             "#fdca26"
            ],
            [
             1,
             "#f0f921"
            ]
           ],
           "sequentialminus": [
            [
             0,
             "#0d0887"
            ],
            [
             0.1111111111111111,
             "#46039f"
            ],
            [
             0.2222222222222222,
             "#7201a8"
            ],
            [
             0.3333333333333333,
             "#9c179e"
            ],
            [
             0.4444444444444444,
             "#bd3786"
            ],
            [
             0.5555555555555556,
             "#d8576b"
            ],
            [
             0.6666666666666666,
             "#ed7953"
            ],
            [
             0.7777777777777778,
             "#fb9f3a"
            ],
            [
             0.8888888888888888,
             "#fdca26"
            ],
            [
             1,
             "#f0f921"
            ]
           ]
          },
          "colorway": [
           "#636efa",
           "#EF553B",
           "#00cc96",
           "#ab63fa",
           "#FFA15A",
           "#19d3f3",
           "#FF6692",
           "#B6E880",
           "#FF97FF",
           "#FECB52"
          ],
          "font": {
           "color": "#2a3f5f"
          },
          "geo": {
           "bgcolor": "white",
           "lakecolor": "white",
           "landcolor": "#E5ECF6",
           "showlakes": true,
           "showland": true,
           "subunitcolor": "white"
          },
          "hoverlabel": {
           "align": "left"
          },
          "hovermode": "closest",
          "mapbox": {
           "style": "light"
          },
          "paper_bgcolor": "white",
          "plot_bgcolor": "#E5ECF6",
          "polar": {
           "angularaxis": {
            "gridcolor": "white",
            "linecolor": "white",
            "ticks": ""
           },
           "bgcolor": "#E5ECF6",
           "radialaxis": {
            "gridcolor": "white",
            "linecolor": "white",
            "ticks": ""
           }
          },
          "scene": {
           "xaxis": {
            "backgroundcolor": "#E5ECF6",
            "gridcolor": "white",
            "gridwidth": 2,
            "linecolor": "white",
            "showbackground": true,
            "ticks": "",
            "zerolinecolor": "white"
           },
           "yaxis": {
            "backgroundcolor": "#E5ECF6",
            "gridcolor": "white",
            "gridwidth": 2,
            "linecolor": "white",
            "showbackground": true,
            "ticks": "",
            "zerolinecolor": "white"
           },
           "zaxis": {
            "backgroundcolor": "#E5ECF6",
            "gridcolor": "white",
            "gridwidth": 2,
            "linecolor": "white",
            "showbackground": true,
            "ticks": "",
            "zerolinecolor": "white"
           }
          },
          "shapedefaults": {
           "line": {
            "color": "#2a3f5f"
           }
          },
          "ternary": {
           "aaxis": {
            "gridcolor": "white",
            "linecolor": "white",
            "ticks": ""
           },
           "baxis": {
            "gridcolor": "white",
            "linecolor": "white",
            "ticks": ""
           },
           "bgcolor": "#E5ECF6",
           "caxis": {
            "gridcolor": "white",
            "linecolor": "white",
            "ticks": ""
           }
          },
          "title": {
           "x": 0.05
          },
          "xaxis": {
           "automargin": true,
           "gridcolor": "white",
           "linecolor": "white",
           "ticks": "",
           "title": {
            "standoff": 15
           },
           "zerolinecolor": "white",
           "zerolinewidth": 2
          },
          "yaxis": {
           "automargin": true,
           "gridcolor": "white",
           "linecolor": "white",
           "ticks": "",
           "title": {
            "standoff": 15
           },
           "zerolinecolor": "white",
           "zerolinewidth": 2
          }
         }
        }
       }
      }
     },
     "metadata": {},
     "output_type": "display_data"
    }
   ],
   "source": [
    "showPiePx(df_maps_restaurantes.avg_rating.astype(int))"
   ]
  },
  {
   "cell_type": "code",
   "execution_count": 62,
   "metadata": {},
   "outputs": [
    {
     "data": {
      "application/vnd.plotly.v1+json": {
       "config": {
        "plotlyServerURL": "https://plot.ly"
       },
       "data": [
        {
         "alignmentgroup": "True",
         "bingroup": "x",
         "hovertemplate": "avg_rating=%{x}<br>count=%{y}<extra></extra>",
         "legendgroup": "",
         "marker": {
          "color": "#636efa",
          "pattern": {
           "shape": ""
          }
         },
         "name": "",
         "offsetgroup": "",
         "orientation": "v",
         "showlegend": false,
         "type": "histogram",
         "x": [
          4,
          3.7,
          3.2,
          3.5,
          4.2,
          3.6,
          4,
          3.7,
          3.2,
          3.5,
          4.2,
          3.6,
          3,
          3.8,
          4.3,
          3.2,
          2.6,
          3.4,
          3.7,
          3.2,
          4.4,
          3.6,
          4.4,
          3.5,
          2.8,
          3.3,
          4.4,
          3.5,
          3.7,
          2.2,
          2.5,
          3.4,
          4.5,
          3.8,
          3.7,
          4.6,
          3.9,
          4.1,
          4,
          4.1,
          4.1,
          3.5,
          3.2,
          3.4,
          4.4,
          3.7,
          3.9,
          3.5,
          4.2,
          2.1,
          3.8,
          3,
          4.3,
          4,
          3.8,
          3.6,
          4.1,
          3.7,
          4,
          3.7,
          3.7,
          3.3,
          3.2,
          3.2,
          4.3,
          4.2,
          4.3,
          3.8,
          1.6,
          4.1,
          3.6,
          3.4,
          3,
          3.9,
          3.9,
          3.7,
          4.2,
          3,
          5,
          4.2,
          2.9,
          4,
          3.4,
          2.8,
          3.4,
          4.3,
          3.3,
          2,
          4.2,
          3.6,
          3.1,
          3.4,
          3.2,
          4.1,
          2.3,
          3.8,
          3.7,
          3.7,
          4.4,
          3.5,
          3.9,
          3,
          2.9,
          3.5,
          3.3,
          3.8,
          2.5,
          3.8,
          3,
          3.5,
          3.1,
          3.8,
          3.8,
          3.7,
          3.5,
          3,
          4,
          3.3,
          3.9,
          4.5,
          3.7,
          2.7,
          3.1,
          4.1,
          3.4,
          4.3,
          3.8,
          3.5,
          2.6,
          3.1,
          4,
          3.6,
          3.6,
          3.8,
          3.2,
          3.1,
          3.9,
          4,
          3.8,
          3,
          3.8,
          3.6,
          4.3,
          3.2,
          3.8,
          3.6,
          4.8,
          3.7,
          3.5,
          3.1,
          2.6,
          3.1,
          4.4,
          3.7,
          3.8,
          3.5,
          4.1,
          3.9,
          4.2,
          3.6,
          3.3,
          3.2,
          4,
          3.2,
          3.7,
          2.6,
          3.4,
          3.4,
          3.7,
          2.7,
          4.1,
          3.3,
          4.2,
          3.8,
          3.5,
          3.9,
          3.7,
          3.2,
          3.6,
          3.4,
          4.3,
          3,
          3.8,
          3.9,
          2.6,
          4.2,
          4,
          3.8,
          3.9,
          4.2,
          4.1,
          3.1,
          3,
          4,
          3.9,
          4.3,
          4.1,
          3.4,
          3.3,
          3.4,
          4.4,
          4.1,
          3.2,
          3.7,
          3.3,
          3.6,
          3.8,
          4.3,
          4.3,
          4.1,
          3.5,
          3.1,
          4.2,
          3.4,
          3.8,
          3.9,
          3.8,
          4,
          3.9,
          3.3,
          3.8,
          4.4,
          3.8,
          4.2,
          4,
          4,
          3.4,
          4.4,
          2.5,
          4.1,
          3.1,
          3.4,
          3.3,
          4.2,
          4,
          3.8,
          4,
          3.6,
          3,
          3.5,
          3.5,
          3.4,
          3.3,
          3.4,
          4.3,
          3.8,
          3.8,
          3.4,
          3.4,
          3.8,
          3.5,
          4.2,
          3.6,
          3.5,
          3.8,
          3.6,
          3.7,
          4,
          3.8,
          4,
          4.1,
          2.7,
          3.8,
          4.2,
          3.7,
          2.9,
          3.9,
          3.4,
          3,
          2,
          3.6,
          3.8,
          3.1,
          3.8,
          3.3,
          3.1,
          3.7,
          4,
          4.1,
          4.2,
          3.8,
          2.2,
          3.7,
          4.5,
          3.4,
          4.1,
          4,
          3.5,
          4.3,
          4.3,
          3.4,
          4.5,
          4.3,
          3.6,
          3.9,
          2.7,
          3,
          3.2,
          3.3,
          3.6,
          3.7,
          4.2,
          4.2,
          3.4,
          4.1,
          4.3,
          3.3,
          3,
          3.8,
          4.1,
          3.9,
          4,
          3.4,
          4.3,
          3.7,
          4.1,
          3.7,
          3.2,
          3.5,
          4,
          2.7,
          3.2,
          3.2,
          3.5,
          2.7,
          3.4,
          3.2,
          3.2,
          4.3,
          2.9,
          3.5,
          3.8,
          4.5,
          4,
          3.9,
          3.8,
          3.7,
          3.3,
          3.4,
          2.8,
          4.1,
          3.2,
          3.4,
          3.1,
          4.2,
          3.2,
          3.1,
          3.8,
          3.9,
          3.7,
          3.8,
          3.8,
          4.1,
          4.1,
          4.3,
          4,
          3.6,
          4.2,
          3,
          3.8,
          3.4,
          3.9,
          4,
          3.8,
          4.1,
          3.9,
          4.1,
          3.3,
          3.9,
          3.8,
          3.9,
          4.2,
          3.1,
          3.7,
          4.4,
          3.7,
          3.8,
          1.8,
          3.8,
          2.5,
          3.7,
          3.5,
          3.4,
          3.3,
          4.1,
          4.1,
          4.1,
          3.5,
          3.7,
          4.1,
          3.8,
          4.3,
          4.3,
          3.3,
          4,
          3.6,
          3.6,
          3.2,
          3.9,
          4.2,
          3.5,
          4.2,
          4.2,
          4.3,
          3,
          3.8,
          3.3,
          3.2,
          3.8,
          3.8,
          3.3,
          3.9,
          2.4,
          1.6,
          4.4,
          4.1,
          2.2,
          3.7,
          3.9,
          3.2,
          3.7,
          4,
          3.9,
          3.4,
          4.3,
          3.1,
          4.4,
          3,
          3.6,
          3.6,
          3.1,
          3.4,
          4.1,
          3.6,
          4,
          4.1,
          4.4,
          3.3,
          4.1,
          3.6,
          4,
          3.6,
          4,
          3.9,
          4.1,
          4.1,
          2.9,
          3.1,
          4.3,
          3.7,
          4.2,
          3.8,
          3.9,
          3.9,
          4.5,
          4.1,
          4.2,
          3.8,
          4.1,
          3.7,
          2.7,
          4.2,
          3.4,
          3.9,
          3.2,
          3.5,
          3.3,
          3.8,
          3,
          3.3,
          2.6,
          3.6,
          4.4,
          3.8,
          3.7,
          2.8,
          2.7,
          4.2,
          2.6,
          4.6,
          4.4,
          3.7,
          3.1,
          4.1,
          3.9,
          4,
          3.4,
          3.8,
          3.6,
          3.6,
          2.8,
          2.4,
          3.7,
          4,
          4.2,
          3.4,
          3,
          3.6,
          3.8,
          4.4,
          3.9,
          4.1,
          3.9,
          3.5,
          4.1,
          3.7,
          3.5,
          4,
          4.3,
          3.4,
          2.9,
          4,
          3.3,
          3.6,
          3.9,
          4,
          4.2,
          3.1,
          3.9,
          3.9,
          4,
          3.8,
          3.5,
          3.5,
          3.8,
          3.5,
          3.9,
          4.2,
          4,
          3.9,
          3.7,
          4.9,
          2.9,
          2.8,
          2.7,
          3.7,
          4.1,
          3.7,
          3.8,
          3.1,
          3.9,
          3.3,
          3.5,
          4.4,
          3.8,
          4.1,
          4.1,
          4.1,
          3.4,
          3.9,
          4.1,
          2.4,
          3.7,
          3.7,
          3.7,
          3.3,
          3.7,
          4.1,
          4.1,
          3.5,
          3.6,
          3.9,
          3.1,
          2.6,
          3.7,
          3.8,
          3.9,
          3.5,
          4.4,
          3.6,
          4.1,
          3.8,
          3.8,
          3,
          3.8,
          3.9,
          4.1,
          3.3,
          4,
          3,
          2.9,
          4.1,
          4,
          3,
          4.1,
          3.4,
          2.7,
          3.8,
          3.7,
          4.1,
          4.3,
          4.6,
          3.7,
          3.9,
          4.2,
          3.9,
          4.2,
          4,
          4.1,
          4.2,
          3.7,
          3.9,
          4.1,
          4.1,
          3.6,
          4,
          4,
          3.9,
          4.1,
          3.9,
          3.6,
          3.4,
          3.9,
          4.3,
          4.2,
          3.8,
          3.9,
          2.5,
          3.7,
          3.7,
          3.3,
          3.6,
          3.8,
          4,
          4.4,
          3.9,
          4.3,
          4.1,
          3.8,
          3.3,
          3.9,
          3.1,
          4.2,
          3.3,
          2.9,
          3.9,
          3.8,
          4,
          3.3,
          3.6,
          4,
          3.5,
          3.2,
          2.5,
          3.4,
          3.3,
          3.8,
          4.2,
          4.6,
          3.5,
          3.6,
          4.3,
          2.8,
          3.3,
          3.6,
          3.4,
          3.7,
          3.6,
          3.9,
          3.9,
          3.7,
          3.9,
          4.4,
          3.7,
          3.9,
          3.7,
          3.6,
          3.4,
          1.8,
          3.5,
          4.2,
          3.6,
          4.2,
          3.1,
          3.8,
          4.1,
          3.8,
          3.4,
          4.3,
          3.9,
          3.6,
          4,
          4.3,
          4.2,
          2.9,
          3.8,
          3.6,
          4.2,
          4.1,
          4,
          4.1,
          3.3,
          3.2,
          3.9,
          4.2,
          3.9,
          3.4,
          4.2,
          2.8,
          3.4,
          2.7,
          4,
          4,
          3.9,
          4.1,
          3.9,
          4.2,
          3.3,
          3.9,
          3.5,
          4,
          3.6,
          3.4,
          4.2,
          3.9,
          3.9,
          3.2,
          3.6,
          4,
          4.1,
          3.3,
          4.1,
          4.4,
          3.2,
          3,
          4.2,
          3.8,
          2.9,
          3,
          3.6,
          4.2,
          4.2,
          4,
          3.9,
          3.4,
          3.6,
          3.7,
          4.3,
          3.6,
          3.9,
          4.3,
          3,
          3.6,
          3.9,
          3,
          3.5,
          3.3,
          4,
          3.4,
          2.8,
          3.6,
          4.6,
          3.4,
          3.2,
          3.7,
          4.2,
          4.2,
          4.4,
          3.5,
          3.2,
          3.6,
          4.2,
          3.5,
          3.2,
          3.7,
          3.9,
          3.6,
          4.2,
          4,
          3.8,
          3.6,
          3.8,
          3.6,
          4.1,
          3.6,
          2.9,
          4.2,
          3.2,
          3.3,
          4.1,
          4.1,
          4.4,
          3.9,
          3.7,
          3.7,
          4.2,
          3.2,
          3.5,
          4,
          3.9,
          4,
          4.1,
          4,
          4.2,
          4,
          4,
          4,
          4.3,
          3.6,
          3.4,
          3.7,
          4.3,
          3.9,
          3.7,
          2.6,
          4.1,
          3.5,
          4.4,
          3.8,
          3.9,
          4,
          3.5,
          4.2,
          4,
          3.6,
          3.8,
          3.8,
          4.2,
          3.2,
          4,
          3.5,
          4,
          3.5,
          3.9,
          2.7,
          3.4,
          3.7,
          4.3,
          3.6,
          3.7,
          4.1,
          3.9,
          3.9,
          3,
          3.9,
          4.2,
          3.4,
          4,
          2.7,
          4,
          4.4,
          3.8,
          3.8,
          3.8,
          3.5,
          3.3,
          3.4,
          3.2,
          4,
          3.7,
          3.7,
          3.9,
          4,
          3.6,
          3.7,
          4.3,
          3.6,
          4.2,
          3.7,
          4,
          4.4,
          3.8,
          3.1,
          3.4,
          3.3,
          3.4,
          4.2,
          3.5,
          4.3,
          4.3,
          3.5,
          4.5,
          3.4,
          4,
          3.9,
          3.3,
          3.9,
          4.3,
          3.9,
          3.9,
          3.4,
          4.1,
          4,
          3.6,
          2.7,
          3.9,
          3.9,
          3.9,
          3.5,
          3.5,
          4.4,
          4.2,
          3,
          4.1,
          4.2,
          4.2,
          3.3,
          3.6,
          3.9,
          3.5,
          3,
          3.6,
          4.3,
          3.2,
          3.8,
          4.2,
          4.3,
          3.4,
          3.8,
          3.2,
          3,
          3.7,
          3.6,
          4.2,
          3.8,
          3.3,
          3.5,
          4.6,
          2.9,
          3.6,
          4.2,
          2.8,
          4,
          3.3,
          3.5,
          3.7,
          3.6,
          4.1,
          2.6,
          3.1,
          3.4,
          3.9,
          3.5,
          3.7,
          4,
          3.6,
          4.2,
          4.2,
          3.8,
          3.1,
          4.2,
          4.1,
          3.7,
          4,
          4.1,
          4,
          3.4,
          3.7,
          4.1,
          2.4,
          4.3,
          3.6,
          3.7,
          4.2,
          3.6,
          3.3,
          3.7,
          4.3,
          4,
          4.3,
          3.5,
          3.7,
          4,
          4.1,
          2.5,
          2.8,
          2.5,
          4.4,
          3.8,
          3.6,
          3.9,
          3.8,
          3.6,
          4,
          3.5,
          2.9,
          4.3,
          4.1,
          3.8,
          4.1,
          4.2,
          3.2,
          3.5,
          4.3,
          3.9,
          3.8,
          3.9,
          4.2,
          4.2,
          3.8,
          4.2,
          3.8,
          3.3,
          3.8,
          4.2,
          4.2,
          3.5,
          4.1,
          4.3,
          3.6,
          3.9,
          3.5,
          3.6,
          2,
          3.7,
          3.4,
          3.6,
          4,
          3.9,
          3.8,
          3.9,
          3.9,
          4.2,
          3.9,
          3.8,
          3.8,
          3.2,
          4.3,
          4.3,
          3.5,
          3.6,
          4,
          4.1,
          4,
          3.9,
          5,
          3.9,
          4.4,
          3.8,
          4.3,
          4.2,
          4,
          3.5,
          4.3,
          4,
          4.1,
          4.1,
          3.9,
          4,
          4.4,
          4.2,
          4,
          3.6,
          3.6,
          3.8,
          4.3,
          4.1,
          3.8,
          4.4,
          3,
          3.7,
          3.7,
          3.2,
          3.4,
          4.1,
          4,
          3.4,
          4.3,
          4.2,
          3.9,
          4.2,
          4.1,
          4,
          3.7,
          3.7,
          3.8,
          3.7,
          4,
          3.2,
          3.9,
          4.1,
          4.2,
          3.6,
          3.7,
          4.6,
          4,
          4.5,
          4.1,
          4,
          4.3,
          3.7,
          3.8,
          4.1,
          4.2,
          4.1,
          3.5,
          3.9,
          4.2,
          3.9,
          3.7,
          3.9,
          4.4,
          3.3,
          3.9,
          4.3,
          4.2,
          4.2,
          3.4,
          2.3,
          4.3,
          3.8,
          3.7,
          3.6,
          4.1,
          3.3,
          3.9,
          4,
          2.9,
          4.6,
          4.5,
          4,
          3.4,
          3.9,
          4,
          3.7,
          3.9,
          4.3,
          4.2,
          4.4,
          4.2,
          3.5,
          4.2,
          3.3,
          4,
          4.4,
          4,
          3.7,
          4.1,
          4,
          2.3,
          2.3,
          4.1,
          4.7,
          4.5,
          4,
          4.3,
          3.8,
          4.4,
          3.9,
          3.9,
          3.4,
          4.2,
          3.3,
          3.2,
          4,
          4.1,
          3.9,
          3.4,
          3.6,
          4.1,
          3.8,
          4.3,
          4.3,
          3.7,
          2.8,
          3.5,
          3.9,
          4.2,
          4,
          3.5,
          4,
          3,
          3.9,
          3.6,
          4.7,
          3.2,
          3.3,
          4.2,
          2.9,
          3.9,
          4.1,
          4.3,
          3.5,
          4.1,
          3.5,
          3.4,
          3.9,
          4.5,
          3.8,
          3.8,
          4.1,
          3.8,
          3.3,
          3.5,
          2.8,
          3.6,
          3.8,
          3.6,
          3.5,
          2.9,
          3.8,
          3.8,
          4,
          4.3,
          4,
          3.8,
          3.6,
          3.5,
          3.6,
          4.3,
          3.9,
          3.4,
          3.4,
          4,
          4.1,
          3.7,
          3.8,
          3.5,
          4.1,
          3.4,
          3.4,
          3.8,
          3.8,
          4.3,
          3.7,
          4.1,
          3.8,
          3.4,
          3.9,
          4.2,
          3.7,
          3.7,
          3.7,
          4.1,
          3.8,
          4,
          3.9,
          3.7,
          4,
          3.6,
          4,
          3.7,
          3.9,
          3.6,
          3.8,
          3.5,
          3.4,
          4.2,
          3.6,
          3.9,
          4,
          3.7,
          3.1,
          4.2,
          3.8,
          3.3,
          4,
          4.1,
          4.3,
          4.5,
          3.6,
          2.9,
          4,
          4,
          3.8,
          2.7,
          3.3,
          2.9,
          3.6,
          3.8,
          3.1,
          3.5,
          3.6,
          3.7,
          4.1,
          3.9,
          3.7,
          3.3,
          3.8,
          2.5,
          4.3,
          3,
          3.5,
          4,
          3.6,
          4,
          3.4,
          3.5,
          3.7,
          4.2,
          4.3,
          3.7,
          4.6,
          3.5,
          4.4,
          3.5,
          4.1,
          4.1,
          4.1,
          3.4,
          4,
          4,
          3.4,
          4.2,
          4.3,
          4.3,
          4.3,
          3.3,
          2.5,
          2.3,
          4,
          3.5,
          4.4,
          4.2,
          3.8,
          4.3,
          3.1,
          4.2,
          4,
          4.6,
          3.9,
          3.9,
          4.3,
          4,
          4,
          3.5,
          3.7,
          3.9,
          3.4,
          4,
          4.2,
          3.7,
          3.4,
          3.9,
          4.2,
          3.6,
          4.2,
          3.9,
          3.9,
          4,
          4.1,
          4.1,
          3.6,
          3.5,
          4.2,
          3.8,
          3.2,
          3.7,
          3.9,
          3.9,
          4,
          3.9,
          4.2,
          3.7,
          3.7,
          3.9,
          3.8,
          4.3,
          4.1,
          3.8,
          4,
          4.1,
          4.3,
          4.2,
          3.9,
          3.9,
          4.5,
          3.4,
          4.3,
          3.8,
          2.9,
          4,
          3.6,
          3.7,
          3.7,
          4,
          4.2,
          3.7,
          4,
          3,
          4.1,
          3.8,
          4.2,
          4,
          3.6,
          3.8,
          3.8,
          3.9,
          3.6,
          3.9,
          3.8,
          4.1,
          3.3,
          3.5,
          3.6,
          4,
          3.6,
          3.2,
          3.4,
          3.8,
          3.8,
          4.3,
          4.1,
          3.7,
          3.8,
          3.9,
          3.6,
          3.9,
          3.1,
          3.8,
          3.9,
          3.6,
          4.3,
          3.7,
          3.1,
          3.9,
          3.5,
          3.9,
          3.4,
          4.1,
          3.7,
          2.9,
          3.5,
          4,
          4.1,
          3.6,
          4.2,
          4,
          4,
          4.2,
          3.9,
          4.1,
          3.9,
          3.6,
          3.7,
          4,
          4,
          3.1,
          3.8,
          3.7,
          3.8,
          3.8,
          4.1,
          3.6,
          3.9,
          4.5,
          4.2,
          3.9,
          3.8,
          3.4,
          3.7,
          4.1,
          3.8,
          3.9,
          4,
          4,
          3.9,
          4,
          3.9,
          3.7,
          4.4,
          4.1,
          3.5,
          3.7,
          3.8,
          3.8,
          4.1,
          4.1,
          4.2,
          3.5,
          3.7,
          4,
          3.5,
          4.3,
          3.8,
          4.1,
          3.6,
          4.2,
          4,
          3.1,
          4,
          4.1,
          3.9,
          4.3,
          3.2,
          3.7,
          4.2,
          4.3,
          2.9,
          4.2,
          2.8,
          3.2,
          4.2,
          4.2,
          3.7,
          3.9,
          3.6,
          3.8,
          2.7,
          4,
          4.1,
          3.7,
          3.8,
          3.4,
          3.7,
          3.9,
          4,
          3.5,
          4.1,
          3.9,
          3.7,
          4.1,
          4.1,
          3.8,
          3.7,
          3.8,
          3.7,
          4,
          4.2,
          3.1,
          4.2,
          4,
          4.3,
          3.7,
          3.4,
          4,
          4.3,
          4,
          3.7,
          4.1,
          3.6,
          3.7,
          4,
          4.4,
          3.9,
          3.9,
          3.5,
          3.7,
          3.9,
          4,
          4.4,
          4.1,
          4.1,
          2.9,
          4.1,
          3.8,
          3.5,
          2.4,
          4.4,
          4,
          4.2,
          3.9,
          3.6,
          4.1,
          3.6,
          3.7,
          3.8,
          2.8,
          4.4,
          3.6,
          4.2,
          3.9,
          3.5,
          2.8,
          3.6,
          4.1,
          3.8,
          3.8,
          3.5,
          3.7,
          2.7,
          3.8,
          4.1,
          3.9,
          3.8,
          3.5,
          3.6,
          4.4,
          4,
          4.3,
          3.7,
          2.8,
          4.4,
          4,
          3.9,
          4.2,
          3.3,
          3.2,
          4,
          3.4,
          3.8,
          3.7,
          3.7,
          2.6,
          4.2,
          4.2,
          4.1,
          3.4,
          4.1,
          4.2,
          3.4,
          3.5,
          4.3,
          4.4,
          4.2,
          3.6,
          3.2,
          4,
          3.8,
          5,
          3.8,
          3.9,
          3.8,
          4.1,
          4,
          4,
          3.9,
          3.4,
          4.2,
          3.7,
          3.7,
          2.2,
          4.3,
          4.3,
          3.7,
          3.7,
          3.9,
          3.8,
          2.6,
          3.7,
          4.2,
          3.7,
          3.8,
          4.1,
          3.9,
          4.2,
          4.1,
          3.3,
          3.6,
          3.6,
          4.1,
          3.8,
          4,
          3.7,
          3.4,
          4.2,
          4,
          3.4,
          3.9,
          3.6,
          4.2,
          3.6,
          4,
          3.9,
          3.7,
          4.1,
          4.3,
          3.6,
          3.5,
          2.1,
          4.2,
          3.4,
          3.6,
          3.9,
          3.9,
          3.9,
          3.9,
          3.7,
          3.7,
          4,
          3.8,
          4.2,
          4,
          2.4,
          3.8,
          3.3,
          3.7,
          3.9,
          3.6,
          3.5,
          4.2,
          4,
          3.7,
          3.7,
          4.6,
          3.8,
          4.2,
          4.4,
          4.1,
          4.1,
          3.7,
          3.5,
          3.9,
          4.2,
          4.3,
          3.9,
          3.4,
          4.4,
          4.1,
          3.2,
          3.8,
          3.6,
          4.1,
          4.2,
          3.5,
          3.8,
          3.6,
          3.5,
          4.3,
          3.6,
          3.9,
          4.2,
          3.1,
          3.2,
          4.1,
          4.3,
          3.8,
          4,
          4,
          3.4,
          4.1,
          4,
          4,
          3.5,
          4.1,
          4.2,
          3.8,
          4.3,
          4,
          3.6,
          2.9,
          3.4,
          3.2,
          4.3,
          4,
          4.3,
          4.1,
          4,
          4.2,
          3.6,
          4.1,
          3,
          4.3,
          4,
          4.2,
          3.5,
          3.5,
          3.4,
          3.3,
          3.7,
          3.6,
          4.1,
          3.7,
          3.4,
          4.1,
          3.8,
          3.3,
          4.1,
          3.8,
          3.9,
          4.2,
          3.5,
          2.5,
          4.2,
          4,
          4.2,
          3.3,
          3.8,
          3.9,
          4.3,
          4.1,
          3.7,
          4.2,
          4.4,
          4.2,
          4,
          3.4,
          2.7,
          4.1,
          3.6,
          3.7,
          2.2,
          4.3,
          4.1,
          3.8,
          4.3,
          3.8,
          3.9,
          4,
          3.7,
          3.8,
          3.9,
          3.3,
          4.2,
          3.8,
          3.5,
          4.2,
          4.3,
          3.7,
          3.7,
          4.3,
          3.7,
          3.5,
          3.5,
          3.7,
          4.3,
          4.2,
          3.8,
          3.8,
          3.7,
          4.1,
          3.1,
          4.3,
          4.2,
          3.6,
          3.9,
          3.2,
          3.4,
          4.1,
          3.7,
          3.9,
          4.2,
          4.1,
          3.3,
          4.1,
          2.7,
          4.3,
          3.2,
          4.3,
          3.6,
          3.6,
          4.1,
          4.1,
          3.5,
          3.9,
          4,
          3.3,
          4.2,
          3.6,
          4.3,
          3.8,
          3.3,
          3.9,
          3.5,
          3.8,
          3.8,
          3.4,
          4.1,
          4.2,
          3.7,
          3.1,
          4.3,
          3.5,
          4,
          4.2,
          4,
          3.3,
          3.1,
          3.7,
          3.4,
          2.6,
          4.2,
          4,
          3.5,
          4.1,
          4.1,
          4.1,
          3.8,
          4.2,
          3.8,
          4.2,
          4.3,
          4.1,
          4.1,
          4,
          3.5,
          4.2,
          3.7,
          3.9,
          3.9,
          4.1,
          3.4,
          4.2,
          3.8,
          3.7,
          4,
          4,
          3.7,
          3.8,
          4.1,
          3.3,
          4.3,
          4.1,
          4.1,
          3.8,
          3.9,
          4.2,
          3.7,
          4.3,
          4.2,
          4.2,
          3.7,
          4.3,
          3.8,
          3.9,
          3.1,
          3.9,
          3.5,
          3.8,
          3.8,
          3.7,
          4.2,
          3.8,
          2.6,
          3.9,
          4.1,
          4.4,
          3.8,
          4.1,
          3.8,
          4,
          4.4,
          3.8,
          3.9,
          3.5,
          3.6,
          3.9,
          4.5,
          4.3,
          4.2,
          4,
          4,
          3.7,
          4.1,
          3.9,
          4,
          4,
          3.5,
          4.1,
          3.8,
          4.3,
          3.8,
          4.3,
          4.1,
          4.2,
          4.1,
          4.2,
          4.1,
          3.8,
          3.9,
          3.8,
          3.1,
          3.8,
          4,
          3.7,
          4.2,
          3.8,
          3.5,
          4.3,
          4,
          3.9,
          3.9,
          3.7,
          3.9,
          4.1,
          3.7,
          4.2,
          4,
          3.3,
          3.9,
          2.9,
          3.7,
          4.2,
          4,
          4.4,
          3.4,
          4.2,
          3.7,
          4.1,
          3.8,
          3.4,
          3.4,
          4,
          3.9,
          4,
          4.4,
          2.9,
          4.1,
          4,
          3.3,
          3.5,
          3.8,
          3.9,
          3.8,
          3.9,
          3.8,
          3.9,
          3.6,
          3.4,
          3.8,
          3.5,
          2.3,
          3.3,
          2,
          3.6,
          4.3,
          3.4,
          3.6,
          3.9,
          3.7,
          2.5,
          3.4,
          4,
          3,
          4.2,
          3.9,
          4,
          3,
          3.6,
          3.7,
          4,
          2.7,
          4,
          3.8,
          3.9,
          4.5,
          4.5,
          4,
          4.2,
          3.8,
          4.2,
          4.3,
          4,
          3.6,
          3.7,
          3.2,
          4.1,
          3.4,
          3.4,
          4,
          3.9,
          2.8,
          4.1,
          3.3,
          3.6,
          3.2,
          3.7,
          4.1,
          3.8,
          4.3,
          4,
          4.1,
          4,
          3.7,
          4.1,
          4,
          3.7,
          3.2,
          4.2,
          3.8,
          3,
          4.1,
          3.7,
          3.9,
          4,
          4.1,
          4.3,
          3.8,
          4.1,
          3.4,
          4.1,
          4.3,
          3.9,
          4.2,
          4.7,
          3.2,
          4,
          3.6,
          4.2,
          4.2,
          4.3,
          3.6,
          4,
          4.1,
          4,
          4.3,
          2.9,
          4.3,
          4.3,
          3.4,
          4.2,
          4,
          3.5,
          3.7,
          4,
          4.3,
          3.6,
          3.6,
          3.8,
          4.2,
          4.1,
          3.6,
          3.6,
          4,
          3.1,
          4.3,
          3.9,
          4,
          4.6,
          4.1,
          4.1,
          3.6,
          3.3,
          4.3,
          3.3,
          3.9,
          4,
          4,
          3.9,
          4.2,
          4.1,
          4,
          3.8,
          3.7,
          3.8,
          3.4,
          3.7,
          4,
          4.1,
          4.1,
          3.3,
          4.2,
          3.7,
          3.8,
          3.7,
          3.8,
          3.2,
          4.4,
          4.1,
          4.1,
          3.4,
          3.6,
          3.7,
          3.9,
          4,
          3.9,
          3.4,
          2.8,
          3.5,
          4.2,
          3.9,
          4.2,
          3.9,
          4,
          4.4,
          4.2,
          4.3,
          3.6,
          3.3,
          4.1,
          3.1,
          3.9,
          4,
          3.8,
          4.1,
          4.2,
          4.3,
          3.8,
          2.7,
          3.7,
          4,
          3.8,
          4.1,
          4.3,
          3.7,
          3.5,
          2.2,
          4.2,
          3.7,
          4.3,
          4.4,
          3.7,
          4.1,
          3.9,
          3.7,
          4.2,
          4.2,
          4.2,
          4.4,
          4.1,
          4,
          3.1,
          3.5,
          3.9,
          3.5,
          4.1,
          4,
          3.9,
          4.3,
          4,
          2.8,
          4,
          4,
          4.2,
          3.8,
          4.5,
          2.5,
          4.3,
          3.9,
          3.9,
          3.6,
          3.9,
          4.1,
          3.5,
          3.7,
          3.3,
          3.9,
          3.9,
          3.7,
          4.4,
          3.7,
          4,
          3.9,
          3.7,
          4.1,
          3.9,
          3.9,
          4.1,
          3.5,
          3.5,
          3.5,
          3.8,
          3.3,
          3.9,
          3.9,
          3.8,
          3.4,
          3.6,
          3.2,
          3.8,
          3.3,
          3.8,
          4.2,
          4.1,
          3.8,
          3.4,
          3.4,
          3.8,
          3,
          3.3,
          3,
          4.1,
          3.7,
          3.7,
          3.2,
          4.3,
          4.2,
          4.2,
          4,
          4.3,
          4.1,
          3.1,
          3.9,
          4,
          3.9,
          3.7,
          3.9,
          4.3,
          4,
          4.3,
          4.1,
          3.8,
          3.2,
          3.5,
          4.1,
          4.3,
          4.1,
          4.1,
          3.4,
          4.3,
          4.3,
          3.3,
          4.3,
          2.6,
          4.1,
          4,
          4,
          4,
          3.8,
          3.5,
          4.2,
          4.1,
          4,
          3.9,
          4.6,
          4,
          3.4,
          3.2,
          3.7,
          4.2,
          4.2,
          4.2,
          3.7,
          3.3,
          3.6,
          3.8,
          4.1,
          3.7,
          3.4,
          4,
          4.1,
          4.3,
          4.1,
          3.8,
          3.5,
          3.2,
          4,
          3.8,
          4,
          3.5,
          4.7,
          4,
          4.1,
          4.4,
          3.7,
          3.6,
          3.1,
          4.1,
          3.7,
          3.9,
          3.6,
          3.4,
          3.9,
          4,
          3.9,
          3.4,
          3.9,
          4.1,
          3.8,
          3.8,
          3.9,
          3.8,
          4,
          3.7,
          3.5,
          4,
          3.7,
          4.1,
          3.8,
          4.2,
          3.8,
          3.7,
          3.4,
          3.8,
          4.3,
          4.2,
          3.7,
          3.9,
          3.8,
          3.7,
          2.9,
          4.2,
          4.1,
          3.9,
          4.1,
          4.2,
          3.8,
          3.9,
          3.8,
          4.3,
          3.4,
          3.9,
          4.3,
          3.4,
          3.4,
          3.9,
          4.1,
          4.1,
          4,
          4.1,
          3.9,
          3.7,
          3.8,
          3.5,
          3.8,
          4,
          3.8,
          4.2,
          3.4,
          4.2,
          3.1,
          4.4,
          4.3,
          3.7,
          3.4,
          4.1,
          3.3,
          3.8,
          4.2,
          4.3,
          3.6,
          4,
          3,
          4,
          3.9,
          3.9,
          4.1,
          4,
          3.7,
          3.8,
          3.8,
          3.6,
          3.9,
          3.8,
          3.5,
          4.1,
          3.2,
          3.3,
          4.3,
          4.2,
          3.8,
          3.8,
          3.9,
          3.9,
          3.8,
          3.5,
          3.9,
          3.7,
          4.2,
          3.7,
          4,
          3.8,
          3.6,
          4.2,
          3.6,
          3.6,
          4,
          3.8,
          3.9,
          3.6,
          3.8,
          3.9,
          4.3,
          3.5,
          4.1,
          4.2,
          3.7,
          3.9,
          4.2,
          3.6,
          4.1,
          4.3,
          3.8,
          4.3,
          3.8,
          4.2,
          4.2,
          3.6,
          4.1,
          3.6,
          4,
          4.2,
          4.1,
          3.7,
          3.9,
          3.8,
          4.1,
          4.1,
          4.2,
          3.9,
          4,
          4.3,
          3.2,
          3.7,
          4.1,
          4.2,
          3.7,
          3.8,
          4.1,
          3.8,
          4.1,
          3.9,
          3.9,
          4.4,
          3.7,
          3,
          4,
          3.8,
          4.3,
          3.9,
          3.7,
          4,
          2.6,
          4.5,
          4,
          3.4,
          3.7,
          3.6,
          3.6,
          4,
          4.3,
          3.8,
          4.2,
          4.3,
          3.6,
          4,
          3.1,
          3,
          3.8,
          4,
          3.6,
          4.4,
          3.6,
          3.6,
          4.3,
          4,
          4.4,
          3.7,
          4.2,
          4,
          3.1,
          3.6,
          4.2,
          3.4,
          4.3,
          4.2,
          4,
          3.8,
          4.2,
          3.8,
          3.9,
          3.7,
          4.2,
          3.2,
          4.2,
          4.3,
          2.9,
          2.6,
          4.2,
          3.3,
          4.2,
          4,
          4.7,
          3.6,
          3.9,
          3.8,
          3.8,
          3.7,
          3.5,
          4,
          4.5,
          4.3,
          4.1,
          4.1,
          3.7,
          3.2,
          4.1,
          3.1,
          3.9,
          3.8,
          4.3,
          3.7,
          4,
          4.3,
          3.6,
          4.1,
          3.9,
          3.1,
          4,
          2.5,
          3.6,
          3.5,
          3.7,
          3.1,
          3.8,
          3.6,
          3.8,
          3.4,
          3.5,
          4.2,
          3.8,
          4.2,
          4.2,
          4,
          3.7,
          3.7,
          3.8,
          3.5,
          3.6,
          4.3,
          4.3,
          3.5,
          3.1,
          4.1,
          4.2,
          3.9,
          3.9,
          4.3,
          4.1,
          3.3,
          3.9,
          3.5,
          3.9,
          3.7,
          4.2,
          4.4,
          4,
          3.2,
          3.4,
          3.3,
          4.3,
          4.1,
          4.3,
          3.8,
          4.3,
          4.3,
          4,
          4.1,
          3.4,
          3.8,
          3.7,
          3.5,
          4.3,
          4.4,
          4.1,
          4.1,
          4,
          4.4,
          3.7,
          3.3,
          3.7,
          3.7,
          3.6,
          3.9,
          3.8,
          3.9,
          4,
          3.4,
          3.1,
          4.1,
          4.4,
          3.6,
          3.7,
          3.8,
          4.2,
          3.2,
          4.3,
          3.8,
          4.3,
          4,
          4,
          3.8,
          3.6,
          3.2,
          4.1,
          4.2,
          3.8,
          3.9,
          2.9,
          4,
          3.6,
          4,
          4.1,
          4.5,
          3.5,
          4.1,
          3.5,
          3.4,
          3.9,
          3.4,
          4,
          4,
          4,
          3.6,
          2.6,
          3.9,
          3.7,
          4.3,
          3.3,
          3.7,
          3.7,
          3.9,
          3.5,
          3.5,
          4.4,
          3.9,
          3.4,
          4.2,
          3.9,
          3.3,
          3.4,
          3.8,
          3.9,
          3.9,
          4.4,
          4,
          4.2,
          3.9,
          3.9,
          3.8,
          3.5,
          3.2,
          4.4,
          3.7,
          3.7,
          3.8,
          3.7,
          4,
          4.2,
          3.5,
          4,
          4,
          4.4,
          4.2,
          4.2,
          3.6,
          3.7,
          4.3,
          3.7,
          3.1,
          3.6,
          4.3,
          4,
          4.3,
          4.1,
          3.5,
          4.2,
          3.5,
          3.6,
          3.9,
          3.6,
          3.9,
          3.3,
          3.9,
          3.6,
          4,
          3.8,
          3.3,
          4,
          4.1,
          4.1,
          3.8,
          4.2,
          3.9,
          3.9,
          4.1,
          2.4,
          3.9,
          4,
          4.4,
          3.8,
          3.9,
          3.5,
          4.1,
          4.4,
          3.8,
          4.1,
          4.4,
          3.4,
          4.3,
          4,
          4.1,
          3.6,
          3.9,
          3.6,
          3.9,
          4.2,
          4.3,
          3.8,
          3.4,
          3.3,
          3.3,
          3.9,
          3.9,
          3.4,
          4.3,
          3.1,
          3.7,
          3.8,
          4,
          4.1,
          4.2,
          3.7,
          3.8,
          3.9,
          4,
          2.9,
          4.1,
          3.4,
          3.5,
          3.5,
          4,
          3.5,
          3.9,
          4.1,
          4.1,
          3.7,
          3.9,
          3.2,
          3.9,
          3.7,
          4,
          3.9,
          2.6,
          3.6,
          4,
          4.1,
          4.5,
          3.6,
          3.7,
          4,
          4,
          3.8,
          4.1,
          4,
          4.4,
          4,
          3.9,
          4,
          4.3,
          4.1,
          3.9,
          3.7,
          3.8,
          3.6,
          4.2,
          4.7,
          5,
          3,
          3.5,
          3.1,
          4,
          4.1,
          4.1
         ],
         "xaxis": "x",
         "yaxis": "y"
        }
       ],
       "layout": {
        "barmode": "relative",
        "legend": {
         "tracegroupgap": 0
        },
        "template": {
         "data": {
          "bar": [
           {
            "error_x": {
             "color": "#2a3f5f"
            },
            "error_y": {
             "color": "#2a3f5f"
            },
            "marker": {
             "line": {
              "color": "#E5ECF6",
              "width": 0.5
             },
             "pattern": {
              "fillmode": "overlay",
              "size": 10,
              "solidity": 0.2
             }
            },
            "type": "bar"
           }
          ],
          "barpolar": [
           {
            "marker": {
             "line": {
              "color": "#E5ECF6",
              "width": 0.5
             },
             "pattern": {
              "fillmode": "overlay",
              "size": 10,
              "solidity": 0.2
             }
            },
            "type": "barpolar"
           }
          ],
          "carpet": [
           {
            "aaxis": {
             "endlinecolor": "#2a3f5f",
             "gridcolor": "white",
             "linecolor": "white",
             "minorgridcolor": "white",
             "startlinecolor": "#2a3f5f"
            },
            "baxis": {
             "endlinecolor": "#2a3f5f",
             "gridcolor": "white",
             "linecolor": "white",
             "minorgridcolor": "white",
             "startlinecolor": "#2a3f5f"
            },
            "type": "carpet"
           }
          ],
          "choropleth": [
           {
            "colorbar": {
             "outlinewidth": 0,
             "ticks": ""
            },
            "type": "choropleth"
           }
          ],
          "contour": [
           {
            "colorbar": {
             "outlinewidth": 0,
             "ticks": ""
            },
            "colorscale": [
             [
              0,
              "#0d0887"
             ],
             [
              0.1111111111111111,
              "#46039f"
             ],
             [
              0.2222222222222222,
              "#7201a8"
             ],
             [
              0.3333333333333333,
              "#9c179e"
             ],
             [
              0.4444444444444444,
              "#bd3786"
             ],
             [
              0.5555555555555556,
              "#d8576b"
             ],
             [
              0.6666666666666666,
              "#ed7953"
             ],
             [
              0.7777777777777778,
              "#fb9f3a"
             ],
             [
              0.8888888888888888,
              "#fdca26"
             ],
             [
              1,
              "#f0f921"
             ]
            ],
            "type": "contour"
           }
          ],
          "contourcarpet": [
           {
            "colorbar": {
             "outlinewidth": 0,
             "ticks": ""
            },
            "type": "contourcarpet"
           }
          ],
          "heatmap": [
           {
            "colorbar": {
             "outlinewidth": 0,
             "ticks": ""
            },
            "colorscale": [
             [
              0,
              "#0d0887"
             ],
             [
              0.1111111111111111,
              "#46039f"
             ],
             [
              0.2222222222222222,
              "#7201a8"
             ],
             [
              0.3333333333333333,
              "#9c179e"
             ],
             [
              0.4444444444444444,
              "#bd3786"
             ],
             [
              0.5555555555555556,
              "#d8576b"
             ],
             [
              0.6666666666666666,
              "#ed7953"
             ],
             [
              0.7777777777777778,
              "#fb9f3a"
             ],
             [
              0.8888888888888888,
              "#fdca26"
             ],
             [
              1,
              "#f0f921"
             ]
            ],
            "type": "heatmap"
           }
          ],
          "heatmapgl": [
           {
            "colorbar": {
             "outlinewidth": 0,
             "ticks": ""
            },
            "colorscale": [
             [
              0,
              "#0d0887"
             ],
             [
              0.1111111111111111,
              "#46039f"
             ],
             [
              0.2222222222222222,
              "#7201a8"
             ],
             [
              0.3333333333333333,
              "#9c179e"
             ],
             [
              0.4444444444444444,
              "#bd3786"
             ],
             [
              0.5555555555555556,
              "#d8576b"
             ],
             [
              0.6666666666666666,
              "#ed7953"
             ],
             [
              0.7777777777777778,
              "#fb9f3a"
             ],
             [
              0.8888888888888888,
              "#fdca26"
             ],
             [
              1,
              "#f0f921"
             ]
            ],
            "type": "heatmapgl"
           }
          ],
          "histogram": [
           {
            "marker": {
             "pattern": {
              "fillmode": "overlay",
              "size": 10,
              "solidity": 0.2
             }
            },
            "type": "histogram"
           }
          ],
          "histogram2d": [
           {
            "colorbar": {
             "outlinewidth": 0,
             "ticks": ""
            },
            "colorscale": [
             [
              0,
              "#0d0887"
             ],
             [
              0.1111111111111111,
              "#46039f"
             ],
             [
              0.2222222222222222,
              "#7201a8"
             ],
             [
              0.3333333333333333,
              "#9c179e"
             ],
             [
              0.4444444444444444,
              "#bd3786"
             ],
             [
              0.5555555555555556,
              "#d8576b"
             ],
             [
              0.6666666666666666,
              "#ed7953"
             ],
             [
              0.7777777777777778,
              "#fb9f3a"
             ],
             [
              0.8888888888888888,
              "#fdca26"
             ],
             [
              1,
              "#f0f921"
             ]
            ],
            "type": "histogram2d"
           }
          ],
          "histogram2dcontour": [
           {
            "colorbar": {
             "outlinewidth": 0,
             "ticks": ""
            },
            "colorscale": [
             [
              0,
              "#0d0887"
             ],
             [
              0.1111111111111111,
              "#46039f"
             ],
             [
              0.2222222222222222,
              "#7201a8"
             ],
             [
              0.3333333333333333,
              "#9c179e"
             ],
             [
              0.4444444444444444,
              "#bd3786"
             ],
             [
              0.5555555555555556,
              "#d8576b"
             ],
             [
              0.6666666666666666,
              "#ed7953"
             ],
             [
              0.7777777777777778,
              "#fb9f3a"
             ],
             [
              0.8888888888888888,
              "#fdca26"
             ],
             [
              1,
              "#f0f921"
             ]
            ],
            "type": "histogram2dcontour"
           }
          ],
          "mesh3d": [
           {
            "colorbar": {
             "outlinewidth": 0,
             "ticks": ""
            },
            "type": "mesh3d"
           }
          ],
          "parcoords": [
           {
            "line": {
             "colorbar": {
              "outlinewidth": 0,
              "ticks": ""
             }
            },
            "type": "parcoords"
           }
          ],
          "pie": [
           {
            "automargin": true,
            "type": "pie"
           }
          ],
          "scatter": [
           {
            "fillpattern": {
             "fillmode": "overlay",
             "size": 10,
             "solidity": 0.2
            },
            "type": "scatter"
           }
          ],
          "scatter3d": [
           {
            "line": {
             "colorbar": {
              "outlinewidth": 0,
              "ticks": ""
             }
            },
            "marker": {
             "colorbar": {
              "outlinewidth": 0,
              "ticks": ""
             }
            },
            "type": "scatter3d"
           }
          ],
          "scattercarpet": [
           {
            "marker": {
             "colorbar": {
              "outlinewidth": 0,
              "ticks": ""
             }
            },
            "type": "scattercarpet"
           }
          ],
          "scattergeo": [
           {
            "marker": {
             "colorbar": {
              "outlinewidth": 0,
              "ticks": ""
             }
            },
            "type": "scattergeo"
           }
          ],
          "scattergl": [
           {
            "marker": {
             "colorbar": {
              "outlinewidth": 0,
              "ticks": ""
             }
            },
            "type": "scattergl"
           }
          ],
          "scattermapbox": [
           {
            "marker": {
             "colorbar": {
              "outlinewidth": 0,
              "ticks": ""
             }
            },
            "type": "scattermapbox"
           }
          ],
          "scatterpolar": [
           {
            "marker": {
             "colorbar": {
              "outlinewidth": 0,
              "ticks": ""
             }
            },
            "type": "scatterpolar"
           }
          ],
          "scatterpolargl": [
           {
            "marker": {
             "colorbar": {
              "outlinewidth": 0,
              "ticks": ""
             }
            },
            "type": "scatterpolargl"
           }
          ],
          "scatterternary": [
           {
            "marker": {
             "colorbar": {
              "outlinewidth": 0,
              "ticks": ""
             }
            },
            "type": "scatterternary"
           }
          ],
          "surface": [
           {
            "colorbar": {
             "outlinewidth": 0,
             "ticks": ""
            },
            "colorscale": [
             [
              0,
              "#0d0887"
             ],
             [
              0.1111111111111111,
              "#46039f"
             ],
             [
              0.2222222222222222,
              "#7201a8"
             ],
             [
              0.3333333333333333,
              "#9c179e"
             ],
             [
              0.4444444444444444,
              "#bd3786"
             ],
             [
              0.5555555555555556,
              "#d8576b"
             ],
             [
              0.6666666666666666,
              "#ed7953"
             ],
             [
              0.7777777777777778,
              "#fb9f3a"
             ],
             [
              0.8888888888888888,
              "#fdca26"
             ],
             [
              1,
              "#f0f921"
             ]
            ],
            "type": "surface"
           }
          ],
          "table": [
           {
            "cells": {
             "fill": {
              "color": "#EBF0F8"
             },
             "line": {
              "color": "white"
             }
            },
            "header": {
             "fill": {
              "color": "#C8D4E3"
             },
             "line": {
              "color": "white"
             }
            },
            "type": "table"
           }
          ]
         },
         "layout": {
          "annotationdefaults": {
           "arrowcolor": "#2a3f5f",
           "arrowhead": 0,
           "arrowwidth": 1
          },
          "autotypenumbers": "strict",
          "coloraxis": {
           "colorbar": {
            "outlinewidth": 0,
            "ticks": ""
           }
          },
          "colorscale": {
           "diverging": [
            [
             0,
             "#8e0152"
            ],
            [
             0.1,
             "#c51b7d"
            ],
            [
             0.2,
             "#de77ae"
            ],
            [
             0.3,
             "#f1b6da"
            ],
            [
             0.4,
             "#fde0ef"
            ],
            [
             0.5,
             "#f7f7f7"
            ],
            [
             0.6,
             "#e6f5d0"
            ],
            [
             0.7,
             "#b8e186"
            ],
            [
             0.8,
             "#7fbc41"
            ],
            [
             0.9,
             "#4d9221"
            ],
            [
             1,
             "#276419"
            ]
           ],
           "sequential": [
            [
             0,
             "#0d0887"
            ],
            [
             0.1111111111111111,
             "#46039f"
            ],
            [
             0.2222222222222222,
             "#7201a8"
            ],
            [
             0.3333333333333333,
             "#9c179e"
            ],
            [
             0.4444444444444444,
             "#bd3786"
            ],
            [
             0.5555555555555556,
             "#d8576b"
            ],
            [
             0.6666666666666666,
             "#ed7953"
            ],
            [
             0.7777777777777778,
             "#fb9f3a"
            ],
            [
             0.8888888888888888,
             "#fdca26"
            ],
            [
             1,
             "#f0f921"
            ]
           ],
           "sequentialminus": [
            [
             0,
             "#0d0887"
            ],
            [
             0.1111111111111111,
             "#46039f"
            ],
            [
             0.2222222222222222,
             "#7201a8"
            ],
            [
             0.3333333333333333,
             "#9c179e"
            ],
            [
             0.4444444444444444,
             "#bd3786"
            ],
            [
             0.5555555555555556,
             "#d8576b"
            ],
            [
             0.6666666666666666,
             "#ed7953"
            ],
            [
             0.7777777777777778,
             "#fb9f3a"
            ],
            [
             0.8888888888888888,
             "#fdca26"
            ],
            [
             1,
             "#f0f921"
            ]
           ]
          },
          "colorway": [
           "#636efa",
           "#EF553B",
           "#00cc96",
           "#ab63fa",
           "#FFA15A",
           "#19d3f3",
           "#FF6692",
           "#B6E880",
           "#FF97FF",
           "#FECB52"
          ],
          "font": {
           "color": "#2a3f5f"
          },
          "geo": {
           "bgcolor": "white",
           "lakecolor": "white",
           "landcolor": "#E5ECF6",
           "showlakes": true,
           "showland": true,
           "subunitcolor": "white"
          },
          "hoverlabel": {
           "align": "left"
          },
          "hovermode": "closest",
          "mapbox": {
           "style": "light"
          },
          "paper_bgcolor": "white",
          "plot_bgcolor": "#E5ECF6",
          "polar": {
           "angularaxis": {
            "gridcolor": "white",
            "linecolor": "white",
            "ticks": ""
           },
           "bgcolor": "#E5ECF6",
           "radialaxis": {
            "gridcolor": "white",
            "linecolor": "white",
            "ticks": ""
           }
          },
          "scene": {
           "xaxis": {
            "backgroundcolor": "#E5ECF6",
            "gridcolor": "white",
            "gridwidth": 2,
            "linecolor": "white",
            "showbackground": true,
            "ticks": "",
            "zerolinecolor": "white"
           },
           "yaxis": {
            "backgroundcolor": "#E5ECF6",
            "gridcolor": "white",
            "gridwidth": 2,
            "linecolor": "white",
            "showbackground": true,
            "ticks": "",
            "zerolinecolor": "white"
           },
           "zaxis": {
            "backgroundcolor": "#E5ECF6",
            "gridcolor": "white",
            "gridwidth": 2,
            "linecolor": "white",
            "showbackground": true,
            "ticks": "",
            "zerolinecolor": "white"
           }
          },
          "shapedefaults": {
           "line": {
            "color": "#2a3f5f"
           }
          },
          "ternary": {
           "aaxis": {
            "gridcolor": "white",
            "linecolor": "white",
            "ticks": ""
           },
           "baxis": {
            "gridcolor": "white",
            "linecolor": "white",
            "ticks": ""
           },
           "bgcolor": "#E5ECF6",
           "caxis": {
            "gridcolor": "white",
            "linecolor": "white",
            "ticks": ""
           }
          },
          "title": {
           "x": 0.05
          },
          "xaxis": {
           "automargin": true,
           "gridcolor": "white",
           "linecolor": "white",
           "ticks": "",
           "title": {
            "standoff": 15
           },
           "zerolinecolor": "white",
           "zerolinewidth": 2
          },
          "yaxis": {
           "automargin": true,
           "gridcolor": "white",
           "linecolor": "white",
           "ticks": "",
           "title": {
            "standoff": 15
           },
           "zerolinecolor": "white",
           "zerolinewidth": 2
          }
         }
        },
        "title": {
         "text": "Histograma de Ratings"
        },
        "width": 600,
        "xaxis": {
         "anchor": "y",
         "domain": [
          0,
          1
         ],
         "title": {
          "text": "avg_rating"
         }
        },
        "yaxis": {
         "anchor": "x",
         "domain": [
          0,
          1
         ],
         "title": {
          "text": "count"
         }
        }
       }
      }
     },
     "metadata": {},
     "output_type": "display_data"
    }
   ],
   "source": [
    "fig = px.histogram(df_maps_restaurantes.query(\"name == 'Subway'\"), x='avg_rating', title=\"Histograma de Ratings\")\n",
    "\n",
    "fig.update_layout(width=600)"
   ]
  }
 ],
 "metadata": {
  "kernelspec": {
   "display_name": ".venv10",
   "language": "python",
   "name": "python3"
  },
  "language_info": {
   "codemirror_mode": {
    "name": "ipython",
    "version": 3
   },
   "file_extension": ".py",
   "mimetype": "text/x-python",
   "name": "python",
   "nbconvert_exporter": "python",
   "pygments_lexer": "ipython3",
   "version": "3.10.11"
  }
 },
 "nbformat": 4,
 "nbformat_minor": 2
}
